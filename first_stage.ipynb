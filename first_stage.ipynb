{
 "cells": [
  {
   "cell_type": "code",
   "execution_count": 1,
   "id": "2d4614c5",
   "metadata": {},
   "outputs": [],
   "source": [
    "using CSV, Tables"
   ]
  },
  {
   "cell_type": "code",
   "execution_count": 2,
   "id": "168f0f96",
   "metadata": {},
   "outputs": [
    {
     "data": {
      "text/plain": [
       "\"data/\""
      ]
     },
     "execution_count": 2,
     "metadata": {},
     "output_type": "execute_result"
    }
   ],
   "source": [
    "path = \"data/\""
   ]
  },
  {
   "cell_type": "code",
   "execution_count": 3,
   "id": "72dae68d",
   "metadata": {},
   "outputs": [],
   "source": [
    "train_data = CSV.File(string(path, \"atoms-train.csv\"); header=false, delim=\"\\t\", quotechar=' ') |> Tables.matrix;\n",
    "test_data = CSV.File(string(path, \"atoms-test.csv\"); header=false, delim=\"\\t\", quotechar=' ') |> Tables.matrix;"
   ]
  },
  {
   "cell_type": "code",
   "execution_count": 4,
   "id": "c9b0fb38",
   "metadata": {},
   "outputs": [
    {
     "data": {
      "text/plain": [
       "\"PROPN\""
      ]
     },
     "execution_count": 4,
     "metadata": {},
     "output_type": "execute_result"
    }
   ],
   "source": [
    "train_data[6, 19]"
   ]
  },
  {
   "cell_type": "markdown",
   "id": "8c48b9f7",
   "metadata": {},
   "source": [
    "3 - pos  \n",
    "4 - tag  \n",
    "5 - dep  \n",
    "7 - head pos  \n",
    "8- head tag  \n",
    "9 - head dep  \n",
    "20 - pos in previous word"
   ]
  },
  {
   "cell_type": "code",
   "execution_count": 5,
   "id": "5e3f6811",
   "metadata": {},
   "outputs": [],
   "source": [
    "# redundant_cols = [2, 6, 15, 16, 26];\n",
    "features = [3, 4, 5, 7, 8, 9, 20]\n",
    "# features = [3, 4, 5, 9, 20]\n",
    "# cols = [i for i in 2:26 if (i in redundant_cols)];"
   ]
  },
  {
   "cell_type": "code",
   "execution_count": 6,
   "id": "2bad7422",
   "metadata": {},
   "outputs": [],
   "source": [
    "X_train = train_data[:, features]\n",
    "y_train = train_data[:, 1]\n",
    "X_test = test_data[:, features]\n",
    "y_test = test_data[:, 1];"
   ]
  },
  {
   "cell_type": "code",
   "execution_count": 7,
   "id": "803caffb",
   "metadata": {},
   "outputs": [
    {
     "data": {
      "text/plain": [
       "MersenneTwister(123)"
      ]
     },
     "execution_count": 7,
     "metadata": {},
     "output_type": "execute_result"
    }
   ],
   "source": [
    "using Random\n",
    "Random.seed!(123)"
   ]
  },
  {
   "cell_type": "code",
   "execution_count": 8,
   "id": "b3847d58",
   "metadata": {},
   "outputs": [],
   "source": [
    "using DataFrames"
   ]
  },
  {
   "cell_type": "code",
   "execution_count": 9,
   "id": "308e88fb",
   "metadata": {},
   "outputs": [
    {
     "data": {
      "text/plain": [
       "one_hot (generic function with 1 method)"
      ]
     },
     "execution_count": 9,
     "metadata": {},
     "output_type": "execute_result"
    }
   ],
   "source": [
    "function one_hot(df, col, uniques)\n",
    "    if length(uniques) == 0\n",
    "        ux = unique(df[!, col])\n",
    "    else\n",
    "        ux = uniques\n",
    "    end\n",
    "    df = transform(df, @. \"$col\" => ByRow(isequal(ux)) .=> Symbol(\"$(col)_\", ux))\n",
    "    if length(uniques) == 0\n",
    "        return df, ux\n",
    "    else\n",
    "        return df\n",
    "    end\n",
    "end"
   ]
  },
  {
   "cell_type": "code",
   "execution_count": 10,
   "id": "a5178bd9",
   "metadata": {},
   "outputs": [],
   "source": [
    "train = DataFrame(X_train, :auto);\n",
    "rename!(train, [1 => :pos, 2 => :tag, 3 => :dep, 4 => :head_pos, \n",
    "             5 => :head_tag, 6 => :head_dep, 7 => :pos_prev])\n",
    "uniques = Dict()\n",
    "for column in names(train)\n",
    "    train, unique = one_hot(train, column, [])\n",
    "    uniques[column] = unique\n",
    "end\n",
    "features = [i for i in range(8, stop=size(train)[2])];\n",
    "train = train[!, features];"
   ]
  },
  {
   "cell_type": "code",
   "execution_count": 11,
   "id": "fbca9384",
   "metadata": {},
   "outputs": [],
   "source": [
    "test = DataFrame(X_test, :auto);\n",
    "rename!(test, [1 => :pos, 2 => :tag, 3 => :dep, 4 => :head_pos, \n",
    "             5 => :head_tag, 6 => :head_dep, 7 => :pos_prev]);"
   ]
  },
  {
   "cell_type": "code",
   "execution_count": 12,
   "id": "47a54eaf",
   "metadata": {},
   "outputs": [],
   "source": [
    "for column in names(test)\n",
    "    test = one_hot(test, column, uniques[column])\n",
    "end"
   ]
  },
  {
   "cell_type": "code",
   "execution_count": 13,
   "id": "d40c7192",
   "metadata": {},
   "outputs": [],
   "source": [
    "test = test[!, features];"
   ]
  },
  {
   "cell_type": "code",
   "execution_count": 14,
   "id": "94ac3708",
   "metadata": {},
   "outputs": [],
   "source": [
    "X_train = Matrix(train);\n",
    "X_test = Matrix(test);"
   ]
  },
  {
   "cell_type": "code",
   "execution_count": 15,
   "id": "eb6a792f",
   "metadata": {},
   "outputs": [],
   "source": [
    "using DecisionTree"
   ]
  },
  {
   "cell_type": "code",
   "execution_count": 16,
   "id": "c32b86d2",
   "metadata": {
    "scrolled": false
   },
   "outputs": [
    {
     "data": {
      "text/plain": [
       "DecisionTreeClassifier\n",
       "max_depth:                -1\n",
       "min_samples_leaf:         1\n",
       "min_samples_split:        2\n",
       "min_purity_increase:      0.0\n",
       "pruning_purity_threshold: 1.0\n",
       "n_subfeatures:            0\n",
       "classes:                  nothing\n",
       "root:                     nothing"
      ]
     },
     "execution_count": 16,
     "metadata": {},
     "output_type": "execute_result"
    }
   ],
   "source": [
    "model = DecisionTreeClassifier()"
   ]
  },
  {
   "cell_type": "code",
   "execution_count": 17,
   "id": "ff166715",
   "metadata": {},
   "outputs": [],
   "source": [
    "replace!(X_train, missing => \"None\")\n",
    "replace!(X_test, missing => \"None\");"
   ]
  },
  {
   "cell_type": "code",
   "execution_count": 18,
   "id": "61943636",
   "metadata": {
    "scrolled": true
   },
   "outputs": [
    {
     "data": {
      "text/plain": [
       "DecisionTreeClassifier\n",
       "max_depth:                -1\n",
       "min_samples_leaf:         1\n",
       "min_samples_split:        2\n",
       "min_purity_increase:      0.0\n",
       "pruning_purity_threshold: 1.0\n",
       "n_subfeatures:            0\n",
       "classes:                  Any[\"B\", \"C\", \"J\", \"M\", \"P\", \"T\", \"X\"]\n",
       "root:                     Decision Tree\n",
       "Leaves: 252\n",
       "Depth:  30"
      ]
     },
     "execution_count": 18,
     "metadata": {},
     "output_type": "execute_result"
    }
   ],
   "source": [
    "fit!(model, X_train, y_train)"
   ]
  },
  {
   "cell_type": "code",
   "execution_count": 19,
   "id": "18b2ead6",
   "metadata": {},
   "outputs": [
    {
     "data": {
      "text/plain": [
       "0.9457120377655389"
      ]
     },
     "execution_count": 19,
     "metadata": {},
     "output_type": "execute_result"
    }
   ],
   "source": [
    "using Statistics\n",
    "accuracy(x, y, model) = mean(predict(model, x) .== y)\n",
    "accuracy(X_test, y_test, model)"
   ]
  },
  {
   "cell_type": "code",
   "execution_count": 20,
   "id": "19f7d974",
   "metadata": {},
   "outputs": [
    {
     "data": {
      "text/plain": [
       "0.9908966772872099"
      ]
     },
     "execution_count": 20,
     "metadata": {},
     "output_type": "execute_result"
    }
   ],
   "source": [
    "accuracy(X_train, y_train, model)"
   ]
  },
  {
   "cell_type": "code",
   "execution_count": 21,
   "id": "667f06d3",
   "metadata": {},
   "outputs": [
    {
     "data": {
      "text/plain": [
       "5-element Vector{Int64}:\n",
       "  3\n",
       "  4\n",
       "  5\n",
       "  9\n",
       " 20"
      ]
     },
     "execution_count": 21,
     "metadata": {},
     "output_type": "execute_result"
    }
   ],
   "source": [
    "features = [3, 4, 5, 9, 20]"
   ]
  },
  {
   "cell_type": "code",
   "execution_count": 22,
   "id": "3b52c010",
   "metadata": {},
   "outputs": [],
   "source": [
    "X_train = train_data[:, features]\n",
    "X_test = test_data[:, features];"
   ]
  },
  {
   "cell_type": "code",
   "execution_count": 23,
   "id": "b47cff0e",
   "metadata": {},
   "outputs": [],
   "source": [
    "train = DataFrame(X_train, :auto);\n",
    "rename!(train, [1 => :pos, 2 => :tag, 3 => :dep, 4 => :head_dep, 5 => :pos_prev])\n",
    "uniques = Dict()\n",
    "for column in names(train)\n",
    "    train, unique = one_hot(train, column, [])\n",
    "    uniques[column] = unique\n",
    "end\n",
    "features = [i for i in range(6, stop=size(train)[2])];\n",
    "train = train[!, features];"
   ]
  },
  {
   "cell_type": "code",
   "execution_count": 24,
   "id": "bfb8eda9",
   "metadata": {},
   "outputs": [],
   "source": [
    "test = DataFrame(X_test, :auto);\n",
    "rename!(test, [1 => :pos, 2 => :tag, 3 => :dep, 4 => :head_dep, 5 => :pos_prev]);"
   ]
  },
  {
   "cell_type": "code",
   "execution_count": 25,
   "id": "0cfb2510",
   "metadata": {},
   "outputs": [],
   "source": [
    "for column in names(test)\n",
    "    test = one_hot(test, column, uniques[column])\n",
    "end"
   ]
  },
  {
   "cell_type": "code",
   "execution_count": 26,
   "id": "1919104a",
   "metadata": {},
   "outputs": [],
   "source": [
    "test = test[!, features];"
   ]
  },
  {
   "cell_type": "code",
   "execution_count": 27,
   "id": "f286f9b9",
   "metadata": {},
   "outputs": [],
   "source": [
    "X_train = Matrix(train);\n",
    "X_test = Matrix(test);"
   ]
  },
  {
   "cell_type": "code",
   "execution_count": 33,
   "id": "44a36b26",
   "metadata": {
    "scrolled": false
   },
   "outputs": [
    {
     "data": {
      "text/plain": [
       "DecisionTreeClassifier\n",
       "max_depth:                15\n",
       "min_samples_leaf:         1\n",
       "min_samples_split:        2\n",
       "min_purity_increase:      0.0\n",
       "pruning_purity_threshold: 1.0\n",
       "n_subfeatures:            0\n",
       "classes:                  nothing\n",
       "root:                     nothing"
      ]
     },
     "execution_count": 33,
     "metadata": {},
     "output_type": "execute_result"
    }
   ],
   "source": [
    "model = DecisionTreeClassifier(max_depth=15)"
   ]
  },
  {
   "cell_type": "code",
   "execution_count": 34,
   "id": "60d3c5ee",
   "metadata": {},
   "outputs": [],
   "source": [
    "replace!(X_train, missing => \"None\")\n",
    "replace!(X_test, missing => \"None\");"
   ]
  },
  {
   "cell_type": "code",
   "execution_count": 35,
   "id": "fd93cc5f",
   "metadata": {
    "scrolled": true
   },
   "outputs": [
    {
     "data": {
      "text/plain": [
       "DecisionTreeClassifier\n",
       "max_depth:                15\n",
       "min_samples_leaf:         1\n",
       "min_samples_split:        2\n",
       "min_purity_increase:      0.0\n",
       "pruning_purity_threshold: 1.0\n",
       "n_subfeatures:            0\n",
       "classes:                  Any[\"B\", \"C\", \"J\", \"M\", \"P\", \"T\", \"X\"]\n",
       "root:                     Decision Tree\n",
       "Leaves: 166\n",
       "Depth:  15"
      ]
     },
     "execution_count": 35,
     "metadata": {},
     "output_type": "execute_result"
    }
   ],
   "source": [
    "fit!(model, X_train, y_train)"
   ]
  },
  {
   "cell_type": "code",
   "execution_count": 36,
   "id": "785886c9",
   "metadata": {},
   "outputs": [
    {
     "data": {
      "text/plain": [
       "0.9461054287962234"
      ]
     },
     "execution_count": 36,
     "metadata": {},
     "output_type": "execute_result"
    }
   ],
   "source": [
    "using Statistics\n",
    "accuracy(x, y, model) = mean(predict(model, x) .== y)\n",
    "accuracy(X_test, y_test, model)"
   ]
  },
  {
   "cell_type": "code",
   "execution_count": 37,
   "id": "9af3c5ac",
   "metadata": {},
   "outputs": [
    {
     "data": {
      "text/plain": [
       "0.9733727810650887"
      ]
     },
     "execution_count": 37,
     "metadata": {},
     "output_type": "execute_result"
    }
   ],
   "source": [
    "accuracy(X_train, y_train, model)"
   ]
  },
  {
   "cell_type": "code",
   "execution_count": 38,
   "id": "87f3c342",
   "metadata": {},
   "outputs": [
    {
     "data": {
      "text/plain": [
       "RandomForestClassifier\n",
       "n_trees:             100\n",
       "n_subfeatures:       -1\n",
       "partial_sampling:    0.7\n",
       "max_depth:           -1\n",
       "min_samples_leaf:    1\n",
       "min_samples_split:   2\n",
       "min_purity_increase: 0.0\n",
       "classes:             Any[\"B\", \"C\", \"J\", \"M\", \"P\", \"T\", \"X\"]\n",
       "ensemble:            Ensemble of Decision Trees\n",
       "Trees:      100\n",
       "Avg Leaves: 353.41\n",
       "Avg Depth:  36.83"
      ]
     },
     "execution_count": 38,
     "metadata": {},
     "output_type": "execute_result"
    }
   ],
   "source": [
    "rf = RandomForestClassifier(n_trees=100)\n",
    "fit!(rf, X_train, y_train)"
   ]
  },
  {
   "cell_type": "code",
   "execution_count": 39,
   "id": "532a7ebf",
   "metadata": {},
   "outputs": [
    {
     "data": {
      "text/plain": [
       "0.9492525570416994"
      ]
     },
     "execution_count": 39,
     "metadata": {},
     "output_type": "execute_result"
    }
   ],
   "source": [
    "accuracy(X_test, y_test, rf)"
   ]
  },
  {
   "cell_type": "code",
   "execution_count": 40,
   "id": "9d8e8e35",
   "metadata": {},
   "outputs": [
    {
     "data": {
      "text/plain": [
       "0.9733727810650887"
      ]
     },
     "execution_count": 40,
     "metadata": {},
     "output_type": "execute_result"
    }
   ],
   "source": [
    "accuracy(X_train, y_train, model)"
   ]
  },
  {
   "cell_type": "code",
   "execution_count": 93,
   "id": "820dbec4",
   "metadata": {},
   "outputs": [
    {
     "name": "stdout",
     "output_type": "stream",
     "text": [
      "[\"dep_punct\", \"tag_IN\", \"pos_NOUN\", \"pos_VERB\", \"dep_cc\"]\n"
     ]
    }
   ],
   "source": [
    "c = [75, 27, 2, 5, 73]\n",
    "println(names(train)[c])"
   ]
  },
  {
   "cell_type": "code",
   "execution_count": 94,
   "id": "1458c306",
   "metadata": {},
   "outputs": [
    {
     "name": "stdout",
     "output_type": "stream",
     "text": [
      "Feature 75, Threshold true\n",
      "L-> Feature 27, Threshold true\n",
      "    L-> Feature 2, Threshold true\n",
      "        L-> Feature 5, Threshold true\n",
      "            L-> Feature 73, Threshold true\n",
      "                L-> \n",
      "                R-> J : 141/141\n",
      "            R-> Feature 24, Threshold true\n",
      "                L-> \n",
      "                R-> M : 37/37\n",
      "        R-> Feature 116, Threshold true\n",
      "            L-> Feature 78, Threshold true\n",
      "                L-> \n",
      "                R-> M : 3/3\n",
      "            R-> Feature 150, Threshold true\n",
      "                L-> C : 1/1\n",
      "                R-> \n",
      "    R-> Feature 111, Threshold true\n",
      "        L-> Feature 110, Threshold true\n",
      "            L-> Feature 107, Threshold true\n",
      "                L-> \n",
      "                R-> \n",
      "            R-> Feature 147, Threshold true\n",
      "                L-> B : 24/24\n",
      "                R-> B : 16/18\n",
      "        R-> Feature 146, Threshold true\n",
      "            L-> Feature 152, Threshold true\n",
      "                L-> \n",
      "                R-> B : 11/13\n",
      "            R-> B : 1/2\n",
      "R-> Feature 108, Threshold true\n",
      "    L-> Feature 40, Threshold true\n",
      "        L-> Feature 9, Threshold true\n",
      "            L-> Feature 57, Threshold true\n",
      "                L-> \n",
      "                R-> \n",
      "            R-> Feature 53, Threshold true\n",
      "                L-> \n",
      "                R-> \n",
      "        R-> Feature 117, Threshold true\n",
      "            L-> Feature 144, Threshold true\n",
      "                L-> \n",
      "                R-> \n",
      "            R-> J : 2/2\n",
      "    R-> Feature 9, Threshold true\n",
      "        L-> Feature 157, Threshold true\n",
      "            L-> Feature 57, Threshold true\n",
      "                L-> X : 3/3\n",
      "                R-> B : 1/1\n",
      "            R-> M : 1/1\n",
      "        R-> Feature 151, Threshold true\n",
      "            L-> Feature 38, Threshold true\n",
      "                L-> \n",
      "                R-> \n",
      "            R-> X : 175/175\n"
     ]
    }
   ],
   "source": [
    "print_tree(model, 5)"
   ]
  },
  {
   "cell_type": "code",
   "execution_count": 98,
   "id": "9dee153f",
   "metadata": {},
   "outputs": [],
   "source": [
    "using BSON"
   ]
  },
  {
   "cell_type": "code",
   "execution_count": 102,
   "id": "9e8af335",
   "metadata": {},
   "outputs": [],
   "source": [
    "BSON.@save \"models/model_dt.bson\" model uniques"
   ]
  },
  {
   "cell_type": "code",
   "execution_count": 103,
   "id": "ee0cbb00",
   "metadata": {},
   "outputs": [],
   "source": [
    "BSON.@save \"models/model_rf.bson\" rf uniques"
   ]
  },
  {
   "cell_type": "code",
   "execution_count": null,
   "id": "1ba0dabe",
   "metadata": {},
   "outputs": [],
   "source": []
  }
 ],
 "metadata": {
  "kernelspec": {
   "display_name": "Julia 1.6.1",
   "language": "julia",
   "name": "julia-1.6"
  },
  "language_info": {
   "file_extension": ".jl",
   "mimetype": "application/julia",
   "name": "julia",
   "version": "1.6.1"
  }
 },
 "nbformat": 4,
 "nbformat_minor": 5
}
