{
 "cells": [
  {
   "cell_type": "code",
   "execution_count": 25,
   "id": "2d4614c5",
   "metadata": {},
   "outputs": [],
   "source": [
    "using CSV, Tables"
   ]
  },
  {
   "cell_type": "code",
   "execution_count": 26,
   "id": "168f0f96",
   "metadata": {},
   "outputs": [
    {
     "data": {
      "text/plain": [
       "\"data/\""
      ]
     },
     "execution_count": 26,
     "metadata": {},
     "output_type": "execute_result"
    }
   ],
   "source": [
    "path = \"data/\""
   ]
  },
  {
   "cell_type": "code",
   "execution_count": 27,
   "id": "5de530aa",
   "metadata": {},
   "outputs": [
    {
     "name": "stderr",
     "output_type": "stream",
     "text": [
      "┌ Warning: thread = 1 warning: parsed expected 26 columns, but didn't reach end of line around data row: 68. Ignoring any extra columns on this row\n",
      "└ @ CSV /home/fmordarski/.julia/packages/CSV/Zl2ww/src/file.jl:613\n",
      "┌ Warning: thread = 1 warning: only found 14 / 26 columns around data row: 69. Filling remaining columns with `missing`\n",
      "└ @ CSV /home/fmordarski/.julia/packages/CSV/Zl2ww/src/file.jl:612\n",
      "┌ Warning: thread = 1 warning: only found 25 / 26 columns around data row: 70. Filling remaining columns with `missing`\n",
      "└ @ CSV /home/fmordarski/.julia/packages/CSV/Zl2ww/src/file.jl:612\n",
      "┌ Warning: thread = 1 warning: only found 14 / 26 columns around data row: 71. Filling remaining columns with `missing`\n",
      "└ @ CSV /home/fmordarski/.julia/packages/CSV/Zl2ww/src/file.jl:612\n",
      "┌ Warning: thread = 1 warning: parsed expected 26 columns, but didn't reach end of line around data row: 72. Ignoring any extra columns on this row\n",
      "└ @ CSV /home/fmordarski/.julia/packages/CSV/Zl2ww/src/file.jl:613\n",
      "┌ Warning: thread = 1 warning: parsed expected 26 columns, but didn't reach end of line around data row: 83. Ignoring any extra columns on this row\n",
      "└ @ CSV /home/fmordarski/.julia/packages/CSV/Zl2ww/src/file.jl:613\n",
      "┌ Warning: thread = 1 warning: parsed expected 26 columns, but didn't reach end of line around data row: 202. Ignoring any extra columns on this row\n",
      "└ @ CSV /home/fmordarski/.julia/packages/CSV/Zl2ww/src/file.jl:613\n",
      "┌ Warning: thread = 1 warning: parsed expected 26 columns, but didn't reach end of line around data row: 203. Ignoring any extra columns on this row\n",
      "└ @ CSV /home/fmordarski/.julia/packages/CSV/Zl2ww/src/file.jl:613\n",
      "┌ Warning: thread = 1 warning: parsed expected 26 columns, but didn't reach end of line around data row: 548. Ignoring any extra columns on this row\n",
      "└ @ CSV /home/fmordarski/.julia/packages/CSV/Zl2ww/src/file.jl:613\n",
      "┌ Warning: thread = 1 warning: parsed expected 26 columns, but didn't reach end of line around data row: 553. Ignoring any extra columns on this row\n",
      "└ @ CSV /home/fmordarski/.julia/packages/CSV/Zl2ww/src/file.jl:613\n",
      "┌ Warning: thread = 1 warning: parsed expected 26 columns, but didn't reach end of line around data row: 700. Ignoring any extra columns on this row\n",
      "└ @ CSV /home/fmordarski/.julia/packages/CSV/Zl2ww/src/file.jl:613\n",
      "┌ Warning: thread = 1 warning: parsed expected 26 columns, but didn't reach end of line around data row: 706. Ignoring any extra columns on this row\n",
      "└ @ CSV /home/fmordarski/.julia/packages/CSV/Zl2ww/src/file.jl:613\n",
      "┌ Warning: thread = 1 warning: only found 14 / 26 columns around data row: 798. Filling remaining columns with `missing`\n",
      "└ @ CSV /home/fmordarski/.julia/packages/CSV/Zl2ww/src/file.jl:612\n",
      "┌ Warning: thread = 1 warning: only found 25 / 26 columns around data row: 799. Filling remaining columns with `missing`\n",
      "└ @ CSV /home/fmordarski/.julia/packages/CSV/Zl2ww/src/file.jl:612\n",
      "┌ Warning: thread = 1 warning: only found 14 / 26 columns around data row: 800. Filling remaining columns with `missing`\n",
      "└ @ CSV /home/fmordarski/.julia/packages/CSV/Zl2ww/src/file.jl:612\n",
      "┌ Warning: thread = 1 warning: only found 25 / 26 columns around data row: 801. Filling remaining columns with `missing`\n",
      "└ @ CSV /home/fmordarski/.julia/packages/CSV/Zl2ww/src/file.jl:612\n",
      "┌ Warning: thread = 1 warning: only found 14 / 26 columns around data row: 802. Filling remaining columns with `missing`\n",
      "└ @ CSV /home/fmordarski/.julia/packages/CSV/Zl2ww/src/file.jl:612\n",
      "┌ Warning: thread = 1 warning: only found 25 / 26 columns around data row: 803. Filling remaining columns with `missing`\n",
      "└ @ CSV /home/fmordarski/.julia/packages/CSV/Zl2ww/src/file.jl:612\n",
      "┌ Warning: thread = 1 warning: only found 14 / 26 columns around data row: 804. Filling remaining columns with `missing`\n",
      "└ @ CSV /home/fmordarski/.julia/packages/CSV/Zl2ww/src/file.jl:612\n",
      "┌ Warning: thread = 1 warning: parsed expected 26 columns, but didn't reach end of line around data row: 805. Ignoring any extra columns on this row\n",
      "└ @ CSV /home/fmordarski/.julia/packages/CSV/Zl2ww/src/file.jl:613\n",
      "┌ Warning: thread = 1 warning: only found 14 / 26 columns around data row: 1017. Filling remaining columns with `missing`\n",
      "└ @ CSV /home/fmordarski/.julia/packages/CSV/Zl2ww/src/file.jl:612\n",
      "┌ Warning: thread = 1 warning: only found 25 / 26 columns around data row: 1018. Filling remaining columns with `missing`\n",
      "└ @ CSV /home/fmordarski/.julia/packages/CSV/Zl2ww/src/file.jl:612\n",
      "┌ Warning: thread = 1 warning: only found 14 / 26 columns around data row: 1019. Filling remaining columns with `missing`\n",
      "└ @ CSV /home/fmordarski/.julia/packages/CSV/Zl2ww/src/file.jl:612\n",
      "┌ Warning: thread = 1 warning: only found 14 / 26 columns around data row: 1076. Filling remaining columns with `missing`\n",
      "└ @ CSV /home/fmordarski/.julia/packages/CSV/Zl2ww/src/file.jl:612\n",
      "┌ Warning: thread = 1 warning: parsed expected 26 columns, but didn't reach end of line around data row: 1077. Ignoring any extra columns on this row\n",
      "└ @ CSV /home/fmordarski/.julia/packages/CSV/Zl2ww/src/file.jl:613\n",
      "┌ Warning: thread = 1 warning: parsed expected 26 columns, but didn't reach end of line around data row: 1083. Ignoring any extra columns on this row\n",
      "└ @ CSV /home/fmordarski/.julia/packages/CSV/Zl2ww/src/file.jl:613\n",
      "┌ Warning: thread = 1 warning: only found 14 / 26 columns around data row: 1084. Filling remaining columns with `missing`\n",
      "└ @ CSV /home/fmordarski/.julia/packages/CSV/Zl2ww/src/file.jl:612\n",
      "┌ Warning: thread = 1 warning: only found 25 / 26 columns around data row: 1085. Filling remaining columns with `missing`\n",
      "└ @ CSV /home/fmordarski/.julia/packages/CSV/Zl2ww/src/file.jl:612\n",
      "┌ Warning: thread = 1 warning: only found 14 / 26 columns around data row: 1086. Filling remaining columns with `missing`\n",
      "└ @ CSV /home/fmordarski/.julia/packages/CSV/Zl2ww/src/file.jl:612\n",
      "┌ Warning: thread = 1 warning: parsed expected 26 columns, but didn't reach end of line around data row: 1087. Ignoring any extra columns on this row\n",
      "└ @ CSV /home/fmordarski/.julia/packages/CSV/Zl2ww/src/file.jl:613\n",
      "┌ Warning: thread = 1 warning: parsed expected 26 columns, but didn't reach end of line around data row: 1092. Ignoring any extra columns on this row\n",
      "└ @ CSV /home/fmordarski/.julia/packages/CSV/Zl2ww/src/file.jl:613\n",
      "┌ Warning: thread = 1 warning: only found 14 / 26 columns around data row: 1093. Filling remaining columns with `missing`\n",
      "└ @ CSV /home/fmordarski/.julia/packages/CSV/Zl2ww/src/file.jl:612\n",
      "┌ Warning: thread = 1 warning: only found 25 / 26 columns around data row: 1094. Filling remaining columns with `missing`\n",
      "└ @ CSV /home/fmordarski/.julia/packages/CSV/Zl2ww/src/file.jl:612\n",
      "┌ Warning: thread = 1 warning: only found 14 / 26 columns around data row: 1095. Filling remaining columns with `missing`\n",
      "└ @ CSV /home/fmordarski/.julia/packages/CSV/Zl2ww/src/file.jl:612\n",
      "┌ Warning: thread = 1 warning: parsed expected 26 columns, but didn't reach end of line around data row: 1096. Ignoring any extra columns on this row\n",
      "└ @ CSV /home/fmordarski/.julia/packages/CSV/Zl2ww/src/file.jl:613\n",
      "┌ Warning: thread = 1 warning: parsed expected 26 columns, but didn't reach end of line around data row: 1118. Ignoring any extra columns on this row\n",
      "└ @ CSV /home/fmordarski/.julia/packages/CSV/Zl2ww/src/file.jl:613\n",
      "┌ Warning: thread = 1 warning: parsed expected 26 columns, but didn't reach end of line around data row: 1121. Ignoring any extra columns on this row\n",
      "└ @ CSV /home/fmordarski/.julia/packages/CSV/Zl2ww/src/file.jl:613\n",
      "┌ Warning: thread = 1 warning: parsed expected 26 columns, but didn't reach end of line around data row: 1290. Ignoring any extra columns on this row\n",
      "└ @ CSV /home/fmordarski/.julia/packages/CSV/Zl2ww/src/file.jl:613\n",
      "┌ Warning: thread = 1 warning: parsed expected 26 columns, but didn't reach end of line around data row: 1293. Ignoring any extra columns on this row\n",
      "└ @ CSV /home/fmordarski/.julia/packages/CSV/Zl2ww/src/file.jl:613\n",
      "┌ Warning: thread = 1 warning: parsed expected 26 columns, but didn't reach end of line around data row: 1506. Ignoring any extra columns on this row\n",
      "└ @ CSV /home/fmordarski/.julia/packages/CSV/Zl2ww/src/file.jl:613\n",
      "┌ Warning: thread = 1 warning: parsed expected 26 columns, but didn't reach end of line around data row: 1685. Ignoring any extra columns on this row\n",
      "└ @ CSV /home/fmordarski/.julia/packages/CSV/Zl2ww/src/file.jl:613\n",
      "┌ Warning: thread = 1 warning: parsed expected 26 columns, but didn't reach end of line around data row: 1722. Ignoring any extra columns on this row\n",
      "└ @ CSV /home/fmordarski/.julia/packages/CSV/Zl2ww/src/file.jl:613\n",
      "┌ Warning: thread = 1 warning: parsed expected 26 columns, but didn't reach end of line around data row: 1728. Ignoring any extra columns on this row\n",
      "└ @ CSV /home/fmordarski/.julia/packages/CSV/Zl2ww/src/file.jl:613\n",
      "┌ Warning: thread = 1 warning: parsed expected 26 columns, but didn't reach end of line around data row: 1989. Ignoring any extra columns on this row\n",
      "└ @ CSV /home/fmordarski/.julia/packages/CSV/Zl2ww/src/file.jl:613\n",
      "┌ Warning: thread = 1 warning: parsed expected 26 columns, but didn't reach end of line around data row: 1990. Ignoring any extra columns on this row\n",
      "└ @ CSV /home/fmordarski/.julia/packages/CSV/Zl2ww/src/file.jl:613\n",
      "┌ Warning: thread = 1 warning: parsed expected 26 columns, but didn't reach end of line around data row: 364. Ignoring any extra columns on this row\n",
      "└ @ CSV /home/fmordarski/.julia/packages/CSV/Zl2ww/src/file.jl:613\n",
      "┌ Warning: thread = 1 warning: parsed expected 26 columns, but didn't reach end of line around data row: 372. Ignoring any extra columns on this row\n",
      "└ @ CSV /home/fmordarski/.julia/packages/CSV/Zl2ww/src/file.jl:613\n",
      "┌ Warning: thread = 1 warning: parsed expected 26 columns, but didn't reach end of line around data row: 756. Ignoring any extra columns on this row\n",
      "└ @ CSV /home/fmordarski/.julia/packages/CSV/Zl2ww/src/file.jl:613\n",
      "┌ Warning: thread = 1 warning: parsed expected 26 columns, but didn't reach end of line around data row: 763. Ignoring any extra columns on this row\n",
      "└ @ CSV /home/fmordarski/.julia/packages/CSV/Zl2ww/src/file.jl:613\n",
      "┌ Warning: thread = 1 warning: only found 14 / 26 columns around data row: 764. Filling remaining columns with `missing`\n",
      "└ @ CSV /home/fmordarski/.julia/packages/CSV/Zl2ww/src/file.jl:612\n"
     ]
    },
    {
     "name": "stderr",
     "output_type": "stream",
     "text": [
      "┌ Warning: thread = 1 warning: only found 25 / 26 columns around data row: 765. Filling remaining columns with `missing`\n",
      "└ @ CSV /home/fmordarski/.julia/packages/CSV/Zl2ww/src/file.jl:612\n",
      "┌ Warning: thread = 1 warning: only found 14 / 26 columns around data row: 766. Filling remaining columns with `missing`\n",
      "└ @ CSV /home/fmordarski/.julia/packages/CSV/Zl2ww/src/file.jl:612\n",
      "┌ Warning: thread = 1 warning: only found 25 / 26 columns around data row: 767. Filling remaining columns with `missing`\n",
      "└ @ CSV /home/fmordarski/.julia/packages/CSV/Zl2ww/src/file.jl:612\n",
      "┌ Warning: thread = 1 warning: only found 14 / 26 columns around data row: 768. Filling remaining columns with `missing`\n",
      "└ @ CSV /home/fmordarski/.julia/packages/CSV/Zl2ww/src/file.jl:612\n",
      "┌ Warning: thread = 1 warning: only found 25 / 26 columns around data row: 769. Filling remaining columns with `missing`\n",
      "└ @ CSV /home/fmordarski/.julia/packages/CSV/Zl2ww/src/file.jl:612\n",
      "┌ Warning: thread = 1 warning: only found 14 / 26 columns around data row: 770. Filling remaining columns with `missing`\n",
      "└ @ CSV /home/fmordarski/.julia/packages/CSV/Zl2ww/src/file.jl:612\n",
      "┌ Warning: thread = 1 warning: only found 25 / 26 columns around data row: 771. Filling remaining columns with `missing`\n",
      "└ @ CSV /home/fmordarski/.julia/packages/CSV/Zl2ww/src/file.jl:612\n",
      "┌ Warning: thread = 1 warning: only found 14 / 26 columns around data row: 772. Filling remaining columns with `missing`\n",
      "└ @ CSV /home/fmordarski/.julia/packages/CSV/Zl2ww/src/file.jl:612\n",
      "┌ Warning: thread = 1 warning: only found 25 / 26 columns around data row: 773. Filling remaining columns with `missing`\n",
      "└ @ CSV /home/fmordarski/.julia/packages/CSV/Zl2ww/src/file.jl:612\n",
      "┌ Warning: thread = 1 warning: only found 14 / 26 columns around data row: 774. Filling remaining columns with `missing`\n",
      "└ @ CSV /home/fmordarski/.julia/packages/CSV/Zl2ww/src/file.jl:612\n",
      "┌ Warning: thread = 1 warning: only found 25 / 26 columns around data row: 775. Filling remaining columns with `missing`\n",
      "└ @ CSV /home/fmordarski/.julia/packages/CSV/Zl2ww/src/file.jl:612\n",
      "┌ Warning: thread = 1 warning: only found 14 / 26 columns around data row: 776. Filling remaining columns with `missing`\n",
      "└ @ CSV /home/fmordarski/.julia/packages/CSV/Zl2ww/src/file.jl:612\n",
      "┌ Warning: thread = 1 warning: only found 25 / 26 columns around data row: 777. Filling remaining columns with `missing`\n",
      "└ @ CSV /home/fmordarski/.julia/packages/CSV/Zl2ww/src/file.jl:612\n",
      "┌ Warning: thread = 1 warning: only found 14 / 26 columns around data row: 778. Filling remaining columns with `missing`\n",
      "└ @ CSV /home/fmordarski/.julia/packages/CSV/Zl2ww/src/file.jl:612\n",
      "┌ Warning: thread = 1 warning: only found 25 / 26 columns around data row: 779. Filling remaining columns with `missing`\n",
      "└ @ CSV /home/fmordarski/.julia/packages/CSV/Zl2ww/src/file.jl:612\n",
      "┌ Warning: thread = 1 warning: only found 14 / 26 columns around data row: 780. Filling remaining columns with `missing`\n",
      "└ @ CSV /home/fmordarski/.julia/packages/CSV/Zl2ww/src/file.jl:612\n",
      "┌ Warning: thread = 1 warning: only found 25 / 26 columns around data row: 781. Filling remaining columns with `missing`\n",
      "└ @ CSV /home/fmordarski/.julia/packages/CSV/Zl2ww/src/file.jl:612\n",
      "┌ Warning: thread = 1 warning: only found 14 / 26 columns around data row: 782. Filling remaining columns with `missing`\n",
      "└ @ CSV /home/fmordarski/.julia/packages/CSV/Zl2ww/src/file.jl:612\n",
      "┌ Warning: thread = 1 warning: parsed expected 26 columns, but didn't reach end of line around data row: 783. Ignoring any extra columns on this row\n",
      "└ @ CSV /home/fmordarski/.julia/packages/CSV/Zl2ww/src/file.jl:613\n",
      "┌ Warning: thread = 1 warning: parsed expected 26 columns, but didn't reach end of line around data row: 789. Ignoring any extra columns on this row\n",
      "└ @ CSV /home/fmordarski/.julia/packages/CSV/Zl2ww/src/file.jl:613\n",
      "┌ Warning: thread = 1 warning: only found 14 / 26 columns around data row: 790. Filling remaining columns with `missing`\n",
      "└ @ CSV /home/fmordarski/.julia/packages/CSV/Zl2ww/src/file.jl:612\n",
      "┌ Warning: thread = 1 warning: parsed expected 26 columns, but didn't reach end of line around data row: 804. Ignoring any extra columns on this row\n",
      "└ @ CSV /home/fmordarski/.julia/packages/CSV/Zl2ww/src/file.jl:613\n",
      "┌ Warning: thread = 1 warning: parsed expected 26 columns, but didn't reach end of line around data row: 953. Ignoring any extra columns on this row\n",
      "└ @ CSV /home/fmordarski/.julia/packages/CSV/Zl2ww/src/file.jl:613\n",
      "┌ Warning: thread = 1 warning: parsed expected 26 columns, but didn't reach end of line around data row: 985. Ignoring any extra columns on this row\n",
      "└ @ CSV /home/fmordarski/.julia/packages/CSV/Zl2ww/src/file.jl:613\n"
     ]
    }
   ],
   "source": [
    "train_data = CSV.File(string(path, \"atoms-train.csv\"), header=false) |> Tables.matrix;\n",
    "test_data = CSV.File(string(path, \"atoms-test.csv\"), header=false) |> Tables.matrix;"
   ]
  },
  {
   "cell_type": "code",
   "execution_count": 28,
   "id": "c9b0fb38",
   "metadata": {},
   "outputs": [
    {
     "data": {
      "text/plain": [
       "\"PROPN\""
      ]
     },
     "execution_count": 28,
     "metadata": {},
     "output_type": "execute_result"
    }
   ],
   "source": [
    "train_data[6, 19]"
   ]
  },
  {
   "cell_type": "markdown",
   "id": "8c48b9f7",
   "metadata": {},
   "source": [
    "3 - pos  \n",
    "4 - tag  \n",
    "5 - dep  \n",
    "7 - head pos  \n",
    "8- head tag  \n",
    "9 - head dep  \n",
    "20 - pos in previous word"
   ]
  },
  {
   "cell_type": "code",
   "execution_count": 29,
   "id": "5e3f6811",
   "metadata": {},
   "outputs": [],
   "source": [
    "# redundant_cols = [2, 6, 15, 16, 26];\n",
    "features = [3, 4, 5, 7, 8, 9, 20]\n",
    "# features = [3, 4, 5, 9, 20]\n",
    "# cols = [i for i in 2:26 if (i in redundant_cols)];"
   ]
  },
  {
   "cell_type": "code",
   "execution_count": 30,
   "id": "2bad7422",
   "metadata": {},
   "outputs": [],
   "source": [
    "X_train = train_data[:, features]\n",
    "y_train = train_data[:, 1]\n",
    "X_test = test_data[:, features]\n",
    "y_test = test_data[:, 1];"
   ]
  },
  {
   "cell_type": "code",
   "execution_count": 31,
   "id": "eb6a792f",
   "metadata": {},
   "outputs": [],
   "source": [
    "using DecisionTree"
   ]
  },
  {
   "cell_type": "code",
   "execution_count": 32,
   "id": "c32b86d2",
   "metadata": {
    "scrolled": false
   },
   "outputs": [
    {
     "data": {
      "text/plain": [
       "DecisionTreeClassifier\n",
       "max_depth:                -1\n",
       "min_samples_leaf:         1\n",
       "min_samples_split:        2\n",
       "min_purity_increase:      0.0\n",
       "pruning_purity_threshold: 1.0\n",
       "n_subfeatures:            0\n",
       "classes:                  nothing\n",
       "root:                     nothing"
      ]
     },
     "execution_count": 32,
     "metadata": {},
     "output_type": "execute_result"
    }
   ],
   "source": [
    "model = DecisionTreeClassifier()"
   ]
  },
  {
   "cell_type": "code",
   "execution_count": 33,
   "id": "ff166715",
   "metadata": {},
   "outputs": [],
   "source": [
    "replace!(X_train, missing => \"None\")\n",
    "replace!(X_test, missing => \"None\");"
   ]
  },
  {
   "cell_type": "code",
   "execution_count": 34,
   "id": "61943636",
   "metadata": {
    "scrolled": true
   },
   "outputs": [
    {
     "data": {
      "text/plain": [
       "DecisionTreeClassifier\n",
       "max_depth:                -1\n",
       "min_samples_leaf:         1\n",
       "min_samples_split:        2\n",
       "min_purity_increase:      0.0\n",
       "pruning_purity_threshold: 1.0\n",
       "n_subfeatures:            0\n",
       "classes:                  Union{Missing, String}[\"B\", \"C\", \"J\", \"M\", \"P\", \"T\", \"X\"]\n",
       "root:                     Decision Tree\n",
       "Leaves: 172\n",
       "Depth:  17"
      ]
     },
     "execution_count": 34,
     "metadata": {},
     "output_type": "execute_result"
    }
   ],
   "source": [
    "fit!(model, X_train, y_train)"
   ]
  },
  {
   "cell_type": "code",
   "execution_count": 35,
   "id": "18b2ead6",
   "metadata": {},
   "outputs": [
    {
     "data": {
      "text/plain": [
       "0.9215851602023609"
      ]
     },
     "execution_count": 35,
     "metadata": {},
     "output_type": "execute_result"
    }
   ],
   "source": [
    "using Statistics\n",
    "accuracy(x, y, model) = mean(predict(model, x) .== y)\n",
    "accuracy(X_test, y_test, model)"
   ]
  },
  {
   "cell_type": "code",
   "execution_count": 36,
   "id": "667f06d3",
   "metadata": {},
   "outputs": [
    {
     "data": {
      "text/plain": [
       "5-element Vector{Int64}:\n",
       "  3\n",
       "  4\n",
       "  5\n",
       "  9\n",
       " 20"
      ]
     },
     "execution_count": 36,
     "metadata": {},
     "output_type": "execute_result"
    }
   ],
   "source": [
    "features = [3, 4, 5, 9, 20]"
   ]
  },
  {
   "cell_type": "code",
   "execution_count": 37,
   "id": "5da600e0",
   "metadata": {},
   "outputs": [],
   "source": [
    "X_train = train_data[:, features]\n",
    "X_test = test_data[:, features];"
   ]
  },
  {
   "cell_type": "code",
   "execution_count": 38,
   "id": "44a36b26",
   "metadata": {
    "scrolled": false
   },
   "outputs": [
    {
     "data": {
      "text/plain": [
       "DecisionTreeClassifier\n",
       "max_depth:                10\n",
       "min_samples_leaf:         1\n",
       "min_samples_split:        2\n",
       "min_purity_increase:      0.0\n",
       "pruning_purity_threshold: 1.0\n",
       "n_subfeatures:            0\n",
       "classes:                  nothing\n",
       "root:                     nothing"
      ]
     },
     "execution_count": 38,
     "metadata": {},
     "output_type": "execute_result"
    }
   ],
   "source": [
    "model = DecisionTreeClassifier(max_depth=10)"
   ]
  },
  {
   "cell_type": "code",
   "execution_count": 39,
   "id": "60d3c5ee",
   "metadata": {},
   "outputs": [],
   "source": [
    "replace!(X_train, missing => \"None\")\n",
    "replace!(X_test, missing => \"None\");"
   ]
  },
  {
   "cell_type": "code",
   "execution_count": 40,
   "id": "fd93cc5f",
   "metadata": {
    "scrolled": true
   },
   "outputs": [
    {
     "data": {
      "text/plain": [
       "DecisionTreeClassifier\n",
       "max_depth:                10\n",
       "min_samples_leaf:         1\n",
       "min_samples_split:        2\n",
       "min_purity_increase:      0.0\n",
       "pruning_purity_threshold: 1.0\n",
       "n_subfeatures:            0\n",
       "classes:                  Union{Missing, String}[\"B\", \"C\", \"J\", \"M\", \"P\", \"T\", \"X\"]\n",
       "root:                     Decision Tree\n",
       "Leaves: 143\n",
       "Depth:  10"
      ]
     },
     "execution_count": 40,
     "metadata": {},
     "output_type": "execute_result"
    }
   ],
   "source": [
    "fit!(model, X_train, y_train)"
   ]
  },
  {
   "cell_type": "code",
   "execution_count": 41,
   "id": "785886c9",
   "metadata": {},
   "outputs": [
    {
     "data": {
      "text/plain": [
       "0.9367622259696459"
      ]
     },
     "execution_count": 41,
     "metadata": {},
     "output_type": "execute_result"
    }
   ],
   "source": [
    "using Statistics\n",
    "accuracy(x, y, model) = mean(predict(model, x) .== y)\n",
    "accuracy(X_test, y_test, model)"
   ]
  },
  {
   "cell_type": "code",
   "execution_count": 42,
   "id": "87f3c342",
   "metadata": {},
   "outputs": [
    {
     "data": {
      "text/plain": [
       "RandomForestClassifier\n",
       "n_trees:             100\n",
       "n_subfeatures:       -1\n",
       "partial_sampling:    0.7\n",
       "max_depth:           10\n",
       "min_samples_leaf:    1\n",
       "min_samples_split:   2\n",
       "min_purity_increase: 0.0\n",
       "classes:             Union{Missing, String}[\"B\", \"C\", \"J\", \"M\", \"P\", \"T\", \"X\"]\n",
       "ensemble:            Ensemble of Decision Trees\n",
       "Trees:      100\n",
       "Avg Leaves: 122.84\n",
       "Avg Depth:  10.0"
      ]
     },
     "execution_count": 42,
     "metadata": {},
     "output_type": "execute_result"
    }
   ],
   "source": [
    "rf = RandomForestClassifier(max_depth=10, n_trees=100)\n",
    "fit!(rf, X_train, y_train)"
   ]
  },
  {
   "cell_type": "code",
   "execution_count": 43,
   "id": "532a7ebf",
   "metadata": {},
   "outputs": [
    {
     "data": {
      "text/plain": [
       "0.9342327150084317"
      ]
     },
     "execution_count": 43,
     "metadata": {},
     "output_type": "execute_result"
    }
   ],
   "source": [
    "accuracy(X_test, y_test, rf)"
   ]
  },
  {
   "cell_type": "code",
   "execution_count": 62,
   "id": "1458c306",
   "metadata": {},
   "outputs": [
    {
     "name": "stdout",
     "output_type": "stream",
     "text": [
      "Feature 3, Threshold prep\n",
      "L-> Feature 1, Threshold INTJ\n",
      "    L-> Feature 2, Threshold DT\n",
      "        L-> Feature 3, Threshold cc\n",
      "            L-> M : 1/1\n",
      "            R-> J : 58/58\n",
      "        R-> Feature 3, Threshold advmod\n",
      "            L-> \n",
      "            R-> \n",
      "    R-> Feature 1, Threshold SCONJ\n",
      "        L-> Feature 2, Threshold RB\n",
      "            L-> \n",
      "            R-> \n",
      "        R-> Feature 2, Threshold VB\n",
      "            L-> \n",
      "            R-> \n",
      "R-> Feature 3, Threshold punct\n",
      "    L-> Feature 4, Threshold dobj\n",
      "        L-> Feature 3, Threshold prt\n",
      "            L-> \n",
      "            R-> M : 5/5\n",
      "        R-> Feature 4, Threshold prep\n",
      "            L-> \n",
      "            R-> \n",
      "    R-> Feature 3, Threshold quantmod\n",
      "        L-> Feature 2, Threshold HYPH\n",
      "            L-> \n",
      "            R-> \n",
      "        R-> Feature 3, Threshold relcl\n",
      "            L-> \n",
      "            R-> P : 45/45\n"
     ]
    }
   ],
   "source": [
    "print_tree(model, 4)"
   ]
  },
  {
   "cell_type": "code",
   "execution_count": 44,
   "id": "9dee153f",
   "metadata": {},
   "outputs": [],
   "source": [
    "using BSON"
   ]
  },
  {
   "cell_type": "code",
   "execution_count": 45,
   "id": "9e8af335",
   "metadata": {},
   "outputs": [],
   "source": [
    "BSON.@save \"models/model_dt.bson\" model"
   ]
  },
  {
   "cell_type": "code",
   "execution_count": 46,
   "id": "ee0cbb00",
   "metadata": {},
   "outputs": [],
   "source": [
    "BSON.@save \"models/model_rf.bson\" rf"
   ]
  }
 ],
 "metadata": {
  "kernelspec": {
   "display_name": "Julia 1.6.1",
   "language": "julia",
   "name": "julia-1.6"
  },
  "language_info": {
   "file_extension": ".jl",
   "mimetype": "application/julia",
   "name": "julia",
   "version": "1.6.1"
  }
 },
 "nbformat": 4,
 "nbformat_minor": 5
}
