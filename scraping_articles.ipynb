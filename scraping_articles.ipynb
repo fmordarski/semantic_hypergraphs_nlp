{
 "cells": [
  {
   "cell_type": "code",
   "execution_count": 1,
   "id": "c97c9a36",
   "metadata": {},
   "outputs": [],
   "source": [
    "using HTTP, Gumbo"
   ]
  },
  {
   "cell_type": "code",
   "execution_count": 2,
   "id": "2ea5d728",
   "metadata": {},
   "outputs": [],
   "source": [
    "r = HTTP.get(\"https://www.investing.com/news/forex-news\");"
   ]
  },
  {
   "cell_type": "code",
   "execution_count": 3,
   "id": "c22e4a9f",
   "metadata": {},
   "outputs": [],
   "source": [
    "r_parsed = parsehtml(String(r.body));"
   ]
  },
  {
   "cell_type": "code",
   "execution_count": 4,
   "id": "2c8b82c9",
   "metadata": {},
   "outputs": [],
   "source": [
    "body = r_parsed.root[2];"
   ]
  },
  {
   "cell_type": "code",
   "execution_count": 5,
   "id": "2a239285",
   "metadata": {},
   "outputs": [
    {
     "data": {
      "text/plain": [
       "Any[]"
      ]
     },
     "execution_count": 5,
     "metadata": {},
     "output_type": "execute_result"
    }
   ],
   "source": [
    "articles = []"
   ]
  },
  {
   "cell_type": "code",
   "execution_count": 6,
   "id": "0719fc82",
   "metadata": {
    "scrolled": true
   },
   "outputs": [],
   "source": [
    "for article in body[7][4][6].children\n",
    "    text = article[2][1][1].text\n",
    "    if !occursin(\".initSlot\", text)\n",
    "        append!(articles, [text])\n",
    "    end\n",
    "end"
   ]
  },
  {
   "cell_type": "code",
   "execution_count": 7,
   "id": "5e8ea538",
   "metadata": {},
   "outputs": [],
   "source": [
    "for i in 1:100\n",
    "    r = HTTP.get(\"https://www.investing.com/news/forex-news/$i\")\n",
    "    r_parsed = parsehtml(String(r.body))\n",
    "    body = r_parsed.root[2]\n",
    "    for article in body[7][4][6].children\n",
    "        text = article[2][1][1].text\n",
    "        if !occursin(\".initSlot\", text)\n",
    "            append!(articles, [text])\n",
    "        end\n",
    "    end\n",
    "end"
   ]
  },
  {
   "cell_type": "code",
   "execution_count": 8,
   "id": "a0851c33",
   "metadata": {},
   "outputs": [
    {
     "data": {
      "text/plain": [
       "1753-element Vector{Any}:\n",
       " \"Dollar dips but shows biggest weekly gain in almost 3 months\"\n",
       " \"EURJPY Price Penetrates \\$131 Level Downside, Targeting \\$130 Level\"\n",
       " \"Column: Far from debasement, dollar hits overdrive\"\n",
       " \"Dollar Edges Lower; Remains Near 16-Month High\"\n",
       " \"NZ dollar drops below 70 level\"\n",
       " \"Dollar Near 16-Month High on Rates Hike Bets\"\n",
       " \"Dollar climbs after hot U.S. inflation; euro dips\"\n",
       " \"U.S. Dollar Continues to Gain Following Wednesday's Inflation Data \"\n",
       " \"De-Banking Crypto Traders Is More Sinister And Anti-Competitive -Aussie Senator Bragg\"\n",
       " \"Euro US Dollar (EUR/USD) Exchange Rate Hits Low as USD Soars\"\n",
       " \"Dollar Climbs to 2021 Highs; U.S. CPI Points to Early Fed Hikes\"\n",
       " \"Aussie dips below 73 on soft jobs report\"\n",
       " \"Dollar Up, Boosted by Highest U.S. Inflation in a Generation\"\n",
       " ⋮\n",
       " \"Threat to Dollar’s Global Supremacy Revived by EU Stimulus Deal\"\n",
       " \"Euro Rises to Nearly 19-Month High on Historical EU Fiscal Package\"\n",
       " \"Euro Is Turning Into ‘Credible’ Safe Haven After EU Rescue Deal\"\n",
       " \"Forex - Dollar Drops; Euro, Sterling Gain on Summit Agreement\"\n",
       " \"Negative Rates Lose Out to Zero Cost of Money in Opening Wallets\"\n",
       " \"EU progress and vaccine hopes keep pressure on dollar\"\n",
       " \"Dollar Retreats Over Renewed Hopes for COVID-19 Vaccine\"\n",
       " \"Forex - Euro Climbs on EU Recovery Fund Optimism\"\n",
       " \"Euro jumps to four-month peak on hints of progress in debt talks\"\n",
       " \"Dollar Up, With Investors Anticipating Fresh U.S. Stimulus Measures\"\n",
       " \"Iran's rial hits new low on unofficial market; virus, sanctions weigh\"\n",
       " \"Dollar Set for Fourth-Weekly Slump as Surging Virus Cases Cast Doubt on Recovery\""
      ]
     },
     "execution_count": 8,
     "metadata": {},
     "output_type": "execute_result"
    }
   ],
   "source": [
    "articles"
   ]
  },
  {
   "cell_type": "code",
   "execution_count": 9,
   "id": "6dfc46f1",
   "metadata": {},
   "outputs": [],
   "source": [
    "using BSON\n",
    "BSON.@save \"articles.bson\" articles"
   ]
  }
 ],
 "metadata": {
  "kernelspec": {
   "display_name": "Julia 1.6.1",
   "language": "julia",
   "name": "julia-1.6"
  },
  "language_info": {
   "file_extension": ".jl",
   "mimetype": "application/julia",
   "name": "julia",
   "version": "1.6.1"
  }
 },
 "nbformat": 4,
 "nbformat_minor": 5
}
