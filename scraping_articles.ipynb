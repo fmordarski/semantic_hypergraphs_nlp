{
 "cells": [
  {
   "cell_type": "code",
   "execution_count": 1,
   "id": "c97c9a36",
   "metadata": {},
   "outputs": [
    {
     "name": "stderr",
     "output_type": "stream",
     "text": [
      "┌ Info: Precompiling Gumbo [708ec375-b3d6-5a57-a7ce-8257bf98657a]\n",
      "└ @ Base loading.jl:1317\n"
     ]
    }
   ],
   "source": [
    "using HTTP, Gumbo"
   ]
  },
  {
   "cell_type": "code",
   "execution_count": 2,
   "id": "2ea5d728",
   "metadata": {},
   "outputs": [],
   "source": [
    "r = HTTP.get(\"https://www.investing.com/news/forex-news\");"
   ]
  },
  {
   "cell_type": "code",
   "execution_count": 3,
   "id": "c22e4a9f",
   "metadata": {},
   "outputs": [],
   "source": [
    "r_parsed = parsehtml(String(r.body));"
   ]
  },
  {
   "cell_type": "code",
   "execution_count": 4,
   "id": "2c8b82c9",
   "metadata": {},
   "outputs": [],
   "source": [
    "body = r_parsed.root[2];"
   ]
  },
  {
   "cell_type": "code",
   "execution_count": 40,
   "id": "2a239285",
   "metadata": {},
   "outputs": [
    {
     "data": {
      "text/plain": [
       "Any[]"
      ]
     },
     "execution_count": 40,
     "metadata": {},
     "output_type": "execute_result"
    }
   ],
   "source": [
    "articles = []"
   ]
  },
  {
   "cell_type": "code",
   "execution_count": 41,
   "id": "0719fc82",
   "metadata": {
    "scrolled": true
   },
   "outputs": [],
   "source": [
    "for article in body[9][4][6].children\n",
    "    text = article[2][1][1].text\n",
    "    if !occursin(\".initSlot\", text)\n",
    "        append!(articles, [text])\n",
    "    end\n",
    "end"
   ]
  },
  {
   "cell_type": "code",
   "execution_count": 42,
   "id": "6b4c39b0",
   "metadata": {},
   "outputs": [
    {
     "data": {
      "text/plain": [
       "50-element Vector{Nothing}:\n",
       " nothing\n",
       " nothing\n",
       " nothing\n",
       " nothing\n",
       " nothing\n",
       " nothing\n",
       " nothing\n",
       " nothing\n",
       " nothing\n",
       " nothing\n",
       " nothing\n",
       " nothing\n",
       " nothing\n",
       " ⋮\n",
       " nothing\n",
       " nothing\n",
       " nothing\n",
       " nothing\n",
       " nothing\n",
       " nothing\n",
       " nothing\n",
       " nothing\n",
       " nothing\n",
       " nothing\n",
       " nothing\n",
       " nothing"
      ]
     },
     "execution_count": 42,
     "metadata": {},
     "output_type": "execute_result"
    }
   ],
   "source": [
    "asyncmap(1:50;ntasks=10) do n\n",
    "    r = HTTP.get(\"https://www.investing.com/news/forex-news/$n\", readtimeout=10)\n",
    "    r_parsed = parsehtml(String(r.body))\n",
    "    body = r_parsed.root[2]\n",
    "    for article in body[9][4][6].children\n",
    "        text = article[2][1][1].text\n",
    "        if !occursin(\".initSlot\", text)\n",
    "            append!(articles, [text])\n",
    "        end\n",
    "    end\n",
    "end"
   ]
  },
  {
   "cell_type": "code",
   "execution_count": 44,
   "id": "f6c7166f",
   "metadata": {},
   "outputs": [
    {
     "data": {
      "text/plain": [
       "903-element Vector{Any}:\n",
       " \"Dollar slips, euro gains as market awaits U.S. CPI data\"\n",
       " \"USDCHF lower but pair remains stuck in the mud\"\n",
       " \"Aussie rises as risk appetite rises\"\n",
       " \"GBPUSD working on its 3rd day higher but the going is relatively slow\"\n",
       " \"EURUSD remains relatively contained although higher on the day\"\n",
       " \"Dollar Edges Lower; Tight Range Ahead of Inflaton Data\"\n",
       " \"Kazakh state sells \\$1.3 billion worth of foreign currency in domestic market in Jan\"\n",
       " \"AUD/USD nudges to two-week high as dollar slips on the day\"\n",
       " \"Dollar Down as Investors Await U.S. Inflation Data\"\n",
       " \"ForexLive Asia FX news wrap: EUR/USD slides a few points\"\n",
       " \"Canadian dollar weakens as oil rally loses momentum\"\n",
       " \"Dollar, euro trade sideways after ECB pushback\"\n",
       " \"Lending data from China is due soon - record new yuan loans expected\"\n",
       " ⋮\n",
       " \"Dollar advances as Fed minutes open door to future taper talks\"\n",
       " \"Dollar Steadies Near Multi-Month Lows; Fed Minutes Loom\"\n",
       " \"GBP/USD Hits 3-Month High but Return of Brexit Boogeyman Will Cap Gains\"\n",
       " \"Dollar slides to 2-1/2 month low as Fed rate hike fears subside\"\n",
       " \"Canadian exporters rejig currency hedges as commodities boom\"\n",
       " \"Dollar Weakens as Fed Officials Point to Lower for Longer\"\n",
       " \"Dollar Down as Investors Bet on U.S. Interest Rates Staying Lower for Longer\"\n",
       " \"Gold Up, Reaches Three-and-a-Half Month High Over Weaker Dollar, Inflation Worries\"\n",
       " \"Dollar inches lower as Treasury yields hold firm\"\n",
       " \"Hungary Takes Pole Position for EU’s First Rate Hike of 2021\"\n",
       " \"Dollar Edges Higher; Covid Cases Rise in Asia\"\n",
       " \"Dollar Up Over Asian COVID-19 Outbreak Worries, But Investors Prepping for Fall\""
      ]
     },
     "execution_count": 44,
     "metadata": {},
     "output_type": "execute_result"
    }
   ],
   "source": [
    "articles"
   ]
  },
  {
   "cell_type": "code",
   "execution_count": 7,
   "id": "5e8ea538",
   "metadata": {},
   "outputs": [],
   "source": [
    "# for i in 1:100\n",
    "#     r = HTTP.get(\"https://www.investing.com/news/forex-news/$i\")\n",
    "#     r_parsed = parsehtml(String(r.body))\n",
    "#     body = r_parsed.root[2]\n",
    "#     for article in body[7][4][6].children\n",
    "#         text = article[2][1][1].text\n",
    "#         if !occursin(\".initSlot\", text)\n",
    "#             append!(articles, [text])\n",
    "#         end\n",
    "#     end\n",
    "# end"
   ]
  },
  {
   "cell_type": "code",
   "execution_count": 45,
   "id": "6dfc46f1",
   "metadata": {},
   "outputs": [],
   "source": [
    "using BSON\n",
    "BSON.@save \"articles_short.bson\" articles"
   ]
  }
 ],
 "metadata": {
  "kernelspec": {
   "display_name": "Julia 1.6.1",
   "language": "julia",
   "name": "julia-1.6"
  },
  "language_info": {
   "file_extension": ".jl",
   "mimetype": "application/julia",
   "name": "julia",
   "version": "1.6.1"
  }
 },
 "nbformat": 4,
 "nbformat_minor": 5
}
