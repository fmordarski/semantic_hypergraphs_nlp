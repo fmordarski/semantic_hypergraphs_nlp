{
 "cells": [
  {
   "cell_type": "code",
   "execution_count": 15,
   "id": "c97c9a36",
   "metadata": {},
   "outputs": [],
   "source": [
    "using HTTP, Gumbo"
   ]
  },
  {
   "cell_type": "code",
   "execution_count": 16,
   "id": "2ea5d728",
   "metadata": {},
   "outputs": [],
   "source": [
    "r = HTTP.get(\"https://www.investing.com/news/forex-news\");"
   ]
  },
  {
   "cell_type": "code",
   "execution_count": 17,
   "id": "c22e4a9f",
   "metadata": {},
   "outputs": [],
   "source": [
    "r_parsed = parsehtml(String(r.body));"
   ]
  },
  {
   "cell_type": "code",
   "execution_count": 18,
   "id": "2c8b82c9",
   "metadata": {},
   "outputs": [],
   "source": [
    "body = r_parsed.root[2];"
   ]
  },
  {
   "cell_type": "code",
   "execution_count": 19,
   "id": "2a239285",
   "metadata": {},
   "outputs": [
    {
     "data": {
      "text/plain": [
       "Any[]"
      ]
     },
     "execution_count": 19,
     "metadata": {},
     "output_type": "execute_result"
    }
   ],
   "source": [
    "articles = []"
   ]
  },
  {
   "cell_type": "code",
   "execution_count": 20,
   "id": "0719fc82",
   "metadata": {
    "scrolled": true
   },
   "outputs": [],
   "source": [
    "for article in body[7][4][6].children\n",
    "    text = article[2][1][1].text\n",
    "    if !occursin(\".initSlot\", text)\n",
    "        append!(articles, [text])\n",
    "    end\n",
    "end"
   ]
  },
  {
   "cell_type": "code",
   "execution_count": 21,
   "id": "6b4c39b0",
   "metadata": {},
   "outputs": [
    {
     "data": {
      "text/plain": [
       "3000-element Vector{Nothing}:\n",
       " nothing\n",
       " nothing\n",
       " nothing\n",
       " nothing\n",
       " nothing\n",
       " nothing\n",
       " nothing\n",
       " nothing\n",
       " nothing\n",
       " nothing\n",
       " nothing\n",
       " nothing\n",
       " nothing\n",
       " ⋮\n",
       " nothing\n",
       " nothing\n",
       " nothing\n",
       " nothing\n",
       " nothing\n",
       " nothing\n",
       " nothing\n",
       " nothing\n",
       " nothing\n",
       " nothing\n",
       " nothing\n",
       " nothing"
      ]
     },
     "execution_count": 21,
     "metadata": {},
     "output_type": "execute_result"
    }
   ],
   "source": [
    "asyncmap(1:3000;ntasks=50) do n\n",
    "    r = HTTP.get(\"https://www.investing.com/news/forex-news/$n\", readtimeout=10)\n",
    "    r_parsed = parsehtml(String(r.body))\n",
    "    body = r_parsed.root[2]\n",
    "    for article in body[7][4][6].children\n",
    "        text = article[2][1][1].text\n",
    "        if !occursin(\".initSlot\", text)\n",
    "            append!(articles, [text])\n",
    "        end\n",
    "    end\n",
    "end"
   ]
  },
  {
   "cell_type": "code",
   "execution_count": 7,
   "id": "5e8ea538",
   "metadata": {},
   "outputs": [],
   "source": [
    "# for i in 1:100\n",
    "#     r = HTTP.get(\"https://www.investing.com/news/forex-news/$i\")\n",
    "#     r_parsed = parsehtml(String(r.body))\n",
    "#     body = r_parsed.root[2]\n",
    "#     for article in body[7][4][6].children\n",
    "#         text = article[2][1][1].text\n",
    "#         if !occursin(\".initSlot\", text)\n",
    "#             append!(articles, [text])\n",
    "#         end\n",
    "#     end\n",
    "# end"
   ]
  },
  {
   "cell_type": "code",
   "execution_count": 22,
   "id": "a0851c33",
   "metadata": {},
   "outputs": [
    {
     "data": {
      "text/plain": [
       "51053-element Vector{Any}:\n",
       " \"Dollar rises as COVID concerns spark flight to safety\"\n",
       " \"Exclusive - China FX regulatory body proposes cap on banks' prop trading\"\n",
       " \"Higher core yields, sticky inflation see JPMorgan turn cautious on emerging EMEA FX\"\n",
       " \"U.K. Budget Deficit Exceeds Forecasts as Debt Costs Triple\"\n",
       " \"Dollar Edges Higher; Turkish Lira Continues Descent\"\n",
       " \"Dollar Up, Gains From Euro’s Fall as Focus Remains on Interest Rate Hike Timelines\"\n",
       " \"EURJPY Price: Will There Be a Continuation of Bearish Trend?\"\n",
       " \"Dollar takes a breather, edges back from 16-month peak\"\n",
       " \"Retail Sales Puts the Pound and the Loonie in the Spotlight\"\n",
       " \"EUR/GBP – Could we finally see a breakout?\"\n",
       " \"Turkish Lira Falls to Record After Central Bank Cuts Rates Again\"\n",
       " \"Dollar Retreats From 16-Month High; Lira Slumps Ahead of Meeting\"\n",
       " \"Pound Japanese Yen (GBP/JPY) Exchange Rate to Reverse Losses on Disappointing JP Inflation?\"\n",
       " ⋮\n",
       " \"Forex - Dollar down vs. most rivals ahead of key U.S. data\"\n",
       " \"Forex - GBP/USD hits fresh daily high after upbeat U.K. PMI data\"\n",
       " \"Forex - EUR/USD extends early gains, surges to 7-month high\"\n",
       " \"FACTBOX-How to invest in gold and key price drivers=2\"\n",
       " \"FOREX-Euro jumps vs dollar, yen trims post-BOJ loss\"\n",
       " \"WRAPUP 3-Currency tensions flare as Brazil, Japan take action\"\n",
       " \"UPDATE 2-Russia central bank cancels IIB's banking licence\"\n",
       " \"WRAPUP 1-EU urges faster yuan rise; China demurs\"\n",
       " \"FOREX-Euro jumps vs weak dollar; yen trims falls\"\n",
       " \"GLOBAL MARKETS-Yen falls on BOJ surprise; stocks and gold rise\"\n",
       " \"ANALYSIS-Spending cuts may harm UK's global influence\"\n",
       " \"UPDATE 1-France wants China involved in currency discussions\""
      ]
     },
     "execution_count": 22,
     "metadata": {},
     "output_type": "execute_result"
    }
   ],
   "source": [
    "articles"
   ]
  },
  {
   "cell_type": "code",
   "execution_count": 23,
   "id": "6dfc46f1",
   "metadata": {},
   "outputs": [],
   "source": [
    "using BSON\n",
    "BSON.@save \"articles_long.bson\" articles"
   ]
  }
 ],
 "metadata": {
  "kernelspec": {
   "display_name": "Julia 1.6.1",
   "language": "julia",
   "name": "julia-1.6"
  },
  "language_info": {
   "file_extension": ".jl",
   "mimetype": "application/julia",
   "name": "julia",
   "version": "1.6.1"
  }
 },
 "nbformat": 4,
 "nbformat_minor": 5
}
