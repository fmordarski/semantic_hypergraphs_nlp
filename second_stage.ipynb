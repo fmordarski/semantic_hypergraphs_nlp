{
 "cells": [
  {
   "cell_type": "code",
   "execution_count": 1,
   "id": "9e391516",
   "metadata": {
    "scrolled": false
   },
   "outputs": [
    {
     "data": {
      "text/plain": [
       "draw_hg (generic function with 1 method)"
      ]
     },
     "execution_count": 1,
     "metadata": {},
     "output_type": "execute_result"
    }
   ],
   "source": [
    "include(\"./main_parser.jl\")"
   ]
  },
  {
   "cell_type": "code",
   "execution_count": 2,
   "id": "6693fcf1",
   "metadata": {},
   "outputs": [],
   "source": [
    "using PyCall, BSON, DecisionTree, Random, CSV"
   ]
  },
  {
   "cell_type": "code",
   "execution_count": 3,
   "id": "43c0de7b",
   "metadata": {},
   "outputs": [
    {
     "data": {
      "text/plain": [
       "PyObject <spacy.lang.en.English object at 0x7efd982c7710>"
      ]
     },
     "execution_count": 3,
     "metadata": {},
     "output_type": "execute_result"
    }
   ],
   "source": [
    "BSON.@load \"models/model_rf.bson\" rf uniques\n",
    "\n",
    "spacy = pyimport(\"spacy\")\n",
    "\n",
    "nlp = spacy.load(\"en_core_web_lg\")"
   ]
  },
  {
   "cell_type": "code",
   "execution_count": 139,
   "id": "308ad2dc",
   "metadata": {},
   "outputs": [],
   "source": [
    "data = DataFrame(CSV.File(\"data/articles_modified_short.csv\"));"
   ]
  },
  {
   "cell_type": "code",
   "execution_count": 140,
   "id": "29d03eda",
   "metadata": {},
   "outputs": [],
   "source": [
    "df = convert_df(data[:, 1], uniques, rf);"
   ]
  },
  {
   "cell_type": "code",
   "execution_count": 141,
   "id": "4af5a039",
   "metadata": {},
   "outputs": [],
   "source": [
    "data = innerjoin(df, data, on =:Article);"
   ]
  },
  {
   "cell_type": "code",
   "execution_count": 142,
   "id": "b27a8b97",
   "metadata": {},
   "outputs": [
    {
     "data": {
      "text/plain": [
       "509"
      ]
     },
     "execution_count": 142,
     "metadata": {},
     "output_type": "execute_result"
    }
   ],
   "source": [
    "nrow(data)"
   ]
  },
  {
   "cell_type": "code",
   "execution_count": 143,
   "id": "2830de9e",
   "metadata": {},
   "outputs": [
    {
     "data": {
      "text/plain": [
       "234"
      ]
     },
     "execution_count": 143,
     "metadata": {},
     "output_type": "execute_result"
    }
   ],
   "source": [
    "nrow(filter(:relation => ==(0), data))"
   ]
  },
  {
   "cell_type": "code",
   "execution_count": 144,
   "id": "35be2ee1",
   "metadata": {},
   "outputs": [
    {
     "data": {
      "image/png": "[encoded data removed]",
      "text/plain": [
       "Figure(PyObject <Figure size 800x800 with 1 Axes>)"
      ]
     },
     "metadata": {},
     "output_type": "display_data"
    }
   ],
   "source": [
    "using PyPlot\n",
    "fig, ax = subplots(figsize=(8,8))\n",
    "PyPlot.bar([0, 1], [nrow(filter(:relation => ==(0), data)), \n",
    "                        nrow(filter(:relation => ==(1), data))],\n",
    "            width=0.6)\n",
    "PyPlot.xticks([0,1 ], [\"No relation\", \"Relation\"])\n",
    "PyPlot.ylabel(\"Count\")\n",
    "PyPlot.savefig(\"hist.png\");"
   ]
  },
  {
   "cell_type": "code",
   "execution_count": 145,
   "id": "a44db7f2",
   "metadata": {},
   "outputs": [
    {
     "data": {
      "text/plain": [
       "(80, 1000)"
      ]
     },
     "execution_count": 145,
     "metadata": {},
     "output_type": "execute_result"
    }
   ],
   "source": [
    "ENV[\"LINES\"], ENV[\"COLUMNS\"] = 80, 1000"
   ]
  },
  {
   "cell_type": "code",
   "execution_count": 146,
   "id": "6f627d75",
   "metadata": {},
   "outputs": [],
   "source": [
    "atoms = data[:, :Atoms];"
   ]
  },
  {
   "cell_type": "code",
   "execution_count": 147,
   "id": "0a55e4f9",
   "metadata": {},
   "outputs": [],
   "source": [
    "atoms_dict = Dict()\n",
    "for article in atoms\n",
    "    for atom in article\n",
    "        if !(atom in keys(atoms_dict))\n",
    "            atoms_dict[atom] = 1\n",
    "        else\n",
    "            atoms_dict[atom] += 1\n",
    "        end\n",
    "    end\n",
    "end"
   ]
  },
  {
   "cell_type": "code",
   "execution_count": 148,
   "id": "fc9d401a",
   "metadata": {},
   "outputs": [
    {
     "data": {
      "text/plain": [
       "Dict{Any, Any} with 6 entries:\n",
       "  \"B\" => 193\n",
       "  \"J\" => 29\n",
       "  \"M\" => 583\n",
       "  \"C\" => 2326\n",
       "  \"P\" => 530\n",
       "  \"T\" => 492"
      ]
     },
     "execution_count": 148,
     "metadata": {},
     "output_type": "execute_result"
    }
   ],
   "source": [
    "atoms_dict"
   ]
  },
  {
   "cell_type": "code",
   "execution_count": 149,
   "id": "79d20b03",
   "metadata": {
    "scrolled": true
   },
   "outputs": [
    {
     "data": {
      "image/png": "[encoded data removed]",
      "text/plain": [
       "Figure(PyObject <Figure size 1000x700 with 1 Axes>)"
      ]
     },
     "metadata": {},
     "output_type": "display_data"
    }
   ],
   "source": [
    "fig, ax = subplots(figsize=(10,7))\n",
    "PyPlot.bar([1,2,3,4,5,6], [value for value in values(atoms_dict)],\n",
    "            width=0.6)\n",
    "PyPlot.ylabel(\"Count\")\n",
    "PyPlot.xticks([1,2,3,4,5,6], [key for key in keys(atoms_dict)])\n",
    "PyPlot.xlabel(\"Predicted atom\")\n",
    "PyPlot.savefig(\"atoms.png\");"
   ]
  },
  {
   "cell_type": "code",
   "execution_count": 176,
   "id": "4811eb84",
   "metadata": {},
   "outputs": [],
   "source": [
    "# predicates = [\"dips\", \"rebounds\", \"firms\"]\n",
    "predicates = [\"dips\", \"rebounds\", \"firms\", \"posts\", \n",
    "              \"edges\", \"hikes\", \"ticks\", \"struggles\", \"ends\"]\n",
    "currencies = [\"pound\", \"dollar\", \"sterling\", \"euro\", \"dollar\", \"lira\", \"aussie\",\n",
    "              \"gbpusd\", \"gbp\", \"usdcad\", \"sterlin\", \"myanmar\", \"yuan\", \"zloty\", \"forint\",\n",
    "              \"yen\", \"usd/cad\", \"ruble\", \"lebanon's\", \"rouble\", \"swiss\", \"rupee\",\n",
    "              \"eurusd\"];"
   ]
  },
  {
   "cell_type": "code",
   "execution_count": 151,
   "id": "7290f6ae",
   "metadata": {},
   "outputs": [
    {
     "data": {
      "text/plain": [
       "get_hg_tokens (generic function with 3 methods)"
      ]
     },
     "execution_count": 151,
     "metadata": {},
     "output_type": "execute_result"
    }
   ],
   "source": [
    "function get_hg_tokens(text, atoms, currencies=[], predicates=[])\n",
    "    doc = nlp(text)\n",
    "#     hg, tokens = nothing\n",
    "    try\n",
    "        for (i, token) in enumerate(doc)\n",
    "            if lowercase(token.text) in currencies\n",
    "                atoms[i] = \"C\"\n",
    "            end\n",
    "            if lowercase(token.text) in predicates\n",
    "                atoms[i] = \"P\"\n",
    "            end\n",
    "        end\n",
    "        beta(patterns, doc, atoms)\n",
    "    catch e\n",
    "        return nothing\n",
    "    end\n",
    "#     return hg, tokens\n",
    "end"
   ]
  },
  {
   "cell_type": "code",
   "execution_count": 152,
   "id": "62b3e41d",
   "metadata": {},
   "outputs": [
    {
     "data": {
      "text/plain": [
       "model_1 (generic function with 1 method)"
      ]
     },
     "execution_count": 152,
     "metadata": {},
     "output_type": "execute_result"
    }
   ],
   "source": [
    "function model_1(currencies_list, article)\n",
    "    if any(y -> occursin(y, lowercase(article)), currencies_list)\n",
    "        return 1\n",
    "    else\n",
    "        return 0\n",
    "    end\n",
    "end     "
   ]
  },
  {
   "cell_type": "code",
   "execution_count": 153,
   "id": "6eb89f07",
   "metadata": {},
   "outputs": [
    {
     "data": {
      "text/plain": [
       "model_2 (generic function with 1 method)"
      ]
     },
     "execution_count": 153,
     "metadata": {},
     "output_type": "execute_result"
    }
   ],
   "source": [
    "function model_2(currencies_list, article)\n",
    "    output = 0\n",
    "    currencies_indexes = []\n",
    "    doc = nlp(article)\n",
    "    for (i, token) in enumerate(doc)\n",
    "        if lowercase(token.text) in currencies_list\n",
    "            append!(currencies_indexes, i)\n",
    "        end\n",
    "    end\n",
    "    for i in currencies_indexes\n",
    "        if length(doc) > i\n",
    "            if doc[i+1].pos_ == \"VERB\"\n",
    "                output = 1\n",
    "            end\n",
    "        end\n",
    "    end\n",
    "    return output\n",
    "end   "
   ]
  },
  {
   "cell_type": "code",
   "execution_count": 154,
   "id": "49c04f38",
   "metadata": {},
   "outputs": [
    {
     "data": {
      "text/plain": [
       "check_curr (generic function with 1 method)"
      ]
     },
     "execution_count": 154,
     "metadata": {},
     "output_type": "execute_result"
    }
   ],
   "source": [
    "function check_curr(token, currencies_list)\n",
    "    curr_check = lowercase(token.text) in currencies_list\n",
    "    return curr_check\n",
    "end "
   ]
  },
  {
   "cell_type": "code",
   "execution_count": 155,
   "id": "e3426eed",
   "metadata": {},
   "outputs": [
    {
     "data": {
      "text/plain": [
       "true"
      ]
     },
     "execution_count": 155,
     "metadata": {},
     "output_type": "execute_result"
    }
   ],
   "source": [
    "x = [\"to\"]\n",
    "any(x -> lowercase(x) in [\"to\", \"for\"], x)"
   ]
  },
  {
   "cell_type": "code",
   "execution_count": 156,
   "id": "1968d8d5",
   "metadata": {},
   "outputs": [
    {
     "data": {
      "text/plain": [
       "check_connector (generic function with 2 methods)"
      ]
     },
     "execution_count": 156,
     "metadata": {},
     "output_type": "execute_result"
    }
   ],
   "source": [
    "function check_connector(doc, atoms)\n",
    "#     last_tokens = input[1]\n",
    "#     t_index = findall(x->x == \"T\", last_tokens)\n",
    "#     if length(t_index) == 0\n",
    "#         return true\n",
    "#     else\n",
    "#         t_texts = []\n",
    "#         for token in input[2][t_index]\n",
    "#             try\n",
    "#                 append!(t_texts, [token.text])\n",
    "#             catch e\n",
    "#             end\n",
    "#         end\n",
    "#         if any(y-> lowercase(y) in [\"to\", \"for\"], t_texts)\n",
    "#             return false\n",
    "#         else\n",
    "#             return true\n",
    "#         end\n",
    "#     end\n",
    "    t_index = findall(x->x == \"T\", atoms)\n",
    "    texts = [token.text for token in doc]\n",
    "    if length(t_index) == 0\n",
    "        return true\n",
    "    else\n",
    "        t_texts = texts[t_index]\n",
    "        if all(y -> lowercase(y) in [\"to\", \"for\"], t_texts)\n",
    "            return false\n",
    "        else\n",
    "            return true\n",
    "        end\n",
    "    end\n",
    "end"
   ]
  },
  {
   "cell_type": "code",
   "execution_count": 157,
   "id": "fd33b032",
   "metadata": {},
   "outputs": [
    {
     "data": {
      "text/plain": [
       "model_3 (generic function with 1 method)"
      ]
     },
     "execution_count": 157,
     "metadata": {},
     "output_type": "execute_result"
    }
   ],
   "source": [
    "function model_3(article, atoms, currencies_list, predicates)\n",
    "    output = 0\n",
    "    doc = nlp(article)\n",
    "    out = get_hg_tokens(article, atoms, currencies_list, predicates)\n",
    "#     if (!(out == nothing) & (any(y -> occursin(y, lowercase(article)), currencies_list)))\n",
    "    if !(out == nothing)\n",
    "        conn = check_connector(doc, atoms)\n",
    "        indexes = findall(x -> x in ['S', 'R'], out[3])\n",
    "        for index in indexes\n",
    "            relations = findall(x -> x==1, out[1][:, index])\n",
    "            if (length(relations) > 3) & (conn) \n",
    "                for word in relations\n",
    "                    curr = check_curr(doc[word], currencies_list)\n",
    "                    if curr\n",
    "#                         conn = check_connector(out[2][index-1])\n",
    "#                         if conn\n",
    "#                             return 1\n",
    "#                         else\n",
    "#                             return 0\n",
    "#                         end\n",
    "                        return 1\n",
    "                    end\n",
    "                end\n",
    "            end\n",
    "        end\n",
    "    end\n",
    "    return 0\n",
    "end"
   ]
  },
  {
   "cell_type": "code",
   "execution_count": 158,
   "id": "b07046cf",
   "metadata": {},
   "outputs": [],
   "source": [
    "insertcols!(data, 4, :Model1 => 0, :Model2 => 0, :Model3 => 0);"
   ]
  },
  {
   "cell_type": "code",
   "execution_count": 177,
   "id": "b3640fe7",
   "metadata": {},
   "outputs": [],
   "source": [
    "for row in eachrow(data)\n",
    "    row.Model1 = model_1(currencies, row.Article)\n",
    "    row.Model2 = model_2(currencies, row.Article)\n",
    "    row.Model3 = model_3(row.Article, row.Atoms, currencies, predicates)\n",
    "end"
   ]
  },
  {
   "cell_type": "code",
   "execution_count": 160,
   "id": "b115a93c",
   "metadata": {},
   "outputs": [
    {
     "data": {
      "text/plain": [
       "recall (generic function with 1 method)"
      ]
     },
     "execution_count": 160,
     "metadata": {},
     "output_type": "execute_result"
    }
   ],
   "source": [
    "function recall(target, model)\n",
    "    p1 = filter(row -> (row[model] == 1) & (row[target] == 1), data)\n",
    "    p2 = filter(row -> row[target] == 1, data)\n",
    "    return nrow(p1)/nrow(p2)\n",
    "end"
   ]
  },
  {
   "cell_type": "code",
   "execution_count": 161,
   "id": "0d92379d",
   "metadata": {},
   "outputs": [
    {
     "data": {
      "text/plain": [
       "precision (generic function with 1 method)"
      ]
     },
     "execution_count": 161,
     "metadata": {},
     "output_type": "execute_result"
    }
   ],
   "source": [
    "function precision(target, model)\n",
    "    p1 = filter(row -> (row[model] == 1) & (row[target] == 1), data)\n",
    "    p2 = filter(row -> (row[model] == 1) & (row[target] == 0), data)\n",
    "    return nrow(p1)/(nrow(p2) + nrow(p1))\n",
    "end"
   ]
  },
  {
   "cell_type": "code",
   "execution_count": 162,
   "id": "e5013c08",
   "metadata": {},
   "outputs": [
    {
     "data": {
      "text/plain": [
       "f1 (generic function with 1 method)"
      ]
     },
     "execution_count": 162,
     "metadata": {},
     "output_type": "execute_result"
    }
   ],
   "source": [
    "function f1(precision, recall)\n",
    "    return 2*precision*recall/(precision+recall)\n",
    "end"
   ]
  },
  {
   "cell_type": "code",
   "execution_count": 178,
   "id": "42bd69d2",
   "metadata": {},
   "outputs": [
    {
     "data": {
      "text/plain": [
       "0.7902298850574713"
      ]
     },
     "execution_count": 178,
     "metadata": {},
     "output_type": "execute_result"
    }
   ],
   "source": [
    "prec = precision(\"relation\", \"Model1\")"
   ]
  },
  {
   "cell_type": "code",
   "execution_count": 179,
   "id": "43236dff",
   "metadata": {},
   "outputs": [
    {
     "data": {
      "text/plain": [
       "1.0"
      ]
     },
     "execution_count": 179,
     "metadata": {},
     "output_type": "execute_result"
    }
   ],
   "source": [
    "rec = recall(\"relation\", \"Model1\")"
   ]
  },
  {
   "cell_type": "code",
   "execution_count": 180,
   "id": "e725d06b",
   "metadata": {},
   "outputs": [
    {
     "data": {
      "text/plain": [
       "0.8828250401284109"
      ]
     },
     "execution_count": 180,
     "metadata": {},
     "output_type": "execute_result"
    }
   ],
   "source": [
    "f1(prec, rec)"
   ]
  },
  {
   "cell_type": "code",
   "execution_count": 166,
   "id": "eb7c4c0b",
   "metadata": {},
   "outputs": [
    {
     "data": {
      "text/plain": [
       "0.7956204379562044"
      ]
     },
     "execution_count": 166,
     "metadata": {},
     "output_type": "execute_result"
    }
   ],
   "source": [
    "prec = precision(\"relation\", \"Model2\")"
   ]
  },
  {
   "cell_type": "code",
   "execution_count": 167,
   "id": "95b363df",
   "metadata": {},
   "outputs": [
    {
     "data": {
      "text/plain": [
       "0.39636363636363636"
      ]
     },
     "execution_count": 167,
     "metadata": {},
     "output_type": "execute_result"
    }
   ],
   "source": [
    "rec = recall(\"relation\", \"Model2\")"
   ]
  },
  {
   "cell_type": "code",
   "execution_count": 168,
   "id": "08e6a6ae",
   "metadata": {},
   "outputs": [
    {
     "data": {
      "text/plain": [
       "0.529126213592233"
      ]
     },
     "execution_count": 168,
     "metadata": {},
     "output_type": "execute_result"
    }
   ],
   "source": [
    "f1(prec, rec)"
   ]
  },
  {
   "cell_type": "code",
   "execution_count": 181,
   "id": "5a19060c",
   "metadata": {},
   "outputs": [
    {
     "data": {
      "text/plain": [
       "0.8646864686468647"
      ]
     },
     "execution_count": 181,
     "metadata": {},
     "output_type": "execute_result"
    }
   ],
   "source": [
    "prec = precision(\"relation\", \"Model3\")"
   ]
  },
  {
   "cell_type": "code",
   "execution_count": 182,
   "id": "e7fae089",
   "metadata": {},
   "outputs": [
    {
     "data": {
      "text/plain": [
       "0.9527272727272728"
      ]
     },
     "execution_count": 182,
     "metadata": {},
     "output_type": "execute_result"
    }
   ],
   "source": [
    "rec = recall(\"relation\", \"Model3\")"
   ]
  },
  {
   "cell_type": "code",
   "execution_count": 183,
   "id": "c793dec6",
   "metadata": {},
   "outputs": [
    {
     "data": {
      "text/plain": [
       "0.9065743944636679"
      ]
     },
     "execution_count": 183,
     "metadata": {},
     "output_type": "execute_result"
    }
   ],
   "source": [
    "f1(prec, rec)"
   ]
  },
  {
   "cell_type": "code",
   "execution_count": 185,
   "id": "c85e8eb4",
   "metadata": {},
   "outputs": [
    {
     "data": {
      "text/html": [
       "<div class=\"data-frame\"><p>45 rows × 6 columns</p><table class=\"data-frame\"><thead><tr><th></th><th>Article</th><th>Atoms</th><th>relation</th><th>Model1</th><th>Model2</th><th>Model3</th></tr><tr><th></th><th title=\"String\">String</th><th title=\"Vector{String}\">Array…</th><th title=\"Int64\">Int64</th><th title=\"Int64\">Int64</th><th title=\"Int64\">Int64</th><th title=\"Int64\">Int64</th></tr></thead><tbody><tr><th>1</th><td>Dollar Edges Lower</td><td>[&quot;C&quot;, &quot;P&quot;, &quot;M&quot;]</td><td>0</td><td>1</td><td>0</td><td>0</td></tr><tr><th>2</th><td>EURUSD marginally lower but traders lean against the 100 hour MA on the first looks</td><td>[&quot;C&quot;, &quot;M&quot;, &quot;C&quot;, &quot;J&quot;, &quot;C&quot;, &quot;P&quot;, &quot;T&quot;, &quot;M&quot;, &quot;M&quot;, &quot;C&quot;, &quot;C&quot;, &quot;B&quot;, &quot;M&quot;, &quot;M&quot;, &quot;C&quot;]</td><td>0</td><td>1</td><td>0</td><td>0</td></tr><tr><th>3</th><td>Dollar Finds Support</td><td>[&quot;C&quot;, &quot;P&quot;, &quot;C&quot;]</td><td>0</td><td>1</td><td>1</td><td>0</td></tr><tr><th>4</th><td>Cuban peso in free fall against the dollar</td><td>[&quot;M&quot;, &quot;C&quot;, &quot;T&quot;, &quot;M&quot;, &quot;C&quot;, &quot;T&quot;, &quot;M&quot;, &quot;C&quot;]</td><td>0</td><td>1</td><td>0</td><td>0</td></tr><tr><th>5</th><td>Dollar Edges Higher</td><td>[&quot;C&quot;, &quot;P&quot;, &quot;M&quot;]</td><td>0</td><td>1</td><td>0</td><td>0</td></tr><tr><th>6</th><td>China could take further measures to rein in yuan- former regulator</td><td>[&quot;C&quot;, &quot;M&quot;, &quot;P&quot;, &quot;M&quot;, &quot;C&quot;, &quot;M&quot;, &quot;P&quot;, &quot;M&quot;, &quot;C&quot;, &quot;M&quot;, &quot;C&quot;]</td><td>0</td><td>1</td><td>0</td><td>0</td></tr><tr><th>7</th><td>Dollar Largely Flat</td><td>[&quot;C&quot;, &quot;M&quot;, &quot;M&quot;]</td><td>0</td><td>1</td><td>0</td><td>0</td></tr><tr><th>8</th><td>Dollar dips with US Treasury yields but still up for week</td><td>[&quot;C&quot;, &quot;P&quot;, &quot;T&quot;, &quot;C&quot;, &quot;C&quot;, &quot;C&quot;, &quot;J&quot;, &quot;M&quot;, &quot;T&quot;, &quot;M&quot;, &quot;C&quot;]</td><td>1</td><td>1</td><td>0</td><td>0</td></tr><tr><th>9</th><td>Dollar Up As the Fed Signals An Earlier Interest Rate Hike</td><td>[&quot;C&quot;, &quot;M&quot;, &quot;M&quot;, &quot;M&quot;, &quot;C&quot;, &quot;C&quot;, &quot;C&quot;, &quot;M&quot;, &quot;C&quot;, &quot;C&quot;, &quot;C&quot;]</td><td>1</td><td>1</td><td>0</td><td>0</td></tr><tr><th>10</th><td>Turkish central bank rate cuts send lira to new record low</td><td>[&quot;M&quot;, &quot;M&quot;, &quot;C&quot;, &quot;C&quot;, &quot;C&quot;, &quot;P&quot;, &quot;C&quot;, &quot;T&quot;, &quot;M&quot;, &quot;C&quot;, &quot;C&quot;]</td><td>1</td><td>1</td><td>0</td><td>0</td></tr><tr><th>11</th><td>Lira Slumps Again</td><td>[&quot;C&quot;, &quot;P&quot;, &quot;M&quot;]</td><td>0</td><td>1</td><td>1</td><td>0</td></tr><tr><th>12</th><td>Lebanon&apos;s currency plummets again amid financial crisis and political deadlock</td><td>[&quot;C&quot;, &quot;B&quot;, &quot;C&quot;, &quot;P&quot;, &quot;M&quot;, &quot;T&quot;, &quot;M&quot;, &quot;C&quot;, &quot;J&quot;, &quot;M&quot;, &quot;C&quot;]</td><td>1</td><td>1</td><td>0</td><td>0</td></tr><tr><th>13</th><td>Dollar Down as Expectations of Earlier Fed Interest Rate Hikes Grow</td><td>[&quot;C&quot;, &quot;M&quot;, &quot;T&quot;, &quot;C&quot;, &quot;B&quot;, &quot;M&quot;, &quot;C&quot;, &quot;C&quot;, &quot;C&quot;, &quot;P&quot;, &quot;P&quot;]</td><td>1</td><td>1</td><td>0</td><td>0</td></tr><tr><th>14</th><td>Turkey’s Missing Billions Signal Unannounced Lira Intervention</td><td>[&quot;C&quot;, &quot;B&quot;, &quot;C&quot;, &quot;C&quot;, &quot;C&quot;, &quot;C&quot;, &quot;C&quot;, &quot;C&quot;]</td><td>0</td><td>1</td><td>0</td><td>0</td></tr><tr><th>15</th><td>Aussie rises</td><td>[&quot;C&quot;, &quot;P&quot;]</td><td>0</td><td>1</td><td>1</td><td>0</td></tr><tr><th>16</th><td>Dollar Weakens</td><td>[&quot;C&quot;, &quot;P&quot;]</td><td>0</td><td>1</td><td>1</td><td>0</td></tr><tr><th>17</th><td>Dollar Rebounds</td><td>[&quot;C&quot;, &quot;P&quot;]</td><td>0</td><td>1</td><td>0</td><td>0</td></tr><tr><th>18</th><td>Dollar&apos;s Dazzling Run to Come Unstuck Next Year as Growth Outside US Rebounds</td><td>[&quot;C&quot;, &quot;B&quot;, &quot;M&quot;, &quot;C&quot;, &quot;M&quot;, &quot;P&quot;, &quot;M&quot;, &quot;C&quot;, &quot;C&quot;, &quot;B&quot;, &quot;C&quot;, &quot;B&quot;, &quot;C&quot;, &quot;P&quot;]</td><td>1</td><td>1</td><td>0</td><td>0</td></tr><tr><th>19</th><td>Dollar Pushes Higher</td><td>[&quot;C&quot;, &quot;P&quot;, &quot;M&quot;]</td><td>0</td><td>1</td><td>1</td><td>0</td></tr><tr><th>20</th><td>Dollar Near Multi-Month Highs</td><td>[&quot;C&quot;, &quot;C&quot;, &quot;C&quot;, &quot;B&quot;, &quot;C&quot;, &quot;C&quot;]</td><td>0</td><td>1</td><td>0</td><td>0</td></tr><tr><th>21</th><td>Dollar&apos;s five-week winning streak ends as risk sentiment rebounds</td><td>[&quot;C&quot;, &quot;B&quot;, &quot;M&quot;, &quot;B&quot;, &quot;C&quot;, &quot;P&quot;, &quot;C&quot;, &quot;P&quot;, &quot;T&quot;, &quot;C&quot;, &quot;C&quot;, &quot;P&quot;]</td><td>1</td><td>1</td><td>0</td><td>0</td></tr><tr><th>22</th><td>Lira Slumps to New Low</td><td>[&quot;C&quot;, &quot;C&quot;, &quot;T&quot;, &quot;M&quot;, &quot;C&quot;]</td><td>0</td><td>1</td><td>0</td><td>0</td></tr><tr><th>23</th><td>EURUSD Drops to New Low for the Year</td><td>[&quot;C&quot;, &quot;P&quot;, &quot;T&quot;, &quot;C&quot;, &quot;C&quot;, &quot;T&quot;, &quot;M&quot;, &quot;C&quot;]</td><td>0</td><td>1</td><td>1</td><td>0</td></tr><tr><th>24</th><td>Pound Vulnerable to Stagflation Clutches as Brexit Impact Emerges</td><td>[&quot;C&quot;, &quot;M&quot;, &quot;B&quot;, &quot;C&quot;, &quot;C&quot;, &quot;B&quot;, &quot;C&quot;, &quot;C&quot;, &quot;P&quot;]</td><td>1</td><td>1</td><td>0</td><td>0</td></tr><tr><th>25</th><td>EURUSD Set for More Pain as ECB to Remain Dovish</td><td>[&quot;C&quot;, &quot;C&quot;, &quot;T&quot;, &quot;M&quot;, &quot;C&quot;, &quot;B&quot;, &quot;C&quot;, &quot;M&quot;, &quot;P&quot;, &quot;C&quot;]</td><td>1</td><td>1</td><td>0</td><td>0</td></tr><tr><th>26</th><td>euro dips</td><td>[&quot;C&quot;, &quot;P&quot;]</td><td>0</td><td>1</td><td>0</td><td>0</td></tr><tr><th>27</th><td>Dollar Climbs to 2021 Highs</td><td>[&quot;C&quot;, &quot;P&quot;, &quot;T&quot;, &quot;C&quot;, &quot;C&quot;]</td><td>0</td><td>1</td><td>1</td><td>0</td></tr><tr><th>28</th><td>Australian Dollar Slumps</td><td>[&quot;C&quot;, &quot;C&quot;, &quot;C&quot;]</td><td>0</td><td>1</td><td>0</td><td>0</td></tr><tr><th>29</th><td>Dollar Drifts Higher</td><td>[&quot;C&quot;, &quot;P&quot;, &quot;M&quot;]</td><td>0</td><td>1</td><td>1</td><td>0</td></tr><tr><th>30</th><td>Dollar Set For Winning Week</td><td>[&quot;C&quot;, &quot;P&quot;, &quot;T&quot;, &quot;C&quot;, &quot;C&quot;]</td><td>0</td><td>1</td><td>1</td><td>0</td></tr><tr><th>31</th><td>Euro Struggles For ECB Boost</td><td>[&quot;C&quot;, &quot;P&quot;, &quot;T&quot;, &quot;C&quot;, &quot;C&quot;]</td><td>1</td><td>1</td><td>0</td><td>0</td></tr><tr><th>32</th><td>Aussie struggles</td><td>[&quot;C&quot;, &quot;P&quot;]</td><td>0</td><td>1</td><td>1</td><td>0</td></tr><tr><th>33</th><td>Dollar Up but Near One-Month Low Over Fed Tapering Expectations Delay</td><td>[&quot;C&quot;, &quot;M&quot;, &quot;J&quot;, &quot;C&quot;, &quot;C&quot;, &quot;B&quot;, &quot;C&quot;, &quot;C&quot;, &quot;T&quot;, &quot;C&quot;, &quot;C&quot;, &quot;C&quot;, &quot;C&quot;]</td><td>1</td><td>1</td><td>0</td><td>0</td></tr><tr><th>34</th><td>Dollar Edges Off Three Week Lows</td><td>[&quot;C&quot;, &quot;P&quot;, &quot;C&quot;, &quot;M&quot;, &quot;C&quot;, &quot;C&quot;]</td><td>0</td><td>1</td><td>0</td><td>0</td></tr><tr><th>35</th><td>Yuan Weakens</td><td>[&quot;C&quot;, &quot;P&quot;]</td><td>0</td><td>1</td><td>1</td><td>0</td></tr><tr><th>36</th><td>Euro slips</td><td>[&quot;C&quot;, &quot;P&quot;]</td><td>0</td><td>1</td><td>1</td><td>0</td></tr><tr><th>37</th><td>Dollar Climbs to Multi-Month Highs</td><td>[&quot;C&quot;, &quot;P&quot;, &quot;T&quot;, &quot;M&quot;, &quot;B&quot;, &quot;C&quot;, &quot;C&quot;]</td><td>0</td><td>1</td><td>1</td><td>0</td></tr><tr><th>38</th><td>JPMorgan Blames Turkey’s Volatile Lira for Investor Misgivings</td><td>[&quot;C&quot;, &quot;P&quot;, &quot;C&quot;, &quot;B&quot;, &quot;C&quot;, &quot;C&quot;, &quot;T&quot;, &quot;C&quot;, &quot;C&quot;]</td><td>0</td><td>1</td><td>0</td><td>0</td></tr><tr><th>39</th><td>Bets Against Dollar May Prove Pain Trade as Fed&apos;s Dovish Days Nearing End</td><td>[&quot;C&quot;, &quot;B&quot;, &quot;C&quot;, &quot;M&quot;, &quot;P&quot;, &quot;C&quot;, &quot;C&quot;, &quot;T&quot;, &quot;C&quot;, &quot;B&quot;, &quot;M&quot;, &quot;C&quot;, &quot;P&quot;, &quot;C&quot;]</td><td>0</td><td>1</td><td>0</td><td>0</td></tr><tr><th>40</th><td>Dollar to Run of Out of Steam as Job Gains Could Fall Short</td><td>[&quot;C&quot;, &quot;M&quot;, &quot;P&quot;, &quot;T&quot;, &quot;T&quot;, &quot;M&quot;, &quot;C&quot;, &quot;T&quot;, &quot;C&quot;, &quot;C&quot;, &quot;M&quot;, &quot;P&quot;, &quot;M&quot;]</td><td>1</td><td>1</td><td>0</td><td>0</td></tr><tr><th>41</th><td>euro share slips</td><td>[&quot;C&quot;, &quot;C&quot;, &quot;P&quot;]</td><td>0</td><td>1</td><td>0</td><td>0</td></tr><tr><th>42</th><td>Dollar Extends Gains</td><td>[&quot;C&quot;, &quot;P&quot;, &quot;C&quot;]</td><td>0</td><td>1</td><td>1</td><td>0</td></tr><tr><th>43</th><td>Floundering dollar falls to bottom of global currency heap</td><td>[&quot;M&quot;, &quot;C&quot;, &quot;P&quot;, &quot;T&quot;, &quot;C&quot;, &quot;B&quot;, &quot;M&quot;, &quot;C&quot;, &quot;C&quot;]</td><td>1</td><td>1</td><td>1</td><td>0</td></tr><tr><th>44</th><td>Turkish Lira Slumps</td><td>[&quot;M&quot;, &quot;C&quot;, &quot;C&quot;]</td><td>0</td><td>1</td><td>0</td><td>0</td></tr><tr><th>45</th><td>Dollar set for second consecutive monthly loss vs euro and pound</td><td>[&quot;C&quot;, &quot;P&quot;, &quot;T&quot;, &quot;M&quot;, &quot;M&quot;, &quot;M&quot;, &quot;C&quot;, &quot;B&quot;, &quot;C&quot;, &quot;J&quot;, &quot;C&quot;]</td><td>0</td><td>1</td><td>1</td><td>0</td></tr></tbody></table></div>"
      ],
      "text/latex": [
       "\\begin{tabular}{r|cccccc}\n",
       "\t& Article & Atoms & relation & Model1 & Model2 & Model3\\\\\n",
       "\t\\hline\n",
       "\t& String & Array… & Int64 & Int64 & Int64 & Int64\\\\\n",
       "\t\\hline\n",
       "\t1 & Dollar Edges Lower & [\"C\", \"P\", \"M\"] & 0 & 1 & 0 & 0 \\\\\n",
       "\t2 & EURUSD marginally lower but traders lean against the 100 hour MA on the first looks & [\"C\", \"M\", \"C\", \"J\", \"C\", \"P\", \"T\", \"M\", \"M\", \"C\", \"C\", \"B\", \"M\", \"M\", \"C\"] & 0 & 1 & 0 & 0 \\\\\n",
       "\t3 & Dollar Finds Support & [\"C\", \"P\", \"C\"] & 0 & 1 & 1 & 0 \\\\\n",
       "\t4 & Cuban peso in free fall against the dollar & [\"M\", \"C\", \"T\", \"M\", \"C\", \"T\", \"M\", \"C\"] & 0 & 1 & 0 & 0 \\\\\n",
       "\t5 & Dollar Edges Higher & [\"C\", \"P\", \"M\"] & 0 & 1 & 0 & 0 \\\\\n",
       "\t6 & China could take further measures to rein in yuan- former regulator & [\"C\", \"M\", \"P\", \"M\", \"C\", \"M\", \"P\", \"M\", \"C\", \"M\", \"C\"] & 0 & 1 & 0 & 0 \\\\\n",
       "\t7 & Dollar Largely Flat & [\"C\", \"M\", \"M\"] & 0 & 1 & 0 & 0 \\\\\n",
       "\t8 & Dollar dips with US Treasury yields but still up for week & [\"C\", \"P\", \"T\", \"C\", \"C\", \"C\", \"J\", \"M\", \"T\", \"M\", \"C\"] & 1 & 1 & 0 & 0 \\\\\n",
       "\t9 & Dollar Up As the Fed Signals An Earlier Interest Rate Hike & [\"C\", \"M\", \"M\", \"M\", \"C\", \"C\", \"C\", \"M\", \"C\", \"C\", \"C\"] & 1 & 1 & 0 & 0 \\\\\n",
       "\t10 & Turkish central bank rate cuts send lira to new record low & [\"M\", \"M\", \"C\", \"C\", \"C\", \"P\", \"C\", \"T\", \"M\", \"C\", \"C\"] & 1 & 1 & 0 & 0 \\\\\n",
       "\t11 & Lira Slumps Again & [\"C\", \"P\", \"M\"] & 0 & 1 & 1 & 0 \\\\\n",
       "\t12 & Lebanon's currency plummets again amid financial crisis and political deadlock & [\"C\", \"B\", \"C\", \"P\", \"M\", \"T\", \"M\", \"C\", \"J\", \"M\", \"C\"] & 1 & 1 & 0 & 0 \\\\\n",
       "\t13 & Dollar Down as Expectations of Earlier Fed Interest Rate Hikes Grow & [\"C\", \"M\", \"T\", \"C\", \"B\", \"M\", \"C\", \"C\", \"C\", \"P\", \"P\"] & 1 & 1 & 0 & 0 \\\\\n",
       "\t14 & Turkey’s Missing Billions Signal Unannounced Lira Intervention & [\"C\", \"B\", \"C\", \"C\", \"C\", \"C\", \"C\", \"C\"] & 0 & 1 & 0 & 0 \\\\\n",
       "\t15 & Aussie rises & [\"C\", \"P\"] & 0 & 1 & 1 & 0 \\\\\n",
       "\t16 & Dollar Weakens & [\"C\", \"P\"] & 0 & 1 & 1 & 0 \\\\\n",
       "\t17 & Dollar Rebounds & [\"C\", \"P\"] & 0 & 1 & 0 & 0 \\\\\n",
       "\t18 & Dollar's Dazzling Run to Come Unstuck Next Year as Growth Outside US Rebounds & [\"C\", \"B\", \"M\", \"C\", \"M\", \"P\", \"M\", \"C\", \"C\", \"B\", \"C\", \"B\", \"C\", \"P\"] & 1 & 1 & 0 & 0 \\\\\n",
       "\t19 & Dollar Pushes Higher & [\"C\", \"P\", \"M\"] & 0 & 1 & 1 & 0 \\\\\n",
       "\t20 & Dollar Near Multi-Month Highs & [\"C\", \"C\", \"C\", \"B\", \"C\", \"C\"] & 0 & 1 & 0 & 0 \\\\\n",
       "\t21 & Dollar's five-week winning streak ends as risk sentiment rebounds & [\"C\", \"B\", \"M\", \"B\", \"C\", \"P\", \"C\", \"P\", \"T\", \"C\", \"C\", \"P\"] & 1 & 1 & 0 & 0 \\\\\n",
       "\t22 & Lira Slumps to New Low & [\"C\", \"C\", \"T\", \"M\", \"C\"] & 0 & 1 & 0 & 0 \\\\\n",
       "\t23 & EURUSD Drops to New Low for the Year & [\"C\", \"P\", \"T\", \"C\", \"C\", \"T\", \"M\", \"C\"] & 0 & 1 & 1 & 0 \\\\\n",
       "\t24 & Pound Vulnerable to Stagflation Clutches as Brexit Impact Emerges & [\"C\", \"M\", \"B\", \"C\", \"C\", \"B\", \"C\", \"C\", \"P\"] & 1 & 1 & 0 & 0 \\\\\n",
       "\t25 & EURUSD Set for More Pain as ECB to Remain Dovish & [\"C\", \"C\", \"T\", \"M\", \"C\", \"B\", \"C\", \"M\", \"P\", \"C\"] & 1 & 1 & 0 & 0 \\\\\n",
       "\t26 & euro dips & [\"C\", \"P\"] & 0 & 1 & 0 & 0 \\\\\n",
       "\t27 & Dollar Climbs to 2021 Highs & [\"C\", \"P\", \"T\", \"C\", \"C\"] & 0 & 1 & 1 & 0 \\\\\n",
       "\t28 & Australian Dollar Slumps & [\"C\", \"C\", \"C\"] & 0 & 1 & 0 & 0 \\\\\n",
       "\t29 & Dollar Drifts Higher & [\"C\", \"P\", \"M\"] & 0 & 1 & 1 & 0 \\\\\n",
       "\t30 & Dollar Set For Winning Week & [\"C\", \"P\", \"T\", \"C\", \"C\"] & 0 & 1 & 1 & 0 \\\\\n",
       "\t31 & Euro Struggles For ECB Boost & [\"C\", \"P\", \"T\", \"C\", \"C\"] & 1 & 1 & 0 & 0 \\\\\n",
       "\t32 & Aussie struggles & [\"C\", \"P\"] & 0 & 1 & 1 & 0 \\\\\n",
       "\t33 & Dollar Up but Near One-Month Low Over Fed Tapering Expectations Delay & [\"C\", \"M\", \"J\", \"C\", \"C\", \"B\", \"C\", \"C\", \"T\", \"C\", \"C\", \"C\", \"C\"] & 1 & 1 & 0 & 0 \\\\\n",
       "\t34 & Dollar Edges Off Three Week Lows & [\"C\", \"P\", \"C\", \"M\", \"C\", \"C\"] & 0 & 1 & 0 & 0 \\\\\n",
       "\t35 & Yuan Weakens & [\"C\", \"P\"] & 0 & 1 & 1 & 0 \\\\\n",
       "\t36 & Euro slips & [\"C\", \"P\"] & 0 & 1 & 1 & 0 \\\\\n",
       "\t37 & Dollar Climbs to Multi-Month Highs & [\"C\", \"P\", \"T\", \"M\", \"B\", \"C\", \"C\"] & 0 & 1 & 1 & 0 \\\\\n",
       "\t38 & JPMorgan Blames Turkey’s Volatile Lira for Investor Misgivings & [\"C\", \"P\", \"C\", \"B\", \"C\", \"C\", \"T\", \"C\", \"C\"] & 0 & 1 & 0 & 0 \\\\\n",
       "\t39 & Bets Against Dollar May Prove Pain Trade as Fed's Dovish Days Nearing End & [\"C\", \"B\", \"C\", \"M\", \"P\", \"C\", \"C\", \"T\", \"C\", \"B\", \"M\", \"C\", \"P\", \"C\"] & 0 & 1 & 0 & 0 \\\\\n",
       "\t40 & Dollar to Run of Out of Steam as Job Gains Could Fall Short & [\"C\", \"M\", \"P\", \"T\", \"T\", \"M\", \"C\", \"T\", \"C\", \"C\", \"M\", \"P\", \"M\"] & 1 & 1 & 0 & 0 \\\\\n",
       "\t41 & euro share slips & [\"C\", \"C\", \"P\"] & 0 & 1 & 0 & 0 \\\\\n",
       "\t42 & Dollar Extends Gains & [\"C\", \"P\", \"C\"] & 0 & 1 & 1 & 0 \\\\\n",
       "\t43 & Floundering dollar falls to bottom of global currency heap & [\"M\", \"C\", \"P\", \"T\", \"C\", \"B\", \"M\", \"C\", \"C\"] & 1 & 1 & 1 & 0 \\\\\n",
       "\t44 & Turkish Lira Slumps & [\"M\", \"C\", \"C\"] & 0 & 1 & 0 & 0 \\\\\n",
       "\t45 & Dollar set for second consecutive monthly loss vs euro and pound & [\"C\", \"P\", \"T\", \"M\", \"M\", \"M\", \"C\", \"B\", \"C\", \"J\", \"C\"] & 0 & 1 & 1 & 0 \\\\\n",
       "\\end{tabular}\n"
      ],
      "text/plain": [
       "\u001b[1m45×6 DataFrame\u001b[0m\n",
       "\u001b[1m Row \u001b[0m│\u001b[1m Article                           \u001b[0m\u001b[1m Atoms                             \u001b[0m\u001b[1m relation \u001b[0m\u001b[1m Model1 \u001b[0m\u001b[1m Model2 \u001b[0m\u001b[1m Model3 \u001b[0m\n",
       "\u001b[1m     \u001b[0m│\u001b[90m String                            \u001b[0m\u001b[90m Array…                            \u001b[0m\u001b[90m Int64    \u001b[0m\u001b[90m Int64  \u001b[0m\u001b[90m Int64  \u001b[0m\u001b[90m Int64  \u001b[0m\n",
       "─────┼────────────────────────────────────────────────────────────────────────────────────────────────────────\n",
       "   1 │ Dollar Edges Lower                 [\"C\", \"P\", \"M\"]                           0       1       0       0\n",
       "   2 │ EURUSD marginally lower but trad…  [\"C\", \"M\", \"C\", \"J\", \"C\", \"P\", \"…         0       1       0       0\n",
       "   3 │ Dollar Finds Support               [\"C\", \"P\", \"C\"]                           0       1       1       0\n",
       "   4 │ Cuban peso in free fall against …  [\"M\", \"C\", \"T\", \"M\", \"C\", \"T\", \"…         0       1       0       0\n",
       "   5 │ Dollar Edges Higher                [\"C\", \"P\", \"M\"]                           0       1       0       0\n",
       "   6 │ China could take further measure…  [\"C\", \"M\", \"P\", \"M\", \"C\", \"M\", \"…         0       1       0       0\n",
       "   7 │ Dollar Largely Flat                [\"C\", \"M\", \"M\"]                           0       1       0       0\n",
       "   8 │ Dollar dips with US Treasury yie…  [\"C\", \"P\", \"T\", \"C\", \"C\", \"C\", \"…         1       1       0       0\n",
       "   9 │ Dollar Up As the Fed Signals An …  [\"C\", \"M\", \"M\", \"M\", \"C\", \"C\", \"…         1       1       0       0\n",
       "  10 │ Turkish central bank rate cuts s…  [\"M\", \"M\", \"C\", \"C\", \"C\", \"P\", \"…         1       1       0       0\n",
       "  11 │ Lira Slumps Again                  [\"C\", \"P\", \"M\"]                           0       1       1       0\n",
       "  12 │ Lebanon's currency plummets agai…  [\"C\", \"B\", \"C\", \"P\", \"M\", \"T\", \"…         1       1       0       0\n",
       "  13 │ Dollar Down as Expectations of E…  [\"C\", \"M\", \"T\", \"C\", \"B\", \"M\", \"…         1       1       0       0\n",
       "  14 │ Turkey’s Missing Billions Signal…  [\"C\", \"B\", \"C\", \"C\", \"C\", \"C\", \"…         0       1       0       0\n",
       "  15 │ Aussie rises                       [\"C\", \"P\"]                                0       1       1       0\n",
       "  16 │ Dollar Weakens                     [\"C\", \"P\"]                                0       1       1       0\n",
       "  17 │ Dollar Rebounds                    [\"C\", \"P\"]                                0       1       0       0\n",
       "  18 │ Dollar's Dazzling Run to Come Un…  [\"C\", \"B\", \"M\", \"C\", \"M\", \"P\", \"…         1       1       0       0\n",
       "  19 │ Dollar Pushes Higher               [\"C\", \"P\", \"M\"]                           0       1       1       0\n",
       "  20 │ Dollar Near Multi-Month Highs      [\"C\", \"C\", \"C\", \"B\", \"C\", \"C\"]            0       1       0       0\n",
       "  21 │ Dollar's five-week winning strea…  [\"C\", \"B\", \"M\", \"B\", \"C\", \"P\", \"…         1       1       0       0\n",
       "  22 │ Lira Slumps to New Low             [\"C\", \"C\", \"T\", \"M\", \"C\"]                 0       1       0       0\n",
       "  23 │ EURUSD Drops to New Low for the …  [\"C\", \"P\", \"T\", \"C\", \"C\", \"T\", \"…         0       1       1       0\n",
       "  24 │ Pound Vulnerable to Stagflation …  [\"C\", \"M\", \"B\", \"C\", \"C\", \"B\", \"…         1       1       0       0\n",
       "  25 │ EURUSD Set for More Pain as ECB …  [\"C\", \"C\", \"T\", \"M\", \"C\", \"B\", \"…         1       1       0       0\n",
       "  26 │ euro dips                          [\"C\", \"P\"]                                0       1       0       0\n",
       "  27 │ Dollar Climbs to 2021 Highs        [\"C\", \"P\", \"T\", \"C\", \"C\"]                 0       1       1       0\n",
       "  28 │ Australian Dollar Slumps           [\"C\", \"C\", \"C\"]                           0       1       0       0\n",
       "  29 │ Dollar Drifts Higher               [\"C\", \"P\", \"M\"]                           0       1       1       0\n",
       "  30 │ Dollar Set For Winning Week        [\"C\", \"P\", \"T\", \"C\", \"C\"]                 0       1       1       0\n",
       "  31 │ Euro Struggles For ECB Boost       [\"C\", \"P\", \"T\", \"C\", \"C\"]                 1       1       0       0\n",
       "  32 │ Aussie struggles                   [\"C\", \"P\"]                                0       1       1       0\n",
       "  33 │ Dollar Up but Near One-Month Low…  [\"C\", \"M\", \"J\", \"C\", \"C\", \"B\", \"…         1       1       0       0\n",
       "  34 │ Dollar Edges Off Three Week Lows   [\"C\", \"P\", \"C\", \"M\", \"C\", \"C\"]            0       1       0       0\n",
       "  35 │ Yuan Weakens                       [\"C\", \"P\"]                                0       1       1       0\n",
       "  36 │ Euro slips                         [\"C\", \"P\"]                                0       1       1       0\n",
       "  37 │ Dollar Climbs to Multi-Month Hig…  [\"C\", \"P\", \"T\", \"M\", \"B\", \"C\", \"…         0       1       1       0\n",
       "  38 │ JPMorgan Blames Turkey’s Volatil…  [\"C\", \"P\", \"C\", \"B\", \"C\", \"C\", \"…         0       1       0       0\n",
       "  39 │ Bets Against Dollar May Prove Pa…  [\"C\", \"B\", \"C\", \"M\", \"P\", \"C\", \"…         0       1       0       0\n",
       "  40 │ Dollar to Run of Out of Steam as…  [\"C\", \"M\", \"P\", \"T\", \"T\", \"M\", \"…         1       1       0       0\n",
       "  41 │ euro share slips                   [\"C\", \"C\", \"P\"]                           0       1       0       0\n",
       "  42 │ Dollar Extends Gains               [\"C\", \"P\", \"C\"]                           0       1       1       0\n",
       "  43 │ Floundering dollar falls to bott…  [\"M\", \"C\", \"P\", \"T\", \"C\", \"B\", \"…         1       1       1       0\n",
       "  44 │ Turkish Lira Slumps                [\"M\", \"C\", \"C\"]                           0       1       0       0\n",
       "  45 │ Dollar set for second consecutiv…  [\"C\", \"P\", \"T\", \"M\", \"M\", \"M\", \"…         0       1       1       0"
      ]
     },
     "execution_count": 185,
     "metadata": {},
     "output_type": "execute_result"
    }
   ],
   "source": [
    "false_negative = filter(row -> (row[\"Model1\"] == 1) & (row[\"Model3\"] == 0), data)"
   ]
  },
  {
   "cell_type": "code",
   "execution_count": 173,
   "id": "4202337a",
   "metadata": {},
   "outputs": [
    {
     "ename": "LoadError",
     "evalue": "MethodError: no method matching iterate(::Nothing)\n\u001b[0mClosest candidates are:\n\u001b[0m  iterate(\u001b[91m::Union{LinRange, StepRangeLen}\u001b[39m) at range.jl:664\n\u001b[0m  iterate(\u001b[91m::Union{LinRange, StepRangeLen}\u001b[39m, \u001b[91m::Int64\u001b[39m) at range.jl:664\n\u001b[0m  iterate(\u001b[91m::T\u001b[39m) where T<:Union{Base.KeySet{var\"#s79\", var\"#s78\"} where {var\"#s79\", var\"#s78\"<:Dict}, Base.ValueIterator{var\"#s77\"} where var\"#s77\"<:Dict} at dict.jl:693\n\u001b[0m  ...",
     "output_type": "error",
     "traceback": [
      "MethodError: no method matching iterate(::Nothing)\n\u001b[0mClosest candidates are:\n\u001b[0m  iterate(\u001b[91m::Union{LinRange, StepRangeLen}\u001b[39m) at range.jl:664\n\u001b[0m  iterate(\u001b[91m::Union{LinRange, StepRangeLen}\u001b[39m, \u001b[91m::Int64\u001b[39m) at range.jl:664\n\u001b[0m  iterate(\u001b[91m::T\u001b[39m) where T<:Union{Base.KeySet{var\"#s79\", var\"#s78\"} where {var\"#s79\", var\"#s78\"<:Dict}, Base.ValueIterator{var\"#s77\"} where var\"#s77\"<:Dict} at dict.jl:693\n\u001b[0m  ...",
      "",
      "Stacktrace:",
      " [1] indexed_iterate(I::Nothing, i::Int64)",
      "   @ Base ./tuple.jl:89",
      " [2] top-level scope",
      "   @ In[173]:1",
      " [3] eval",
      "   @ ./boot.jl:360 [inlined]",
      " [4] include_string(mapexpr::typeof(REPL.softscope), mod::Module, code::String, filename::String)",
      "   @ Base ./loading.jl:1094"
     ]
    }
   ],
   "source": [
    "hg, edges, atoms = get_hg_tokens(false_negative[1, 1], false_negative[1, 2], currencies, predicates);"
   ]
  },
  {
   "cell_type": "code",
   "execution_count": 137,
   "id": "5d4d7f82",
   "metadata": {},
   "outputs": [
    {
     "data": {
      "text/plain": [
       "7-element Vector{Any}:\n",
       " 'C': ASCII/Unicode U+0043 (category Lu: Letter, uppercase)\n",
       " 'C': ASCII/Unicode U+0043 (category Lu: Letter, uppercase)\n",
       " 'B': ASCII/Unicode U+0042 (category Lu: Letter, uppercase)\n",
       " 'S': ASCII/Unicode U+0053 (category Lu: Letter, uppercase)\n",
       " 'R': ASCII/Unicode U+0052 (category Lu: Letter, uppercase)\n",
       " 'P': ASCII/Unicode U+0050 (category Lu: Letter, uppercase)\n",
       " 'P': ASCII/Unicode U+0050 (category Lu: Letter, uppercase)"
      ]
     },
     "execution_count": 137,
     "metadata": {},
     "output_type": "execute_result"
    }
   ],
   "source": [
    "atoms"
   ]
  },
  {
   "cell_type": "code",
   "execution_count": 138,
   "id": "734837fc",
   "metadata": {},
   "outputs": [
    {
     "data": {
      "text/plain": [
       "Dict{Int64, Tuple{Vector{String}, Vector{PyObject}}} with 8 entries:\n",
       "  0 => ([\"M\", \"P\", \"B\", \"C\", \"J\", \"M\", \"C\", \"P\", \"T\", \"C\", \"B\", \"C\"], [PyObject Asymmetric, PyObject risks, PyObject around, PyObject inflation, PyObject and, PyObject higher, PyObject rates, PyObject emerge, PyObject in, PyObject USD, PyObject /, PyObject CAD])\n",
       "  4 => ([\"M\", \"P\", \"B\", \"C\", \"P\", \"S\"], [PyObject Asymmetric, PyObject risks, PyObject [around, inflation, and], PyObject [higher, rates], PyObject emerge, PyObject [in, [USD, /, CAD]]])\n",
       "  5 => ([\"M\", \"P\", \"B\", \"R\"], [PyObject Asymmetric, PyObject risks, PyObject [around, inflation, and], PyObject [[higher, rates], emerge, [in, [USD, /, CAD]]]])\n",
       "  6 => ([\"P\", \"B\", \"R\"], [PyObject [Asymmetric, risks], PyObject [around, inflation, and], PyObject [[higher, rates], emerge, [in, [USD, /, CAD]]]])\n",
       "  2 => ([\"M\", \"P\", \"B\", \"C\", \"J\", \"C\", \"P\", \"T\", \"C\"], [PyObject Asymmetric, PyObject risks, PyObject around, PyObject inflation, PyObject and, PyObject [higher, rates], PyObject emerge, PyObject in, PyObject [USD, /, CAD]])\n",
       "  7 => ([\"P\"], [PyObject [[Asymmetric, risks], [around, inflation, and], [[higher, rates], emerge, [in, [USD, /, CAD]]]]])\n",
       "  3 => ([\"M\", \"P\", \"B\", \"C\", \"P\", \"T\", \"C\"], [PyObject Asymmetric, PyObject risks, PyObject [around, inflation, and], PyObject [higher, rates], PyObject emerge, PyObject in, PyObject [USD, /, CAD]])\n",
       "  1 => ([\"M\", \"P\", \"B\", \"C\", \"J\", \"M\", \"C\", \"P\", \"T\", \"C\"], [PyObject Asymmetric, PyObject risks, PyObject around, PyObject inflation, PyObject and, PyObject higher, PyObject rates, PyObject emerge, PyObject in, PyObject [USD, /, CAD]])"
      ]
     },
     "execution_count": 138,
     "metadata": {},
     "output_type": "execute_result"
    }
   ],
   "source": [
    "edges"
   ]
  },
  {
   "cell_type": "code",
   "execution_count": 335,
   "id": "979dea8f",
   "metadata": {},
   "outputs": [
    {
     "data": {
      "text/plain": [
       "([\"S\"], PyObject[PyObject [[[Lira, Slumps], to], [New, Low]]])"
      ]
     },
     "execution_count": 335,
     "metadata": {},
     "output_type": "execute_result"
    }
   ],
   "source": [
    "edges[4]"
   ]
  },
  {
   "cell_type": "code",
   "execution_count": 339,
   "id": "5c11082d",
   "metadata": {},
   "outputs": [
    {
     "name": "stdout",
     "output_type": "stream",
     "text": [
      "[2]PyObject to\n",
      "false"
     ]
    },
    {
     "data": {
      "text/plain": [
       "false"
      ]
     },
     "execution_count": 339,
     "metadata": {},
     "output_type": "execute_result"
    }
   ],
   "source": [
    "check_connector(edges[2])"
   ]
  }
 ],
 "metadata": {
  "kernelspec": {
   "display_name": "Julia 1.6.1",
   "language": "julia",
   "name": "julia-1.6"
  },
  "language_info": {
   "file_extension": ".jl",
   "mimetype": "application/julia",
   "name": "julia",
   "version": "1.6.1"
  }
 },
 "nbformat": 4,
 "nbformat_minor": 5
}
