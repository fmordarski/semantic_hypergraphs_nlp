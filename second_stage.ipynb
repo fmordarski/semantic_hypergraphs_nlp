{
 "cells": [
  {
   "cell_type": "code",
   "execution_count": 23,
   "id": "9e391516",
   "metadata": {
    "scrolled": false
   },
   "outputs": [
    {
     "data": {
      "text/plain": [
       "draw_hg (generic function with 1 method)"
      ]
     },
     "execution_count": 23,
     "metadata": {},
     "output_type": "execute_result"
    }
   ],
   "source": [
    "include(\"./main_parser.jl\")"
   ]
  },
  {
   "cell_type": "code",
   "execution_count": 2,
   "id": "6693fcf1",
   "metadata": {},
   "outputs": [],
   "source": [
    "using PyCall, BSON, DecisionTree, Random, CSV"
   ]
  },
  {
   "cell_type": "code",
   "execution_count": 3,
   "id": "43c0de7b",
   "metadata": {},
   "outputs": [
    {
     "data": {
      "text/plain": [
       "PyObject <spacy.lang.en.English object at 0x7f6824288390>"
      ]
     },
     "execution_count": 3,
     "metadata": {},
     "output_type": "execute_result"
    }
   ],
   "source": [
    "BSON.@load \"models/model_rf.bson\" rf uniques\n",
    "\n",
    "spacy = pyimport(\"spacy\")\n",
    "\n",
    "nlp = spacy.load(\"en_core_web_lg\")"
   ]
  },
  {
   "cell_type": "code",
   "execution_count": 4,
   "id": "50608e0c",
   "metadata": {},
   "outputs": [],
   "source": [
    "articles = []\n",
    "open(\"articles_modified.txt\") do f\n",
    "    while ! eof(f)\n",
    "        s = readline(f)\n",
    "        append!(articles, [s])\n",
    "    end\n",
    "end"
   ]
  },
  {
   "cell_type": "code",
   "execution_count": 24,
   "id": "29d03eda",
   "metadata": {},
   "outputs": [
    {
     "data": {
      "text/html": [
       "<div class=\"data-frame\"><p>1,851 rows × 2 columns (omitted printing of 1 columns)</p><table class=\"data-frame\"><thead><tr><th></th><th>A</th></tr><tr><th></th><th title=\"String\">String</th></tr></thead><tbody><tr><th>1</th><td>Dollar dips but shows biggest weekly gain in almost 3 months</td></tr><tr><th>2</th><td>EURJPY Price Penetrates $131 Level Downside, Targeting $130 Level</td></tr><tr><th>3</th><td>Far from debasement, dollar hits overdrive</td></tr><tr><th>4</th><td>Dollar Edges Lower</td></tr><tr><th>5</th><td>Remains Near 16-Month High</td></tr><tr><th>6</th><td>NZ dollar drops below 70 level</td></tr><tr><th>7</th><td>Dollar Near 16-Month High on Rates Hike Bets</td></tr><tr><th>8</th><td>Dollar climbs after hot US inflation</td></tr><tr><th>9</th><td>euro dips</td></tr><tr><th>10</th><td>US Dollar Continues to Gain Following Wednesday&apos;s Inflation Data </td></tr><tr><th>11</th><td>De-Banking Crypto Traders Is More Sinister And Anti-Competitive -Aussie Senator Bragg</td></tr><tr><th>12</th><td>Euro US Dollar (EUR/USD) Exchange Rate Hits Low as USD Soars</td></tr><tr><th>13</th><td>Dollar Climbs to 2021 Highs</td></tr><tr><th>14</th><td>US CPI Points to Early Fed Hikes</td></tr><tr><th>15</th><td>Aussie dips below 73 on soft jobs report</td></tr><tr><th>16</th><td>Dollar Up, Boosted by Highest US Inflation in a Generation</td></tr><tr><th>17</th><td>GBPUSD Price Penetrates $1.34 Level, Targeting Support Level of $1.32</td></tr><tr><th>18</th><td>E-commerce giant JD starts accepting China&apos;s digital currency on Singles Day for the first time</td></tr><tr><th>19</th><td>Dollar climbs as US inflation surge fuels rate hike speculation</td></tr><tr><th>20</th><td>EUR/USD – A major break lower</td></tr><tr><th>21</th><td>Nordea sees EUR/USD dropping to 1.08 by the end of next year</td></tr><tr><th>22</th><td>New Zealand dollar dips to 71</td></tr><tr><th>23</th><td>Hedge funds&apos; FX plays get crushed in red October</td></tr><tr><th>24</th><td>Dollar Pushes Higher</td></tr><tr><th>25</th><td>US CPI Release in Focus</td></tr><tr><th>26</th><td>Aussie extends losses on China concerns</td></tr><tr><th>27</th><td>Dollar Up, at One-Month Low Against Yen as Investors Await US Inflation Data</td></tr><tr><th>28</th><td>USDJPY Price Penetrates Support Level of $113 Downside, Bearish Trend May Commence</td></tr><tr><th>29</th><td>Dollar dips before US inflation data</td></tr><tr><th>30</th><td>Pound US Dollar Exchange Rate Struggles ahead of US Inflation</td></tr><tr><th>&vellip;</th><td>&vellip;</td></tr></tbody></table></div>"
      ],
      "text/latex": [
       "\\begin{tabular}{r|cc}\n",
       "\t& A & \\\\\n",
       "\t\\hline\n",
       "\t& String & \\\\\n",
       "\t\\hline\n",
       "\t1 & Dollar dips but shows biggest weekly gain in almost 3 months & $\\dots$ \\\\\n",
       "\t2 & EURJPY Price Penetrates \\$131 Level Downside, Targeting \\$130 Level & $\\dots$ \\\\\n",
       "\t3 & Far from debasement, dollar hits overdrive & $\\dots$ \\\\\n",
       "\t4 & Dollar Edges Lower & $\\dots$ \\\\\n",
       "\t5 & Remains Near 16-Month High & $\\dots$ \\\\\n",
       "\t6 & NZ dollar drops below 70 level & $\\dots$ \\\\\n",
       "\t7 & Dollar Near 16-Month High on Rates Hike Bets & $\\dots$ \\\\\n",
       "\t8 & Dollar climbs after hot US inflation & $\\dots$ \\\\\n",
       "\t9 & euro dips & $\\dots$ \\\\\n",
       "\t10 & US Dollar Continues to Gain Following Wednesday's Inflation Data  & $\\dots$ \\\\\n",
       "\t11 & De-Banking Crypto Traders Is More Sinister And Anti-Competitive -Aussie Senator Bragg & $\\dots$ \\\\\n",
       "\t12 & Euro US Dollar (EUR/USD) Exchange Rate Hits Low as USD Soars & $\\dots$ \\\\\n",
       "\t13 & Dollar Climbs to 2021 Highs & $\\dots$ \\\\\n",
       "\t14 & US CPI Points to Early Fed Hikes & $\\dots$ \\\\\n",
       "\t15 & Aussie dips below 73 on soft jobs report & $\\dots$ \\\\\n",
       "\t16 & Dollar Up, Boosted by Highest US Inflation in a Generation & $\\dots$ \\\\\n",
       "\t17 & GBPUSD Price Penetrates \\$1.34 Level, Targeting Support Level of \\$1.32 & $\\dots$ \\\\\n",
       "\t18 & E-commerce giant JD starts accepting China's digital currency on Singles Day for the first time & $\\dots$ \\\\\n",
       "\t19 & Dollar climbs as US inflation surge fuels rate hike speculation & $\\dots$ \\\\\n",
       "\t20 & EUR/USD – A major break lower & $\\dots$ \\\\\n",
       "\t21 & Nordea sees EUR/USD dropping to 1.08 by the end of next year & $\\dots$ \\\\\n",
       "\t22 & New Zealand dollar dips to 71 & $\\dots$ \\\\\n",
       "\t23 & Hedge funds' FX plays get crushed in red October & $\\dots$ \\\\\n",
       "\t24 & Dollar Pushes Higher & $\\dots$ \\\\\n",
       "\t25 & US CPI Release in Focus & $\\dots$ \\\\\n",
       "\t26 & Aussie extends losses on China concerns & $\\dots$ \\\\\n",
       "\t27 & Dollar Up, at One-Month Low Against Yen as Investors Await US Inflation Data & $\\dots$ \\\\\n",
       "\t28 & USDJPY Price Penetrates Support Level of \\$113 Downside, Bearish Trend May Commence & $\\dots$ \\\\\n",
       "\t29 & Dollar dips before US inflation data & $\\dots$ \\\\\n",
       "\t30 & Pound US Dollar Exchange Rate Struggles ahead of US Inflation & $\\dots$ \\\\\n",
       "\t$\\dots$ & $\\dots$ &  \\\\\n",
       "\\end{tabular}\n"
      ],
      "text/plain": [
       "\u001b[1m1851×2 DataFrame\u001b[0m\n",
       "\u001b[1m  Row \u001b[0m│\u001b[1m A                                 \u001b[0m\u001b[1m B                                 \u001b[0m\n",
       "\u001b[1m      \u001b[0m│\u001b[90m String                            \u001b[0m\u001b[90m Array…                            \u001b[0m\n",
       "──────┼──────────────────────────────────────────────────────────────────────\n",
       "    1 │ Dollar dips but shows biggest we…  [\"C\", \"C\", \"J\", \"P\", \"M\", \"M\", \"…\n",
       "    2 │ EURJPY Price Penetrates $131 Lev…  [\"C\", \"C\", \"P\", \"M\", \"C\", \"C\", \"…\n",
       "    3 │ Far from debasement, dollar hits…  [\"M\", \"T\", \"C\", \"X\", \"C\", \"P\", \"…\n",
       "    4 │ Dollar Edges Lower                 [\"C\", \"C\", \"M\"]\n",
       "    5 │ Remains Near 16-Month High         [\"P\", \"T\", \"M\", \"X\", \"C\", \"C\"]\n",
       "    6 │ NZ dollar drops below 70 level     [\"C\", \"C\", \"P\", \"T\", \"C\", \"C\"]\n",
       "    7 │ Dollar Near 16-Month High on Rat…  [\"C\", \"T\", \"M\", \"X\", \"C\", \"C\", \"…\n",
       "    8 │ Dollar climbs after hot US infla…  [\"C\", \"P\", \"T\", \"M\", \"C\", \"C\"]\n",
       "    9 │ euro dips                          [\"C\", \"C\"]\n",
       "   10 │ US Dollar Continues to Gain Foll…  [\"C\", \"C\", \"P\", \"M\", \"P\", \"P\", \"…\n",
       "   11 │ De-Banking Crypto Traders Is Mor…  [\"C\", \"B\", \"C\", \"C\", \"C\", \"P\", \"…\n",
       "  ⋮   │                 ⋮                                  ⋮\n",
       " 1842 │ Euro, Sterling Gain on Summit Ag…  [\"C\", \"X\", \"C\", \"C\", \"B\", \"C\", \"…\n",
       " 1843 │ Negative Rates Lose Out to Zero …  [\"C\", \"C\", \"P\", \"M\", \"T\", \"C\", \"…\n",
       " 1844 │ EU progress and vaccine hopes ke…  [\"C\", \"C\", \"J\", \"C\", \"C\", \"P\", \"…\n",
       " 1845 │ Dollar Retreats Over Renewed Hop…  [\"C\", \"C\", \"T\", \"M\", \"C\", \"B\", \"…\n",
       " 1846 │ Euro Climbs on EU Recovery Fund …  [\"C\", \"C\", \"T\", \"C\", \"C\", \"C\", \"…\n",
       " 1847 │ Euro jumps to four-month peak on…  [\"C\", \"P\", \"T\", \"C\", \"X\", \"C\", \"…\n",
       " 1848 │ Dollar Up, With Investors Antici…  [\"C\", \"M\", \"X\", \"T\", \"C\", \"P\", \"…\n",
       " 1849 │ Iran's rial hits new low on unof…  [\"C\", \"B\", \"C\", \"P\", \"M\", \"C\", \"…\n",
       " 1850 │ virus, sanctions weigh             [\"C\", \"X\", \"C\", \"P\"]\n",
       " 1851 │ Dollar Set for Fourth-Weekly Slu…  [\"C\", \"C\", \"T\", \"C\", \"B\", \"C\", \"…\n",
       "\u001b[36m                                                            1830 rows omitted\u001b[0m"
      ]
     },
     "execution_count": 24,
     "metadata": {},
     "output_type": "execute_result"
    }
   ],
   "source": [
    "df = convert_df(articles, uniques, rf)"
   ]
  }
 ],
 "metadata": {
  "kernelspec": {
   "display_name": "Julia 1.6.1",
   "language": "julia",
   "name": "julia-1.6"
  },
  "language_info": {
   "file_extension": ".jl",
   "mimetype": "application/julia",
   "name": "julia",
   "version": "1.6.1"
  }
 },
 "nbformat": 4,
 "nbformat_minor": 5
}
