{
 "cells": [
  {
   "cell_type": "code",
   "execution_count": 1,
   "id": "9e391516",
   "metadata": {
    "scrolled": false
   },
   "outputs": [
    {
     "data": {
      "text/plain": [
       "draw_hg (generic function with 1 method)"
      ]
     },
     "execution_count": 1,
     "metadata": {},
     "output_type": "execute_result"
    }
   ],
   "source": [
    "include(\"./main_parser.jl\")"
   ]
  },
  {
   "cell_type": "code",
   "execution_count": 28,
   "id": "6693fcf1",
   "metadata": {},
   "outputs": [
    {
     "name": "stderr",
     "output_type": "stream",
     "text": [
      "┌ Info: Precompiling Metrics [cb9f3049-315b-4f05-b90c-a8adaec4da78]\n",
      "└ @ Base loading.jl:1317\n",
      "\u001b[33m\u001b[1m┌ \u001b[22m\u001b[39m\u001b[33m\u001b[1mWarning: \u001b[22m\u001b[39mModule StatsBase with build ID 5873155674673 is missing from the cache.\n",
      "\u001b[33m\u001b[1m│ \u001b[22m\u001b[39mThis may mean StatsBase [2913bbd2-ae8a-5f71-8c99-4fb6c76f3a91] does not support precompilation but is imported by a module that does.\n",
      "\u001b[33m\u001b[1m└ \u001b[22m\u001b[39m\u001b[90m@ Base loading.jl:1008\u001b[39m\n",
      "┌ Info: Skipping precompilation since __precompile__(false). Importing Metrics [cb9f3049-315b-4f05-b90c-a8adaec4da78].\n",
      "└ @ Base loading.jl:1025\n",
      "┌ Warning: Replacing docs for `Metrics.bin_to_cat :: Tuple{Any, Any}` in module `Metrics`\n",
      "└ @ Base.Docs docs/Docs.jl:240\n",
      "┌ Warning: Replacing docs for `Metrics.confusion_matrix :: Tuple{Any, Any}` in module `Metrics`\n",
      "└ @ Base.Docs docs/Docs.jl:240\n",
      "┌ Warning: Replacing docs for `Metrics.TFPN :: Tuple{Any, Any}` in module `Metrics`\n",
      "└ @ Base.Docs docs/Docs.jl:240\n",
      "┌ Warning: Replacing docs for `Metrics.binary_accuracy :: Tuple{Any, Any}` in module `Metrics`\n",
      "└ @ Base.Docs docs/Docs.jl:240\n",
      "┌ Warning: Replacing docs for `Metrics.categorical_accuracy :: Tuple{Any, Any}` in module `Metrics`\n",
      "└ @ Base.Docs docs/Docs.jl:240\n",
      "┌ Warning: Replacing docs for `Metrics.sparse_categorical :: Tuple{Any, Any}` in module `Metrics`\n",
      "└ @ Base.Docs docs/Docs.jl:240\n",
      "┌ Warning: Replacing docs for `Metrics.top_k_categorical :: Tuple{Any, Any}` in module `Metrics`\n",
      "└ @ Base.Docs docs/Docs.jl:240\n",
      "┌ Warning: Replacing docs for `Metrics.top_k_sparse_categorical :: Tuple{Any, Any}` in module `Metrics`\n",
      "└ @ Base.Docs docs/Docs.jl:240\n",
      "┌ Warning: Replacing docs for `Metrics.precision :: Tuple{Any, Any}` in module `Metrics`\n",
      "└ @ Base.Docs docs/Docs.jl:240\n",
      "┌ Warning: Replacing docs for `Metrics.recall :: Tuple{Any, Any}` in module `Metrics`\n",
      "└ @ Base.Docs docs/Docs.jl:240\n",
      "┌ Warning: Replacing docs for `Metrics.f_beta_score :: Tuple{Any, Any}` in module `Metrics`\n",
      "└ @ Base.Docs docs/Docs.jl:240\n",
      "┌ Warning: Replacing docs for `Metrics.specificity :: Tuple{Any, Any}` in module `Metrics`\n",
      "└ @ Base.Docs docs/Docs.jl:240\n",
      "┌ Warning: Replacing docs for `Metrics.false_alarm_rate :: Tuple{Any, Any}` in module `Metrics`\n",
      "└ @ Base.Docs docs/Docs.jl:240\n",
      "┌ Warning: Replacing docs for `Metrics.cohen_kappa :: Tuple{Any, Any}` in module `Metrics`\n",
      "└ @ Base.Docs docs/Docs.jl:240\n",
      "┌ Warning: Replacing docs for `Metrics.statsfromTFPN :: NTuple{4, Any}` in module `Metrics`\n",
      "└ @ Base.Docs docs/Docs.jl:240\n",
      "┌ Warning: Replacing docs for `Metrics.classwise_stats :: Tuple{Any, Any}` in module `Metrics`\n",
      "└ @ Base.Docs docs/Docs.jl:240\n",
      "┌ Warning: Replacing docs for `Metrics.global_stats :: Tuple{Any, Any}` in module `Metrics`\n",
      "└ @ Base.Docs docs/Docs.jl:240\n"
     ]
    }
   ],
   "source": [
    "using PyCall, BSON, DecisionTree, Random, CSV, Metrics"
   ]
  },
  {
   "cell_type": "code",
   "execution_count": 3,
   "id": "43c0de7b",
   "metadata": {},
   "outputs": [
    {
     "data": {
      "text/plain": [
       "PyObject <spacy.lang.en.English object at 0x7f1e92dabdd0>"
      ]
     },
     "execution_count": 3,
     "metadata": {},
     "output_type": "execute_result"
    }
   ],
   "source": [
    "BSON.@load \"models/model_rf.bson\" rf uniques\n",
    "\n",
    "spacy = pyimport(\"spacy\")\n",
    "\n",
    "nlp = spacy.load(\"en_core_web_trf\")"
   ]
  },
  {
   "cell_type": "code",
   "execution_count": 4,
   "id": "308ad2dc",
   "metadata": {},
   "outputs": [],
   "source": [
    "data = DataFrame(CSV.File(\"data/articles_modified_short.csv\"));"
   ]
  },
  {
   "cell_type": "code",
   "execution_count": 5,
   "id": "267db9dd",
   "metadata": {},
   "outputs": [
    {
     "data": {
      "text/plain": [
       "936"
      ]
     },
     "execution_count": 5,
     "metadata": {},
     "output_type": "execute_result"
    }
   ],
   "source": [
    "nrow(data)"
   ]
  },
  {
   "cell_type": "code",
   "execution_count": 6,
   "id": "29d03eda",
   "metadata": {},
   "outputs": [],
   "source": [
    "df = convert_df(data[:, 1], uniques, rf);"
   ]
  },
  {
   "cell_type": "code",
   "execution_count": 7,
   "id": "aa444612",
   "metadata": {},
   "outputs": [
    {
     "data": {
      "text/plain": [
       "(80, 1000)"
      ]
     },
     "execution_count": 7,
     "metadata": {},
     "output_type": "execute_result"
    }
   ],
   "source": [
    "ENV[\"LINES\"], ENV[\"COLUMNS\"] = 80, 1000"
   ]
  },
  {
   "cell_type": "code",
   "execution_count": 8,
   "id": "4af5a039",
   "metadata": {},
   "outputs": [],
   "source": [
    "data = innerjoin(df, data, on =:Article);"
   ]
  },
  {
   "cell_type": "code",
   "execution_count": 9,
   "id": "5b3e0b0b",
   "metadata": {},
   "outputs": [
    {
     "data": {
      "text/html": [
       "<div class=\"data-frame\"><p>5 rows × 3 columns</p><table class=\"data-frame\"><thead><tr><th></th><th>Article</th><th>Atoms</th><th>relation</th></tr><tr><th></th><th title=\"String\">String</th><th title=\"Vector{String}\">Array…</th><th title=\"Int64\">Int64</th></tr></thead><tbody><tr><th>1</th><td>USDCHF lower but pair remains stuck in the mud</td><td>[&quot;C&quot;, &quot;C&quot;, &quot;J&quot;, &quot;C&quot;, &quot;P&quot;, &quot;C&quot;, &quot;B&quot;, &quot;M&quot;, &quot;C&quot;]</td><td>0</td></tr><tr><th>2</th><td>Aussie rises as risk appetite rises</td><td>[&quot;C&quot;, &quot;P&quot;, &quot;T&quot;, &quot;C&quot;, &quot;C&quot;, &quot;P&quot;]</td><td>1</td></tr><tr><th>3</th><td>GBPUSD working on its 3rd day higher but the going is relatively slow</td><td>[&quot;C&quot;, &quot;P&quot;, &quot;T&quot;, &quot;C&quot;, &quot;M&quot;, &quot;C&quot;, &quot;M&quot;, &quot;J&quot;, &quot;M&quot;, &quot;C&quot;, &quot;P&quot;, &quot;M&quot;, &quot;C&quot;]</td><td>0</td></tr><tr><th>4</th><td>EURUSD remains relatively contained although higher on the day</td><td>[&quot;C&quot;, &quot;P&quot;, &quot;M&quot;, &quot;M&quot;, &quot;T&quot;, &quot;C&quot;, &quot;B&quot;, &quot;M&quot;, &quot;C&quot;]</td><td>0</td></tr><tr><th>5</th><td>Dollar Edges Lower</td><td>[&quot;C&quot;, &quot;P&quot;, &quot;M&quot;]</td><td>0</td></tr></tbody></table></div>"
      ],
      "text/latex": [
       "\\begin{tabular}{r|ccc}\n",
       "\t& Article & Atoms & relation\\\\\n",
       "\t\\hline\n",
       "\t& String & Array… & Int64\\\\\n",
       "\t\\hline\n",
       "\t1 & USDCHF lower but pair remains stuck in the mud & [\"C\", \"C\", \"J\", \"C\", \"P\", \"C\", \"B\", \"M\", \"C\"] & 0 \\\\\n",
       "\t2 & Aussie rises as risk appetite rises & [\"C\", \"P\", \"T\", \"C\", \"C\", \"P\"] & 1 \\\\\n",
       "\t3 & GBPUSD working on its 3rd day higher but the going is relatively slow & [\"C\", \"P\", \"T\", \"C\", \"M\", \"C\", \"M\", \"J\", \"M\", \"C\", \"P\", \"M\", \"C\"] & 0 \\\\\n",
       "\t4 & EURUSD remains relatively contained although higher on the day & [\"C\", \"P\", \"M\", \"M\", \"T\", \"C\", \"B\", \"M\", \"C\"] & 0 \\\\\n",
       "\t5 & Dollar Edges Lower & [\"C\", \"P\", \"M\"] & 0 \\\\\n",
       "\\end{tabular}\n"
      ],
      "text/plain": [
       "\u001b[1m5×3 DataFrame\u001b[0m\n",
       "\u001b[1m Row \u001b[0m│\u001b[1m Article                           \u001b[0m\u001b[1m Atoms                             \u001b[0m\u001b[1m relation \u001b[0m\n",
       "\u001b[1m     \u001b[0m│\u001b[90m String                            \u001b[0m\u001b[90m Array…                            \u001b[0m\u001b[90m Int64    \u001b[0m\n",
       "─────┼────────────────────────────────────────────────────────────────────────────────\n",
       "   1 │ USDCHF lower but pair remains st…  [\"C\", \"C\", \"J\", \"C\", \"P\", \"C\", \"…         0\n",
       "   2 │ Aussie rises as risk appetite ri…  [\"C\", \"P\", \"T\", \"C\", \"C\", \"P\"]            1\n",
       "   3 │ GBPUSD working on its 3rd day hi…  [\"C\", \"P\", \"T\", \"C\", \"M\", \"C\", \"…         0\n",
       "   4 │ EURUSD remains relatively contai…  [\"C\", \"P\", \"M\", \"M\", \"T\", \"C\", \"…         0\n",
       "   5 │ Dollar Edges Lower                 [\"C\", \"P\", \"M\"]                           0"
      ]
     },
     "execution_count": 9,
     "metadata": {},
     "output_type": "execute_result"
    }
   ],
   "source": [
    "first(data, 5)"
   ]
  },
  {
   "cell_type": "code",
   "execution_count": 10,
   "id": "b27a8b97",
   "metadata": {},
   "outputs": [
    {
     "data": {
      "text/plain": [
       "490"
      ]
     },
     "execution_count": 10,
     "metadata": {},
     "output_type": "execute_result"
    }
   ],
   "source": [
    "nrow(data)"
   ]
  },
  {
   "cell_type": "code",
   "execution_count": 11,
   "id": "2830de9e",
   "metadata": {},
   "outputs": [
    {
     "data": {
      "text/plain": [
       "226"
      ]
     },
     "execution_count": 11,
     "metadata": {},
     "output_type": "execute_result"
    }
   ],
   "source": [
    "nrow(filter(:relation => ==(0), data))"
   ]
  },
  {
   "cell_type": "code",
   "execution_count": 12,
   "id": "35be2ee1",
   "metadata": {},
   "outputs": [
    {
     "data": {
      "image/png": "[encoded data removed]",
      "text/plain": [
       "Figure(PyObject <Figure size 800x800 with 1 Axes>)"
      ]
     },
     "metadata": {},
     "output_type": "display_data"
    }
   ],
   "source": [
    "using PyPlot\n",
    "fig, ax = subplots(figsize=(8,8))\n",
    "PyPlot.bar([0, 1], [nrow(filter(:relation => ==(0), data)), \n",
    "                        nrow(filter(:relation => ==(1), data))],\n",
    "            width=0.6)\n",
    "PyPlot.xticks([0,1 ], [\"No relation\", \"Relation\"])\n",
    "PyPlot.ylabel(\"Count\")\n",
    "PyPlot.savefig(\"hist.png\");"
   ]
  },
  {
   "cell_type": "code",
   "execution_count": 13,
   "id": "6f627d75",
   "metadata": {},
   "outputs": [],
   "source": [
    "atoms = data[:, :Atoms];"
   ]
  },
  {
   "cell_type": "code",
   "execution_count": 14,
   "id": "0a55e4f9",
   "metadata": {},
   "outputs": [],
   "source": [
    "atoms_dict = Dict()\n",
    "for article in atoms\n",
    "    for atom in article\n",
    "        if !(atom in keys(atoms_dict))\n",
    "            atoms_dict[atom] = 1\n",
    "        else\n",
    "            atoms_dict[atom] += 1\n",
    "        end\n",
    "    end\n",
    "end"
   ]
  },
  {
   "cell_type": "code",
   "execution_count": 15,
   "id": "fc9d401a",
   "metadata": {},
   "outputs": [
    {
     "data": {
      "text/plain": [
       "Dict{Any, Any} with 6 entries:\n",
       "  \"B\" => 165\n",
       "  \"J\" => 23\n",
       "  \"M\" => 657\n",
       "  \"C\" => 1992\n",
       "  \"P\" => 635\n",
       "  \"T\" => 489"
      ]
     },
     "execution_count": 15,
     "metadata": {},
     "output_type": "execute_result"
    }
   ],
   "source": [
    "atoms_dict"
   ]
  },
  {
   "cell_type": "code",
   "execution_count": 16,
   "id": "79d20b03",
   "metadata": {
    "scrolled": true
   },
   "outputs": [
    {
     "data": {
      "image/png": "[encoded data removed]",
      "text/plain": [
       "Figure(PyObject <Figure size 1000x700 with 1 Axes>)"
      ]
     },
     "metadata": {},
     "output_type": "display_data"
    }
   ],
   "source": [
    "fig, ax = subplots(figsize=(10,7))\n",
    "PyPlot.bar([1,2,3,4,5,6], [value for value in values(atoms_dict)],\n",
    "            width=0.6)\n",
    "PyPlot.ylabel(\"Count\")\n",
    "PyPlot.xticks([1,2,3,4,5,6], [key for key in keys(atoms_dict)])\n",
    "PyPlot.xlabel(\"Predicted atom\")\n",
    "PyPlot.savefig(\"atoms.png\");"
   ]
  },
  {
   "cell_type": "code",
   "execution_count": 17,
   "id": "4811eb84",
   "metadata": {},
   "outputs": [],
   "source": [
    "# predicates = [\"dips\", \"rebounds\", \"firms\"]\n",
    "predicates = [\"dips\", \"rebounds\", \"firms\", \"posts\", \n",
    "              \"edges\", \"hikes\", \"ticks\", \"struggles\", \"ends\"]\n",
    "currencies = [\"pound\", \"dollar\", \"sterling\", \"euro\", \"dollar\", \"lira\", \"aussie\",\n",
    "              \"gbpusd\", \"gbp\", \"usdcad\", \"sterlin\", \"myanmar\", \"yuan\", \"zloty\", \"forint\",\n",
    "              \"yen\", \"usd/cad\", \"ruble\", \"lebanon's\", \"rouble\", \"swiss\", \"rupee\",\n",
    "              \"eurusd\"];"
   ]
  },
  {
   "cell_type": "code",
   "execution_count": 18,
   "id": "7290f6ae",
   "metadata": {},
   "outputs": [
    {
     "data": {
      "text/plain": [
       "get_hg_tokens (generic function with 3 methods)"
      ]
     },
     "execution_count": 18,
     "metadata": {},
     "output_type": "execute_result"
    }
   ],
   "source": [
    "function get_hg_tokens(text, atoms, currencies=[], predicates=[])\n",
    "    doc = nlp(text)\n",
    "#     hg, tokens = nothing\n",
    "    try\n",
    "        for (i, token) in enumerate(doc)\n",
    "#             if lowercase(token.text) in currencies\n",
    "#                 atoms[i] = \"C\"\n",
    "#             end\n",
    "#             if lowercase(token.text) in predicates\n",
    "#                 atoms[i] = \"P\"\n",
    "#             end\n",
    "        end\n",
    "        beta(patterns, doc, atoms)\n",
    "    catch e\n",
    "        return nothing\n",
    "    end\n",
    "#     return hg, tokens\n",
    "end"
   ]
  },
  {
   "cell_type": "code",
   "execution_count": 19,
   "id": "62b3e41d",
   "metadata": {},
   "outputs": [
    {
     "data": {
      "text/plain": [
       "model_1 (generic function with 1 method)"
      ]
     },
     "execution_count": 19,
     "metadata": {},
     "output_type": "execute_result"
    }
   ],
   "source": [
    "function model_1(currencies_list, article)\n",
    "    if any(y -> occursin(y, lowercase(article)), currencies_list)\n",
    "        return 1\n",
    "    else\n",
    "        return 0\n",
    "    end\n",
    "end     "
   ]
  },
  {
   "cell_type": "code",
   "execution_count": 20,
   "id": "6eb89f07",
   "metadata": {},
   "outputs": [
    {
     "data": {
      "text/plain": [
       "model_2 (generic function with 1 method)"
      ]
     },
     "execution_count": 20,
     "metadata": {},
     "output_type": "execute_result"
    }
   ],
   "source": [
    "function model_2(currencies_list, article)\n",
    "    output = 0\n",
    "    currencies_indexes = []\n",
    "    doc = nlp(article)\n",
    "    for (i, token) in enumerate(doc)\n",
    "        if lowercase(token.text) in currencies_list\n",
    "            append!(currencies_indexes, i)\n",
    "        end\n",
    "    end\n",
    "    if length(doc) > 3\n",
    "        for i in currencies_indexes\n",
    "            if length(doc) > i\n",
    "                if doc[i+1].pos_ == \"VERB\"\n",
    "                    output = 1\n",
    "                end\n",
    "            end\n",
    "        end\n",
    "    end\n",
    "    return output\n",
    "end   "
   ]
  },
  {
   "cell_type": "code",
   "execution_count": 21,
   "id": "49c04f38",
   "metadata": {},
   "outputs": [
    {
     "data": {
      "text/plain": [
       "check_curr (generic function with 1 method)"
      ]
     },
     "execution_count": 21,
     "metadata": {},
     "output_type": "execute_result"
    }
   ],
   "source": [
    "function check_curr(token, currencies_list)\n",
    "    curr_check = lowercase(token.text) in currencies_list\n",
    "    return curr_check\n",
    "end "
   ]
  },
  {
   "cell_type": "code",
   "execution_count": 22,
   "id": "e3426eed",
   "metadata": {},
   "outputs": [
    {
     "data": {
      "text/plain": [
       "true"
      ]
     },
     "execution_count": 22,
     "metadata": {},
     "output_type": "execute_result"
    }
   ],
   "source": [
    "x = [\"to\"]\n",
    "any(x -> lowercase(x) in [\"to\", \"for\"], x)"
   ]
  },
  {
   "cell_type": "code",
   "execution_count": 23,
   "id": "1968d8d5",
   "metadata": {},
   "outputs": [
    {
     "data": {
      "text/plain": [
       "check_connector (generic function with 1 method)"
      ]
     },
     "execution_count": 23,
     "metadata": {},
     "output_type": "execute_result"
    }
   ],
   "source": [
    "function check_connector(doc, atoms)\n",
    "#     last_tokens = input[1]\n",
    "#     t_index = findall(x->x == \"T\", last_tokens)\n",
    "#     if length(t_index) == 0\n",
    "#         return true\n",
    "#     else\n",
    "#         t_texts = []\n",
    "#         for token in input[2][t_index]\n",
    "#             try\n",
    "#                 append!(t_texts, [token.text])\n",
    "#             catch e\n",
    "#             end\n",
    "#         end\n",
    "#         if any(y-> lowercase(y) in [\"to\", \"for\"], t_texts)\n",
    "#             return false\n",
    "#         else\n",
    "#             return true\n",
    "#         end\n",
    "#     end\n",
    "    t_index = findall(x->x == \"T\", atoms)\n",
    "    texts = [token.text for token in doc]\n",
    "    if length(t_index) == 0\n",
    "        return false\n",
    "    else\n",
    "        t_texts = texts[t_index]\n",
    "        if all(y -> lowercase(y) in [\"to\", \"for\", \"below\", \"near\", \"off\"], t_texts)\n",
    "            return false\n",
    "        else\n",
    "            return true\n",
    "        end\n",
    "    end\n",
    "end"
   ]
  },
  {
   "cell_type": "code",
   "execution_count": 24,
   "id": "fd33b032",
   "metadata": {},
   "outputs": [
    {
     "data": {
      "text/plain": [
       "model_3 (generic function with 1 method)"
      ]
     },
     "execution_count": 24,
     "metadata": {},
     "output_type": "execute_result"
    }
   ],
   "source": [
    "function model_3(article, atoms, currencies_list, predicates)\n",
    "    output = 0\n",
    "    doc = nlp(article)\n",
    "    out = get_hg_tokens(article, atoms, currencies_list, predicates)\n",
    "#     if (!(out == nothing) & (any(y -> occursin(y, lowercase(article)), currencies_list)))\n",
    "    if !(out == nothing)\n",
    "        conn = check_connector(doc, atoms)\n",
    "        indexes = findall(x -> x in ['S', 'R'], out[3])\n",
    "        for index in indexes\n",
    "            relations = findall(x -> x==1, out[1][:, index])\n",
    "            if (length(relations) > 3) & (conn) \n",
    "                for word in relations\n",
    "                    curr = check_curr(doc[word], currencies_list)\n",
    "                    if curr\n",
    "#                         conn = check_connector(out[2][index-1])\n",
    "#                         if conn\n",
    "#                             return 1\n",
    "#                         else\n",
    "#                             return 0\n",
    "#                         end\n",
    "                        return 1\n",
    "                    end\n",
    "                end\n",
    "            end\n",
    "        end\n",
    "    end\n",
    "    return 0\n",
    "end"
   ]
  },
  {
   "cell_type": "code",
   "execution_count": 25,
   "id": "b07046cf",
   "metadata": {},
   "outputs": [],
   "source": [
    "insertcols!(data, 4, :Model1 => 0, :Model2 => 0, :Model3 => 0);"
   ]
  },
  {
   "cell_type": "code",
   "execution_count": 26,
   "id": "b3640fe7",
   "metadata": {},
   "outputs": [],
   "source": [
    "for row in eachrow(data)\n",
    "    row.Model1 = model_1(currencies, row.Article)\n",
    "    row.Model2 = model_2(currencies, row.Article)\n",
    "    row.Model3 = model_3(row.Article, row.Atoms, currencies, predicates)\n",
    "end"
   ]
  },
  {
   "cell_type": "code",
   "execution_count": 62,
   "id": "fa48435f",
   "metadata": {},
   "outputs": [
    {
     "data": {
      "text/plain": [
       "evaluate (generic function with 1 method)"
      ]
     },
     "execution_count": 62,
     "metadata": {},
     "output_type": "execute_result"
    }
   ],
   "source": [
    "function evaluate(model)\n",
    "    tp = nrow(filter(row -> (row[model] == 1) & (row[\"relation\"] == 1), data))\n",
    "    fn = nrow(filter(row -> (row[model] == 0) & (row[\"relation\"] == 1), data))\n",
    "    fp = nrow(filter(row -> (row[model] == 1) & (row[\"relation\"] == 0), data))\n",
    "    tn = nrow(filter(row -> (row[model] == 0) & (row[\"relation\"] == 0), data))\n",
    "    acc = (tp + tn)/(tp+fn+fp+tn)\n",
    "    er = (fp+fn)/(tp+fp+tn+fn)\n",
    "    sn = tp/(tp+fn)\n",
    "    sp = tn/(tn+fp)\n",
    "    p = tp/(tp+fp)\n",
    "    r = tp/(tp+fn)\n",
    "    fm = (2*p*r)/(p+r)\n",
    "    println(\"Accuracy: \", acc)\n",
    "    println(\"Error rate: \", er)\n",
    "    println(\"Sensitivity: \", sn)\n",
    "    println(\"Specificity: \", sp)\n",
    "    println(\"Precision: \", p)\n",
    "    println(\"Recall: \", r)\n",
    "    println(\"F1 score: \", fm)\n",
    "end"
   ]
  },
  {
   "cell_type": "code",
   "execution_count": 63,
   "id": "27858480",
   "metadata": {},
   "outputs": [
    {
     "name": "stdout",
     "output_type": "stream",
     "text": [
      "Accuracy: 0.8530612244897959\n",
      "Error rate: 0.1469387755102041\n",
      "Sensitivity: 1.0\n",
      "Specificity: 0.6814159292035398\n",
      "Precision: 0.7857142857142857\n",
      "Recall: 1.0\n",
      "F1 score: 0.88\n"
     ]
    }
   ],
   "source": [
    "evaluate(\"Model1\")"
   ]
  },
  {
   "cell_type": "code",
   "execution_count": 64,
   "id": "25e1164a",
   "metadata": {},
   "outputs": [
    {
     "name": "stdout",
     "output_type": "stream",
     "text": [
      "Accuracy: 0.7857142857142857\n",
      "Error rate: 0.21428571428571427\n",
      "Sensitivity: 0.7083333333333334\n",
      "Specificity: 0.8761061946902655\n",
      "Precision: 0.8697674418604651\n",
      "Recall: 0.7083333333333334\n",
      "F1 score: 0.7807933194154487\n"
     ]
    }
   ],
   "source": [
    "evaluate(\"Model2\")"
   ]
  },
  {
   "cell_type": "code",
   "execution_count": 65,
   "id": "2ba0b931",
   "metadata": {},
   "outputs": [
    {
     "name": "stdout",
     "output_type": "stream",
     "text": [
      "Accuracy: 0.9224489795918367\n",
      "Error rate: 0.07755102040816327\n",
      "Sensitivity: 0.9393939393939394\n",
      "Specificity: 0.9026548672566371\n",
      "Precision: 0.9185185185185185\n",
      "Recall: 0.9393939393939394\n",
      "F1 score: 0.9288389513108615\n"
     ]
    }
   ],
   "source": [
    "evaluate(\"Model3\")"
   ]
  },
  {
   "cell_type": "code",
   "execution_count": 51,
   "id": "c85e8eb4",
   "metadata": {},
   "outputs": [
    {
     "data": {
      "text/html": [
       "<div class=\"data-frame\"><p>22 rows × 6 columns</p><table class=\"data-frame\"><thead><tr><th></th><th>Article</th><th>Atoms</th><th>relation</th><th>Model1</th><th>Model2</th><th>Model3</th></tr><tr><th></th><th title=\"String\">String</th><th title=\"Vector{String}\">Array…</th><th title=\"Int64\">Int64</th><th title=\"Int64\">Int64</th><th title=\"Int64\">Int64</th><th title=\"Int64\">Int64</th></tr></thead><tbody><tr><th>1</th><td>GBPUSD working on its 3rd day higher but the going is relatively slow</td><td>[&quot;C&quot;, &quot;P&quot;, &quot;T&quot;, &quot;C&quot;, &quot;M&quot;, &quot;C&quot;, &quot;M&quot;, &quot;J&quot;, &quot;M&quot;, &quot;C&quot;, &quot;P&quot;, &quot;M&quot;, &quot;C&quot;]</td><td>0</td><td>1</td><td>1</td><td>1</td></tr><tr><th>2</th><td>EURUSD remains relatively contained although higher on the day</td><td>[&quot;C&quot;, &quot;P&quot;, &quot;M&quot;, &quot;M&quot;, &quot;T&quot;, &quot;C&quot;, &quot;B&quot;, &quot;M&quot;, &quot;C&quot;]</td><td>0</td><td>1</td><td>1</td><td>1</td></tr><tr><th>3</th><td>Cuban peso in free fall against the dollar</td><td>[&quot;M&quot;, &quot;C&quot;, &quot;T&quot;, &quot;M&quot;, &quot;C&quot;, &quot;B&quot;, &quot;M&quot;, &quot;C&quot;]</td><td>0</td><td>1</td><td>0</td><td>1</td></tr><tr><th>4</th><td>Republican senator urges US to monitor China&apos;s digital yuan push during Olympics</td><td>[&quot;M&quot;, &quot;C&quot;, &quot;P&quot;, &quot;C&quot;, &quot;M&quot;, &quot;P&quot;, &quot;C&quot;, &quot;B&quot;, &quot;M&quot;, &quot;C&quot;, &quot;C&quot;, &quot;T&quot;, &quot;C&quot;]</td><td>0</td><td>1</td><td>0</td><td>1</td></tr><tr><th>5</th><td>HSBC Strategist Sees Bullish Pound Risks Going Into BOE Meeting</td><td>[&quot;C&quot;, &quot;C&quot;, &quot;P&quot;, &quot;M&quot;, &quot;C&quot;, &quot;C&quot;, &quot;P&quot;, &quot;T&quot;, &quot;C&quot;, &quot;C&quot;]</td><td>0</td><td>1</td><td>0</td><td>1</td></tr><tr><th>6</th><td>Dollar on track for best year since 2015</td><td>[&quot;C&quot;, &quot;T&quot;, &quot;C&quot;, &quot;B&quot;, &quot;M&quot;, &quot;C&quot;, &quot;B&quot;, &quot;C&quot;]</td><td>0</td><td>1</td><td>0</td><td>1</td></tr><tr><th>7</th><td>Turkish Lira Extends Selloff Past 14 Per Dollar to Record Low</td><td>[&quot;M&quot;, &quot;C&quot;, &quot;P&quot;, &quot;C&quot;, &quot;T&quot;, &quot;C&quot;, &quot;B&quot;, &quot;C&quot;, &quot;T&quot;, &quot;M&quot;, &quot;C&quot;]</td><td>0</td><td>1</td><td>1</td><td>1</td></tr><tr><th>8</th><td>Remains Near Over Four Year High Versus Yen</td><td>[&quot;P&quot;, &quot;M&quot;, &quot;M&quot;, &quot;C&quot;, &quot;C&quot;, &quot;M&quot;, &quot;T&quot;, &quot;C&quot;]</td><td>0</td><td>1</td><td>0</td><td>1</td></tr><tr><th>9</th><td>Yen Weakens Past Key 115 Level for First Time in Four Years</td><td>[&quot;C&quot;, &quot;P&quot;, &quot;T&quot;, &quot;M&quot;, &quot;M&quot;, &quot;C&quot;, &quot;T&quot;, &quot;M&quot;, &quot;C&quot;, &quot;B&quot;, &quot;C&quot;, &quot;C&quot;]</td><td>0</td><td>1</td><td>1</td><td>1</td></tr><tr><th>10</th><td>Nordea sees EURUSD dropping to 1.08 by the end of next year</td><td>[&quot;C&quot;, &quot;P&quot;, &quot;C&quot;, &quot;P&quot;, &quot;T&quot;, &quot;C&quot;, &quot;T&quot;, &quot;M&quot;, &quot;C&quot;, &quot;B&quot;, &quot;M&quot;, &quot;C&quot;]</td><td>0</td><td>1</td><td>1</td><td>1</td></tr><tr><th>11</th><td>Smile on dollar bulls</td><td>[&quot;P&quot;, &quot;T&quot;, &quot;C&quot;, &quot;C&quot;]</td><td>0</td><td>1</td><td>0</td><td>1</td></tr><tr><th>12</th><td>The Fate of Turkey’s Battered Lira Hangs With Local Investors</td><td>[&quot;M&quot;, &quot;C&quot;, &quot;B&quot;, &quot;C&quot;, &quot;B&quot;, &quot;M&quot;, &quot;C&quot;, &quot;P&quot;, &quot;T&quot;, &quot;M&quot;, &quot;C&quot;]</td><td>0</td><td>1</td><td>1</td><td>1</td></tr><tr><th>13</th><td>Sterling in Focus ahead of U.K. Budget</td><td>[&quot;C&quot;, &quot;T&quot;, &quot;C&quot;, &quot;M&quot;, &quot;T&quot;, &quot;C&quot;, &quot;C&quot;]</td><td>0</td><td>1</td><td>0</td><td>1</td></tr><tr><th>14</th><td>Japan warns of need for stable currency as weak yen lifts input costs</td><td>[&quot;C&quot;, &quot;P&quot;, &quot;T&quot;, &quot;C&quot;, &quot;B&quot;, &quot;M&quot;, &quot;C&quot;, &quot;T&quot;, &quot;M&quot;, &quot;C&quot;, &quot;P&quot;, &quot;C&quot;, &quot;C&quot;]</td><td>0</td><td>1</td><td>1</td><td>1</td></tr><tr><th>15</th><td>China Begins Dollar Bond Sale Even as Evergrande Woes Fester</td><td>[&quot;C&quot;, &quot;P&quot;, &quot;C&quot;, &quot;C&quot;, &quot;C&quot;, &quot;M&quot;, &quot;T&quot;, &quot;C&quot;, &quot;C&quot;, &quot;P&quot;]</td><td>0</td><td>1</td><td>0</td><td>1</td></tr><tr><th>16</th><td>Dollar at Highest Since November as Rally Extends to Four Days</td><td>[&quot;C&quot;, &quot;T&quot;, &quot;C&quot;, &quot;B&quot;, &quot;C&quot;, &quot;T&quot;, &quot;C&quot;, &quot;P&quot;, &quot;T&quot;, &quot;C&quot;, &quot;C&quot;]</td><td>0</td><td>1</td><td>0</td><td>1</td></tr><tr><th>17</th><td>Dollar smiling from ear to ear</td><td>[&quot;C&quot;, &quot;P&quot;, &quot;T&quot;, &quot;C&quot;, &quot;M&quot;, &quot;C&quot;]</td><td>0</td><td>1</td><td>1</td><td>1</td></tr><tr><th>18</th><td>Dollar rallies toward biggest weekly gain since June</td><td>[&quot;C&quot;, &quot;P&quot;, &quot;T&quot;, &quot;M&quot;, &quot;M&quot;, &quot;C&quot;, &quot;B&quot;, &quot;C&quot;]</td><td>0</td><td>1</td><td>1</td><td>1</td></tr><tr><th>19</th><td>Dollar Bears on the Run as Bets Turn Positive for First Time Since Pandemic</td><td>[&quot;C&quot;, &quot;C&quot;, &quot;T&quot;, &quot;M&quot;, &quot;C&quot;, &quot;T&quot;, &quot;C&quot;, &quot;P&quot;, &quot;C&quot;, &quot;T&quot;, &quot;M&quot;, &quot;C&quot;, &quot;B&quot;, &quot;C&quot;]</td><td>0</td><td>1</td><td>0</td><td>1</td></tr><tr><th>20</th><td>US dollar on track for second week of gains</td><td>[&quot;C&quot;, &quot;C&quot;, &quot;T&quot;, &quot;C&quot;, &quot;B&quot;, &quot;M&quot;, &quot;C&quot;, &quot;B&quot;, &quot;C&quot;]</td><td>0</td><td>1</td><td>0</td><td>1</td></tr><tr><th>21</th><td>Bets Against Dollar May Prove Pain Trade as Fed&apos;s Dovish Days Nearing End</td><td>[&quot;C&quot;, &quot;B&quot;, &quot;C&quot;, &quot;M&quot;, &quot;P&quot;, &quot;C&quot;, &quot;C&quot;, &quot;T&quot;, &quot;C&quot;, &quot;B&quot;, &quot;M&quot;, &quot;C&quot;, &quot;P&quot;, &quot;C&quot;]</td><td>0</td><td>1</td><td>0</td><td>1</td></tr><tr><th>22</th><td>US dollar share of global reserves rises in Q1</td><td>[&quot;C&quot;, &quot;C&quot;, &quot;C&quot;, &quot;B&quot;, &quot;M&quot;, &quot;C&quot;, &quot;P&quot;, &quot;T&quot;, &quot;C&quot;]</td><td>0</td><td>1</td><td>0</td><td>1</td></tr></tbody></table></div>"
      ],
      "text/latex": [
       "\\begin{tabular}{r|cccccc}\n",
       "\t& Article & Atoms & relation & Model1 & Model2 & Model3\\\\\n",
       "\t\\hline\n",
       "\t& String & Array… & Int64 & Int64 & Int64 & Int64\\\\\n",
       "\t\\hline\n",
       "\t1 & GBPUSD working on its 3rd day higher but the going is relatively slow & [\"C\", \"P\", \"T\", \"C\", \"M\", \"C\", \"M\", \"J\", \"M\", \"C\", \"P\", \"M\", \"C\"] & 0 & 1 & 1 & 1 \\\\\n",
       "\t2 & EURUSD remains relatively contained although higher on the day & [\"C\", \"P\", \"M\", \"M\", \"T\", \"C\", \"B\", \"M\", \"C\"] & 0 & 1 & 1 & 1 \\\\\n",
       "\t3 & Cuban peso in free fall against the dollar & [\"M\", \"C\", \"T\", \"M\", \"C\", \"B\", \"M\", \"C\"] & 0 & 1 & 0 & 1 \\\\\n",
       "\t4 & Republican senator urges US to monitor China's digital yuan push during Olympics & [\"M\", \"C\", \"P\", \"C\", \"M\", \"P\", \"C\", \"B\", \"M\", \"C\", \"C\", \"T\", \"C\"] & 0 & 1 & 0 & 1 \\\\\n",
       "\t5 & HSBC Strategist Sees Bullish Pound Risks Going Into BOE Meeting & [\"C\", \"C\", \"P\", \"M\", \"C\", \"C\", \"P\", \"T\", \"C\", \"C\"] & 0 & 1 & 0 & 1 \\\\\n",
       "\t6 & Dollar on track for best year since 2015 & [\"C\", \"T\", \"C\", \"B\", \"M\", \"C\", \"B\", \"C\"] & 0 & 1 & 0 & 1 \\\\\n",
       "\t7 & Turkish Lira Extends Selloff Past 14 Per Dollar to Record Low & [\"M\", \"C\", \"P\", \"C\", \"T\", \"C\", \"B\", \"C\", \"T\", \"M\", \"C\"] & 0 & 1 & 1 & 1 \\\\\n",
       "\t8 & Remains Near Over Four Year High Versus Yen & [\"P\", \"M\", \"M\", \"C\", \"C\", \"M\", \"T\", \"C\"] & 0 & 1 & 0 & 1 \\\\\n",
       "\t9 & Yen Weakens Past Key 115 Level for First Time in Four Years & [\"C\", \"P\", \"T\", \"M\", \"M\", \"C\", \"T\", \"M\", \"C\", \"B\", \"C\", \"C\"] & 0 & 1 & 1 & 1 \\\\\n",
       "\t10 & Nordea sees EURUSD dropping to 1.08 by the end of next year & [\"C\", \"P\", \"C\", \"P\", \"T\", \"C\", \"T\", \"M\", \"C\", \"B\", \"M\", \"C\"] & 0 & 1 & 1 & 1 \\\\\n",
       "\t11 & Smile on dollar bulls & [\"P\", \"T\", \"C\", \"C\"] & 0 & 1 & 0 & 1 \\\\\n",
       "\t12 & The Fate of Turkey’s Battered Lira Hangs With Local Investors & [\"M\", \"C\", \"B\", \"C\", \"B\", \"M\", \"C\", \"P\", \"T\", \"M\", \"C\"] & 0 & 1 & 1 & 1 \\\\\n",
       "\t13 & Sterling in Focus ahead of U.K. Budget & [\"C\", \"T\", \"C\", \"M\", \"T\", \"C\", \"C\"] & 0 & 1 & 0 & 1 \\\\\n",
       "\t14 & Japan warns of need for stable currency as weak yen lifts input costs & [\"C\", \"P\", \"T\", \"C\", \"B\", \"M\", \"C\", \"T\", \"M\", \"C\", \"P\", \"C\", \"C\"] & 0 & 1 & 1 & 1 \\\\\n",
       "\t15 & China Begins Dollar Bond Sale Even as Evergrande Woes Fester & [\"C\", \"P\", \"C\", \"C\", \"C\", \"M\", \"T\", \"C\", \"C\", \"P\"] & 0 & 1 & 0 & 1 \\\\\n",
       "\t16 & Dollar at Highest Since November as Rally Extends to Four Days & [\"C\", \"T\", \"C\", \"B\", \"C\", \"T\", \"C\", \"P\", \"T\", \"C\", \"C\"] & 0 & 1 & 0 & 1 \\\\\n",
       "\t17 & Dollar smiling from ear to ear & [\"C\", \"P\", \"T\", \"C\", \"M\", \"C\"] & 0 & 1 & 1 & 1 \\\\\n",
       "\t18 & Dollar rallies toward biggest weekly gain since June & [\"C\", \"P\", \"T\", \"M\", \"M\", \"C\", \"B\", \"C\"] & 0 & 1 & 1 & 1 \\\\\n",
       "\t19 & Dollar Bears on the Run as Bets Turn Positive for First Time Since Pandemic & [\"C\", \"C\", \"T\", \"M\", \"C\", \"T\", \"C\", \"P\", \"C\", \"T\", \"M\", \"C\", \"B\", \"C\"] & 0 & 1 & 0 & 1 \\\\\n",
       "\t20 & US dollar on track for second week of gains & [\"C\", \"C\", \"T\", \"C\", \"B\", \"M\", \"C\", \"B\", \"C\"] & 0 & 1 & 0 & 1 \\\\\n",
       "\t21 & Bets Against Dollar May Prove Pain Trade as Fed's Dovish Days Nearing End & [\"C\", \"B\", \"C\", \"M\", \"P\", \"C\", \"C\", \"T\", \"C\", \"B\", \"M\", \"C\", \"P\", \"C\"] & 0 & 1 & 0 & 1 \\\\\n",
       "\t22 & US dollar share of global reserves rises in Q1 & [\"C\", \"C\", \"C\", \"B\", \"M\", \"C\", \"P\", \"T\", \"C\"] & 0 & 1 & 0 & 1 \\\\\n",
       "\\end{tabular}\n"
      ],
      "text/plain": [
       "\u001b[1m22×6 DataFrame\u001b[0m\n",
       "\u001b[1m Row \u001b[0m│\u001b[1m Article                           \u001b[0m\u001b[1m Atoms                             \u001b[0m\u001b[1m relation \u001b[0m\u001b[1m Model1 \u001b[0m\u001b[1m Model2 \u001b[0m\u001b[1m Model3 \u001b[0m\n",
       "\u001b[1m     \u001b[0m│\u001b[90m String                            \u001b[0m\u001b[90m Array…                            \u001b[0m\u001b[90m Int64    \u001b[0m\u001b[90m Int64  \u001b[0m\u001b[90m Int64  \u001b[0m\u001b[90m Int64  \u001b[0m\n",
       "─────┼────────────────────────────────────────────────────────────────────────────────────────────────────────\n",
       "   1 │ GBPUSD working on its 3rd day hi…  [\"C\", \"P\", \"T\", \"C\", \"M\", \"C\", \"…         0       1       1       1\n",
       "   2 │ EURUSD remains relatively contai…  [\"C\", \"P\", \"M\", \"M\", \"T\", \"C\", \"…         0       1       1       1\n",
       "   3 │ Cuban peso in free fall against …  [\"M\", \"C\", \"T\", \"M\", \"C\", \"B\", \"…         0       1       0       1\n",
       "   4 │ Republican senator urges US to m…  [\"M\", \"C\", \"P\", \"C\", \"M\", \"P\", \"…         0       1       0       1\n",
       "   5 │ HSBC Strategist Sees Bullish Pou…  [\"C\", \"C\", \"P\", \"M\", \"C\", \"C\", \"…         0       1       0       1\n",
       "   6 │ Dollar on track for best year si…  [\"C\", \"T\", \"C\", \"B\", \"M\", \"C\", \"…         0       1       0       1\n",
       "   7 │ Turkish Lira Extends Selloff Pas…  [\"M\", \"C\", \"P\", \"C\", \"T\", \"C\", \"…         0       1       1       1\n",
       "   8 │ Remains Near Over Four Year High…  [\"P\", \"M\", \"M\", \"C\", \"C\", \"M\", \"…         0       1       0       1\n",
       "   9 │ Yen Weakens Past Key 115 Level f…  [\"C\", \"P\", \"T\", \"M\", \"M\", \"C\", \"…         0       1       1       1\n",
       "  10 │ Nordea sees EURUSD dropping to 1…  [\"C\", \"P\", \"C\", \"P\", \"T\", \"C\", \"…         0       1       1       1\n",
       "  11 │ Smile on dollar bulls              [\"P\", \"T\", \"C\", \"C\"]                      0       1       0       1\n",
       "  12 │ The Fate of Turkey’s Battered Li…  [\"M\", \"C\", \"B\", \"C\", \"B\", \"M\", \"…         0       1       1       1\n",
       "  13 │ Sterling in Focus ahead of U.K. …  [\"C\", \"T\", \"C\", \"M\", \"T\", \"C\", \"…         0       1       0       1\n",
       "  14 │ Japan warns of need for stable c…  [\"C\", \"P\", \"T\", \"C\", \"B\", \"M\", \"…         0       1       1       1\n",
       "  15 │ China Begins Dollar Bond Sale Ev…  [\"C\", \"P\", \"C\", \"C\", \"C\", \"M\", \"…         0       1       0       1\n",
       "  16 │ Dollar at Highest Since November…  [\"C\", \"T\", \"C\", \"B\", \"C\", \"T\", \"…         0       1       0       1\n",
       "  17 │ Dollar smiling from ear to ear     [\"C\", \"P\", \"T\", \"C\", \"M\", \"C\"]            0       1       1       1\n",
       "  18 │ Dollar rallies toward biggest we…  [\"C\", \"P\", \"T\", \"M\", \"M\", \"C\", \"…         0       1       1       1\n",
       "  19 │ Dollar Bears on the Run as Bets …  [\"C\", \"C\", \"T\", \"M\", \"C\", \"T\", \"…         0       1       0       1\n",
       "  20 │ US dollar on track for second we…  [\"C\", \"C\", \"T\", \"C\", \"B\", \"M\", \"…         0       1       0       1\n",
       "  21 │ Bets Against Dollar May Prove Pa…  [\"C\", \"B\", \"C\", \"M\", \"P\", \"C\", \"…         0       1       0       1\n",
       "  22 │ US dollar share of global reserv…  [\"C\", \"C\", \"C\", \"B\", \"M\", \"C\", \"…         0       1       0       1"
      ]
     },
     "execution_count": 51,
     "metadata": {},
     "output_type": "execute_result"
    }
   ],
   "source": [
    "false_negative = filter(row -> (row[\"Model3\"] == 1) & (row[\"relation\"] == 0), data)"
   ]
  },
  {
   "cell_type": "code",
   "execution_count": 95,
   "id": "4202337a",
   "metadata": {},
   "outputs": [],
   "source": [
    "hg, edges, atoms = get_hg_tokens(false_negative[6, 1], false_negative[6, 2], currencies, predicates);"
   ]
  },
  {
   "cell_type": "code",
   "execution_count": 96,
   "id": "5d4d7f82",
   "metadata": {},
   "outputs": [
    {
     "data": {
      "text/plain": [
       "2-element Vector{Any}:\n",
       " \"C\"\n",
       " 'R': ASCII/Unicode U+0052 (category Lu: Letter, uppercase)"
      ]
     },
     "execution_count": 96,
     "metadata": {},
     "output_type": "execute_result"
    }
   ],
   "source": [
    "atoms"
   ]
  },
  {
   "cell_type": "code",
   "execution_count": 97,
   "id": "734837fc",
   "metadata": {},
   "outputs": [
    {
     "data": {
      "text/plain": [
       "Dict{Int64, Tuple{Vector{String}, Vector{PyObject}}} with 3 entries:\n",
       "  0 => ([\"C\", \"C\", \"P\", \"C\"], [PyObject BoE, PyObject Talk, PyObject Lifts, PyObject Sterlin])\n",
       "  2 => ([\"R\"], [PyObject [[BoE, Talk], Lifts, Sterlin]])\n",
       "  1 => ([\"C\", \"P\", \"C\"], [PyObject [BoE, Talk], PyObject Lifts, PyObject Sterlin])"
      ]
     },
     "execution_count": 97,
     "metadata": {},
     "output_type": "execute_result"
    }
   ],
   "source": [
    "edges"
   ]
  },
  {
   "cell_type": "code",
   "execution_count": 335,
   "id": "979dea8f",
   "metadata": {},
   "outputs": [
    {
     "data": {
      "text/plain": [
       "([\"S\"], PyObject[PyObject [[[Lira, Slumps], to], [New, Low]]])"
      ]
     },
     "execution_count": 335,
     "metadata": {},
     "output_type": "execute_result"
    }
   ],
   "source": [
    "edges[4]"
   ]
  },
  {
   "cell_type": "code",
   "execution_count": 339,
   "id": "5c11082d",
   "metadata": {},
   "outputs": [
    {
     "name": "stdout",
     "output_type": "stream",
     "text": [
      "[2]PyObject to\n",
      "false"
     ]
    },
    {
     "data": {
      "text/plain": [
       "false"
      ]
     },
     "execution_count": 339,
     "metadata": {},
     "output_type": "execute_result"
    }
   ],
   "source": [
    "check_connector(edges[2])"
   ]
  }
 ],
 "metadata": {
  "kernelspec": {
   "display_name": "Julia 1.6.1",
   "language": "julia",
   "name": "julia-1.6"
  },
  "language_info": {
   "file_extension": ".jl",
   "mimetype": "application/julia",
   "name": "julia",
   "version": "1.6.1"
  }
 },
 "nbformat": 4,
 "nbformat_minor": 5
}
