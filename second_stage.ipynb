{
 "cells": [
  {
   "cell_type": "code",
   "execution_count": 179,
   "id": "9e391516",
   "metadata": {
    "scrolled": false
   },
   "outputs": [
    {
     "data": {
      "text/plain": [
       "draw_hg (generic function with 1 method)"
      ]
     },
     "execution_count": 179,
     "metadata": {},
     "output_type": "execute_result"
    }
   ],
   "source": [
    "include(\"./main_parser.jl\")"
   ]
  },
  {
   "cell_type": "code",
   "execution_count": 12,
   "id": "6693fcf1",
   "metadata": {},
   "outputs": [],
   "source": [
    "using PyCall, BSON, DecisionTree, Random, CSV"
   ]
  },
  {
   "cell_type": "code",
   "execution_count": 13,
   "id": "43c0de7b",
   "metadata": {},
   "outputs": [
    {
     "data": {
      "text/plain": [
       "PyObject <spacy.lang.en.English object at 0x7f354dc35cd0>"
      ]
     },
     "execution_count": 13,
     "metadata": {},
     "output_type": "execute_result"
    }
   ],
   "source": [
    "BSON.@load \"models/model_rf.bson\" rf uniques\n",
    "\n",
    "spacy = pyimport(\"spacy\")\n",
    "\n",
    "nlp = spacy.load(\"en_core_web_lg\")"
   ]
  },
  {
   "cell_type": "code",
   "execution_count": 21,
   "id": "308ad2dc",
   "metadata": {},
   "outputs": [],
   "source": [
    "data = DataFrame(CSV.File(\"data/articles_modified_short.csv\"));"
   ]
  },
  {
   "cell_type": "code",
   "execution_count": 22,
   "id": "29d03eda",
   "metadata": {},
   "outputs": [],
   "source": [
    "df = convert_df(data[:, 1], uniques, rf);"
   ]
  },
  {
   "cell_type": "code",
   "execution_count": 23,
   "id": "4af5a039",
   "metadata": {},
   "outputs": [],
   "source": [
    "data = innerjoin(df, data, on =:Article);"
   ]
  },
  {
   "cell_type": "code",
   "execution_count": 24,
   "id": "b27a8b97",
   "metadata": {},
   "outputs": [
    {
     "data": {
      "text/plain": [
       "511"
      ]
     },
     "execution_count": 24,
     "metadata": {},
     "output_type": "execute_result"
    }
   ],
   "source": [
    "nrow(data)"
   ]
  },
  {
   "cell_type": "code",
   "execution_count": 25,
   "id": "2830de9e",
   "metadata": {},
   "outputs": [
    {
     "data": {
      "text/plain": [
       "232"
      ]
     },
     "execution_count": 25,
     "metadata": {},
     "output_type": "execute_result"
    }
   ],
   "source": [
    "nrow(filter(:relation => ==(0), data))"
   ]
  },
  {
   "cell_type": "code",
   "execution_count": 26,
   "id": "35be2ee1",
   "metadata": {},
   "outputs": [
    {
     "data": {
      "image/png": "[encoded data removed]",
      "text/plain": [
       "Figure(PyObject <Figure size 800x800 with 1 Axes>)"
      ]
     },
     "metadata": {},
     "output_type": "display_data"
    }
   ],
   "source": [
    "using PyPlot\n",
    "fig, ax = subplots(figsize=(8,8))\n",
    "PyPlot.bar([0, 1], [nrow(filter(:relation => ==(0), data)), \n",
    "                        nrow(filter(:relation => ==(1), data))],\n",
    "            width=0.6)\n",
    "PyPlot.xticks([0,1 ], [\"No relation\", \"Relation\"])\n",
    "PyPlot.ylabel(\"Count\")\n",
    "PyPlot.savefig(\"hist.png\");"
   ]
  },
  {
   "cell_type": "code",
   "execution_count": 27,
   "id": "6f627d75",
   "metadata": {},
   "outputs": [],
   "source": [
    "atoms = data[:, :Atoms];"
   ]
  },
  {
   "cell_type": "code",
   "execution_count": 28,
   "id": "0a55e4f9",
   "metadata": {},
   "outputs": [],
   "source": [
    "atoms_dict = Dict()\n",
    "for article in atoms\n",
    "    for atom in article\n",
    "        if !(atom in keys(atoms_dict))\n",
    "            atoms_dict[atom] = 1\n",
    "        else\n",
    "            atoms_dict[atom] += 1\n",
    "        end\n",
    "    end\n",
    "end"
   ]
  },
  {
   "cell_type": "code",
   "execution_count": 29,
   "id": "fc9d401a",
   "metadata": {},
   "outputs": [
    {
     "data": {
      "text/plain": [
       "Dict{Any, Any} with 6 entries:\n",
       "  \"B\" => 200\n",
       "  \"J\" => 29\n",
       "  \"M\" => 588\n",
       "  \"C\" => 2342\n",
       "  \"P\" => 533\n",
       "  \"T\" => 494"
      ]
     },
     "execution_count": 29,
     "metadata": {},
     "output_type": "execute_result"
    }
   ],
   "source": [
    "atoms_dict"
   ]
  },
  {
   "cell_type": "code",
   "execution_count": 31,
   "id": "79d20b03",
   "metadata": {
    "scrolled": true
   },
   "outputs": [
    {
     "data": {
      "image/png": "[encoded data removed]",
      "text/plain": [
       "Figure(PyObject <Figure size 1000x700 with 1 Axes>)"
      ]
     },
     "metadata": {},
     "output_type": "display_data"
    }
   ],
   "source": [
    "fig, ax = subplots(figsize=(10,7))\n",
    "PyPlot.bar([1,2,3,4,5,6], [value for value in values(atoms_dict)],\n",
    "            width=0.6)\n",
    "PyPlot.ylabel(\"Count\")\n",
    "PyPlot.xticks([1,2,3,4,5,6], [key for key in keys(atoms_dict)])\n",
    "PyPlot.xlabel(\"Predicted atom\")\n",
    "PyPlot.savefig(\"atoms.png\");"
   ]
  },
  {
   "cell_type": "code",
   "execution_count": 389,
   "id": "4811eb84",
   "metadata": {},
   "outputs": [],
   "source": [
    "predicates = [\"dips\", \"rebounds\", \"firms\"]\n",
    "currencies = [\"pound\", \"dollar\", \"sterling\", \"euro\", \"dollar\", \"lira\", \"aussie\",\n",
    "              \"gbpusd\", \"gbp\", \"usdcad\", \"sterlin\", \"myanmar\", \"yuan\", \"zloty\", \"forint\",\n",
    "              \"yen\", \"usd/cad\", \"ruble\", \"lebanon's\", \"rouble\", \"swiss\", \"rupee\",\n",
    "              \"eur/usd\"];"
   ]
  },
  {
   "cell_type": "code",
   "execution_count": 390,
   "id": "7290f6ae",
   "metadata": {},
   "outputs": [
    {
     "data": {
      "text/plain": [
       "get_hg_tokens (generic function with 4 methods)"
      ]
     },
     "execution_count": 390,
     "metadata": {},
     "output_type": "execute_result"
    }
   ],
   "source": [
    "function get_hg_tokens(text, atoms, currencies=[], predicates=[])\n",
    "    doc = nlp(text)\n",
    "#     hg, tokens = nothing\n",
    "    try\n",
    "        for (i, token) in enumerate(doc)\n",
    "            if lowercase(token.text) in currencies\n",
    "                atoms[i] = \"C\"\n",
    "            end\n",
    "            if lowercase(token.text) in predicates\n",
    "                atoms[i] = \"P\"\n",
    "            end\n",
    "        end\n",
    "        beta(patterns, doc, atoms)\n",
    "    catch e\n",
    "        return nothing\n",
    "    end\n",
    "#     return hg, tokens\n",
    "end"
   ]
  },
  {
   "cell_type": "code",
   "execution_count": 391,
   "id": "62b3e41d",
   "metadata": {},
   "outputs": [
    {
     "data": {
      "text/plain": [
       "model_1 (generic function with 1 method)"
      ]
     },
     "execution_count": 391,
     "metadata": {},
     "output_type": "execute_result"
    }
   ],
   "source": [
    "function model_1(currencies_list, article)\n",
    "    if any(y -> occursin(y, lowercase(article)), currencies_list)\n",
    "        return 1\n",
    "    else\n",
    "        return 0\n",
    "    end\n",
    "end     "
   ]
  },
  {
   "cell_type": "code",
   "execution_count": 392,
   "id": "6eb89f07",
   "metadata": {},
   "outputs": [
    {
     "data": {
      "text/plain": [
       "model_2 (generic function with 1 method)"
      ]
     },
     "execution_count": 392,
     "metadata": {},
     "output_type": "execute_result"
    }
   ],
   "source": [
    "function model_2(currencies_list, article)\n",
    "    output = 0\n",
    "    currencies_indexes = []\n",
    "    doc = nlp(article)\n",
    "    for (i, token) in enumerate(doc)\n",
    "        if lowercase(token.text) in currencies_list\n",
    "            append!(currencies_indexes, i)\n",
    "        end\n",
    "    end\n",
    "    for i in currencies_indexes\n",
    "        if length(doc) > i\n",
    "            if doc[i+1].pos_ == \"VERB\"\n",
    "                output = 1\n",
    "            end\n",
    "        end\n",
    "    end\n",
    "    return output\n",
    "end   "
   ]
  },
  {
   "cell_type": "code",
   "execution_count": 393,
   "id": "49c04f38",
   "metadata": {},
   "outputs": [
    {
     "data": {
      "text/plain": [
       "check_curr (generic function with 1 method)"
      ]
     },
     "execution_count": 393,
     "metadata": {},
     "output_type": "execute_result"
    }
   ],
   "source": [
    "function check_curr(token, currencies_list)\n",
    "    curr_check = lowercase(token.text) in currencies_list\n",
    "    return curr_check\n",
    "end "
   ]
  },
  {
   "cell_type": "code",
   "execution_count": 394,
   "id": "e3426eed",
   "metadata": {},
   "outputs": [
    {
     "data": {
      "text/plain": [
       "true"
      ]
     },
     "execution_count": 394,
     "metadata": {},
     "output_type": "execute_result"
    }
   ],
   "source": [
    "x = [\"to\"]\n",
    "any(x -> lowercase(x) in [\"to\", \"for\"], x)"
   ]
  },
  {
   "cell_type": "code",
   "execution_count": 395,
   "id": "1968d8d5",
   "metadata": {},
   "outputs": [
    {
     "data": {
      "text/plain": [
       "check_connector (generic function with 1 method)"
      ]
     },
     "execution_count": 395,
     "metadata": {},
     "output_type": "execute_result"
    }
   ],
   "source": [
    "function check_connector(input)\n",
    "    last_tokens = input[1]\n",
    "    t_index = findall(x->x == \"T\", last_tokens)\n",
    "    if length(t_index) == 0\n",
    "        return true\n",
    "    else\n",
    "        t_texts = []\n",
    "        for token in input[2][t_index]\n",
    "            try\n",
    "                append!(t_texts, [token.text])\n",
    "            catch e\n",
    "            end\n",
    "        end\n",
    "        if any(y-> lowercase(y) in [\"to\", \"for\"], t_texts)\n",
    "            return false\n",
    "        else\n",
    "            return true\n",
    "        end\n",
    "    end\n",
    "end"
   ]
  },
  {
   "cell_type": "code",
   "execution_count": 396,
   "id": "fd33b032",
   "metadata": {},
   "outputs": [
    {
     "data": {
      "text/plain": [
       "model_3 (generic function with 1 method)"
      ]
     },
     "execution_count": 396,
     "metadata": {},
     "output_type": "execute_result"
    }
   ],
   "source": [
    "function model_3(article, atoms, currencies_list, predicates)\n",
    "    output = 0\n",
    "    doc = nlp(article)\n",
    "    out = get_hg_tokens(article, atoms, currencies_list, predicates)\n",
    "#     if (!(out == nothing) & (any(y -> occursin(y, lowercase(article)), currencies_list)))\n",
    "    if !(out == nothing)\n",
    "        indexes = findall(x -> x in ['S', 'R'], out[3])\n",
    "        for index in indexes\n",
    "            relations = findall(x -> x==1, out[1][:, index])\n",
    "            if length(relations) > 3\n",
    "                for word in relations\n",
    "                    curr = check_curr(doc[word], currencies_list)\n",
    "                    if curr\n",
    "#                         conn = check_connector(out[2][index-1])\n",
    "#                         if conn\n",
    "#                             return 1\n",
    "#                         else\n",
    "#                             return 0\n",
    "#                         end\n",
    "                        return 1\n",
    "                    end\n",
    "                end\n",
    "            end\n",
    "        end\n",
    "    end\n",
    "    return 0\n",
    "end"
   ]
  },
  {
   "cell_type": "code",
   "execution_count": 397,
   "id": "b07046cf",
   "metadata": {},
   "outputs": [
    {
     "ename": "LoadError",
     "evalue": "ArgumentError: Column Model1 is already present in the data frame which is not allowed when `makeunique=true`",
     "output_type": "error",
     "traceback": [
      "ArgumentError: Column Model1 is already present in the data frame which is not allowed when `makeunique=true`",
      "",
      "Stacktrace:",
      " [1] insertcols!(::DataFrame, ::Int64, ::Pair{Symbol, Int64}, ::Vararg{Pair{Symbol, Int64}, N} where N; makeunique::Bool, copycols::Bool)",
      "   @ DataFrames ~/.julia/packages/DataFrames/vQokV/src/dataframe/dataframe.jl:819",
      " [2] insertcols!(::DataFrame, ::Int64, ::Pair{Symbol, Int64}, ::Vararg{Pair{Symbol, Int64}, N} where N)",
      "   @ DataFrames ~/.julia/packages/DataFrames/vQokV/src/dataframe/dataframe.jl:806",
      " [3] top-level scope",
      "   @ In[397]:1",
      " [4] eval",
      "   @ ./boot.jl:360 [inlined]",
      " [5] include_string(mapexpr::typeof(REPL.softscope), mod::Module, code::String, filename::String)",
      "   @ Base ./loading.jl:1094"
     ]
    }
   ],
   "source": [
    "insertcols!(data, 4, :Model1 => 0, :Model2 => 0, :Model3 => 0);"
   ]
  },
  {
   "cell_type": "code",
   "execution_count": 398,
   "id": "b3640fe7",
   "metadata": {},
   "outputs": [],
   "source": [
    "for row in eachrow(data)\n",
    "    row.Model1 = model_1(currencies, row.Article)\n",
    "    row.Model2 = model_2(currencies, row.Article)\n",
    "    row.Model3 = model_3(row.Article, row.Atoms, currencies, predicates)\n",
    "end"
   ]
  },
  {
   "cell_type": "code",
   "execution_count": 399,
   "id": "b115a93c",
   "metadata": {},
   "outputs": [
    {
     "data": {
      "text/plain": [
       "recall (generic function with 1 method)"
      ]
     },
     "execution_count": 399,
     "metadata": {},
     "output_type": "execute_result"
    }
   ],
   "source": [
    "function recall(target, model)\n",
    "    p1 = filter(row -> (row[model] == 1) & (row[target] == 1), data)\n",
    "    p2 = filter(row -> row[target] == 1, data)\n",
    "    return nrow(p1)/nrow(p2)\n",
    "end"
   ]
  },
  {
   "cell_type": "code",
   "execution_count": 400,
   "id": "0d92379d",
   "metadata": {},
   "outputs": [
    {
     "data": {
      "text/plain": [
       "precision (generic function with 1 method)"
      ]
     },
     "execution_count": 400,
     "metadata": {},
     "output_type": "execute_result"
    }
   ],
   "source": [
    "function precision(target, model)\n",
    "    p1 = filter(row -> (row[model] == 1) & (row[target] == 1), data)\n",
    "    p2 = filter(row -> (row[model] == 1) & (row[target] == 0), data)\n",
    "    return nrow(p1)/(nrow(p2) + nrow(p1))\n",
    "end"
   ]
  },
  {
   "cell_type": "code",
   "execution_count": 401,
   "id": "e5013c08",
   "metadata": {},
   "outputs": [
    {
     "data": {
      "text/plain": [
       "f1 (generic function with 1 method)"
      ]
     },
     "execution_count": 401,
     "metadata": {},
     "output_type": "execute_result"
    }
   ],
   "source": [
    "function f1(precision, recall)\n",
    "    return 2*precision*recall/(precision+recall)\n",
    "end"
   ]
  },
  {
   "cell_type": "code",
   "execution_count": 402,
   "id": "42bd69d2",
   "metadata": {},
   "outputs": [
    {
     "data": {
      "text/plain": [
       "0.7965116279069767"
      ]
     },
     "execution_count": 402,
     "metadata": {},
     "output_type": "execute_result"
    }
   ],
   "source": [
    "prec = precision(\"relation\", \"Model1\")"
   ]
  },
  {
   "cell_type": "code",
   "execution_count": 403,
   "id": "43236dff",
   "metadata": {},
   "outputs": [
    {
     "data": {
      "text/plain": [
       "0.982078853046595"
      ]
     },
     "execution_count": 403,
     "metadata": {},
     "output_type": "execute_result"
    }
   ],
   "source": [
    "rec = recall(\"relation\", \"Model1\")"
   ]
  },
  {
   "cell_type": "code",
   "execution_count": 404,
   "id": "e725d06b",
   "metadata": {},
   "outputs": [
    {
     "data": {
      "text/plain": [
       "0.8796147672552166"
      ]
     },
     "execution_count": 404,
     "metadata": {},
     "output_type": "execute_result"
    }
   ],
   "source": [
    "f1(prec, rec)"
   ]
  },
  {
   "cell_type": "code",
   "execution_count": 405,
   "id": "eb7c4c0b",
   "metadata": {},
   "outputs": [
    {
     "data": {
      "text/plain": [
       "0.7941176470588235"
      ]
     },
     "execution_count": 405,
     "metadata": {},
     "output_type": "execute_result"
    }
   ],
   "source": [
    "prec = precision(\"relation\", \"Model2\")"
   ]
  },
  {
   "cell_type": "code",
   "execution_count": 406,
   "id": "95b363df",
   "metadata": {},
   "outputs": [
    {
     "data": {
      "text/plain": [
       "0.3870967741935484"
      ]
     },
     "execution_count": 406,
     "metadata": {},
     "output_type": "execute_result"
    }
   ],
   "source": [
    "rec = recall(\"relation\", \"Model2\")"
   ]
  },
  {
   "cell_type": "code",
   "execution_count": 407,
   "id": "08e6a6ae",
   "metadata": {},
   "outputs": [
    {
     "data": {
      "text/plain": [
       "0.5204819277108433"
      ]
     },
     "execution_count": 407,
     "metadata": {},
     "output_type": "execute_result"
    }
   ],
   "source": [
    "f1(prec, rec)"
   ]
  },
  {
   "cell_type": "code",
   "execution_count": 408,
   "id": "5a19060c",
   "metadata": {},
   "outputs": [
    {
     "data": {
      "text/plain": [
       "0.8561872909698997"
      ]
     },
     "execution_count": 408,
     "metadata": {},
     "output_type": "execute_result"
    }
   ],
   "source": [
    "prec = precision(\"relation\", \"Model3\")"
   ]
  },
  {
   "cell_type": "code",
   "execution_count": 409,
   "id": "e7fae089",
   "metadata": {},
   "outputs": [
    {
     "data": {
      "text/plain": [
       "0.9175627240143369"
      ]
     },
     "execution_count": 409,
     "metadata": {},
     "output_type": "execute_result"
    }
   ],
   "source": [
    "rec = recall(\"relation\", \"Model3\")"
   ]
  },
  {
   "cell_type": "code",
   "execution_count": 410,
   "id": "c793dec6",
   "metadata": {},
   "outputs": [
    {
     "data": {
      "text/plain": [
       "0.8858131487889273"
      ]
     },
     "execution_count": 410,
     "metadata": {},
     "output_type": "execute_result"
    }
   ],
   "source": [
    "f1(prec, rec)"
   ]
  },
  {
   "cell_type": "code",
   "execution_count": 411,
   "id": "c85e8eb4",
   "metadata": {},
   "outputs": [
    {
     "data": {
      "text/html": [
       "<div class=\"data-frame\"><p>43 rows × 6 columns (omitted printing of 5 columns)</p><table class=\"data-frame\"><thead><tr><th></th><th>Article</th></tr><tr><th></th><th title=\"String\">String</th></tr></thead><tbody><tr><th>1</th><td>GBPUSD working on its 3rd day higher but the going is relatively slow</td></tr><tr><th>2</th><td>Lending data from China is due soon - record new yuan loans expected</td></tr><tr><th>3</th><td>USDCAD tries to keep the upside momentum going</td></tr><tr><th>4</th><td>Republican senator urges US to monitor China&apos;s digital yuan push during Olympics</td></tr><tr><th>5</th><td>HSBC Strategist Sees Bullish Pound Risks Going Into BOE Meeting</td></tr><tr><th>6</th><td>Dollar on track for best year since 2015</td></tr><tr><th>7</th><td>Pound’s Pandemic Peak Versus Euro Shows Faith in Rate Divergence</td></tr><tr><th>8</th><td>Former FX official says China should avoid excess yuan appreciation</td></tr><tr><th>9</th><td>Turkish Lira Extends Selloff Past 14 Per Dollar to Record Low</td></tr><tr><th>10</th><td>Erdogan says he hopes volatile Turkish lira will steady soon</td></tr><tr><th>11</th><td>Lira Faces Inflation Test</td></tr><tr><th>12</th><td>Erdogan’s Audit Board to Probe FX Purchases After Lira Rout</td></tr><tr><th>13</th><td>Remains Near Over Four Year High Versus Yen</td></tr><tr><th>14</th><td>Yen Weakens Past Key 115 Level for First Time in Four Years</td></tr><tr><th>15</th><td>Turkish Lira Continues Descent</td></tr><tr><th>16</th><td>Smile on dollar bulls</td></tr><tr><th>17</th><td>The Fate of Turkey’s Battered Lira Hangs With Local Investors</td></tr><tr><th>18</th><td>Lira Slumps to New Low</td></tr><tr><th>19</th><td>Dollar dips but shows biggest weekly gain in almost 3 months</td></tr><tr><th>20</th><td>Dollar Climbs to 2021 Highs</td></tr><tr><th>21</th><td>Sterling in Focus ahead of U.K. Budget</td></tr><tr><th>22</th><td>Won Drops Below Key 1,200 Per Dollar First Time Since July 2020</td></tr><tr><th>23</th><td>A Wave of Bets Against the Pound Is Starting to Build</td></tr><tr><th>24</th><td>Dollar Set For Winning Week</td></tr><tr><th>25</th><td>Japan warns of need for stable currency as weak yen lifts input costs</td></tr><tr><th>26</th><td>China Begins Dollar Bond Sale Even as Evergrande Woes Fester</td></tr><tr><th>27</th><td>Myanmar military takes responsibility for economic crisis</td></tr><tr><th>28</th><td>Dollar at Highest Since November as Rally Extends to Four Days</td></tr><tr><th>29</th><td>Dollar Remains Near Lows</td></tr><tr><th>30</th><td>Dollar smiling from ear to ear</td></tr><tr><th>&vellip;</th><td>&vellip;</td></tr></tbody></table></div>"
      ],
      "text/latex": [
       "\\begin{tabular}{r|cc}\n",
       "\t& Article & \\\\\n",
       "\t\\hline\n",
       "\t& String & \\\\\n",
       "\t\\hline\n",
       "\t1 & GBPUSD working on its 3rd day higher but the going is relatively slow & $\\dots$ \\\\\n",
       "\t2 & Lending data from China is due soon - record new yuan loans expected & $\\dots$ \\\\\n",
       "\t3 & USDCAD tries to keep the upside momentum going & $\\dots$ \\\\\n",
       "\t4 & Republican senator urges US to monitor China's digital yuan push during Olympics & $\\dots$ \\\\\n",
       "\t5 & HSBC Strategist Sees Bullish Pound Risks Going Into BOE Meeting & $\\dots$ \\\\\n",
       "\t6 & Dollar on track for best year since 2015 & $\\dots$ \\\\\n",
       "\t7 & Pound’s Pandemic Peak Versus Euro Shows Faith in Rate Divergence & $\\dots$ \\\\\n",
       "\t8 & Former FX official says China should avoid excess yuan appreciation & $\\dots$ \\\\\n",
       "\t9 & Turkish Lira Extends Selloff Past 14 Per Dollar to Record Low & $\\dots$ \\\\\n",
       "\t10 & Erdogan says he hopes volatile Turkish lira will steady soon & $\\dots$ \\\\\n",
       "\t11 & Lira Faces Inflation Test & $\\dots$ \\\\\n",
       "\t12 & Erdogan’s Audit Board to Probe FX Purchases After Lira Rout & $\\dots$ \\\\\n",
       "\t13 & Remains Near Over Four Year High Versus Yen & $\\dots$ \\\\\n",
       "\t14 & Yen Weakens Past Key 115 Level for First Time in Four Years & $\\dots$ \\\\\n",
       "\t15 & Turkish Lira Continues Descent & $\\dots$ \\\\\n",
       "\t16 & Smile on dollar bulls & $\\dots$ \\\\\n",
       "\t17 & The Fate of Turkey’s Battered Lira Hangs With Local Investors & $\\dots$ \\\\\n",
       "\t18 & Lira Slumps to New Low & $\\dots$ \\\\\n",
       "\t19 & Dollar dips but shows biggest weekly gain in almost 3 months & $\\dots$ \\\\\n",
       "\t20 & Dollar Climbs to 2021 Highs & $\\dots$ \\\\\n",
       "\t21 & Sterling in Focus ahead of U.K. Budget & $\\dots$ \\\\\n",
       "\t22 & Won Drops Below Key 1,200 Per Dollar First Time Since July 2020 & $\\dots$ \\\\\n",
       "\t23 & A Wave of Bets Against the Pound Is Starting to Build & $\\dots$ \\\\\n",
       "\t24 & Dollar Set For Winning Week & $\\dots$ \\\\\n",
       "\t25 & Japan warns of need for stable currency as weak yen lifts input costs & $\\dots$ \\\\\n",
       "\t26 & China Begins Dollar Bond Sale Even as Evergrande Woes Fester & $\\dots$ \\\\\n",
       "\t27 & Myanmar military takes responsibility for economic crisis & $\\dots$ \\\\\n",
       "\t28 & Dollar at Highest Since November as Rally Extends to Four Days & $\\dots$ \\\\\n",
       "\t29 & Dollar Remains Near Lows & $\\dots$ \\\\\n",
       "\t30 & Dollar smiling from ear to ear & $\\dots$ \\\\\n",
       "\t$\\dots$ & $\\dots$ &  \\\\\n",
       "\\end{tabular}\n"
      ],
      "text/plain": [
       "\u001b[1m43×6 DataFrame\u001b[0m\n",
       "\u001b[1m Row \u001b[0m│\u001b[1m Article                           \u001b[0m\u001b[1m Atoms                             \u001b[0m\u001b[1m r\u001b[0m ⋯\n",
       "\u001b[1m     \u001b[0m│\u001b[90m String                            \u001b[0m\u001b[90m Array…                            \u001b[0m\u001b[90m I\u001b[0m ⋯\n",
       "─────┼──────────────────────────────────────────────────────────────────────────\n",
       "   1 │ GBPUSD working on its 3rd day hi…  [\"C\", \"P\", \"T\", \"C\", \"M\", \"C\", \"…    ⋯\n",
       "   2 │ Lending data from China is due s…  [\"C\", \"C\", \"B\", \"C\", \"P\", \"M\", \"…\n",
       "   3 │ USDCAD tries to keep the upside …  [\"C\", \"P\", \"M\", \"P\", \"M\", \"M\", \"…\n",
       "   4 │ Republican senator urges US to m…  [\"M\", \"C\", \"P\", \"C\", \"M\", \"P\", \"…\n",
       "   5 │ HSBC Strategist Sees Bullish Pou…  [\"C\", \"C\", \"P\", \"M\", \"C\", \"C\", \"…    ⋯\n",
       "   6 │ Dollar on track for best year si…  [\"C\", \"T\", \"C\", \"B\", \"M\", \"C\", \"…\n",
       "   7 │ Pound’s Pandemic Peak Versus Eur…  [\"C\", \"B\", \"C\", \"C\", \"C\", \"C\", \"…\n",
       "   8 │ Former FX official says China sh…  [\"M\", \"C\", \"C\", \"P\", \"C\", \"M\", \"…\n",
       "   9 │ Turkish Lira Extends Selloff Pas…  [\"M\", \"C\", \"P\", \"C\", \"C\", \"M\", \"…    ⋯\n",
       "  10 │ Erdogan says he hopes volatile T…  [\"C\", \"P\", \"C\", \"P\", \"M\", \"M\", \"…\n",
       "  11 │ Lira Faces Inflation Test          [\"C\", \"P\", \"C\", \"C\"]\n",
       "  ⋮  │                 ⋮                                  ⋮                    ⋱\n",
       "  34 │ JPMorgan Blames Turkey’s Volatil…  [\"C\", \"P\", \"C\", \"B\", \"C\", \"C\", \"…\n",
       "  35 │ Dollar rises but still set for b…  [\"C\", \"P\", \"J\", \"M\", \"P\", \"T\", \"…    ⋯\n",
       "  36 │ Dollar Bears on the Run as Bets …  [\"C\", \"C\", \"T\", \"M\", \"C\", \"T\", \"…\n",
       "  37 │ US dollar on track for second we…  [\"C\", \"C\", \"T\", \"C\", \"T\", \"M\", \"…\n",
       "  38 │ US dollar share of global reserv…  [\"C\", \"C\", \"C\", \"B\", \"M\", \"C\", \"…\n",
       "  39 │ US dollar posts best month since…  [\"C\", \"C\", \"C\", \"M\", \"C\", \"T\", \"…    ⋯\n",
       "  40 │ Dollar Retains Recent Strength     [\"C\", \"P\", \"M\", \"C\"]\n",
       "  41 │ Dollar set for second consecutiv…  [\"C\", \"P\", \"T\", \"M\", \"M\", \"M\", \"…\n",
       "  42 │ Wall Street Pros Are as Baffled …  [\"C\", \"C\", \"C\", \"P\", \"M\", \"P\", \"…\n",
       "  43 │ Dollar Steadies Near Multi-Month…  [\"C\", \"P\", \"C\", \"C\", \"B\", \"C\", \"…    ⋯\n",
       "\u001b[36m                                                   4 columns and 22 rows omitted\u001b[0m"
      ]
     },
     "execution_count": 411,
     "metadata": {},
     "output_type": "execute_result"
    }
   ],
   "source": [
    "false_negative = filter(row -> (row[\"Model3\"] == 1) & (row[\"relation\"] == 0), data)"
   ]
  },
  {
   "cell_type": "code",
   "execution_count": 332,
   "id": "4202337a",
   "metadata": {},
   "outputs": [],
   "source": [
    "hg, edges, atoms = get_hg_tokens(false_negative[18, 1], false_negative[18, 2], currencies, predicates);"
   ]
  },
  {
   "cell_type": "code",
   "execution_count": 333,
   "id": "5d4d7f82",
   "metadata": {},
   "outputs": [
    {
     "data": {
      "text/plain": [
       "4-element Vector{Any}:\n",
       " \"C\"\n",
       " 'C': ASCII/Unicode U+0043 (category Lu: Letter, uppercase)\n",
       " 'S': ASCII/Unicode U+0053 (category Lu: Letter, uppercase)\n",
       " 'S': ASCII/Unicode U+0053 (category Lu: Letter, uppercase)"
      ]
     },
     "execution_count": 333,
     "metadata": {},
     "output_type": "execute_result"
    }
   ],
   "source": [
    "atoms"
   ]
  },
  {
   "cell_type": "code",
   "execution_count": 334,
   "id": "734837fc",
   "metadata": {},
   "outputs": [
    {
     "data": {
      "text/plain": [
       "Dict{Int64, Tuple{Vector{String}, Vector{PyObject}}} with 5 entries:\n",
       "  0 => ([\"C\", \"C\", \"T\", \"M\", \"C\"], [PyObject Lira, PyObject Slumps, PyObject to…\n",
       "  4 => ([\"S\"], [PyObject [[[Lira, Slumps], to], [New, Low]]])\n",
       "  2 => ([\"C\", \"T\", \"C\"], [PyObject [Lira, Slumps], PyObject to, PyObject [New, …\n",
       "  3 => ([\"S\", \"C\"], [PyObject [[Lira, Slumps], to], PyObject [New, Low]])\n",
       "  1 => ([\"C\", \"T\", \"M\", \"C\"], [PyObject [Lira, Slumps], PyObject to, PyObject N…"
      ]
     },
     "execution_count": 334,
     "metadata": {},
     "output_type": "execute_result"
    }
   ],
   "source": [
    "edges"
   ]
  },
  {
   "cell_type": "code",
   "execution_count": 335,
   "id": "979dea8f",
   "metadata": {},
   "outputs": [
    {
     "data": {
      "text/plain": [
       "([\"S\"], PyObject[PyObject [[[Lira, Slumps], to], [New, Low]]])"
      ]
     },
     "execution_count": 335,
     "metadata": {},
     "output_type": "execute_result"
    }
   ],
   "source": [
    "edges[4]"
   ]
  },
  {
   "cell_type": "code",
   "execution_count": 339,
   "id": "5c11082d",
   "metadata": {},
   "outputs": [
    {
     "name": "stdout",
     "output_type": "stream",
     "text": [
      "[2]PyObject to\n",
      "false"
     ]
    },
    {
     "data": {
      "text/plain": [
       "false"
      ]
     },
     "execution_count": 339,
     "metadata": {},
     "output_type": "execute_result"
    }
   ],
   "source": [
    "check_connector(edges[2])"
   ]
  }
 ],
 "metadata": {
  "kernelspec": {
   "display_name": "Julia 1.6.1",
   "language": "julia",
   "name": "julia-1.6"
  },
  "language_info": {
   "file_extension": ".jl",
   "mimetype": "application/julia",
   "name": "julia",
   "version": "1.6.1"
  }
 },
 "nbformat": 4,
 "nbformat_minor": 5
}
