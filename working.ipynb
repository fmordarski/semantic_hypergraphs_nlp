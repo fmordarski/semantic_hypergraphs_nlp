{
 "cells": [
  {
   "cell_type": "code",
   "execution_count": 1,
   "id": "9e391516",
   "metadata": {
    "scrolled": false
   },
   "outputs": [
    {
     "data": {
      "text/plain": [
       "draw_hg (generic function with 1 method)"
      ]
     },
     "execution_count": 1,
     "metadata": {},
     "output_type": "execute_result"
    }
   ],
   "source": [
    "include(\"./main_parser.jl\")"
   ]
  },
  {
   "cell_type": "code",
   "execution_count": 2,
   "id": "6693fcf1",
   "metadata": {},
   "outputs": [],
   "source": [
    "using PyCall, BSON, DecisionTree, Random, CSV"
   ]
  },
  {
   "cell_type": "code",
   "execution_count": 3,
   "id": "43c0de7b",
   "metadata": {},
   "outputs": [
    {
     "data": {
      "text/plain": [
       "PyObject <spacy.lang.en.English object at 0x7f8284c79b50>"
      ]
     },
     "execution_count": 3,
     "metadata": {},
     "output_type": "execute_result"
    }
   ],
   "source": [
    "BSON.@load \"models/model_rf.bson\" rf uniques\n",
    "\n",
    "spacy = pyimport(\"spacy\")\n",
    "\n",
    "nlp = spacy.load(\"en_core_web_trf\")"
   ]
  },
  {
   "cell_type": "code",
   "execution_count": 4,
   "id": "ce1703e4",
   "metadata": {
    "scrolled": true
   },
   "outputs": [
    {
     "name": "stdout",
     "output_type": "stream",
     "text": [
      "Actual hypergraph: Union{Nothing, Float64}[nothing; nothing; nothing; nothing; nothing; nothing; nothing; nothing; nothing]\n",
      "Atoms tokens dict is: Dict{Int64, Tuple{Vector{String}, Vector{PyObject}}}(0 => ([\"C\", \"P\", \"T\", \"C\", \"P\", \"C\", \"B\", \"M\", \"C\"], [PyObject Dollar, PyObject climbs, PyObject as, PyObject inflation, PyObject builds, PyObject case, PyObject for, PyObject higher, PyObject rates]))\n",
      "Actual indexes: (7, 8)\n",
      "Orig indexes: (7, 8)\n",
      "Pattern is: ([\"M\", \"B\"], \"B\", [2, 1])\n",
      "Depth is: 5\n",
      "Atoms depths are: [\"C\", \"P\", \"T\", \"C\", \"P\", \"C\", \"B\", \"M\", \"C\"]\n",
      "Score h is: 0\n",
      "aActual hypergraph: Union{Nothing, Float64}[nothing; nothing; nothing; nothing; nothing; nothing; nothing; nothing; nothing]\n",
      "Atoms tokens dict is: Dict{Int64, Tuple{Vector{String}, Vector{PyObject}}}(0 => ([\"C\", \"P\", \"T\", \"C\", \"P\", \"C\", \"B\", \"M\", \"C\"], [PyObject Dollar, PyObject climbs, PyObject as, PyObject inflation, PyObject builds, PyObject case, PyObject for, PyObject higher, PyObject rates]))\n",
      "Actual indexes: (8, 9)\n",
      "Orig indexes: (8, 9)\n",
      "Pattern is: ([\"M\", \"C\"], \"C\", [1, 2])\n",
      "Depth is: 5\n",
      "Atoms depths are: [\"C\", \"P\", \"T\", \"C\", \"P\", \"C\", \"B\", \"M\", \"C\"]\n",
      "Score h is: 1.0\n",
      "aActual hypergraph: Union{Nothing, Float64}[nothing; nothing; nothing; nothing; nothing; nothing; nothing; nothing; nothing]\n",
      "Atoms tokens dict is: Dict{Int64, Tuple{Vector{String}, Vector{PyObject}}}(0 => ([\"C\", \"P\", \"T\", \"C\", \"P\", \"C\", \"B\", \"M\", \"C\"], [PyObject Dollar, PyObject climbs, PyObject as, PyObject inflation, PyObject builds, PyObject case, PyObject for, PyObject higher, PyObject rates]))\n",
      "Actual indexes: (3, 4)\n",
      "Orig indexes: (3, 4)\n",
      "Pattern is: ([\"T\", \"C\"], \"S\", [1, 2])\n",
      "Depth is: 2\n",
      "Atoms depths are: [\"C\", \"P\", \"T\", \"C\", \"P\", \"C\", \"B\", \"M\", \"C\"]\n",
      "Score h is: 0.5\n",
      "aActual hypergraph: Union{Nothing, Float64}[nothing; nothing; nothing; nothing; nothing; nothing; nothing; nothing; nothing]\n",
      "Atoms tokens dict is: Dict{Int64, Tuple{Vector{String}, Vector{PyObject}}}(0 => ([\"C\", \"P\", \"T\", \"C\", \"P\", \"C\", \"B\", \"M\", \"C\"], [PyObject Dollar, PyObject climbs, PyObject as, PyObject inflation, PyObject builds, PyObject case, PyObject for, PyObject higher, PyObject rates]))\n",
      "Actual indexes: (1, 2)\n",
      "Orig indexes: (1, 2)\n",
      "Pattern is: ([\"P\", \"C\"], \"R\", [2, 1])\n",
      "Depth is: 1\n",
      "Atoms depths are: [\"C\", \"P\", \"T\", \"C\", \"P\", \"C\", \"B\", \"M\", \"C\"]\n",
      "Score h is: 0.5\n",
      "aActual hypergraph: Union{Nothing, Float64}[nothing; nothing; nothing; nothing; nothing; nothing; nothing; nothing; nothing]\n",
      "Atoms tokens dict is: Dict{Int64, Tuple{Vector{String}, Vector{PyObject}}}(0 => ([\"C\", \"P\", \"T\", \"C\", \"P\", \"C\", \"B\", \"M\", \"C\"], [PyObject Dollar, PyObject climbs, PyObject as, PyObject inflation, PyObject builds, PyObject case, PyObject for, PyObject higher, PyObject rates]))\n",
      "Actual indexes: (4, 5)\n",
      "Orig indexes: (4, 5)\n",
      "Pattern is: ([\"P\", \"C\"], \"R\", [2, 1])\n",
      "Depth is: 2\n",
      "Atoms depths are: [\"C\", \"P\", \"T\", \"C\", \"P\", \"C\", \"B\", \"M\", \"C\"]\n",
      "Score h is: 0.5\n",
      "aActual hypergraph: Union{Nothing, Float64}[nothing; nothing; nothing; nothing; nothing; nothing; nothing; nothing; nothing]\n",
      "Atoms tokens dict is: Dict{Int64, Tuple{Vector{String}, Vector{PyObject}}}(0 => ([\"C\", \"P\", \"T\", \"C\", \"P\", \"C\", \"B\", \"M\", \"C\"], [PyObject Dollar, PyObject climbs, PyObject as, PyObject inflation, PyObject builds, PyObject case, PyObject for, PyObject higher, PyObject rates]))\n",
      "Actual indexes: (4, 6)\n",
      "Orig indexes: (4, 6)\n",
      "Pattern is: ([\"P\", \"C\", \"C\"], \"R\", [2, 1, 3])\n",
      "Depth is: 2\n",
      "Atoms depths are: [\"C\", \"P\", \"T\", \"C\", \"P\", \"C\", \"B\", \"M\", \"C\"]\n",
      "Score h is: 1.0\n",
      "aActual hypergraph: Union{Nothing, Float64}[nothing; nothing; nothing; nothing; nothing; nothing; nothing; nothing; nothing]\n",
      "Atoms tokens dict is: Dict{Int64, Tuple{Vector{String}, Vector{PyObject}}}(0 => ([\"C\", \"P\", \"T\", \"C\", \"P\", \"C\", \"B\", \"M\", \"C\"], [PyObject Dollar, PyObject climbs, PyObject as, PyObject inflation, PyObject builds, PyObject case, PyObject for, PyObject higher, PyObject rates]))\n",
      "Actual indexes: (5, 6)\n",
      "Orig indexes: (5, 6)\n",
      "Pattern is: ([\"P\", \"C\"], \"R\", [1, 2])\n",
      "Depth is: 2\n",
      "Atoms depths are: [\"C\", \"P\", \"T\", \"C\", \"P\", \"C\", \"B\", \"M\", \"C\"]\n",
      "Score h is: 0.5\n",
      "a\n",
      "\n",
      "\n",
      "\n",
      "\n",
      "NEXT EDGE\n",
      "\n",
      "\n",
      "\n",
      "\n",
      "\n",
      "Actual hypergraph: Union{Nothing, Float64}[nothing nothing; nothing nothing; nothing nothing; nothing nothing; nothing nothing; nothing nothing; nothing nothing; 1.0 nothing; 1.0 nothing]\n",
      "Atoms tokens dict is: Dict{Int64, Tuple{Vector{String}, Vector{PyObject}}}(0 => ([\"C\", \"P\", \"T\", \"C\", \"P\", \"C\", \"B\", \"M\", \"C\"], [PyObject Dollar, PyObject climbs, PyObject as, PyObject inflation, PyObject builds, PyObject case, PyObject for, PyObject higher, PyObject rates]), 1 => ([\"C\", \"P\", \"T\", \"C\", \"P\", \"C\", \"B\", \"C\"], [PyObject Dollar, PyObject climbs, PyObject as, PyObject inflation, PyObject builds, PyObject case, PyObject for, PyObject [higher, rates]]))\n",
      "Actual indexes: (6, 8)\n",
      "Orig indexes: (6, 9)\n",
      "Pattern is: ([\"B\", \"C\", \"C\"], \"C\", [2, 1, 3])\n",
      "Depth is: 3\n",
      "Atoms depths are: [\"C\", \"P\", \"T\", \"C\", \"P\", \"C\", \"B\", \"C\"]\n",
      "Score h is: 1\n",
      "aActual hypergraph: Union{Nothing, Float64}[nothing nothing; nothing nothing; nothing nothing; nothing nothing; nothing nothing; nothing nothing; nothing nothing; 1.0 nothing; 1.0 nothing]\n",
      "Atoms tokens dict is: Dict{Int64, Tuple{Vector{String}, Vector{PyObject}}}(0 => ([\"C\", \"P\", \"T\", \"C\", \"P\", \"C\", \"B\", \"M\", \"C\"], [PyObject Dollar, PyObject climbs, PyObject as, PyObject inflation, PyObject builds, PyObject case, PyObject for, PyObject higher, PyObject rates]), 1 => ([\"C\", \"P\", \"T\", \"C\", \"P\", \"C\", \"B\", \"C\"], [PyObject Dollar, PyObject climbs, PyObject as, PyObject inflation, PyObject builds, PyObject case, PyObject for, PyObject [higher, rates]]))\n",
      "Actual indexes: (3, 4)\n",
      "Orig indexes: (3, 4)\n",
      "Pattern is: ([\"T\", \"C\"], \"S\", [1, 2])\n",
      "Depth is: 2\n",
      "Atoms depths are: [\"C\", \"P\", \"T\", \"C\", \"P\", \"C\", \"B\", \"C\"]\n",
      "Score h is: 0.5\n",
      "aActual hypergraph: Union{Nothing, Float64}[nothing nothing; nothing nothing; nothing nothing; nothing nothing; nothing nothing; nothing nothing; nothing nothing; 1.0 nothing; 1.0 nothing]\n",
      "Atoms tokens dict is: Dict{Int64, Tuple{Vector{String}, Vector{PyObject}}}(0 => ([\"C\", \"P\", \"T\", \"C\", \"P\", \"C\", \"B\", \"M\", \"C\"], [PyObject Dollar, PyObject climbs, PyObject as, PyObject inflation, PyObject builds, PyObject case, PyObject for, PyObject higher, PyObject rates]), 1 => ([\"C\", \"P\", \"T\", \"C\", \"P\", \"C\", \"B\", \"C\"], [PyObject Dollar, PyObject climbs, PyObject as, PyObject inflation, PyObject builds, PyObject case, PyObject for, PyObject [higher, rates]]))\n",
      "Actual indexes: (1, 2)\n",
      "Orig indexes: (1, 2)\n",
      "Pattern is: ([\"P\", \"C\"], \"R\", [2, 1])\n",
      "Depth is: 1\n",
      "Atoms depths are: [\"C\", \"P\", \"T\", \"C\", \"P\", \"C\", \"B\", \"C\"]\n",
      "Score h is: 0.5\n",
      "aActual hypergraph: Union{Nothing, Float64}[nothing nothing; nothing nothing; nothing nothing; nothing nothing; nothing nothing; nothing nothing; nothing nothing; 1.0 nothing; 1.0 nothing]\n",
      "Atoms tokens dict is: Dict{Int64, Tuple{Vector{String}, Vector{PyObject}}}(0 => ([\"C\", \"P\", \"T\", \"C\", \"P\", \"C\", \"B\", \"M\", \"C\"], [PyObject Dollar, PyObject climbs, PyObject as, PyObject inflation, PyObject builds, PyObject case, PyObject for, PyObject higher, PyObject rates]), 1 => ([\"C\", \"P\", \"T\", \"C\", \"P\", \"C\", \"B\", \"C\"], [PyObject Dollar, PyObject climbs, PyObject as, PyObject inflation, PyObject builds, PyObject case, PyObject for, PyObject [higher, rates]]))\n",
      "Actual indexes: (4, 5)\n",
      "Orig indexes: (4, 5)\n",
      "Pattern is: ([\"P\", \"C\"], \"R\", [2, 1])\n",
      "Depth is: 2\n",
      "Atoms depths are: [\"C\", \"P\", \"T\", \"C\", \"P\", \"C\", \"B\", \"C\"]\n",
      "Score h is: 0.5\n",
      "aActual hypergraph: Union{Nothing, Float64}[nothing nothing; nothing nothing; nothing nothing; nothing nothing; nothing nothing; nothing nothing; nothing nothing; 1.0 nothing; 1.0 nothing]\n",
      "Atoms tokens dict is: Dict{Int64, Tuple{Vector{String}, Vector{PyObject}}}(0 => ([\"C\", \"P\", \"T\", \"C\", \"P\", \"C\", \"B\", \"M\", \"C\"], [PyObject Dollar, PyObject climbs, PyObject as, PyObject inflation, PyObject builds, PyObject case, PyObject for, PyObject higher, PyObject rates]), 1 => ([\"C\", \"P\", \"T\", \"C\", \"P\", \"C\", \"B\", \"C\"], [PyObject Dollar, PyObject climbs, PyObject as, PyObject inflation, PyObject builds, PyObject case, PyObject for, PyObject [higher, rates]]))\n",
      "Actual indexes: (4, 6)\n",
      "Orig indexes: (4, 6)\n",
      "Pattern is: ([\"P\", \"C\", \"C\"], \"R\", [2, 1, 3])\n",
      "Depth is: 2\n",
      "Atoms depths are: [\"C\", \"P\", \"T\", \"C\", \"P\", \"C\", \"B\", \"C\"]\n",
      "Score h is: 1.0\n",
      "aActual hypergraph: Union{Nothing, Float64}[nothing nothing; nothing nothing; nothing nothing; nothing nothing; nothing nothing; nothing nothing; nothing nothing; 1.0 nothing; 1.0 nothing]\n",
      "Atoms tokens dict is: Dict{Int64, Tuple{Vector{String}, Vector{PyObject}}}(0 => ([\"C\", \"P\", \"T\", \"C\", \"P\", \"C\", \"B\", \"M\", \"C\"], [PyObject Dollar, PyObject climbs, PyObject as, PyObject inflation, PyObject builds, PyObject case, PyObject for, PyObject higher, PyObject rates]), 1 => ([\"C\", \"P\", \"T\", \"C\", \"P\", \"C\", \"B\", \"C\"], [PyObject Dollar, PyObject climbs, PyObject as, PyObject inflation, PyObject builds, PyObject case, PyObject for, PyObject [higher, rates]]))\n",
      "Actual indexes: (5, 6)\n",
      "Orig indexes: (5, 6)\n",
      "Pattern is: ([\"P\", \"C\"], \"R\", [1, 2])\n",
      "Depth is: 2\n",
      "Atoms depths are: [\"C\", \"P\", \"T\", \"C\", \"P\", \"C\", \"B\", \"C\"]\n",
      "Score h is: 0.5\n",
      "a\n",
      "\n",
      "\n",
      "\n",
      "\n",
      "NEXT EDGE\n",
      "\n",
      "\n",
      "\n",
      "\n",
      "\n",
      "Actual hypergraph: Union{Nothing, Float64}[nothing nothing nothing; nothing nothing nothing; nothing nothing nothing; nothing nothing nothing; nothing nothing nothing; nothing 1.0 nothing; nothing 1.0 nothing; 1.0 1.0 nothing; 1.0 1.0 nothing]\n",
      "Atoms tokens dict is: Dict{Int64, Tuple{Vector{String}, Vector{PyObject}}}(0 => ([\"C\", \"P\", \"T\", \"C\", \"P\", \"C\", \"B\", \"M\", \"C\"], [PyObject Dollar, PyObject climbs, PyObject as, PyObject inflation, PyObject builds, PyObject case, PyObject for, PyObject higher, PyObject rates]), 2 => ([\"C\", \"P\", \"T\", \"C\", \"P\", \"C\"], [PyObject Dollar, PyObject climbs, PyObject as, PyObject inflation, PyObject builds, PyObject [case, for, [higher, rates]]]), 1 => ([\"C\", \"P\", \"T\", \"C\", \"P\", \"C\", \"B\", \"C\"], [PyObject Dollar, PyObject climbs, PyObject as, PyObject inflation, PyObject builds, PyObject case, PyObject for, PyObject [higher, rates]]))\n",
      "Actual indexes: (3, 4)\n",
      "Orig indexes: (3, 4)\n",
      "Pattern is: ([\"T\", \"C\"], \"S\", [1, 2])\n",
      "Depth is: 2\n",
      "Atoms depths are: [\"C\", \"P\", \"T\", \"C\", \"P\", \"C\"]\n",
      "Score h is: 0.5\n",
      "aActual hypergraph: Union{Nothing, Float64}[nothing nothing nothing; nothing nothing nothing; nothing nothing nothing; nothing nothing nothing; nothing nothing nothing; nothing 1.0 nothing; nothing 1.0 nothing; 1.0 1.0 nothing; 1.0 1.0 nothing]\n",
      "Atoms tokens dict is: Dict{Int64, Tuple{Vector{String}, Vector{PyObject}}}(0 => ([\"C\", \"P\", \"T\", \"C\", \"P\", \"C\", \"B\", \"M\", \"C\"], [PyObject Dollar, PyObject climbs, PyObject as, PyObject inflation, PyObject builds, PyObject case, PyObject for, PyObject higher, PyObject rates]), 2 => ([\"C\", \"P\", \"T\", \"C\", \"P\", \"C\"], [PyObject Dollar, PyObject climbs, PyObject as, PyObject inflation, PyObject builds, PyObject [case, for, [higher, rates]]]), 1 => ([\"C\", \"P\", \"T\", \"C\", \"P\", \"C\", \"B\", \"C\"], [PyObject Dollar, PyObject climbs, PyObject as, PyObject inflation, PyObject builds, PyObject case, PyObject for, PyObject [higher, rates]]))\n",
      "Actual indexes: (1, 2)\n",
      "Orig indexes: (1, 2)\n",
      "Pattern is: ([\"P\", \"C\"], \"R\", [2, 1])\n",
      "Depth is: 1\n",
      "Atoms depths are: [\"C\", \"P\", \"T\", \"C\", \"P\", \"C\"]\n",
      "Score h is: 0.5\n",
      "aActual hypergraph: Union{Nothing, Float64}[nothing nothing nothing; nothing nothing nothing; nothing nothing nothing; nothing nothing nothing; nothing nothing nothing; nothing 1.0 nothing; nothing 1.0 nothing; 1.0 1.0 nothing; 1.0 1.0 nothing]\n",
      "Atoms tokens dict is: Dict{Int64, Tuple{Vector{String}, Vector{PyObject}}}(0 => ([\"C\", \"P\", \"T\", \"C\", \"P\", \"C\", \"B\", \"M\", \"C\"], [PyObject Dollar, PyObject climbs, PyObject as, PyObject inflation, PyObject builds, PyObject case, PyObject for, PyObject higher, PyObject rates]), 2 => ([\"C\", \"P\", \"T\", \"C\", \"P\", \"C\"], [PyObject Dollar, PyObject climbs, PyObject as, PyObject inflation, PyObject builds, PyObject [case, for, [higher, rates]]]), 1 => ([\"C\", \"P\", \"T\", \"C\", \"P\", \"C\", \"B\", \"C\"], [PyObject Dollar, PyObject climbs, PyObject as, PyObject inflation, PyObject builds, PyObject case, PyObject for, PyObject [higher, rates]]))\n",
      "Actual indexes: (4, 5)\n",
      "Orig indexes: (4, 5)\n",
      "Pattern is: ([\"P\", \"C\"], \"R\", [2, 1])\n",
      "Depth is: 2\n",
      "Atoms depths are: [\"C\", \"P\", \"T\", \"C\", \"P\", \"C\"]\n",
      "Score h is: 0.5\n",
      "aActual hypergraph: Union{Nothing, Float64}[nothing nothing nothing; nothing nothing nothing; nothing nothing nothing; nothing nothing nothing; nothing nothing nothing; nothing 1.0 nothing; nothing 1.0 nothing; 1.0 1.0 nothing; 1.0 1.0 nothing]\n",
      "Atoms tokens dict is: Dict{Int64, Tuple{Vector{String}, Vector{PyObject}}}(0 => ([\"C\", \"P\", \"T\", \"C\", \"P\", \"C\", \"B\", \"M\", \"C\"], [PyObject Dollar, PyObject climbs, PyObject as, PyObject inflation, PyObject builds, PyObject case, PyObject for, PyObject higher, PyObject rates]), 2 => ([\"C\", \"P\", \"T\", \"C\", \"P\", \"C\"], [PyObject Dollar, PyObject climbs, PyObject as, PyObject inflation, PyObject builds, PyObject [case, for, [higher, rates]]]), 1 => ([\"C\", \"P\", \"T\", \"C\", \"P\", \"C\", \"B\", \"C\"], [PyObject Dollar, PyObject climbs, PyObject as, PyObject inflation, PyObject builds, PyObject case, PyObject for, PyObject [higher, rates]]))\n",
      "Actual indexes: (4, 6)\n"
     ]
    },
    {
     "name": "stdout",
     "output_type": "stream",
     "text": [
      "Orig indexes: (4, 9)\n",
      "Pattern is: ([\"P\", \"C\", \"C\"], \"R\", [2, 1, 3])\n",
      "Depth is: 2\n",
      "Atoms depths are: [\"C\", \"P\", \"T\", \"C\", \"P\", \"C\"]\n",
      "Score h is: 2\n",
      "aActual hypergraph: Union{Nothing, Float64}[nothing nothing nothing; nothing nothing nothing; nothing nothing nothing; nothing nothing nothing; nothing nothing nothing; nothing 1.0 nothing; nothing 1.0 nothing; 1.0 1.0 nothing; 1.0 1.0 nothing]\n",
      "Atoms tokens dict is: Dict{Int64, Tuple{Vector{String}, Vector{PyObject}}}(0 => ([\"C\", \"P\", \"T\", \"C\", \"P\", \"C\", \"B\", \"M\", \"C\"], [PyObject Dollar, PyObject climbs, PyObject as, PyObject inflation, PyObject builds, PyObject case, PyObject for, PyObject higher, PyObject rates]), 2 => ([\"C\", \"P\", \"T\", \"C\", \"P\", \"C\"], [PyObject Dollar, PyObject climbs, PyObject as, PyObject inflation, PyObject builds, PyObject [case, for, [higher, rates]]]), 1 => ([\"C\", \"P\", \"T\", \"C\", \"P\", \"C\", \"B\", \"C\"], [PyObject Dollar, PyObject climbs, PyObject as, PyObject inflation, PyObject builds, PyObject case, PyObject for, PyObject [higher, rates]]))\n",
      "Actual indexes: (5, 6)\n",
      "Orig indexes: (5, 9)\n",
      "Pattern is: ([\"P\", \"C\"], \"R\", [1, 2])\n",
      "Depth is: 1\n",
      "Atoms depths are: [\"C\", \"P\", \"T\", \"C\", \"P\", \"C\"]\n",
      "Score h is: 2\n",
      "a\n",
      "\n",
      "\n",
      "\n",
      "\n",
      "NEXT EDGE\n",
      "\n",
      "\n",
      "\n",
      "\n",
      "\n",
      "Actual hypergraph: Union{Nothing, Float64}[nothing nothing nothing nothing; nothing nothing nothing nothing; nothing nothing nothing nothing; nothing nothing 1.0 nothing; nothing nothing 1.0 nothing; nothing 1.0 1.0 nothing; nothing 1.0 1.0 nothing; 1.0 1.0 1.0 nothing; 1.0 1.0 1.0 nothing]\n",
      "Atoms tokens dict is: Dict{Int64, Tuple{Vector{String}, Vector{PyObject}}}(0 => ([\"C\", \"P\", \"T\", \"C\", \"P\", \"C\", \"B\", \"M\", \"C\"], [PyObject Dollar, PyObject climbs, PyObject as, PyObject inflation, PyObject builds, PyObject case, PyObject for, PyObject higher, PyObject rates]), 2 => ([\"C\", \"P\", \"T\", \"C\", \"P\", \"C\"], [PyObject Dollar, PyObject climbs, PyObject as, PyObject inflation, PyObject builds, PyObject [case, for, [higher, rates]]]), 3 => ([\"C\", \"P\", \"T\", \"R\"], [PyObject Dollar, PyObject climbs, PyObject as, PyObject [inflation, builds, [case, for, [higher, rates]]]]), 1 => ([\"C\", \"P\", \"T\", \"C\", \"P\", \"C\", \"B\", \"C\"], [PyObject Dollar, PyObject climbs, PyObject as, PyObject inflation, PyObject builds, PyObject case, PyObject for, PyObject [higher, rates]]))\n",
      "Actual indexes: (3, 4)\n",
      "Orig indexes: (3, 9)\n",
      "Pattern is: ([\"T\", \"R\"], \"S\", [1, 2])\n",
      "Depth is: 2\n",
      "Atoms depths are: [\"C\", \"P\", \"T\", \"R\"]\n",
      "Score h is: 3\n",
      "aActual hypergraph: Union{Nothing, Float64}[nothing nothing nothing nothing; nothing nothing nothing nothing; nothing nothing nothing nothing; nothing nothing 1.0 nothing; nothing nothing 1.0 nothing; nothing 1.0 1.0 nothing; nothing 1.0 1.0 nothing; 1.0 1.0 1.0 nothing; 1.0 1.0 1.0 nothing]\n",
      "Atoms tokens dict is: Dict{Int64, Tuple{Vector{String}, Vector{PyObject}}}(0 => ([\"C\", \"P\", \"T\", \"C\", \"P\", \"C\", \"B\", \"M\", \"C\"], [PyObject Dollar, PyObject climbs, PyObject as, PyObject inflation, PyObject builds, PyObject case, PyObject for, PyObject higher, PyObject rates]), 2 => ([\"C\", \"P\", \"T\", \"C\", \"P\", \"C\"], [PyObject Dollar, PyObject climbs, PyObject as, PyObject inflation, PyObject builds, PyObject [case, for, [higher, rates]]]), 3 => ([\"C\", \"P\", \"T\", \"R\"], [PyObject Dollar, PyObject climbs, PyObject as, PyObject [inflation, builds, [case, for, [higher, rates]]]]), 1 => ([\"C\", \"P\", \"T\", \"C\", \"P\", \"C\", \"B\", \"C\"], [PyObject Dollar, PyObject climbs, PyObject as, PyObject inflation, PyObject builds, PyObject case, PyObject for, PyObject [higher, rates]]))\n",
      "Actual indexes: (1, 2)\n",
      "Orig indexes: (1, 2)\n",
      "Pattern is: ([\"P\", \"C\"], \"R\", [2, 1])\n",
      "Depth is: 1\n",
      "Atoms depths are: [\"C\", \"P\", \"T\", \"R\"]\n",
      "Score h is: 0.5\n",
      "a\n",
      "\n",
      "\n",
      "\n",
      "\n",
      "NEXT EDGE\n",
      "\n",
      "\n",
      "\n",
      "\n",
      "\n",
      "Actual hypergraph: Union{Nothing, Float64}[nothing nothing nothing nothing nothing; nothing nothing nothing nothing nothing; nothing nothing nothing 1.0 nothing; nothing nothing 1.0 1.0 nothing; nothing nothing 1.0 1.0 nothing; nothing 1.0 1.0 1.0 nothing; nothing 1.0 1.0 1.0 nothing; 1.0 1.0 1.0 1.0 nothing; 1.0 1.0 1.0 1.0 nothing]\n",
      "Atoms tokens dict is: Dict{Int64, Tuple{Vector{String}, Vector{PyObject}}}(0 => ([\"C\", \"P\", \"T\", \"C\", \"P\", \"C\", \"B\", \"M\", \"C\"], [PyObject Dollar, PyObject climbs, PyObject as, PyObject inflation, PyObject builds, PyObject case, PyObject for, PyObject higher, PyObject rates]), 4 => ([\"C\", \"P\", \"S\"], [PyObject Dollar, PyObject climbs, PyObject [as, [inflation, builds, [case, for, [higher, rates]]]]]), 2 => ([\"C\", \"P\", \"T\", \"C\", \"P\", \"C\"], [PyObject Dollar, PyObject climbs, PyObject as, PyObject inflation, PyObject builds, PyObject [case, for, [higher, rates]]]), 3 => ([\"C\", \"P\", \"T\", \"R\"], [PyObject Dollar, PyObject climbs, PyObject as, PyObject [inflation, builds, [case, for, [higher, rates]]]]), 1 => ([\"C\", \"P\", \"T\", \"C\", \"P\", \"C\", \"B\", \"C\"], [PyObject Dollar, PyObject climbs, PyObject as, PyObject inflation, PyObject builds, PyObject case, PyObject for, PyObject [higher, rates]]))\n",
      "Actual indexes: (1, 2)\n",
      "Orig indexes: (1, 2)\n",
      "Pattern is: ([\"P\", \"C\"], \"R\", [2, 1])\n",
      "Depth is: 1\n",
      "Atoms depths are: [\"C\", \"P\", \"S\"]\n",
      "Score h is: 0.5\n",
      "aActual hypergraph: Union{Nothing, Float64}[nothing nothing nothing nothing nothing; nothing nothing nothing nothing nothing; nothing nothing nothing 1.0 nothing; nothing nothing 1.0 1.0 nothing; nothing nothing 1.0 1.0 nothing; nothing 1.0 1.0 1.0 nothing; nothing 1.0 1.0 1.0 nothing; 1.0 1.0 1.0 1.0 nothing; 1.0 1.0 1.0 1.0 nothing]\n",
      "Atoms tokens dict is: Dict{Int64, Tuple{Vector{String}, Vector{PyObject}}}(0 => ([\"C\", \"P\", \"T\", \"C\", \"P\", \"C\", \"B\", \"M\", \"C\"], [PyObject Dollar, PyObject climbs, PyObject as, PyObject inflation, PyObject builds, PyObject case, PyObject for, PyObject higher, PyObject rates]), 4 => ([\"C\", \"P\", \"S\"], [PyObject Dollar, PyObject climbs, PyObject [as, [inflation, builds, [case, for, [higher, rates]]]]]), 2 => ([\"C\", \"P\", \"T\", \"C\", \"P\", \"C\"], [PyObject Dollar, PyObject climbs, PyObject as, PyObject inflation, PyObject builds, PyObject [case, for, [higher, rates]]]), 3 => ([\"C\", \"P\", \"T\", \"R\"], [PyObject Dollar, PyObject climbs, PyObject as, PyObject [inflation, builds, [case, for, [higher, rates]]]]), 1 => ([\"C\", \"P\", \"T\", \"C\", \"P\", \"C\", \"B\", \"C\"], [PyObject Dollar, PyObject climbs, PyObject as, PyObject inflation, PyObject builds, PyObject case, PyObject for, PyObject [higher, rates]]))\n",
      "Actual indexes: (1, 3)\n",
      "Orig indexes: (1, 9)\n",
      "Pattern is: ([\"P\", \"C\", \"S\"], \"R\", [2, 1, 3])\n",
      "Depth is: 1\n",
      "Atoms depths are: [\"C\", \"P\", \"S\"]\n",
      "Score h is: 5\n",
      "aActual hypergraph: Union{Nothing, Float64}[nothing nothing nothing nothing nothing; nothing nothing nothing nothing nothing; nothing nothing nothing 1.0 nothing; nothing nothing 1.0 1.0 nothing; nothing nothing 1.0 1.0 nothing; nothing 1.0 1.0 1.0 nothing; nothing 1.0 1.0 1.0 nothing; 1.0 1.0 1.0 1.0 nothing; 1.0 1.0 1.0 1.0 nothing]\n",
      "Atoms tokens dict is: Dict{Int64, Tuple{Vector{String}, Vector{PyObject}}}(0 => ([\"C\", \"P\", \"T\", \"C\", \"P\", \"C\", \"B\", \"M\", \"C\"], [PyObject Dollar, PyObject climbs, PyObject as, PyObject inflation, PyObject builds, PyObject case, PyObject for, PyObject higher, PyObject rates]), 4 => ([\"C\", \"P\", \"S\"], [PyObject Dollar, PyObject climbs, PyObject [as, [inflation, builds, [case, for, [higher, rates]]]]]), 2 => ([\"C\", \"P\", \"T\", \"C\", \"P\", \"C\"], [PyObject Dollar, PyObject climbs, PyObject as, PyObject inflation, PyObject builds, PyObject [case, for, [higher, rates]]]), 3 => ([\"C\", \"P\", \"T\", \"R\"], [PyObject Dollar, PyObject climbs, PyObject as, PyObject [inflation, builds, [case, for, [higher, rates]]]]), 1 => ([\"C\", \"P\", \"T\", \"C\", \"P\", \"C\", \"B\", \"C\"], [PyObject Dollar, PyObject climbs, PyObject as, PyObject inflation, PyObject builds, PyObject case, PyObject for, PyObject [higher, rates]]))\n",
      "Actual indexes: (2, 3)\n",
      "Orig indexes: (2, 9)\n",
      "Pattern is: ([\"P\", \"S\"], \"R\", [1, 2])\n",
      "Depth is: 0\n",
      "Atoms depths are: [\"C\", \"P\", \"S\"]\n",
      "Score h is: 4\n",
      "a\n",
      "\n",
      "\n",
      "\n",
      "\n",
      "NEXT EDGE\n",
      "\n",
      "\n",
      "\n",
      "\n",
      "\n"
     ]
    },
    {
     "data": {
      "text/plain": [
       "(Union{Nothing, Float64}[nothing nothing … nothing 1.0; nothing nothing … nothing 1.0; … ; 1.0 1.0 … 1.0 1.0; 1.0 1.0 … 1.0 1.0], Dict{Int64, Tuple{Vector{String}, Vector{PyObject}}}(0 => ([\"C\", \"P\", \"T\", \"C\", \"P\", \"C\", \"B\", \"M\", \"C\"], [PyObject Dollar, PyObject climbs, PyObject as, PyObject inflation, PyObject builds, PyObject case, PyObject for, PyObject higher, PyObject rates]), 4 => ([\"C\", \"P\", \"S\"], [PyObject Dollar, PyObject climbs, PyObject [as, [inflation, builds, [case, for, [higher, rates]]]]]), 5 => ([\"R\"], [PyObject [Dollar, climbs, [as, [inflation, builds, [case, for, [higher, rates]]]]]]), 2 => ([\"C\", \"P\", \"T\", \"C\", \"P\", \"C\"], [PyObject Dollar, PyObject climbs, PyObject as, PyObject inflation, PyObject builds, PyObject [case, for, [higher, rates]]]), 3 => ([\"C\", \"P\", \"T\", \"R\"], [PyObject Dollar, PyObject climbs, PyObject as, PyObject [inflation, builds, [case, for, [higher, rates]]]]), 1 => ([\"C\", \"P\", \"T\", \"C\", \"P\", \"C\", \"B\", \"C\"], [PyObject Dollar, PyObject climbs, PyObject as, PyObject inflation, PyObject builds, PyObject case, PyObject for, PyObject [higher, rates]])), Any['C', 'C', 'R', 'S', 'R'])"
      ]
     },
     "execution_count": 4,
     "metadata": {},
     "output_type": "execute_result"
    }
   ],
   "source": [
    "text = \"Dollar climbs as inflation builds case for higher rates\"\n",
    "doc = nlp(text)\n",
    "data = convert_df([text], uniques, rf)\n",
    "hg, atoms_tokens, edges = beta(patterns, doc, data[1, 2], true)"
   ]
  },
  {
   "cell_type": "code",
   "execution_count": 14,
   "id": "b409e72b",
   "metadata": {},
   "outputs": [
    {
     "data": {
      "text/plain": [
       "9-element Vector{Union{Nothing, Float64}}:\n",
       "  nothing\n",
       "  nothing\n",
       "  nothing\n",
       "  nothing\n",
       "  nothing\n",
       "  nothing\n",
       "  nothing\n",
       " 1.0\n",
       " 1.0"
      ]
     },
     "execution_count": 14,
     "metadata": {},
     "output_type": "execute_result"
    }
   ],
   "source": [
    "coalesce.(hg[:, 1], 0)"
   ]
  },
  {
   "cell_type": "code",
   "execution_count": 17,
   "id": "1f3a44b7",
   "metadata": {},
   "outputs": [
    {
     "data": {
      "text/plain": [
       "9×5 Matrix{Float64}:\n",
       " 0.0  0.0  0.0  0.0  1.0\n",
       " 0.0  0.0  0.0  0.0  1.0\n",
       " 0.0  0.0  0.0  1.0  1.0\n",
       " 0.0  0.0  1.0  1.0  1.0\n",
       " 0.0  0.0  1.0  1.0  1.0\n",
       " 0.0  1.0  1.0  1.0  1.0\n",
       " 0.0  1.0  1.0  1.0  1.0\n",
       " 1.0  1.0  1.0  1.0  1.0\n",
       " 1.0  1.0  1.0  1.0  1.0"
      ]
     },
     "execution_count": 17,
     "metadata": {},
     "output_type": "execute_result"
    }
   ],
   "source": [
    "replace(hg, nothing => 0)"
   ]
  },
  {
   "cell_type": "code",
   "execution_count": 18,
   "id": "409461f9",
   "metadata": {},
   "outputs": [
    {
     "data": {
      "image/png": "[encoded data removed]",
      "text/plain": [
       "PyPlot.Figure(PyObject <Figure size 1000x1000 with 1 Axes>)"
      ]
     },
     "metadata": {},
     "output_type": "display_data"
    },
    {
     "name": "stdout",
     "output_type": "stream",
     "text": [
      "Dict(5 => \"builds\", 4 => \"inflation\", 6 => \"case\", 7 => \"for\", 2 => \"climbs\", 9 => \"rates\", 8 => \"higher\", 3 => \"as\", 1 => \"Dollar\")"
     ]
    }
   ],
   "source": [
    "draw_hg(hg, doc)"
   ]
  },
  {
   "cell_type": "code",
   "execution_count": 27,
   "id": "97019bbd",
   "metadata": {},
   "outputs": [
    {
     "data": {
      "image/svg+xml": [
       "<?xml version=\"1.0\" encoding=\"UTF-8\"?>\n",
       "<svg xmlns=\"http://www.w3.org/2000/svg\"\n",
       "     xmlns:xlink=\"http://www.w3.org/1999/xlink\"\n",
       "     version=\"1.2\"\n",
       "     width=\"141.42mm\" height=\"100mm\" viewBox=\"0 0 141.42 100\"\n",
       "     stroke=\"none\"\n",
       "     fill=\"#000000\"\n",
       "     stroke-width=\"0.3\"\n",
       "     font-size=\"3.88\"\n",
       ">\n",
       "<defs>\n",
       "  <marker id=\"arrow\" markerWidth=\"15\" markerHeight=\"7\" refX=\"5\" refY=\"3.5\" orient=\"auto\" markerUnits=\"strokeWidth\">\n",
       "    <path d=\"M0,0 L15,3.5 L0,7 z\" stroke=\"context-stroke\" fill=\"context-stroke\"/>\n",
       "  </marker>\n",
       "</defs>\n",
       "<g stroke-width=\"0.8\" fill=\"#000000\" fill-opacity=\"0.000\" stroke=\"#D3D3D3\" id=\"img-25a96c8e-1\">\n",
       "  <g transform=\"translate(126.72,40.73)\">\n",
       "    <path fill=\"none\" d=\"M2.06,6.55 L-2.06,-6.55 \" class=\"primitive\"/>\n",
       "  </g>\n",
       "  <g transform=\"translate(123.8,50)\">\n",
       "    <path fill=\"none\" d=\"M0,15.76 L0,-15.76 \" class=\"primitive\"/>\n",
       "  </g>\n",
       "  <g transform=\"translate(107.45,50)\">\n",
       "    <path fill=\"none\" d=\"M0,30.63 L0,-30.63 \" class=\"primitive\"/>\n",
       "  </g>\n",
       "  <g transform=\"translate(115.63,57.44)\">\n",
       "    <path fill=\"none\" d=\"M-7.32,23.26 L7.32,-23.26 \" class=\"primitive\"/>\n",
       "  </g>\n",
       "  <g transform=\"translate(83.82,50)\">\n",
       "    <path fill=\"none\" d=\"M0,38.88 L0,-38.88 \" class=\"primitive\"/>\n",
       "  </g>\n",
       "  <g transform=\"translate(95.64,54.13)\">\n",
       "    <path fill=\"none\" d=\"M-10.96,34.82 L10.96,-34.82 \" class=\"primitive\"/>\n",
       "  </g>\n",
       "  <g transform=\"translate(103.81,61.56)\">\n",
       "    <path fill=\"none\" d=\"M-18.32,27.58 L18.32,-27.58 \" class=\"primitive\"/>\n",
       "  </g>\n",
       "  <g transform=\"translate(70.71,50)\">\n",
       "    <path fill=\"none\" d=\"M-12.26,38.95 L12.26,-38.95 \" class=\"primitive\"/>\n",
       "  </g>\n",
       "  <g transform=\"translate(82.52,54.13)\">\n",
       "    <path fill=\"none\" d=\"M-23.25,35.02 L23.25,-35.02 \" class=\"primitive\"/>\n",
       "  </g>\n",
       "  <g transform=\"translate(90.7,61.56)\">\n",
       "    <path fill=\"none\" d=\"M-30.68,27.91 L30.68,-27.91 \" class=\"primitive\"/>\n",
       "  </g>\n",
       "  <g transform=\"translate(45.78,45.87)\">\n",
       "    <path fill=\"none\" d=\"M-10.96,34.82 L10.96,-34.82 \" class=\"primitive\"/>\n",
       "  </g>\n",
       "  <g transform=\"translate(58.9,45.87)\">\n",
       "    <path fill=\"none\" d=\"M-23.25,35.02 L23.25,-35.02 \" class=\"primitive\"/>\n",
       "  </g>\n",
       "  <g transform=\"translate(70.71,50)\">\n",
       "    <path fill=\"none\" d=\"M-34.32,31.22 L34.32,-31.22 \" class=\"primitive\"/>\n",
       "  </g>\n",
       "  <g transform=\"translate(78.89,57.44)\">\n",
       "    <path fill=\"none\" d=\"M-41.87,24.22 L41.87,-24.22 \" class=\"primitive\"/>\n",
       "  </g>\n",
       "  <g transform=\"translate(37.61,38.44)\">\n",
       "    <path fill=\"none\" d=\"M-18.32,27.58 L18.32,-27.58 \" class=\"primitive\"/>\n",
       "  </g>\n",
       "  <g transform=\"translate(50.72,38.44)\">\n",
       "    <path fill=\"none\" d=\"M-30.68,27.91 L30.68,-27.91 \" class=\"primitive\"/>\n",
       "  </g>\n",
       "  <g transform=\"translate(62.54,42.56)\">\n",
       "    <path fill=\"none\" d=\"M-41.87,24.22 L41.87,-24.22 \" class=\"primitive\"/>\n",
       "  </g>\n",
       "  <g transform=\"translate(70.71,50)\">\n",
       "    <path fill=\"none\" d=\"M-49.56,17.31 L49.56,-17.31 \" class=\"primitive\"/>\n",
       "  </g>\n",
       "  <g transform=\"translate(22.88,33.29)\">\n",
       "    <path fill=\"none\" d=\"M-9.42,14.19 L9.42,-14.19 \" class=\"primitive\"/>\n",
       "  </g>\n",
       "  <g transform=\"translate(34.69,29.17)\">\n",
       "    <path fill=\"none\" d=\"M-20.49,18.64 L20.49,-18.64 \" class=\"primitive\"/>\n",
       "  </g>\n",
       "  <g transform=\"translate(47.8,29.17)\">\n",
       "    <path fill=\"none\" d=\"M-32.97,19.07 L32.97,-19.07 \" class=\"primitive\"/>\n",
       "  </g>\n",
       "  <g transform=\"translate(59.62,33.29)\">\n",
       "    <path fill=\"none\" d=\"M-44.3,15.47 L44.3,-15.47 \" class=\"primitive\"/>\n",
       "  </g>\n",
       "  <g transform=\"translate(67.79,40.73)\">\n",
       "    <path fill=\"none\" d=\"M-52.17,8.64 L52.17,-8.64 \" class=\"primitive\"/>\n",
       "  </g>\n",
       "  <g transform=\"translate(25.8,24.02)\">\n",
       "    <path fill=\"none\" d=\"M-5.76,5.24 L5.76,-5.24 \" class=\"primitive\"/>\n",
       "  </g>\n",
       "  <g transform=\"translate(37.61,19.89)\">\n",
       "    <path fill=\"none\" d=\"M-16.94,9.8 L16.94,-9.8 \" class=\"primitive\"/>\n",
       "  </g>\n",
       "  <g transform=\"translate(50.72,19.89)\">\n",
       "    <path fill=\"none\" d=\"M-29.57,10.33 L29.57,-10.33 \" class=\"primitive\"/>\n",
       "  </g>\n",
       "  <g transform=\"translate(62.54,24.02)\">\n",
       "    <path fill=\"none\" d=\"M-41.08,6.8 L41.08,-6.8 \" class=\"primitive\"/>\n",
       "  </g>\n",
       "  <g transform=\"translate(70.71,31.46)\">\n",
       "    <path fill=\"none\" d=\"M-49.15,0 L49.15,-0 \" class=\"primitive\"/>\n",
       "  </g>\n",
       "</g>\n",
       "<g stroke-width=\"0.8\" stroke=\"#D3D3D3\" id=\"img-25a96c8e-2\">\n",
       "</g>\n",
       "<g font-size=\"4\" stroke=\"#000000\" stroke-opacity=\"0.000\" fill=\"#000000\" id=\"img-25a96c8e-3\">\n",
       "</g>\n",
       "<g stroke-width=\"0\" stroke=\"#000000\" stroke-opacity=\"0.000\" id=\"img-25a96c8e-4\">\n",
       "  <g transform=\"translate(129.64,50)\" fill=\"#20B2AA\">\n",
       "    <circle cx=\"0\" cy=\"0\" r=\"3.78\" class=\"primitive\"/>\n",
       "  </g>\n",
       "  <g transform=\"translate(123.8,68.54)\" fill=\"#20B2AA\">\n",
       "    <circle cx=\"0\" cy=\"0\" r=\"3.78\" class=\"primitive\"/>\n",
       "  </g>\n",
       "  <g transform=\"translate(107.45,83.41)\" fill=\"#20B2AA\">\n",
       "    <circle cx=\"0\" cy=\"0\" r=\"3.78\" class=\"primitive\"/>\n",
       "  </g>\n",
       "  <g transform=\"translate(83.82,91.67)\" fill=\"#20B2AA\">\n",
       "    <circle cx=\"0\" cy=\"0\" r=\"3.78\" class=\"primitive\"/>\n",
       "  </g>\n",
       "  <g transform=\"translate(57.6,91.67)\" fill=\"#20B2AA\">\n",
       "    <circle cx=\"0\" cy=\"0\" r=\"3.78\" class=\"primitive\"/>\n",
       "  </g>\n",
       "  <g transform=\"translate(33.97,83.41)\" fill=\"#20B2AA\">\n",
       "    <circle cx=\"0\" cy=\"0\" r=\"3.78\" class=\"primitive\"/>\n",
       "  </g>\n",
       "  <g transform=\"translate(17.62,68.54)\" fill=\"#20B2AA\">\n",
       "    <circle cx=\"0\" cy=\"0\" r=\"3.78\" class=\"primitive\"/>\n",
       "  </g>\n",
       "  <g transform=\"translate(11.79,50)\" fill=\"#20B2AA\">\n",
       "    <circle cx=\"0\" cy=\"0\" r=\"3.78\" class=\"primitive\"/>\n",
       "  </g>\n",
       "  <g transform=\"translate(17.62,31.46)\" fill=\"#20B2AA\">\n",
       "    <circle cx=\"0\" cy=\"0\" r=\"3.78\" class=\"primitive\"/>\n",
       "  </g>\n",
       "  <g transform=\"translate(33.97,16.59)\" fill=\"#FFA500\">\n",
       "    <circle cx=\"0\" cy=\"0\" r=\"3.78\" class=\"primitive\"/>\n",
       "  </g>\n",
       "  <g transform=\"translate(57.6,8.33)\" fill=\"#FFA500\">\n",
       "    <circle cx=\"0\" cy=\"0\" r=\"3.78\" class=\"primitive\"/>\n",
       "  </g>\n",
       "  <g transform=\"translate(83.82,8.33)\" fill=\"#FFA500\">\n",
       "    <circle cx=\"0\" cy=\"0\" r=\"3.78\" class=\"primitive\"/>\n",
       "  </g>\n",
       "  <g transform=\"translate(107.45,16.59)\" fill=\"#FFA500\">\n",
       "    <circle cx=\"0\" cy=\"0\" r=\"3.78\" class=\"primitive\"/>\n",
       "  </g>\n",
       "  <g transform=\"translate(123.8,31.46)\" fill=\"#FFA500\">\n",
       "    <circle cx=\"0\" cy=\"0\" r=\"3.78\" class=\"primitive\"/>\n",
       "  </g>\n",
       "</g>\n",
       "<g font-size=\"4\" stroke=\"#000000\" stroke-opacity=\"0.000\" fill=\"#000000\" id=\"img-25a96c8e-5\">\n",
       "  <g transform=\"translate(129.64,50)\">\n",
       "    <g class=\"primitive\">\n",
       "      <text text-anchor=\"middle\" dy=\"0.35em\">1</text>\n",
       "    </g>\n",
       "  </g>\n",
       "  <g transform=\"translate(123.8,68.54)\">\n",
       "    <g class=\"primitive\">\n",
       "      <text text-anchor=\"middle\" dy=\"0.35em\">2</text>\n",
       "    </g>\n",
       "  </g>\n",
       "  <g transform=\"translate(107.45,83.41)\">\n",
       "    <g class=\"primitive\">\n",
       "      <text text-anchor=\"middle\" dy=\"0.35em\">3</text>\n",
       "    </g>\n",
       "  </g>\n",
       "  <g transform=\"translate(83.82,91.67)\">\n",
       "    <g class=\"primitive\">\n",
       "      <text text-anchor=\"middle\" dy=\"0.35em\">4</text>\n",
       "    </g>\n",
       "  </g>\n",
       "  <g transform=\"translate(57.6,91.67)\">\n",
       "    <g class=\"primitive\">\n",
       "      <text text-anchor=\"middle\" dy=\"0.35em\">5</text>\n",
       "    </g>\n",
       "  </g>\n",
       "  <g transform=\"translate(33.97,83.41)\">\n",
       "    <g class=\"primitive\">\n",
       "      <text text-anchor=\"middle\" dy=\"0.35em\">6</text>\n",
       "    </g>\n",
       "  </g>\n",
       "  <g transform=\"translate(17.62,68.54)\">\n",
       "    <g class=\"primitive\">\n",
       "      <text text-anchor=\"middle\" dy=\"0.35em\">7</text>\n",
       "    </g>\n",
       "  </g>\n",
       "  <g transform=\"translate(11.79,50)\">\n",
       "    <g class=\"primitive\">\n",
       "      <text text-anchor=\"middle\" dy=\"0.35em\">8</text>\n",
       "    </g>\n",
       "  </g>\n",
       "  <g transform=\"translate(17.62,31.46)\">\n",
       "    <g class=\"primitive\">\n",
       "      <text text-anchor=\"middle\" dy=\"0.35em\">9</text>\n",
       "    </g>\n",
       "  </g>\n",
       "  <g transform=\"translate(33.97,16.59)\">\n",
       "    <g class=\"primitive\">\n",
       "      <text text-anchor=\"middle\" dy=\"0.35em\">1</text>\n",
       "    </g>\n",
       "  </g>\n",
       "  <g transform=\"translate(57.6,8.33)\">\n",
       "    <g class=\"primitive\">\n",
       "      <text text-anchor=\"middle\" dy=\"0.35em\">2</text>\n",
       "    </g>\n",
       "  </g>\n",
       "  <g transform=\"translate(83.82,8.33)\">\n",
       "    <g class=\"primitive\">\n",
       "      <text text-anchor=\"middle\" dy=\"0.35em\">3</text>\n",
       "    </g>\n",
       "  </g>\n",
       "  <g transform=\"translate(107.45,16.59)\">\n",
       "    <g class=\"primitive\">\n",
       "      <text text-anchor=\"middle\" dy=\"0.35em\">4</text>\n",
       "    </g>\n",
       "  </g>\n",
       "  <g transform=\"translate(123.8,31.46)\">\n",
       "    <g class=\"primitive\">\n",
       "      <text text-anchor=\"middle\" dy=\"0.35em\">5</text>\n",
       "    </g>\n",
       "  </g>\n",
       "</g>\n",
       "</svg>\n"
      ],
      "text/html": [
       "<?xml version=\"1.0\" encoding=\"UTF-8\"?>\n",
       "<svg xmlns=\"http://www.w3.org/2000/svg\"\n",
       "     xmlns:xlink=\"http://www.w3.org/1999/xlink\"\n",
       "     version=\"1.2\"\n",
       "     width=\"141.42mm\" height=\"100mm\" viewBox=\"0 0 141.42 100\"\n",
       "     stroke=\"none\"\n",
       "     fill=\"#000000\"\n",
       "     stroke-width=\"0.3\"\n",
       "     font-size=\"3.88\"\n",
       "\n",
       "     id=\"img-06122a56\">\n",
       "<defs>\n",
       "  <marker id=\"arrow\" markerWidth=\"15\" markerHeight=\"7\" refX=\"5\" refY=\"3.5\" orient=\"auto\" markerUnits=\"strokeWidth\">\n",
       "    <path d=\"M0,0 L15,3.5 L0,7 z\" stroke=\"context-stroke\" fill=\"context-stroke\"/>\n",
       "  </marker>\n",
       "</defs>\n",
       "<g stroke-width=\"0.8\" fill=\"#000000\" fill-opacity=\"0.000\" stroke=\"#D3D3D3\" id=\"img-06122a56-1\">\n",
       "  <g transform=\"translate(126.72,40.73)\">\n",
       "    <path fill=\"none\" d=\"M2.06,6.55 L-2.06,-6.55 \" class=\"primitive\"/>\n",
       "  </g>\n",
       "  <g transform=\"translate(123.8,50)\">\n",
       "    <path fill=\"none\" d=\"M0,15.76 L0,-15.76 \" class=\"primitive\"/>\n",
       "  </g>\n",
       "  <g transform=\"translate(107.45,50)\">\n",
       "    <path fill=\"none\" d=\"M0,30.63 L0,-30.63 \" class=\"primitive\"/>\n",
       "  </g>\n",
       "  <g transform=\"translate(115.63,57.44)\">\n",
       "    <path fill=\"none\" d=\"M-7.32,23.26 L7.32,-23.26 \" class=\"primitive\"/>\n",
       "  </g>\n",
       "  <g transform=\"translate(83.82,50)\">\n",
       "    <path fill=\"none\" d=\"M0,38.88 L0,-38.88 \" class=\"primitive\"/>\n",
       "  </g>\n",
       "  <g transform=\"translate(95.64,54.13)\">\n",
       "    <path fill=\"none\" d=\"M-10.96,34.82 L10.96,-34.82 \" class=\"primitive\"/>\n",
       "  </g>\n",
       "  <g transform=\"translate(103.81,61.56)\">\n",
       "    <path fill=\"none\" d=\"M-18.32,27.58 L18.32,-27.58 \" class=\"primitive\"/>\n",
       "  </g>\n",
       "  <g transform=\"translate(70.71,50)\">\n",
       "    <path fill=\"none\" d=\"M-12.26,38.95 L12.26,-38.95 \" class=\"primitive\"/>\n",
       "  </g>\n",
       "  <g transform=\"translate(82.52,54.13)\">\n",
       "    <path fill=\"none\" d=\"M-23.25,35.02 L23.25,-35.02 \" class=\"primitive\"/>\n",
       "  </g>\n",
       "  <g transform=\"translate(90.7,61.56)\">\n",
       "    <path fill=\"none\" d=\"M-30.68,27.91 L30.68,-27.91 \" class=\"primitive\"/>\n",
       "  </g>\n",
       "  <g transform=\"translate(45.78,45.87)\">\n",
       "    <path fill=\"none\" d=\"M-10.96,34.82 L10.96,-34.82 \" class=\"primitive\"/>\n",
       "  </g>\n",
       "  <g transform=\"translate(58.9,45.87)\">\n",
       "    <path fill=\"none\" d=\"M-23.25,35.02 L23.25,-35.02 \" class=\"primitive\"/>\n",
       "  </g>\n",
       "  <g transform=\"translate(70.71,50)\">\n",
       "    <path fill=\"none\" d=\"M-34.32,31.22 L34.32,-31.22 \" class=\"primitive\"/>\n",
       "  </g>\n",
       "  <g transform=\"translate(78.89,57.44)\">\n",
       "    <path fill=\"none\" d=\"M-41.87,24.22 L41.87,-24.22 \" class=\"primitive\"/>\n",
       "  </g>\n",
       "  <g transform=\"translate(37.61,38.44)\">\n",
       "    <path fill=\"none\" d=\"M-18.32,27.58 L18.32,-27.58 \" class=\"primitive\"/>\n",
       "  </g>\n",
       "  <g transform=\"translate(50.72,38.44)\">\n",
       "    <path fill=\"none\" d=\"M-30.68,27.91 L30.68,-27.91 \" class=\"primitive\"/>\n",
       "  </g>\n",
       "  <g transform=\"translate(62.54,42.56)\">\n",
       "    <path fill=\"none\" d=\"M-41.87,24.22 L41.87,-24.22 \" class=\"primitive\"/>\n",
       "  </g>\n",
       "  <g transform=\"translate(70.71,50)\">\n",
       "    <path fill=\"none\" d=\"M-49.56,17.31 L49.56,-17.31 \" class=\"primitive\"/>\n",
       "  </g>\n",
       "  <g transform=\"translate(22.88,33.29)\">\n",
       "    <path fill=\"none\" d=\"M-9.42,14.19 L9.42,-14.19 \" class=\"primitive\"/>\n",
       "  </g>\n",
       "  <g transform=\"translate(34.69,29.17)\">\n",
       "    <path fill=\"none\" d=\"M-20.49,18.64 L20.49,-18.64 \" class=\"primitive\"/>\n",
       "  </g>\n",
       "  <g transform=\"translate(47.8,29.17)\">\n",
       "    <path fill=\"none\" d=\"M-32.97,19.07 L32.97,-19.07 \" class=\"primitive\"/>\n",
       "  </g>\n",
       "  <g transform=\"translate(59.62,33.29)\">\n",
       "    <path fill=\"none\" d=\"M-44.3,15.47 L44.3,-15.47 \" class=\"primitive\"/>\n",
       "  </g>\n",
       "  <g transform=\"translate(67.79,40.73)\">\n",
       "    <path fill=\"none\" d=\"M-52.17,8.64 L52.17,-8.64 \" class=\"primitive\"/>\n",
       "  </g>\n",
       "  <g transform=\"translate(25.8,24.02)\">\n",
       "    <path fill=\"none\" d=\"M-5.76,5.24 L5.76,-5.24 \" class=\"primitive\"/>\n",
       "  </g>\n",
       "  <g transform=\"translate(37.61,19.89)\">\n",
       "    <path fill=\"none\" d=\"M-16.94,9.8 L16.94,-9.8 \" class=\"primitive\"/>\n",
       "  </g>\n",
       "  <g transform=\"translate(50.72,19.89)\">\n",
       "    <path fill=\"none\" d=\"M-29.57,10.33 L29.57,-10.33 \" class=\"primitive\"/>\n",
       "  </g>\n",
       "  <g transform=\"translate(62.54,24.02)\">\n",
       "    <path fill=\"none\" d=\"M-41.08,6.8 L41.08,-6.8 \" class=\"primitive\"/>\n",
       "  </g>\n",
       "  <g transform=\"translate(70.71,31.46)\">\n",
       "    <path fill=\"none\" d=\"M-49.15,0 L49.15,-0 \" class=\"primitive\"/>\n",
       "  </g>\n",
       "</g>\n",
       "<g stroke-width=\"0.8\" stroke=\"#D3D3D3\" id=\"img-06122a56-2\">\n",
       "</g>\n",
       "<g font-size=\"4\" stroke=\"#000000\" stroke-opacity=\"0.000\" fill=\"#000000\" id=\"img-06122a56-3\">\n",
       "</g>\n",
       "<g stroke-width=\"0\" stroke=\"#000000\" stroke-opacity=\"0.000\" id=\"img-06122a56-4\">\n",
       "  <g transform=\"translate(129.64,50)\" fill=\"#20B2AA\">\n",
       "    <circle cx=\"0\" cy=\"0\" r=\"3.78\" class=\"primitive\"/>\n",
       "  </g>\n",
       "  <g transform=\"translate(123.8,68.54)\" fill=\"#20B2AA\">\n",
       "    <circle cx=\"0\" cy=\"0\" r=\"3.78\" class=\"primitive\"/>\n",
       "  </g>\n",
       "  <g transform=\"translate(107.45,83.41)\" fill=\"#20B2AA\">\n",
       "    <circle cx=\"0\" cy=\"0\" r=\"3.78\" class=\"primitive\"/>\n",
       "  </g>\n",
       "  <g transform=\"translate(83.82,91.67)\" fill=\"#20B2AA\">\n",
       "    <circle cx=\"0\" cy=\"0\" r=\"3.78\" class=\"primitive\"/>\n",
       "  </g>\n",
       "  <g transform=\"translate(57.6,91.67)\" fill=\"#20B2AA\">\n",
       "    <circle cx=\"0\" cy=\"0\" r=\"3.78\" class=\"primitive\"/>\n",
       "  </g>\n",
       "  <g transform=\"translate(33.97,83.41)\" fill=\"#20B2AA\">\n",
       "    <circle cx=\"0\" cy=\"0\" r=\"3.78\" class=\"primitive\"/>\n",
       "  </g>\n",
       "  <g transform=\"translate(17.62,68.54)\" fill=\"#20B2AA\">\n",
       "    <circle cx=\"0\" cy=\"0\" r=\"3.78\" class=\"primitive\"/>\n",
       "  </g>\n",
       "  <g transform=\"translate(11.79,50)\" fill=\"#20B2AA\">\n",
       "    <circle cx=\"0\" cy=\"0\" r=\"3.78\" class=\"primitive\"/>\n",
       "  </g>\n",
       "  <g transform=\"translate(17.62,31.46)\" fill=\"#20B2AA\">\n",
       "    <circle cx=\"0\" cy=\"0\" r=\"3.78\" class=\"primitive\"/>\n",
       "  </g>\n",
       "  <g transform=\"translate(33.97,16.59)\" fill=\"#FFA500\">\n",
       "    <circle cx=\"0\" cy=\"0\" r=\"3.78\" class=\"primitive\"/>\n",
       "  </g>\n",
       "  <g transform=\"translate(57.6,8.33)\" fill=\"#FFA500\">\n",
       "    <circle cx=\"0\" cy=\"0\" r=\"3.78\" class=\"primitive\"/>\n",
       "  </g>\n",
       "  <g transform=\"translate(83.82,8.33)\" fill=\"#FFA500\">\n",
       "    <circle cx=\"0\" cy=\"0\" r=\"3.78\" class=\"primitive\"/>\n",
       "  </g>\n",
       "  <g transform=\"translate(107.45,16.59)\" fill=\"#FFA500\">\n",
       "    <circle cx=\"0\" cy=\"0\" r=\"3.78\" class=\"primitive\"/>\n",
       "  </g>\n",
       "  <g transform=\"translate(123.8,31.46)\" fill=\"#FFA500\">\n",
       "    <circle cx=\"0\" cy=\"0\" r=\"3.78\" class=\"primitive\"/>\n",
       "  </g>\n",
       "</g>\n",
       "<g font-size=\"4\" stroke=\"#000000\" stroke-opacity=\"0.000\" fill=\"#000000\" id=\"img-06122a56-5\">\n",
       "  <g transform=\"translate(129.64,50)\">\n",
       "    <g class=\"primitive\">\n",
       "      <text text-anchor=\"middle\" dy=\"0.35em\">1</text>\n",
       "    </g>\n",
       "  </g>\n",
       "  <g transform=\"translate(123.8,68.54)\">\n",
       "    <g class=\"primitive\">\n",
       "      <text text-anchor=\"middle\" dy=\"0.35em\">2</text>\n",
       "    </g>\n",
       "  </g>\n",
       "  <g transform=\"translate(107.45,83.41)\">\n",
       "    <g class=\"primitive\">\n",
       "      <text text-anchor=\"middle\" dy=\"0.35em\">3</text>\n",
       "    </g>\n",
       "  </g>\n",
       "  <g transform=\"translate(83.82,91.67)\">\n",
       "    <g class=\"primitive\">\n",
       "      <text text-anchor=\"middle\" dy=\"0.35em\">4</text>\n",
       "    </g>\n",
       "  </g>\n",
       "  <g transform=\"translate(57.6,91.67)\">\n",
       "    <g class=\"primitive\">\n",
       "      <text text-anchor=\"middle\" dy=\"0.35em\">5</text>\n",
       "    </g>\n",
       "  </g>\n",
       "  <g transform=\"translate(33.97,83.41)\">\n",
       "    <g class=\"primitive\">\n",
       "      <text text-anchor=\"middle\" dy=\"0.35em\">6</text>\n",
       "    </g>\n",
       "  </g>\n",
       "  <g transform=\"translate(17.62,68.54)\">\n",
       "    <g class=\"primitive\">\n",
       "      <text text-anchor=\"middle\" dy=\"0.35em\">7</text>\n",
       "    </g>\n",
       "  </g>\n",
       "  <g transform=\"translate(11.79,50)\">\n",
       "    <g class=\"primitive\">\n",
       "      <text text-anchor=\"middle\" dy=\"0.35em\">8</text>\n",
       "    </g>\n",
       "  </g>\n",
       "  <g transform=\"translate(17.62,31.46)\">\n",
       "    <g class=\"primitive\">\n",
       "      <text text-anchor=\"middle\" dy=\"0.35em\">9</text>\n",
       "    </g>\n",
       "  </g>\n",
       "  <g transform=\"translate(33.97,16.59)\">\n",
       "    <g class=\"primitive\">\n",
       "      <text text-anchor=\"middle\" dy=\"0.35em\">1</text>\n",
       "    </g>\n",
       "  </g>\n",
       "  <g transform=\"translate(57.6,8.33)\">\n",
       "    <g class=\"primitive\">\n",
       "      <text text-anchor=\"middle\" dy=\"0.35em\">2</text>\n",
       "    </g>\n",
       "  </g>\n",
       "  <g transform=\"translate(83.82,8.33)\">\n",
       "    <g class=\"primitive\">\n",
       "      <text text-anchor=\"middle\" dy=\"0.35em\">3</text>\n",
       "    </g>\n",
       "  </g>\n",
       "  <g transform=\"translate(107.45,16.59)\">\n",
       "    <g class=\"primitive\">\n",
       "      <text text-anchor=\"middle\" dy=\"0.35em\">4</text>\n",
       "    </g>\n",
       "  </g>\n",
       "  <g transform=\"translate(123.8,31.46)\">\n",
       "    <g class=\"primitive\">\n",
       "      <text text-anchor=\"middle\" dy=\"0.35em\">5</text>\n",
       "    </g>\n",
       "  </g>\n",
       "</g>\n",
       "<script> <![CDATA[\n",
       "(function(N){var k=/[\\.\\/]/,L=/\\s*,\\s*/,C=function(a,d){return a-d},a,v,y={n:{}},M=function(){for(var a=0,d=this.length;a<d;a++)if(\"undefined\"!=typeof this[a])return this[a]},A=function(){for(var a=this.length;--a;)if(\"undefined\"!=typeof this[a])return this[a]},w=function(k,d){k=String(k);var f=v,n=Array.prototype.slice.call(arguments,2),u=w.listeners(k),p=0,b,q=[],e={},l=[],r=a;l.firstDefined=M;l.lastDefined=A;a=k;for(var s=v=0,x=u.length;s<x;s++)\"zIndex\"in u[s]&&(q.push(u[s].zIndex),0>u[s].zIndex&&\n",
       "(e[u[s].zIndex]=u[s]));for(q.sort(C);0>q[p];)if(b=e[q[p++] ],l.push(b.apply(d,n)),v)return v=f,l;for(s=0;s<x;s++)if(b=u[s],\"zIndex\"in b)if(b.zIndex==q[p]){l.push(b.apply(d,n));if(v)break;do if(p++,(b=e[q[p] ])&&l.push(b.apply(d,n)),v)break;while(b)}else e[b.zIndex]=b;else if(l.push(b.apply(d,n)),v)break;v=f;a=r;return l};w._events=y;w.listeners=function(a){a=a.split(k);var d=y,f,n,u,p,b,q,e,l=[d],r=[];u=0;for(p=a.length;u<p;u++){e=[];b=0;for(q=l.length;b<q;b++)for(d=l[b].n,f=[d[a[u] ],d[\"*\"] ],n=2;n--;)if(d=\n",
       "f[n])e.push(d),r=r.concat(d.f||[]);l=e}return r};w.on=function(a,d){a=String(a);if(\"function\"!=typeof d)return function(){};for(var f=a.split(L),n=0,u=f.length;n<u;n++)(function(a){a=a.split(k);for(var b=y,f,e=0,l=a.length;e<l;e++)b=b.n,b=b.hasOwnProperty(a[e])&&b[a[e] ]||(b[a[e] ]={n:{}});b.f=b.f||[];e=0;for(l=b.f.length;e<l;e++)if(b.f[e]==d){f=!0;break}!f&&b.f.push(d)})(f[n]);return function(a){+a==+a&&(d.zIndex=+a)}};w.f=function(a){var d=[].slice.call(arguments,1);return function(){w.apply(null,\n",
       "[a,null].concat(d).concat([].slice.call(arguments,0)))}};w.stop=function(){v=1};w.nt=function(k){return k?(new RegExp(\"(?:\\\\.|\\\\/|^)\"+k+\"(?:\\\\.|\\\\/|$)\")).test(a):a};w.nts=function(){return a.split(k)};w.off=w.unbind=function(a,d){if(a){var f=a.split(L);if(1<f.length)for(var n=0,u=f.length;n<u;n++)w.off(f[n],d);else{for(var f=a.split(k),p,b,q,e,l=[y],n=0,u=f.length;n<u;n++)for(e=0;e<l.length;e+=q.length-2){q=[e,1];p=l[e].n;if(\"*\"!=f[n])p[f[n] ]&&q.push(p[f[n] ]);else for(b in p)p.hasOwnProperty(b)&&\n",
       "q.push(p[b]);l.splice.apply(l,q)}n=0;for(u=l.length;n<u;n++)for(p=l[n];p.n;){if(d){if(p.f){e=0;for(f=p.f.length;e<f;e++)if(p.f[e]==d){p.f.splice(e,1);break}!p.f.length&&delete p.f}for(b in p.n)if(p.n.hasOwnProperty(b)&&p.n[b].f){q=p.n[b].f;e=0;for(f=q.length;e<f;e++)if(q[e]==d){q.splice(e,1);break}!q.length&&delete p.n[b].f}}else for(b in delete p.f,p.n)p.n.hasOwnProperty(b)&&p.n[b].f&&delete p.n[b].f;p=p.n}}}else w._events=y={n:{}}};w.once=function(a,d){var f=function(){w.unbind(a,f);return d.apply(this,\n",
       "arguments)};return w.on(a,f)};w.version=\"0.4.2\";w.toString=function(){return\"You are running Eve 0.4.2\"};\"undefined\"!=typeof module&&module.exports?module.exports=w:\"function\"===typeof define&&define.amd?define(\"eve\",[],function(){return w}):N.eve=w})(this);\n",
       "(function(N,k){\"function\"===typeof define&&define.amd?define(\"Snap.svg\",[\"eve\"],function(L){return k(N,L)}):k(N,N.eve)})(this,function(N,k){var L=function(a){var k={},y=N.requestAnimationFrame||N.webkitRequestAnimationFrame||N.mozRequestAnimationFrame||N.oRequestAnimationFrame||N.msRequestAnimationFrame||function(a){setTimeout(a,16)},M=Array.isArray||function(a){return a instanceof Array||\"[object Array]\"==Object.prototype.toString.call(a)},A=0,w=\"M\"+(+new Date).toString(36),z=function(a){if(null==\n",
       "a)return this.s;var b=this.s-a;this.b+=this.dur*b;this.B+=this.dur*b;this.s=a},d=function(a){if(null==a)return this.spd;this.spd=a},f=function(a){if(null==a)return this.dur;this.s=this.s*a/this.dur;this.dur=a},n=function(){delete k[this.id];this.update();a(\"mina.stop.\"+this.id,this)},u=function(){this.pdif||(delete k[this.id],this.update(),this.pdif=this.get()-this.b)},p=function(){this.pdif&&(this.b=this.get()-this.pdif,delete this.pdif,k[this.id]=this)},b=function(){var a;if(M(this.start)){a=[];\n",
       "for(var b=0,e=this.start.length;b<e;b++)a[b]=+this.start[b]+(this.end[b]-this.start[b])*this.easing(this.s)}else a=+this.start+(this.end-this.start)*this.easing(this.s);this.set(a)},q=function(){var l=0,b;for(b in k)if(k.hasOwnProperty(b)){var e=k[b],f=e.get();l++;e.s=(f-e.b)/(e.dur/e.spd);1<=e.s&&(delete k[b],e.s=1,l--,function(b){setTimeout(function(){a(\"mina.finish.\"+b.id,b)})}(e));e.update()}l&&y(q)},e=function(a,r,s,x,G,h,J){a={id:w+(A++).toString(36),start:a,end:r,b:s,s:0,dur:x-s,spd:1,get:G,\n",
       "set:h,easing:J||e.linear,status:z,speed:d,duration:f,stop:n,pause:u,resume:p,update:b};k[a.id]=a;r=0;for(var K in k)if(k.hasOwnProperty(K)&&(r++,2==r))break;1==r&&y(q);return a};e.time=Date.now||function(){return+new Date};e.getById=function(a){return k[a]||null};e.linear=function(a){return a};e.easeout=function(a){return Math.pow(a,1.7)};e.easein=function(a){return Math.pow(a,0.48)};e.easeinout=function(a){if(1==a)return 1;if(0==a)return 0;var b=0.48-a/1.04,e=Math.sqrt(0.1734+b*b);a=e-b;a=Math.pow(Math.abs(a),\n",
       "1/3)*(0>a?-1:1);b=-e-b;b=Math.pow(Math.abs(b),1/3)*(0>b?-1:1);a=a+b+0.5;return 3*(1-a)*a*a+a*a*a};e.backin=function(a){return 1==a?1:a*a*(2.70158*a-1.70158)};e.backout=function(a){if(0==a)return 0;a-=1;return a*a*(2.70158*a+1.70158)+1};e.elastic=function(a){return a==!!a?a:Math.pow(2,-10*a)*Math.sin(2*(a-0.075)*Math.PI/0.3)+1};e.bounce=function(a){a<1/2.75?a*=7.5625*a:a<2/2.75?(a-=1.5/2.75,a=7.5625*a*a+0.75):a<2.5/2.75?(a-=2.25/2.75,a=7.5625*a*a+0.9375):(a-=2.625/2.75,a=7.5625*a*a+0.984375);return a};\n",
       "return N.mina=e}(\"undefined\"==typeof k?function(){}:k),C=function(){function a(c,t){if(c){if(c.tagName)return x(c);if(y(c,\"array\")&&a.set)return a.set.apply(a,c);if(c instanceof e)return c;if(null==t)return c=G.doc.querySelector(c),x(c)}return new s(null==c?\"100%\":c,null==t?\"100%\":t)}function v(c,a){if(a){\"#text\"==c&&(c=G.doc.createTextNode(a.text||\"\"));\"string\"==typeof c&&(c=v(c));if(\"string\"==typeof a)return\"xlink:\"==a.substring(0,6)?c.getAttributeNS(m,a.substring(6)):\"xml:\"==a.substring(0,4)?c.getAttributeNS(la,\n",
       "a.substring(4)):c.getAttribute(a);for(var da in a)if(a[h](da)){var b=J(a[da]);b?\"xlink:\"==da.substring(0,6)?c.setAttributeNS(m,da.substring(6),b):\"xml:\"==da.substring(0,4)?c.setAttributeNS(la,da.substring(4),b):c.setAttribute(da,b):c.removeAttribute(da)}}else c=G.doc.createElementNS(la,c);return c}function y(c,a){a=J.prototype.toLowerCase.call(a);return\"finite\"==a?isFinite(c):\"array\"==a&&(c instanceof Array||Array.isArray&&Array.isArray(c))?!0:\"null\"==a&&null===c||a==typeof c&&null!==c||\"object\"==\n",
       "a&&c===Object(c)||$.call(c).slice(8,-1).toLowerCase()==a}function M(c){if(\"function\"==typeof c||Object(c)!==c)return c;var a=new c.constructor,b;for(b in c)c[h](b)&&(a[b]=M(c[b]));return a}function A(c,a,b){function m(){var e=Array.prototype.slice.call(arguments,0),f=e.join(\"\\u2400\"),d=m.cache=m.cache||{},l=m.count=m.count||[];if(d[h](f)){a:for(var e=l,l=f,B=0,H=e.length;B<H;B++)if(e[B]===l){e.push(e.splice(B,1)[0]);break a}return b?b(d[f]):d[f]}1E3<=l.length&&delete d[l.shift()];l.push(f);d[f]=c.apply(a,\n",
       "e);return b?b(d[f]):d[f]}return m}function w(c,a,b,m,e,f){return null==e?(c-=b,a-=m,c||a?(180*I.atan2(-a,-c)/C+540)%360:0):w(c,a,e,f)-w(b,m,e,f)}function z(c){return c%360*C/180}function d(c){var a=[];c=c.replace(/(?:^|\\s)(\\w+)\\(([^)]+)\\)/g,function(c,b,m){m=m.split(/\\s*,\\s*|\\s+/);\"rotate\"==b&&1==m.length&&m.push(0,0);\"scale\"==b&&(2<m.length?m=m.slice(0,2):2==m.length&&m.push(0,0),1==m.length&&m.push(m[0],0,0));\"skewX\"==b?a.push([\"m\",1,0,I.tan(z(m[0])),1,0,0]):\"skewY\"==b?a.push([\"m\",1,I.tan(z(m[0])),\n",
       "0,1,0,0]):a.push([b.charAt(0)].concat(m));return c});return a}function f(c,t){var b=O(c),m=new a.Matrix;if(b)for(var e=0,f=b.length;e<f;e++){var h=b[e],d=h.length,B=J(h[0]).toLowerCase(),H=h[0]!=B,l=H?m.invert():0,E;\"t\"==B&&2==d?m.translate(h[1],0):\"t\"==B&&3==d?H?(d=l.x(0,0),B=l.y(0,0),H=l.x(h[1],h[2]),l=l.y(h[1],h[2]),m.translate(H-d,l-B)):m.translate(h[1],h[2]):\"r\"==B?2==d?(E=E||t,m.rotate(h[1],E.x+E.width/2,E.y+E.height/2)):4==d&&(H?(H=l.x(h[2],h[3]),l=l.y(h[2],h[3]),m.rotate(h[1],H,l)):m.rotate(h[1],\n",
       "h[2],h[3])):\"s\"==B?2==d||3==d?(E=E||t,m.scale(h[1],h[d-1],E.x+E.width/2,E.y+E.height/2)):4==d?H?(H=l.x(h[2],h[3]),l=l.y(h[2],h[3]),m.scale(h[1],h[1],H,l)):m.scale(h[1],h[1],h[2],h[3]):5==d&&(H?(H=l.x(h[3],h[4]),l=l.y(h[3],h[4]),m.scale(h[1],h[2],H,l)):m.scale(h[1],h[2],h[3],h[4])):\"m\"==B&&7==d&&m.add(h[1],h[2],h[3],h[4],h[5],h[6])}return m}function n(c,t){if(null==t){var m=!0;t=\"linearGradient\"==c.type||\"radialGradient\"==c.type?c.node.getAttribute(\"gradientTransform\"):\"pattern\"==c.type?c.node.getAttribute(\"patternTransform\"):\n",
       "c.node.getAttribute(\"transform\");if(!t)return new a.Matrix;t=d(t)}else t=a._.rgTransform.test(t)?J(t).replace(/\\.{3}|\\u2026/g,c._.transform||aa):d(t),y(t,\"array\")&&(t=a.path?a.path.toString.call(t):J(t)),c._.transform=t;var b=f(t,c.getBBox(1));if(m)return b;c.matrix=b}function u(c){c=c.node.ownerSVGElement&&x(c.node.ownerSVGElement)||c.node.parentNode&&x(c.node.parentNode)||a.select(\"svg\")||a(0,0);var t=c.select(\"defs\"),t=null==t?!1:t.node;t||(t=r(\"defs\",c.node).node);return t}function p(c){return c.node.ownerSVGElement&&\n",
       "x(c.node.ownerSVGElement)||a.select(\"svg\")}function b(c,a,m){function b(c){if(null==c)return aa;if(c==+c)return c;v(B,{width:c});try{return B.getBBox().width}catch(a){return 0}}function h(c){if(null==c)return aa;if(c==+c)return c;v(B,{height:c});try{return B.getBBox().height}catch(a){return 0}}function e(b,B){null==a?d[b]=B(c.attr(b)||0):b==a&&(d=B(null==m?c.attr(b)||0:m))}var f=p(c).node,d={},B=f.querySelector(\".svg---mgr\");B||(B=v(\"rect\"),v(B,{x:-9E9,y:-9E9,width:10,height:10,\"class\":\"svg---mgr\",\n",
       "fill:\"none\"}),f.appendChild(B));switch(c.type){case \"rect\":e(\"rx\",b),e(\"ry\",h);case \"image\":e(\"width\",b),e(\"height\",h);case \"text\":e(\"x\",b);e(\"y\",h);break;case \"circle\":e(\"cx\",b);e(\"cy\",h);e(\"r\",b);break;case \"ellipse\":e(\"cx\",b);e(\"cy\",h);e(\"rx\",b);e(\"ry\",h);break;case \"line\":e(\"x1\",b);e(\"x2\",b);e(\"y1\",h);e(\"y2\",h);break;case \"marker\":e(\"refX\",b);e(\"markerWidth\",b);e(\"refY\",h);e(\"markerHeight\",h);break;case \"radialGradient\":e(\"fx\",b);e(\"fy\",h);break;case \"tspan\":e(\"dx\",b);e(\"dy\",h);break;default:e(a,\n",
       "b)}f.removeChild(B);return d}function q(c){y(c,\"array\")||(c=Array.prototype.slice.call(arguments,0));for(var a=0,b=0,m=this.node;this[a];)delete this[a++];for(a=0;a<c.length;a++)\"set\"==c[a].type?c[a].forEach(function(c){m.appendChild(c.node)}):m.appendChild(c[a].node);for(var h=m.childNodes,a=0;a<h.length;a++)this[b++]=x(h[a]);return this}function e(c){if(c.snap in E)return E[c.snap];var a=this.id=V(),b;try{b=c.ownerSVGElement}catch(m){}this.node=c;b&&(this.paper=new s(b));this.type=c.tagName;this.anims=\n",
       "{};this._={transform:[]};c.snap=a;E[a]=this;\"g\"==this.type&&(this.add=q);if(this.type in{g:1,mask:1,pattern:1})for(var e in s.prototype)s.prototype[h](e)&&(this[e]=s.prototype[e])}function l(c){this.node=c}function r(c,a){var b=v(c);a.appendChild(b);return x(b)}function s(c,a){var b,m,f,d=s.prototype;if(c&&\"svg\"==c.tagName){if(c.snap in E)return E[c.snap];var l=c.ownerDocument;b=new e(c);m=c.getElementsByTagName(\"desc\")[0];f=c.getElementsByTagName(\"defs\")[0];m||(m=v(\"desc\"),m.appendChild(l.createTextNode(\"Created with Snap\")),\n",
       "b.node.appendChild(m));f||(f=v(\"defs\"),b.node.appendChild(f));b.defs=f;for(var ca in d)d[h](ca)&&(b[ca]=d[ca]);b.paper=b.root=b}else b=r(\"svg\",G.doc.body),v(b.node,{height:a,version:1.1,width:c,xmlns:la});return b}function x(c){return!c||c instanceof e||c instanceof l?c:c.tagName&&\"svg\"==c.tagName.toLowerCase()?new s(c):c.tagName&&\"object\"==c.tagName.toLowerCase()&&\"image/svg+xml\"==c.type?new s(c.contentDocument.getElementsByTagName(\"svg\")[0]):new e(c)}a.version=\"0.3.0\";a.toString=function(){return\"Snap v\"+\n",
       "this.version};a._={};var G={win:N,doc:N.document};a._.glob=G;var h=\"hasOwnProperty\",J=String,K=parseFloat,U=parseInt,I=Math,P=I.max,Q=I.min,Y=I.abs,C=I.PI,aa=\"\",$=Object.prototype.toString,F=/^\\s*((#[a-f\\d]{6})|(#[a-f\\d]{3})|rgba?\\(\\s*([\\d\\.]+%?\\s*,\\s*[\\d\\.]+%?\\s*,\\s*[\\d\\.]+%?(?:\\s*,\\s*[\\d\\.]+%?)?)\\s*\\)|hsba?\\(\\s*([\\d\\.]+(?:deg|\\xb0|%)?\\s*,\\s*[\\d\\.]+%?\\s*,\\s*[\\d\\.]+(?:%?\\s*,\\s*[\\d\\.]+)?%?)\\s*\\)|hsla?\\(\\s*([\\d\\.]+(?:deg|\\xb0|%)?\\s*,\\s*[\\d\\.]+%?\\s*,\\s*[\\d\\.]+(?:%?\\s*,\\s*[\\d\\.]+)?%?)\\s*\\))\\s*$/i;a._.separator=\n",
       "RegExp(\"[,\\t\\n\\x0B\\f\\r \\u00a0\\u1680\\u180e\\u2000\\u2001\\u2002\\u2003\\u2004\\u2005\\u2006\\u2007\\u2008\\u2009\\u200a\\u202f\\u205f\\u3000\\u2028\\u2029]+\");var S=RegExp(\"[\\t\\n\\x0B\\f\\r \\u00a0\\u1680\\u180e\\u2000\\u2001\\u2002\\u2003\\u2004\\u2005\\u2006\\u2007\\u2008\\u2009\\u200a\\u202f\\u205f\\u3000\\u2028\\u2029]*,[\\t\\n\\x0B\\f\\r \\u00a0\\u1680\\u180e\\u2000\\u2001\\u2002\\u2003\\u2004\\u2005\\u2006\\u2007\\u2008\\u2009\\u200a\\u202f\\u205f\\u3000\\u2028\\u2029]*\"),X={hs:1,rg:1},W=RegExp(\"([a-z])[\\t\\n\\x0B\\f\\r \\u00a0\\u1680\\u180e\\u2000\\u2001\\u2002\\u2003\\u2004\\u2005\\u2006\\u2007\\u2008\\u2009\\u200a\\u202f\\u205f\\u3000\\u2028\\u2029,]*((-?\\\\d*\\\\.?\\\\d*(?:e[\\\\-+]?\\\\d+)?[\\t\\n\\x0B\\f\\r \\u00a0\\u1680\\u180e\\u2000\\u2001\\u2002\\u2003\\u2004\\u2005\\u2006\\u2007\\u2008\\u2009\\u200a\\u202f\\u205f\\u3000\\u2028\\u2029]*,?[\\t\\n\\x0B\\f\\r \\u00a0\\u1680\\u180e\\u2000\\u2001\\u2002\\u2003\\u2004\\u2005\\u2006\\u2007\\u2008\\u2009\\u200a\\u202f\\u205f\\u3000\\u2028\\u2029]*)+)\",\n",
       "\"ig\"),ma=RegExp(\"([rstm])[\\t\\n\\x0B\\f\\r \\u00a0\\u1680\\u180e\\u2000\\u2001\\u2002\\u2003\\u2004\\u2005\\u2006\\u2007\\u2008\\u2009\\u200a\\u202f\\u205f\\u3000\\u2028\\u2029,]*((-?\\\\d*\\\\.?\\\\d*(?:e[\\\\-+]?\\\\d+)?[\\t\\n\\x0B\\f\\r \\u00a0\\u1680\\u180e\\u2000\\u2001\\u2002\\u2003\\u2004\\u2005\\u2006\\u2007\\u2008\\u2009\\u200a\\u202f\\u205f\\u3000\\u2028\\u2029]*,?[\\t\\n\\x0B\\f\\r \\u00a0\\u1680\\u180e\\u2000\\u2001\\u2002\\u2003\\u2004\\u2005\\u2006\\u2007\\u2008\\u2009\\u200a\\u202f\\u205f\\u3000\\u2028\\u2029]*)+)\",\"ig\"),Z=RegExp(\"(-?\\\\d*\\\\.?\\\\d*(?:e[\\\\-+]?\\\\d+)?)[\\t\\n\\x0B\\f\\r \\u00a0\\u1680\\u180e\\u2000\\u2001\\u2002\\u2003\\u2004\\u2005\\u2006\\u2007\\u2008\\u2009\\u200a\\u202f\\u205f\\u3000\\u2028\\u2029]*,?[\\t\\n\\x0B\\f\\r \\u00a0\\u1680\\u180e\\u2000\\u2001\\u2002\\u2003\\u2004\\u2005\\u2006\\u2007\\u2008\\u2009\\u200a\\u202f\\u205f\\u3000\\u2028\\u2029]*\",\n",
       "\"ig\"),na=0,ba=\"S\"+(+new Date).toString(36),V=function(){return ba+(na++).toString(36)},m=\"http://www.w3.org/1999/xlink\",la=\"http://www.w3.org/2000/svg\",E={},ca=a.url=function(c){return\"url('#\"+c+\"')\"};a._.$=v;a._.id=V;a.format=function(){var c=/\\{([^\\}]+)\\}/g,a=/(?:(?:^|\\.)(.+?)(?=\\[|\\.|$|\\()|\\[('|\")(.+?)\\2\\])(\\(\\))?/g,b=function(c,b,m){var h=m;b.replace(a,function(c,a,b,m,t){a=a||m;h&&(a in h&&(h=h[a]),\"function\"==typeof h&&t&&(h=h()))});return h=(null==h||h==m?c:h)+\"\"};return function(a,m){return J(a).replace(c,\n",
       "function(c,a){return b(c,a,m)})}}();a._.clone=M;a._.cacher=A;a.rad=z;a.deg=function(c){return 180*c/C%360};a.angle=w;a.is=y;a.snapTo=function(c,a,b){b=y(b,\"finite\")?b:10;if(y(c,\"array\"))for(var m=c.length;m--;){if(Y(c[m]-a)<=b)return c[m]}else{c=+c;m=a%c;if(m<b)return a-m;if(m>c-b)return a-m+c}return a};a.getRGB=A(function(c){if(!c||(c=J(c)).indexOf(\"-\")+1)return{r:-1,g:-1,b:-1,hex:\"none\",error:1,toString:ka};if(\"none\"==c)return{r:-1,g:-1,b:-1,hex:\"none\",toString:ka};!X[h](c.toLowerCase().substring(0,\n",
       "2))&&\"#\"!=c.charAt()&&(c=T(c));if(!c)return{r:-1,g:-1,b:-1,hex:\"none\",error:1,toString:ka};var b,m,e,f,d;if(c=c.match(F)){c[2]&&(e=U(c[2].substring(5),16),m=U(c[2].substring(3,5),16),b=U(c[2].substring(1,3),16));c[3]&&(e=U((d=c[3].charAt(3))+d,16),m=U((d=c[3].charAt(2))+d,16),b=U((d=c[3].charAt(1))+d,16));c[4]&&(d=c[4].split(S),b=K(d[0]),\"%\"==d[0].slice(-1)&&(b*=2.55),m=K(d[1]),\"%\"==d[1].slice(-1)&&(m*=2.55),e=K(d[2]),\"%\"==d[2].slice(-1)&&(e*=2.55),\"rgba\"==c[1].toLowerCase().slice(0,4)&&(f=K(d[3])),\n",
       "d[3]&&\"%\"==d[3].slice(-1)&&(f/=100));if(c[5])return d=c[5].split(S),b=K(d[0]),\"%\"==d[0].slice(-1)&&(b/=100),m=K(d[1]),\"%\"==d[1].slice(-1)&&(m/=100),e=K(d[2]),\"%\"==d[2].slice(-1)&&(e/=100),\"deg\"!=d[0].slice(-3)&&\"\\u00b0\"!=d[0].slice(-1)||(b/=360),\"hsba\"==c[1].toLowerCase().slice(0,4)&&(f=K(d[3])),d[3]&&\"%\"==d[3].slice(-1)&&(f/=100),a.hsb2rgb(b,m,e,f);if(c[6])return d=c[6].split(S),b=K(d[0]),\"%\"==d[0].slice(-1)&&(b/=100),m=K(d[1]),\"%\"==d[1].slice(-1)&&(m/=100),e=K(d[2]),\"%\"==d[2].slice(-1)&&(e/=100),\n",
       "\"deg\"!=d[0].slice(-3)&&\"\\u00b0\"!=d[0].slice(-1)||(b/=360),\"hsla\"==c[1].toLowerCase().slice(0,4)&&(f=K(d[3])),d[3]&&\"%\"==d[3].slice(-1)&&(f/=100),a.hsl2rgb(b,m,e,f);b=Q(I.round(b),255);m=Q(I.round(m),255);e=Q(I.round(e),255);f=Q(P(f,0),1);c={r:b,g:m,b:e,toString:ka};c.hex=\"#\"+(16777216|e|m<<8|b<<16).toString(16).slice(1);c.opacity=y(f,\"finite\")?f:1;return c}return{r:-1,g:-1,b:-1,hex:\"none\",error:1,toString:ka}},a);a.hsb=A(function(c,b,m){return a.hsb2rgb(c,b,m).hex});a.hsl=A(function(c,b,m){return a.hsl2rgb(c,\n",
       "b,m).hex});a.rgb=A(function(c,a,b,m){if(y(m,\"finite\")){var e=I.round;return\"rgba(\"+[e(c),e(a),e(b),+m.toFixed(2)]+\")\"}return\"#\"+(16777216|b|a<<8|c<<16).toString(16).slice(1)});var T=function(c){var a=G.doc.getElementsByTagName(\"head\")[0]||G.doc.getElementsByTagName(\"svg\")[0];T=A(function(c){if(\"red\"==c.toLowerCase())return\"rgb(255, 0, 0)\";a.style.color=\"rgb(255, 0, 0)\";a.style.color=c;c=G.doc.defaultView.getComputedStyle(a,aa).getPropertyValue(\"color\");return\"rgb(255, 0, 0)\"==c?null:c});return T(c)},\n",
       "qa=function(){return\"hsb(\"+[this.h,this.s,this.b]+\")\"},ra=function(){return\"hsl(\"+[this.h,this.s,this.l]+\")\"},ka=function(){return 1==this.opacity||null==this.opacity?this.hex:\"rgba(\"+[this.r,this.g,this.b,this.opacity]+\")\"},D=function(c,b,m){null==b&&y(c,\"object\")&&\"r\"in c&&\"g\"in c&&\"b\"in c&&(m=c.b,b=c.g,c=c.r);null==b&&y(c,string)&&(m=a.getRGB(c),c=m.r,b=m.g,m=m.b);if(1<c||1<b||1<m)c/=255,b/=255,m/=255;return[c,b,m]},oa=function(c,b,m,e){c=I.round(255*c);b=I.round(255*b);m=I.round(255*m);c={r:c,\n",
       "g:b,b:m,opacity:y(e,\"finite\")?e:1,hex:a.rgb(c,b,m),toString:ka};y(e,\"finite\")&&(c.opacity=e);return c};a.color=function(c){var b;y(c,\"object\")&&\"h\"in c&&\"s\"in c&&\"b\"in c?(b=a.hsb2rgb(c),c.r=b.r,c.g=b.g,c.b=b.b,c.opacity=1,c.hex=b.hex):y(c,\"object\")&&\"h\"in c&&\"s\"in c&&\"l\"in c?(b=a.hsl2rgb(c),c.r=b.r,c.g=b.g,c.b=b.b,c.opacity=1,c.hex=b.hex):(y(c,\"string\")&&(c=a.getRGB(c)),y(c,\"object\")&&\"r\"in c&&\"g\"in c&&\"b\"in c&&!(\"error\"in c)?(b=a.rgb2hsl(c),c.h=b.h,c.s=b.s,c.l=b.l,b=a.rgb2hsb(c),c.v=b.b):(c={hex:\"none\"},\n",
       "c.r=c.g=c.b=c.h=c.s=c.v=c.l=-1,c.error=1));c.toString=ka;return c};a.hsb2rgb=function(c,a,b,m){y(c,\"object\")&&\"h\"in c&&\"s\"in c&&\"b\"in c&&(b=c.b,a=c.s,c=c.h,m=c.o);var e,h,d;c=360*c%360/60;d=b*a;a=d*(1-Y(c%2-1));b=e=h=b-d;c=~~c;b+=[d,a,0,0,a,d][c];e+=[a,d,d,a,0,0][c];h+=[0,0,a,d,d,a][c];return oa(b,e,h,m)};a.hsl2rgb=function(c,a,b,m){y(c,\"object\")&&\"h\"in c&&\"s\"in c&&\"l\"in c&&(b=c.l,a=c.s,c=c.h);if(1<c||1<a||1<b)c/=360,a/=100,b/=100;var e,h,d;c=360*c%360/60;d=2*a*(0.5>b?b:1-b);a=d*(1-Y(c%2-1));b=e=\n",
       "h=b-d/2;c=~~c;b+=[d,a,0,0,a,d][c];e+=[a,d,d,a,0,0][c];h+=[0,0,a,d,d,a][c];return oa(b,e,h,m)};a.rgb2hsb=function(c,a,b){b=D(c,a,b);c=b[0];a=b[1];b=b[2];var m,e;m=P(c,a,b);e=m-Q(c,a,b);c=((0==e?0:m==c?(a-b)/e:m==a?(b-c)/e+2:(c-a)/e+4)+360)%6*60/360;return{h:c,s:0==e?0:e/m,b:m,toString:qa}};a.rgb2hsl=function(c,a,b){b=D(c,a,b);c=b[0];a=b[1];b=b[2];var m,e,h;m=P(c,a,b);e=Q(c,a,b);h=m-e;c=((0==h?0:m==c?(a-b)/h:m==a?(b-c)/h+2:(c-a)/h+4)+360)%6*60/360;m=(m+e)/2;return{h:c,s:0==h?0:0.5>m?h/(2*m):h/(2-2*\n",
       "m),l:m,toString:ra}};a.parsePathString=function(c){if(!c)return null;var b=a.path(c);if(b.arr)return a.path.clone(b.arr);var m={a:7,c:6,o:2,h:1,l:2,m:2,r:4,q:4,s:4,t:2,v:1,u:3,z:0},e=[];y(c,\"array\")&&y(c[0],\"array\")&&(e=a.path.clone(c));e.length||J(c).replace(W,function(c,a,b){var h=[];c=a.toLowerCase();b.replace(Z,function(c,a){a&&h.push(+a)});\"m\"==c&&2<h.length&&(e.push([a].concat(h.splice(0,2))),c=\"l\",a=\"m\"==a?\"l\":\"L\");\"o\"==c&&1==h.length&&e.push([a,h[0] ]);if(\"r\"==c)e.push([a].concat(h));else for(;h.length>=\n",
       "m[c]&&(e.push([a].concat(h.splice(0,m[c]))),m[c]););});e.toString=a.path.toString;b.arr=a.path.clone(e);return e};var O=a.parseTransformString=function(c){if(!c)return null;var b=[];y(c,\"array\")&&y(c[0],\"array\")&&(b=a.path.clone(c));b.length||J(c).replace(ma,function(c,a,m){var e=[];a.toLowerCase();m.replace(Z,function(c,a){a&&e.push(+a)});b.push([a].concat(e))});b.toString=a.path.toString;return b};a._.svgTransform2string=d;a._.rgTransform=RegExp(\"^[a-z][\\t\\n\\x0B\\f\\r \\u00a0\\u1680\\u180e\\u2000\\u2001\\u2002\\u2003\\u2004\\u2005\\u2006\\u2007\\u2008\\u2009\\u200a\\u202f\\u205f\\u3000\\u2028\\u2029]*-?\\\\.?\\\\d\",\n",
       "\"i\");a._.transform2matrix=f;a._unit2px=b;a._.getSomeDefs=u;a._.getSomeSVG=p;a.select=function(c){return x(G.doc.querySelector(c))};a.selectAll=function(c){c=G.doc.querySelectorAll(c);for(var b=(a.set||Array)(),m=0;m<c.length;m++)b.push(x(c[m]));return b};setInterval(function(){for(var c in E)if(E[h](c)){var a=E[c],b=a.node;(\"svg\"!=a.type&&!b.ownerSVGElement||\"svg\"==a.type&&(!b.parentNode||\"ownerSVGElement\"in b.parentNode&&!b.ownerSVGElement))&&delete E[c]}},1E4);(function(c){function m(c){function a(c,\n",
       "b){var m=v(c.node,b);(m=(m=m&&m.match(d))&&m[2])&&\"#\"==m.charAt()&&(m=m.substring(1))&&(f[m]=(f[m]||[]).concat(function(a){var m={};m[b]=ca(a);v(c.node,m)}))}function b(c){var a=v(c.node,\"xlink:href\");a&&\"#\"==a.charAt()&&(a=a.substring(1))&&(f[a]=(f[a]||[]).concat(function(a){c.attr(\"xlink:href\",\"#\"+a)}))}var e=c.selectAll(\"*\"),h,d=/^\\s*url\\((\"|'|)(.*)\\1\\)\\s*$/;c=[];for(var f={},l=0,E=e.length;l<E;l++){h=e[l];a(h,\"fill\");a(h,\"stroke\");a(h,\"filter\");a(h,\"mask\");a(h,\"clip-path\");b(h);var t=v(h.node,\n",
       "\"id\");t&&(v(h.node,{id:h.id}),c.push({old:t,id:h.id}))}l=0;for(E=c.length;l<E;l++)if(e=f[c[l].old])for(h=0,t=e.length;h<t;h++)e[h](c[l].id)}function e(c,a,b){return function(m){m=m.slice(c,a);1==m.length&&(m=m[0]);return b?b(m):m}}function d(c){return function(){var a=c?\"<\"+this.type:\"\",b=this.node.attributes,m=this.node.childNodes;if(c)for(var e=0,h=b.length;e<h;e++)a+=\" \"+b[e].name+'=\"'+b[e].value.replace(/\"/g,'\\\\\"')+'\"';if(m.length){c&&(a+=\">\");e=0;for(h=m.length;e<h;e++)3==m[e].nodeType?a+=m[e].nodeValue:\n",
       "1==m[e].nodeType&&(a+=x(m[e]).toString());c&&(a+=\"</\"+this.type+\">\")}else c&&(a+=\"/>\");return a}}c.attr=function(c,a){if(!c)return this;if(y(c,\"string\"))if(1<arguments.length){var b={};b[c]=a;c=b}else return k(\"snap.util.getattr.\"+c,this).firstDefined();for(var m in c)c[h](m)&&k(\"snap.util.attr.\"+m,this,c[m]);return this};c.getBBox=function(c){if(!a.Matrix||!a.path)return this.node.getBBox();var b=this,m=new a.Matrix;if(b.removed)return a._.box();for(;\"use\"==b.type;)if(c||(m=m.add(b.transform().localMatrix.translate(b.attr(\"x\")||\n",
       "0,b.attr(\"y\")||0))),b.original)b=b.original;else var e=b.attr(\"xlink:href\"),b=b.original=b.node.ownerDocument.getElementById(e.substring(e.indexOf(\"#\")+1));var e=b._,h=a.path.get[b.type]||a.path.get.deflt;try{if(c)return e.bboxwt=h?a.path.getBBox(b.realPath=h(b)):a._.box(b.node.getBBox()),a._.box(e.bboxwt);b.realPath=h(b);b.matrix=b.transform().localMatrix;e.bbox=a.path.getBBox(a.path.map(b.realPath,m.add(b.matrix)));return a._.box(e.bbox)}catch(d){return a._.box()}};var f=function(){return this.string};\n",
       "c.transform=function(c){var b=this._;if(null==c){var m=this;c=new a.Matrix(this.node.getCTM());for(var e=n(this),h=[e],d=new a.Matrix,l=e.toTransformString(),b=J(e)==J(this.matrix)?J(b.transform):l;\"svg\"!=m.type&&(m=m.parent());)h.push(n(m));for(m=h.length;m--;)d.add(h[m]);return{string:b,globalMatrix:c,totalMatrix:d,localMatrix:e,diffMatrix:c.clone().add(e.invert()),global:c.toTransformString(),total:d.toTransformString(),local:l,toString:f}}c instanceof a.Matrix?this.matrix=c:n(this,c);this.node&&\n",
       "(\"linearGradient\"==this.type||\"radialGradient\"==this.type?v(this.node,{gradientTransform:this.matrix}):\"pattern\"==this.type?v(this.node,{patternTransform:this.matrix}):v(this.node,{transform:this.matrix}));return this};c.parent=function(){return x(this.node.parentNode)};c.append=c.add=function(c){if(c){if(\"set\"==c.type){var a=this;c.forEach(function(c){a.add(c)});return this}c=x(c);this.node.appendChild(c.node);c.paper=this.paper}return this};c.appendTo=function(c){c&&(c=x(c),c.append(this));return this};\n",
       "c.prepend=function(c){if(c){if(\"set\"==c.type){var a=this,b;c.forEach(function(c){b?b.after(c):a.prepend(c);b=c});return this}c=x(c);var m=c.parent();this.node.insertBefore(c.node,this.node.firstChild);this.add&&this.add();c.paper=this.paper;this.parent()&&this.parent().add();m&&m.add()}return this};c.prependTo=function(c){c=x(c);c.prepend(this);return this};c.before=function(c){if(\"set\"==c.type){var a=this;c.forEach(function(c){var b=c.parent();a.node.parentNode.insertBefore(c.node,a.node);b&&b.add()});\n",
       "this.parent().add();return this}c=x(c);var b=c.parent();this.node.parentNode.insertBefore(c.node,this.node);this.parent()&&this.parent().add();b&&b.add();c.paper=this.paper;return this};c.after=function(c){c=x(c);var a=c.parent();this.node.nextSibling?this.node.parentNode.insertBefore(c.node,this.node.nextSibling):this.node.parentNode.appendChild(c.node);this.parent()&&this.parent().add();a&&a.add();c.paper=this.paper;return this};c.insertBefore=function(c){c=x(c);var a=this.parent();c.node.parentNode.insertBefore(this.node,\n",
       "c.node);this.paper=c.paper;a&&a.add();c.parent()&&c.parent().add();return this};c.insertAfter=function(c){c=x(c);var a=this.parent();c.node.parentNode.insertBefore(this.node,c.node.nextSibling);this.paper=c.paper;a&&a.add();c.parent()&&c.parent().add();return this};c.remove=function(){var c=this.parent();this.node.parentNode&&this.node.parentNode.removeChild(this.node);delete this.paper;this.removed=!0;c&&c.add();return this};c.select=function(c){return x(this.node.querySelector(c))};c.selectAll=\n",
       "function(c){c=this.node.querySelectorAll(c);for(var b=(a.set||Array)(),m=0;m<c.length;m++)b.push(x(c[m]));return b};c.asPX=function(c,a){null==a&&(a=this.attr(c));return+b(this,c,a)};c.use=function(){var c,a=this.node.id;a||(a=this.id,v(this.node,{id:a}));c=\"linearGradient\"==this.type||\"radialGradient\"==this.type||\"pattern\"==this.type?r(this.type,this.node.parentNode):r(\"use\",this.node.parentNode);v(c.node,{\"xlink:href\":\"#\"+a});c.original=this;return c};var l=/\\S+/g;c.addClass=function(c){var a=(c||\n",
       "\"\").match(l)||[];c=this.node;var b=c.className.baseVal,m=b.match(l)||[],e,h,d;if(a.length){for(e=0;d=a[e++];)h=m.indexOf(d),~h||m.push(d);a=m.join(\" \");b!=a&&(c.className.baseVal=a)}return this};c.removeClass=function(c){var a=(c||\"\").match(l)||[];c=this.node;var b=c.className.baseVal,m=b.match(l)||[],e,h;if(m.length){for(e=0;h=a[e++];)h=m.indexOf(h),~h&&m.splice(h,1);a=m.join(\" \");b!=a&&(c.className.baseVal=a)}return this};c.hasClass=function(c){return!!~(this.node.className.baseVal.match(l)||[]).indexOf(c)};\n",
       "c.toggleClass=function(c,a){if(null!=a)return a?this.addClass(c):this.removeClass(c);var b=(c||\"\").match(l)||[],m=this.node,e=m.className.baseVal,h=e.match(l)||[],d,f,E;for(d=0;E=b[d++];)f=h.indexOf(E),~f?h.splice(f,1):h.push(E);b=h.join(\" \");e!=b&&(m.className.baseVal=b);return this};c.clone=function(){var c=x(this.node.cloneNode(!0));v(c.node,\"id\")&&v(c.node,{id:c.id});m(c);c.insertAfter(this);return c};c.toDefs=function(){u(this).appendChild(this.node);return this};c.pattern=c.toPattern=function(c,\n",
       "a,b,m){var e=r(\"pattern\",u(this));null==c&&(c=this.getBBox());y(c,\"object\")&&\"x\"in c&&(a=c.y,b=c.width,m=c.height,c=c.x);v(e.node,{x:c,y:a,width:b,height:m,patternUnits:\"userSpaceOnUse\",id:e.id,viewBox:[c,a,b,m].join(\" \")});e.node.appendChild(this.node);return e};c.marker=function(c,a,b,m,e,h){var d=r(\"marker\",u(this));null==c&&(c=this.getBBox());y(c,\"object\")&&\"x\"in c&&(a=c.y,b=c.width,m=c.height,e=c.refX||c.cx,h=c.refY||c.cy,c=c.x);v(d.node,{viewBox:[c,a,b,m].join(\" \"),markerWidth:b,markerHeight:m,\n",
       "orient:\"auto\",refX:e||0,refY:h||0,id:d.id});d.node.appendChild(this.node);return d};var E=function(c,a,b,m){\"function\"!=typeof b||b.length||(m=b,b=L.linear);this.attr=c;this.dur=a;b&&(this.easing=b);m&&(this.callback=m)};a._.Animation=E;a.animation=function(c,a,b,m){return new E(c,a,b,m)};c.inAnim=function(){var c=[],a;for(a in this.anims)this.anims[h](a)&&function(a){c.push({anim:new E(a._attrs,a.dur,a.easing,a._callback),mina:a,curStatus:a.status(),status:function(c){return a.status(c)},stop:function(){a.stop()}})}(this.anims[a]);\n",
       "return c};a.animate=function(c,a,b,m,e,h){\"function\"!=typeof e||e.length||(h=e,e=L.linear);var d=L.time();c=L(c,a,d,d+m,L.time,b,e);h&&k.once(\"mina.finish.\"+c.id,h);return c};c.stop=function(){for(var c=this.inAnim(),a=0,b=c.length;a<b;a++)c[a].stop();return this};c.animate=function(c,a,b,m){\"function\"!=typeof b||b.length||(m=b,b=L.linear);c instanceof E&&(m=c.callback,b=c.easing,a=b.dur,c=c.attr);var d=[],f=[],l={},t,ca,n,T=this,q;for(q in c)if(c[h](q)){T.equal?(n=T.equal(q,J(c[q])),t=n.from,ca=\n",
       "n.to,n=n.f):(t=+T.attr(q),ca=+c[q]);var la=y(t,\"array\")?t.length:1;l[q]=e(d.length,d.length+la,n);d=d.concat(t);f=f.concat(ca)}t=L.time();var p=L(d,f,t,t+a,L.time,function(c){var a={},b;for(b in l)l[h](b)&&(a[b]=l[b](c));T.attr(a)},b);T.anims[p.id]=p;p._attrs=c;p._callback=m;k(\"snap.animcreated.\"+T.id,p);k.once(\"mina.finish.\"+p.id,function(){delete T.anims[p.id];m&&m.call(T)});k.once(\"mina.stop.\"+p.id,function(){delete T.anims[p.id]});return T};var T={};c.data=function(c,b){var m=T[this.id]=T[this.id]||\n",
       "{};if(0==arguments.length)return k(\"snap.data.get.\"+this.id,this,m,null),m;if(1==arguments.length){if(a.is(c,\"object\")){for(var e in c)c[h](e)&&this.data(e,c[e]);return this}k(\"snap.data.get.\"+this.id,this,m[c],c);return m[c]}m[c]=b;k(\"snap.data.set.\"+this.id,this,b,c);return this};c.removeData=function(c){null==c?T[this.id]={}:T[this.id]&&delete T[this.id][c];return this};c.outerSVG=c.toString=d(1);c.innerSVG=d()})(e.prototype);a.parse=function(c){var a=G.doc.createDocumentFragment(),b=!0,m=G.doc.createElement(\"div\");\n",
       "c=J(c);c.match(/^\\s*<\\s*svg(?:\\s|>)/)||(c=\"<svg>\"+c+\"</svg>\",b=!1);m.innerHTML=c;if(c=m.getElementsByTagName(\"svg\")[0])if(b)a=c;else for(;c.firstChild;)a.appendChild(c.firstChild);m.innerHTML=aa;return new l(a)};l.prototype.select=e.prototype.select;l.prototype.selectAll=e.prototype.selectAll;a.fragment=function(){for(var c=Array.prototype.slice.call(arguments,0),b=G.doc.createDocumentFragment(),m=0,e=c.length;m<e;m++){var h=c[m];h.node&&h.node.nodeType&&b.appendChild(h.node);h.nodeType&&b.appendChild(h);\n",
       "\"string\"==typeof h&&b.appendChild(a.parse(h).node)}return new l(b)};a._.make=r;a._.wrap=x;s.prototype.el=function(c,a){var b=r(c,this.node);a&&b.attr(a);return b};k.on(\"snap.util.getattr\",function(){var c=k.nt(),c=c.substring(c.lastIndexOf(\".\")+1),a=c.replace(/[A-Z]/g,function(c){return\"-\"+c.toLowerCase()});return pa[h](a)?this.node.ownerDocument.defaultView.getComputedStyle(this.node,null).getPropertyValue(a):v(this.node,c)});var pa={\"alignment-baseline\":0,\"baseline-shift\":0,clip:0,\"clip-path\":0,\n",
       "\"clip-rule\":0,color:0,\"color-interpolation\":0,\"color-interpolation-filters\":0,\"color-profile\":0,\"color-rendering\":0,cursor:0,direction:0,display:0,\"dominant-baseline\":0,\"enable-background\":0,fill:0,\"fill-opacity\":0,\"fill-rule\":0,filter:0,\"flood-color\":0,\"flood-opacity\":0,font:0,\"font-family\":0,\"font-size\":0,\"font-size-adjust\":0,\"font-stretch\":0,\"font-style\":0,\"font-variant\":0,\"font-weight\":0,\"glyph-orientation-horizontal\":0,\"glyph-orientation-vertical\":0,\"image-rendering\":0,kerning:0,\"letter-spacing\":0,\n",
       "\"lighting-color\":0,marker:0,\"marker-end\":0,\"marker-mid\":0,\"marker-start\":0,mask:0,opacity:0,overflow:0,\"pointer-events\":0,\"shape-rendering\":0,\"stop-color\":0,\"stop-opacity\":0,stroke:0,\"stroke-dasharray\":0,\"stroke-dashoffset\":0,\"stroke-linecap\":0,\"stroke-linejoin\":0,\"stroke-miterlimit\":0,\"stroke-opacity\":0,\"stroke-width\":0,\"text-anchor\":0,\"text-decoration\":0,\"text-rendering\":0,\"unicode-bidi\":0,visibility:0,\"word-spacing\":0,\"writing-mode\":0};k.on(\"snap.util.attr\",function(c){var a=k.nt(),b={},a=a.substring(a.lastIndexOf(\".\")+\n",
       "1);b[a]=c;var m=a.replace(/-(\\w)/gi,function(c,a){return a.toUpperCase()}),a=a.replace(/[A-Z]/g,function(c){return\"-\"+c.toLowerCase()});pa[h](a)?this.node.style[m]=null==c?aa:c:v(this.node,b)});a.ajax=function(c,a,b,m){var e=new XMLHttpRequest,h=V();if(e){if(y(a,\"function\"))m=b,b=a,a=null;else if(y(a,\"object\")){var d=[],f;for(f in a)a.hasOwnProperty(f)&&d.push(encodeURIComponent(f)+\"=\"+encodeURIComponent(a[f]));a=d.join(\"&\")}e.open(a?\"POST\":\"GET\",c,!0);a&&(e.setRequestHeader(\"X-Requested-With\",\"XMLHttpRequest\"),\n",
       "e.setRequestHeader(\"Content-type\",\"application/x-www-form-urlencoded\"));b&&(k.once(\"snap.ajax.\"+h+\".0\",b),k.once(\"snap.ajax.\"+h+\".200\",b),k.once(\"snap.ajax.\"+h+\".304\",b));e.onreadystatechange=function(){4==e.readyState&&k(\"snap.ajax.\"+h+\".\"+e.status,m,e)};if(4==e.readyState)return e;e.send(a);return e}};a.load=function(c,b,m){a.ajax(c,function(c){c=a.parse(c.responseText);m?b.call(m,c):b(c)})};a.getElementByPoint=function(c,a){var b,m,e=G.doc.elementFromPoint(c,a);if(G.win.opera&&\"svg\"==e.tagName){b=\n",
       "e;m=b.getBoundingClientRect();b=b.ownerDocument;var h=b.body,d=b.documentElement;b=m.top+(g.win.pageYOffset||d.scrollTop||h.scrollTop)-(d.clientTop||h.clientTop||0);m=m.left+(g.win.pageXOffset||d.scrollLeft||h.scrollLeft)-(d.clientLeft||h.clientLeft||0);h=e.createSVGRect();h.x=c-m;h.y=a-b;h.width=h.height=1;b=e.getIntersectionList(h,null);b.length&&(e=b[b.length-1])}return e?x(e):null};a.plugin=function(c){c(a,e,s,G,l)};return G.win.Snap=a}();C.plugin(function(a,k,y,M,A){function w(a,d,f,b,q,e){null==\n",
       "d&&\"[object SVGMatrix]\"==z.call(a)?(this.a=a.a,this.b=a.b,this.c=a.c,this.d=a.d,this.e=a.e,this.f=a.f):null!=a?(this.a=+a,this.b=+d,this.c=+f,this.d=+b,this.e=+q,this.f=+e):(this.a=1,this.c=this.b=0,this.d=1,this.f=this.e=0)}var z=Object.prototype.toString,d=String,f=Math;(function(n){function k(a){return a[0]*a[0]+a[1]*a[1]}function p(a){var d=f.sqrt(k(a));a[0]&&(a[0]/=d);a[1]&&(a[1]/=d)}n.add=function(a,d,e,f,n,p){var k=[[],[],[] ],u=[[this.a,this.c,this.e],[this.b,this.d,this.f],[0,0,1] ];d=[[a,\n",
       "e,n],[d,f,p],[0,0,1] ];a&&a instanceof w&&(d=[[a.a,a.c,a.e],[a.b,a.d,a.f],[0,0,1] ]);for(a=0;3>a;a++)for(e=0;3>e;e++){for(f=n=0;3>f;f++)n+=u[a][f]*d[f][e];k[a][e]=n}this.a=k[0][0];this.b=k[1][0];this.c=k[0][1];this.d=k[1][1];this.e=k[0][2];this.f=k[1][2];return this};n.invert=function(){var a=this.a*this.d-this.b*this.c;return new w(this.d/a,-this.b/a,-this.c/a,this.a/a,(this.c*this.f-this.d*this.e)/a,(this.b*this.e-this.a*this.f)/a)};n.clone=function(){return new w(this.a,this.b,this.c,this.d,this.e,\n",
       "this.f)};n.translate=function(a,d){return this.add(1,0,0,1,a,d)};n.scale=function(a,d,e,f){null==d&&(d=a);(e||f)&&this.add(1,0,0,1,e,f);this.add(a,0,0,d,0,0);(e||f)&&this.add(1,0,0,1,-e,-f);return this};n.rotate=function(b,d,e){b=a.rad(b);d=d||0;e=e||0;var l=+f.cos(b).toFixed(9);b=+f.sin(b).toFixed(9);this.add(l,b,-b,l,d,e);return this.add(1,0,0,1,-d,-e)};n.x=function(a,d){return a*this.a+d*this.c+this.e};n.y=function(a,d){return a*this.b+d*this.d+this.f};n.get=function(a){return+this[d.fromCharCode(97+\n",
       "a)].toFixed(4)};n.toString=function(){return\"matrix(\"+[this.get(0),this.get(1),this.get(2),this.get(3),this.get(4),this.get(5)].join()+\")\"};n.offset=function(){return[this.e.toFixed(4),this.f.toFixed(4)]};n.determinant=function(){return this.a*this.d-this.b*this.c};n.split=function(){var b={};b.dx=this.e;b.dy=this.f;var d=[[this.a,this.c],[this.b,this.d] ];b.scalex=f.sqrt(k(d[0]));p(d[0]);b.shear=d[0][0]*d[1][0]+d[0][1]*d[1][1];d[1]=[d[1][0]-d[0][0]*b.shear,d[1][1]-d[0][1]*b.shear];b.scaley=f.sqrt(k(d[1]));\n",
       "p(d[1]);b.shear/=b.scaley;0>this.determinant()&&(b.scalex=-b.scalex);var e=-d[0][1],d=d[1][1];0>d?(b.rotate=a.deg(f.acos(d)),0>e&&(b.rotate=360-b.rotate)):b.rotate=a.deg(f.asin(e));b.isSimple=!+b.shear.toFixed(9)&&(b.scalex.toFixed(9)==b.scaley.toFixed(9)||!b.rotate);b.isSuperSimple=!+b.shear.toFixed(9)&&b.scalex.toFixed(9)==b.scaley.toFixed(9)&&!b.rotate;b.noRotation=!+b.shear.toFixed(9)&&!b.rotate;return b};n.toTransformString=function(a){a=a||this.split();if(+a.shear.toFixed(9))return\"m\"+[this.get(0),\n",
       "this.get(1),this.get(2),this.get(3),this.get(4),this.get(5)];a.scalex=+a.scalex.toFixed(4);a.scaley=+a.scaley.toFixed(4);a.rotate=+a.rotate.toFixed(4);return(a.dx||a.dy?\"t\"+[+a.dx.toFixed(4),+a.dy.toFixed(4)]:\"\")+(1!=a.scalex||1!=a.scaley?\"s\"+[a.scalex,a.scaley,0,0]:\"\")+(a.rotate?\"r\"+[+a.rotate.toFixed(4),0,0]:\"\")}})(w.prototype);a.Matrix=w;a.matrix=function(a,d,f,b,k,e){return new w(a,d,f,b,k,e)}});C.plugin(function(a,v,y,M,A){function w(h){return function(d){k.stop();d instanceof A&&1==d.node.childNodes.length&&\n",
       "(\"radialGradient\"==d.node.firstChild.tagName||\"linearGradient\"==d.node.firstChild.tagName||\"pattern\"==d.node.firstChild.tagName)&&(d=d.node.firstChild,b(this).appendChild(d),d=u(d));if(d instanceof v)if(\"radialGradient\"==d.type||\"linearGradient\"==d.type||\"pattern\"==d.type){d.node.id||e(d.node,{id:d.id});var f=l(d.node.id)}else f=d.attr(h);else f=a.color(d),f.error?(f=a(b(this).ownerSVGElement).gradient(d))?(f.node.id||e(f.node,{id:f.id}),f=l(f.node.id)):f=d:f=r(f);d={};d[h]=f;e(this.node,d);this.node.style[h]=\n",
       "x}}function z(a){k.stop();a==+a&&(a+=\"px\");this.node.style.fontSize=a}function d(a){var b=[];a=a.childNodes;for(var e=0,f=a.length;e<f;e++){var l=a[e];3==l.nodeType&&b.push(l.nodeValue);\"tspan\"==l.tagName&&(1==l.childNodes.length&&3==l.firstChild.nodeType?b.push(l.firstChild.nodeValue):b.push(d(l)))}return b}function f(){k.stop();return this.node.style.fontSize}var n=a._.make,u=a._.wrap,p=a.is,b=a._.getSomeDefs,q=/^url\\(#?([^)]+)\\)$/,e=a._.$,l=a.url,r=String,s=a._.separator,x=\"\";k.on(\"snap.util.attr.mask\",\n",
       "function(a){if(a instanceof v||a instanceof A){k.stop();a instanceof A&&1==a.node.childNodes.length&&(a=a.node.firstChild,b(this).appendChild(a),a=u(a));if(\"mask\"==a.type)var d=a;else d=n(\"mask\",b(this)),d.node.appendChild(a.node);!d.node.id&&e(d.node,{id:d.id});e(this.node,{mask:l(d.id)})}});(function(a){k.on(\"snap.util.attr.clip\",a);k.on(\"snap.util.attr.clip-path\",a);k.on(\"snap.util.attr.clipPath\",a)})(function(a){if(a instanceof v||a instanceof A){k.stop();if(\"clipPath\"==a.type)var d=a;else d=\n",
       "n(\"clipPath\",b(this)),d.node.appendChild(a.node),!d.node.id&&e(d.node,{id:d.id});e(this.node,{\"clip-path\":l(d.id)})}});k.on(\"snap.util.attr.fill\",w(\"fill\"));k.on(\"snap.util.attr.stroke\",w(\"stroke\"));var G=/^([lr])(?:\\(([^)]*)\\))?(.*)$/i;k.on(\"snap.util.grad.parse\",function(a){a=r(a);var b=a.match(G);if(!b)return null;a=b[1];var e=b[2],b=b[3],e=e.split(/\\s*,\\s*/).map(function(a){return+a==a?+a:a});1==e.length&&0==e[0]&&(e=[]);b=b.split(\"-\");b=b.map(function(a){a=a.split(\":\");var b={color:a[0]};a[1]&&\n",
       "(b.offset=parseFloat(a[1]));return b});return{type:a,params:e,stops:b}});k.on(\"snap.util.attr.d\",function(b){k.stop();p(b,\"array\")&&p(b[0],\"array\")&&(b=a.path.toString.call(b));b=r(b);b.match(/[ruo]/i)&&(b=a.path.toAbsolute(b));e(this.node,{d:b})})(-1);k.on(\"snap.util.attr.#text\",function(a){k.stop();a=r(a);for(a=M.doc.createTextNode(a);this.node.firstChild;)this.node.removeChild(this.node.firstChild);this.node.appendChild(a)})(-1);k.on(\"snap.util.attr.path\",function(a){k.stop();this.attr({d:a})})(-1);\n",
       "k.on(\"snap.util.attr.class\",function(a){k.stop();this.node.className.baseVal=a})(-1);k.on(\"snap.util.attr.viewBox\",function(a){a=p(a,\"object\")&&\"x\"in a?[a.x,a.y,a.width,a.height].join(\" \"):p(a,\"array\")?a.join(\" \"):a;e(this.node,{viewBox:a});k.stop()})(-1);k.on(\"snap.util.attr.transform\",function(a){this.transform(a);k.stop()})(-1);k.on(\"snap.util.attr.r\",function(a){\"rect\"==this.type&&(k.stop(),e(this.node,{rx:a,ry:a}))})(-1);k.on(\"snap.util.attr.textpath\",function(a){k.stop();if(\"text\"==this.type){var d,\n",
       "f;if(!a&&this.textPath){for(a=this.textPath;a.node.firstChild;)this.node.appendChild(a.node.firstChild);a.remove();delete this.textPath}else if(p(a,\"string\")?(d=b(this),a=u(d.parentNode).path(a),d.appendChild(a.node),d=a.id,a.attr({id:d})):(a=u(a),a instanceof v&&(d=a.attr(\"id\"),d||(d=a.id,a.attr({id:d})))),d)if(a=this.textPath,f=this.node,a)a.attr({\"xlink:href\":\"#\"+d});else{for(a=e(\"textPath\",{\"xlink:href\":\"#\"+d});f.firstChild;)a.appendChild(f.firstChild);f.appendChild(a);this.textPath=u(a)}}})(-1);\n",
       "k.on(\"snap.util.attr.text\",function(a){if(\"text\"==this.type){for(var b=this.node,d=function(a){var b=e(\"tspan\");if(p(a,\"array\"))for(var f=0;f<a.length;f++)b.appendChild(d(a[f]));else b.appendChild(M.doc.createTextNode(a));b.normalize&&b.normalize();return b};b.firstChild;)b.removeChild(b.firstChild);for(a=d(a);a.firstChild;)b.appendChild(a.firstChild)}k.stop()})(-1);k.on(\"snap.util.attr.fontSize\",z)(-1);k.on(\"snap.util.attr.font-size\",z)(-1);k.on(\"snap.util.getattr.transform\",function(){k.stop();\n",
       "return this.transform()})(-1);k.on(\"snap.util.getattr.textpath\",function(){k.stop();return this.textPath})(-1);(function(){function b(d){return function(){k.stop();var b=M.doc.defaultView.getComputedStyle(this.node,null).getPropertyValue(\"marker-\"+d);return\"none\"==b?b:a(M.doc.getElementById(b.match(q)[1]))}}function d(a){return function(b){k.stop();var d=\"marker\"+a.charAt(0).toUpperCase()+a.substring(1);if(\"\"==b||!b)this.node.style[d]=\"none\";else if(\"marker\"==b.type){var f=b.node.id;f||e(b.node,{id:b.id});\n",
       "this.node.style[d]=l(f)}}}k.on(\"snap.util.getattr.marker-end\",b(\"end\"))(-1);k.on(\"snap.util.getattr.markerEnd\",b(\"end\"))(-1);k.on(\"snap.util.getattr.marker-start\",b(\"start\"))(-1);k.on(\"snap.util.getattr.markerStart\",b(\"start\"))(-1);k.on(\"snap.util.getattr.marker-mid\",b(\"mid\"))(-1);k.on(\"snap.util.getattr.markerMid\",b(\"mid\"))(-1);k.on(\"snap.util.attr.marker-end\",d(\"end\"))(-1);k.on(\"snap.util.attr.markerEnd\",d(\"end\"))(-1);k.on(\"snap.util.attr.marker-start\",d(\"start\"))(-1);k.on(\"snap.util.attr.markerStart\",\n",
       "d(\"start\"))(-1);k.on(\"snap.util.attr.marker-mid\",d(\"mid\"))(-1);k.on(\"snap.util.attr.markerMid\",d(\"mid\"))(-1)})();k.on(\"snap.util.getattr.r\",function(){if(\"rect\"==this.type&&e(this.node,\"rx\")==e(this.node,\"ry\"))return k.stop(),e(this.node,\"rx\")})(-1);k.on(\"snap.util.getattr.text\",function(){if(\"text\"==this.type||\"tspan\"==this.type){k.stop();var a=d(this.node);return 1==a.length?a[0]:a}})(-1);k.on(\"snap.util.getattr.#text\",function(){return this.node.textContent})(-1);k.on(\"snap.util.getattr.viewBox\",\n",
       "function(){k.stop();var b=e(this.node,\"viewBox\");if(b)return b=b.split(s),a._.box(+b[0],+b[1],+b[2],+b[3])})(-1);k.on(\"snap.util.getattr.points\",function(){var a=e(this.node,\"points\");k.stop();if(a)return a.split(s)})(-1);k.on(\"snap.util.getattr.path\",function(){var a=e(this.node,\"d\");k.stop();return a})(-1);k.on(\"snap.util.getattr.class\",function(){return this.node.className.baseVal})(-1);k.on(\"snap.util.getattr.fontSize\",f)(-1);k.on(\"snap.util.getattr.font-size\",f)(-1)});C.plugin(function(a,v,y,\n",
       "M,A){function w(a){return a}function z(a){return function(b){return+b.toFixed(3)+a}}var d={\"+\":function(a,b){return a+b},\"-\":function(a,b){return a-b},\"/\":function(a,b){return a/b},\"*\":function(a,b){return a*b}},f=String,n=/[a-z]+$/i,u=/^\\s*([+\\-\\/*])\\s*=\\s*([\\d.eE+\\-]+)\\s*([^\\d\\s]+)?\\s*$/;k.on(\"snap.util.attr\",function(a){if(a=f(a).match(u)){var b=k.nt(),b=b.substring(b.lastIndexOf(\".\")+1),q=this.attr(b),e={};k.stop();var l=a[3]||\"\",r=q.match(n),s=d[a[1] ];r&&r==l?a=s(parseFloat(q),+a[2]):(q=this.asPX(b),\n",
       "a=s(this.asPX(b),this.asPX(b,a[2]+l)));isNaN(q)||isNaN(a)||(e[b]=a,this.attr(e))}})(-10);k.on(\"snap.util.equal\",function(a,b){var q=f(this.attr(a)||\"\"),e=f(b).match(u);if(e){k.stop();var l=e[3]||\"\",r=q.match(n),s=d[e[1] ];if(r&&r==l)return{from:parseFloat(q),to:s(parseFloat(q),+e[2]),f:z(r)};q=this.asPX(a);return{from:q,to:s(q,this.asPX(a,e[2]+l)),f:w}}})(-10)});C.plugin(function(a,v,y,M,A){var w=y.prototype,z=a.is;w.rect=function(a,d,k,p,b,q){var e;null==q&&(q=b);z(a,\"object\")&&\"[object Object]\"==\n",
       "a?e=a:null!=a&&(e={x:a,y:d,width:k,height:p},null!=b&&(e.rx=b,e.ry=q));return this.el(\"rect\",e)};w.circle=function(a,d,k){var p;z(a,\"object\")&&\"[object Object]\"==a?p=a:null!=a&&(p={cx:a,cy:d,r:k});return this.el(\"circle\",p)};var d=function(){function a(){this.parentNode.removeChild(this)}return function(d,k){var p=M.doc.createElement(\"img\"),b=M.doc.body;p.style.cssText=\"position:absolute;left:-9999em;top:-9999em\";p.onload=function(){k.call(p);p.onload=p.onerror=null;b.removeChild(p)};p.onerror=a;\n",
       "b.appendChild(p);p.src=d}}();w.image=function(f,n,k,p,b){var q=this.el(\"image\");if(z(f,\"object\")&&\"src\"in f)q.attr(f);else if(null!=f){var e={\"xlink:href\":f,preserveAspectRatio:\"none\"};null!=n&&null!=k&&(e.x=n,e.y=k);null!=p&&null!=b?(e.width=p,e.height=b):d(f,function(){a._.$(q.node,{width:this.offsetWidth,height:this.offsetHeight})});a._.$(q.node,e)}return q};w.ellipse=function(a,d,k,p){var b;z(a,\"object\")&&\"[object Object]\"==a?b=a:null!=a&&(b={cx:a,cy:d,rx:k,ry:p});return this.el(\"ellipse\",b)};\n",
       "w.path=function(a){var d;z(a,\"object\")&&!z(a,\"array\")?d=a:a&&(d={d:a});return this.el(\"path\",d)};w.group=w.g=function(a){var d=this.el(\"g\");1==arguments.length&&a&&!a.type?d.attr(a):arguments.length&&d.add(Array.prototype.slice.call(arguments,0));return d};w.svg=function(a,d,k,p,b,q,e,l){var r={};z(a,\"object\")&&null==d?r=a:(null!=a&&(r.x=a),null!=d&&(r.y=d),null!=k&&(r.width=k),null!=p&&(r.height=p),null!=b&&null!=q&&null!=e&&null!=l&&(r.viewBox=[b,q,e,l]));return this.el(\"svg\",r)};w.mask=function(a){var d=\n",
       "this.el(\"mask\");1==arguments.length&&a&&!a.type?d.attr(a):arguments.length&&d.add(Array.prototype.slice.call(arguments,0));return d};w.ptrn=function(a,d,k,p,b,q,e,l){if(z(a,\"object\"))var r=a;else arguments.length?(r={},null!=a&&(r.x=a),null!=d&&(r.y=d),null!=k&&(r.width=k),null!=p&&(r.height=p),null!=b&&null!=q&&null!=e&&null!=l&&(r.viewBox=[b,q,e,l])):r={patternUnits:\"userSpaceOnUse\"};return this.el(\"pattern\",r)};w.use=function(a){return null!=a?(make(\"use\",this.node),a instanceof v&&(a.attr(\"id\")||\n",
       "a.attr({id:ID()}),a=a.attr(\"id\")),this.el(\"use\",{\"xlink:href\":a})):v.prototype.use.call(this)};w.text=function(a,d,k){var p={};z(a,\"object\")?p=a:null!=a&&(p={x:a,y:d,text:k||\"\"});return this.el(\"text\",p)};w.line=function(a,d,k,p){var b={};z(a,\"object\")?b=a:null!=a&&(b={x1:a,x2:k,y1:d,y2:p});return this.el(\"line\",b)};w.polyline=function(a){1<arguments.length&&(a=Array.prototype.slice.call(arguments,0));var d={};z(a,\"object\")&&!z(a,\"array\")?d=a:null!=a&&(d={points:a});return this.el(\"polyline\",d)};\n",
       "w.polygon=function(a){1<arguments.length&&(a=Array.prototype.slice.call(arguments,0));var d={};z(a,\"object\")&&!z(a,\"array\")?d=a:null!=a&&(d={points:a});return this.el(\"polygon\",d)};(function(){function d(){return this.selectAll(\"stop\")}function n(b,d){var f=e(\"stop\"),k={offset:+d+\"%\"};b=a.color(b);k[\"stop-color\"]=b.hex;1>b.opacity&&(k[\"stop-opacity\"]=b.opacity);e(f,k);this.node.appendChild(f);return this}function u(){if(\"linearGradient\"==this.type){var b=e(this.node,\"x1\")||0,d=e(this.node,\"x2\")||\n",
       "1,f=e(this.node,\"y1\")||0,k=e(this.node,\"y2\")||0;return a._.box(b,f,math.abs(d-b),math.abs(k-f))}b=this.node.r||0;return a._.box((this.node.cx||0.5)-b,(this.node.cy||0.5)-b,2*b,2*b)}function p(a,d){function f(a,b){for(var d=(b-u)/(a-w),e=w;e<a;e++)h[e].offset=+(+u+d*(e-w)).toFixed(2);w=a;u=b}var n=k(\"snap.util.grad.parse\",null,d).firstDefined(),p;if(!n)return null;n.params.unshift(a);p=\"l\"==n.type.toLowerCase()?b.apply(0,n.params):q.apply(0,n.params);n.type!=n.type.toLowerCase()&&e(p.node,{gradientUnits:\"userSpaceOnUse\"});\n",
       "var h=n.stops,n=h.length,u=0,w=0;n--;for(var v=0;v<n;v++)\"offset\"in h[v]&&f(v,h[v].offset);h[n].offset=h[n].offset||100;f(n,h[n].offset);for(v=0;v<=n;v++){var y=h[v];p.addStop(y.color,y.offset)}return p}function b(b,k,p,q,w){b=a._.make(\"linearGradient\",b);b.stops=d;b.addStop=n;b.getBBox=u;null!=k&&e(b.node,{x1:k,y1:p,x2:q,y2:w});return b}function q(b,k,p,q,w,h){b=a._.make(\"radialGradient\",b);b.stops=d;b.addStop=n;b.getBBox=u;null!=k&&e(b.node,{cx:k,cy:p,r:q});null!=w&&null!=h&&e(b.node,{fx:w,fy:h});\n",
       "return b}var e=a._.$;w.gradient=function(a){return p(this.defs,a)};w.gradientLinear=function(a,d,e,f){return b(this.defs,a,d,e,f)};w.gradientRadial=function(a,b,d,e,f){return q(this.defs,a,b,d,e,f)};w.toString=function(){var b=this.node.ownerDocument,d=b.createDocumentFragment(),b=b.createElement(\"div\"),e=this.node.cloneNode(!0);d.appendChild(b);b.appendChild(e);a._.$(e,{xmlns:\"http://www.w3.org/2000/svg\"});b=b.innerHTML;d.removeChild(d.firstChild);return b};w.clear=function(){for(var a=this.node.firstChild,\n",
       "b;a;)b=a.nextSibling,\"defs\"!=a.tagName?a.parentNode.removeChild(a):w.clear.call({node:a}),a=b}})()});C.plugin(function(a,k,y,M){function A(a){var b=A.ps=A.ps||{};b[a]?b[a].sleep=100:b[a]={sleep:100};setTimeout(function(){for(var d in b)b[L](d)&&d!=a&&(b[d].sleep--,!b[d].sleep&&delete b[d])});return b[a]}function w(a,b,d,e){null==a&&(a=b=d=e=0);null==b&&(b=a.y,d=a.width,e=a.height,a=a.x);return{x:a,y:b,width:d,w:d,height:e,h:e,x2:a+d,y2:b+e,cx:a+d/2,cy:b+e/2,r1:F.min(d,e)/2,r2:F.max(d,e)/2,r0:F.sqrt(d*\n",
       "d+e*e)/2,path:s(a,b,d,e),vb:[a,b,d,e].join(\" \")}}function z(){return this.join(\",\").replace(N,\"$1\")}function d(a){a=C(a);a.toString=z;return a}function f(a,b,d,h,f,k,l,n,p){if(null==p)return e(a,b,d,h,f,k,l,n);if(0>p||e(a,b,d,h,f,k,l,n)<p)p=void 0;else{var q=0.5,O=1-q,s;for(s=e(a,b,d,h,f,k,l,n,O);0.01<Z(s-p);)q/=2,O+=(s<p?1:-1)*q,s=e(a,b,d,h,f,k,l,n,O);p=O}return u(a,b,d,h,f,k,l,n,p)}function n(b,d){function e(a){return+(+a).toFixed(3)}return a._.cacher(function(a,h,l){a instanceof k&&(a=a.attr(\"d\"));\n",
       "a=I(a);for(var n,p,D,q,O=\"\",s={},c=0,t=0,r=a.length;t<r;t++){D=a[t];if(\"M\"==D[0])n=+D[1],p=+D[2];else{q=f(n,p,D[1],D[2],D[3],D[4],D[5],D[6]);if(c+q>h){if(d&&!s.start){n=f(n,p,D[1],D[2],D[3],D[4],D[5],D[6],h-c);O+=[\"C\"+e(n.start.x),e(n.start.y),e(n.m.x),e(n.m.y),e(n.x),e(n.y)];if(l)return O;s.start=O;O=[\"M\"+e(n.x),e(n.y)+\"C\"+e(n.n.x),e(n.n.y),e(n.end.x),e(n.end.y),e(D[5]),e(D[6])].join();c+=q;n=+D[5];p=+D[6];continue}if(!b&&!d)return n=f(n,p,D[1],D[2],D[3],D[4],D[5],D[6],h-c)}c+=q;n=+D[5];p=+D[6]}O+=\n",
       "D.shift()+D}s.end=O;return n=b?c:d?s:u(n,p,D[0],D[1],D[2],D[3],D[4],D[5],1)},null,a._.clone)}function u(a,b,d,e,h,f,k,l,n){var p=1-n,q=ma(p,3),s=ma(p,2),c=n*n,t=c*n,r=q*a+3*s*n*d+3*p*n*n*h+t*k,q=q*b+3*s*n*e+3*p*n*n*f+t*l,s=a+2*n*(d-a)+c*(h-2*d+a),t=b+2*n*(e-b)+c*(f-2*e+b),x=d+2*n*(h-d)+c*(k-2*h+d),c=e+2*n*(f-e)+c*(l-2*f+e);a=p*a+n*d;b=p*b+n*e;h=p*h+n*k;f=p*f+n*l;l=90-180*F.atan2(s-x,t-c)/S;return{x:r,y:q,m:{x:s,y:t},n:{x:x,y:c},start:{x:a,y:b},end:{x:h,y:f},alpha:l}}function p(b,d,e,h,f,n,k,l){a.is(b,\n",
       "\"array\")||(b=[b,d,e,h,f,n,k,l]);b=U.apply(null,b);return w(b.min.x,b.min.y,b.max.x-b.min.x,b.max.y-b.min.y)}function b(a,b,d){return b>=a.x&&b<=a.x+a.width&&d>=a.y&&d<=a.y+a.height}function q(a,d){a=w(a);d=w(d);return b(d,a.x,a.y)||b(d,a.x2,a.y)||b(d,a.x,a.y2)||b(d,a.x2,a.y2)||b(a,d.x,d.y)||b(a,d.x2,d.y)||b(a,d.x,d.y2)||b(a,d.x2,d.y2)||(a.x<d.x2&&a.x>d.x||d.x<a.x2&&d.x>a.x)&&(a.y<d.y2&&a.y>d.y||d.y<a.y2&&d.y>a.y)}function e(a,b,d,e,h,f,n,k,l){null==l&&(l=1);l=(1<l?1:0>l?0:l)/2;for(var p=[-0.1252,\n",
       "0.1252,-0.3678,0.3678,-0.5873,0.5873,-0.7699,0.7699,-0.9041,0.9041,-0.9816,0.9816],q=[0.2491,0.2491,0.2335,0.2335,0.2032,0.2032,0.1601,0.1601,0.1069,0.1069,0.0472,0.0472],s=0,c=0;12>c;c++)var t=l*p[c]+l,r=t*(t*(-3*a+9*d-9*h+3*n)+6*a-12*d+6*h)-3*a+3*d,t=t*(t*(-3*b+9*e-9*f+3*k)+6*b-12*e+6*f)-3*b+3*e,s=s+q[c]*F.sqrt(r*r+t*t);return l*s}function l(a,b,d){a=I(a);b=I(b);for(var h,f,l,n,k,s,r,O,x,c,t=d?0:[],w=0,v=a.length;w<v;w++)if(x=a[w],\"M\"==x[0])h=k=x[1],f=s=x[2];else{\"C\"==x[0]?(x=[h,f].concat(x.slice(1)),\n",
       "h=x[6],f=x[7]):(x=[h,f,h,f,k,s,k,s],h=k,f=s);for(var G=0,y=b.length;G<y;G++)if(c=b[G],\"M\"==c[0])l=r=c[1],n=O=c[2];else{\"C\"==c[0]?(c=[l,n].concat(c.slice(1)),l=c[6],n=c[7]):(c=[l,n,l,n,r,O,r,O],l=r,n=O);var z;var K=x,B=c;z=d;var H=p(K),J=p(B);if(q(H,J)){for(var H=e.apply(0,K),J=e.apply(0,B),H=~~(H/8),J=~~(J/8),U=[],A=[],F={},M=z?0:[],P=0;P<H+1;P++){var C=u.apply(0,K.concat(P/H));U.push({x:C.x,y:C.y,t:P/H})}for(P=0;P<J+1;P++)C=u.apply(0,B.concat(P/J)),A.push({x:C.x,y:C.y,t:P/J});for(P=0;P<H;P++)for(K=\n",
       "0;K<J;K++){var Q=U[P],L=U[P+1],B=A[K],C=A[K+1],N=0.001>Z(L.x-Q.x)?\"y\":\"x\",S=0.001>Z(C.x-B.x)?\"y\":\"x\",R;R=Q.x;var Y=Q.y,V=L.x,ea=L.y,fa=B.x,ga=B.y,ha=C.x,ia=C.y;if(W(R,V)<X(fa,ha)||X(R,V)>W(fa,ha)||W(Y,ea)<X(ga,ia)||X(Y,ea)>W(ga,ia))R=void 0;else{var $=(R*ea-Y*V)*(fa-ha)-(R-V)*(fa*ia-ga*ha),aa=(R*ea-Y*V)*(ga-ia)-(Y-ea)*(fa*ia-ga*ha),ja=(R-V)*(ga-ia)-(Y-ea)*(fa-ha);if(ja){var $=$/ja,aa=aa/ja,ja=+$.toFixed(2),ba=+aa.toFixed(2);R=ja<+X(R,V).toFixed(2)||ja>+W(R,V).toFixed(2)||ja<+X(fa,ha).toFixed(2)||\n",
       "ja>+W(fa,ha).toFixed(2)||ba<+X(Y,ea).toFixed(2)||ba>+W(Y,ea).toFixed(2)||ba<+X(ga,ia).toFixed(2)||ba>+W(ga,ia).toFixed(2)?void 0:{x:$,y:aa}}else R=void 0}R&&F[R.x.toFixed(4)]!=R.y.toFixed(4)&&(F[R.x.toFixed(4)]=R.y.toFixed(4),Q=Q.t+Z((R[N]-Q[N])/(L[N]-Q[N]))*(L.t-Q.t),B=B.t+Z((R[S]-B[S])/(C[S]-B[S]))*(C.t-B.t),0<=Q&&1>=Q&&0<=B&&1>=B&&(z?M++:M.push({x:R.x,y:R.y,t1:Q,t2:B})))}z=M}else z=z?0:[];if(d)t+=z;else{H=0;for(J=z.length;H<J;H++)z[H].segment1=w,z[H].segment2=G,z[H].bez1=x,z[H].bez2=c;t=t.concat(z)}}}return t}\n",
       "function r(a){var b=A(a);if(b.bbox)return C(b.bbox);if(!a)return w();a=I(a);for(var d=0,e=0,h=[],f=[],l,n=0,k=a.length;n<k;n++)l=a[n],\"M\"==l[0]?(d=l[1],e=l[2],h.push(d),f.push(e)):(d=U(d,e,l[1],l[2],l[3],l[4],l[5],l[6]),h=h.concat(d.min.x,d.max.x),f=f.concat(d.min.y,d.max.y),d=l[5],e=l[6]);a=X.apply(0,h);l=X.apply(0,f);h=W.apply(0,h);f=W.apply(0,f);f=w(a,l,h-a,f-l);b.bbox=C(f);return f}function s(a,b,d,e,h){if(h)return[[\"M\",+a+ +h,b],[\"l\",d-2*h,0],[\"a\",h,h,0,0,1,h,h],[\"l\",0,e-2*h],[\"a\",h,h,0,0,1,\n",
       "-h,h],[\"l\",2*h-d,0],[\"a\",h,h,0,0,1,-h,-h],[\"l\",0,2*h-e],[\"a\",h,h,0,0,1,h,-h],[\"z\"] ];a=[[\"M\",a,b],[\"l\",d,0],[\"l\",0,e],[\"l\",-d,0],[\"z\"] ];a.toString=z;return a}function x(a,b,d,e,h){null==h&&null==e&&(e=d);a=+a;b=+b;d=+d;e=+e;if(null!=h){var f=Math.PI/180,l=a+d*Math.cos(-e*f);a+=d*Math.cos(-h*f);var n=b+d*Math.sin(-e*f);b+=d*Math.sin(-h*f);d=[[\"M\",l,n],[\"A\",d,d,0,+(180<h-e),0,a,b] ]}else d=[[\"M\",a,b],[\"m\",0,-e],[\"a\",d,e,0,1,1,0,2*e],[\"a\",d,e,0,1,1,0,-2*e],[\"z\"] ];d.toString=z;return d}function G(b){var e=\n",
       "A(b);if(e.abs)return d(e.abs);Q(b,\"array\")&&Q(b&&b[0],\"array\")||(b=a.parsePathString(b));if(!b||!b.length)return[[\"M\",0,0] ];var h=[],f=0,l=0,n=0,k=0,p=0;\"M\"==b[0][0]&&(f=+b[0][1],l=+b[0][2],n=f,k=l,p++,h[0]=[\"M\",f,l]);for(var q=3==b.length&&\"M\"==b[0][0]&&\"R\"==b[1][0].toUpperCase()&&\"Z\"==b[2][0].toUpperCase(),s,r,w=p,c=b.length;w<c;w++){h.push(s=[]);r=b[w];p=r[0];if(p!=p.toUpperCase())switch(s[0]=p.toUpperCase(),s[0]){case \"A\":s[1]=r[1];s[2]=r[2];s[3]=r[3];s[4]=r[4];s[5]=r[5];s[6]=+r[6]+f;s[7]=+r[7]+\n",
       "l;break;case \"V\":s[1]=+r[1]+l;break;case \"H\":s[1]=+r[1]+f;break;case \"R\":for(var t=[f,l].concat(r.slice(1)),u=2,v=t.length;u<v;u++)t[u]=+t[u]+f,t[++u]=+t[u]+l;h.pop();h=h.concat(P(t,q));break;case \"O\":h.pop();t=x(f,l,r[1],r[2]);t.push(t[0]);h=h.concat(t);break;case \"U\":h.pop();h=h.concat(x(f,l,r[1],r[2],r[3]));s=[\"U\"].concat(h[h.length-1].slice(-2));break;case \"M\":n=+r[1]+f,k=+r[2]+l;default:for(u=1,v=r.length;u<v;u++)s[u]=+r[u]+(u%2?f:l)}else if(\"R\"==p)t=[f,l].concat(r.slice(1)),h.pop(),h=h.concat(P(t,\n",
       "q)),s=[\"R\"].concat(r.slice(-2));else if(\"O\"==p)h.pop(),t=x(f,l,r[1],r[2]),t.push(t[0]),h=h.concat(t);else if(\"U\"==p)h.pop(),h=h.concat(x(f,l,r[1],r[2],r[3])),s=[\"U\"].concat(h[h.length-1].slice(-2));else for(t=0,u=r.length;t<u;t++)s[t]=r[t];p=p.toUpperCase();if(\"O\"!=p)switch(s[0]){case \"Z\":f=+n;l=+k;break;case \"H\":f=s[1];break;case \"V\":l=s[1];break;case \"M\":n=s[s.length-2],k=s[s.length-1];default:f=s[s.length-2],l=s[s.length-1]}}h.toString=z;e.abs=d(h);return h}function h(a,b,d,e){return[a,b,d,e,d,\n",
       "e]}function J(a,b,d,e,h,f){var l=1/3,n=2/3;return[l*a+n*d,l*b+n*e,l*h+n*d,l*f+n*e,h,f]}function K(b,d,e,h,f,l,n,k,p,s){var r=120*S/180,q=S/180*(+f||0),c=[],t,x=a._.cacher(function(a,b,c){var d=a*F.cos(c)-b*F.sin(c);a=a*F.sin(c)+b*F.cos(c);return{x:d,y:a}});if(s)v=s[0],t=s[1],l=s[2],u=s[3];else{t=x(b,d,-q);b=t.x;d=t.y;t=x(k,p,-q);k=t.x;p=t.y;F.cos(S/180*f);F.sin(S/180*f);t=(b-k)/2;v=(d-p)/2;u=t*t/(e*e)+v*v/(h*h);1<u&&(u=F.sqrt(u),e*=u,h*=u);var u=e*e,w=h*h,u=(l==n?-1:1)*F.sqrt(Z((u*w-u*v*v-w*t*t)/\n",
       "(u*v*v+w*t*t)));l=u*e*v/h+(b+k)/2;var u=u*-h*t/e+(d+p)/2,v=F.asin(((d-u)/h).toFixed(9));t=F.asin(((p-u)/h).toFixed(9));v=b<l?S-v:v;t=k<l?S-t:t;0>v&&(v=2*S+v);0>t&&(t=2*S+t);n&&v>t&&(v-=2*S);!n&&t>v&&(t-=2*S)}if(Z(t-v)>r){var c=t,w=k,G=p;t=v+r*(n&&t>v?1:-1);k=l+e*F.cos(t);p=u+h*F.sin(t);c=K(k,p,e,h,f,0,n,w,G,[t,c,l,u])}l=t-v;f=F.cos(v);r=F.sin(v);n=F.cos(t);t=F.sin(t);l=F.tan(l/4);e=4/3*e*l;l*=4/3*h;h=[b,d];b=[b+e*r,d-l*f];d=[k+e*t,p-l*n];k=[k,p];b[0]=2*h[0]-b[0];b[1]=2*h[1]-b[1];if(s)return[b,d,k].concat(c);\n",
       "c=[b,d,k].concat(c).join().split(\",\");s=[];k=0;for(p=c.length;k<p;k++)s[k]=k%2?x(c[k-1],c[k],q).y:x(c[k],c[k+1],q).x;return s}function U(a,b,d,e,h,f,l,k){for(var n=[],p=[[],[] ],s,r,c,t,q=0;2>q;++q)0==q?(r=6*a-12*d+6*h,s=-3*a+9*d-9*h+3*l,c=3*d-3*a):(r=6*b-12*e+6*f,s=-3*b+9*e-9*f+3*k,c=3*e-3*b),1E-12>Z(s)?1E-12>Z(r)||(s=-c/r,0<s&&1>s&&n.push(s)):(t=r*r-4*c*s,c=F.sqrt(t),0>t||(t=(-r+c)/(2*s),0<t&&1>t&&n.push(t),s=(-r-c)/(2*s),0<s&&1>s&&n.push(s)));for(r=q=n.length;q--;)s=n[q],c=1-s,p[0][q]=c*c*c*a+3*\n",
       "c*c*s*d+3*c*s*s*h+s*s*s*l,p[1][q]=c*c*c*b+3*c*c*s*e+3*c*s*s*f+s*s*s*k;p[0][r]=a;p[1][r]=b;p[0][r+1]=l;p[1][r+1]=k;p[0].length=p[1].length=r+2;return{min:{x:X.apply(0,p[0]),y:X.apply(0,p[1])},max:{x:W.apply(0,p[0]),y:W.apply(0,p[1])}}}function I(a,b){var e=!b&&A(a);if(!b&&e.curve)return d(e.curve);var f=G(a),l=b&&G(b),n={x:0,y:0,bx:0,by:0,X:0,Y:0,qx:null,qy:null},k={x:0,y:0,bx:0,by:0,X:0,Y:0,qx:null,qy:null},p=function(a,b,c){if(!a)return[\"C\",b.x,b.y,b.x,b.y,b.x,b.y];a[0]in{T:1,Q:1}||(b.qx=b.qy=null);\n",
       "switch(a[0]){case \"M\":b.X=a[1];b.Y=a[2];break;case \"A\":a=[\"C\"].concat(K.apply(0,[b.x,b.y].concat(a.slice(1))));break;case \"S\":\"C\"==c||\"S\"==c?(c=2*b.x-b.bx,b=2*b.y-b.by):(c=b.x,b=b.y);a=[\"C\",c,b].concat(a.slice(1));break;case \"T\":\"Q\"==c||\"T\"==c?(b.qx=2*b.x-b.qx,b.qy=2*b.y-b.qy):(b.qx=b.x,b.qy=b.y);a=[\"C\"].concat(J(b.x,b.y,b.qx,b.qy,a[1],a[2]));break;case \"Q\":b.qx=a[1];b.qy=a[2];a=[\"C\"].concat(J(b.x,b.y,a[1],a[2],a[3],a[4]));break;case \"L\":a=[\"C\"].concat(h(b.x,b.y,a[1],a[2]));break;case \"H\":a=[\"C\"].concat(h(b.x,\n",
       "b.y,a[1],b.y));break;case \"V\":a=[\"C\"].concat(h(b.x,b.y,b.x,a[1]));break;case \"Z\":a=[\"C\"].concat(h(b.x,b.y,b.X,b.Y))}return a},s=function(a,b){if(7<a[b].length){a[b].shift();for(var c=a[b];c.length;)q[b]=\"A\",l&&(u[b]=\"A\"),a.splice(b++,0,[\"C\"].concat(c.splice(0,6)));a.splice(b,1);v=W(f.length,l&&l.length||0)}},r=function(a,b,c,d,e){a&&b&&\"M\"==a[e][0]&&\"M\"!=b[e][0]&&(b.splice(e,0,[\"M\",d.x,d.y]),c.bx=0,c.by=0,c.x=a[e][1],c.y=a[e][2],v=W(f.length,l&&l.length||0))},q=[],u=[],c=\"\",t=\"\",x=0,v=W(f.length,\n",
       "l&&l.length||0);for(;x<v;x++){f[x]&&(c=f[x][0]);\"C\"!=c&&(q[x]=c,x&&(t=q[x-1]));f[x]=p(f[x],n,t);\"A\"!=q[x]&&\"C\"==c&&(q[x]=\"C\");s(f,x);l&&(l[x]&&(c=l[x][0]),\"C\"!=c&&(u[x]=c,x&&(t=u[x-1])),l[x]=p(l[x],k,t),\"A\"!=u[x]&&\"C\"==c&&(u[x]=\"C\"),s(l,x));r(f,l,n,k,x);r(l,f,k,n,x);var w=f[x],z=l&&l[x],y=w.length,U=l&&z.length;n.x=w[y-2];n.y=w[y-1];n.bx=$(w[y-4])||n.x;n.by=$(w[y-3])||n.y;k.bx=l&&($(z[U-4])||k.x);k.by=l&&($(z[U-3])||k.y);k.x=l&&z[U-2];k.y=l&&z[U-1]}l||(e.curve=d(f));return l?[f,l]:f}function P(a,\n",
       "b){for(var d=[],e=0,h=a.length;h-2*!b>e;e+=2){var f=[{x:+a[e-2],y:+a[e-1]},{x:+a[e],y:+a[e+1]},{x:+a[e+2],y:+a[e+3]},{x:+a[e+4],y:+a[e+5]}];b?e?h-4==e?f[3]={x:+a[0],y:+a[1]}:h-2==e&&(f[2]={x:+a[0],y:+a[1]},f[3]={x:+a[2],y:+a[3]}):f[0]={x:+a[h-2],y:+a[h-1]}:h-4==e?f[3]=f[2]:e||(f[0]={x:+a[e],y:+a[e+1]});d.push([\"C\",(-f[0].x+6*f[1].x+f[2].x)/6,(-f[0].y+6*f[1].y+f[2].y)/6,(f[1].x+6*f[2].x-f[3].x)/6,(f[1].y+6*f[2].y-f[3].y)/6,f[2].x,f[2].y])}return d}y=k.prototype;var Q=a.is,C=a._.clone,L=\"hasOwnProperty\",\n",
       "N=/,?([a-z]),?/gi,$=parseFloat,F=Math,S=F.PI,X=F.min,W=F.max,ma=F.pow,Z=F.abs;M=n(1);var na=n(),ba=n(0,1),V=a._unit2px;a.path=A;a.path.getTotalLength=M;a.path.getPointAtLength=na;a.path.getSubpath=function(a,b,d){if(1E-6>this.getTotalLength(a)-d)return ba(a,b).end;a=ba(a,d,1);return b?ba(a,b).end:a};y.getTotalLength=function(){if(this.node.getTotalLength)return this.node.getTotalLength()};y.getPointAtLength=function(a){return na(this.attr(\"d\"),a)};y.getSubpath=function(b,d){return a.path.getSubpath(this.attr(\"d\"),\n",
       "b,d)};a._.box=w;a.path.findDotsAtSegment=u;a.path.bezierBBox=p;a.path.isPointInsideBBox=b;a.path.isBBoxIntersect=q;a.path.intersection=function(a,b){return l(a,b)};a.path.intersectionNumber=function(a,b){return l(a,b,1)};a.path.isPointInside=function(a,d,e){var h=r(a);return b(h,d,e)&&1==l(a,[[\"M\",d,e],[\"H\",h.x2+10] ],1)%2};a.path.getBBox=r;a.path.get={path:function(a){return a.attr(\"path\")},circle:function(a){a=V(a);return x(a.cx,a.cy,a.r)},ellipse:function(a){a=V(a);return x(a.cx||0,a.cy||0,a.rx,\n",
       "a.ry)},rect:function(a){a=V(a);return s(a.x||0,a.y||0,a.width,a.height,a.rx,a.ry)},image:function(a){a=V(a);return s(a.x||0,a.y||0,a.width,a.height)},line:function(a){return\"M\"+[a.attr(\"x1\")||0,a.attr(\"y1\")||0,a.attr(\"x2\"),a.attr(\"y2\")]},polyline:function(a){return\"M\"+a.attr(\"points\")},polygon:function(a){return\"M\"+a.attr(\"points\")+\"z\"},deflt:function(a){a=a.node.getBBox();return s(a.x,a.y,a.width,a.height)}};a.path.toRelative=function(b){var e=A(b),h=String.prototype.toLowerCase;if(e.rel)return d(e.rel);\n",
       "a.is(b,\"array\")&&a.is(b&&b[0],\"array\")||(b=a.parsePathString(b));var f=[],l=0,n=0,k=0,p=0,s=0;\"M\"==b[0][0]&&(l=b[0][1],n=b[0][2],k=l,p=n,s++,f.push([\"M\",l,n]));for(var r=b.length;s<r;s++){var q=f[s]=[],x=b[s];if(x[0]!=h.call(x[0]))switch(q[0]=h.call(x[0]),q[0]){case \"a\":q[1]=x[1];q[2]=x[2];q[3]=x[3];q[4]=x[4];q[5]=x[5];q[6]=+(x[6]-l).toFixed(3);q[7]=+(x[7]-n).toFixed(3);break;case \"v\":q[1]=+(x[1]-n).toFixed(3);break;case \"m\":k=x[1],p=x[2];default:for(var c=1,t=x.length;c<t;c++)q[c]=+(x[c]-(c%2?l:\n",
       "n)).toFixed(3)}else for(f[s]=[],\"m\"==x[0]&&(k=x[1]+l,p=x[2]+n),q=0,c=x.length;q<c;q++)f[s][q]=x[q];x=f[s].length;switch(f[s][0]){case \"z\":l=k;n=p;break;case \"h\":l+=+f[s][x-1];break;case \"v\":n+=+f[s][x-1];break;default:l+=+f[s][x-2],n+=+f[s][x-1]}}f.toString=z;e.rel=d(f);return f};a.path.toAbsolute=G;a.path.toCubic=I;a.path.map=function(a,b){if(!b)return a;var d,e,h,f,l,n,k;a=I(a);h=0;for(l=a.length;h<l;h++)for(k=a[h],f=1,n=k.length;f<n;f+=2)d=b.x(k[f],k[f+1]),e=b.y(k[f],k[f+1]),k[f]=d,k[f+1]=e;return a};\n",
       "a.path.toString=z;a.path.clone=d});C.plugin(function(a,v,y,C){var A=Math.max,w=Math.min,z=function(a){this.items=[];this.bindings={};this.length=0;this.type=\"set\";if(a)for(var f=0,n=a.length;f<n;f++)a[f]&&(this[this.items.length]=this.items[this.items.length]=a[f],this.length++)};v=z.prototype;v.push=function(){for(var a,f,n=0,k=arguments.length;n<k;n++)if(a=arguments[n])f=this.items.length,this[f]=this.items[f]=a,this.length++;return this};v.pop=function(){this.length&&delete this[this.length--];\n",
       "return this.items.pop()};v.forEach=function(a,f){for(var n=0,k=this.items.length;n<k&&!1!==a.call(f,this.items[n],n);n++);return this};v.animate=function(d,f,n,u){\"function\"!=typeof n||n.length||(u=n,n=L.linear);d instanceof a._.Animation&&(u=d.callback,n=d.easing,f=n.dur,d=d.attr);var p=arguments;if(a.is(d,\"array\")&&a.is(p[p.length-1],\"array\"))var b=!0;var q,e=function(){q?this.b=q:q=this.b},l=0,r=u&&function(){l++==this.length&&u.call(this)};return this.forEach(function(a,l){k.once(\"snap.animcreated.\"+\n",
       "a.id,e);b?p[l]&&a.animate.apply(a,p[l]):a.animate(d,f,n,r)})};v.remove=function(){for(;this.length;)this.pop().remove();return this};v.bind=function(a,f,k){var u={};if(\"function\"==typeof f)this.bindings[a]=f;else{var p=k||a;this.bindings[a]=function(a){u[p]=a;f.attr(u)}}return this};v.attr=function(a){var f={},k;for(k in a)if(this.bindings[k])this.bindings[k](a[k]);else f[k]=a[k];a=0;for(k=this.items.length;a<k;a++)this.items[a].attr(f);return this};v.clear=function(){for(;this.length;)this.pop()};\n",
       "v.splice=function(a,f,k){a=0>a?A(this.length+a,0):a;f=A(0,w(this.length-a,f));var u=[],p=[],b=[],q;for(q=2;q<arguments.length;q++)b.push(arguments[q]);for(q=0;q<f;q++)p.push(this[a+q]);for(;q<this.length-a;q++)u.push(this[a+q]);var e=b.length;for(q=0;q<e+u.length;q++)this.items[a+q]=this[a+q]=q<e?b[q]:u[q-e];for(q=this.items.length=this.length-=f-e;this[q];)delete this[q++];return new z(p)};v.exclude=function(a){for(var f=0,k=this.length;f<k;f++)if(this[f]==a)return this.splice(f,1),!0;return!1};\n",
       "v.insertAfter=function(a){for(var f=this.items.length;f--;)this.items[f].insertAfter(a);return this};v.getBBox=function(){for(var a=[],f=[],k=[],u=[],p=this.items.length;p--;)if(!this.items[p].removed){var b=this.items[p].getBBox();a.push(b.x);f.push(b.y);k.push(b.x+b.width);u.push(b.y+b.height)}a=w.apply(0,a);f=w.apply(0,f);k=A.apply(0,k);u=A.apply(0,u);return{x:a,y:f,x2:k,y2:u,width:k-a,height:u-f,cx:a+(k-a)/2,cy:f+(u-f)/2}};v.clone=function(a){a=new z;for(var f=0,k=this.items.length;f<k;f++)a.push(this.items[f].clone());\n",
       "return a};v.toString=function(){return\"Snap\\u2018s set\"};v.type=\"set\";a.set=function(){var a=new z;arguments.length&&a.push.apply(a,Array.prototype.slice.call(arguments,0));return a}});C.plugin(function(a,v,y,C){function A(a){var b=a[0];switch(b.toLowerCase()){case \"t\":return[b,0,0];case \"m\":return[b,1,0,0,1,0,0];case \"r\":return 4==a.length?[b,0,a[2],a[3] ]:[b,0];case \"s\":return 5==a.length?[b,1,1,a[3],a[4] ]:3==a.length?[b,1,1]:[b,1]}}function w(b,d,f){d=q(d).replace(/\\.{3}|\\u2026/g,b);b=a.parseTransformString(b)||\n",
       "[];d=a.parseTransformString(d)||[];for(var k=Math.max(b.length,d.length),p=[],v=[],h=0,w,z,y,I;h<k;h++){y=b[h]||A(d[h]);I=d[h]||A(y);if(y[0]!=I[0]||\"r\"==y[0].toLowerCase()&&(y[2]!=I[2]||y[3]!=I[3])||\"s\"==y[0].toLowerCase()&&(y[3]!=I[3]||y[4]!=I[4])){b=a._.transform2matrix(b,f());d=a._.transform2matrix(d,f());p=[[\"m\",b.a,b.b,b.c,b.d,b.e,b.f] ];v=[[\"m\",d.a,d.b,d.c,d.d,d.e,d.f] ];break}p[h]=[];v[h]=[];w=0;for(z=Math.max(y.length,I.length);w<z;w++)w in y&&(p[h][w]=y[w]),w in I&&(v[h][w]=I[w])}return{from:u(p),\n",
       "to:u(v),f:n(p)}}function z(a){return a}function d(a){return function(b){return+b.toFixed(3)+a}}function f(b){return a.rgb(b[0],b[1],b[2])}function n(a){var b=0,d,f,k,n,h,p,q=[];d=0;for(f=a.length;d<f;d++){h=\"[\";p=['\"'+a[d][0]+'\"'];k=1;for(n=a[d].length;k<n;k++)p[k]=\"val[\"+b++ +\"]\";h+=p+\"]\";q[d]=h}return Function(\"val\",\"return Snap.path.toString.call([\"+q+\"])\")}function u(a){for(var b=[],d=0,f=a.length;d<f;d++)for(var k=1,n=a[d].length;k<n;k++)b.push(a[d][k]);return b}var p={},b=/[a-z]+$/i,q=String;\n",
       "p.stroke=p.fill=\"colour\";v.prototype.equal=function(a,b){return k(\"snap.util.equal\",this,a,b).firstDefined()};k.on(\"snap.util.equal\",function(e,k){var r,s;r=q(this.attr(e)||\"\");var x=this;if(r==+r&&k==+k)return{from:+r,to:+k,f:z};if(\"colour\"==p[e])return r=a.color(r),s=a.color(k),{from:[r.r,r.g,r.b,r.opacity],to:[s.r,s.g,s.b,s.opacity],f:f};if(\"transform\"==e||\"gradientTransform\"==e||\"patternTransform\"==e)return k instanceof a.Matrix&&(k=k.toTransformString()),a._.rgTransform.test(k)||(k=a._.svgTransform2string(k)),\n",
       "w(r,k,function(){return x.getBBox(1)});if(\"d\"==e||\"path\"==e)return r=a.path.toCubic(r,k),{from:u(r[0]),to:u(r[1]),f:n(r[0])};if(\"points\"==e)return r=q(r).split(a._.separator),s=q(k).split(a._.separator),{from:r,to:s,f:function(a){return a}};aUnit=r.match(b);s=q(k).match(b);return aUnit&&aUnit==s?{from:parseFloat(r),to:parseFloat(k),f:d(aUnit)}:{from:this.asPX(e),to:this.asPX(e,k),f:z}})});C.plugin(function(a,v,y,C){var A=v.prototype,w=\"createTouch\"in C.doc;v=\"click dblclick mousedown mousemove mouseout mouseover mouseup touchstart touchmove touchend touchcancel\".split(\" \");\n",
       "var z={mousedown:\"touchstart\",mousemove:\"touchmove\",mouseup:\"touchend\"},d=function(a,b){var d=\"y\"==a?\"scrollTop\":\"scrollLeft\",e=b&&b.node?b.node.ownerDocument:C.doc;return e[d in e.documentElement?\"documentElement\":\"body\"][d]},f=function(){this.returnValue=!1},n=function(){return this.originalEvent.preventDefault()},u=function(){this.cancelBubble=!0},p=function(){return this.originalEvent.stopPropagation()},b=function(){if(C.doc.addEventListener)return function(a,b,e,f){var k=w&&z[b]?z[b]:b,l=function(k){var l=\n",
       "d(\"y\",f),q=d(\"x\",f);if(w&&z.hasOwnProperty(b))for(var r=0,u=k.targetTouches&&k.targetTouches.length;r<u;r++)if(k.targetTouches[r].target==a||a.contains(k.targetTouches[r].target)){u=k;k=k.targetTouches[r];k.originalEvent=u;k.preventDefault=n;k.stopPropagation=p;break}return e.call(f,k,k.clientX+q,k.clientY+l)};b!==k&&a.addEventListener(b,l,!1);a.addEventListener(k,l,!1);return function(){b!==k&&a.removeEventListener(b,l,!1);a.removeEventListener(k,l,!1);return!0}};if(C.doc.attachEvent)return function(a,\n",
       "b,e,h){var k=function(a){a=a||h.node.ownerDocument.window.event;var b=d(\"y\",h),k=d(\"x\",h),k=a.clientX+k,b=a.clientY+b;a.preventDefault=a.preventDefault||f;a.stopPropagation=a.stopPropagation||u;return e.call(h,a,k,b)};a.attachEvent(\"on\"+b,k);return function(){a.detachEvent(\"on\"+b,k);return!0}}}(),q=[],e=function(a){for(var b=a.clientX,e=a.clientY,f=d(\"y\"),l=d(\"x\"),n,p=q.length;p--;){n=q[p];if(w)for(var r=a.touches&&a.touches.length,u;r--;){if(u=a.touches[r],u.identifier==n.el._drag.id||n.el.node.contains(u.target)){b=\n",
       "u.clientX;e=u.clientY;(a.originalEvent?a.originalEvent:a).preventDefault();break}}else a.preventDefault();b+=l;e+=f;k(\"snap.drag.move.\"+n.el.id,n.move_scope||n.el,b-n.el._drag.x,e-n.el._drag.y,b,e,a)}},l=function(b){a.unmousemove(e).unmouseup(l);for(var d=q.length,f;d--;)f=q[d],f.el._drag={},k(\"snap.drag.end.\"+f.el.id,f.end_scope||f.start_scope||f.move_scope||f.el,b);q=[]};for(y=v.length;y--;)(function(d){a[d]=A[d]=function(e,f){a.is(e,\"function\")&&(this.events=this.events||[],this.events.push({name:d,\n",
       "f:e,unbind:b(this.node||document,d,e,f||this)}));return this};a[\"un\"+d]=A[\"un\"+d]=function(a){for(var b=this.events||[],e=b.length;e--;)if(b[e].name==d&&(b[e].f==a||!a)){b[e].unbind();b.splice(e,1);!b.length&&delete this.events;break}return this}})(v[y]);A.hover=function(a,b,d,e){return this.mouseover(a,d).mouseout(b,e||d)};A.unhover=function(a,b){return this.unmouseover(a).unmouseout(b)};var r=[];A.drag=function(b,d,f,h,n,p){function u(r,v,w){(r.originalEvent||r).preventDefault();this._drag.x=v;\n",
       "this._drag.y=w;this._drag.id=r.identifier;!q.length&&a.mousemove(e).mouseup(l);q.push({el:this,move_scope:h,start_scope:n,end_scope:p});d&&k.on(\"snap.drag.start.\"+this.id,d);b&&k.on(\"snap.drag.move.\"+this.id,b);f&&k.on(\"snap.drag.end.\"+this.id,f);k(\"snap.drag.start.\"+this.id,n||h||this,v,w,r)}if(!arguments.length){var v;return this.drag(function(a,b){this.attr({transform:v+(v?\"T\":\"t\")+[a,b]})},function(){v=this.transform().local})}this._drag={};r.push({el:this,start:u});this.mousedown(u);return this};\n",
       "A.undrag=function(){for(var b=r.length;b--;)r[b].el==this&&(this.unmousedown(r[b].start),r.splice(b,1),k.unbind(\"snap.drag.*.\"+this.id));!r.length&&a.unmousemove(e).unmouseup(l);return this}});C.plugin(function(a,v,y,C){y=y.prototype;var A=/^\\s*url\\((.+)\\)/,w=String,z=a._.$;a.filter={};y.filter=function(d){var f=this;\"svg\"!=f.type&&(f=f.paper);d=a.parse(w(d));var k=a._.id(),u=z(\"filter\");z(u,{id:k,filterUnits:\"userSpaceOnUse\"});u.appendChild(d.node);f.defs.appendChild(u);return new v(u)};k.on(\"snap.util.getattr.filter\",\n",
       "function(){k.stop();var d=z(this.node,\"filter\");if(d)return(d=w(d).match(A))&&a.select(d[1])});k.on(\"snap.util.attr.filter\",function(d){if(d instanceof v&&\"filter\"==d.type){k.stop();var f=d.node.id;f||(z(d.node,{id:d.id}),f=d.id);z(this.node,{filter:a.url(f)})}d&&\"none\"!=d||(k.stop(),this.node.removeAttribute(\"filter\"))});a.filter.blur=function(d,f){null==d&&(d=2);return a.format('<feGaussianBlur stdDeviation=\"{def}\"/>',{def:null==f?d:[d,f]})};a.filter.blur.toString=function(){return this()};a.filter.shadow=\n",
       "function(d,f,k,u,p){\"string\"==typeof k&&(p=u=k,k=4);\"string\"!=typeof u&&(p=u,u=\"#000\");null==k&&(k=4);null==p&&(p=1);null==d&&(d=0,f=2);null==f&&(f=d);u=a.color(u||\"#000\");return a.format('<feGaussianBlur in=\"SourceAlpha\" stdDeviation=\"{blur}\"/><feOffset dx=\"{dx}\" dy=\"{dy}\" result=\"offsetblur\"/><feFlood flood-color=\"{color}\"/><feComposite in2=\"offsetblur\" operator=\"in\"/><feComponentTransfer><feFuncA type=\"linear\" slope=\"{opacity}\"/></feComponentTransfer><feMerge><feMergeNode/><feMergeNode in=\"SourceGraphic\"/></feMerge>',\n",
       "{color:u,dx:d,dy:f,blur:k,opacity:p})};a.filter.shadow.toString=function(){return this()};a.filter.grayscale=function(d){null==d&&(d=1);return a.format('<feColorMatrix type=\"matrix\" values=\"{a} {b} {c} 0 0 {d} {e} {f} 0 0 {g} {b} {h} 0 0 0 0 0 1 0\"/>',{a:0.2126+0.7874*(1-d),b:0.7152-0.7152*(1-d),c:0.0722-0.0722*(1-d),d:0.2126-0.2126*(1-d),e:0.7152+0.2848*(1-d),f:0.0722-0.0722*(1-d),g:0.2126-0.2126*(1-d),h:0.0722+0.9278*(1-d)})};a.filter.grayscale.toString=function(){return this()};a.filter.sepia=\n",
       "function(d){null==d&&(d=1);return a.format('<feColorMatrix type=\"matrix\" values=\"{a} {b} {c} 0 0 {d} {e} {f} 0 0 {g} {h} {i} 0 0 0 0 0 1 0\"/>',{a:0.393+0.607*(1-d),b:0.769-0.769*(1-d),c:0.189-0.189*(1-d),d:0.349-0.349*(1-d),e:0.686+0.314*(1-d),f:0.168-0.168*(1-d),g:0.272-0.272*(1-d),h:0.534-0.534*(1-d),i:0.131+0.869*(1-d)})};a.filter.sepia.toString=function(){return this()};a.filter.saturate=function(d){null==d&&(d=1);return a.format('<feColorMatrix type=\"saturate\" values=\"{amount}\"/>',{amount:1-\n",
       "d})};a.filter.saturate.toString=function(){return this()};a.filter.hueRotate=function(d){return a.format('<feColorMatrix type=\"hueRotate\" values=\"{angle}\"/>',{angle:d||0})};a.filter.hueRotate.toString=function(){return this()};a.filter.invert=function(d){null==d&&(d=1);return a.format('<feComponentTransfer><feFuncR type=\"table\" tableValues=\"{amount} {amount2}\"/><feFuncG type=\"table\" tableValues=\"{amount} {amount2}\"/><feFuncB type=\"table\" tableValues=\"{amount} {amount2}\"/></feComponentTransfer>',{amount:d,\n",
       "amount2:1-d})};a.filter.invert.toString=function(){return this()};a.filter.brightness=function(d){null==d&&(d=1);return a.format('<feComponentTransfer><feFuncR type=\"linear\" slope=\"{amount}\"/><feFuncG type=\"linear\" slope=\"{amount}\"/><feFuncB type=\"linear\" slope=\"{amount}\"/></feComponentTransfer>',{amount:d})};a.filter.brightness.toString=function(){return this()};a.filter.contrast=function(d){null==d&&(d=1);return a.format('<feComponentTransfer><feFuncR type=\"linear\" slope=\"{amount}\" intercept=\"{amount2}\"/><feFuncG type=\"linear\" slope=\"{amount}\" intercept=\"{amount2}\"/><feFuncB type=\"linear\" slope=\"{amount}\" intercept=\"{amount2}\"/></feComponentTransfer>',\n",
       "{amount:d,amount2:0.5-d/2})};a.filter.contrast.toString=function(){return this()}});return C});\n",
       "\n",
       "]]> </script>\n",
       "</svg>\n"
      ],
      "text/plain": [
       "Compose.Context(Measures.BoundingBox{Tuple{Measures.Length{:w, Float64}, Measures.Length{:h, Float64}}, Tuple{Measures.Length{:w, Float64}, Measures.Length{:h, Float64}}}((0.0w, 0.0h), (1.0w, 1.0h)), Compose.UnitBox{Float64, Float64, Float64, Float64}(-1.2, -1.2, 2.4, 2.4, 0.0mm, 0.0mm, 0.0mm, 0.0mm), nothing, nothing, nothing, List([Compose.Context(Measures.BoundingBox{Tuple{Measures.Length{:w, Float64}, Measures.Length{:h, Float64}}, Tuple{Measures.Length{:w, Float64}, Measures.Length{:h, Float64}}}((0.0w, 0.0h), (1.0w, 1.0h)), nothing, nothing, nothing, nothing, List([]), List([Compose.Form{Compose.LinePrimitive}(Compose.LinePrimitive[Compose.LinePrimitive{Tuple{Measures.Measure, Measures.Measure}}(Tuple{Measures.Measure, Measures.Measure}[(0.9854871594833243cx, -0.06522011326594927cy), (0.9154817084190947cx, -0.37982175464667983cy)]), Compose.LinePrimitive{Tuple{Measures.Measure, Measures.Measure}}(Tuple{Measures.Measure, Measures.Measure}[(0.900968867902419cx, 0.3782265574345228cy), (0.900968867902419cx, -0.37822655743452305cy)]), Compose.LinePrimitive{Tuple{Measures.Measure, Measures.Measure}}(Tuple{Measures.Measure, Measures.Measure}[(0.6234898018587336cx, 0.7351224253267322cy), (0.6234898018587334cx, -0.7351224253267322cy)]), Compose.LinePrimitive{Tuple{Measures.Measure, Measures.Measure}}(Tuple{Measures.Measure, Measures.Measure}[(0.6380026423754093cx, 0.736717622538889cy), (0.8864560273857434cx, -0.37982175464667983cy)]), Compose.LinePrimitive{Tuple{Measures.Measure, Measures.Measure}}(Tuple{Measures.Measure, Measures.Measure}[(0.22252093395631434cx, 0.9331846895218939cy), (0.22252093395631434cx, -0.9331846895218939cy)]), Compose.LinePrimitive{Tuple{Measures.Measure, Measures.Measure}}(Tuple{Measures.Measure, Measures.Measure}[(0.23703377447298998cx, 0.9347798867340508cy), (0.6089769613420577cx, -0.7367176225388891cy)]), Compose.LinePrimitive{Tuple{Measures.Measure, Measures.Measure}}(Tuple{Measures.Measure, Measures.Measure}[(0.25091682578623314cx, 0.9395189365051402cy), (0.8725729760725003cx, -0.3845608044177693cy)]), Compose.LinePrimitive{Tuple{Measures.Measure, Measures.Measure}}(Tuple{Measures.Measure, Measures.Measure}[(-0.2080080934396387cx, 0.9347798867340508cy), (0.2080080934396387cx, -0.9347798867340508cy)]), Compose.LinePrimitive{Tuple{Measures.Measure, Measures.Measure}}(Tuple{Measures.Measure, Measures.Measure}[(-0.19412504212639553cx, 0.9395189365051402cy), (0.5950939100288146cx, -0.7414566723099785cy)]), Compose.LinePrimitive{Tuple{Measures.Measure, Measures.Measure}}(Tuple{Measures.Measure, Measures.Measure}[(-0.18151011952159574cx, 0.9472515515518533cy), (0.8599580534677005cx, -0.3922934194644824cy)])  …  Compose.LinePrimitive{Tuple{Measures.Measure, Measures.Measure}}(Tuple{Measures.Measure, Measures.Measure}[(-0.9716041081700812cx, -0.060481063494859606cy), (-0.6518856936886525cx, -0.7414566723099782cy)]), Compose.LinePrimitive{Tuple{Measures.Measure, Measures.Measure}}(Tuple{Measures.Measure, Measures.Measure}[(-0.9589891855652815cx, -0.052748448448146495cy), (-0.2635317483910331cx, -0.9472515515518533cy)]), Compose.LinePrimitive{Tuple{Measures.Measure, Measures.Measure}}(Tuple{Measures.Measure, Measures.Measure}[(-0.948282735961353cx, -0.04230378605565434cy), (0.17080366991766743cx, -0.9576962139443455cy)]), Compose.LinePrimitive{Tuple{Measures.Measure, Measures.Measure}}(Tuple{Measures.Measure, Measures.Measure}[(-0.9400945201193797cx, -0.029590863362840412cy), (0.563584321978113cx, -0.7723468724419976cy)]), Compose.LinePrimitive{Tuple{Measures.Measure, Measures.Measure}}(Tuple{Measures.Measure, Measures.Measure}[(-0.9349437416937718cx, -0.01523052755090994cy), (0.8359126095961908cx, -0.429811340361719cy)]), Compose.LinePrimitive{Tuple{Measures.Measure, Measures.Measure}}(Tuple{Measures.Measure, Measures.Measure}[(-0.8599580534677006cx, -0.4977903163607754cy), (-0.6645006162934523cx, -0.7491892873566913cy)]), Compose.LinePrimitive{Tuple{Measures.Measure, Measures.Measure}}(Tuple{Measures.Measure, Measures.Measure}[(-0.8492516038637722cx, -0.4873456539682832cy), (-0.27423819799496146cx, -0.9576962139443455cy)]), Compose.LinePrimitive{Tuple{Measures.Measure, Measures.Measure}}(Tuple{Measures.Measure, Measures.Measure}[(-0.8410633880217988cx, -0.4746327312754693cy), (0.16261545407569397cx, -0.9704091366371593cy)]), Compose.LinePrimitive{Tuple{Measures.Measure, Measures.Measure}}(Tuple{Measures.Measure, Measures.Measure}[(-0.835912609596191cx, -0.4602723954635388cy), (0.5584335435525052cx, -0.7867072082539281cy)]), Compose.LinePrimitive{Tuple{Measures.Measure, Measures.Measure}}(Tuple{Measures.Measure, Measures.Measure}[(-0.8341535574243131cx, -0.4450418679126287cy), (0.834153557424313cx, -0.44504186791262906cy)])], Symbol(\"\"))]), List([Compose.Property{Compose.LineWidthPrimitive}(Compose.LineWidthPrimitive[Compose.LineWidthPrimitive(0.8017837257372732mm)]), Compose.Property{Compose.FillPrimitive}(Compose.FillPrimitive[Compose.FillPrimitive(RGBA{Float64}(0.0,0.0,0.0,0.0))]), Compose.Property{Compose.StrokePrimitive}(Compose.StrokePrimitive[Compose.StrokePrimitive(RGBA{Float64}(0.8274509803921568,0.8274509803921568,0.8274509803921568,1.0))])]), 0, false, false, false, false, nothing, nothing, 0.0, Symbol(\"\")), Compose.Context(Measures.BoundingBox{Tuple{Measures.Length{:w, Float64}, Measures.Length{:h, Float64}}, Tuple{Measures.Length{:w, Float64}, Measures.Length{:h, Float64}}}((0.0w, 0.0h), (1.0w, 1.0h)), nothing, nothing, nothing, nothing, List([]), List([]), List([Compose.Property{Compose.LineWidthPrimitive}(Compose.LineWidthPrimitive[Compose.LineWidthPrimitive(0.8017837257372732mm)]), Compose.Property{Compose.StrokePrimitive}(Compose.StrokePrimitive[Compose.StrokePrimitive(RGBA{Float64}(0.8274509803921568,0.8274509803921568,0.8274509803921568,1.0))])]), 0, false, false, false, false, nothing, nothing, 0.0, Symbol(\"\")), Compose.Context(Measures.BoundingBox{Tuple{Measures.Length{:w, Float64}, Measures.Length{:h, Float64}}, Tuple{Measures.Length{:w, Float64}, Measures.Length{:h, Float64}}}((0.0w, 0.0h), (1.0w, 1.0h)), nothing, nothing, nothing, nothing, List([]), List([]), List([Compose.Property{Compose.FontSizePrimitive}(Compose.FontSizePrimitive[Compose.FontSizePrimitive(4.0mm)]), Compose.Property{Compose.StrokePrimitive}(Compose.StrokePrimitive[Compose.StrokePrimitive(RGBA{Float64}(0.0,0.0,0.0,0.0))]), Compose.Property{Compose.FillPrimitive}(Compose.FillPrimitive[Compose.FillPrimitive(RGBA{Float64}(0.0,0.0,0.0,1.0))])]), 0, false, false, false, false, nothing, nothing, 0.0, Symbol(\"\")), Compose.Context(Measures.BoundingBox{Tuple{Measures.Length{:w, Float64}, Measures.Length{:h, Float64}}, Tuple{Measures.Length{:w, Float64}, Measures.Length{:h, Float64}}}((0.0w, 0.0h), (1.0w, 1.0h)), nothing, nothing, nothing, nothing, List([]), List([Compose.Form{Compose.CirclePrimitive{Tuple{Measures.Measure, Measures.Measure}, Measures.Measure}}(Compose.CirclePrimitive{Tuple{Measures.Measure, Measures.Measure}, Measures.Measure}[Compose.CirclePrimitive{Tuple{Measures.Measure, Measures.Measure}, Measures.Measure}((1.0cx, 0.0cy), 0.026726124191242442w), Compose.CirclePrimitive{Tuple{Measures.Measure, Measures.Measure}, Measures.Measure}((0.900968867902419cx, 0.4450418679126289cy), 0.026726124191242442w), Compose.CirclePrimitive{Tuple{Measures.Measure, Measures.Measure}, Measures.Measure}((0.6234898018587336cx, 0.8019377358048383cy), 0.026726124191242442w), Compose.CirclePrimitive{Tuple{Measures.Measure, Measures.Measure}, Measures.Measure}((0.22252093395631434cx, 1.0cy), 0.026726124191242442w), Compose.CirclePrimitive{Tuple{Measures.Measure, Measures.Measure}, Measures.Measure}((-0.22252093395631434cx, 1.0cy), 0.026726124191242442w), Compose.CirclePrimitive{Tuple{Measures.Measure, Measures.Measure}, Measures.Measure}((-0.6234898018587335cx, 0.8019377358048383cy), 0.026726124191242442w), Compose.CirclePrimitive{Tuple{Measures.Measure, Measures.Measure}, Measures.Measure}((-0.900968867902419cx, 0.4450418679126289cy), 0.026726124191242442w), Compose.CirclePrimitive{Tuple{Measures.Measure, Measures.Measure}, Measures.Measure}((-1.0cx, 2.220446049250313e-16cy), 0.026726124191242442w), Compose.CirclePrimitive{Tuple{Measures.Measure, Measures.Measure}, Measures.Measure}((-0.9009688679024191cx, -0.4450418679126287cy), 0.026726124191242442w), Compose.CirclePrimitive{Tuple{Measures.Measure, Measures.Measure}, Measures.Measure}((-0.6234898018587337cx, -0.8019377358048381cy), 0.026726124191242442w), Compose.CirclePrimitive{Tuple{Measures.Measure, Measures.Measure}, Measures.Measure}((-0.22252093395631456cx, -1.0cy), 0.026726124191242442w), Compose.CirclePrimitive{Tuple{Measures.Measure, Measures.Measure}, Measures.Measure}((0.22252093395631434cx, -1.0cy), 0.026726124191242442w), Compose.CirclePrimitive{Tuple{Measures.Measure, Measures.Measure}, Measures.Measure}((0.6234898018587334cx, -0.8019377358048383cy), 0.026726124191242442w), Compose.CirclePrimitive{Tuple{Measures.Measure, Measures.Measure}, Measures.Measure}((0.900968867902419cx, -0.4450418679126291cy), 0.026726124191242442w)], Symbol(\"\"))]), List([Compose.Property{Compose.LineWidthPrimitive}(Compose.LineWidthPrimitive[Compose.LineWidthPrimitive(0.0mm)]), Compose.Property{Compose.StrokePrimitive}(Compose.StrokePrimitive[Compose.StrokePrimitive(RGBA{Float64}(0.0,0.0,0.0,0.0))]), Compose.Property{Compose.FillPrimitive}(Compose.FillPrimitive[Compose.FillPrimitive(RGBA{Float64}(0.12549019607843137,0.6980392156862745,0.6666666666666666,1.0)), Compose.FillPrimitive(RGBA{Float64}(0.12549019607843137,0.6980392156862745,0.6666666666666666,1.0)), Compose.FillPrimitive(RGBA{Float64}(0.12549019607843137,0.6980392156862745,0.6666666666666666,1.0)), Compose.FillPrimitive(RGBA{Float64}(0.12549019607843137,0.6980392156862745,0.6666666666666666,1.0)), Compose.FillPrimitive(RGBA{Float64}(0.12549019607843137,0.6980392156862745,0.6666666666666666,1.0)), Compose.FillPrimitive(RGBA{Float64}(0.12549019607843137,0.6980392156862745,0.6666666666666666,1.0)), Compose.FillPrimitive(RGBA{Float64}(0.12549019607843137,0.6980392156862745,0.6666666666666666,1.0)), Compose.FillPrimitive(RGBA{Float64}(0.12549019607843137,0.6980392156862745,0.6666666666666666,1.0)), Compose.FillPrimitive(RGBA{Float64}(0.12549019607843137,0.6980392156862745,0.6666666666666666,1.0)), Compose.FillPrimitive(RGBA{Float64}(1.0,0.6470588235294118,0.0,1.0)), Compose.FillPrimitive(RGBA{Float64}(1.0,0.6470588235294118,0.0,1.0)), Compose.FillPrimitive(RGBA{Float64}(1.0,0.6470588235294118,0.0,1.0)), Compose.FillPrimitive(RGBA{Float64}(1.0,0.6470588235294118,0.0,1.0)), Compose.FillPrimitive(RGBA{Float64}(1.0,0.6470588235294118,0.0,1.0))])]), 0, false, false, false, false, nothing, nothing, 0.0, Symbol(\"\")), Compose.Context(Measures.BoundingBox{Tuple{Measures.Length{:w, Float64}, Measures.Length{:h, Float64}}, Tuple{Measures.Length{:w, Float64}, Measures.Length{:h, Float64}}}((0.0w, 0.0h), (1.0w, 1.0h)), nothing, nothing, nothing, nothing, List([]), List([Compose.Form{Compose.TextPrimitive{Tuple{Measures.Length{:cx, Float64}, Measures.Length{:cy, Float64}}, Compose.Rotation{Tuple{Measures.Length{:w, Float64}, Measures.Length{:h, Float64}}}, Tuple{Measures.AbsoluteLength, Measures.AbsoluteLength}}}(Compose.TextPrimitive{Tuple{Measures.Length{:cx, Float64}, Measures.Length{:cy, Float64}}, Compose.Rotation{Tuple{Measures.Length{:w, Float64}, Measures.Length{:h, Float64}}}, Tuple{Measures.AbsoluteLength, Measures.AbsoluteLength}}[Compose.TextPrimitive{Tuple{Measures.Length{:cx, Float64}, Measures.Length{:cy, Float64}}, Compose.Rotation{Tuple{Measures.Length{:w, Float64}, Measures.Length{:h, Float64}}}, Tuple{Measures.AbsoluteLength, Measures.AbsoluteLength}}((1.0cx, 0.0cy), \"1\", Compose.HCenter(), Compose.VCenter(), Compose.Rotation{Tuple{Measures.Length{:w, Float64}, Measures.Length{:h, Float64}}}(0.0, (0.5w, 0.5h)), (0.0mm, 0.0mm)), Compose.TextPrimitive{Tuple{Measures.Length{:cx, Float64}, Measures.Length{:cy, Float64}}, Compose.Rotation{Tuple{Measures.Length{:w, Float64}, Measures.Length{:h, Float64}}}, Tuple{Measures.AbsoluteLength, Measures.AbsoluteLength}}((0.900968867902419cx, 0.4450418679126289cy), \"2\", Compose.HCenter(), Compose.VCenter(), Compose.Rotation{Tuple{Measures.Length{:w, Float64}, Measures.Length{:h, Float64}}}(0.0, (0.5w, 0.5h)), (0.0mm, 0.0mm)), Compose.TextPrimitive{Tuple{Measures.Length{:cx, Float64}, Measures.Length{:cy, Float64}}, Compose.Rotation{Tuple{Measures.Length{:w, Float64}, Measures.Length{:h, Float64}}}, Tuple{Measures.AbsoluteLength, Measures.AbsoluteLength}}((0.6234898018587336cx, 0.8019377358048383cy), \"3\", Compose.HCenter(), Compose.VCenter(), Compose.Rotation{Tuple{Measures.Length{:w, Float64}, Measures.Length{:h, Float64}}}(0.0, (0.5w, 0.5h)), (0.0mm, 0.0mm)), Compose.TextPrimitive{Tuple{Measures.Length{:cx, Float64}, Measures.Length{:cy, Float64}}, Compose.Rotation{Tuple{Measures.Length{:w, Float64}, Measures.Length{:h, Float64}}}, Tuple{Measures.AbsoluteLength, Measures.AbsoluteLength}}((0.22252093395631434cx, 1.0cy), \"4\", Compose.HCenter(), Compose.VCenter(), Compose.Rotation{Tuple{Measures.Length{:w, Float64}, Measures.Length{:h, Float64}}}(0.0, (0.5w, 0.5h)), (0.0mm, 0.0mm)), Compose.TextPrimitive{Tuple{Measures.Length{:cx, Float64}, Measures.Length{:cy, Float64}}, Compose.Rotation{Tuple{Measures.Length{:w, Float64}, Measures.Length{:h, Float64}}}, Tuple{Measures.AbsoluteLength, Measures.AbsoluteLength}}((-0.22252093395631434cx, 1.0cy), \"5\", Compose.HCenter(), Compose.VCenter(), Compose.Rotation{Tuple{Measures.Length{:w, Float64}, Measures.Length{:h, Float64}}}(0.0, (0.5w, 0.5h)), (0.0mm, 0.0mm)), Compose.TextPrimitive{Tuple{Measures.Length{:cx, Float64}, Measures.Length{:cy, Float64}}, Compose.Rotation{Tuple{Measures.Length{:w, Float64}, Measures.Length{:h, Float64}}}, Tuple{Measures.AbsoluteLength, Measures.AbsoluteLength}}((-0.6234898018587335cx, 0.8019377358048383cy), \"6\", Compose.HCenter(), Compose.VCenter(), Compose.Rotation{Tuple{Measures.Length{:w, Float64}, Measures.Length{:h, Float64}}}(0.0, (0.5w, 0.5h)), (0.0mm, 0.0mm)), Compose.TextPrimitive{Tuple{Measures.Length{:cx, Float64}, Measures.Length{:cy, Float64}}, Compose.Rotation{Tuple{Measures.Length{:w, Float64}, Measures.Length{:h, Float64}}}, Tuple{Measures.AbsoluteLength, Measures.AbsoluteLength}}((-0.900968867902419cx, 0.4450418679126289cy), \"7\", Compose.HCenter(), Compose.VCenter(), Compose.Rotation{Tuple{Measures.Length{:w, Float64}, Measures.Length{:h, Float64}}}(0.0, (0.5w, 0.5h)), (0.0mm, 0.0mm)), Compose.TextPrimitive{Tuple{Measures.Length{:cx, Float64}, Measures.Length{:cy, Float64}}, Compose.Rotation{Tuple{Measures.Length{:w, Float64}, Measures.Length{:h, Float64}}}, Tuple{Measures.AbsoluteLength, Measures.AbsoluteLength}}((-1.0cx, 2.220446049250313e-16cy), \"8\", Compose.HCenter(), Compose.VCenter(), Compose.Rotation{Tuple{Measures.Length{:w, Float64}, Measures.Length{:h, Float64}}}(0.0, (0.5w, 0.5h)), (0.0mm, 0.0mm)), Compose.TextPrimitive{Tuple{Measures.Length{:cx, Float64}, Measures.Length{:cy, Float64}}, Compose.Rotation{Tuple{Measures.Length{:w, Float64}, Measures.Length{:h, Float64}}}, Tuple{Measures.AbsoluteLength, Measures.AbsoluteLength}}((-0.9009688679024191cx, -0.4450418679126287cy), \"9\", Compose.HCenter(), Compose.VCenter(), Compose.Rotation{Tuple{Measures.Length{:w, Float64}, Measures.Length{:h, Float64}}}(0.0, (0.5w, 0.5h)), (0.0mm, 0.0mm)), Compose.TextPrimitive{Tuple{Measures.Length{:cx, Float64}, Measures.Length{:cy, Float64}}, Compose.Rotation{Tuple{Measures.Length{:w, Float64}, Measures.Length{:h, Float64}}}, Tuple{Measures.AbsoluteLength, Measures.AbsoluteLength}}((-0.6234898018587337cx, -0.8019377358048381cy), \"1\", Compose.HCenter(), Compose.VCenter(), Compose.Rotation{Tuple{Measures.Length{:w, Float64}, Measures.Length{:h, Float64}}}(0.0, (0.5w, 0.5h)), (0.0mm, 0.0mm)), Compose.TextPrimitive{Tuple{Measures.Length{:cx, Float64}, Measures.Length{:cy, Float64}}, Compose.Rotation{Tuple{Measures.Length{:w, Float64}, Measures.Length{:h, Float64}}}, Tuple{Measures.AbsoluteLength, Measures.AbsoluteLength}}((-0.22252093395631456cx, -1.0cy), \"2\", Compose.HCenter(), Compose.VCenter(), Compose.Rotation{Tuple{Measures.Length{:w, Float64}, Measures.Length{:h, Float64}}}(0.0, (0.5w, 0.5h)), (0.0mm, 0.0mm)), Compose.TextPrimitive{Tuple{Measures.Length{:cx, Float64}, Measures.Length{:cy, Float64}}, Compose.Rotation{Tuple{Measures.Length{:w, Float64}, Measures.Length{:h, Float64}}}, Tuple{Measures.AbsoluteLength, Measures.AbsoluteLength}}((0.22252093395631434cx, -1.0cy), \"3\", Compose.HCenter(), Compose.VCenter(), Compose.Rotation{Tuple{Measures.Length{:w, Float64}, Measures.Length{:h, Float64}}}(0.0, (0.5w, 0.5h)), (0.0mm, 0.0mm)), Compose.TextPrimitive{Tuple{Measures.Length{:cx, Float64}, Measures.Length{:cy, Float64}}, Compose.Rotation{Tuple{Measures.Length{:w, Float64}, Measures.Length{:h, Float64}}}, Tuple{Measures.AbsoluteLength, Measures.AbsoluteLength}}((0.6234898018587334cx, -0.8019377358048383cy), \"4\", Compose.HCenter(), Compose.VCenter(), Compose.Rotation{Tuple{Measures.Length{:w, Float64}, Measures.Length{:h, Float64}}}(0.0, (0.5w, 0.5h)), (0.0mm, 0.0mm)), Compose.TextPrimitive{Tuple{Measures.Length{:cx, Float64}, Measures.Length{:cy, Float64}}, Compose.Rotation{Tuple{Measures.Length{:w, Float64}, Measures.Length{:h, Float64}}}, Tuple{Measures.AbsoluteLength, Measures.AbsoluteLength}}((0.900968867902419cx, -0.4450418679126291cy), \"5\", Compose.HCenter(), Compose.VCenter(), Compose.Rotation{Tuple{Measures.Length{:w, Float64}, Measures.Length{:h, Float64}}}(0.0, (0.5w, 0.5h)), (0.0mm, 0.0mm))], Symbol(\"\"))]), List([Compose.Property{Compose.FontSizePrimitive}(Compose.FontSizePrimitive[Compose.FontSizePrimitive(4.0mm)]), Compose.Property{Compose.StrokePrimitive}(Compose.StrokePrimitive[Compose.StrokePrimitive(RGBA{Float64}(0.0,0.0,0.0,0.0))]), Compose.Property{Compose.FillPrimitive}(Compose.FillPrimitive[Compose.FillPrimitive(RGBA{Float64}(0.0,0.0,0.0,1.0))])]), 0, false, false, false, false, nothing, nothing, 0.0, Symbol(\"\"))]), List([]), List([]), 0, false, false, false, false, nothing, nothing, 0.0, Symbol(\"\"))"
      ]
     },
     "execution_count": 27,
     "metadata": {},
     "output_type": "execute_result"
    }
   ],
   "source": [
    "b = BipartiteView(hg)\n",
    "using GraphPlot\n",
    "using LightGraphs\n",
    "nodes, hyperedges = size(hg)\n",
    "nodes_membership = fill(1, nodes)\n",
    "hyperedges_membership = fill(2, hyperedges)\n",
    "\n",
    "membership = vcat(nodes_membership, hyperedges_membership)\n",
    "\n",
    "nodecolor = [\"lightseagreen\", \"orange\"]\n",
    "#membership color\n",
    "nodefillc = nodecolor[membership]\n",
    "gplot(b, nodefillc=nodefillc, nodelabel=vcat(1:9, 1:5), layout=circular_layout)"
   ]
  },
  {
   "cell_type": "code",
   "execution_count": 331,
   "id": "0ee4a1c1",
   "metadata": {},
   "outputs": [
    {
     "data": {
      "text/plain": [
       "3-element Vector{PyObject}:\n",
       " PyObject Dollar\n",
       " PyObject climbs\n",
       " PyObject [as, [inflation, builds, case, [for, [higher, rates]]]]"
      ]
     },
     "execution_count": 331,
     "metadata": {},
     "output_type": "execute_result"
    }
   ],
   "source": [
    "atoms_tokens[[\"C\", \"P\", \"S\"]]"
   ]
  },
  {
   "cell_type": "code",
   "execution_count": 332,
   "id": "20f62504",
   "metadata": {},
   "outputs": [
    {
     "data": {
      "text/plain": [
       "(Union{Nothing, Float64}[nothing nothing … nothing 1.0; nothing nothing … nothing 1.0; … ; 1.0 1.0 … 1.0 1.0; 1.0 1.0 … 1.0 1.0], Dict{Vector{String}, Vector{PyObject}}([\"C\", \"P\", \"M\", \"S\"] => [PyObject Dollar, PyObject edges, PyObject down, PyObject [as, [traders, await, [US, data]]]], [\"C\", \"P\", \"M\", \"T\", \"R\"] => [PyObject Dollar, PyObject edges, PyObject down, PyObject as, PyObject [traders, await, [US, data]]], [\"C\", \"P\", \"M\", \"T\", \"C\", \"P\", \"C\", \"C\", \"C\"] => [PyObject Dollar, PyObject edges, PyObject down, PyObject as, PyObject traders, PyObject await, PyObject US, PyObject jobs, PyObject data], [\"R\"] => [PyObject [Dollar, edges, [down, [as, [traders, await, [US, data]]]]]], [\"C\", \"P\", \"S\"] => [PyObject Dollar, PyObject edges, PyObject [down, [as, [traders, await, [US, data]]]]], [\"C\", \"P\", \"M\", \"T\", \"C\", \"P\", \"C\"] => [PyObject Dollar, PyObject edges, PyObject down, PyObject as, PyObject traders, PyObject await, PyObject [US, data]]))"
      ]
     },
     "execution_count": 332,
     "metadata": {},
     "output_type": "execute_result"
    }
   ],
   "source": [
    "doc = nlp(\"Dollar edges down as traders await US jobs data\")\n",
    "hg, tokens = beta(patterns, doc, alpha(doc, rf), true)"
   ]
  },
  {
   "cell_type": "code",
   "execution_count": 333,
   "id": "51d4f98a",
   "metadata": {},
   "outputs": [
    {
     "data": {
      "text/plain": [
       "9×5 Hypergraph{Float64, Nothing, Nothing, Dict{Int64, Float64}}:\n",
       "  nothing   nothing   nothing   nothing  1.0\n",
       "  nothing   nothing   nothing   nothing  1.0\n",
       "  nothing   nothing   nothing  1.0       1.0\n",
       "  nothing   nothing  1.0       1.0       1.0\n",
       "  nothing  1.0       1.0       1.0       1.0\n",
       "  nothing  1.0       1.0       1.0       1.0\n",
       " 1.0       1.0       1.0       1.0       1.0\n",
       " 1.0       1.0       1.0       1.0       1.0\n",
       " 1.0       1.0       1.0       1.0       1.0"
      ]
     },
     "execution_count": 333,
     "metadata": {},
     "output_type": "execute_result"
    }
   ],
   "source": [
    "hg"
   ]
  },
  {
   "cell_type": "code",
   "execution_count": 334,
   "id": "7c59171d",
   "metadata": {},
   "outputs": [
    {
     "data": {
      "text/plain": [
       "KeySet for a Dict{Vector{String}, Vector{PyObject}} with 6 entries. Keys:\n",
       "  [\"C\", \"P\", \"M\", \"S\"]\n",
       "  [\"C\", \"P\", \"M\", \"T\", \"R\"]\n",
       "  [\"C\", \"P\", \"M\", \"T\", \"C\", \"P\", \"C\", \"C\", \"C\"]\n",
       "  [\"R\"]\n",
       "  [\"C\", \"P\", \"S\"]\n",
       "  [\"C\", \"P\", \"M\", \"T\", \"C\", \"P\", \"C\"]"
      ]
     },
     "execution_count": 334,
     "metadata": {},
     "output_type": "execute_result"
    }
   ],
   "source": [
    "keys(tokens)"
   ]
  },
  {
   "cell_type": "code",
   "execution_count": 335,
   "id": "68374dc4",
   "metadata": {},
   "outputs": [
    {
     "data": {
      "image/png": "[encoded data removed]",
      "text/plain": [
       "PyPlot.Figure(PyObject <Figure size 1000x1000 with 1 Axes>)"
      ]
     },
     "metadata": {},
     "output_type": "display_data"
    },
    {
     "name": "stdout",
     "output_type": "stream",
     "text": [
      "Dict(5 => \"traders\", 4 => \"as\", 6 => \"await\", 7 => \"US\", 2 => \"edges\", 9 => \"data\", 8 => \"jobs\", 3 => \"down\", 1 => \"Dollar\")"
     ]
    }
   ],
   "source": [
    "draw_hg(hg, doc)"
   ]
  },
  {
   "cell_type": "code",
   "execution_count": 336,
   "id": "a8ada378",
   "metadata": {},
   "outputs": [
    {
     "data": {
      "text/plain": [
       "(Union{Nothing, Float64}[nothing nothing 1.0; nothing nothing 1.0; … ; 1.0 1.0 1.0; 1.0 1.0 1.0], Dict{Vector{String}, Vector{PyObject}}([\"R\"] => [PyObject [Dollar, rebounds, [after, [improving, jobs]]]], [\"C\", \"P\", \"T\", \"P\", \"C\"] => [PyObject Dollar, PyObject rebounds, PyObject after, PyObject improving, PyObject jobs], [\"C\", \"P\", \"T\", \"R\"] => [PyObject Dollar, PyObject rebounds, PyObject after, PyObject [improving, jobs]], [\"C\", \"P\", \"S\"] => [PyObject Dollar, PyObject rebounds, PyObject [after, [improving, jobs]]]))"
      ]
     },
     "execution_count": 336,
     "metadata": {},
     "output_type": "execute_result"
    }
   ],
   "source": [
    "doc = nlp(\"Dollar rebounds after improving jobs\")\n",
    "hg, tokens = beta(patterns, doc, alpha(doc, rf), true)"
   ]
  },
  {
   "cell_type": "code",
   "execution_count": 4,
   "id": "f7ce8182",
   "metadata": {},
   "outputs": [
    {
     "data": {
      "text/plain": [
       "get_hg_tokens (generic function with 3 methods)"
      ]
     },
     "execution_count": 4,
     "metadata": {},
     "output_type": "execute_result"
    }
   ],
   "source": [
    "function get_hg_tokens(text, currencies=[], predicates=[])\n",
    "    doc = nlp(text)\n",
    "#     hg, tokens = nothing\n",
    "    try\n",
    "        atoms = alpha(doc, rf)\n",
    "        for (i, token) in enumerate(doc)\n",
    "            if token.text == \",\"\n",
    "                atoms[i] = \"J\"\n",
    "            end\n",
    "            if lowercase(token.text) in currencies\n",
    "                atoms[i] = \"C\"\n",
    "            end\n",
    "            if lowercase(token.text) in predicates\n",
    "                atoms[i] = \"P\"\n",
    "            end\n",
    "        end\n",
    "        beta(patterns, doc, atoms)\n",
    "    catch e\n",
    "        return nothing\n",
    "    end\n",
    "#     return hg, tokens\n",
    "end"
   ]
  },
  {
   "cell_type": "code",
   "execution_count": 2,
   "id": "3def5494",
   "metadata": {},
   "outputs": [],
   "source": [
    "BSON.@load \"articles_short.bson\" articles"
   ]
  },
  {
   "cell_type": "code",
   "execution_count": 3,
   "id": "1c46d4e6",
   "metadata": {},
   "outputs": [
    {
     "data": {
      "text/plain": [
       "903-element Vector{Any}:\n",
       " \"Dollar slips, euro gains as market awaits U.S. CPI data\"\n",
       " \"USDCHF lower but pair remains stuck in the mud\"\n",
       " \"Aussie rises as risk appetite rises\"\n",
       " \"GBPUSD working on its 3rd day higher but the going is relatively slow\"\n",
       " \"EURUSD remains relatively contained although higher on the day\"\n",
       " \"Dollar Edges Lower; Tight Range Ahead of Inflaton Data\"\n",
       " \"Kazakh state sells \\$1.3 billion worth of foreign currency in domestic market in Jan\"\n",
       " \"AUD/USD nudges to two-week high as dollar slips on the day\"\n",
       " \"Dollar Down as Investors Await U.S. Inflation Data\"\n",
       " \"ForexLive Asia FX news wrap: EUR/USD slides a few points\"\n",
       " \"Canadian dollar weakens as oil rally loses momentum\"\n",
       " \"Dollar, euro trade sideways after ECB pushback\"\n",
       " \"Lending data from China is due soon - record new yuan loans expected\"\n",
       " ⋮\n",
       " \"Dollar advances as Fed minutes open door to future taper talks\"\n",
       " \"Dollar Steadies Near Multi-Month Lows; Fed Minutes Loom\"\n",
       " \"GBP/USD Hits 3-Month High but Return of Brexit Boogeyman Will Cap Gains\"\n",
       " \"Dollar slides to 2-1/2 month low as Fed rate hike fears subside\"\n",
       " \"Canadian exporters rejig currency hedges as commodities boom\"\n",
       " \"Dollar Weakens as Fed Officials Point to Lower for Longer\"\n",
       " \"Dollar Down as Investors Bet on U.S. Interest Rates Staying Lower for Longer\"\n",
       " \"Gold Up, Reaches Three-and-a-Half Month High Over Weaker Dollar, Inflation Worries\"\n",
       " \"Dollar inches lower as Treasury yields hold firm\"\n",
       " \"Hungary Takes Pole Position for EU’s First Rate Hike of 2021\"\n",
       " \"Dollar Edges Higher; Covid Cases Rise in Asia\"\n",
       " \"Dollar Up Over Asian COVID-19 Outbreak Worries, But Investors Prepping for Fall\""
      ]
     },
     "execution_count": 3,
     "metadata": {},
     "output_type": "execute_result"
    }
   ],
   "source": [
    "articles"
   ]
  },
  {
   "cell_type": "code",
   "execution_count": 4,
   "id": "fcaea3b2",
   "metadata": {},
   "outputs": [
    {
     "data": {
      "text/plain": [
       "Any[]"
      ]
     },
     "execution_count": 4,
     "metadata": {},
     "output_type": "execute_result"
    }
   ],
   "source": [
    "articles_copy = []"
   ]
  },
  {
   "cell_type": "code",
   "execution_count": 5,
   "id": "5b598969",
   "metadata": {},
   "outputs": [
    {
     "data": {
      "text/plain": [
       "clean_article (generic function with 1 method)"
      ]
     },
     "execution_count": 5,
     "metadata": {},
     "output_type": "execute_result"
    }
   ],
   "source": [
    "function clean_article(article)\n",
    "    article = replace(article, \"U.S.\" => \"US\")\n",
    "    article = replace(article, \"Forex - \" => \"\")\n",
    "    article = replace(article, \"Column: \" => \"\")\n",
    "    article = replace(article, \"FOREX-\" => \"\")\n",
    "#     articles = split(article, \"; \")\n",
    "#     output = Any[]\n",
    "#     for article in articles\n",
    "#         append!(output, split(article, \", \"))\n",
    "#     end\n",
    "#     return output\n",
    "    return split(article, \"; \")\n",
    "end"
   ]
  },
  {
   "cell_type": "code",
   "execution_count": 6,
   "id": "8b232ca3",
   "metadata": {},
   "outputs": [],
   "source": [
    "for article in articles\n",
    "    append!(articles_copy, clean_article(article))\n",
    "end"
   ]
  },
  {
   "cell_type": "code",
   "execution_count": 7,
   "id": "72c11aca",
   "metadata": {},
   "outputs": [
    {
     "data": {
      "text/plain": [
       "1056-element Vector{Any}:\n",
       " \"Dollar slips, euro gains as market awaits US CPI data\"\n",
       " \"USDCHF lower but pair remains stuck in the mud\"\n",
       " \"Aussie rises as risk appetite rises\"\n",
       " \"GBPUSD working on its 3rd day higher but the going is relatively slow\"\n",
       " \"EURUSD remains relatively contained although higher on the day\"\n",
       " \"Dollar Edges Lower\"\n",
       " \"Tight Range Ahead of Inflaton Data\"\n",
       " \"Kazakh state sells \\$1.3 billion worth of foreign currency in domestic market in Jan\"\n",
       " \"AUD/USD nudges to two-week high as dollar slips on the day\"\n",
       " \"Dollar Down as Investors Await US Inflation Data\"\n",
       " \"ForexLive Asia FX news wrap: EUR/USD slides a few points\"\n",
       " \"Canadian dollar weakens as oil rally loses momentum\"\n",
       " \"Dollar, euro trade sideways after ECB pushback\"\n",
       " ⋮\n",
       " \"Fed Minutes Loom\"\n",
       " \"GBP/USD Hits 3-Month High but Return of Brexit Boogeyman Will Cap Gains\"\n",
       " \"Dollar slides to 2-1/2 month low as Fed rate hike fears subside\"\n",
       " \"Canadian exporters rejig currency hedges as commodities boom\"\n",
       " \"Dollar Weakens as Fed Officials Point to Lower for Longer\"\n",
       " \"Dollar Down as Investors Bet on US Interest Rates Staying Lower for Longer\"\n",
       " \"Gold Up, Reaches Three-and-a-Half Month High Over Weaker Dollar, Inflation Worries\"\n",
       " \"Dollar inches lower as Treasury yields hold firm\"\n",
       " \"Hungary Takes Pole Position for EU’s First Rate Hike of 2021\"\n",
       " \"Dollar Edges Higher\"\n",
       " \"Covid Cases Rise in Asia\"\n",
       " \"Dollar Up Over Asian COVID-19 Outbreak Worries, But Investors Prepping for Fall\""
      ]
     },
     "execution_count": 7,
     "metadata": {},
     "output_type": "execute_result"
    }
   ],
   "source": [
    "articles_copy"
   ]
  },
  {
   "cell_type": "code",
   "execution_count": 8,
   "id": "762d1bc0",
   "metadata": {},
   "outputs": [
    {
     "data": {
      "text/plain": [
       "939-element Vector{Any}:\n",
       " \"Dollar slips, euro gains as market awaits US CPI data\"\n",
       " \"USDCHF lower but pair remains stuck in the mud\"\n",
       " \"Aussie rises as risk appetite rises\"\n",
       " \"GBPUSD working on its 3rd day higher but the going is relatively slow\"\n",
       " \"EURUSD remains relatively contained although higher on the day\"\n",
       " \"Dollar Edges Lower\"\n",
       " \"Tight Range Ahead of Inflaton Data\"\n",
       " \"Kazakh state sells \\$1.3 billion worth of foreign currency in domestic market in Jan\"\n",
       " \"AUD/USD nudges to two-week high as dollar slips on the day\"\n",
       " \"Dollar Down as Investors Await US Inflation Data\"\n",
       " \"ForexLive Asia FX news wrap: EUR/USD slides a few points\"\n",
       " \"Canadian dollar weakens as oil rally loses momentum\"\n",
       " \"Dollar, euro trade sideways after ECB pushback\"\n",
       " ⋮\n",
       " \"Dollar Steadies Near Multi-Month Lows\"\n",
       " \"Fed Minutes Loom\"\n",
       " \"GBP/USD Hits 3-Month High but Return of Brexit Boogeyman Will Cap Gains\"\n",
       " \"Dollar slides to 2-1/2 month low as Fed rate hike fears subside\"\n",
       " \"Canadian exporters rejig currency hedges as commodities boom\"\n",
       " \"Dollar Weakens as Fed Officials Point to Lower for Longer\"\n",
       " \"Dollar Down as Investors Bet on US Interest Rates Staying Lower for Longer\"\n",
       " \"Gold Up, Reaches Three-and-a-Half Month High Over Weaker Dollar, Inflation Worries\"\n",
       " \"Dollar inches lower as Treasury yields hold firm\"\n",
       " \"Hungary Takes Pole Position for EU’s First Rate Hike of 2021\"\n",
       " \"Covid Cases Rise in Asia\"\n",
       " \"Dollar Up Over Asian COVID-19 Outbreak Worries, But Investors Prepping for Fall\""
      ]
     },
     "execution_count": 8,
     "metadata": {},
     "output_type": "execute_result"
    }
   ],
   "source": [
    "articles_copy = unique(articles_copy)"
   ]
  },
  {
   "cell_type": "code",
   "execution_count": 9,
   "id": "fdda2040",
   "metadata": {},
   "outputs": [],
   "source": [
    "outfile = \"articles_modified_short.txt\"\n",
    "open(outfile, \"w\") do f\n",
    "  for a in articles_copy\n",
    "    println(f, a)\n",
    "  end\n",
    "end"
   ]
  },
  {
   "cell_type": "code",
   "execution_count": 346,
   "id": "22388caf",
   "metadata": {},
   "outputs": [
    {
     "data": {
      "text/plain": [
       "Dict{Int64, Union{Nothing, Tuple{Hypergraph{Float64, Nothing, Nothing, Dict{Int64, Float64}}, Dict{Vector{String}, Vector{PyObject}}}}} with 1851 entries:\n",
       "  1144 => (Union{Nothing, Float64}[1.0 nothing 1.0 1.0; 1.0 nothing 1.0 1.0; … ; nothing 1.0 nothing 1.0; nothing 1.0 nothing 1.0], Dict{Vector{String}, Vector{PyObject}}([\"S\"]=>[PyObject [[[Dollar, Ground], on], [US, Hopes]]], [\"C\", \"T\", \"C\"]=>[PyObject [Dollar, Ground], PyObject on, PyObject [US, Hopes]], [\"S\", \"C\"]=>[PyObject [[Dollar, Ground], on], PyObject [US, Hopes]], [\"C\", \"T\", \"C\", \"C\", \"C\"]=>[PyObject [Dollar, Ground], PyObject on, PyObject US, PyObject Stimulus, PyObject Hopes], [\"C\", \"C\", \"C\", \"T\", \"C\", \"C\", \"C\"]=>[PyObject Dollar, PyObject Gains, PyObject Ground, PyObject on, PyObject US, PyObject Stimulus, PyObject Hopes]))\n",
       "  1175 => (Union{Nothing, Float64}[nothing nothing … 1.0 1.0; nothing nothing … 1.0 1.0; … ; nothing 1.0 … nothing 1.0; nothing 1.0 … nothing 1.0], Dict{Vector{String}, Vector{PyObject}}([\"S\"]=>[PyObject [[[[Pound, Holds, Firm], Despite], Little], Progress, [on, [Brexit, Amid]], [Crunch, Talks]]], [\"S\", \"M\", \"C\", \"S\", \"C\"]=>[PyObject [[Pound, Holds, Firm], Despite], PyObject Little, PyObject Progress, PyObject [on, [Brexit, Amid]], PyObject [Crunch, Talks]], [\"C\", \"P\", \"C\", \"T\", \"M\", \"C\", \"T\", \"C\", \"C\", \"C\"]=>[PyObject Pound, PyObject Holds, PyObject Firm, PyObject Despite, PyObject Little, PyObject Progress, PyObject on, PyObject [Brexit, Amid], PyObject Crunch, PyObject Talks], [\"C\", \"P\", \"C\", \"T\", \"M\", \"C\", \"S\", \"C\"]=>[PyObject Pound, PyObject Holds, PyObject Firm, PyObject Despite, PyObject Little, PyObject Progress, PyObject [on, [Brexit, Amid]], PyObject [Crunch, Talks]], [\"C\", \"P\", \"C\", \"T\", \"M\", \"C\", \"T\", \"C\", \"C\"]=>[PyObject Pound, PyObject Holds, PyObject Firm, PyObject Desp…\n",
       "  719  => (Union{Nothing, Float64}[1.0 nothing … nothing 1.0; 1.0 nothing … nothing 1.0; … ; nothing 1.0 … 1.0 1.0; nothing 1.0 … 1.0 1.0], Dict{Vector{String}, Vector{PyObject}}([\"S\"]=>[PyObject [[Dollar, Edges], [Higher, [After, [Treasuries, Undermine, [Recent, Strength]]]]]], [\"C\", \"M\", \"T\", \"R\"]=>[PyObject [Dollar, Edges], PyObject Higher, PyObject After, PyObject [Treasuries, Undermine, [Recent, Strength]]], [\"C\", \"M\", \"T\", \"C\", \"P\", \"C\"]=>[PyObject [Dollar, Edges], PyObject Higher, PyObject After, PyObject Treasuries, PyObject Undermine, PyObject [Recent, Strength]], [\"C\", \"M\", \"T\", \"C\", \"P\", \"M\", \"C\"]=>[PyObject [Dollar, Edges], PyObject Higher, PyObject After, PyObject Treasuries, PyObject Undermine, PyObject Recent, PyObject Strength], [\"C\", \"M\", \"S\"]=>[PyObject [Dollar, Edges], PyObject Higher, PyObject [After, [Treasuries, Undermine, [Recent, Strength]]]], [\"C\", \"S\"]=>[PyObject [Dollar, Edges], PyObject [Higher, [After, [Treasuries, Undermine, [Recent, Strength]]]]], [\"C\", …\n",
       "  1546 => (Union{Nothing, Float64}[1.0 nothing … nothing 1.0; 1.0 nothing … nothing 1.0; … ; nothing 1.0 … nothing 1.0; nothing 1.0 … nothing 1.0], Dict{Vector{String}, Vector{PyObject}}([\"S\"]=>[PyObject [[[[Ray, Dalio], Warns], of], Threat, [to, Dollar], [as, [Reserve, Currency]]]], [\"C\", \"P\", \"T\", \"C\", \"T\", \"C\", \"T\", \"C\", \"C\"]=>[PyObject [Ray, Dalio], PyObject Warns, PyObject of, PyObject Threat, PyObject to, PyObject Dollar, PyObject as, PyObject Reserve, PyObject Currency], [\"S\", \"C\", \"T\", \"C\", \"S\"]=>[PyObject [[[Ray, Dalio], Warns], of], PyObject Threat, PyObject to, PyObject Dollar, PyObject [as, [Reserve, Currency]]], [\"C\", \"P\", \"T\", \"C\", \"T\", \"C\", \"T\", \"C\"]=>[PyObject [Ray, Dalio], PyObject Warns, PyObject of, PyObject Threat, PyObject to, PyObject Dollar, PyObject as, PyObject [Reserve, Currency]], [\"S\", \"C\", \"S\", \"S\"]=>[PyObject [[[Ray, Dalio], Warns], of], PyObject Threat, PyObject [to, Dollar], PyObject [as, [Reserve, Currency]]], [\"C\", \"C\", \"P\", \"T\", \"C\", \"T\", \"C\", \"T\", \"…\n",
       "  1703 => (Union{Nothing, Float64}[1.0 1.0; 1.0 1.0], Dict{Vector{String}, Vector{PyObject}}([\"C\", \"C\"]=>[PyObject Sterling, PyObject Gains], [\"C\"]=>[PyObject [Sterling, Gains]], [\"R\"]=>[PyObject [[Sterling, Gains]]]))\n",
       "  1028 => (Union{Nothing, Float64}[nothing nothing … nothing 1.0; nothing nothing … nothing 1.0; … ; 1.0 1.0 … 1.0 1.0; 1.0 1.0 … 1.0 1.0], Dict{Vector{String}, Vector{PyObject}}([\"C\", \"P\", \"T\", \"C\", \"P\", \"M\", \"T\", \"C\", \"C\", \"C\"]=>[PyObject Pound, PyObject Climbs, PyObject as, PyObject Market, PyObject Pushes, PyObject Back, PyObject on, PyObject Negative, PyObject Rates, PyObject Speculation], [\"C\", \"P\", \"T\", \"C\", \"P\", \"M\", \"T\", \"C\"]=>[PyObject Pound, PyObject Climbs, PyObject as, PyObject Market, PyObject Pushes, PyObject Back, PyObject on, PyObject [Negative, Speculation]], [\"R\"]=>[PyObject [Pound, Climbs, [as, [Market, Pushes, [Back, [on, [Negative, Speculation]]]]]]], [\"C\", \"P\", \"T\", \"R\"]=>[PyObject Pound, PyObject Climbs, PyObject as, PyObject [Market, Pushes, [Back, [on, [Negative, Speculation]]]]], [\"C\", \"P\", \"S\"]=>[PyObject Pound, PyObject Climbs, PyObject [as, [Market, Pushes, [Back, [on, [Negative, Speculation]]]]]], [\"C\", \"P\", \"T\", \"C\", \"P\", \"M\", \"S\"]=>[PyObject Pound, PyO…\n",
       "  699  => nothing\n",
       "  831  => (Union{Nothing, Float64}[nothing nothing … 1.0 1.0; nothing nothing … 1.0 1.0; … ; nothing 1.0 … nothing 1.0; nothing 1.0 … nothing 1.0], Dict{Vector{String}, Vector{PyObject}}([\"C\", \"P\", \"T\", \"C\", \"T\", \"C\", \"C\"]=>[PyObject Dollar, PyObject Strengthens, PyObject as, PyObject [Treasury, Rise], PyObject on, PyObject Inflation, PyObject Worries], [\"S\"]=>[PyObject [[[Dollar, Strengthens, [as, [Treasury, Rise]]], on], [Inflation, Worries]]], [\"C\", \"P\", \"T\", \"C\", \"C\", \"C\", \"T\", \"C\", \"C\"]=>[PyObject Dollar, PyObject Strengthens, PyObject as, PyObject Treasury, PyObject Yields, PyObject Rise, PyObject on, PyObject Inflation, PyObject Worries], [\"C\", \"P\", \"S\", \"T\", \"C\"]=>[PyObject Dollar, PyObject Strengthens, PyObject [as, [Treasury, Rise]], PyObject on, PyObject [Inflation, Worries]], [\"R\", \"T\", \"C\"]=>[PyObject [Dollar, Strengthens, [as, [Treasury, Rise]]], PyObject on, PyObject [Inflation, Worries]], [\"S\", \"C\"]=>[PyObject [[Dollar, Strengthens, [as, [Treasury, Rise]]], on], PyObje…\n",
       "  1299 => (Union{Nothing, Float64}[nothing nothing … 1.0 1.0; nothing nothing … 1.0 1.0; … ; nothing 1.0 … nothing 1.0; nothing 1.0 … nothing 1.0], Dict{Vector{String}, Vector{PyObject}}([\"M\", \"C\", \"P\", \"C\", \"X\", \"C\", \"C\"]=>[PyObject Chinese, PyObject Investors, PyObject See, PyObject US, PyObject -, PyObject [China, Continuing], PyObject [Past, Election]], [\"R\"]=>[PyObject [[[Chinese, Investors], See, US], -, [China, Continuing], [Past, Election]]], [\"M\", \"C\", \"P\", \"C\", \"X\", \"C\", \"C\", \"C\", \"C\", \"C\"]=>[PyObject Chinese, PyObject Investors, PyObject See, PyObject US, PyObject -, PyObject China, PyObject Feud, PyObject Continuing, PyObject Past, PyObject Election], [\"R\", \"X\", \"C\", \"C\"]=>[PyObject [[Chinese, Investors], See, US], PyObject -, PyObject [China, Continuing], PyObject [Past, Election]], [\"M\", \"C\", \"P\", \"C\", \"X\", \"C\", \"C\", \"C\"]=>[PyObject Chinese, PyObject Investors, PyObject See, PyObject US, PyObject -, PyObject [China, Continuing], PyObject Past, PyObject Election], [\"C\", \"…\n",
       "  1438 => (Union{Nothing, Float64}[nothing 1.0 … nothing 1.0; nothing 1.0 … nothing 1.0; … ; 1.0 nothing … 1.0 1.0; 1.0 nothing … 1.0 1.0], Dict{Vector{String}, Vector{PyObject}}([\"C\", \"J\", \"C\", \"P\", \"C\", \"S\"]=>[PyObject [Dollar, Down], PyObject ,, PyObject Investors, PyObject Seek, PyObject Updates, PyObject [on, [Trump, 's, Health]]], [\"C\", \"J\", \"R\"]=>[PyObject [Dollar, Down], PyObject ,, PyObject [Investors, Seek, Updates, [on, [Trump, 's, Health]]]], [\"C\"]=>[PyObject [[Dollar, Down], ,, [Investors, Seek, Updates, [on, [Trump, 's, Health]]]]], [\"C\", \"J\", \"C\", \"P\", \"C\", \"T\", \"C\"]=>[PyObject [Dollar, Down], PyObject ,, PyObject Investors, PyObject Seek, PyObject Updates, PyObject on, PyObject [Trump, 's, Health]], [\"C\", \"M\", \"J\", \"C\", \"P\", \"C\", \"T\", \"C\"]=>[PyObject Dollar, PyObject Down, PyObject ,, PyObject Investors, PyObject Seek, PyObject Updates, PyObject on, PyObject [Trump, 's, Health]], [\"C\", \"M\", \"J\", \"C\", \"P\", \"C\", \"T\", \"C\", \"B\", \"C\"]=>[PyObject Dollar, PyObject Down, PyObj…\n",
       "  1074 => (Union{Nothing, Float64}[1.0 nothing … nothing 1.0; 1.0 nothing … nothing 1.0; … ; nothing nothing … nothing 1.0; nothing nothing … nothing 1.0], Dict{Vector{String}, Vector{PyObject}}([\"C\", \"C\", \"S\", \"C\"]=>[PyObject [Sterling, gains], PyObject [,, dollar, [on, [back, foot]]], PyObject [amid, [[hopes, Brexit], deal]], PyObject imminent], [\"C\", \"J\", \"C\", \"T\", \"M\", \"C\", \"T\", \"C\", \"C\", \"P\", \"C\"]=>[PyObject [Sterling, gains], PyObject ,, PyObject dollar, PyObject on, PyObject back, PyObject foot, PyObject amid, PyObject hopes, PyObject Brexit, PyObject deal, PyObject imminent], [\"C\", \"J\", \"C\", \"T\", \"C\", \"S\", \"C\"]=>[PyObject [Sterling, gains], PyObject ,, PyObject dollar, PyObject on, PyObject [back, foot], PyObject [amid, [[hopes, Brexit], deal]], PyObject imminent], [\"C\"]=>[PyObject [[Sterling, gains], [,, dollar, [on, [back, foot]]], [amid, [[hopes, Brexit], deal]], imminent]], [\"C\", \"J\", \"C\", \"T\", \"M\", \"C\", \"T\", \"C\", \"P\", \"C\"]=>[PyObject [Sterling, gains], PyObject ,, PyObjec…\n",
       "  319  => (Union{Nothing, Float64}[nothing nothing … nothing 1.0; nothing nothing … nothing 1.0; … ; nothing 1.0 … 1.0 1.0; nothing 1.0 … 1.0 1.0], Dict{Vector{String}, Vector{PyObject}}([\"C\", \"P\", \"T\", \"C\", \"P\", \"T\", \"M\", \"C\"]=>[PyObject Dollar, PyObject Soars, PyObject as, PyObject [Federal, Reserve], PyObject Hints, PyObject at, PyObject Early, PyObject Tapering], [\"R\"]=>[PyObject [Dollar, Soars, [as, [[Federal, Reserve], Hints, [at, [Early, Tapering]]]]]], [\"C\", \"P\", \"T\", \"R\"]=>[PyObject Dollar, PyObject Soars, PyObject as, PyObject [[Federal, Reserve], Hints, [at, [Early, Tapering]]]], [\"C\", \"P\", \"S\"]=>[PyObject Dollar, PyObject Soars, PyObject [as, [[Federal, Reserve], Hints, [at, [Early, Tapering]]]]], [\"C\", \"P\", \"T\", \"C\", \"P\", \"T\", \"C\"]=>[PyObject Dollar, PyObject Soars, PyObject as, PyObject [Federal, Reserve], PyObject Hints, PyObject at, PyObject [Early, Tapering]], [\"C\", \"P\", \"T\", \"C\", \"C\", \"P\", \"T\", \"M\", \"C\"]=>[PyObject Dollar, PyObject Soars, PyObject as, PyObject Federa…\n",
       "  687  => (Union{Nothing, Float64}[nothing nothing … nothing 1.0; nothing nothing … 1.0 1.0; … ; nothing nothing … 1.0 1.0; nothing nothing … 1.0 1.0], Dict{Vector{String}, Vector{PyObject}}([\"P\", \"M\", \"S\", \"P\", \"M\", \"P\", \"P\"]=>[PyObject Dollar, PyObject Down, PyObject [[Over, [Bets, Fed]], Will], PyObject Continue, PyObject to, PyObject Avoid, PyObject Tapering], [\"P\", \"M\", \"R\", \"P\", \"P\"]=>[PyObject Dollar, PyObject Down, PyObject [[[[Over, [Bets, Fed]], Will], Continue], to], PyObject Avoid, PyObject Tapering], [\"R\"]=>[PyObject [Dollar, [Down, [[[[[[Over, [Bets, Fed]], Will], Continue], to], Avoid], Tapering]]]], [\"P\", \"M\", \"R\", \"M\", \"P\", \"P\"]=>[PyObject Dollar, PyObject Down, PyObject [[[Over, [Bets, Fed]], Will], Continue], PyObject to, PyObject Avoid, PyObject Tapering], [\"P\", \"M\", \"T\", \"C\", \"M\", \"P\", \"M\", \"P\", \"P\"]=>[PyObject Dollar, PyObject Down, PyObject Over, PyObject [Bets, Fed], PyObject Will, PyObject Continue, PyObject to, PyObject Avoid, PyObject Tapering], [\"P\", \"R\"]=>…\n",
       "  1812 => (Union{Nothing, Float64}[nothing nothing … nothing 1.0; nothing nothing … nothing 1.0; … ; 1.0 1.0 … 1.0 1.0; 1.0 1.0 … 1.0 1.0], Dict{Vector{String}, Vector{PyObject}}([\"C\", \"P\", \"T\", \"C\", \"P\", \"P\", \"C\"]=>[PyObject Dollar, PyObject squashed, PyObject as, PyObject Fed, PyObject seen, PyObject softening, PyObject [inflation, stance]], [\"R\"]=>[PyObject [Dollar, squashed, [as, [Fed, seen, [softening, [inflation, stance]]]]]], [\"C\", \"P\", \"T\", \"R\"]=>[PyObject Dollar, PyObject squashed, PyObject as, PyObject [Fed, seen, [softening, [inflation, stance]]]], [\"C\", \"P\", \"S\"]=>[PyObject Dollar, PyObject squashed, PyObject [as, [Fed, seen, [softening, [inflation, stance]]]]], [\"C\", \"P\", \"T\", \"C\", \"P\", \"R\"]=>[PyObject Dollar, PyObject squashed, PyObject as, PyObject Fed, PyObject seen, PyObject [softening, [inflation, stance]]], [\"C\", \"P\", \"T\", \"C\", \"P\", \"P\", \"C\", \"C\"]=>[PyObject Dollar, PyObject squashed, PyObject as, PyObject Fed, PyObject seen, PyObject softening, PyObject inflation, …\n",
       "  1199 => (Union{Nothing, Float64}[nothing nothing … 1.0 1.0; nothing nothing … 1.0 1.0; … ; 1.0 nothing … nothing 1.0; 1.0 nothing … nothing 1.0], Dict{Vector{String}, Vector{PyObject}}([\"R\", \"X\", \"C\"]=>[PyObject [[[[Dollar, stuck, [near, support]], ,, NZ$], strikes], two], PyObject -, PyObject [year, high]], [\"C\", \"P\", \"T\", \"C\", \"J\", \"C\", \"P\", \"M\", \"X\", \"C\"]=>[PyObject Dollar, PyObject stuck, PyObject near, PyObject support, PyObject ,, PyObject NZ$, PyObject strikes, PyObject two, PyObject -, PyObject [year, high]], [\"R\", \"P\", \"M\", \"X\", \"C\"]=>[PyObject [[Dollar, stuck, [near, support]], ,, NZ$], PyObject strikes, PyObject two, PyObject -, PyObject [year, high]], [\"R\"]=>[PyObject [[[[[Dollar, stuck, [near, support]], ,, NZ$], strikes], two], -, [year, high]]], [\"C\", \"P\", \"S\", \"J\", \"C\", \"P\", \"M\", \"X\", \"C\"]=>[PyObject Dollar, PyObject stuck, PyObject [near, support], PyObject ,, PyObject NZ$, PyObject strikes, PyObject two, PyObject -, PyObject [year, high]], [\"R\", \"J\", \"C\", \"P\", \"M\",…\n",
       "  185  => (Union{Nothing, Float64}[nothing nothing … 1.0 1.0; nothing nothing … 1.0 1.0; … ; 1.0 nothing … nothing 1.0; 1.0 nothing … nothing 1.0], Dict{Vector{String}, Vector{PyObject}}([\"S\"]=>[PyObject [[[Dollar, advances], to], [one, -], [year, high]]], [\"C\", \"P\", \"T\", \"M\", \"X\", \"C\", \"C\"]=>[PyObject Dollar, PyObject advances, PyObject to, PyObject one, PyObject -, PyObject year, PyObject high], [\"C\", \"P\", \"T\", \"X\", \"C\"]=>[PyObject Dollar, PyObject advances, PyObject to, PyObject [one, -], PyObject [year, high]], [\"C\", \"P\", \"T\", \"M\", \"X\", \"C\"]=>[PyObject Dollar, PyObject advances, PyObject to, PyObject one, PyObject -, PyObject [year, high]], [\"R\", \"T\", \"X\", \"C\"]=>[PyObject [Dollar, advances], PyObject to, PyObject [one, -], PyObject [year, high]], [\"S\", \"X\", \"C\"]=>[PyObject [[Dollar, advances], to], PyObject [one, -], PyObject [year, high]]))\n",
       "  823  => (Union{Nothing, Float64}[1.0 nothing … nothing 1.0; 1.0 nothing … nothing 1.0; … ; nothing 1.0 … 1.0 1.0; nothing 1.0 … 1.0 1.0], Dict{Vector{String}, Vector{PyObject}}([\"S\"]=>[PyObject [[Dollar, Higher], [Ahead, [of, [Fed, Statement]]]]], [\"C\", \"M\", \"S\"]=>[PyObject [Dollar, Higher], PyObject Ahead, PyObject [of, [Fed, Statement]]], [\"C\", \"M\", \"T\", \"C\"]=>[PyObject [Dollar, Higher], PyObject Ahead, PyObject of, PyObject [Fed, Statement]], [\"C\", \"S\"]=>[PyObject [Dollar, Higher], PyObject [Ahead, [of, [Fed, Statement]]]], [\"C\", \"M\", \"T\", \"C\", \"C\"]=>[PyObject [Dollar, Higher], PyObject Ahead, PyObject of, PyObject Fed, PyObject Statement], [\"C\", \"C\", \"C\", \"M\", \"T\", \"C\", \"C\"]=>[PyObject Dollar, PyObject Edges, PyObject Higher, PyObject Ahead, PyObject of, PyObject Fed, PyObject Statement]))\n",
       "  1090 => (Union{Nothing, Float64}[nothing 1.0 … 1.0 1.0; 1.0 1.0 … 1.0 1.0; … ; nothing nothing … nothing 1.0; nothing nothing … nothing 1.0], Dict{Vector{String}, Vector{PyObject}}([\"M\", \"C\", \"P\", \"C\", \"J\", \"C\", \"T\", \"C\", \"P\", \"C\"]=>[PyObject New, PyObject [coronavirus, strain], PyObject hits, PyObject pound, PyObject ,, PyObject euro, PyObject as, PyObject investors, PyObject seek, PyObject dollars], [\"S\", \"C\", \"P\", \"C\"]=>[PyObject [[[[New, [coronavirus, strain]], hits, pound], ,, euro], as], PyObject investors, PyObject seek, PyObject dollars], [\"R\"]=>[PyObject [[[[[New, [coronavirus, strain]], hits, pound], ,, euro], as], investors, seek, dollars]], [\"M\", \"C\", \"C\", \"P\", \"C\", \"J\", \"C\", \"T\", \"C\", \"P\", \"C\"]=>[PyObject New, PyObject coronavirus, PyObject strain, PyObject hits, PyObject pound, PyObject ,, PyObject euro, PyObject as, PyObject investors, PyObject seek, PyObject dollars], [\"R\", \"T\", \"C\", \"P\", \"C\"]=>[PyObject [[[New, [coronavirus, strain]], hits, pound], ,, euro], PyObjec…\n",
       "  420  => (Union{Nothing, Float64}[1.0 nothing … nothing 1.0; 1.0 nothing … nothing 1.0; … ; nothing nothing … nothing 1.0; nothing nothing … nothing 1.0], Dict{Vector{String}, Vector{PyObject}}([\"S\"]=>[PyObject [[Dollar, Set], [For, [[Strong, Gain], [on, Covid], ,]], [Inflation, Worries]]], [\"C\", \"T\", \"C\", \"T\", \"C\", \"J\", \"C\", \"C\"]=>[PyObject [Dollar, Set], PyObject For, PyObject [Strong, Gain], PyObject on, PyObject Covid, PyObject ,, PyObject Inflation, PyObject Worries], [\"C\", \"C\", \"T\", \"C\", \"C\", \"C\", \"T\", \"C\", \"J\", \"C\", \"C\"]=>[PyObject Dollar, PyObject Set, PyObject For, PyObject Strong, PyObject Weekly, PyObject Gain, PyObject on, PyObject Covid, PyObject ,, PyObject Inflation, PyObject Worries], [\"C\", \"T\", \"C\", \"T\", \"C\", \"J\", \"C\"]=>[PyObject [Dollar, Set], PyObject For, PyObject [Strong, Gain], PyObject on, PyObject Covid, PyObject ,, PyObject [Inflation, Worries]], [\"C\", \"T\", \"C\", \"S\", \"J\", \"C\"]=>[PyObject [Dollar, Set], PyObject For, PyObject [Strong, Gain], PyObject [on, Covi…\n",
       "  1370 => (Union{Nothing, Float64}[1.0 nothing … 1.0 1.0; 1.0 nothing … 1.0 1.0; … ; nothing nothing … nothing 1.0; nothing nothing … nothing 1.0], Dict{Vector{String}, Vector{PyObject}}([\"C\", \"J\", \"C\", \"C\"]=>[PyObject [Dollar, Higher], PyObject ,, PyObject [Continuing, Week], PyObject [Amid, Fears]], [\"C\", \"C\"]=>[PyObject [[Dollar, Higher], ,, [Continuing, Week]], PyObject [Amid, Fears]], [\"C\"]=>[PyObject [[[Dollar, Higher], ,, [Continuing, Week]], [Amid, Fears]]], [\"C\", \"J\", \"C\", \"C\", \"C\", \"C\", \"C\", \"C\"]=>[PyObject [Dollar, Higher], PyObject ,, PyObject Continuing, PyObject Strong, PyObject Week, PyObject Amid, PyObject Virus, PyObject Fears], [\"C\", \"C\", \"C\", \"J\", \"C\", \"C\", \"C\", \"C\", \"C\", \"C\"]=>[PyObject Dollar, PyObject Edges, PyObject Higher, PyObject ,, PyObject Continuing, PyObject Strong, PyObject Week, PyObject Amid, PyObject Virus, PyObject Fears], [\"C\", \"J\", \"C\", \"C\", \"C\", \"C\"]=>[PyObject [Dollar, Higher], PyObject ,, PyObject [Continuing, Week], PyObject Amid, PyObject Viru…\n",
       "  1437 => (Union{Nothing, Float64}[1.0 nothing … 1.0 1.0; 1.0 nothing … 1.0 1.0; … ; nothing nothing … nothing 1.0; nothing nothing … nothing 1.0], Dict{Vector{String}, Vector{PyObject}}([\"C\", \"P\", \"C\", \"T\", \"C\", \"C\"]=>[PyObject [Record, Shorts], PyObject Show, PyObject [New, Bets], PyObject on, PyObject [Steeper, Yield], PyObject Curve], [\"S\"]=>[PyObject [[[[Record, Shorts], Show, [New, Bets]], on], [Steeper, Yield], Curve]], [\"S\", \"C\", \"C\"]=>[PyObject [[[Record, Shorts], Show, [New, Bets]], on], PyObject [Steeper, Yield], PyObject Curve], [\"C\", \"P\", \"C\", \"C\", \"T\", \"C\", \"C\", \"C\", \"C\"]=>[PyObject [Record, Shorts], PyObject Show, PyObject New, PyObject Bets, PyObject on, PyObject Steeper, PyObject Treasury, PyObject Yield, PyObject Curve], [\"C\", \"P\", \"C\", \"T\", \"C\", \"C\", \"C\", \"C\"]=>[PyObject [Record, Shorts], PyObject Show, PyObject [New, Bets], PyObject on, PyObject Steeper, PyObject Treasury, PyObject Yield, PyObject Curve], [\"C\", \"C\", \"P\", \"C\", \"C\", \"T\", \"C\", \"C\", \"C\", \"C\"]=>[PyObjec…\n",
       "  1662 => (Union{Nothing, Float64}[1.0 nothing … nothing 1.0; 1.0 nothing … nothing 1.0; … ; nothing nothing … 1.0 1.0; nothing nothing … nothing 1.0], Dict{Vector{String}, Vector{PyObject}}([\"C\", \"T\", \"C\", \"P\", \"M\", \"C\", \"M\", \"P\", \"C\"]=>[PyObject [Dollar, Flat], PyObject as, PyObject [Fed, 's, Powell], PyObject Lays, PyObject Out, PyObject Plan, PyObject to, PyObject Boost, PyObject Inflation], [\"C\", \"S\", \"C\", \"M\", \"P\", \"C\"]=>[PyObject [Dollar, Flat], PyObject [as, [[[Fed, 's, Powell], Lays], Out]], PyObject Plan, PyObject to, PyObject Boost, PyObject Inflation], [\"R\"]=>[PyObject [[Dollar, Flat], [as, [[[Fed, 's, Powell], Lays], Out]], Plan, [to, Boost], Inflation]], [\"C\", \"T\", \"R\", \"M\", \"C\", \"M\", \"P\", \"C\"]=>[PyObject [Dollar, Flat], PyObject as, PyObject [[Fed, 's, Powell], Lays], PyObject Out, PyObject Plan, PyObject to, PyObject Boost, PyObject Inflation], [\"C\", \"C\", \"T\", \"C\", \"B\", \"C\", \"P\", \"M\", \"C\", \"M\", \"P\", \"C\"]=>[PyObject Dollar, PyObject Flat, PyObject as, PyObject Fed, PyOb…\n",
       "  525  => (Union{Nothing, Float64}[1.0 nothing … nothing 1.0; 1.0 nothing … nothing 1.0; … ; nothing nothing … 1.0 1.0; nothing nothing … 1.0 1.0], Dict{Vector{String}, Vector{PyObject}}([\"C\", \"C\", \"T\", \"C\", \"C\", \"C\", \"T\", \"C\", \"C\", \"M\", \"T\", \"C\", \"C\"]=>[PyObject Dollar, PyObject Set, PyObject to, PyObject Snap, PyObject Losing, PyObject Streak, PyObject After, PyObject Swagger, PyObject Returns, PyObject Ahead, PyObject of, PyObject Fed, PyObject Meeting], [\"C\", \"T\", \"C\", \"C\", \"C\", \"T\", \"C\", \"C\", \"M\", \"T\", \"C\", \"C\"]=>[PyObject [Dollar, Set], PyObject to, PyObject Snap, PyObject Losing, PyObject Streak, PyObject After, PyObject Swagger, PyObject Returns, PyObject Ahead, PyObject of, PyObject Fed, PyObject Meeting], [\"C\", \"T\", \"C\", \"T\", \"C\", \"C\", \"M\", \"T\", \"C\", \"C\"]=>[PyObject [Dollar, Set], PyObject to, PyObject [Snap, Streak], PyObject After, PyObject Swagger, PyObject Returns, PyObject Ahead, PyObject of, PyObject Fed, PyObject Meeting], [\"S\"]=>[PyObject [[[Dollar, Set], to], [Snap,…\n",
       "  365  => (Union{Nothing, Float64}[1.0 1.0; 1.0 1.0; 1.0 1.0], Dict{Vector{String}, Vector{PyObject}}([\"S\"]=>[PyObject [[Labor, Eyed]]], [\"C\"]=>[PyObject [Labor, Eyed]], [\"C\", \"C\", \"C\"]=>[PyObject Labor, PyObject Data, PyObject Eyed]))\n",
       "  638  => (Union{Nothing, Float64}[nothing nothing … nothing 1.0; nothing 1.0 … 1.0 1.0; … ; 1.0 nothing … 1.0 1.0; nothing nothing … 1.0 1.0], Dict{Vector{String}, Vector{PyObject}}([\"S\"]=>[PyObject [Dollar, [[broadly, weaker], [after, [[US, data], disappoint]]]]], [\"C\", \"M\", \"T\", \"C\", \"P\"]=>[PyObject Dollar, PyObject [broadly, weaker], PyObject after, PyObject [US, data], PyObject disappoint], [\"C\", \"M\", \"T\", \"R\"]=>[PyObject Dollar, PyObject [broadly, weaker], PyObject after, PyObject [[US, data], disappoint]], [\"C\", \"M\", \"S\"]=>[PyObject Dollar, PyObject [broadly, weaker], PyObject [after, [[US, data], disappoint]]], [\"C\", \"S\"]=>[PyObject Dollar, PyObject [[broadly, weaker], [after, [[US, data], disappoint]]]], [\"C\", \"M\", \"M\", \"T\", \"C\", \"P\"]=>[PyObject Dollar, PyObject broadly, PyObject weaker, PyObject after, PyObject [US, data], PyObject disappoint], [\"C\", \"M\", \"M\", \"T\", \"C\", \"C\", \"C\", \"P\"]=>[PyObject Dollar, PyObject broadly, PyObject weaker, PyObject after, PyObject US, PyObject…\n",
       "  1704 => (Union{Nothing, Float64}[1.0 nothing … 1.0 1.0; 1.0 nothing … 1.0 1.0; … ; nothing 1.0 … nothing 1.0; nothing nothing … nothing 1.0], Dict{Vector{String}, Vector{PyObject}}([\"S\"]=>[PyObject [[[[Dollar, Flat], Amid], Continuous], [US, Recovery], Uncertainty]], [\"C\", \"T\", \"M\", \"C\", \"C\"]=>[PyObject [Dollar, Flat], PyObject Amid, PyObject Continuous, PyObject [US, Recovery], PyObject Uncertainty], [\"S\", \"M\", \"C\", \"C\"]=>[PyObject [[Dollar, Flat], Amid], PyObject Continuous, PyObject [US, Recovery], PyObject Uncertainty], [\"S\", \"C\", \"C\"]=>[PyObject [[[Dollar, Flat], Amid], Continuous], PyObject [US, Recovery], PyObject Uncertainty], [\"C\", \"C\", \"T\", \"M\", \"C\", \"C\", \"C\", \"C\"]=>[PyObject Dollar, PyObject Flat, PyObject Amid, PyObject Continuous, PyObject US, PyObject Economic, PyObject Recovery, PyObject Uncertainty], [\"C\", \"T\", \"M\", \"C\", \"C\", \"C\", \"C\"]=>[PyObject [Dollar, Flat], PyObject Amid, PyObject Continuous, PyObject US, PyObject Economic, PyObject Recovery, PyObject Uncertaint…\n",
       "  1663 => (Union{Nothing, Float64}[1.0 nothing … 1.0 1.0; 1.0 nothing … 1.0 1.0; … ; nothing nothing … 1.0 1.0; nothing nothing … nothing 1.0], Dict{Vector{String}, Vector{PyObject}}([\"C\", \"T\", \"C\", \"P\", \"M\"]=>[PyObject [Dollar, Lower], PyObject as, PyObject [Powell, 's, Speech], PyObject Draws, PyObject Near], [\"R\"]=>[PyObject [[[[Dollar, Lower], as], [Powell, 's, Speech], Draws], Near]], [\"S\", \"C\", \"P\", \"M\"]=>[PyObject [[Dollar, Lower], as], PyObject [Powell, 's, Speech], PyObject Draws, PyObject Near], [\"R\", \"M\"]=>[PyObject [[[Dollar, Lower], as], [Powell, 's, Speech], Draws], PyObject Near], [\"C\", \"C\", \"C\", \"T\", \"C\", \"B\", \"C\", \"P\", \"M\"]=>[PyObject Dollar, PyObject Edges, PyObject Lower, PyObject as, PyObject Powell, PyObject 's, PyObject Speech, PyObject Draws, PyObject Near], [\"C\", \"T\", \"C\", \"B\", \"C\", \"P\", \"M\"]=>[PyObject [Dollar, Lower], PyObject as, PyObject Powell, PyObject 's, PyObject Speech, PyObject Draws, PyObject Near]))\n",
       "  263  => (Union{Nothing, Float64}[nothing 1.0 … 1.0 1.0; nothing 1.0 … 1.0 1.0; … ; 1.0 nothing … nothing 1.0; nothing nothing … nothing 1.0], Dict{Vector{String}, Vector{PyObject}}([\"S\"]=>[PyObject [[[[[Dollar, Down], ,, Focus], Now], on], [Central, Policy], Decisions]], [\"C\", \"M\", \"J\", \"C\", \"M\", \"T\", \"C\", \"C\", \"C\", \"C\"]=>[PyObject Dollar, PyObject Down, PyObject ,, PyObject Focus, PyObject Now, PyObject on, PyObject Central, PyObject Bank, PyObject Policy, PyObject Decisions], [\"S\", \"C\", \"C\"]=>[PyObject [[[[Dollar, Down], ,, Focus], Now], on], PyObject [Central, Policy], PyObject Decisions], [\"C\", \"M\", \"J\", \"C\", \"M\", \"T\", \"C\", \"C\"]=>[PyObject Dollar, PyObject Down, PyObject ,, PyObject Focus, PyObject Now, PyObject on, PyObject [Central, Policy], PyObject Decisions], [\"C\", \"M\", \"T\", \"C\", \"C\"]=>[PyObject [[Dollar, Down], ,, Focus], PyObject Now, PyObject on, PyObject [Central, Policy], PyObject Decisions], [\"C\", \"T\", \"C\", \"C\"]=>[PyObject [[[Dollar, Down], ,, Focus], Now], PyObject o…\n",
       "  422  => (Union{Nothing, Float64}[nothing nothing … nothing 1.0; nothing nothing … nothing 1.0; … ; 1.0 1.0 … 1.0 1.0; nothing nothing … 1.0 1.0], Dict{Vector{String}, Vector{PyObject}}([\"C\", \"P\", \"C\", \"T\", \"C\", \"P\"]=>[PyObject Dollar, PyObject recovers, PyObject ground, PyObject as, PyObject [jobless, [claims, data]], PyObject helps], [\"C\", \"P\", \"C\", \"S\"]=>[PyObject Dollar, PyObject recovers, PyObject ground, PyObject [as, [[jobless, [claims, data]], helps]]], [\"C\", \"P\", \"C\", \"T\", \"M\", \"C\", \"P\"]=>[PyObject Dollar, PyObject recovers, PyObject ground, PyObject as, PyObject jobless, PyObject [claims, data], PyObject helps], [\"C\", \"P\", \"C\", \"T\", \"R\"]=>[PyObject Dollar, PyObject recovers, PyObject ground, PyObject as, PyObject [[jobless, [claims, data]], helps]], [\"R\"]=>[PyObject [Dollar, recovers, ground, [as, [[jobless, [claims, data]], helps]]]], [\"C\", \"P\", \"C\", \"T\", \"M\", \"C\", \"C\", \"P\"]=>[PyObject Dollar, PyObject recovers, PyObject ground, PyObject as, PyObject jobless, PyObject clai…\n",
       "  242  => (Union{Nothing, Float64}[1.0 nothing … nothing 1.0; 1.0 nothing … nothing 1.0; … ; nothing 1.0 … 1.0 1.0; nothing 1.0 … 1.0 1.0], Dict{Vector{String}, Vector{PyObject}}([\"S\"]=>[PyObject [[Dollar, Edges], [Lower, [Ahead, [of, [Key, Release]]]]]], [\"C\", \"M\", \"M\", \"S\"]=>[PyObject [Dollar, Edges], PyObject Lower, PyObject Ahead, PyObject [of, [Key, Release]]], [\"C\", \"M\", \"S\"]=>[PyObject [Dollar, Edges], PyObject Lower, PyObject [Ahead, [of, [Key, Release]]]], [\"C\", \"S\"]=>[PyObject [Dollar, Edges], PyObject [Lower, [Ahead, [of, [Key, Release]]]]], [\"C\", \"C\", \"M\", \"M\", \"T\", \"C\", \"C\", \"C\"]=>[PyObject Dollar, PyObject Edges, PyObject Lower, PyObject Ahead, PyObject of, PyObject Key, PyObject CPI, PyObject Release], [\"C\", \"M\", \"M\", \"T\", \"C\"]=>[PyObject [Dollar, Edges], PyObject Lower, PyObject Ahead, PyObject of, PyObject [Key, Release]], [\"C\", \"M\", \"M\", \"T\", \"C\", \"C\", \"C\"]=>[PyObject [Dollar, Edges], PyObject Lower, PyObject Ahead, PyObject of, PyObject Key, PyObject CPI, PyObject R…\n",
       "  1266 => (Union{Nothing, Float64}[1.0 nothing … nothing 1.0; 1.0 nothing … nothing 1.0; … ; nothing nothing … 1.0 1.0; nothing nothing … 1.0 1.0], Dict{Vector{String}, Vector{PyObject}}([\"R\"]=>[PyObject [[[[Deutsche, Bank], says, [does, [not, [see, [good, [risk, reward]]]]]], in], [[shorting, dollar], anymore]]], [\"C\", \"P\", \"R\", \"T\", \"R\", \"M\"]=>[PyObject [Deutsche, Bank], PyObject says, PyObject [does, [not, [see, [good, [risk, reward]]]]], PyObject in, PyObject [shorting, dollar], PyObject anymore], [\"S\", \"R\"]=>[PyObject [[[Deutsche, Bank], says, [does, [not, [see, [good, [risk, reward]]]]]], in], PyObject [[shorting, dollar], anymore]], [\"C\", \"P\", \"M\", \"M\", \"P\", \"M\", \"C\", \"T\", \"R\", \"M\"]=>[PyObject [Deutsche, Bank], PyObject says, PyObject does, PyObject not, PyObject see, PyObject good, PyObject [risk, reward], PyObject in, PyObject [shorting, dollar], PyObject anymore], [\"R\", \"T\", \"R\", \"M\"]=>[PyObject [[Deutsche, Bank], says, [does, [not, [see, [good, [risk, reward]]]]]], PyObject…\n",
       "  183  => (Union{Nothing, Float64}[nothing nothing … nothing 1.0; nothing nothing … nothing 1.0; … ; nothing 1.0 … nothing 1.0; nothing 1.0 … nothing 1.0], Dict{Vector{String}, Vector{PyObject}}([\"C\", \"M\", \"J\", \"J\", \"C\", \"M\", \"X\", \"C\", \"M\", \"T\", \"C\", \"T\", \"C\"]=>[PyObject Dollar, PyObject Down, PyObject ,, PyObject but, PyObject Near, PyObject One, PyObject -, PyObject Year, PyObject High, PyObject as, PyObject [Fed, Preps], PyObject for, PyObject [Asset, Tapering]], [\"S\"]=>[PyObject [[Dollar, Down, ,, but], Near, [One, -], [[Year, High], as], [[Fed, Preps], for], [Asset, Tapering]]], [\"C\", \"C\", \"X\", \"C\", \"M\", \"T\", \"S\", \"C\"]=>[PyObject [Dollar, Down, ,, but], PyObject Near, PyObject [One, -], PyObject Year, PyObject High, PyObject as, PyObject [[Fed, Preps], for], PyObject [Asset, Tapering]], [\"C\", \"C\", \"M\", \"X\", \"C\", \"M\", \"T\", \"S\", \"C\"]=>[PyObject [Dollar, Down, ,, but], PyObject Near, PyObject One, PyObject -, PyObject Year, PyObject High, PyObject as, PyObject [[Fed, Preps], for], P…\n",
       "  1646 => (Union{Nothing, Float64}[1.0 nothing … nothing 1.0; 1.0 nothing … nothing 1.0; … ; nothing nothing … nothing 1.0; nothing nothing … nothing 1.0], Dict{Vector{String}, Vector{PyObject}}([\"C\", \"C\", \"C\", \"C\"]=>[PyObject [South, Plans], PyObject [Record, 2021], PyObject [Bond, Sales], PyObject [to, [Fund, Stimulus]]], [\"C\", \"C\", \"M\", \"C\", \"M\", \"C\", \"C\"]=>[PyObject [South, Plans], PyObject Record, PyObject 2021, PyObject [Bond, Sales], PyObject to, PyObject Fund, PyObject Stimulus], [\"C\"]=>[PyObject [[South, Plans], [Record, 2021], [Bond, Sales], [to, [Fund, Stimulus]]]], [\"C\", \"C\", \"C\", \"C\", \"M\", \"C\", \"C\", \"M\", \"C\", \"C\"]=>[PyObject South, PyObject Korea, PyObject Plans, PyObject Record, PyObject 2021, PyObject Bond, PyObject Sales, PyObject to, PyObject Fund, PyObject Stimulus], [\"C\", \"C\", \"M\", \"C\", \"M\", \"C\"]=>[PyObject [South, Plans], PyObject Record, PyObject 2021, PyObject [Bond, Sales], PyObject to, PyObject [Fund, Stimulus]], [\"C\", \"C\", \"M\", \"C\", \"C\", \"M\", \"C\", \"C\"]=>[PyObj…\n",
       "  1823 => (Union{Nothing, Float64}[nothing 1.0 … nothing 1.0; nothing 1.0 … nothing 1.0; … ; nothing nothing … nothing 1.0; nothing nothing … nothing 1.0], Dict{Vector{String}, Vector{PyObject}}([\"R\", \"C\", \"T\", \"S\", \"C\"]=>[PyObject [[Euro, ’s, Strength], [[May, Just], Be]], PyObject Prelude, PyObject to, PyObject [[a, [Big, Trend]], in], PyObject [the, Making]], [\"C\", \"B\", \"C\", \"M\", \"M\", \"P\", \"C\", \"T\", \"M\", \"C\", \"C\", \"T\", \"M\", \"C\"]=>[PyObject Euro, PyObject ’s, PyObject Strength, PyObject May, PyObject Just, PyObject Be, PyObject Prelude, PyObject to, PyObject a, PyObject Big, PyObject Trend, PyObject in, PyObject the, PyObject Making], [\"C\", \"B\", \"C\", \"M\", \"M\", \"P\", \"C\", \"T\", \"M\", \"C\", \"T\", \"M\", \"C\"]=>[PyObject Euro, PyObject ’s, PyObject Strength, PyObject May, PyObject Just, PyObject Be, PyObject Prelude, PyObject to, PyObject a, PyObject [Big, Trend], PyObject in, PyObject the, PyObject Making], [\"C\", \"M\", \"M\", \"P\", \"C\", \"T\", \"M\", \"C\", \"T\", \"C\"]=>[PyObject [Euro, ’s, Strength], Py…\n",
       "  551  => (Union{Nothing, Float64}[nothing nothing … 1.0 1.0; nothing nothing … 1.0 1.0; … ; nothing 1.0 … 1.0 1.0; nothing nothing … nothing 1.0], Dict{Vector{String}, Vector{PyObject}}([\"P\", \"S\", \"J\", \"C\", \"P\"]=>[PyObject Dollar, PyObject [Up, [Over, [[Upbeat, Employment], Data, ,]]], PyObject but, PyObject [Taper, Concerns], PyObject Remain], [\"P\", \"M\", \"S\", \"J\", \"C\", \"P\"]=>[PyObject Dollar, PyObject Up, PyObject [Over, [[Upbeat, Employment], Data, ,]], PyObject but, PyObject [Taper, Concerns], PyObject Remain], [\"P\", \"C\", \"P\"]=>[PyObject [Dollar, [Up, [Over, [[Upbeat, Employment], Data, ,]]], but], PyObject [Taper, Concerns], PyObject Remain], [\"R\", \"P\"]=>[PyObject [[Dollar, [Up, [Over, [[Upbeat, Employment], Data, ,]]], but], [Taper, Concerns]], PyObject Remain], [\"R\"]=>[PyObject [[[Dollar, [Up, [Over, [[Upbeat, Employment], Data, ,]]], but], [Taper, Concerns]], Remain]], [\"P\", \"M\", \"T\", \"C\", \"C\", \"J\", \"J\", \"C\", \"C\", \"P\"]=>[PyObject Dollar, PyObject Up, PyObject Over, PyObject [U…\n",
       "  224  => (Union{Nothing, Float64}[nothing nothing … nothing 1.0; nothing nothing … nothing 1.0; … ; nothing 1.0 … nothing 1.0; nothing 1.0 … nothing 1.0], Dict{Vector{String}, Vector{PyObject}}([\"C\", \"M\", \"S\", \"J\", \"P\", \"M\", \"X\", \"M\", \"C\"]=>[PyObject Dollar, PyObject Up, PyObject [as, [[Central, Banks], ,, [Including, Fed]]], PyObject ,, PyObject Prepare, PyObject to, PyObject Hand, PyObject Down, PyObject [Policy, Decisions]], [\"R\", \"X\", \"M\", \"C\"]=>[PyObject [[[Dollar, [Up, [as, [[Central, Banks], ,, [Including, Fed]]]], ,], Prepare], to], PyObject Hand, PyObject Down, PyObject [Policy, Decisions]], [\"C\", \"S\", \"J\", \"P\", \"M\", \"X\", \"M\", \"C\"]=>[PyObject Dollar, PyObject [Up, [as, [[Central, Banks], ,, [Including, Fed]]]], PyObject ,, PyObject Prepare, PyObject to, PyObject Hand, PyObject Down, PyObject [Policy, Decisions]], [\"C\", \"M\", \"T\", \"C\", \"J\", \"P\", \"M\", \"X\", \"M\", \"C\"]=>[PyObject Dollar, PyObject Up, PyObject as, PyObject [[Central, Banks], ,, [Including, Fed]], PyObject ,, PyObje…\n",
       "  694  => (Union{Nothing, Float64}[nothing nothing nothing 1.0; nothing nothing nothing 1.0; … ; 1.0 1.0 1.0 1.0; 1.0 1.0 1.0 1.0], Dict{Vector{String}, Vector{PyObject}}([\"C\", \"P\", \"P\", \"C\", \"T\", \"C\"]=>[PyObject China, PyObject Considers, PyObject Supporting, PyObject Huarong, PyObject With, PyObject [Central, Funds]], [\"R\"]=>[PyObject [China, Considers, [Supporting, Huarong, [With, [Central, Funds]]]]], [\"C\", \"P\", \"P\", \"C\", \"S\"]=>[PyObject China, PyObject Considers, PyObject Supporting, PyObject Huarong, PyObject [With, [Central, Funds]]], [\"C\", \"P\", \"P\", \"C\", \"T\", \"C\", \"C\", \"C\"]=>[PyObject China, PyObject Considers, PyObject Supporting, PyObject Huarong, PyObject With, PyObject Central, PyObject Bank, PyObject Funds], [\"C\", \"P\", \"R\"]=>[PyObject China, PyObject Considers, PyObject [Supporting, Huarong, [With, [Central, Funds]]]]))\n",
       "  692  => (Union{Nothing, Float64}[nothing nothing … nothing 1.0; nothing 1.0 … nothing 1.0; … ; 1.0 nothing … 1.0 1.0; 1.0 nothing … 1.0 1.0], Dict{Vector{String}, Vector{PyObject}}([\"S\"]=>[PyObject [Euro, [in, Spotlight], [Ahead, [of, [ECB, Meeting]]]]], [\"C\", \"T\", \"C\", \"M\", \"T\", \"C\"]=>[PyObject Euro, PyObject in, PyObject Spotlight, PyObject Ahead, PyObject of, PyObject [ECB, Meeting]], [\"C\", \"T\", \"C\", \"M\", \"T\", \"C\", \"C\"]=>[PyObject Euro, PyObject in, PyObject Spotlight, PyObject Ahead, PyObject of, PyObject ECB, PyObject Meeting], [\"C\", \"S\", \"M\", \"T\", \"C\"]=>[PyObject Euro, PyObject [in, Spotlight], PyObject Ahead, PyObject of, PyObject [ECB, Meeting]], [\"C\", \"S\", \"M\", \"S\"]=>[PyObject Euro, PyObject [in, Spotlight], PyObject Ahead, PyObject [of, [ECB, Meeting]]], [\"C\", \"S\", \"S\"]=>[PyObject Euro, PyObject [in, Spotlight], PyObject [Ahead, [of, [ECB, Meeting]]]]))\n",
       "  1015 => (Union{Nothing, Float64}[1.0 1.0; 1.0 1.0; 1.0 1.0; nothing 1.0], Dict{Vector{String}, Vector{PyObject}}([\"C\", \"C\", \"C\", \"C\"]=>[PyObject Dovish, PyObject Powell, PyObject Limits, PyObject Gains], [\"C\", \"C\"]=>[PyObject [Dovish, Limits], PyObject Gains], [\"X\"]=>[PyObject [[Dovish, Limits], Gains]]))\n",
       "  1373 => (Union{Nothing, Float64}[1.0 nothing … 1.0 1.0; 1.0 nothing … 1.0 1.0; … ; nothing 1.0 … nothing 1.0; nothing 1.0 … nothing 1.0], Dict{Vector{String}, Vector{PyObject}}([\"S\", \"C\", \"S\"]=>[PyObject [[[Dollar, heads], for], weekly], PyObject gain, PyObject [as, [pandemic, [recovery, stalls]]]], [\"S\"]=>[PyObject [[[[Dollar, heads], for], weekly], gain, [as, [pandemic, [recovery, stalls]]]]], [\"C\", \"T\", \"M\", \"C\", \"T\", \"M\", \"C\", \"C\"]=>[PyObject [Dollar, heads], PyObject for, PyObject weekly, PyObject gain, PyObject as, PyObject pandemic, PyObject recovery, PyObject stalls], [\"C\", \"T\", \"M\", \"C\", \"T\", \"M\", \"C\"]=>[PyObject [Dollar, heads], PyObject for, PyObject weekly, PyObject gain, PyObject as, PyObject pandemic, PyObject [recovery, stalls]], [\"C\", \"T\", \"M\", \"C\", \"T\", \"C\"]=>[PyObject [Dollar, heads], PyObject for, PyObject weekly, PyObject gain, PyObject as, PyObject [pandemic, [recovery, stalls]]], [\"C\", \"T\", \"M\", \"C\", \"S\"]=>[PyObject [Dollar, heads], PyObject for, PyObject weekl…\n",
       "  177  => (Union{Nothing, Float64}[nothing 1.0; 1.0 1.0; 1.0 1.0; 1.0 1.0], Dict{Vector{String}, Vector{PyObject}}([\"C\"]=>[PyObject [Key, [Inflation, Due]]], [\"M\", \"C\"]=>[PyObject Key, PyObject [Inflation, Due]], [\"M\", \"C\", \"C\", \"C\"]=>[PyObject Key, PyObject Inflation, PyObject Data, PyObject Due]))\n",
       "  676  => (Union{Nothing, Float64}[1.0 nothing … nothing 1.0; 1.0 nothing … nothing 1.0; … ; nothing nothing … 1.0 1.0; nothing nothing … 1.0 1.0], Dict{Vector{String}, Vector{PyObject}}([\"C\", \"C\", \"M\", \"P\", \"C\", \"B\", \"C\", \"C\", \"J\", \"C\"]=>[PyObject Record, PyObject Defaults, PyObject Are, PyObject Clouding, PyObject India, PyObject ’s, PyObject Resilient, PyObject Equities, PyObject ,, PyObject Bonds], [\"C\", \"M\", \"P\", \"C\", \"B\", \"C\", \"C\", \"J\", \"C\"]=>[PyObject [Record, Defaults], PyObject Are, PyObject Clouding, PyObject India, PyObject ’s, PyObject Resilient, PyObject Equities, PyObject ,, PyObject Bonds], [\"R\"]=>[PyObject [[Record, Defaults], [Are, [[Clouding, [India, ’s, [Resilient, Equities]], ,], Bonds]]]], [\"C\", \"M\", \"R\"]=>[PyObject [Record, Defaults], PyObject Are, PyObject [[Clouding, [India, ’s, [Resilient, Equities]], ,], Bonds]], [\"C\", \"R\"]=>[PyObject [Record, Defaults], PyObject [Are, [[Clouding, [India, ’s, [Resilient, Equities]], ,], Bonds]]], [\"C\", \"M\", \"P\", \"C\", \"J\", \"C\"…\n",
       "  1168 => (Union{Nothing, Float64}[nothing nothing … nothing 1.0; nothing nothing … 1.0 1.0; … ; 1.0 1.0 … 1.0 1.0; 1.0 1.0 … 1.0 1.0], Dict{Vector{String}, Vector{PyObject}}([\"P\", \"M\", \"T\", \"C\", \"P\", \"T\", \"M\", \"C\"]=>[PyObject Dollar, PyObject Down, PyObject as, PyObject Hopes, PyObject Grow, PyObject for, PyObject Rekindled, PyObject [US, Talks]], [\"P\", \"S\"]=>[PyObject Dollar, PyObject [Down, [as, [Hopes, Grow, [for, [Rekindled, [US, Talks]]]]]]], [\"R\"]=>[PyObject [Dollar, [Down, [as, [Hopes, Grow, [for, [Rekindled, [US, Talks]]]]]]]], [\"P\", \"M\", \"S\"]=>[PyObject Dollar, PyObject Down, PyObject [as, [Hopes, Grow, [for, [Rekindled, [US, Talks]]]]]], [\"P\", \"M\", \"T\", \"C\", \"P\", \"S\"]=>[PyObject Dollar, PyObject Down, PyObject as, PyObject Hopes, PyObject Grow, PyObject [for, [Rekindled, [US, Talks]]]], [\"P\", \"M\", \"T\", \"C\", \"P\", \"T\", \"C\"]=>[PyObject Dollar, PyObject Down, PyObject as, PyObject Hopes, PyObject Grow, PyObject for, PyObject [Rekindled, [US, Talks]]], [\"P\", \"M\", \"T\", \"C\", \"P\", …\n",
       "  637  => (Union{Nothing, Float64}[nothing nothing … 1.0 1.0; nothing nothing … 1.0 1.0; … ; nothing 1.0 … nothing 1.0; nothing 1.0 … nothing 1.0], Dict{Vector{String}, Vector{PyObject}}([\"C\", \"M\", \"T\", \"R\", \"J\", \"C\", \"P\", \"S\"]=>[PyObject Dollar, PyObject Up, PyObject as, PyObject [[US, Data], Disappoints], PyObject ,, PyObject Focus, PyObject Turns, PyObject [to, Inflation]], [\"C\", \"M\", \"T\", \"C\", \"C\", \"C\", \"P\", \"J\", \"C\", \"P\", \"T\", \"C\"]=>[PyObject Dollar, PyObject Up, PyObject as, PyObject US, PyObject Employment, PyObject Data, PyObject Disappoints, PyObject ,, PyObject Focus, PyObject Turns, PyObject to, PyObject Inflation], [\"C\", \"M\", \"T\", \"C\", \"P\", \"J\", \"C\", \"P\", \"T\", \"C\"]=>[PyObject Dollar, PyObject Up, PyObject as, PyObject [US, Data], PyObject Disappoints, PyObject ,, PyObject Focus, PyObject Turns, PyObject to, PyObject Inflation], [\"R\"]=>[PyObject [[Dollar, [Up, [as, [[US, Data], Disappoints]]], ,], Focus, Turns, [to, Inflation]]], [\"C\", \"M\", \"S\", \"J\", \"C\", \"P\", \"S\"]=>[PyObje…\n",
       "  730  => (Union{Nothing, Float64}[nothing nothing … nothing 1.0; nothing nothing … nothing 1.0; … ; nothing 1.0 … 1.0 1.0; nothing 1.0 … 1.0 1.0], Dict{Vector{String}, Vector{PyObject}}([\"C\", \"P\", \"T\", \"C\", \"C\", \"P\", \"C\", \"C\"]=>[PyObject Dollar, PyObject Weakens, PyObject After, PyObject Inflation, PyObject Data, PyObject Calms, PyObject Tapering, PyObject Fears], [\"R\"]=>[PyObject [Dollar, Weakens, [After, [[Inflation, Data], Calms, [Tapering, Fears]]]]], [\"C\", \"P\", \"T\", \"C\", \"P\", \"C\", \"C\"]=>[PyObject Dollar, PyObject Weakens, PyObject After, PyObject [Inflation, Data], PyObject Calms, PyObject Tapering, PyObject Fears], [\"C\", \"P\", \"T\", \"R\"]=>[PyObject Dollar, PyObject Weakens, PyObject After, PyObject [[Inflation, Data], Calms, [Tapering, Fears]]], [\"C\", \"P\", \"S\"]=>[PyObject Dollar, PyObject Weakens, PyObject [After, [[Inflation, Data], Calms, [Tapering, Fears]]]], [\"C\", \"P\", \"T\", \"C\", \"P\", \"C\"]=>[PyObject Dollar, PyObject Weakens, PyObject After, PyObject [Inflation, Data], PyObjec…\n",
       "  1039 => (Union{Nothing, Float64}[1.0 nothing … 1.0 1.0; 1.0 nothing … 1.0 1.0; … ; nothing 1.0 … nothing 1.0; nothing nothing … nothing 1.0], Dict{Vector{String}, Vector{PyObject}}([\"C\", \"P\", \"C\", \"S\", \"T\", \"C\", \"P\"]=>[PyObject [Dollar, downtrend], PyObject takes, PyObject breather, PyObject [amid, [higher, yields]], PyObject as, PyObject [jobs, report], PyObject looms], [\"C\", \"P\", \"C\", \"T\", \"M\", \"C\", \"T\", \"C\", \"C\", \"P\"]=>[PyObject [Dollar, downtrend], PyObject takes, PyObject breather, PyObject amid, PyObject higher, PyObject yields, PyObject as, PyObject jobs, PyObject report, PyObject looms], [\"R\"]=>[PyObject [[[[Dollar, downtrend], takes, breather, [amid, [higher, yields]]], as], [jobs, report], looms]], [\"R\", \"T\", \"C\", \"P\"]=>[PyObject [[Dollar, downtrend], takes, breather, [amid, [higher, yields]]], PyObject as, PyObject [jobs, report], PyObject looms], [\"C\", \"P\", \"C\", \"T\", \"C\", \"T\", \"C\", \"P\"]=>[PyObject [Dollar, downtrend], PyObject takes, PyObject breather, PyObject amid, PyO…\n",
       "  1085 => (Union{Nothing, Float64}[nothing nothing … nothing 1.0; nothing nothing … nothing 1.0; … ; nothing 1.0 … nothing 1.0; nothing 1.0 … nothing 1.0], Dict{Vector{String}, Vector{PyObject}}([\"S\"]=>[PyObject [[Dollar, Up, ,, But], [[Gains, Capped], by], B.1.1.7, [Strain, Jitters]]], [\"C\", \"M\", \"J\", \"J\", \"C\", \"T\", \"X\", \"C\", \"C\"]=>[PyObject Dollar, PyObject Up, PyObject ,, PyObject But, PyObject [Gains, Capped], PyObject by, PyObject B.1.1.7, PyObject Strain, PyObject Jitters], [\"C\", \"M\", \"J\", \"J\", \"C\", \"T\", \"X\", \"C\"]=>[PyObject Dollar, PyObject Up, PyObject ,, PyObject But, PyObject [Gains, Capped], PyObject by, PyObject B.1.1.7, PyObject [Strain, Jitters]], [\"C\", \"C\", \"T\", \"X\", \"C\"]=>[PyObject [Dollar, Up, ,, But], PyObject [Gains, Capped], PyObject by, PyObject B.1.1.7, PyObject [Strain, Jitters]], [\"C\", \"S\", \"X\", \"C\"]=>[PyObject [Dollar, Up, ,, But], PyObject [[Gains, Capped], by], PyObject B.1.1.7, PyObject [Strain, Jitters]], [\"C\", \"M\", \"J\", \"J\", \"C\", \"C\", \"T\", \"X\", \"C\", \"C\"]=…\n",
       "  523  => (Union{Nothing, Float64}[nothing 1.0 1.0 1.0; nothing 1.0 1.0 1.0; … ; 1.0 nothing nothing 1.0; 1.0 nothing nothing 1.0], Dict{Vector{String}, Vector{PyObject}}([\"C\", \"P\", \"T\", \"X\", \"M\"]=>[PyObject bitcoin, PyObject pops, PyObject above, PyObject $, PyObject 40,000], [\"S\"]=>[PyObject [[[bitcoin, pops], above], [$, 40,000]]], [\"C\", \"P\", \"T\", \"X\"]=>[PyObject bitcoin, PyObject pops, PyObject above, PyObject [$, 40,000]], [\"R\", \"T\", \"X\"]=>[PyObject [bitcoin, pops], PyObject above, PyObject [$, 40,000]], [\"S\", \"X\"]=>[PyObject [[bitcoin, pops], above], PyObject [$, 40,000]]))\n",
       "  1050 => (Union{Nothing, Float64}[1.0 nothing 1.0; 1.0 nothing 1.0; nothing 1.0 1.0; nothing 1.0 1.0], Dict{Vector{String}, Vector{PyObject}}([\"S\"]=>[PyObject [[Senate, Runoffs], [in, Spotlight]]], [\"C\", \"T\", \"C\"]=>[PyObject [Senate, Runoffs], PyObject in, PyObject Spotlight], [\"C\", \"S\"]=>[PyObject [Senate, Runoffs], PyObject [in, Spotlight]], [\"C\", \"C\", \"T\", \"C\"]=>[PyObject Senate, PyObject Runoffs, PyObject in, PyObject Spotlight]))\n",
       "  1276 => (Union{Nothing, Float64}[1.0 1.0; 1.0 1.0; nothing 1.0], Dict{Vector{String}, Vector{PyObject}}([\"C\", \"P\"]=>[PyObject [Election, Positioning], PyObject Noted], [\"R\"]=>[PyObject [[Election, Positioning], Noted]], [\"C\", \"C\", \"P\"]=>[PyObject Election, PyObject Positioning, PyObject Noted]))\n",
       "  1285 => (Union{Nothing, Float64}[nothing nothing … nothing 1.0; nothing nothing … nothing 1.0; … ; nothing nothing … nothing 1.0; nothing nothing … nothing 1.0], Dict{Vector{String}, Vector{PyObject}}([\"C\", \"P\", \"M\", \"C\", \"S\", \"M\", \"P\", \"T\", \"C\", \"S\"]=>[PyObject Pound, PyObject Gives, PyObject Up, PyObject Gains, PyObject [as, [Traders, BoE]], PyObject to, PyObject Ease, PyObject Amid, PyObject [Second, Lockdown], PyObject [in, England]], [\"C\", \"P\", \"M\", \"C\", \"T\", \"C\", \"M\", \"P\", \"T\", \"C\", \"C\", \"T\", \"C\"]=>[PyObject Pound, PyObject Gives, PyObject Up, PyObject Gains, PyObject as, PyObject [Traders, BoE], PyObject to, PyObject Ease, PyObject Amid, PyObject Second, PyObject Lockdown, PyObject in, PyObject England], [\"C\", \"P\", \"M\", \"R\", \"T\", \"C\", \"S\"]=>[PyObject Pound, PyObject Gives, PyObject Up, PyObject [Gains, [[as, [Traders, BoE]], to], Ease], PyObject Amid, PyObject [Second, Lockdown], PyObject [in, England]], [\"C\", \"P\", \"M\", \"C\", \"T\", \"C\", \"M\", \"P\", \"T\", \"C\", \"T\", \"C\"]=>[PyObject …\n",
       "  802  => (Union{Nothing, Float64}[1.0 nothing 1.0 1.0; 1.0 nothing 1.0 1.0; … ; nothing nothing nothing 1.0; nothing nothing nothing 1.0], Dict{Vector{String}, Vector{PyObject}}([\"C\", \"C\", \"J\", \"C\", \"C\", \"C\", \"P\", \"C\"]=>[PyObject Covid, PyObject Concerns, PyObject and, PyObject Potential, PyObject Tax, PyObject Rises, PyObject Hit, PyObject Sentiment], [\"C\", \"P\", \"C\"]=>[PyObject [[Covid, Concerns], and, [Potential, Rises]], PyObject Hit, PyObject Sentiment], [\"R\"]=>[PyObject [[[Covid, Concerns], and, [Potential, Rises]], Hit, Sentiment]], [\"C\", \"J\", \"C\", \"P\", \"C\"]=>[PyObject [Covid, Concerns], PyObject and, PyObject [Potential, Rises], PyObject Hit, PyObject Sentiment], [\"C\", \"J\", \"C\", \"C\", \"C\", \"P\", \"C\"]=>[PyObject [Covid, Concerns], PyObject and, PyObject Potential, PyObject Tax, PyObject Rises, PyObject Hit, PyObject Sentiment]))\n",
       "  1356 => (Union{Nothing, Float64}[nothing nothing … 1.0 1.0; nothing nothing … 1.0 1.0; … ; nothing 1.0 … nothing 1.0; nothing nothing … nothing 1.0], Dict{Vector{String}, Vector{PyObject}}([\"S\"]=>[PyObject [[[[[[Dollar, Down], ,, [Trump, Willing]], to], Go, Bigger], on], [Stimulus, Than], Democrats]], [\"C\", \"J\", \"C\", \"M\", \"P\", \"C\", \"T\", \"S\", \"C\"]=>[PyObject [Dollar, Down], PyObject ,, PyObject [Trump, Willing], PyObject to, PyObject Go, PyObject Bigger, PyObject on, PyObject [Stimulus, Than], PyObject Democrats], [\"C\", \"M\", \"J\", \"C\", \"M\", \"P\", \"C\", \"T\", \"C\", \"T\", \"C\"]=>[PyObject Dollar, PyObject Down, PyObject ,, PyObject [Trump, Willing], PyObject to, PyObject Go, PyObject Bigger, PyObject on, PyObject Stimulus, PyObject Than, PyObject Democrats], [\"C\", \"M\", \"P\", \"C\", \"T\", \"S\", \"C\"]=>[PyObject [[Dollar, Down], ,, [Trump, Willing]], PyObject to, PyObject Go, PyObject Bigger, PyObject on, PyObject [Stimulus, Than], PyObject Democrats], [\"C\", \"M\", \"J\", \"C\", \"C\", \"M\", \"P\", \"C\", \"T\", \"C…\n",
       "  77   => (Union{Nothing, Float64}[1.0 nothing … nothing 1.0; 1.0 nothing … nothing 1.0; … ; nothing nothing … nothing 1.0; nothing nothing … nothing 1.0], Dict{Vector{String}, Vector{PyObject}}([\"S\"]=>[PyObject [[US, Weakest], [Growth, of], [[Pandemic, Recovery], on], [Supply, Woes]]], [\"C\", \"C\", \"T\", \"C\", \"T\", \"C\"]=>[PyObject [US, Weakest], PyObject Growth, PyObject of, PyObject [Pandemic, Recovery], PyObject on, PyObject [Supply, Woes]], [\"C\", \"S\", \"S\", \"C\"]=>[PyObject [US, Weakest], PyObject [Growth, of], PyObject [[Pandemic, Recovery], on], PyObject [Supply, Woes]], [\"C\", \"C\", \"T\", \"C\", \"T\", \"C\", \"C\"]=>[PyObject [US, Weakest], PyObject Growth, PyObject of, PyObject [Pandemic, Recovery], PyObject on, PyObject Supply, PyObject Woes], [\"C\", \"C\", \"T\", \"S\", \"C\"]=>[PyObject [US, Weakest], PyObject Growth, PyObject of, PyObject [[Pandemic, Recovery], on], PyObject [Supply, Woes]], [\"C\", \"C\", \"C\", \"C\", \"T\", \"C\", \"C\", \"T\", \"C\", \"C\"]=>[PyObject US, PyObject Posts, PyObject Weakest, PyObjec…\n",
       "  1466 => (Union{Nothing, Float64}[1.0 nothing … 1.0 1.0; 1.0 nothing … 1.0 1.0; … ; nothing 1.0 … nothing 1.0; nothing 1.0 … nothing 1.0], Dict{Vector{String}, Vector{PyObject}}([\"C\", \"P\", \"M\", \"X\", \"M\", \"M\", \"C\", \"C\"]=>[PyObject [Virgin, Islands], PyObject Suspends, PyObject Nearly, PyObject $, PyObject 1, PyObject Billion, PyObject Bond, PyObject Sale], [\"C\", \"P\", \"M\", \"X\", \"M\", \"M\", \"C\"]=>[PyObject [Virgin, Islands], PyObject Suspends, PyObject Nearly, PyObject $, PyObject 1, PyObject Billion, PyObject [Bond, Sale]], [\"R\", \"X\", \"C\"]=>[PyObject [[[Virgin, Islands], Suspends], Nearly], PyObject $, PyObject [1, [Billion, [Bond, Sale]]]], [\"R\"]=>[PyObject [[[[Virgin, Islands], Suspends], Nearly], $, [1, [Billion, [Bond, Sale]]]]], [\"C\", \"C\", \"P\", \"M\", \"X\", \"M\", \"M\", \"C\", \"C\"]=>[PyObject Virgin, PyObject Islands, PyObject Suspends, PyObject Nearly, PyObject $, PyObject 1, PyObject Billion, PyObject Bond, PyObject Sale], [\"C\", \"P\", \"M\", \"X\", \"C\"]=>[PyObject [Virgin, Islands], PyObject S…\n",
       "  172  => (Union{Nothing, Float64}[nothing nothing … nothing 1.0; nothing nothing … nothing 1.0; … ; 1.0 1.0 … 1.0 1.0; 1.0 1.0 … 1.0 1.0], Dict{Vector{String}, Vector{PyObject}}([\"C\", \"P\", \"M\", \"S\"]=>[PyObject Dollar, PyObject edges, PyObject down, PyObject [as, [traders, await, [US, data]]]], [\"C\", \"P\", \"M\", \"T\", \"R\"]=>[PyObject Dollar, PyObject edges, PyObject down, PyObject as, PyObject [traders, await, [US, data]]], [\"C\", \"P\", \"M\", \"T\", \"C\", \"P\", \"C\", \"C\", \"C\"]=>[PyObject Dollar, PyObject edges, PyObject down, PyObject as, PyObject traders, PyObject await, PyObject US, PyObject jobs, PyObject data], [\"R\"]=>[PyObject [Dollar, edges, [down, [as, [traders, await, [US, data]]]]]], [\"C\", \"P\", \"S\"]=>[PyObject Dollar, PyObject edges, PyObject [down, [as, [traders, await, [US, data]]]]], [\"C\", \"P\", \"M\", \"T\", \"C\", \"P\", \"C\"]=>[PyObject Dollar, PyObject edges, PyObject down, PyObject as, PyObject traders, PyObject await, PyObject [US, data]]))\n",
       "  685  => (Union{Nothing, Float64}[1.0 1.0; 1.0 1.0; nothing 1.0], Dict{Vector{String}, Vector{PyObject}}([\"C\", \"P\"]=>[PyObject [Risk, Sentiment], PyObject Climbs], [\"R\"]=>[PyObject [[Risk, Sentiment], Climbs]], [\"C\", \"C\", \"P\"]=>[PyObject Risk, PyObject Sentiment, PyObject Climbs]))\n",
       "  103  => (Union{Nothing, Float64}[nothing nothing … nothing 1.0; nothing nothing … nothing 1.0; … ; nothing 1.0 … nothing 1.0; nothing 1.0 … nothing 1.0], Dict{Vector{String}, Vector{PyObject}}([\"C\", \"M\", \"J\", \"P\", \"M\", \"T\", \"C\", \"M\", \"X\", \"R\"]=>[PyObject Dollar, PyObject Up, PyObject ,, PyObject Pound, PyObject Up, PyObject as, PyObject [BOE, Signals], PyObject Earlier, PyObject -, PyObject [Than-, Expected, [Interest, Hike]]], [\"C\", \"M\", \"J\", \"P\", \"M\", \"T\", \"C\", \"C\", \"M\", \"X\", \"C\", \"P\", \"C\", \"C\", \"C\"]=>[PyObject Dollar, PyObject Up, PyObject ,, PyObject Pound, PyObject Up, PyObject as, PyObject BOE, PyObject Signals, PyObject Earlier, PyObject -, PyObject Than-, PyObject Expected, PyObject Interest, PyObject Rate, PyObject Hike], [\"C\", \"P\", \"T\", \"C\", \"M\", \"X\", \"R\"]=>[PyObject [Dollar, Up, ,], PyObject [Pound, Up], PyObject as, PyObject [BOE, Signals], PyObject Earlier, PyObject -, PyObject [Than-, Expected, [Interest, Hike]]], [\"C\", \"M\", \"J\", \"P\", \"M\", \"T\", \"C\", \"M\", \"X\", \"C\", \"P\",…\n",
       "  526  => (Union{Nothing, Float64}[nothing nothing nothing 1.0; nothing nothing nothing 1.0; … ; 1.0 nothing 1.0 1.0; 1.0 nothing 1.0 1.0], Dict{Vector{String}, Vector{PyObject}}([\"C\", \"P\", \"C\", \"S\"]=>[PyObject Dollar, PyObject looks, PyObject stronger, PyObject [[as, euro, and], [sterling, dip]]], [\"C\", \"P\", \"C\", \"T\", \"C\", \"J\", \"C\"]=>[PyObject Dollar, PyObject looks, PyObject stronger, PyObject as, PyObject euro, PyObject and, PyObject [sterling, dip]], [\"R\"]=>[PyObject [Dollar, looks, stronger, [[as, euro, and], [sterling, dip]]]], [\"C\", \"P\", \"C\", \"T\", \"C\"]=>[PyObject Dollar, PyObject looks, PyObject stronger, PyObject [as, euro, and], PyObject [sterling, dip]], [\"C\", \"P\", \"C\", \"T\", \"C\", \"J\", \"C\", \"C\"]=>[PyObject Dollar, PyObject looks, PyObject stronger, PyObject as, PyObject euro, PyObject and, PyObject sterling, PyObject dip]))\n",
       "  844  => (Union{Nothing, Float64}[nothing nothing … nothing 1.0; nothing nothing … nothing 1.0; … ; nothing 1.0 … 1.0 1.0; nothing 1.0 … 1.0 1.0], Dict{Vector{String}, Vector{PyObject}}([\"C\", \"X\", \"C\", \"P\", \"R\"]=>[PyObject Graphic, PyObject :, PyObject [Commodity, surge], PyObject leaves, PyObject [emerging, [currencies, adrift]]], [\"C\", \"X\", \"R\"]=>[PyObject Graphic, PyObject :, PyObject [[Commodity, surge], leaves, [emerging, [currencies, adrift]]]], [\"R\"]=>[PyObject [Graphic, :, [[Commodity, surge], leaves, [emerging, [currencies, adrift]]]]], [\"C\", \"X\", \"C\", \"C\", \"C\", \"P\", \"P\", \"C\", \"C\"]=>[PyObject Graphic, PyObject :, PyObject Commodity, PyObject price, PyObject surge, PyObject leaves, PyObject emerging, PyObject currencies, PyObject adrift], [\"C\", \"X\", \"C\", \"P\", \"P\", \"C\"]=>[PyObject Graphic, PyObject :, PyObject [Commodity, surge], PyObject leaves, PyObject emerging, PyObject [currencies, adrift]], [\"C\", \"X\", \"C\", \"P\", \"P\", \"C\", \"C\"]=>[PyObject Graphic, PyObject :, PyObject [Com…\n",
       "  1036 => (Union{Nothing, Float64}[nothing nothing … 1.0 1.0; nothing nothing … 1.0 1.0; … ; nothing 1.0 … nothing 1.0; nothing 1.0 … nothing 1.0], Dict{Vector{String}, Vector{PyObject}}([\"C\", \"M\", \"T\", \"C\", \"T\", \"P\", \"C\", \"J\", \"P\", \"T\", \"C\", \"C\", \"X\", \"C\", \"C\"]=>[PyObject Brazil, PyObject real, PyObject on, PyObject pause, PyObject in, PyObject coming, PyObject weeks, PyObject ,, PyObject focus, PyObject on, PyObject vaccination, PyObject progress, PyObject :, PyObject Reuters, PyObject poll], [\"C\", \"M\", \"T\", \"C\", \"T\", \"P\", \"C\", \"J\", \"P\", \"T\", \"C\", \"X\", \"C\", \"C\"]=>[PyObject Brazil, PyObject real, PyObject on, PyObject pause, PyObject in, PyObject coming, PyObject weeks, PyObject ,, PyObject focus, PyObject on, PyObject [vaccination, progress], PyObject :, PyObject Reuters, PyObject poll], [\"C\", \"M\", \"T\", \"C\", \"P\", \"T\", \"C\", \"X\", \"C\"]=>[PyObject Brazil, PyObject real, PyObject on, PyObject [pause, [in, [coming, weeks]], ,], PyObject focus, PyObject on, PyObject [vaccination, progress]…\n",
       "  59   => (Union{Nothing, Float64}[nothing nothing … 1.0 1.0; nothing nothing … 1.0 1.0; … ; nothing 1.0 … nothing 1.0; nothing 1.0 … nothing 1.0], Dict{Vector{String}, Vector{PyObject}}([\"M\", \"C\", \"M\", \"T\", \"M\", \"P\", \"C\", \"C\", \"X\", \"C\", \"C\"]=>[PyObject More, PyObject trouble, PyObject ahead, PyObject for, PyObject erratic, PyObject emerging, PyObject market, PyObject currencies, PyObject -, PyObject Reuters, PyObject poll], [\"M\", \"C\", \"M\", \"T\", \"M\", \"R\", \"X\", \"C\"]=>[PyObject More, PyObject trouble, PyObject ahead, PyObject for, PyObject erratic, PyObject [emerging, [market, currencies]], PyObject -, PyObject [Reuters, poll]], [\"M\", \"C\", \"M\", \"T\", \"R\", \"X\", \"C\"]=>[PyObject More, PyObject trouble, PyObject ahead, PyObject for, PyObject [erratic, [emerging, [market, currencies]]], PyObject -, PyObject [Reuters, poll]], [\"C\"]=>[PyObject [[More, trouble], [ahead, [for, [erratic, [emerging, [market, currencies]]]]], -, [Reuters, poll]]], [\"M\", \"C\", \"M\", \"T\", \"M\", \"P\", \"C\", \"X\", \"C\"]=>[PyOb…\n",
       "  773  => (Union{Nothing, Float64}[1.0 nothing … nothing 1.0; 1.0 nothing … nothing 1.0; … ; nothing nothing … nothing 1.0; nothing nothing … nothing 1.0], Dict{Vector{String}, Vector{PyObject}}([\"C\", \"C\", \"T\", \"C\", \"C\", \"T\", \"C\", \"T\", \"C\", \"P\", \"C\"]=>[PyObject Euro, PyObject Retreats, PyObject From, PyObject Session, PyObject Highs, PyObject Against, PyObject Dollar, PyObject as, PyObject France, PyObject Widens, PyObject Lockdown], [\"S\", \"C\", \"S\", \"T\", \"C\", \"P\", \"C\"]=>[PyObject [[Euro, Retreats], From], PyObject [Session, Highs], PyObject [Against, Dollar], PyObject as, PyObject France, PyObject Widens, PyObject Lockdown], [\"R\"]=>[PyObject [[[Euro, Retreats], From], [Session, Highs], [Against, Dollar], [as, France], Widens, Lockdown]], [\"C\", \"T\", \"C\", \"S\", \"T\", \"C\", \"P\", \"C\"]=>[PyObject [Euro, Retreats], PyObject From, PyObject [Session, Highs], PyObject [Against, Dollar], PyObject as, PyObject France, PyObject Widens, PyObject Lockdown], [\"C\", \"T\", \"C\", \"C\", \"T\", \"C\", \"T\", \"C\", \"P\"…\n",
       "  1171 => (Union{Nothing, Float64}[1.0 nothing 1.0 1.0; 1.0 nothing 1.0 1.0; … ; nothing 1.0 nothing 1.0; nothing 1.0 nothing 1.0], Dict{Vector{String}, Vector{PyObject}}([\"C\", \"C\", \"P\", \"X\", \"X\", \"T\", \"C\"]=>[PyObject Moderna, PyObject News, PyObject Helps, PyObject Risk, PyObject -, PyObject On, PyObject Move], [\"R\", \"X\", \"X\", \"S\"]=>[PyObject [[Moderna, News], Helps], PyObject Risk, PyObject -, PyObject [On, Move]], [\"R\"]=>[PyObject [[[Moderna, News], Helps], Risk, -, [On, Move]]], [\"C\", \"P\", \"X\", \"X\", \"T\", \"C\"]=>[PyObject [Moderna, News], PyObject Helps, PyObject Risk, PyObject -, PyObject On, PyObject Move], [\"C\", \"P\", \"X\", \"X\", \"S\"]=>[PyObject [Moderna, News], PyObject Helps, PyObject Risk, PyObject -, PyObject [On, Move]]))\n",
       "  1739 => (Union{Nothing, Float64}[nothing nothing … nothing 1.0; nothing nothing … nothing 1.0; … ; nothing 1.0 … nothing 1.0; nothing 1.0 … nothing 1.0], Dict{Vector{String}, Vector{PyObject}}([\"R\"]=>[PyObject [Macron, Is, [the, [Wild, Card]], [in, [the, [U.K., ’s, Attempt]]], [to, [Get, [an, [EU, Deal]]]]]], [\"C\", \"P\", \"M\", \"C\", \"T\", \"C\", \"R\"]=>[PyObject Macron, PyObject Is, PyObject the, PyObject [Wild, Card], PyObject in, PyObject [the, [U.K., ’s, Attempt]], PyObject [to, [Get, [an, [EU, Deal]]]]], [\"C\", \"P\", \"M\", \"C\", \"T\", \"M\", \"C\", \"B\", \"C\", \"M\", \"P\", \"C\"]=>[PyObject Macron, PyObject Is, PyObject the, PyObject [Wild, Card], PyObject in, PyObject the, PyObject U.K., PyObject ’s, PyObject Attempt, PyObject to, PyObject Get, PyObject [an, [EU, Deal]]], [\"C\", \"P\", \"M\", \"C\", \"T\", \"M\", \"C\", \"B\", \"C\", \"M\", \"P\", \"M\", \"C\"]=>[PyObject Macron, PyObject Is, PyObject the, PyObject [Wild, Card], PyObject in, PyObject the, PyObject U.K., PyObject ’s, PyObject Attempt, PyObject to, PyObject Ge…\n",
       "  211  => (Union{Nothing, Float64}[nothing nothing … 1.0 1.0; nothing nothing … 1.0 1.0; … ; nothing 1.0 … nothing 1.0; nothing 1.0 … nothing 1.0], Dict{Vector{String}, Vector{PyObject}}([\"C\", \"P\", \"X\", \"C\", \"T\", \"S\", \"C\", \"X\", \"T\", \"X\", \"P\", \"C\"]=>[PyObject [Dollar, Up, ,], PyObject [Hits, One], PyObject -, PyObject [Month, High], PyObject as, PyObject [[Fed, Hints], at], PyObject Earlier, PyObject -, PyObject Than, PyObject -, PyObject Expected, PyObject [Rate, Hike]], [\"C\", \"P\", \"X\", \"C\", \"M\", \"T\", \"S\", \"C\", \"X\", \"T\", \"X\", \"P\", \"C\"]=>[PyObject [Dollar, Up, ,], PyObject [Hits, One], PyObject -, PyObject Month, PyObject High, PyObject as, PyObject [[Fed, Hints], at], PyObject Earlier, PyObject -, PyObject Than, PyObject -, PyObject Expected, PyObject [Rate, Hike]], [\"R\"]=>[PyObject [[[Dollar, Up, ,], [Hits, One]], -, [[Month, High], as], [[Fed, Hints], at], Earlier, -, Than, -, [Expected, [Rate, Hike]]]], [\"C\", \"P\", \"X\", \"S\", \"S\", \"C\", \"X\", \"T\", \"X\", \"R\"]=>[PyObject [Dollar, Up, ,], …\n",
       "  358  => (Union{Nothing, Float64}[nothing nothing … nothing 1.0; nothing nothing … 1.0 1.0; … ; nothing 1.0 … 1.0 1.0; nothing 1.0 … 1.0 1.0], Dict{Vector{String}, Vector{PyObject}}([\"C\", \"C\"]=>[PyObject Dollar, PyObject [Up, [,, [Investors, Brace], [for, [Latest, [US, Report]]]]]], [\"C\", \"M\", \"J\", \"C\", \"T\", \"M\", \"C\"]=>[PyObject Dollar, PyObject Up, PyObject ,, PyObject [Investors, Brace], PyObject for, PyObject Latest, PyObject [US, Report]], [\"C\", \"M\", \"J\", \"C\", \"T\", \"C\"]=>[PyObject Dollar, PyObject Up, PyObject ,, PyObject [Investors, Brace], PyObject for, PyObject [Latest, [US, Report]]], [\"C\"]=>[PyObject [Dollar, [Up, [,, [Investors, Brace], [for, [Latest, [US, Report]]]]]]], [\"C\", \"M\", \"J\", \"C\", \"C\", \"T\", \"M\", \"C\", \"C\", \"C\"]=>[PyObject Dollar, PyObject Up, PyObject ,, PyObject Investors, PyObject Brace, PyObject for, PyObject Latest, PyObject US, PyObject Jobs, PyObject Report], [\"C\", \"M\", \"J\", \"C\", \"T\", \"M\", \"C\", \"C\", \"C\"]=>[PyObject Dollar, PyObject Up, PyObject ,, PyObject […\n",
       "  366  => (Union{Nothing, Float64}[nothing nothing … 1.0 1.0; nothing nothing … 1.0 1.0; … ; nothing nothing … nothing 1.0; nothing nothing … nothing 1.0], Dict{Vector{String}, Vector{PyObject}}([\"S\"]=>[PyObject [[[Dollar, Up], Over], [[Fed, Hints], [at, [Early, Tapering], ,]], [Interest, Hikes]]], [\"C\", \"M\", \"T\", \"C\", \"T\", \"C\"]=>[PyObject Dollar, PyObject Up, PyObject Over, PyObject [Fed, Hints], PyObject [at, [Early, Tapering], ,], PyObject [Interest, Hikes]], [\"C\", \"M\", \"T\", \"S\", \"C\"]=>[PyObject Dollar, PyObject Up, PyObject Over, PyObject [[Fed, Hints], [at, [Early, Tapering], ,]], PyObject [Interest, Hikes]], [\"C\", \"M\", \"T\", \"C\", \"T\", \"C\", \"C\", \"C\", \"J\", \"C\", \"C\", \"C\"]=>[PyObject Dollar, PyObject Up, PyObject Over, PyObject [Fed, Hints], PyObject at, PyObject Early, PyObject Asset, PyObject Tapering, PyObject ,, PyObject Interest, PyObject Rate, PyObject Hikes], [\"C\", \"M\", \"T\", \"C\", \"T\", \"C\", \"J\", \"C\"]=>[PyObject Dollar, PyObject Up, PyObject Over, PyObject [Fed, Hints], PyObject…\n",
       "  414  => (Union{Nothing, Float64}[nothing nothing … nothing 1.0; nothing nothing … nothing 1.0; … ; 1.0 1.0 … 1.0 1.0; 1.0 1.0 … 1.0 1.0], Dict{Vector{String}, Vector{PyObject}}([\"C\", \"P\", \"M\", \"M\", \"P\", \"C\", \"T\", \"C\", \"T\", \"C\", \"C\"]=>[PyObject Vietnam, PyObject pledges, PyObject not, PyObject to, PyObject devalue, PyObject currency, PyObject in, PyObject agreement, PyObject with, PyObject US, PyObject Treasury], [\"C\", \"P\", \"M\", \"M\", \"P\", \"C\", \"S\", \"S\"]=>[PyObject Vietnam, PyObject pledges, PyObject not, PyObject to, PyObject devalue, PyObject currency, PyObject [in, agreement], PyObject [with, [US, Treasury]]], [\"R\"]=>[PyObject [Vietnam, pledges, [not, [to, [devalue, currency, [in, agreement], [with, [US, Treasury]]]]]]], [\"C\", \"P\", \"M\", \"M\", \"P\", \"C\", \"T\", \"C\", \"S\"]=>[PyObject Vietnam, PyObject pledges, PyObject not, PyObject to, PyObject devalue, PyObject currency, PyObject in, PyObject agreement, PyObject [with, [US, Treasury]]], [\"C\", \"P\", \"M\", \"M\", \"R\"]=>[PyObject Vietnam, PyOb…\n",
       "  1058 => (Union{Nothing, Float64}[nothing nothing … 1.0 1.0; nothing nothing … 1.0 1.0; … ; nothing nothing … nothing 1.0; nothing nothing … nothing 1.0], Dict{Vector{String}, Vector{PyObject}}([\"S\", \"X\", \"C\", \"X\", \"S\"]=>[PyObject [[Dollar, Down, ,], With], PyObject ‘, PyObject [Twin, Deficits], PyObject ’, PyObject [Likely, [to, [[Extend, [Dollar, Weakness]], [Into, 2021]]]]], [\"C\", \"M\", \"J\", \"T\", \"X\", \"C\", \"X\", \"M\", \"M\", \"P\", \"C\", \"T\", \"M\"]=>[PyObject Dollar, PyObject Down, PyObject ,, PyObject With, PyObject ‘, PyObject [Twin, Deficits], PyObject ’, PyObject Likely, PyObject to, PyObject Extend, PyObject [Dollar, Weakness], PyObject Into, PyObject 2021], [\"C\", \"M\", \"J\", \"T\", \"X\", \"C\", \"X\", \"M\", \"M\", \"S\"]=>[PyObject Dollar, PyObject Down, PyObject ,, PyObject With, PyObject ‘, PyObject [Twin, Deficits], PyObject ’, PyObject Likely, PyObject to, PyObject [[Extend, [Dollar, Weakness]], [Into, 2021]]], [\"C\", \"M\", \"J\", \"T\", \"X\", \"C\", \"X\", \"M\", \"S\"]=>[PyObject Dollar, PyObject Down, PyO…\n",
       "  1625 => (Union{Nothing, Float64}[nothing 1.0 … 1.0 1.0; nothing 1.0 … 1.0 1.0; … ; nothing nothing … nothing 1.0; nothing nothing … nothing 1.0], Dict{Vector{String}, Vector{PyObject}}([\"S\"]=>[PyObject [[[[Johnson, and, Sunak], Try, [to, [Reassure, [U.K., Tories]]]], Over], Tax, ‘, Horror, ’]], [\"C\", \"P\", \"R\", \"T\", \"C\", \"X\", \"C\", \"X\"]=>[PyObject [Johnson, and, Sunak], PyObject Try, PyObject [to, [Reassure, [U.K., Tories]]], PyObject Over, PyObject Tax, PyObject ‘, PyObject Horror, PyObject ’], [\"C\", \"J\", \"C\", \"P\", \"M\", \"P\", \"C\", \"T\", \"C\", \"X\", \"C\", \"X\"]=>[PyObject Johnson, PyObject and, PyObject Sunak, PyObject Try, PyObject to, PyObject Reassure, PyObject [U.K., Tories], PyObject Over, PyObject Tax, PyObject ‘, PyObject Horror, PyObject ’], [\"C\", \"P\", \"M\", \"R\", \"T\", \"C\", \"X\", \"C\", \"X\"]=>[PyObject [Johnson, and, Sunak], PyObject Try, PyObject to, PyObject [Reassure, [U.K., Tories]], PyObject Over, PyObject Tax, PyObject ‘, PyObject Horror, PyObject ’], [\"C\", \"J\", \"C\", \"P\", \"M\", \"P\",…\n",
       "  116  => (Union{Nothing, Float64}[1.0 nothing … nothing 1.0; 1.0 nothing … nothing 1.0; … ; nothing 1.0 … 1.0 1.0; nothing nothing … 1.0 1.0], Dict{Vector{String}, Vector{PyObject}}([\"C\", \"T\", \"C\", \"P\"]=>[PyObject [Dollar, Firms], PyObject as, PyObject [Chinese, Growth], PyObject Disappoints], [\"S\"]=>[PyObject [[Dollar, Firms], [as, [[Chinese, Growth], Disappoints]]]], [\"C\", \"C\", \"T\", \"C\", \"C\", \"C\", \"P\"]=>[PyObject Dollar, PyObject Firms, PyObject as, PyObject Chinese, PyObject 3Q, PyObject Growth, PyObject Disappoints], [\"C\", \"T\", \"R\"]=>[PyObject [Dollar, Firms], PyObject as, PyObject [[Chinese, Growth], Disappoints]], [\"C\", \"S\"]=>[PyObject [Dollar, Firms], PyObject [as, [[Chinese, Growth], Disappoints]]], [\"C\", \"T\", \"C\", \"C\", \"C\", \"P\"]=>[PyObject [Dollar, Firms], PyObject as, PyObject Chinese, PyObject 3Q, PyObject Growth, PyObject Disappoints]))\n",
       "  1669 => (Union{Nothing, Float64}[nothing nothing … 1.0 1.0; nothing nothing … 1.0 1.0; … ; nothing 1.0 … nothing 1.0; nothing 1.0 … nothing 1.0], Dict{Vector{String}, Vector{PyObject}}([\"C\", \"P\", \"T\", \"M\", \"C\", \"J\", \"C\", \"T\", \"C\"]=>[PyObject Dollar, PyObject dogged, PyObject by, PyObject economic, PyObject worries, PyObject ,, PyObject [yuan, gains], PyObject on, PyObject [trade, relief]], [\"S\"]=>[PyObject [[[[Dollar, dogged, [by, [economic, worries]]], ,, [yuan, gains]], on], [trade, relief]]], [\"R\", \"J\", \"C\", \"T\", \"C\"]=>[PyObject [Dollar, dogged, [by, [economic, worries]]], PyObject ,, PyObject [yuan, gains], PyObject on, PyObject [trade, relief]], [\"C\", \"P\", \"T\", \"M\", \"C\", \"J\", \"C\", \"C\", \"T\", \"C\", \"C\", \"C\"]=>[PyObject Dollar, PyObject dogged, PyObject by, PyObject economic, PyObject worries, PyObject ,, PyObject yuan, PyObject gains, PyObject on, PyObject trade, PyObject deal, PyObject relief], [\"C\", \"P\", \"T\", \"C\", \"J\", \"C\", \"T\", \"C\"]=>[PyObject Dollar, PyObject dogged, PyObject …\n",
       "  1814 => (Union{Nothing, Float64}[1.0 nothing … 1.0 1.0; 1.0 nothing … 1.0 1.0; … ; nothing 1.0 … nothing 1.0; nothing 1.0 … nothing 1.0], Dict{Vector{String}, Vector{PyObject}}([\"C\", \"P\", \"P\", \"C\", \"M\", \"P\", \"C\"]=>[PyObject [Australian, Dollar], PyObject Faces, PyObject Rising, PyObject Obstacles, PyObject to, PyObject Sustain, PyObject [Its, Rally]], [\"R\"]=>[PyObject [[[[Australian, Dollar], Faces, [Rising, Obstacles]], to], Sustain, [Its, Rally]]], [\"C\", \"P\", \"R\", \"M\", \"P\", \"C\"]=>[PyObject [Australian, Dollar], PyObject Faces, PyObject [Rising, Obstacles], PyObject to, PyObject Sustain, PyObject [Its, Rally]], [\"C\", \"C\", \"P\", \"P\", \"C\", \"M\", \"P\", \"C\", \"C\"]=>[PyObject Australian, PyObject Dollar, PyObject Faces, PyObject Rising, PyObject Obstacles, PyObject to, PyObject Sustain, PyObject Its, PyObject Rally], [\"C\", \"P\", \"P\", \"C\", \"M\", \"P\", \"C\", \"C\"]=>[PyObject [Australian, Dollar], PyObject Faces, PyObject Rising, PyObject Obstacles, PyObject to, PyObject Sustain, PyObject Its, PyOb…\n",
       "  1102 => (Union{Nothing, Float64}[1.0 nothing … nothing 1.0; 1.0 nothing … nothing 1.0; … ; nothing 1.0 … 1.0 1.0; nothing nothing … 1.0 1.0], Dict{Vector{String}, Vector{PyObject}}([\"C\", \"C\", \"C\", \"J\", \"J\", \"C\", \"T\", \"C\", \"C\", \"P\"]=>[PyObject Pound, PyObject Cuts, PyObject Gains, PyObject ,, PyObject but, PyObject Optimism, PyObject Over, PyObject Brexit, PyObject Deal, PyObject Grows], [\"C\", \"J\", \"J\", \"C\", \"T\", \"C\", \"C\", \"P\"]=>[PyObject [Pound, Gains], PyObject ,, PyObject but, PyObject Optimism, PyObject Over, PyObject Brexit, PyObject Deal, PyObject Grows], [\"C\", \"J\", \"J\", \"C\", \"T\", \"C\", \"P\"]=>[PyObject [Pound, Gains], PyObject ,, PyObject but, PyObject Optimism, PyObject Over, PyObject [Brexit, Deal], PyObject Grows], [\"C\"]=>[PyObject [[Pound, Gains], ,, but, [Optimism, [Over, [Brexit, Deal]], Grows]]], [\"C\", \"J\", \"J\", \"R\"]=>[PyObject [Pound, Gains], PyObject ,, PyObject but, PyObject [Optimism, [Over, [Brexit, Deal]], Grows]], [\"C\", \"J\", \"J\", \"C\", \"S\", \"P\"]=>[PyObject [Pound, G…\n",
       "  ⋮    => ⋮"
      ]
     },
     "execution_count": 346,
     "metadata": {},
     "output_type": "execute_result"
    }
   ],
   "source": [
    "output = Dict(i => get_hg_tokens(articles_copy[i]) for i in 1:length(articles_copy))"
   ]
  },
  {
   "cell_type": "code",
   "execution_count": 347,
   "id": "047d099b",
   "metadata": {},
   "outputs": [
    {
     "data": {
      "text/plain": [
       "Any[]"
      ]
     },
     "execution_count": 347,
     "metadata": {},
     "output_type": "execute_result"
    }
   ],
   "source": [
    "results = Any[]"
   ]
  },
  {
   "cell_type": "code",
   "execution_count": 348,
   "id": "26d0322e",
   "metadata": {},
   "outputs": [],
   "source": [
    "pat = [[\"C\", \"P\", \"S\"], [\"P\", \"M\", \"S\"], [\"C\", \"P\", \"C\"]]\n",
    "for (key, value) in output\n",
    "    if !(value == nothing)\n",
    "#         if pat in keys(value[2])\n",
    "#             push!(results, (key, value[2]))\n",
    "#         end\n",
    "        if any(y->y in keys(value[2]), pat)\n",
    "            push!(results, (key, value[2]))\n",
    "        end\n",
    "    end\n",
    "end"
   ]
  },
  {
   "cell_type": "code",
   "execution_count": 349,
   "id": "663cc9b6",
   "metadata": {},
   "outputs": [
    {
     "data": {
      "text/plain": [
       "188-element Vector{Any}:\n",
       " (1028, Dict{Vector{String}, Vector{PyObject}}([\"C\", \"P\", \"T\", \"C\", \"P\", \"M\", \"T\", \"C\", \"C\", \"C\"] => [PyObject Pound, PyObject Climbs, PyObject as, PyObject Market, PyObject Pushes, PyObject Back, PyObject on, PyObject Negative, PyObject Rates, PyObject Speculation], [\"C\", \"P\", \"T\", \"C\", \"P\", \"M\", \"T\", \"C\"] => [PyObject Pound, PyObject Climbs, PyObject as, PyObject Market, PyObject Pushes, PyObject Back, PyObject on, PyObject [Negative, Speculation]], [\"R\"] => [PyObject [Pound, Climbs, [as, [Market, Pushes, [Back, [on, [Negative, Speculation]]]]]]], [\"C\", \"P\", \"T\", \"R\"] => [PyObject Pound, PyObject Climbs, PyObject as, PyObject [Market, Pushes, [Back, [on, [Negative, Speculation]]]]], [\"C\", \"P\", \"S\"] => [PyObject Pound, PyObject Climbs, PyObject [as, [Market, Pushes, [Back, [on, [Negative, Speculation]]]]]], [\"C\", \"P\", \"T\", \"C\", \"P\", \"M\", \"S\"] => [PyObject Pound, PyObject Climbs, PyObject as, PyObject Market, PyObject Pushes, PyObject Back, PyObject [on, [Negative, Speculation]]], [\"C\", \"P\", \"T\", \"C\", \"P\", \"S\"] => [PyObject Pound, PyObject Climbs, PyObject as, PyObject Market, PyObject Pushes, PyObject [Back, [on, [Negative, Speculation]]]]))\n",
       " (319, Dict{Vector{String}, Vector{PyObject}}([\"C\", \"P\", \"T\", \"C\", \"P\", \"T\", \"M\", \"C\"] => [PyObject Dollar, PyObject Soars, PyObject as, PyObject [Federal, Reserve], PyObject Hints, PyObject at, PyObject Early, PyObject Tapering], [\"R\"] => [PyObject [Dollar, Soars, [as, [[Federal, Reserve], Hints, [at, [Early, Tapering]]]]]], [\"C\", \"P\", \"T\", \"R\"] => [PyObject Dollar, PyObject Soars, PyObject as, PyObject [[Federal, Reserve], Hints, [at, [Early, Tapering]]]], [\"C\", \"P\", \"S\"] => [PyObject Dollar, PyObject Soars, PyObject [as, [[Federal, Reserve], Hints, [at, [Early, Tapering]]]]], [\"C\", \"P\", \"T\", \"C\", \"P\", \"T\", \"C\"] => [PyObject Dollar, PyObject Soars, PyObject as, PyObject [Federal, Reserve], PyObject Hints, PyObject at, PyObject [Early, Tapering]], [\"C\", \"P\", \"T\", \"C\", \"C\", \"P\", \"T\", \"M\", \"C\"] => [PyObject Dollar, PyObject Soars, PyObject as, PyObject Federal, PyObject Reserve, PyObject Hints, PyObject at, PyObject Early, PyObject Tapering], [\"C\", \"P\", \"T\", \"C\", \"P\", \"S\"] => [PyObject Dollar, PyObject Soars, PyObject as, PyObject [Federal, Reserve], PyObject Hints, PyObject [at, [Early, Tapering]]]))\n",
       " (1812, Dict{Vector{String}, Vector{PyObject}}([\"C\", \"P\", \"T\", \"C\", \"P\", \"P\", \"C\"] => [PyObject Dollar, PyObject squashed, PyObject as, PyObject Fed, PyObject seen, PyObject softening, PyObject [inflation, stance]], [\"R\"] => [PyObject [Dollar, squashed, [as, [Fed, seen, [softening, [inflation, stance]]]]]], [\"C\", \"P\", \"T\", \"R\"] => [PyObject Dollar, PyObject squashed, PyObject as, PyObject [Fed, seen, [softening, [inflation, stance]]]], [\"C\", \"P\", \"S\"] => [PyObject Dollar, PyObject squashed, PyObject [as, [Fed, seen, [softening, [inflation, stance]]]]], [\"C\", \"P\", \"T\", \"C\", \"P\", \"R\"] => [PyObject Dollar, PyObject squashed, PyObject as, PyObject Fed, PyObject seen, PyObject [softening, [inflation, stance]]], [\"C\", \"P\", \"T\", \"C\", \"P\", \"P\", \"C\", \"C\"] => [PyObject Dollar, PyObject squashed, PyObject as, PyObject Fed, PyObject seen, PyObject softening, PyObject inflation, PyObject stance]))\n",
       " (1168, Dict{Vector{String}, Vector{PyObject}}([\"P\", \"M\", \"T\", \"C\", \"P\", \"T\", \"M\", \"C\"] => [PyObject Dollar, PyObject Down, PyObject as, PyObject Hopes, PyObject Grow, PyObject for, PyObject Rekindled, PyObject [US, Talks]], [\"P\", \"S\"] => [PyObject Dollar, PyObject [Down, [as, [Hopes, Grow, [for, [Rekindled, [US, Talks]]]]]]], [\"R\"] => [PyObject [Dollar, [Down, [as, [Hopes, Grow, [for, [Rekindled, [US, Talks]]]]]]]], [\"P\", \"M\", \"S\"] => [PyObject Dollar, PyObject Down, PyObject [as, [Hopes, Grow, [for, [Rekindled, [US, Talks]]]]]], [\"P\", \"M\", \"T\", \"C\", \"P\", \"S\"] => [PyObject Dollar, PyObject Down, PyObject as, PyObject Hopes, PyObject Grow, PyObject [for, [Rekindled, [US, Talks]]]], [\"P\", \"M\", \"T\", \"C\", \"P\", \"T\", \"C\"] => [PyObject Dollar, PyObject Down, PyObject as, PyObject Hopes, PyObject Grow, PyObject for, PyObject [Rekindled, [US, Talks]]], [\"P\", \"M\", \"T\", \"C\", \"P\", \"T\", \"M\", \"C\", \"C\", \"C\"] => [PyObject Dollar, PyObject Down, PyObject as, PyObject Hopes, PyObject Grow, PyObject for, PyObject Rekindled, PyObject US, PyObject Stimulus, PyObject Talks], [\"P\", \"M\", \"T\", \"R\"] => [PyObject Dollar, PyObject Down, PyObject as, PyObject [Hopes, Grow, [for, [Rekindled, [US, Talks]]]]]))\n",
       " (730, Dict{Vector{String}, Vector{PyObject}}([\"C\", \"P\", \"T\", \"C\", \"C\", \"P\", \"C\", \"C\"] => [PyObject Dollar, PyObject Weakens, PyObject After, PyObject Inflation, PyObject Data, PyObject Calms, PyObject Tapering, PyObject Fears], [\"R\"] => [PyObject [Dollar, Weakens, [After, [[Inflation, Data], Calms, [Tapering, Fears]]]]], [\"C\", \"P\", \"T\", \"C\", \"P\", \"C\", \"C\"] => [PyObject Dollar, PyObject Weakens, PyObject After, PyObject [Inflation, Data], PyObject Calms, PyObject Tapering, PyObject Fears], [\"C\", \"P\", \"T\", \"R\"] => [PyObject Dollar, PyObject Weakens, PyObject After, PyObject [[Inflation, Data], Calms, [Tapering, Fears]]], [\"C\", \"P\", \"S\"] => [PyObject Dollar, PyObject Weakens, PyObject [After, [[Inflation, Data], Calms, [Tapering, Fears]]]], [\"C\", \"P\", \"T\", \"C\", \"P\", \"C\"] => [PyObject Dollar, PyObject Weakens, PyObject After, PyObject [Inflation, Data], PyObject Calms, PyObject [Tapering, Fears]]))\n",
       " (802, Dict{Vector{String}, Vector{PyObject}}([\"C\", \"C\", \"J\", \"C\", \"C\", \"C\", \"P\", \"C\"] => [PyObject Covid, PyObject Concerns, PyObject and, PyObject Potential, PyObject Tax, PyObject Rises, PyObject Hit, PyObject Sentiment], [\"C\", \"P\", \"C\"] => [PyObject [[Covid, Concerns], and, [Potential, Rises]], PyObject Hit, PyObject Sentiment], [\"R\"] => [PyObject [[[Covid, Concerns], and, [Potential, Rises]], Hit, Sentiment]], [\"C\", \"J\", \"C\", \"P\", \"C\"] => [PyObject [Covid, Concerns], PyObject and, PyObject [Potential, Rises], PyObject Hit, PyObject Sentiment], [\"C\", \"J\", \"C\", \"C\", \"C\", \"P\", \"C\"] => [PyObject [Covid, Concerns], PyObject and, PyObject Potential, PyObject Tax, PyObject Rises, PyObject Hit, PyObject Sentiment]))\n",
       " (172, Dict{Vector{String}, Vector{PyObject}}([\"C\", \"P\", \"M\", \"S\"] => [PyObject Dollar, PyObject edges, PyObject down, PyObject [as, [traders, await, [US, data]]]], [\"C\", \"P\", \"M\", \"T\", \"R\"] => [PyObject Dollar, PyObject edges, PyObject down, PyObject as, PyObject [traders, await, [US, data]]], [\"C\", \"P\", \"M\", \"T\", \"C\", \"P\", \"C\", \"C\", \"C\"] => [PyObject Dollar, PyObject edges, PyObject down, PyObject as, PyObject traders, PyObject await, PyObject US, PyObject jobs, PyObject data], [\"R\"] => [PyObject [Dollar, edges, [down, [as, [traders, await, [US, data]]]]]], [\"C\", \"P\", \"S\"] => [PyObject Dollar, PyObject edges, PyObject [down, [as, [traders, await, [US, data]]]]], [\"C\", \"P\", \"M\", \"T\", \"C\", \"P\", \"C\"] => [PyObject Dollar, PyObject edges, PyObject down, PyObject as, PyObject traders, PyObject await, PyObject [US, data]]))\n",
       " (279, Dict{Vector{String}, Vector{PyObject}}([\"R\"] => [PyObject [Dollar, softens, [after, ADP]]], [\"C\", \"P\", \"T\", \"C\"] => [PyObject Dollar, PyObject softens, PyObject after, PyObject ADP], [\"C\", \"P\", \"S\"] => [PyObject Dollar, PyObject softens, PyObject [after, ADP]]))\n",
       " (1526, Dict{Vector{String}, Vector{PyObject}}([\"C\", \"P\", \"T\", \"P\", \"S\"] => [PyObject Dollar, PyObject steadies, PyObject after, PyObject falling, PyObject [overnight, [on, [downbeat, [US, data]]]]], [\"R\"] => [PyObject [Dollar, steadies, [after, [falling, [overnight, [on, [downbeat, [US, data]]]]]]]], [\"C\", \"P\", \"T\", \"P\", \"M\", \"S\"] => [PyObject Dollar, PyObject steadies, PyObject after, PyObject falling, PyObject overnight, PyObject [on, [downbeat, [US, data]]]], [\"C\", \"P\", \"T\", \"R\"] => [PyObject Dollar, PyObject steadies, PyObject after, PyObject [falling, [overnight, [on, [downbeat, [US, data]]]]]], [\"C\", \"P\", \"T\", \"P\", \"M\", \"T\", \"C\"] => [PyObject Dollar, PyObject steadies, PyObject after, PyObject falling, PyObject overnight, PyObject on, PyObject [downbeat, [US, data]]], [\"C\", \"P\", \"S\"] => [PyObject Dollar, PyObject steadies, PyObject [after, [falling, [overnight, [on, [downbeat, [US, data]]]]]]], [\"C\", \"P\", \"T\", \"P\", \"M\", \"T\", \"M\", \"C\", \"C\"] => [PyObject Dollar, PyObject steadies, PyObject after, PyObject falling, PyObject overnight, PyObject on, PyObject downbeat, PyObject US, PyObject data], [\"C\", \"P\", \"T\", \"P\", \"M\", \"T\", \"M\", \"C\"] => [PyObject Dollar, PyObject steadies, PyObject after, PyObject falling, PyObject overnight, PyObject on, PyObject downbeat, PyObject [US, data]]))\n",
       " (1374, Dict{Vector{String}, Vector{PyObject}}([\"C\", \"P\", \"T\", \"C\", \"P\", \"C\", \"P\", \"M\", \"P\", \"R\"] => [PyObject Pound, PyObject Falls, PyObject as, PyObject [EU, Leaders], PyObject Say, PyObject UK, PyObject Needs, PyObject to, PyObject Make, PyObject [Concession, [to, Reach], Deal]], [\"C\", \"P\", \"T\", \"C\", \"P\", \"C\", \"P\", \"M\", \"P\", \"C\", \"P\", \"C\"] => [PyObject Pound, PyObject Falls, PyObject as, PyObject [EU, Leaders], PyObject Say, PyObject UK, PyObject Needs, PyObject to, PyObject Make, PyObject Concession, PyObject [to, Reach], PyObject Deal], [\"C\", \"P\", \"T\", \"C\", \"P\", \"C\", \"P\", \"R\"] => [PyObject Pound, PyObject Falls, PyObject as, PyObject [EU, Leaders], PyObject Say, PyObject UK, PyObject Needs, PyObject [to, [Make, [Concession, [to, Reach], Deal]]]], [\"C\", \"P\", \"T\", \"C\", \"P\", \"C\", \"P\", \"M\", \"R\"] => [PyObject Pound, PyObject Falls, PyObject as, PyObject [EU, Leaders], PyObject Say, PyObject UK, PyObject Needs, PyObject to, PyObject [Make, [Concession, [to, Reach], Deal]]], [\"C\", \"P\", \"T\", \"R\"] => [PyObject Pound, PyObject Falls, PyObject as, PyObject [[EU, Leaders], Say, [UK, Needs, [to, [Make, [Concession, [to, Reach], Deal]]]]]], [\"C\", \"P\", \"S\"] => [PyObject Pound, PyObject Falls, PyObject [as, [[EU, Leaders], Say, [UK, Needs, [to, [Make, [Concession, [to, Reach], Deal]]]]]]], [\"R\"] => [PyObject [Pound, Falls, [as, [[EU, Leaders], Say, [UK, Needs, [to, [Make, [Concession, [to, Reach], Deal]]]]]]]], [\"C\", \"P\", \"T\", \"C\", \"P\", \"R\"] => [PyObject Pound, PyObject Falls, PyObject as, PyObject [EU, Leaders], PyObject Say, PyObject [UK, Needs, [to, [Make, [Concession, [to, Reach], Deal]]]]], [\"C\", \"P\", \"T\", \"C\", \"C\", \"P\", \"C\", \"P\", \"M\", \"P\", \"C\", \"M\", \"P\", \"C\"] => [PyObject Pound, PyObject Falls, PyObject as, PyObject EU, PyObject Leaders, PyObject Say, PyObject UK, PyObject Needs, PyObject to, PyObject Make, PyObject Concession, PyObject to, PyObject Reach, PyObject Deal], [\"C\", \"P\", \"T\", \"C\", \"P\", \"C\", \"P\", \"M\", \"P\", \"C\", \"M\", \"P\", \"C\"] => [PyObject Pound, PyObject Falls, PyObject as, PyObject [EU, Leaders], PyObject Say, PyObject UK, PyObject Needs, PyObject to, PyObject Make, PyObject Concession, PyObject to, PyObject Reach, PyObject Deal]…))\n",
       " (1245, Dict{Vector{String}, Vector{PyObject}}([\"P\", \"M\", \"T\", \"C\"] => [PyObject Dollar, PyObject Down, PyObject Over, PyObject [Increased, [COVID-19, Hopes]]], [\"P\", \"S\"] => [PyObject Dollar, PyObject [Down, [Over, [Increased, [COVID-19, Hopes]]]]], [\"P\", \"M\", \"T\", \"M\", \"C\", \"C\", \"C\"] => [PyObject Dollar, PyObject Down, PyObject Over, PyObject Increased, PyObject COVID-19, PyObject Vaccine, PyObject Hopes], [\"P\", \"M\", \"S\"] => [PyObject Dollar, PyObject Down, PyObject [Over, [Increased, [COVID-19, Hopes]]]], [\"R\"] => [PyObject [Dollar, [Down, [Over, [Increased, [COVID-19, Hopes]]]]]], [\"P\", \"M\", \"T\", \"M\", \"C\"] => [PyObject Dollar, PyObject Down, PyObject Over, PyObject Increased, PyObject [COVID-19, Hopes]]))\n",
       " (716, Dict{Vector{String}, Vector{PyObject}}([\"C\", \"P\", \"M\", \"T\", \"P\", \"C\", \"J\", \"C\", \"J\", \"C\", \"C\", \"C\"] => [PyObject US, PyObject stops, PyObject short, PyObject of, PyObject declaring, PyObject Vietnam, PyObject ,, PyObject Switzerland, PyObject ,, PyObject Taiwan, PyObject currency, PyObject manipulators], [\"C\", \"P\", \"M\", \"T\", \"P\", \"C\", \"J\", \"C\"] => [PyObject US, PyObject stops, PyObject short, PyObject of, PyObject declaring, PyObject [Vietnam, ,, Switzerland], PyObject ,, PyObject [Taiwan, manipulators]], [\"C\", \"P\", \"M\", \"T\", \"P\", \"C\", \"J\", \"C\", \"J\", \"C\"] => [PyObject US, PyObject stops, PyObject short, PyObject of, PyObject declaring, PyObject Vietnam, PyObject ,, PyObject Switzerland, PyObject ,, PyObject [Taiwan, manipulators]], [\"C\", \"P\", \"M\", \"S\", \"J\", \"C\"] => [PyObject US, PyObject stops, PyObject short, PyObject [of, [declaring, [Vietnam, ,, Switzerland]]], PyObject ,, PyObject [Taiwan, manipulators]], [\"C\", \"P\", \"M\", \"C\"] => [PyObject US, PyObject stops, PyObject [short, [of, [declaring, [Vietnam, ,, Switzerland]]], ,], PyObject [Taiwan, manipulators]], [\"C\", \"P\", \"C\"] => [PyObject US, PyObject stops, PyObject [[short, [of, [declaring, [Vietnam, ,, Switzerland]]], ,], [Taiwan, manipulators]]], [\"R\"] => [PyObject [US, stops, [[short, [of, [declaring, [Vietnam, ,, Switzerland]]], ,], [Taiwan, manipulators]]]], [\"C\", \"P\", \"M\", \"T\", \"R\", \"J\", \"C\"] => [PyObject US, PyObject stops, PyObject short, PyObject of, PyObject [declaring, [Vietnam, ,, Switzerland]], PyObject ,, PyObject [Taiwan, manipulators]]))\n",
       " (245, Dict{Vector{String}, Vector{PyObject}}([\"C\", \"P\", \"C\"] => [PyObject Dollar, PyObject Strengthens, PyObject [[Ahead, [of, [Inflation, Data]], ,], [Fed, Meeting]]], [\"C\", \"P\", \"M\", \"T\", \"C\", \"J\", \"C\", \"C\"] => [PyObject Dollar, PyObject Strengthens, PyObject Ahead, PyObject of, PyObject [Inflation, Data], PyObject ,, PyObject Fed, PyObject Meeting], [\"C\", \"P\", \"M\", \"T\", \"C\", \"C\", \"J\", \"C\", \"C\"] => [PyObject Dollar, PyObject Strengthens, PyObject Ahead, PyObject of, PyObject Inflation, PyObject Data, PyObject ,, PyObject Fed, PyObject Meeting], [\"C\", \"P\", \"M\", \"S\", \"J\", \"C\"] => [PyObject Dollar, PyObject Strengthens, PyObject Ahead, PyObject [of, [Inflation, Data]], PyObject ,, PyObject [Fed, Meeting]], [\"C\", \"P\", \"M\", \"C\"] => [PyObject Dollar, PyObject Strengthens, PyObject [Ahead, [of, [Inflation, Data]], ,], PyObject [Fed, Meeting]], [\"R\"] => [PyObject [Dollar, Strengthens, [[Ahead, [of, [Inflation, Data]], ,], [Fed, Meeting]]]], [\"C\", \"P\", \"M\", \"T\", \"C\", \"J\", \"C\"] => [PyObject Dollar, PyObject Strengthens, PyObject Ahead, PyObject of, PyObject [Inflation, Data], PyObject ,, PyObject [Fed, Meeting]]))\n",
       " (1604, Dict{Vector{String}, Vector{PyObject}}([\"C\", \"M\", \"J\", \"J\", \"P\", \"T\", \"C\", \"B\", \"C\"] => [PyObject Dollar, PyObject Up, PyObject ,, PyObject But, PyObject Capped, PyObject by, PyObject Friday, PyObject ’s, PyObject [US, Data]], [\"R\"] => [PyObject [[Dollar, Up, ,, But], Capped, [by, [Friday, ’s, [US, Data]]]]], [\"C\", \"M\", \"J\", \"J\", \"P\", \"T\", \"C\", \"B\", \"C\", \"C\", \"C\"] => [PyObject Dollar, PyObject Up, PyObject ,, PyObject But, PyObject Capped, PyObject by, PyObject Friday, PyObject ’s, PyObject US, PyObject Job, PyObject Data], [\"C\", \"P\", \"T\", \"C\"] => [PyObject [Dollar, Up, ,, But], PyObject Capped, PyObject by, PyObject [Friday, ’s, [US, Data]]], [\"C\", \"P\", \"S\"] => [PyObject [Dollar, Up, ,, But], PyObject Capped, PyObject [by, [Friday, ’s, [US, Data]]]], [\"C\", \"P\", \"T\", \"C\", \"B\", \"C\"] => [PyObject [Dollar, Up, ,, But], PyObject Capped, PyObject by, PyObject Friday, PyObject ’s, PyObject [US, Data]]))\n",
       " (616, Dict{Vector{String}, Vector{PyObject}}([\"C\", \"C\", \"P\", \"T\", \"C\"] => [PyObject Covid, PyObject Cases, PyObject Rise, PyObject in, PyObject Asia], [\"R\"] => [PyObject [[Covid, Cases], Rise, [in, Asia]]], [\"C\", \"P\", \"T\", \"C\"] => [PyObject [Covid, Cases], PyObject Rise, PyObject in, PyObject Asia], [\"C\", \"P\", \"S\"] => [PyObject [Covid, Cases], PyObject Rise, PyObject [in, Asia]]))\n",
       " (672, Dict{Vector{String}, Vector{PyObject}}([\"C\", \"P\", \"T\", \"C\", \"P\"] => [PyObject Dollar, PyObject rebounds, PyObject as, PyObject [US, yields], PyObject rise], [\"R\"] => [PyObject [Dollar, rebounds, [as, [[US, yields], rise]]]], [\"C\", \"P\", \"T\", \"R\"] => [PyObject Dollar, PyObject rebounds, PyObject as, PyObject [[US, yields], rise]], [\"C\", \"P\", \"S\"] => [PyObject Dollar, PyObject rebounds, PyObject [as, [[US, yields], rise]]], [\"C\", \"P\", \"T\", \"C\", \"C\", \"P\"] => [PyObject Dollar, PyObject rebounds, PyObject as, PyObject US, PyObject yields, PyObject rise]))\n",
       " (762, Dict{Vector{String}, Vector{PyObject}}([\"C\", \"P\", \"C\"] => [PyObject [US, Profile], PyObject Looks, PyObject Impressive], [\"R\"] => [PyObject [[US, Profile], Looks, Impressive]], [\"C\", \"C\", \"C\", \"P\", \"C\"] => [PyObject US, PyObject Growth, PyObject Profile, PyObject Looks, PyObject Impressive]))\n",
       " (1808, Dict{Vector{String}, Vector{PyObject}}([\"R\"] => [PyObject [Dollar, bounces, [as, [[gold, bulls], take, [a, breather]]]]], [\"C\", \"P\", \"T\", \"R\"] => [PyObject Dollar, PyObject bounces, PyObject as, PyObject [[gold, bulls], take, [a, breather]]], [\"C\", \"P\", \"S\"] => [PyObject Dollar, PyObject bounces, PyObject [as, [[gold, bulls], take, [a, breather]]]], [\"C\", \"P\", \"T\", \"C\", \"C\", \"P\", \"M\", \"C\"] => [PyObject Dollar, PyObject bounces, PyObject as, PyObject gold, PyObject bulls, PyObject take, PyObject a, PyObject breather], [\"C\", \"P\", \"T\", \"C\", \"P\", \"M\", \"C\"] => [PyObject Dollar, PyObject bounces, PyObject as, PyObject [gold, bulls], PyObject take, PyObject a, PyObject breather], [\"C\", \"P\", \"T\", \"C\", \"P\", \"C\"] => [PyObject Dollar, PyObject bounces, PyObject as, PyObject [gold, bulls], PyObject take, PyObject [a, breather]]))\n",
       " (896, Dict{Vector{String}, Vector{PyObject}}([\"C\", \"C\", \"X\", \"M\", \"J\", \"J\", \"M\", \"C\", \"M\", \"P\", \"C\", \"C\"] => [PyObject Sterling, PyObject Tops, PyObject $, PyObject 1.41, PyObject ,, PyObject but, PyObject Further, PyObject Gains, PyObject Could, PyObject Prompt, PyObject BoE, PyObject Reaction], [\"C\", \"X\", \"M\", \"J\", \"J\", \"M\", \"C\", \"M\", \"P\", \"C\"] => [PyObject [Sterling, Tops], PyObject $, PyObject 1.41, PyObject ,, PyObject but, PyObject Further, PyObject Gains, PyObject Could, PyObject Prompt, PyObject [BoE, Reaction]], [\"C\", \"X\", \"M\", \"J\", \"J\", \"C\", \"M\", \"P\", \"C\"] => [PyObject [Sterling, Tops], PyObject $, PyObject 1.41, PyObject ,, PyObject but, PyObject [Further, Gains], PyObject Could, PyObject Prompt, PyObject [BoE, Reaction]], [\"C\", \"X\", \"J\", \"J\", \"C\", \"M\", \"P\", \"C\"] => [PyObject [Sterling, Tops], PyObject [$, 1.41], PyObject ,, PyObject but, PyObject [Further, Gains], PyObject Could, PyObject Prompt, PyObject [BoE, Reaction]], [\"C\", \"J\", \"C\", \"M\", \"P\", \"C\"] => [PyObject [[Sterling, Tops], [$, 1.41], ,], PyObject but, PyObject [Further, Gains], PyObject Could, PyObject Prompt, PyObject [BoE, Reaction]], [\"C\", \"P\", \"C\"] => [PyObject [[[[Sterling, Tops], [$, 1.41], ,], but, [Further, Gains]], Could], PyObject Prompt, PyObject [BoE, Reaction]], [\"R\"] => [PyObject [[[[[Sterling, Tops], [$, 1.41], ,], but, [Further, Gains]], Could], Prompt, [BoE, Reaction]]], [\"C\", \"X\", \"M\", \"J\", \"J\", \"M\", \"C\", \"M\", \"P\", \"C\", \"C\"] => [PyObject [Sterling, Tops], PyObject $, PyObject 1.41, PyObject ,, PyObject but, PyObject Further, PyObject Gains, PyObject Could, PyObject Prompt, PyObject BoE, PyObject Reaction], [\"C\", \"M\", \"P\", \"C\"] => [PyObject [[[Sterling, Tops], [$, 1.41], ,], but, [Further, Gains]], PyObject Could, PyObject Prompt, PyObject [BoE, Reaction]]))\n",
       " (587, Dict{Vector{String}, Vector{PyObject}}([\"C\", \"P\", \"C\"] => [PyObject [Fed, Officials], PyObject Maintain, PyObject [Dovish, Tilt]], [\"R\"] => [PyObject [[Fed, Officials], Maintain, [Dovish, Tilt]]], [\"C\", \"P\", \"M\", \"C\"] => [PyObject [Fed, Officials], PyObject Maintain, PyObject Dovish, PyObject Tilt], [\"C\", \"C\", \"P\", \"M\", \"C\"] => [PyObject Fed, PyObject Officials, PyObject Maintain, PyObject Dovish, PyObject Tilt]))\n",
       " (786, Dict{Vector{String}, Vector{PyObject}}([\"C\", \"P\", \"T\", \"C\", \"J\", \"C\", \"T\", \"P\", \"C\"] => [PyObject [Dollar, Up, ,], PyObject Gains, PyObject Against, PyObject Yen, PyObject and, PyObject Euro, PyObject Over, PyObject Strengthening, PyObject [US, Recovery]], [\"C\", \"M\", \"J\", \"P\", \"T\", \"C\", \"J\", \"C\", \"T\", \"P\", \"C\", \"C\", \"C\"] => [PyObject Dollar, PyObject Up, PyObject ,, PyObject Gains, PyObject Against, PyObject Yen, PyObject and, PyObject Euro, PyObject Over, PyObject Strengthening, PyObject US, PyObject Economic, PyObject Recovery], [\"C\", \"M\", \"J\", \"P\", \"T\", \"C\", \"J\", \"C\", \"T\", \"P\", \"C\"] => [PyObject Dollar, PyObject Up, PyObject ,, PyObject Gains, PyObject Against, PyObject Yen, PyObject and, PyObject Euro, PyObject Over, PyObject Strengthening, PyObject [US, Recovery]], [\"R\"] => [PyObject [[Dollar, Up, ,], Gains, [[Against, Yen, and], [[Euro, Over], Strengthening, [US, Recovery]]]]], [\"C\", \"P\", \"T\", \"R\"] => [PyObject [Dollar, Up, ,], PyObject Gains, PyObject [Against, Yen, and], PyObject [[Euro, Over], Strengthening, [US, Recovery]]], [\"C\", \"P\", \"S\"] => [PyObject [Dollar, Up, ,], PyObject Gains, PyObject [[Against, Yen, and], [[Euro, Over], Strengthening, [US, Recovery]]]], [\"C\", \"P\", \"T\", \"C\", \"J\", \"S\", \"P\", \"C\"] => [PyObject [Dollar, Up, ,], PyObject Gains, PyObject Against, PyObject Yen, PyObject and, PyObject [Euro, Over], PyObject Strengthening, PyObject [US, Recovery]], [\"C\", \"P\", \"T\", \"S\", \"P\", \"C\"] => [PyObject [Dollar, Up, ,], PyObject Gains, PyObject [Against, Yen, and], PyObject [Euro, Over], PyObject Strengthening, PyObject [US, Recovery]]))\n",
       " (1045, Dict{Vector{String}, Vector{PyObject}}([\"C\", \"P\", \"T\", \"C\", \"P\", \"C\", \"T\", \"C\"] => [PyObject Dollar, PyObject sinks, PyObject as, PyObject investors, PyObject weigh, PyObject [Democrat, gains], PyObject in, PyObject Georgia], [\"C\", \"P\", \"T\", \"C\", \"P\", \"C\", \"C\", \"T\", \"C\"] => [PyObject Dollar, PyObject sinks, PyObject as, PyObject investors, PyObject weigh, PyObject Democrat, PyObject gains, PyObject in, PyObject Georgia], [\"R\"] => [PyObject [Dollar, sinks, [as, [investors, weigh, [Democrat, gains], [in, Georgia]]]]], [\"C\", \"P\", \"T\", \"R\"] => [PyObject Dollar, PyObject sinks, PyObject as, PyObject [investors, weigh, [Democrat, gains], [in, Georgia]]], [\"C\", \"P\", \"S\"] => [PyObject Dollar, PyObject sinks, PyObject [as, [investors, weigh, [Democrat, gains], [in, Georgia]]]], [\"C\", \"P\", \"T\", \"C\", \"P\", \"C\", \"S\"] => [PyObject Dollar, PyObject sinks, PyObject as, PyObject investors, PyObject weigh, PyObject [Democrat, gains], PyObject [in, Georgia]]))\n",
       " (1612, Dict{Vector{String}, Vector{PyObject}}([\"C\", \"P\", \"M\", \"T\", \"C\", \"P\"] => [PyObject Dollar, PyObject hunkers, PyObject down, PyObject before, PyObject [key, [US, jobs]], PyObject report], [\"C\", \"P\", \"M\", \"S\"] => [PyObject Dollar, PyObject hunkers, PyObject down, PyObject [before, [[key, [US, jobs]], report]]], [\"C\", \"P\", \"M\", \"T\", \"R\"] => [PyObject Dollar, PyObject hunkers, PyObject down, PyObject before, PyObject [[key, [US, jobs]], report]], [\"R\"] => [PyObject [Dollar, hunkers, [down, [before, [[key, [US, jobs]], report]]]]], [\"C\", \"P\", \"M\", \"T\", \"M\", \"C\", \"P\"] => [PyObject Dollar, PyObject hunkers, PyObject down, PyObject before, PyObject key, PyObject [US, jobs], PyObject report], [\"C\", \"P\", \"S\"] => [PyObject Dollar, PyObject hunkers, PyObject [down, [before, [[key, [US, jobs]], report]]]], [\"C\", \"P\", \"M\", \"T\", \"M\", \"C\", \"C\", \"P\"] => [PyObject Dollar, PyObject hunkers, PyObject down, PyObject before, PyObject key, PyObject US, PyObject jobs, PyObject report]))\n",
       " (1304, Dict{Vector{String}, Vector{PyObject}}([\"R\"] => [PyObject [Euro, Looks, [to, ECB]]], [\"C\", \"P\", \"T\", \"C\"] => [PyObject Euro, PyObject Looks, PyObject to, PyObject ECB], [\"C\", \"P\", \"S\"] => [PyObject Euro, PyObject Looks, PyObject [to, ECB]]))\n",
       " (1578, Dict{Vector{String}, Vector{PyObject}}([\"P\", \"M\", \"T\", \"C\", \"P\", \"T\", \"C\", \"B\", \"C\", \"C\"] => [PyObject Dollar, PyObject Down, PyObject With, PyObject Investors, PyObject Looking, PyObject to, PyObject Thursday, PyObject ’s, PyObject ECB, PyObject Meeting], [\"P\", \"S\"] => [PyObject Dollar, PyObject [Down, [With, [Investors, Looking, [to, [Thursday, ’s, [ECB, Meeting]]]]]]], [\"R\"] => [PyObject [Dollar, [Down, [With, [Investors, Looking, [to, [Thursday, ’s, [ECB, Meeting]]]]]]]], [\"P\", \"M\", \"S\"] => [PyObject Dollar, PyObject Down, PyObject [With, [Investors, Looking, [to, [Thursday, ’s, [ECB, Meeting]]]]]], [\"P\", \"M\", \"T\", \"C\", \"P\", \"S\"] => [PyObject Dollar, PyObject Down, PyObject With, PyObject Investors, PyObject Looking, PyObject [to, [Thursday, ’s, [ECB, Meeting]]]], [\"P\", \"M\", \"T\", \"C\", \"P\", \"T\", \"C\", \"B\", \"C\"] => [PyObject Dollar, PyObject Down, PyObject With, PyObject Investors, PyObject Looking, PyObject to, PyObject Thursday, PyObject ’s, PyObject [ECB, Meeting]], [\"P\", \"M\", \"T\", \"C\", \"P\", \"T\", \"C\"] => [PyObject Dollar, PyObject Down, PyObject With, PyObject Investors, PyObject Looking, PyObject to, PyObject [Thursday, ’s, [ECB, Meeting]]], [\"P\", \"M\", \"T\", \"R\"] => [PyObject Dollar, PyObject Down, PyObject With, PyObject [Investors, Looking, [to, [Thursday, ’s, [ECB, Meeting]]]]]))\n",
       " (1259, Dict{Vector{String}, Vector{PyObject}}([\"R\"] => [PyObject [Sterling, Helped, [by, [BOE, Largesse]]]], [\"C\", \"P\", \"T\", \"C\"] => [PyObject Sterling, PyObject Helped, PyObject by, PyObject [BOE, Largesse]], [\"C\", \"P\", \"S\"] => [PyObject Sterling, PyObject Helped, PyObject [by, [BOE, Largesse]]], [\"C\", \"P\", \"T\", \"C\", \"C\"] => [PyObject Sterling, PyObject Helped, PyObject by, PyObject BOE, PyObject Largesse]))\n",
       " (1249, Dict{Vector{String}, Vector{PyObject}}([\"R\"] => [PyObject [Dollar, sinks, [after, [Biden, clinches, [US, presidency]]]]], [\"C\", \"P\", \"T\", \"C\", \"P\", \"C\", \"C\"] => [PyObject Dollar, PyObject sinks, PyObject after, PyObject Biden, PyObject clinches, PyObject US, PyObject presidency], [\"C\", \"P\", \"T\", \"R\"] => [PyObject Dollar, PyObject sinks, PyObject after, PyObject [Biden, clinches, [US, presidency]]], [\"C\", \"P\", \"S\"] => [PyObject Dollar, PyObject sinks, PyObject [after, [Biden, clinches, [US, presidency]]]], [\"C\", \"P\", \"T\", \"C\", \"P\", \"C\"] => [PyObject Dollar, PyObject sinks, PyObject after, PyObject Biden, PyObject clinches, PyObject [US, presidency]]))\n",
       " (1449, Dict{Vector{String}, Vector{PyObject}}([\"C\", \"P\", \"T\", \"C\", \"C\", \"C\"] => [PyObject [Risk, Appetite], PyObject Hit, PyObject by, PyObject Trump, PyObject Covid, PyObject News], [\"R\"] => [PyObject [[Risk, Appetite], Hit, [by, [Trump, News]]]], [\"C\", \"P\", \"T\", \"C\"] => [PyObject [Risk, Appetite], PyObject Hit, PyObject by, PyObject [Trump, News]], [\"C\", \"C\", \"P\", \"T\", \"C\", \"C\", \"C\"] => [PyObject Risk, PyObject Appetite, PyObject Hit, PyObject by, PyObject Trump, PyObject Covid, PyObject News], [\"C\", \"P\", \"S\"] => [PyObject [Risk, Appetite], PyObject Hit, PyObject [by, [Trump, News]]]))\n",
       " (330, Dict{Vector{String}, Vector{PyObject}}([\"C\", \"P\", \"C\"] => [PyObject Covid, PyObject Hits, PyObject [Consumer, Sentiment]], [\"R\"] => [PyObject [Covid, Hits, [Consumer, Sentiment]]], [\"C\", \"P\", \"C\", \"C\"] => [PyObject Covid, PyObject Hits, PyObject Consumer, PyObject Sentiment]))\n",
       " (684, Dict{Vector{String}, Vector{PyObject}}([\"C\", \"P\", \"M\", \"T\", \"C\", \"C\"] => [PyObject Dollar, PyObject Weakens, PyObject Ahead, PyObject of, PyObject Fed, PyObject Meeting], [\"C\", \"P\", \"M\", \"S\"] => [PyObject Dollar, PyObject Weakens, PyObject Ahead, PyObject [of, [Fed, Meeting]]], [\"R\"] => [PyObject [Dollar, Weakens, [Ahead, [of, [Fed, Meeting]]]]], [\"C\", \"P\", \"M\", \"T\", \"C\"] => [PyObject Dollar, PyObject Weakens, PyObject Ahead, PyObject of, PyObject [Fed, Meeting]], [\"C\", \"P\", \"S\"] => [PyObject Dollar, PyObject Weakens, PyObject [Ahead, [of, [Fed, Meeting]]]]))\n",
       " (1232, Dict{Vector{String}, Vector{PyObject}}([\"C\", \"P\", \"C\"] => [PyObject [Second, Wave], PyObject Prompts, PyObject Caution], [\"R\"] => [PyObject [[Second, Wave], Prompts, Caution]], [\"C\", \"C\", \"C\", \"P\", \"C\"] => [PyObject Second, PyObject Virus, PyObject Wave, PyObject Prompts, PyObject Caution]))\n",
       " (874, Dict{Vector{String}, Vector{PyObject}}([\"C\", \"C\", \"C\", \"P\", \"C\", \"C\"] => [PyObject Federal, PyObject Reserve, PyObject Seen, PyObject Tolerating, PyObject Higher, PyObject Yields], [\"C\", \"P\", \"C\"] => [PyObject [Federal, Seen], PyObject Tolerating, PyObject [Higher, Yields]], [\"R\"] => [PyObject [[Federal, Seen], Tolerating, [Higher, Yields]]], [\"C\", \"P\", \"C\", \"C\"] => [PyObject [Federal, Seen], PyObject Tolerating, PyObject Higher, PyObject Yields]))\n",
       " (1268, Dict{Vector{String}, Vector{PyObject}}([\"R\"] => [PyObject [Uncertainty, Climbs, [with, [Tight, Election]]]], [\"C\", \"P\", \"T\", \"C\"] => [PyObject Uncertainty, PyObject Climbs, PyObject with, PyObject [Tight, Election]], [\"C\", \"P\", \"S\"] => [PyObject Uncertainty, PyObject Climbs, PyObject [with, [Tight, Election]]], [\"C\", \"P\", \"T\", \"C\", \"C\"] => [PyObject Uncertainty, PyObject Climbs, PyObject with, PyObject Tight, PyObject Election]))\n",
       " (487, Dict{Vector{String}, Vector{PyObject}}([\"C\", \"P\", \"C\"] => [PyObject [Fed, Officials], PyObject Offer, PyObject [Mixed, Signals]], [\"R\"] => [PyObject [[Fed, Officials], Offer, [Mixed, Signals]]], [\"C\", \"P\", \"M\", \"C\"] => [PyObject [Fed, Officials], PyObject Offer, PyObject Mixed, PyObject Signals], [\"C\", \"C\", \"P\", \"M\", \"C\"] => [PyObject Fed, PyObject Officials, PyObject Offer, PyObject Mixed, PyObject Signals]))\n",
       " (744, Dict{Vector{String}, Vector{PyObject}}([\"R\"] => [PyObject [Dollar, Bounces, [Off, Lows]]], [\"C\", \"P\", \"T\", \"C\"] => [PyObject Dollar, PyObject Bounces, PyObject Off, PyObject Lows], [\"C\", \"P\", \"S\"] => [PyObject Dollar, PyObject Bounces, PyObject [Off, Lows]]))\n",
       " (1043, Dict{Vector{String}, Vector{PyObject}}([\"P\", \"M\", \"T\", \"C\", \"C\", \"P\", \"C\", \"C\"] => [PyObject Dollar, PyObject Down, PyObject as, PyObject US, PyObject Democrats, PyObject Win, PyObject Senate, PyObject Control], [\"P\", \"M\", \"T\", \"C\", \"P\", \"C\", \"C\"] => [PyObject Dollar, PyObject Down, PyObject as, PyObject [US, Democrats], PyObject Win, PyObject Senate, PyObject Control], [\"P\", \"S\"] => [PyObject Dollar, PyObject [Down, [as, [[US, Democrats], Win, [Senate, Control]]]]], [\"R\"] => [PyObject [Dollar, [Down, [as, [[US, Democrats], Win, [Senate, Control]]]]]], [\"P\", \"M\", \"S\"] => [PyObject Dollar, PyObject Down, PyObject [as, [[US, Democrats], Win, [Senate, Control]]]], [\"P\", \"M\", \"T\", \"C\", \"P\", \"C\"] => [PyObject Dollar, PyObject Down, PyObject as, PyObject [US, Democrats], PyObject Win, PyObject [Senate, Control]], [\"P\", \"M\", \"T\", \"R\"] => [PyObject Dollar, PyObject Down, PyObject as, PyObject [[US, Democrats], Win, [Senate, Control]]]))\n",
       " (236, Dict{Vector{String}, Vector{PyObject}}([\"C\", \"P\", \"C\"] => [PyObject [Fed, meeting], PyObject looms, PyObject [next, week]], [\"R\"] => [PyObject [[Fed, meeting], looms, [next, week]]], [\"C\", \"P\", \"M\", \"C\"] => [PyObject [Fed, meeting], PyObject looms, PyObject next, PyObject week], [\"C\", \"C\", \"P\", \"M\", \"C\"] => [PyObject Fed, PyObject meeting, PyObject looms, PyObject next, PyObject week]))\n",
       " (1680, Dict{Vector{String}, Vector{PyObject}}([\"C\", \"P\", \"C\"] => [PyObject Dollar, PyObject holds, PyObject [gains, ,, [looks, [to, [Powell, 's, speech]], [for, direction]]]], [\"R\"] => [PyObject [Dollar, holds, [gains, ,, [looks, [to, [Powell, 's, speech]], [for, direction]]]]], [\"C\", \"P\", \"C\", \"J\", \"P\", \"T\", \"C\", \"T\", \"C\"] => [PyObject Dollar, PyObject holds, PyObject gains, PyObject ,, PyObject looks, PyObject to, PyObject [Powell, 's, speech], PyObject for, PyObject direction], [\"C\", \"P\", \"C\", \"J\", \"P\", \"S\", \"S\"] => [PyObject Dollar, PyObject holds, PyObject gains, PyObject ,, PyObject looks, PyObject [to, [Powell, 's, speech]], PyObject [for, direction]], [\"C\", \"P\", \"C\", \"J\", \"P\", \"T\", \"C\", \"S\"] => [PyObject Dollar, PyObject holds, PyObject gains, PyObject ,, PyObject looks, PyObject to, PyObject [Powell, 's, speech], PyObject [for, direction]], [\"C\", \"P\", \"C\", \"J\", \"R\"] => [PyObject Dollar, PyObject holds, PyObject gains, PyObject ,, PyObject [looks, [to, [Powell, 's, speech]], [for, direction]]], [\"C\", \"P\", \"C\", \"J\", \"P\", \"T\", \"C\", \"B\", \"C\", \"T\", \"C\"] => [PyObject Dollar, PyObject holds, PyObject gains, PyObject ,, PyObject looks, PyObject to, PyObject Powell, PyObject 's, PyObject speech, PyObject for, PyObject direction]))\n",
       " ⋮\n",
       " (745, Dict{Vector{String}, Vector{PyObject}}([\"C\", \"P\", \"C\"] => [PyObject Fed, PyObject Remains, PyObject Accommodative], [\"R\"] => [PyObject [Fed, Remains, Accommodative]]))\n",
       " (378, Dict{Vector{String}, Vector{PyObject}}([\"C\", \"P\", \"M\", \"S\"] => [PyObject Dollar, PyObject Weakens, PyObject Ahead, PyObject [of, [Key, Data]]], [\"R\"] => [PyObject [Dollar, Weakens, [Ahead, [of, [Key, Data]]]]], [\"C\", \"P\", \"M\", \"T\", \"C\"] => [PyObject Dollar, PyObject Weakens, PyObject Ahead, PyObject of, PyObject [Key, Data]], [\"C\", \"P\", \"S\"] => [PyObject Dollar, PyObject Weakens, PyObject [Ahead, [of, [Key, Data]]]], [\"C\", \"P\", \"M\", \"T\", \"C\", \"C\", \"C\"] => [PyObject Dollar, PyObject Weakens, PyObject Ahead, PyObject of, PyObject Key, PyObject Payrolls, PyObject Data]))\n",
       " (1798, Dict{Vector{String}, Vector{PyObject}}([\"P\", \"M\", \"T\", \"C\", \"B\", \"C\", \"P\", \"C\"] => [PyObject Dollar, PyObject Down, PyObject After, PyObject Fed, PyObject ’s, PyObject Meeting, PyObject Unveils, PyObject [No, Surprises]], [\"P\", \"S\"] => [PyObject Dollar, PyObject [Down, [After, [[Fed, ’s, Meeting], Unveils, [No, Surprises]]]]], [\"R\"] => [PyObject [Dollar, [Down, [After, [[Fed, ’s, Meeting], Unveils, [No, Surprises]]]]]], [\"P\", \"M\", \"S\"] => [PyObject Dollar, PyObject Down, PyObject [After, [[Fed, ’s, Meeting], Unveils, [No, Surprises]]]], [\"P\", \"M\", \"T\", \"C\", \"P\", \"C\"] => [PyObject Dollar, PyObject Down, PyObject After, PyObject [Fed, ’s, Meeting], PyObject Unveils, PyObject [No, Surprises]], [\"P\", \"M\", \"T\", \"R\"] => [PyObject Dollar, PyObject Down, PyObject After, PyObject [[Fed, ’s, Meeting], Unveils, [No, Surprises]]], [\"P\", \"M\", \"T\", \"C\", \"B\", \"C\", \"P\", \"C\", \"C\"] => [PyObject Dollar, PyObject Down, PyObject After, PyObject Fed, PyObject ’s, PyObject Meeting, PyObject Unveils, PyObject No, PyObject Surprises]))\n",
       " (1227, Dict{Vector{String}, Vector{PyObject}}([\"R\"] => [PyObject [Dollar, steadies, [amid, [rising, [global, [coronavirus, cases]]]]]], [\"C\", \"P\", \"T\", \"P\", \"C\"] => [PyObject Dollar, PyObject steadies, PyObject amid, PyObject rising, PyObject [global, [coronavirus, cases]]], [\"C\", \"P\", \"T\", \"R\"] => [PyObject Dollar, PyObject steadies, PyObject amid, PyObject [rising, [global, [coronavirus, cases]]]], [\"C\", \"P\", \"S\"] => [PyObject Dollar, PyObject steadies, PyObject [amid, [rising, [global, [coronavirus, cases]]]]], [\"C\", \"P\", \"T\", \"P\", \"M\", \"C\", \"C\"] => [PyObject Dollar, PyObject steadies, PyObject amid, PyObject rising, PyObject global, PyObject coronavirus, PyObject cases], [\"C\", \"P\", \"T\", \"P\", \"M\", \"C\"] => [PyObject Dollar, PyObject steadies, PyObject amid, PyObject rising, PyObject global, PyObject [coronavirus, cases]]))\n",
       " (1376, Dict{Vector{String}, Vector{PyObject}}([\"C\", \"P\", \"C\"] => [PyObject Sterling, PyObject Expects, PyObject [Brexit, Progress]], [\"R\"] => [PyObject [Sterling, Expects, [Brexit, Progress]]], [\"C\", \"P\", \"C\", \"C\"] => [PyObject Sterling, PyObject Expects, PyObject Brexit, PyObject Progress]))\n",
       " (1492, Dict{Vector{String}, Vector{PyObject}}([\"C\", \"P\", \"T\", \"C\", \"J\", \"R\"] => [PyObject Dollar, PyObject shines, PyObject as, PyObject virus, PyObject ,, PyObject [[economy, woes], hit, [risk, assets]]], [\"C\", \"P\", \"T\", \"C\", \"J\", \"C\", \"P\", \"C\", \"C\"] => [PyObject Dollar, PyObject shines, PyObject as, PyObject virus, PyObject ,, PyObject [economy, woes], PyObject hit, PyObject risk, PyObject assets], [\"R\"] => [PyObject [Dollar, shines, [as, [virus, ,, [[economy, woes], hit, [risk, assets]]]]]], [\"C\", \"P\", \"T\", \"C\", \"J\", \"C\", \"C\", \"P\", \"C\", \"C\"] => [PyObject Dollar, PyObject shines, PyObject as, PyObject virus, PyObject ,, PyObject economy, PyObject woes, PyObject hit, PyObject risk, PyObject assets], [\"C\", \"P\", \"T\", \"C\"] => [PyObject Dollar, PyObject shines, PyObject as, PyObject [virus, ,, [[economy, woes], hit, [risk, assets]]]], [\"C\", \"P\", \"S\"] => [PyObject Dollar, PyObject shines, PyObject [as, [virus, ,, [[economy, woes], hit, [risk, assets]]]]], [\"C\", \"P\", \"T\", \"C\", \"J\", \"C\", \"P\", \"C\"] => [PyObject Dollar, PyObject shines, PyObject as, PyObject virus, PyObject ,, PyObject [economy, woes], PyObject hit, PyObject [risk, assets]]))\n",
       " (1738, Dict{Vector{String}, Vector{PyObject}}([\"C\", \"C\", \"P\", \"T\", \"M\", \"C\", \"C\", \"C\", \"P\", \"C\"] => [PyObject Euro, PyObject Renaissance, PyObject Emerges, PyObject From, PyObject an, PyObject EU, PyObject Deal, PyObject That, PyObject Changed, PyObject Everything], [\"R\"] => [PyObject [[Euro, Renaissance], Emerges, [From, [[an, [EU, That]], Changed, Everything]]]], [\"C\", \"P\", \"T\", \"R\"] => [PyObject [Euro, Renaissance], PyObject Emerges, PyObject From, PyObject [[an, [EU, That]], Changed, Everything]], [\"C\", \"P\", \"T\", \"M\", \"C\", \"C\", \"C\", \"P\", \"C\"] => [PyObject [Euro, Renaissance], PyObject Emerges, PyObject From, PyObject an, PyObject EU, PyObject Deal, PyObject That, PyObject Changed, PyObject Everything], [\"C\", \"P\", \"S\"] => [PyObject [Euro, Renaissance], PyObject Emerges, PyObject [From, [[an, [EU, That]], Changed, Everything]]], [\"C\", \"P\", \"T\", \"M\", \"C\", \"P\", \"C\"] => [PyObject [Euro, Renaissance], PyObject Emerges, PyObject From, PyObject an, PyObject [EU, That], PyObject Changed, PyObject Everything], [\"C\", \"P\", \"T\", \"C\", \"P\", \"C\"] => [PyObject [Euro, Renaissance], PyObject Emerges, PyObject From, PyObject [an, [EU, That]], PyObject Changed, PyObject Everything]))\n",
       " (1713, Dict{Vector{String}, Vector{PyObject}}([\"C\", \"P\", \"C\"] => [PyObject [Political, Warring], PyObject Hinders, PyObject [Stimulus, Delivery]], [\"R\"] => [PyObject [[Political, Warring], Hinders, [Stimulus, Delivery]]], [\"C\", \"C\", \"P\", \"C\", \"C\"] => [PyObject Political, PyObject Warring, PyObject Hinders, PyObject Stimulus, PyObject Delivery], [\"C\", \"P\", \"C\", \"C\"] => [PyObject [Political, Warring], PyObject Hinders, PyObject Stimulus, PyObject Delivery]))\n",
       " (992, Dict{Vector{String}, Vector{PyObject}}([\"C\", \"P\", \"T\", \"C\", \"P\"] => [PyObject [Dollar, 's, bounce], PyObject fades, PyObject as, PyObject [risk, appetite], PyObject rises], [\"R\"] => [PyObject [[Dollar, 's, bounce], fades, [as, [[risk, appetite], rises]]]], [\"C\", \"B\", \"C\", \"P\", \"T\", \"C\", \"C\", \"P\"] => [PyObject Dollar, PyObject 's, PyObject bounce, PyObject fades, PyObject as, PyObject risk, PyObject appetite, PyObject rises], [\"C\", \"P\", \"T\", \"R\"] => [PyObject [Dollar, 's, bounce], PyObject fades, PyObject as, PyObject [[risk, appetite], rises]], [\"C\", \"P\", \"S\"] => [PyObject [Dollar, 's, bounce], PyObject fades, PyObject [as, [[risk, appetite], rises]]], [\"C\", \"B\", \"C\", \"P\", \"T\", \"C\", \"P\"] => [PyObject Dollar, PyObject 's, PyObject bounce, PyObject fades, PyObject as, PyObject [risk, appetite], PyObject rises]))\n",
       " (1677, Dict{Vector{String}, Vector{PyObject}}([\"C\", \"P\", \"M\", \"T\", \"C\", \"C\", \"P\", \"T\", \"C\"] => [PyObject Dollar, PyObject hangs, PyObject on, PyObject as, PyObject currency, PyObject market, PyObject waits, PyObject for, PyObject Powell], [\"C\", \"P\", \"M\", \"S\"] => [PyObject Dollar, PyObject hangs, PyObject on, PyObject [as, [[currency, market], waits, [for, Powell]]]], [\"C\", \"P\", \"M\", \"T\", \"C\", \"P\", \"S\"] => [PyObject Dollar, PyObject hangs, PyObject on, PyObject as, PyObject [currency, market], PyObject waits, PyObject [for, Powell]], [\"C\", \"P\", \"M\", \"T\", \"R\"] => [PyObject Dollar, PyObject hangs, PyObject on, PyObject as, PyObject [[currency, market], waits, [for, Powell]]], [\"C\", \"P\", \"M\", \"T\", \"C\", \"P\", \"T\", \"C\"] => [PyObject Dollar, PyObject hangs, PyObject on, PyObject as, PyObject [currency, market], PyObject waits, PyObject for, PyObject Powell], [\"C\", \"P\", \"S\"] => [PyObject Dollar, PyObject hangs, PyObject [on, [as, [[currency, market], waits, [for, Powell]]]]], [\"R\"] => [PyObject [Dollar, hangs, [on, [as, [[currency, market], waits, [for, Powell]]]]]]))\n",
       " (1100, Dict{Vector{String}, Vector{PyObject}}([\"P\", \"M\", \"S\", \"M\"] => [PyObject Dollar, PyObject Down, PyObject [[as, [US, Stimulus], ,], [Brexit, Optimism]], PyObject Continues], [\"P\", \"S\"] => [PyObject Dollar, PyObject [Down, [[[as, [US, Stimulus], ,], [Brexit, Optimism]], Continues]]], [\"P\", \"M\", \"T\", \"C\", \"J\", \"C\", \"C\", \"C\", \"M\"] => [PyObject Dollar, PyObject Down, PyObject as, PyObject [US, Stimulus], PyObject ,, PyObject Brexit, PyObject Talks, PyObject Optimism, PyObject Continues], [\"P\", \"M\", \"T\", \"C\", \"M\"] => [PyObject Dollar, PyObject Down, PyObject [as, [US, Stimulus], ,], PyObject [Brexit, Optimism], PyObject Continues], [\"P\", \"M\", \"T\", \"C\", \"J\", \"C\", \"M\"] => [PyObject Dollar, PyObject Down, PyObject as, PyObject [US, Stimulus], PyObject ,, PyObject [Brexit, Optimism], PyObject Continues], [\"P\", \"M\", \"S\"] => [PyObject Dollar, PyObject Down, PyObject [[[as, [US, Stimulus], ,], [Brexit, Optimism]], Continues]], [\"R\"] => [PyObject [Dollar, [Down, [[[as, [US, Stimulus], ,], [Brexit, Optimism]], Continues]]]], [\"P\", \"M\", \"T\", \"C\", \"C\", \"J\", \"C\", \"C\", \"C\", \"M\"] => [PyObject Dollar, PyObject Down, PyObject as, PyObject US, PyObject Stimulus, PyObject ,, PyObject Brexit, PyObject Talks, PyObject Optimism, PyObject Continues]))\n",
       " (6, Dict{Vector{String}, Vector{PyObject}}([\"C\", \"P\", \"T\", \"M\", \"C\"] => [PyObject [NZ, dollar], PyObject drops, PyObject below, PyObject 70, PyObject level], [\"R\"] => [PyObject [[NZ, dollar], drops, [below, [70, level]]]], [\"C\", \"P\", \"T\", \"C\"] => [PyObject [NZ, dollar], PyObject drops, PyObject below, PyObject [70, level]], [\"C\", \"P\", \"S\"] => [PyObject [NZ, dollar], PyObject drops, PyObject [below, [70, level]]], [\"C\", \"C\", \"P\", \"T\", \"M\", \"C\"] => [PyObject NZ, PyObject dollar, PyObject drops, PyObject below, PyObject 70, PyObject level]))\n",
       " (1307, Dict{Vector{String}, Vector{PyObject}}([\"P\", \"M\", \"T\", \"C\", \"J\", \"C\"] => [PyObject Dollar, PyObject Down, PyObject Over, PyObject [Fresh, Lockdowns], PyObject ,, PyObject [US, Uncertainty]], [\"P\", \"M\", \"T\", \"C\"] => [PyObject Dollar, PyObject Down, PyObject [Over, [Fresh, Lockdowns], ,], PyObject [US, Uncertainty]], [\"P\", \"S\"] => [PyObject Dollar, PyObject [Down, [[Over, [Fresh, Lockdowns], ,], [US, Uncertainty]]]], [\"P\", \"M\", \"S\"] => [PyObject Dollar, PyObject Down, PyObject [[Over, [Fresh, Lockdowns], ,], [US, Uncertainty]]], [\"R\"] => [PyObject [Dollar, [Down, [[Over, [Fresh, Lockdowns], ,], [US, Uncertainty]]]]], [\"P\", \"M\", \"T\", \"C\", \"C\", \"C\", \"J\", \"C\", \"C\", \"C\"] => [PyObject Dollar, PyObject Down, PyObject Over, PyObject Fresh, PyObject European, PyObject Lockdowns, PyObject ,, PyObject US, PyObject Election, PyObject Uncertainty], [\"P\", \"M\", \"T\", \"C\", \"J\", \"C\", \"C\", \"C\"] => [PyObject Dollar, PyObject Down, PyObject Over, PyObject [Fresh, Lockdowns], PyObject ,, PyObject US, PyObject Election, PyObject Uncertainty]))\n",
       " (13, Dict{Vector{String}, Vector{PyObject}}([\"C\", \"P\", \"T\", \"M\", \"C\"] => [PyObject Dollar, PyObject Climbs, PyObject to, PyObject 2021, PyObject Highs], [\"R\"] => [PyObject [Dollar, Climbs, [to, [2021, Highs]]]], [\"C\", \"P\", \"T\", \"C\"] => [PyObject Dollar, PyObject Climbs, PyObject to, PyObject [2021, Highs]], [\"C\", \"P\", \"S\"] => [PyObject Dollar, PyObject Climbs, PyObject [to, [2021, Highs]]]))\n",
       " (1522, Dict{Vector{String}, Vector{PyObject}}([\"R\"] => [PyObject [Dollar, Weakens, [as, [Data, Disappoints]]]], [\"C\", \"P\", \"T\", \"C\"] => [PyObject Dollar, PyObject Weakens, PyObject as, PyObject [Data, Disappoints]], [\"C\", \"P\", \"S\"] => [PyObject Dollar, PyObject Weakens, PyObject [as, [Data, Disappoints]]], [\"C\", \"P\", \"T\", \"C\", \"C\"] => [PyObject Dollar, PyObject Weakens, PyObject as, PyObject Data, PyObject Disappoints]))\n",
       " (1602, Dict{Vector{String}, Vector{PyObject}}([\"R\"] => [PyObject [Sterling, Hit, [by, [Brexit, Woes]]]], [\"C\", \"P\", \"T\", \"C\"] => [PyObject Sterling, PyObject Hit, PyObject by, PyObject [Brexit, Woes]], [\"C\", \"P\", \"S\"] => [PyObject Sterling, PyObject Hit, PyObject [by, [Brexit, Woes]]], [\"C\", \"P\", \"T\", \"C\", \"C\"] => [PyObject Sterling, PyObject Hit, PyObject by, PyObject Brexit, PyObject Woes]))\n",
       " (1412, Dict{Vector{String}, Vector{PyObject}}([\"R\"] => [PyObject [Markets, Look, [to, [Biden, Presidency]]]], [\"C\", \"P\", \"T\", \"C\"] => [PyObject Markets, PyObject Look, PyObject to, PyObject [Biden, Presidency]], [\"C\", \"P\", \"S\"] => [PyObject Markets, PyObject Look, PyObject [to, [Biden, Presidency]]], [\"C\", \"P\", \"T\", \"C\", \"C\"] => [PyObject Markets, PyObject Look, PyObject to, PyObject Biden, PyObject Presidency]))\n",
       " (8, Dict{Vector{String}, Vector{PyObject}}([\"C\", \"P\", \"T\", \"M\", \"C\"] => [PyObject Dollar, PyObject climbs, PyObject after, PyObject hot, PyObject [US, inflation]], [\"R\"] => [PyObject [Dollar, climbs, [after, [hot, [US, inflation]]]]], [\"C\", \"P\", \"T\", \"C\"] => [PyObject Dollar, PyObject climbs, PyObject after, PyObject [hot, [US, inflation]]], [\"C\", \"P\", \"S\"] => [PyObject Dollar, PyObject climbs, PyObject [after, [hot, [US, inflation]]]], [\"C\", \"P\", \"T\", \"M\", \"C\", \"C\"] => [PyObject Dollar, PyObject climbs, PyObject after, PyObject hot, PyObject US, PyObject inflation]))\n",
       " (593, Dict{Vector{String}, Vector{PyObject}}([\"P\", \"M\", \"T\", \"C\", \"B\", \"C\", \"P\", \"C\"] => [PyObject Dollar, PyObject Down, PyObject as, PyObject [Fed, Officials], PyObject ’, PyObject Comments, PyObject Diminish, PyObject [Inflation, Worries]], [\"P\", \"S\"] => [PyObject Dollar, PyObject [Down, [as, [[[Fed, Officials], ’, Comments], Diminish, [Inflation, Worries]]]]], [\"R\"] => [PyObject [Dollar, [Down, [as, [[[Fed, Officials], ’, Comments], Diminish, [Inflation, Worries]]]]]], [\"P\", \"M\", \"S\"] => [PyObject Dollar, PyObject Down, PyObject [as, [[[Fed, Officials], ’, Comments], Diminish, [Inflation, Worries]]]], [\"P\", \"M\", \"T\", \"C\", \"P\", \"C\"] => [PyObject Dollar, PyObject Down, PyObject as, PyObject [[Fed, Officials], ’, Comments], PyObject Diminish, PyObject [Inflation, Worries]], [\"P\", \"M\", \"T\", \"C\", \"C\", \"B\", \"C\", \"P\", \"C\", \"C\"] => [PyObject Dollar, PyObject Down, PyObject as, PyObject Fed, PyObject Officials, PyObject ’, PyObject Comments, PyObject Diminish, PyObject Inflation, PyObject Worries], [\"P\", \"M\", \"T\", \"R\"] => [PyObject Dollar, PyObject Down, PyObject as, PyObject [[[Fed, Officials], ’, Comments], Diminish, [Inflation, Worries]]], [\"P\", \"M\", \"T\", \"C\", \"B\", \"C\", \"P\", \"C\", \"C\"] => [PyObject Dollar, PyObject Down, PyObject as, PyObject [Fed, Officials], PyObject ’, PyObject Comments, PyObject Diminish, PyObject Inflation, PyObject Worries]))\n",
       " (1491, Dict{Vector{String}, Vector{PyObject}}([\"P\", \"M\", \"T\", \"C\", \"P\", \"C\", \"C\"] => [PyObject Dollar, PyObject Down, PyObject as, PyObject Investors, PyObject Digest, PyObject Fed, PyObject Comments], [\"P\", \"S\"] => [PyObject Dollar, PyObject [Down, [as, [Investors, Digest, [Fed, Comments]]]]], [\"R\"] => [PyObject [Dollar, [Down, [as, [Investors, Digest, [Fed, Comments]]]]]], [\"P\", \"M\", \"S\"] => [PyObject Dollar, PyObject Down, PyObject [as, [Investors, Digest, [Fed, Comments]]]], [\"P\", \"M\", \"T\", \"C\", \"P\", \"C\"] => [PyObject Dollar, PyObject Down, PyObject as, PyObject Investors, PyObject Digest, PyObject [Fed, Comments]], [\"P\", \"M\", \"T\", \"R\"] => [PyObject Dollar, PyObject Down, PyObject as, PyObject [Investors, Digest, [Fed, Comments]]]))\n",
       " (869, Dict{Vector{String}, Vector{PyObject}}([\"C\", \"P\", \"T\", \"C\", \"P\", \"J\", \"C\", \"P\"] => [PyObject Dollar, PyObject slips, PyObject as, PyObject [bond, yields], PyObject drop, PyObject and, PyObject [investor, sentiment], PyObject strengthens], [\"R\"] => [PyObject [Dollar, slips, [as, [[[bond, yields], drop, and], [investor, sentiment], strengthens]]]], [\"C\", \"P\", \"T\", \"C\", \"P\", \"J\", \"C\", \"C\", \"P\"] => [PyObject Dollar, PyObject slips, PyObject as, PyObject [bond, yields], PyObject drop, PyObject and, PyObject investor, PyObject sentiment, PyObject strengthens], [\"C\", \"P\", \"T\", \"R\"] => [PyObject Dollar, PyObject slips, PyObject as, PyObject [[[bond, yields], drop, and], [investor, sentiment], strengthens]], [\"C\", \"P\", \"S\"] => [PyObject Dollar, PyObject slips, PyObject [as, [[[bond, yields], drop, and], [investor, sentiment], strengthens]]], [\"C\", \"P\", \"T\", \"C\", \"C\", \"P\"] => [PyObject Dollar, PyObject slips, PyObject as, PyObject [[bond, yields], drop, and], PyObject [investor, sentiment], PyObject strengthens], [\"C\", \"P\", \"T\", \"C\", \"C\", \"P\", \"J\", \"C\", \"C\", \"P\"] => [PyObject Dollar, PyObject slips, PyObject as, PyObject bond, PyObject yields, PyObject drop, PyObject and, PyObject investor, PyObject sentiment, PyObject strengthens]))\n",
       " (1179, Dict{Vector{String}, Vector{PyObject}}([\"R\"] => [PyObject [Stimulus, Expected, [to, [Combat, Pandemic]]]], [\"C\", \"P\", \"T\", \"C\"] => [PyObject Stimulus, PyObject Expected, PyObject to, PyObject [Combat, Pandemic]], [\"C\", \"P\", \"S\"] => [PyObject Stimulus, PyObject Expected, PyObject [to, [Combat, Pandemic]]], [\"C\", \"P\", \"T\", \"C\", \"C\"] => [PyObject Stimulus, PyObject Expected, PyObject to, PyObject Combat, PyObject Pandemic]))\n",
       " (423, Dict{Vector{String}, Vector{PyObject}}([\"C\", \"P\", \"T\", \"C\", \"C\", \"C\"] => [PyObject Dollar, PyObject Stabilizes, PyObject After, PyObject Dovish, PyObject Powell, PyObject Testimony], [\"R\"] => [PyObject [Dollar, Stabilizes, [After, [Dovish, Testimony]]]], [\"C\", \"P\", \"T\", \"C\"] => [PyObject Dollar, PyObject Stabilizes, PyObject After, PyObject [Dovish, Testimony]], [\"C\", \"P\", \"S\"] => [PyObject Dollar, PyObject Stabilizes, PyObject [After, [Dovish, Testimony]]]))\n",
       " (865, Dict{Vector{String}, Vector{PyObject}}([\"R\"] => [PyObject [Dollar, Rises, [on, [Higher, Yields]]]], [\"C\", \"P\", \"T\", \"C\"] => [PyObject Dollar, PyObject Rises, PyObject on, PyObject [Higher, Yields]], [\"C\", \"P\", \"S\"] => [PyObject Dollar, PyObject Rises, PyObject [on, [Higher, Yields]]], [\"C\", \"P\", \"T\", \"C\", \"C\"] => [PyObject Dollar, PyObject Rises, PyObject on, PyObject Higher, PyObject Yields]))\n",
       " (210, Dict{Vector{String}, Vector{PyObject}}([\"C\", \"P\", \"C\"] => [PyObject Traders, PyObject Digest, PyObject [Fed, Statement]], [\"R\"] => [PyObject [[Traders, Digest], [Fed, Statement]]], [\"R\", \"C\"] => [PyObject [Traders, Digest], PyObject [Fed, Statement]], [\"C\", \"P\", \"C\", \"C\"] => [PyObject Traders, PyObject Digest, PyObject Fed, PyObject Statement]))\n",
       " (1826, Dict{Vector{String}, Vector{PyObject}}([\"R\"] => [PyObject [Dollar, Weakens, [as, [[German, Confidence], Boosts, [Risk, Appetite]]]]], [\"C\", \"P\", \"T\", \"R\"] => [PyObject Dollar, PyObject Weakens, PyObject as, PyObject [[German, Confidence], Boosts, [Risk, Appetite]]], [\"C\", \"P\", \"S\"] => [PyObject Dollar, PyObject Weakens, PyObject [as, [[German, Confidence], Boosts, [Risk, Appetite]]]], [\"C\", \"P\", \"T\", \"M\", \"C\", \"P\", \"C\"] => [PyObject Dollar, PyObject Weakens, PyObject as, PyObject German, PyObject Confidence, PyObject Boosts, PyObject [Risk, Appetite]], [\"C\", \"P\", \"T\", \"M\", \"C\", \"P\", \"C\", \"C\"] => [PyObject Dollar, PyObject Weakens, PyObject as, PyObject German, PyObject Confidence, PyObject Boosts, PyObject Risk, PyObject Appetite], [\"C\", \"P\", \"T\", \"C\", \"P\", \"C\"] => [PyObject Dollar, PyObject Weakens, PyObject as, PyObject [German, Confidence], PyObject Boosts, PyObject [Risk, Appetite]]))\n",
       " (866, Dict{Vector{String}, Vector{PyObject}}([\"C\", \"P\", \"C\"] => [PyObject Sterling, PyObject Gets, PyObject [Budget, Boost]], [\"R\"] => [PyObject [Sterling, Gets, [Budget, Boost]]], [\"C\", \"P\", \"C\", \"C\"] => [PyObject Sterling, PyObject Gets, PyObject Budget, PyObject Boost]))\n",
       " (204, Dict{Vector{String}, Vector{PyObject}}([\"C\", \"C\", \"P\", \"T\", \"C\"] => [PyObject Evergrande, PyObject Fears, PyObject Continue, PyObject to, PyObject Bubble], [\"R\"] => [PyObject [[Evergrande, Fears], Continue, [to, Bubble]]], [\"C\", \"P\", \"T\", \"C\"] => [PyObject [Evergrande, Fears], PyObject Continue, PyObject to, PyObject Bubble], [\"C\", \"P\", \"S\"] => [PyObject [Evergrande, Fears], PyObject Continue, PyObject [to, Bubble]]))\n",
       " (384, Dict{Vector{String}, Vector{PyObject}}([\"R\"] => [PyObject [Dollar, Slips, [After, [Powell, 's, [Dovish, [Tapering, Comments]]]]]], [\"C\", \"P\", \"T\", \"C\", \"B\", \"M\", \"C\", \"C\"] => [PyObject Dollar, PyObject Slips, PyObject After, PyObject Powell, PyObject 's, PyObject Dovish, PyObject Tapering, PyObject Comments], [\"C\", \"P\", \"T\", \"C\"] => [PyObject Dollar, PyObject Slips, PyObject After, PyObject [Powell, 's, [Dovish, [Tapering, Comments]]]], [\"C\", \"P\", \"S\"] => [PyObject Dollar, PyObject Slips, PyObject [After, [Powell, 's, [Dovish, [Tapering, Comments]]]]], [\"C\", \"P\", \"T\", \"C\", \"B\", \"C\"] => [PyObject Dollar, PyObject Slips, PyObject After, PyObject Powell, PyObject 's, PyObject [Dovish, [Tapering, Comments]]], [\"C\", \"P\", \"T\", \"C\", \"B\", \"M\", \"C\"] => [PyObject Dollar, PyObject Slips, PyObject After, PyObject Powell, PyObject 's, PyObject Dovish, PyObject [Tapering, Comments]]))\n",
       " (1295, Dict{Vector{String}, Vector{PyObject}}([\"R\"] => [PyObject [Euro, Weighed, [by, [ECB, Hints]]]], [\"C\", \"P\", \"T\", \"C\"] => [PyObject Euro, PyObject Weighed, PyObject by, PyObject [ECB, Hints]], [\"C\", \"P\", \"S\"] => [PyObject Euro, PyObject Weighed, PyObject [by, [ECB, Hints]]], [\"C\", \"P\", \"T\", \"C\", \"C\"] => [PyObject Euro, PyObject Weighed, PyObject by, PyObject ECB, PyObject Hints]))\n",
       " (140, Dict{Vector{String}, Vector{PyObject}}([\"C\", \"P\", \"M\", \"M\", \"T\", \"M\", \"C\"] => [PyObject Dollar, PyObject Drifts, PyObject Higher, PyObject Ahead, PyObject of, PyObject 10Y, PyObject Auction], [\"C\", \"P\", \"M\", \"S\"] => [PyObject Dollar, PyObject Drifts, PyObject Higher, PyObject [Ahead, [of, [10Y, Auction]]]], [\"R\"] => [PyObject [Dollar, Drifts, [Higher, [Ahead, [of, [10Y, Auction]]]]]], [\"C\", \"P\", \"M\", \"M\", \"S\"] => [PyObject Dollar, PyObject Drifts, PyObject Higher, PyObject Ahead, PyObject [of, [10Y, Auction]]], [\"C\", \"P\", \"S\"] => [PyObject Dollar, PyObject Drifts, PyObject [Higher, [Ahead, [of, [10Y, Auction]]]]], [\"C\", \"P\", \"M\", \"M\", \"T\", \"C\"] => [PyObject Dollar, PyObject Drifts, PyObject Higher, PyObject Ahead, PyObject of, PyObject [10Y, Auction]]))\n",
       " (1430, Dict{Vector{String}, Vector{PyObject}}([\"P\", \"M\", \"T\", \"P\", \"C\", \"C\", \"C\", \"C\"] => [PyObject Dollar, PyObject Down, PyObject Over, PyObject Increasing, PyObject US, PyObject Stimulus, PyObject Package, PyObject Hopes], [\"P\", \"M\", \"T\", \"P\", \"C\", \"C\"] => [PyObject Dollar, PyObject Down, PyObject Over, PyObject Increasing, PyObject [US, Package], PyObject Hopes], [\"P\", \"S\"] => [PyObject Dollar, PyObject [Down, [Over, [Increasing, [US, Package], Hopes]]]], [\"R\"] => [PyObject [Dollar, [Down, [Over, [Increasing, [US, Package], Hopes]]]]], [\"P\", \"M\", \"S\"] => [PyObject Dollar, PyObject Down, PyObject [Over, [Increasing, [US, Package], Hopes]]], [\"P\", \"M\", \"T\", \"R\"] => [PyObject Dollar, PyObject Down, PyObject Over, PyObject [Increasing, [US, Package], Hopes]]))\n",
       " (350, Dict{Vector{String}, Vector{PyObject}}([\"C\", \"P\", \"M\", \"S\"] => [PyObject [Dollar, index], PyObject edges, PyObject up, PyObject [on, [upbeat, data]]], [\"R\"] => [PyObject [[Dollar, index], edges, [up, [on, [upbeat, data]]]]], [\"C\", \"P\", \"M\", \"T\", \"C\"] => [PyObject [Dollar, index], PyObject edges, PyObject up, PyObject on, PyObject [upbeat, data]], [\"C\", \"P\", \"M\", \"T\", \"M\", \"C\"] => [PyObject [Dollar, index], PyObject edges, PyObject up, PyObject on, PyObject upbeat, PyObject data], [\"C\", \"C\", \"P\", \"M\", \"T\", \"M\", \"C\"] => [PyObject Dollar, PyObject index, PyObject edges, PyObject up, PyObject on, PyObject upbeat, PyObject data], [\"C\", \"P\", \"S\"] => [PyObject [Dollar, index], PyObject edges, PyObject [up, [on, [upbeat, data]]]]))\n",
       " (38, Dict{Vector{String}, Vector{PyObject}}([\"C\", \"P\", \"M\", \"S\"] => [PyObject Aussie, PyObject climbs, PyObject up, PyObject [ahead, [of, [confidence, data]]]], [\"R\"] => [PyObject [Aussie, climbs, [up, [ahead, [of, [confidence, data]]]]]], [\"C\", \"P\", \"M\", \"M\", \"S\"] => [PyObject Aussie, PyObject climbs, PyObject up, PyObject ahead, PyObject [of, [confidence, data]]], [\"C\", \"P\", \"S\"] => [PyObject Aussie, PyObject climbs, PyObject [up, [ahead, [of, [confidence, data]]]]], [\"C\", \"P\", \"M\", \"M\", \"T\", \"C\", \"C\"] => [PyObject Aussie, PyObject climbs, PyObject up, PyObject ahead, PyObject of, PyObject confidence, PyObject data], [\"C\", \"P\", \"M\", \"M\", \"T\", \"C\"] => [PyObject Aussie, PyObject climbs, PyObject up, PyObject ahead, PyObject of, PyObject [confidence, data]]))\n",
       " (1774, Dict{Vector{String}, Vector{PyObject}}([\"C\", \"P\", \"T\", \"C\", \"P\", \"T\", \"C\", \"C\"] => [PyObject Dollar, PyObject dented, PyObject as, PyObject yields, PyObject dive, PyObject on, PyObject recovery, PyObject worries], [\"R\"] => [PyObject [Dollar, dented, [as, [yields, dive, [on, [recovery, worries]]]]]], [\"C\", \"P\", \"T\", \"R\"] => [PyObject Dollar, PyObject dented, PyObject as, PyObject [yields, dive, [on, [recovery, worries]]]], [\"C\", \"P\", \"S\"] => [PyObject Dollar, PyObject dented, PyObject [as, [yields, dive, [on, [recovery, worries]]]]], [\"C\", \"P\", \"T\", \"C\", \"P\", \"T\", \"C\"] => [PyObject Dollar, PyObject dented, PyObject as, PyObject yields, PyObject dive, PyObject on, PyObject [recovery, worries]], [\"C\", \"P\", \"T\", \"C\", \"P\", \"S\"] => [PyObject Dollar, PyObject dented, PyObject as, PyObject yields, PyObject dive, PyObject [on, [recovery, worries]]]))\n",
       " (546, Dict{Vector{String}, Vector{PyObject}}([\"C\", \"P\", \"T\", \"C\", \"C\", \"C\", \"P\", \"C\", \"T\", \"C\", \"P\"] => [PyObject Dollar, PyObject falls, PyObject after, PyObject US, PyObject jobs, PyObject data, PyObject dims, PyObject hopes, PyObject for, PyObject Fed, PyObject tightening], [\"R\"] => [PyObject [Dollar, falls, [after, [[US, data], dims, hopes, [for, [Fed, tightening]]]]]], [\"C\", \"P\", \"T\", \"R\"] => [PyObject Dollar, PyObject falls, PyObject after, PyObject [[US, data], dims, hopes, [for, [Fed, tightening]]]], [\"C\", \"P\", \"S\"] => [PyObject Dollar, PyObject falls, PyObject [after, [[US, data], dims, hopes, [for, [Fed, tightening]]]]], [\"C\", \"P\", \"T\", \"C\", \"P\", \"C\", \"T\", \"C\", \"P\"] => [PyObject Dollar, PyObject falls, PyObject after, PyObject [US, data], PyObject dims, PyObject hopes, PyObject for, PyObject Fed, PyObject tightening], [\"C\", \"P\", \"T\", \"C\", \"P\", \"C\", \"T\", \"R\"] => [PyObject Dollar, PyObject falls, PyObject after, PyObject [US, data], PyObject dims, PyObject hopes, PyObject for, PyObject [Fed, tightening]], [\"C\", \"P\", \"T\", \"C\", \"P\", \"C\", \"S\"] => [PyObject Dollar, PyObject falls, PyObject after, PyObject [US, data], PyObject dims, PyObject hopes, PyObject [for, [Fed, tightening]]]))\n",
       " (979, Dict{Vector{String}, Vector{PyObject}}([\"R\"] => [PyObject [[Stimulus, Concerns], weigh, [on, [Risk, Sentiment]]]], [\"C\", \"P\", \"T\", \"C\"] => [PyObject [Stimulus, Concerns], PyObject weigh, PyObject on, PyObject [Risk, Sentiment]], [\"C\", \"C\", \"P\", \"T\", \"C\", \"C\"] => [PyObject Stimulus, PyObject Concerns, PyObject weigh, PyObject on, PyObject Risk, PyObject Sentiment], [\"C\", \"P\", \"T\", \"C\", \"C\"] => [PyObject [Stimulus, Concerns], PyObject weigh, PyObject on, PyObject Risk, PyObject Sentiment], [\"C\", \"P\", \"S\"] => [PyObject [Stimulus, Concerns], PyObject weigh, PyObject [on, [Risk, Sentiment]]]))"
      ]
     },
     "execution_count": 349,
     "metadata": {},
     "output_type": "execute_result"
    }
   ],
   "source": [
    "results"
   ]
  },
  {
   "cell_type": "code",
   "execution_count": 350,
   "id": "19571eb7",
   "metadata": {},
   "outputs": [],
   "source": [
    "using DataFrames"
   ]
  },
  {
   "cell_type": "code",
   "execution_count": 351,
   "id": "95798189",
   "metadata": {},
   "outputs": [
    {
     "data": {
      "text/plain": [
       "7-element Vector{String}:\n",
       " \"Pound\"\n",
       " \"Dollar\"\n",
       " \"Sterling\"\n",
       " \"Euro\"\n",
       " \"dollar\"\n",
       " \"Lira\"\n",
       " \"Aussie\""
      ]
     },
     "execution_count": 351,
     "metadata": {},
     "output_type": "execute_result"
    }
   ],
   "source": [
    "currencies = [\"Pound\", \"Dollar\", \"Sterling\", \"Euro\", \"dollar\", \"Lira\", \"Aussie\"]"
   ]
  },
  {
   "cell_type": "code",
   "execution_count": 352,
   "id": "e558da4d",
   "metadata": {},
   "outputs": [
    {
     "data": {
      "text/plain": [
       "PyObject <module 'nltk.corpus' from '/home/fmordarski/miniconda3/envs/sh/lib/python3.7/site-packages/nltk/corpus/__init__.py'>"
      ]
     },
     "execution_count": 352,
     "metadata": {},
     "output_type": "execute_result"
    }
   ],
   "source": [
    "corpus = pyimport(\"nltk.corpus\")"
   ]
  },
  {
   "cell_type": "code",
   "execution_count": 353,
   "id": "e8a0cc85",
   "metadata": {},
   "outputs": [
    {
     "data": {
      "text/plain": [
       "Dict{String, String} with 4 entries:\n",
       "  \"decline\" => \"down\"\n",
       "  \"rise\"    => \"up\"\n",
       "  \"down\"    => \"down\"\n",
       "  \"up\"      => \"up\""
      ]
     },
     "execution_count": 353,
     "metadata": {},
     "output_type": "execute_result"
    }
   ],
   "source": [
    "synonyms_dict = Dict(\"rise\" => \"up\", \"up\" => \"up\", \"decline\" => \"down\", \n",
    "                     \"down\" => \"down\")"
   ]
  },
  {
   "cell_type": "code",
   "execution_count": 354,
   "id": "7809c3b5",
   "metadata": {},
   "outputs": [
    {
     "data": {
      "text/plain": [
       "get_synonyms (generic function with 1 method)"
      ]
     },
     "execution_count": 354,
     "metadata": {},
     "output_type": "execute_result"
    }
   ],
   "source": [
    "function get_synonyms(text)\n",
    "    synonyms = []\n",
    "    for ss in corpus.wordnet.synsets(text)\n",
    "         push!(synonyms, ss.lemma_names()...)\n",
    "    end\n",
    "    return unique(synonyms)\n",
    "end"
   ]
  },
  {
   "cell_type": "code",
   "execution_count": 355,
   "id": "99f9e89c",
   "metadata": {},
   "outputs": [
    {
     "data": {
      "text/plain": [
       "get_similarity (generic function with 1 method)"
      ]
     },
     "execution_count": 355,
     "metadata": {},
     "output_type": "execute_result"
    }
   ],
   "source": [
    "function get_similarity(text, vector)\n",
    "    token = nlp(text)\n",
    "    return maximum([token.similarity(nlp(value)) for value in vector])\n",
    "end"
   ]
  },
  {
   "cell_type": "code",
   "execution_count": 356,
   "id": "4cc43916",
   "metadata": {},
   "outputs": [
    {
     "data": {
      "text/plain": [
       "similarity_decide (generic function with 1 method)"
      ]
     },
     "execution_count": 356,
     "metadata": {},
     "output_type": "execute_result"
    }
   ],
   "source": [
    "function similarity_decide(text, synonyms)\n",
    "    pos_sim = get_similarity(\"rise\", synonyms)\n",
    "    neg_sim = get_similarity(\"fall\", synonyms)\n",
    "    if maximum([pos_sim, neg_sim]) > 0.5\n",
    "        if pos_sim > neg_sim\n",
    "            return \"up\"\n",
    "        else\n",
    "            return \"down\"\n",
    "        end\n",
    "    else\n",
    "        return \"not sure\"\n",
    "    end\n",
    "end"
   ]
  },
  {
   "cell_type": "code",
   "execution_count": 357,
   "id": "e56356b3",
   "metadata": {},
   "outputs": [
    {
     "data": {
      "text/plain": [
       "verb_direction (generic function with 1 method)"
      ]
     },
     "execution_count": 357,
     "metadata": {},
     "output_type": "execute_result"
    }
   ],
   "source": [
    "function verb_direction(token, dict)\n",
    "#     positive = nlp(\"rises\")\n",
    "#     negative = nlp(\"declines\")\n",
    "#     if token.similarity(positive) > token.similarity(negative)\n",
    "#         return \"up\"\n",
    "#     else\n",
    "#         return \"down\"\n",
    "#     end\n",
    "    base = token.lemma_\n",
    "    if base in keys(dict)\n",
    "        return dict[base]\n",
    "    else\n",
    "        synonyms = get_synonyms(base)\n",
    "        for synonym in synonyms\n",
    "            if synonym in keys(dict)\n",
    "                global dict[base] = dict[synonym]\n",
    "                return dict[synonym]\n",
    "            end\n",
    "        end\n",
    "        return similarity_decide(token, synonyms)\n",
    "    end\n",
    "end"
   ]
  },
  {
   "cell_type": "code",
   "execution_count": 358,
   "id": "2946b59f",
   "metadata": {},
   "outputs": [
    {
     "data": {
      "text/plain": [
       "adp_direction (generic function with 1 method)"
      ]
     },
     "execution_count": 358,
     "metadata": {},
     "output_type": "execute_result"
    }
   ],
   "source": [
    "function adp_direction(token)\n",
    "    positive = nlp(\"up\")\n",
    "    negative = nlp(\"down\")\n",
    "    if token.similarity(positive) > token.similarity(negative)\n",
    "        return \"up\"\n",
    "    else\n",
    "        return \"down\"\n",
    "    end\n",
    "end"
   ]
  },
  {
   "cell_type": "code",
   "execution_count": 359,
   "id": "443cf0f1",
   "metadata": {},
   "outputs": [
    {
     "data": {
      "text/html": [
       "<div class=\"data-frame\"><p>0 rows × 4 columns</p><table class=\"data-frame\"><thead><tr><th></th><th>Article</th><th>Currency</th><th>Effect</th><th>Reason</th></tr><tr><th></th><th title=\"String\">String</th><th title=\"String\">String</th><th title=\"String\">String</th><th title=\"Any\">Any</th></tr></thead><tbody></tbody></table></div>"
      ],
      "text/latex": [
       "\\begin{tabular}{r|cccc}\n",
       "\t& Article & Currency & Effect & Reason\\\\\n",
       "\t\\hline\n",
       "\t& String & String & String & Any\\\\\n",
       "\t\\hline\n",
       "\\end{tabular}\n"
      ],
      "text/plain": [
       "\u001b[1m0×4 DataFrame\u001b[0m"
      ]
     },
     "execution_count": 359,
     "metadata": {},
     "output_type": "execute_result"
    }
   ],
   "source": [
    "df = DataFrame(Article = String[], Currency = String[], \n",
    "               Effect = String[], Reason = Any[])"
   ]
  },
  {
   "cell_type": "code",
   "execution_count": 360,
   "id": "b8126640",
   "metadata": {},
   "outputs": [
    {
     "name": "stdout",
     "output_type": "stream",
     "text": [
      "upupnot suredownnot suredownupdownnot suredowndowndownnot suredownnot suredowndowndowndowndowndownupupdownupdowndowndowndowndownupdowndowndowndownnot suredownnot suredowndownupupnot sureupnot sureupdownnot suredownnot suredownupdowndownnot surenot suredowndownupdowndownupupdowndownupdownnot sureupdownupnot surenot sureupdownnot surenot sureupupupdownnot sureupdownupdowndowndownupdownupupdownupupdowndowndownnot sureupupnot suredown"
     ]
    }
   ],
   "source": [
    "for r in results\n",
    "    if [\"P\", \"M\", \"S\"] in keys(r[2])\n",
    "        edge = r[2][[\"P\", \"M\", \"S\"]]\n",
    "    elseif [\"C\", \"P\", \"S\"] in keys(r[2])\n",
    "        edge = r[2][[\"C\", \"P\", \"S\"]]\n",
    "    else\n",
    "        edge = r[2][[\"C\", \"P\", \"C\"]]\n",
    "    end\n",
    "    try\n",
    "        if edge[1].text in currencies\n",
    "            if edge[2].pos_ == \"VERB\"\n",
    "                pred_direct = verb_direction(edge[2], synonyms_dict)\n",
    "                print(pred_direct)\n",
    "                if edge[3][1].tag_ == \"IN\"\n",
    "                    push!(df, [articles_copy[r[1]], edge[1].text, \n",
    "                          pred_direct, edge[3]])\n",
    "                elseif pred_direct == \"not sure\"\n",
    "                    push!(df, [articles_copy[r[1]], edge[1].text, \n",
    "                      adp_direction(edge[3][1]), edge[3][2]])\n",
    "                else\n",
    "                    push!(df, [articles_copy[r[1]], edge[1].text, \n",
    "                      pred_direct, edge[3][2]])\n",
    "                end\n",
    "            else\n",
    "                push!(df, [articles_copy[r[1]], edge[1].text, \n",
    "                      adp_direction(edge[2]), edge[3]])\n",
    "            end\n",
    "        end\n",
    "    catch e\n",
    "        print\n",
    "    end\n",
    "end"
   ]
  },
  {
   "cell_type": "code",
   "execution_count": 361,
   "id": "d115ddc7",
   "metadata": {},
   "outputs": [
    {
     "data": {
      "text/html": [
       "<div class=\"data-frame\"><p>116 rows × 4 columns</p><table class=\"data-frame\"><thead><tr><th></th><th>Article</th><th>Currency</th><th>Effect</th><th>Reason</th></tr><tr><th></th><th title=\"String\">String</th><th title=\"String\">String</th><th title=\"String\">String</th><th title=\"Any\">Any</th></tr></thead><tbody><tr><th>1</th><td>Pound Climbs as Market Pushes Back on Negative Rates Speculation</td><td>Pound</td><td>up</td><td>PyObject [as, [Market, Pushes, [Back, [on, [Negative, Speculation]]]]]</td></tr><tr><th>2</th><td>Dollar Soars as Federal Reserve Hints at Early Tapering</td><td>Dollar</td><td>up</td><td>PyObject [as, [[Federal, Reserve], Hints, [at, [Early, Tapering]]]]</td></tr><tr><th>3</th><td>Dollar squashed as Fed seen softening inflation stance</td><td>Dollar</td><td>not sure</td><td>PyObject [as, [Fed, seen, [softening, [inflation, stance]]]]</td></tr><tr><th>4</th><td>Dollar Down as Hopes Grow for Rekindled US Stimulus Talks</td><td>Dollar</td><td>down</td><td>PyObject [as, [Hopes, Grow, [for, [Rekindled, [US, Talks]]]]]</td></tr><tr><th>5</th><td>Dollar Weakens After Inflation Data Calms Tapering Fears</td><td>Dollar</td><td>down</td><td>PyObject [After, [[Inflation, Data], Calms, [Tapering, Fears]]]</td></tr><tr><th>6</th><td>Dollar edges down as traders await US jobs data</td><td>Dollar</td><td>down</td><td>[PyObject as, Any[PyObject traders, PyObject await, PyObject[PyObject US, PyObject data]]]</td></tr><tr><th>7</th><td>Dollar softens after ADP</td><td>Dollar</td><td>down</td><td>PyObject [after, ADP]</td></tr><tr><th>8</th><td>Dollar steadies after falling overnight on downbeat US data</td><td>Dollar</td><td>up</td><td>PyObject [after, [falling, [overnight, [on, [downbeat, [US, data]]]]]]</td></tr><tr><th>9</th><td>Pound Falls as EU Leaders Say UK Needs to Make Concession to Reach Deal</td><td>Pound</td><td>down</td><td>PyObject [as, [[EU, Leaders], Say, [UK, Needs, [to, [Make, [Concession, [to, Reach], Deal]]]]]]</td></tr><tr><th>10</th><td>Dollar Down Over Increased COVID-19 Vaccine Hopes</td><td>Dollar</td><td>down</td><td>PyObject [Over, [Increased, [COVID-19, Hopes]]]</td></tr><tr><th>11</th><td>Dollar rebounds as US yields rise</td><td>Dollar</td><td>down</td><td>PyObject [as, [[US, yields], rise]]</td></tr><tr><th>12</th><td>Dollar bounces as gold bulls take a breather</td><td>Dollar</td><td>down</td><td>PyObject [as, [[gold, bulls], take, [a, breather]]]</td></tr><tr><th>13</th><td>Dollar sinks as investors weigh Democrat gains in Georgia</td><td>Dollar</td><td>down</td><td>PyObject [as, [investors, weigh, [Democrat, gains], [in, Georgia]]]</td></tr><tr><th>14</th><td>Dollar hunkers down before key US jobs report</td><td>Dollar</td><td>down</td><td>[PyObject before, Any[Any[PyObject key, PyObject[PyObject US, PyObject jobs]], PyObject report]]</td></tr><tr><th>15</th><td>Euro Looks to ECB</td><td>Euro</td><td>down</td><td>PyObject [to, ECB]</td></tr><tr><th>16</th><td>Dollar Down With Investors Looking to Thursday’s ECB Meeting</td><td>Dollar</td><td>down</td><td>PyObject [With, [Investors, Looking, [to, [Thursday, ’s, [ECB, Meeting]]]]]</td></tr><tr><th>17</th><td>Sterling Helped by BOE Largesse</td><td>Sterling</td><td>not sure</td><td>PyObject [by, [BOE, Largesse]]</td></tr><tr><th>18</th><td>Dollar sinks after Biden clinches US presidency</td><td>Dollar</td><td>down</td><td>PyObject [after, [Biden, clinches, [US, presidency]]]</td></tr><tr><th>19</th><td>Dollar Weakens Ahead of Fed Meeting</td><td>Dollar</td><td>down</td><td>[PyObject of, PyObject[PyObject Fed, PyObject Meeting]]</td></tr><tr><th>20</th><td>Dollar Bounces Off Lows</td><td>Dollar</td><td>down</td><td>PyObject [Off, Lows]</td></tr><tr><th>21</th><td>Dollar Down as US Democrats Win Senate Control</td><td>Dollar</td><td>down</td><td>PyObject [as, [[US, Democrats], Win, [Senate, Control]]]</td></tr><tr><th>22</th><td>Dollar holds gains, looks to Powell&apos;s speech for direction</td><td>Dollar</td><td>down</td><td>PyObject ,</td></tr><tr><th>23</th><td>Dollar falls as FX investors look past latest US stimulus delay</td><td>Dollar</td><td>down</td><td>PyObject [as, [[FX, investors], look, [past, [latest, [US, delay]]]]]</td></tr><tr><th>24</th><td>Dollar Slips to New Lows</td><td>Dollar</td><td>down</td><td>PyObject [to, [New, Lows]]</td></tr><tr><th>25</th><td>Dollar climbs as Evergrande uncertainty percolates</td><td>Dollar</td><td>up</td><td>PyObject [as, [[Evergrande, uncertainty], percolates]]</td></tr><tr><th>26</th><td>Sterling Boosted by BOE&apos;s Inaction</td><td>Sterling</td><td>up</td><td>PyObject [by, [BOE, &apos;s, Inaction]]</td></tr><tr><th>27</th><td>Dollar Weakens After Biden Inauguration</td><td>Dollar</td><td>down</td><td>PyObject [After, [Biden, Inauguration]]</td></tr><tr><th>28</th><td>Dollar Down as Investors Digest the Curbing of Yuan, Await Key US Economic Data</td><td>Dollar</td><td>down</td><td>PyObject [as, [Investors, Digest, [the, Curbing], [[of, Yuan], ,, [Await, [Key, [US, Data]]]]]]</td></tr><tr><th>29</th><td>Dollar steadies as markets weigh economic risks, central bank moves</td><td>Dollar</td><td>up</td><td>PyObject [as, [markets, weigh, [[economic, risks], ,, [central, [bank, moves]]]]]</td></tr><tr><th>30</th><td>Dollar weakens as market optimism lifts riskier currencies</td><td>Dollar</td><td>down</td><td>PyObject [as, [[market, optimism], lifts, [riskier, currencies]]]</td></tr><tr><th>31</th><td>Dollar declines as Fed&apos;s Powell maintains dovish message</td><td>Dollar</td><td>down</td><td>PyObject [as, [[Fed, &apos;s, Powell], maintains, [dovish, message]]]</td></tr><tr><th>32</th><td>Dollar Weakens on Labor Data Woes</td><td>Dollar</td><td>down</td><td>PyObject [on, [Labor, Woes]]</td></tr><tr><th>33</th><td>Dollar slips as US stimulus hopes lift mood</td><td>Dollar</td><td>down</td><td>PyObject [as, [[US, hopes], lift, mood]]</td></tr><tr><th>34</th><td>Dollar rises on upbeat US manufacturing data</td><td>Dollar</td><td>up</td><td>PyObject [on, [upbeat, [US, data]]]</td></tr><tr><th>35</th><td>Dollar Weakens as Risk Sentiment Rises With Trump&apos;s Recovery</td><td>Dollar</td><td>down</td><td>PyObject [as, [[Risk, Sentiment], Rises, [With, [Trump, &apos;s, Recovery]]]]</td></tr><tr><th>36</th><td>Dollar Weakens on Vaccine Optimism</td><td>Dollar</td><td>down</td><td>PyObject [on, [Vaccine, Optimism]]</td></tr><tr><th>37</th><td>Dollar Down Ahead of Fed Meeting</td><td>Dollar</td><td>down</td><td>PyObject [Ahead, [of, [Fed, Meeting]]]</td></tr><tr><th>38</th><td>Dollar Slips Further as Risk Appetite for 2021 Builds</td><td>Dollar</td><td>down</td><td>[PyObject as, Any[PyObject[PyObject Risk PyObject Appetite; PyObject for PyObject 2021], PyObject Builds]]</td></tr><tr><th>39</th><td>Pound Fights Back as U.K. Readies New Measures to Support Recovery</td><td>Pound</td><td>down</td><td>[PyObject as, Any[PyObject U.K., PyObject Readies, PyObject[PyObject New, PyObject Measures], Any[PyObject to, PyObject[PyObject Support, PyObject Recovery]]]]</td></tr><tr><th>40</th><td>Dollar stumbles as investors await US stimulus breakthrough</td><td>Dollar</td><td>not sure</td><td>PyObject [as, [investors, await, [US, stimulus], breakthrough]]</td></tr><tr><th>41</th><td>Dollar Down Despite US Stimulus Impasse and Rising COVID-19 Cases</td><td>Dollar</td><td>down</td><td>PyObject [[Despite, [US, Impasse], and], [Rising, Cases]]</td></tr><tr><th>42</th><td>Dollar Down Ahead of Powell Speech</td><td>Dollar</td><td>down</td><td>PyObject [Ahead, [of, [Powell, Speech]]]</td></tr><tr><th>43</th><td>Dollar Weakens as Consumers Lose Confidence</td><td>Dollar</td><td>down</td><td>PyObject [as, [Consumers, Lose, Confidence]]</td></tr><tr><th>44</th><td>Dollar drops with US yields, euro buoyed as ECB trims emergency support</td><td>Dollar</td><td>down</td><td>PyObject [with, [[US, yields], ,, [euro, buoyed, [as, [ECB, trims, [emergency, support]]]]]]</td></tr><tr><th>45</th><td>Dollar Climbs amid Raised Inflation Concerns</td><td>Dollar</td><td>up</td><td>PyObject [amid, [Raised, [Inflation, Concerns]]]</td></tr><tr><th>46</th><td>Dollar Boosted by Higher Yields</td><td>Dollar</td><td>up</td><td>PyObject [by, [Higher, Yields]]</td></tr><tr><th>47</th><td>Dollar Down Over Persistent Stimulus Hopes</td><td>Dollar</td><td>down</td><td>PyObject [Over, [Persistent, [Stimulus, Hopes]]]</td></tr><tr><th>48</th><td>Dollar Set For Winning Week</td><td>Dollar</td><td>not sure</td><td>PyObject [For, [Winning, Week]]</td></tr><tr><th>49</th><td>Dollar steadies as trading buffeted by US stimulus</td><td>Dollar</td><td>up</td><td>PyObject [as, [trading, buffeted, [by, [US, stimulus]]]]</td></tr><tr><th>50</th><td>dollar dithers before Fed</td><td>dollar</td><td>not sure</td><td>PyObject [before, Fed]</td></tr><tr><th>51</th><td>Euro Rises on Inflationary Pressures</td><td>Euro</td><td>up</td><td>PyObject [on, [Inflationary, Pressures]]</td></tr><tr><th>52</th><td>Dollar Falls on Signs Biden Leading in Key Battleground States</td><td>Dollar</td><td>down</td><td>PyObject [on, [[Signs, Biden], Leading, [in, [Key, States]]]]</td></tr><tr><th>53</th><td>Sterling Helped by Retail Sales</td><td>Sterling</td><td>not sure</td><td>PyObject [by, [Retail, Sales]]</td></tr><tr><th>54</th><td>Dollar Weakens as Risk Appetite Grows</td><td>Dollar</td><td>down</td><td>PyObject [as, [[Risk, Appetite], Grows]]</td></tr><tr><th>55</th><td>Euro Suffers From Growth Comparison</td><td>Euro</td><td>not sure</td><td>PyObject [From, [Growth, Comparison]]</td></tr><tr><th>56</th><td>Dollar Weakens, Euro Gains Ahead of ECB Meeting</td><td>Dollar</td><td>down</td><td>[PyObject Euro, PyObject Gains]</td></tr><tr><th>57</th><td>Dollar Stabilizes After Sharp Drop</td><td>Dollar</td><td>up</td><td>PyObject [After, [Sharp, Drop]]</td></tr><tr><th>58</th><td>Dollar slips after Powell embraces tapering, holds on rate hikes</td><td>Dollar</td><td>down</td><td>PyObject [after, [Powell, embraces, [tapering, [,, holds, [on, [rate, hikes]]]]]]</td></tr><tr><th>59</th><td>Dollar stands tall despite strong Chinese data</td><td>Dollar</td><td>down</td><td>[PyObject despite, Any[PyObject[PyObject strong, PyObject Chinese], PyObject data]]</td></tr><tr><th>60</th><td>Lira Shrugs Off Central Bank’s Latest Stealth Tightening Steps</td><td>Lira</td><td>not sure</td><td>PyObject [Off, [[Central, Bank], ’s, [Latest, Tightening], Steps]]</td></tr><tr><th>61</th><td>Dollar edges up before US inflation data</td><td>Dollar</td><td>up</td><td>[PyObject before, PyObject[PyObject US, PyObject data]]</td></tr><tr><th>62</th><td>Dollar Weakens as Biden&apos;s Transition Becomes Clearer</td><td>Dollar</td><td>down</td><td>PyObject [as, [[Biden, &apos;s, Transition], Becomes, Clearer]]</td></tr><tr><th>63</th><td>Dollar Weakens Ahead of Fed Minutes</td><td>Dollar</td><td>down</td><td>[PyObject of, PyObject[PyObject Fed, PyObject Minutes]]</td></tr><tr><th>64</th><td>Dollar steadies as traders brace for more US data</td><td>Dollar</td><td>up</td><td>PyObject [as, [traders, brace, [for, [more, [US, data]]]]]</td></tr><tr><th>65</th><td>Dollar Remains Near Lows</td><td>Dollar</td><td>down</td><td>PyObject Lows</td></tr><tr><th>66</th><td>Dollar Down Over Increasing Hopes for COVID-19 Recovery</td><td>Dollar</td><td>down</td><td>PyObject [Over, [Increasing, Hopes, [for, [COVID-19, Recovery]]]]</td></tr><tr><th>67</th><td>Dollar Weakens as Yellen Boosts Risk Appetite</td><td>Dollar</td><td>down</td><td>PyObject [as, [Yellen, Boosts, [Risk, Appetite]]]</td></tr><tr><th>68</th><td>Dollar Drifts After Soft CPI Release</td><td>Dollar</td><td>up</td><td>PyObject [After, [Soft, [CPI, Release]]]</td></tr><tr><th>69</th><td>Dollar Rises Ahead of ADP Employment Release</td><td>Dollar</td><td>up</td><td>[PyObject of, PyObject[PyObject ADP, PyObject Release]]</td></tr><tr><th>70</th><td>Dollar Weakens Further as Commodity Currencies, Sterling Gain</td><td>Dollar</td><td>down</td><td>[Any[PyObject as, PyObject[PyObject Commodity, PyObject Currencies], PyObject ,], PyObject[PyObject Sterling, PyObject Gain]]</td></tr><tr><th>71</th><td>Dollar Down as Investors Await Fed Minutes</td><td>Dollar</td><td>down</td><td>PyObject [as, [Investors, Await, [Fed, Minutes]]]</td></tr><tr><th>72</th><td>Dollar bounces higher as traders brace for inflation data</td><td>Dollar</td><td>down</td><td>[PyObject as, Any[PyObject traders, PyObject brace, Any[PyObject for, PyObject[PyObject inflation, PyObject data]]]]</td></tr><tr><th>73</th><td>Dollar jumps after Fed officials&apos; taper talk stirs markets</td><td>Dollar</td><td>up</td><td>PyObject [after, [[[Fed, officials], &apos;, [taper, talk]], stirs, markets]]</td></tr><tr><th>74</th><td>Dollar Weakens Post Powell</td><td>Dollar</td><td>down</td><td>PyObject Powell</td></tr><tr><th>75</th><td>Dollar Consolidates After Strong Gains</td><td>Dollar</td><td>not sure</td><td>PyObject [After, [Strong, Gains]]</td></tr><tr><th>76</th><td>Pound Jumps as Brexit Deal Nears Landing</td><td>Pound</td><td>up</td><td>PyObject [as, [[Brexit, Deal], Nears, Landing]]</td></tr><tr><th>77</th><td>Dollar Down Ahead of Fed Officials&apos; Speeches</td><td>Dollar</td><td>down</td><td>PyObject [Ahead, [of, [[Fed, Officials], &apos;, Speeches]]]</td></tr><tr><th>78</th><td>Dollar Retains Recent Strength</td><td>Dollar</td><td>down</td><td>PyObject Strength</td></tr><tr><th>79</th><td>Dollar Drifts as Deadlock Drags on</td><td>Dollar</td><td>up</td><td>PyObject [as, [Deadlock, [Drags, on]]]</td></tr><tr><th>80</th><td>Dollar sold on stimulus hopes and recovery prospects</td><td>Dollar</td><td>not sure</td><td>PyObject [on, [[stimulus, hopes, and], [recovery, prospects]]]</td></tr><tr><th>&vellip;</th><td>&vellip;</td><td>&vellip;</td><td>&vellip;</td><td>&vellip;</td></tr></tbody></table></div>"
      ],
      "text/latex": [
       "\\begin{tabular}{r|cccc}\n",
       "\t& Article & Currency & Effect & Reason\\\\\n",
       "\t\\hline\n",
       "\t& String & String & String & Any\\\\\n",
       "\t\\hline\n",
       "\t1 & Pound Climbs as Market Pushes Back on Negative Rates Speculation & Pound & up & PyObject [as, [Market, Pushes, [Back, [on, [Negative, Speculation]]]]] \\\\\n",
       "\t2 & Dollar Soars as Federal Reserve Hints at Early Tapering & Dollar & up & PyObject [as, [[Federal, Reserve], Hints, [at, [Early, Tapering]]]] \\\\\n",
       "\t3 & Dollar squashed as Fed seen softening inflation stance & Dollar & not sure & PyObject [as, [Fed, seen, [softening, [inflation, stance]]]] \\\\\n",
       "\t4 & Dollar Down as Hopes Grow for Rekindled US Stimulus Talks & Dollar & down & PyObject [as, [Hopes, Grow, [for, [Rekindled, [US, Talks]]]]] \\\\\n",
       "\t5 & Dollar Weakens After Inflation Data Calms Tapering Fears & Dollar & down & PyObject [After, [[Inflation, Data], Calms, [Tapering, Fears]]] \\\\\n",
       "\t6 & Dollar edges down as traders await US jobs data & Dollar & down & [PyObject as, Any[PyObject traders, PyObject await, PyObject[PyObject US, PyObject data]]] \\\\\n",
       "\t7 & Dollar softens after ADP & Dollar & down & PyObject [after, ADP] \\\\\n",
       "\t8 & Dollar steadies after falling overnight on downbeat US data & Dollar & up & PyObject [after, [falling, [overnight, [on, [downbeat, [US, data]]]]]] \\\\\n",
       "\t9 & Pound Falls as EU Leaders Say UK Needs to Make Concession to Reach Deal & Pound & down & PyObject [as, [[EU, Leaders], Say, [UK, Needs, [to, [Make, [Concession, [to, Reach], Deal]]]]]] \\\\\n",
       "\t10 & Dollar Down Over Increased COVID-19 Vaccine Hopes & Dollar & down & PyObject [Over, [Increased, [COVID-19, Hopes]]] \\\\\n",
       "\t11 & Dollar rebounds as US yields rise & Dollar & down & PyObject [as, [[US, yields], rise]] \\\\\n",
       "\t12 & Dollar bounces as gold bulls take a breather & Dollar & down & PyObject [as, [[gold, bulls], take, [a, breather]]] \\\\\n",
       "\t13 & Dollar sinks as investors weigh Democrat gains in Georgia & Dollar & down & PyObject [as, [investors, weigh, [Democrat, gains], [in, Georgia]]] \\\\\n",
       "\t14 & Dollar hunkers down before key US jobs report & Dollar & down & [PyObject before, Any[Any[PyObject key, PyObject[PyObject US, PyObject jobs]], PyObject report]] \\\\\n",
       "\t15 & Euro Looks to ECB & Euro & down & PyObject [to, ECB] \\\\\n",
       "\t16 & Dollar Down With Investors Looking to Thursday’s ECB Meeting & Dollar & down & PyObject [With, [Investors, Looking, [to, [Thursday, ’s, [ECB, Meeting]]]]] \\\\\n",
       "\t17 & Sterling Helped by BOE Largesse & Sterling & not sure & PyObject [by, [BOE, Largesse]] \\\\\n",
       "\t18 & Dollar sinks after Biden clinches US presidency & Dollar & down & PyObject [after, [Biden, clinches, [US, presidency]]] \\\\\n",
       "\t19 & Dollar Weakens Ahead of Fed Meeting & Dollar & down & [PyObject of, PyObject[PyObject Fed, PyObject Meeting]] \\\\\n",
       "\t20 & Dollar Bounces Off Lows & Dollar & down & PyObject [Off, Lows] \\\\\n",
       "\t21 & Dollar Down as US Democrats Win Senate Control & Dollar & down & PyObject [as, [[US, Democrats], Win, [Senate, Control]]] \\\\\n",
       "\t22 & Dollar holds gains, looks to Powell's speech for direction & Dollar & down & PyObject , \\\\\n",
       "\t23 & Dollar falls as FX investors look past latest US stimulus delay & Dollar & down & PyObject [as, [[FX, investors], look, [past, [latest, [US, delay]]]]] \\\\\n",
       "\t24 & Dollar Slips to New Lows & Dollar & down & PyObject [to, [New, Lows]] \\\\\n",
       "\t25 & Dollar climbs as Evergrande uncertainty percolates & Dollar & up & PyObject [as, [[Evergrande, uncertainty], percolates]] \\\\\n",
       "\t26 & Sterling Boosted by BOE's Inaction & Sterling & up & PyObject [by, [BOE, 's, Inaction]] \\\\\n",
       "\t27 & Dollar Weakens After Biden Inauguration & Dollar & down & PyObject [After, [Biden, Inauguration]] \\\\\n",
       "\t28 & Dollar Down as Investors Digest the Curbing of Yuan, Await Key US Economic Data & Dollar & down & PyObject [as, [Investors, Digest, [the, Curbing], [[of, Yuan], ,, [Await, [Key, [US, Data]]]]]] \\\\\n",
       "\t29 & Dollar steadies as markets weigh economic risks, central bank moves & Dollar & up & PyObject [as, [markets, weigh, [[economic, risks], ,, [central, [bank, moves]]]]] \\\\\n",
       "\t30 & Dollar weakens as market optimism lifts riskier currencies & Dollar & down & PyObject [as, [[market, optimism], lifts, [riskier, currencies]]] \\\\\n",
       "\t31 & Dollar declines as Fed's Powell maintains dovish message & Dollar & down & PyObject [as, [[Fed, 's, Powell], maintains, [dovish, message]]] \\\\\n",
       "\t32 & Dollar Weakens on Labor Data Woes & Dollar & down & PyObject [on, [Labor, Woes]] \\\\\n",
       "\t33 & Dollar slips as US stimulus hopes lift mood & Dollar & down & PyObject [as, [[US, hopes], lift, mood]] \\\\\n",
       "\t34 & Dollar rises on upbeat US manufacturing data & Dollar & up & PyObject [on, [upbeat, [US, data]]] \\\\\n",
       "\t35 & Dollar Weakens as Risk Sentiment Rises With Trump's Recovery & Dollar & down & PyObject [as, [[Risk, Sentiment], Rises, [With, [Trump, 's, Recovery]]]] \\\\\n",
       "\t36 & Dollar Weakens on Vaccine Optimism & Dollar & down & PyObject [on, [Vaccine, Optimism]] \\\\\n",
       "\t37 & Dollar Down Ahead of Fed Meeting & Dollar & down & PyObject [Ahead, [of, [Fed, Meeting]]] \\\\\n",
       "\t38 & Dollar Slips Further as Risk Appetite for 2021 Builds & Dollar & down & [PyObject as, Any[PyObject[PyObject Risk PyObject Appetite; PyObject for PyObject 2021], PyObject Builds]] \\\\\n",
       "\t39 & Pound Fights Back as U.K. Readies New Measures to Support Recovery & Pound & down & [PyObject as, Any[PyObject U.K., PyObject Readies, PyObject[PyObject New, PyObject Measures], Any[PyObject to, PyObject[PyObject Support, PyObject Recovery]]]] \\\\\n",
       "\t40 & Dollar stumbles as investors await US stimulus breakthrough & Dollar & not sure & PyObject [as, [investors, await, [US, stimulus], breakthrough]] \\\\\n",
       "\t41 & Dollar Down Despite US Stimulus Impasse and Rising COVID-19 Cases & Dollar & down & PyObject [[Despite, [US, Impasse], and], [Rising, Cases]] \\\\\n",
       "\t42 & Dollar Down Ahead of Powell Speech & Dollar & down & PyObject [Ahead, [of, [Powell, Speech]]] \\\\\n",
       "\t43 & Dollar Weakens as Consumers Lose Confidence & Dollar & down & PyObject [as, [Consumers, Lose, Confidence]] \\\\\n",
       "\t44 & Dollar drops with US yields, euro buoyed as ECB trims emergency support & Dollar & down & PyObject [with, [[US, yields], ,, [euro, buoyed, [as, [ECB, trims, [emergency, support]]]]]] \\\\\n",
       "\t45 & Dollar Climbs amid Raised Inflation Concerns & Dollar & up & PyObject [amid, [Raised, [Inflation, Concerns]]] \\\\\n",
       "\t46 & Dollar Boosted by Higher Yields & Dollar & up & PyObject [by, [Higher, Yields]] \\\\\n",
       "\t47 & Dollar Down Over Persistent Stimulus Hopes & Dollar & down & PyObject [Over, [Persistent, [Stimulus, Hopes]]] \\\\\n",
       "\t48 & Dollar Set For Winning Week & Dollar & not sure & PyObject [For, [Winning, Week]] \\\\\n",
       "\t49 & Dollar steadies as trading buffeted by US stimulus & Dollar & up & PyObject [as, [trading, buffeted, [by, [US, stimulus]]]] \\\\\n",
       "\t50 & dollar dithers before Fed & dollar & not sure & PyObject [before, Fed] \\\\\n",
       "\t51 & Euro Rises on Inflationary Pressures & Euro & up & PyObject [on, [Inflationary, Pressures]] \\\\\n",
       "\t52 & Dollar Falls on Signs Biden Leading in Key Battleground States & Dollar & down & PyObject [on, [[Signs, Biden], Leading, [in, [Key, States]]]] \\\\\n",
       "\t53 & Sterling Helped by Retail Sales & Sterling & not sure & PyObject [by, [Retail, Sales]] \\\\\n",
       "\t54 & Dollar Weakens as Risk Appetite Grows & Dollar & down & PyObject [as, [[Risk, Appetite], Grows]] \\\\\n",
       "\t55 & Euro Suffers From Growth Comparison & Euro & not sure & PyObject [From, [Growth, Comparison]] \\\\\n",
       "\t56 & Dollar Weakens, Euro Gains Ahead of ECB Meeting & Dollar & down & [PyObject Euro, PyObject Gains] \\\\\n",
       "\t57 & Dollar Stabilizes After Sharp Drop & Dollar & up & PyObject [After, [Sharp, Drop]] \\\\\n",
       "\t58 & Dollar slips after Powell embraces tapering, holds on rate hikes & Dollar & down & PyObject [after, [Powell, embraces, [tapering, [,, holds, [on, [rate, hikes]]]]]] \\\\\n",
       "\t59 & Dollar stands tall despite strong Chinese data & Dollar & down & [PyObject despite, Any[PyObject[PyObject strong, PyObject Chinese], PyObject data]] \\\\\n",
       "\t60 & Lira Shrugs Off Central Bank’s Latest Stealth Tightening Steps & Lira & not sure & PyObject [Off, [[Central, Bank], ’s, [Latest, Tightening], Steps]] \\\\\n",
       "\t61 & Dollar edges up before US inflation data & Dollar & up & [PyObject before, PyObject[PyObject US, PyObject data]] \\\\\n",
       "\t62 & Dollar Weakens as Biden's Transition Becomes Clearer & Dollar & down & PyObject [as, [[Biden, 's, Transition], Becomes, Clearer]] \\\\\n",
       "\t63 & Dollar Weakens Ahead of Fed Minutes & Dollar & down & [PyObject of, PyObject[PyObject Fed, PyObject Minutes]] \\\\\n",
       "\t64 & Dollar steadies as traders brace for more US data & Dollar & up & PyObject [as, [traders, brace, [for, [more, [US, data]]]]] \\\\\n",
       "\t65 & Dollar Remains Near Lows & Dollar & down & PyObject Lows \\\\\n",
       "\t66 & Dollar Down Over Increasing Hopes for COVID-19 Recovery & Dollar & down & PyObject [Over, [Increasing, Hopes, [for, [COVID-19, Recovery]]]] \\\\\n",
       "\t67 & Dollar Weakens as Yellen Boosts Risk Appetite & Dollar & down & PyObject [as, [Yellen, Boosts, [Risk, Appetite]]] \\\\\n",
       "\t68 & Dollar Drifts After Soft CPI Release & Dollar & up & PyObject [After, [Soft, [CPI, Release]]] \\\\\n",
       "\t69 & Dollar Rises Ahead of ADP Employment Release & Dollar & up & [PyObject of, PyObject[PyObject ADP, PyObject Release]] \\\\\n",
       "\t70 & Dollar Weakens Further as Commodity Currencies, Sterling Gain & Dollar & down & [Any[PyObject as, PyObject[PyObject Commodity, PyObject Currencies], PyObject ,], PyObject[PyObject Sterling, PyObject Gain]] \\\\\n",
       "\t71 & Dollar Down as Investors Await Fed Minutes & Dollar & down & PyObject [as, [Investors, Await, [Fed, Minutes]]] \\\\\n",
       "\t72 & Dollar bounces higher as traders brace for inflation data & Dollar & down & [PyObject as, Any[PyObject traders, PyObject brace, Any[PyObject for, PyObject[PyObject inflation, PyObject data]]]] \\\\\n",
       "\t73 & Dollar jumps after Fed officials' taper talk stirs markets & Dollar & up & PyObject [after, [[[Fed, officials], ', [taper, talk]], stirs, markets]] \\\\\n",
       "\t74 & Dollar Weakens Post Powell & Dollar & down & PyObject Powell \\\\\n",
       "\t75 & Dollar Consolidates After Strong Gains & Dollar & not sure & PyObject [After, [Strong, Gains]] \\\\\n",
       "\t76 & Pound Jumps as Brexit Deal Nears Landing & Pound & up & PyObject [as, [[Brexit, Deal], Nears, Landing]] \\\\\n",
       "\t77 & Dollar Down Ahead of Fed Officials' Speeches & Dollar & down & PyObject [Ahead, [of, [[Fed, Officials], ', Speeches]]] \\\\\n",
       "\t78 & Dollar Retains Recent Strength & Dollar & down & PyObject Strength \\\\\n",
       "\t79 & Dollar Drifts as Deadlock Drags on & Dollar & up & PyObject [as, [Deadlock, [Drags, on]]] \\\\\n",
       "\t80 & Dollar sold on stimulus hopes and recovery prospects & Dollar & not sure & PyObject [on, [[stimulus, hopes, and], [recovery, prospects]]] \\\\\n",
       "\t$\\dots$ & $\\dots$ & $\\dots$ & $\\dots$ & $\\dots$ \\\\\n",
       "\\end{tabular}\n"
      ],
      "text/plain": [
       "\u001b[1m116×4 DataFrame\u001b[0m\n",
       "\u001b[1m Row \u001b[0m│\u001b[1m Article                           \u001b[0m\u001b[1m Currency \u001b[0m\u001b[1m Effect   \u001b[0m\u001b[1m Reason                            \u001b[0m\n",
       "\u001b[1m     \u001b[0m│\u001b[90m String                            \u001b[0m\u001b[90m String   \u001b[0m\u001b[90m String   \u001b[0m\u001b[90m Any                               \u001b[0m\n",
       "─────┼──────────────────────────────────────────────────────────────────────────────────────────\n",
       "   1 │ Pound Climbs as Market Pushes Ba…  Pound     up        PyObject [as, [Market, Pushes, […\n",
       "   2 │ Dollar Soars as Federal Reserve …  Dollar    up        PyObject [as, [[Federal, Reserve…\n",
       "   3 │ Dollar squashed as Fed seen soft…  Dollar    not sure  PyObject [as, [Fed, seen, [softe…\n",
       "   4 │ Dollar Down as Hopes Grow for Re…  Dollar    down      PyObject [as, [Hopes, Grow, [for…\n",
       "   5 │ Dollar Weakens After Inflation D…  Dollar    down      PyObject [After, [[Inflation, Da…\n",
       "   6 │ Dollar edges down as traders awa…  Dollar    down      Any[PyObject as, Any[PyObject tr…\n",
       "   7 │ Dollar softens after ADP           Dollar    down      PyObject [after, ADP]\n",
       "   8 │ Dollar steadies after falling ov…  Dollar    up        PyObject [after, [falling, [over…\n",
       "   9 │ Pound Falls as EU Leaders Say UK…  Pound     down      PyObject [as, [[EU, Leaders], Sa…\n",
       "  10 │ Dollar Down Over Increased COVID…  Dollar    down      PyObject [Over, [Increased, [COV…\n",
       "  11 │ Dollar rebounds as US yields rise  Dollar    down      PyObject [as, [[US, yields], ris…\n",
       "  12 │ Dollar bounces as gold bulls tak…  Dollar    down      PyObject [as, [[gold, bulls], ta…\n",
       "  13 │ Dollar sinks as investors weigh …  Dollar    down      PyObject [as, [investors, weigh,…\n",
       "  14 │ Dollar hunkers down before key U…  Dollar    down      Any[PyObject before, Any[Any[PyO…\n",
       "  15 │ Euro Looks to ECB                  Euro      down      PyObject [to, ECB]\n",
       "  16 │ Dollar Down With Investors Looki…  Dollar    down      PyObject [With, [Investors, Look…\n",
       "  17 │ Sterling Helped by BOE Largesse    Sterling  not sure  PyObject [by, [BOE, Largesse]]\n",
       "  18 │ Dollar sinks after Biden clinche…  Dollar    down      PyObject [after, [Biden, clinche…\n",
       "  19 │ Dollar Weakens Ahead of Fed Meet…  Dollar    down      Any[PyObject of, PyObject[PyObje…\n",
       "  20 │ Dollar Bounces Off Lows            Dollar    down      PyObject [Off, Lows]\n",
       "  21 │ Dollar Down as US Democrats Win …  Dollar    down      PyObject [as, [[US, Democrats], …\n",
       "  22 │ Dollar holds gains, looks to Pow…  Dollar    down      PyObject ,\n",
       "  23 │ Dollar falls as FX investors loo…  Dollar    down      PyObject [as, [[FX, investors], …\n",
       "  24 │ Dollar Slips to New Lows           Dollar    down      PyObject [to, [New, Lows]]\n",
       "  25 │ Dollar climbs as Evergrande unce…  Dollar    up        PyObject [as, [[Evergrande, unce…\n",
       "  26 │ Sterling Boosted by BOE's Inacti…  Sterling  up        PyObject [by, [BOE, 's, Inaction…\n",
       "  27 │ Dollar Weakens After Biden Inaug…  Dollar    down      PyObject [After, [Biden, Inaugur…\n",
       "  28 │ Dollar Down as Investors Digest …  Dollar    down      PyObject [as, [Investors, Digest…\n",
       "  29 │ Dollar steadies as markets weigh…  Dollar    up        PyObject [as, [markets, weigh, […\n",
       "  30 │ Dollar weakens as market optimis…  Dollar    down      PyObject [as, [[market, optimism…\n",
       "  31 │ Dollar declines as Fed's Powell …  Dollar    down      PyObject [as, [[Fed, 's, Powell]…\n",
       "  32 │ Dollar Weakens on Labor Data Woes  Dollar    down      PyObject [on, [Labor, Woes]]\n",
       "  33 │ Dollar slips as US stimulus hope…  Dollar    down      PyObject [as, [[US, hopes], lift…\n",
       "  34 │ Dollar rises on upbeat US manufa…  Dollar    up        PyObject [on, [upbeat, [US, data…\n",
       "  35 │ Dollar Weakens as Risk Sentiment…  Dollar    down      PyObject [as, [[Risk, Sentiment]…\n",
       "  36 │ Dollar Weakens on Vaccine Optimi…  Dollar    down      PyObject [on, [Vaccine, Optimism…\n",
       "  ⋮  │                 ⋮                     ⋮         ⋮                      ⋮\n",
       "  82 │ Dollar rises after US producer p…  Dollar    up        PyObject [after, [[US, prices], …\n",
       "  83 │ Dollar Weakens on Biden Win        Dollar    down      PyObject [on, [Biden, Win]]\n",
       "  84 │ Dollar edges up as US yields sta…  Dollar    up        Any[PyObject as, Any[PyObject[Py…\n",
       "  85 │ Dollar climbs as inflation build…  Dollar    up        PyObject [as, [inflation, builds…\n",
       "  86 │ Dollar Stabilizes Ahead of Feder…  Dollar    up        Any[PyObject of, PyObject[PyObje…\n",
       "  87 │ Dollar rises as stock slump ratt…  Dollar    up        PyObject [as, [[stock, slump], r…\n",
       "  88 │ Dollar Falls as US Yields Slip, …  Dollar    down      PyObject [as, [[US, Slip], ,, bu…\n",
       "  89 │ Dollar edges higher amid pandemi…  Dollar    up        Any[PyObject amid, PyObject[PyOb…\n",
       "  90 │ Dollar lifted as Treasury yields…  Dollar    up        PyObject [as, [[Treasury, yields…\n",
       "  91 │ Dollar Weakens Ahead of Key Payr…  Dollar    down      Any[PyObject of, PyObject[PyObje…\n",
       "  92 │ Dollar Down After Fed’s Meeting …  Dollar    down      PyObject [After, [[Fed, ’s, Meet…\n",
       "  93 │ Dollar steadies amid rising glob…  Dollar    up        PyObject [amid, [rising, [global…\n",
       "  94 │ Sterling Expects Brexit Progress   Sterling  down      PyObject Progress\n",
       "  95 │ Dollar shines as virus, economy …  Dollar    down      PyObject [as, [virus, ,, [[econo…\n",
       "  96 │ Dollar hangs on as currency mark…  Dollar    down      Any[PyObject as, Any[PyObject[Py…\n",
       "  97 │ Dollar Down as US Stimulus, Brex…  Dollar    down      PyObject [[[as, [US, Stimulus], …\n",
       "  98 │ Dollar Down Over Fresh European …  Dollar    down      PyObject [[Over, [Fresh, Lockdow…\n",
       "  99 │ Dollar Climbs to 2021 Highs        Dollar    up        PyObject [to, [2021, Highs]]\n",
       " 100 │ Dollar Weakens as Data Disappoin…  Dollar    down      PyObject [as, [Data, Disappoints…\n",
       " 101 │ Sterling Hit by Brexit Woes        Sterling  up        PyObject [by, [Brexit, Woes]]\n",
       " 102 │ Dollar climbs after hot US infla…  Dollar    up        PyObject [after, [hot, [US, infl…\n",
       " 103 │ Dollar Down as Fed Officials’ Co…  Dollar    down      PyObject [as, [[[Fed, Officials]…\n",
       " 104 │ Dollar Down as Investors Digest …  Dollar    down      PyObject [as, [Investors, Digest…\n",
       " 105 │ Dollar slips as bond yields drop…  Dollar    down      PyObject [as, [[[bond, yields], …\n",
       " 106 │ Dollar Stabilizes After Dovish P…  Dollar    up        PyObject [After, [Dovish, Testim…\n",
       " 107 │ Dollar Rises on Higher Yields      Dollar    up        PyObject [on, [Higher, Yields]]\n",
       " 108 │ Dollar Weakens as German Confide…  Dollar    down      PyObject [as, [[German, Confiden…\n",
       " 109 │ Sterling Gets Budget Boost         Sterling  down      PyObject Boost\n",
       " 110 │ Dollar Slips After Powell's Dovi…  Dollar    down      PyObject [After, [Powell, 's, [D…\n",
       " 111 │ Euro Weighed by ECB Hints          Euro      not sure  PyObject [by, [ECB, Hints]]\n",
       " 112 │ Dollar Drifts Higher Ahead of 10…  Dollar    up        Any[PyObject Ahead, Any[PyObject…\n",
       " 113 │ Dollar Down Over Increasing US S…  Dollar    down      PyObject [Over, [Increasing, [US…\n",
       " 114 │ Aussie climbs up ahead of confid…  Aussie    up        Any[PyObject ahead, Any[PyObject…\n",
       " 115 │ Dollar dented as yields dive on …  Dollar    not sure  PyObject [as, [yields, dive, [on…\n",
       " 116 │ Dollar falls after US jobs data …  Dollar    down      PyObject [after, [[US, data], di…\n",
       "\u001b[36m                                                                                 45 rows omitted\u001b[0m"
      ]
     },
     "execution_count": 361,
     "metadata": {},
     "output_type": "execute_result"
    }
   ],
   "source": [
    "df"
   ]
  },
  {
   "cell_type": "code",
   "execution_count": 362,
   "id": "a37d476c",
   "metadata": {},
   "outputs": [
    {
     "data": {
      "text/plain": [
       "(80, 1000)"
      ]
     },
     "execution_count": 362,
     "metadata": {},
     "output_type": "execute_result"
    }
   ],
   "source": [
    "ENV[\"LINES\"], ENV[\"COLUMNS\"] = 80, 1000"
   ]
  },
  {
   "cell_type": "code",
   "execution_count": 363,
   "id": "6a8625c9",
   "metadata": {
    "scrolled": true
   },
   "outputs": [
    {
     "name": "stdout",
     "output_type": "stream",
     "text": [
      "Covid Concerns and Potential Tax Rises Hit Sentiment\n",
      "US stops short of declaring Vietnam, Switzerland, Taiwan currency manipulators\n",
      "Dollar Strengthens Ahead of Inflation Data, Fed Meeting\n",
      "Dollar Up, But Capped by Friday’s US Job Data\n",
      "Covid Cases Rise in Asia\n",
      "US Growth Profile Looks Impressive\n",
      "Sterling Tops $1.41, but Further Gains Could Prompt BoE Reaction\n",
      "Fed Officials Maintain Dovish Tilt\n",
      "Dollar Up, Gains Against Yen and Euro Over Strengthening US Economic Recovery\n",
      "Risk Appetite Hit by Trump Covid News\n",
      "Covid Hits Consumer Sentiment\n",
      "Second Virus Wave Prompts Caution\n",
      "Federal Reserve Seen Tolerating Higher Yields\n",
      "Uncertainty Climbs with Tight Election\n",
      "Fed Officials Offer Mixed Signals\n",
      "Fed meeting looms next week\n",
      "Risk Sentiment Hit by Equity Turmoil\n",
      "Dollars bought as stimulus hopes ebb\n",
      "Dollar Remains Weak\n",
      "Federal Reserve Leads Central Bank Week\n",
      "Focus Turns to May CPI Release\n",
      "Dollar Up, but Subdued by Continuing Inflation Jitters\n",
      "Dollar slips and yuan soars as investors eye Biden presidency\n",
      "Dollar Extends Gains\n",
      "Fed Retains Easy Policy Stance\n",
      "Dollar rebound falters as Fed's Powell strikes dovish tone\n",
      "Bailey Speech Supports GBP\n",
      "Stimulus Talks Boosts Risk Appetite\n",
      "Experts See Limited Rebound\n",
      "Dollar Maintains Gains\n",
      "Dollar Down, But Still Finds Support Amid COVID-19, Georgia Election Worries\n",
      "Dollar Up, Boosted by Dovish Powell Comments, Investors Digest Chinese Data\n",
      "Dollar bounce holds as traders trim short bets\n",
      "Risk Sentiment Helped by Strong Data\n",
      "greenback bounce threatens bears\n",
      "Turkish Lira Drops as Rate Policy Takes Priority Over US Vote\n",
      "Stocks Selloff Prompts Risk Aversion\n",
      "Risk Taking Rises Ahead of Jackson Hole\n",
      "Yuan Retains Strength\n",
      "Dollar bounce loses steam\n",
      "Powell Testimony Seen as Dovish\n",
      "BoE Cools Negative Rate Fears\n",
      "Downtrend Pauses Ahead of Payrolls\n",
      "Rising Covid Cases Threaten Economic Recovery\n",
      "Fed Seen on Course\n",
      "BoE Talk Lifts Sterlin\n",
      "Fed Meeting Limiting Volatility\n",
      "Evergrande News Supports Risk Appetite\n",
      "Fed Policy to Remain Easy\n",
      "Iran's rial falls to new low, as coronavirus deaths hit new high\n",
      "Treasury Yields Rise After Powell's Comments\n",
      "Taiwan Holds Interest Rate and Raises 2020 Growth Forecast\n",
      "Fed Minutes Seen Key\n",
      "Yields Rise on Inflation Concerns\n",
      "Dollar Slide Continues as Powell Retains Dovish Tone\n",
      "PMIs, ISM Dominate Amid Holidays\n",
      "Lira Bears Awaken as Erdogan Renews Calls for Turkish Rate Cut\n",
      "Covid Prompts Risk Aversion\n",
      "Dollar wavers on dovish Fed tone, mixed economic outlook\n",
      "Biden stimulus weighs on dollar\n",
      "Stimulus Progression Boosts Risk Sentiment\n",
      "Fed Remains Accommodative\n",
      "Euro Renaissance Emerges From an EU Deal That Changed Everything\n",
      "Political Warring Hinders Stimulus Delivery\n",
      "Dollar's bounce fades as risk appetite rises\n",
      "NZ dollar drops below 70 level\n",
      "Markets Look to Biden Presidency\n",
      "Stimulus Expected to Combat Pandemic\n",
      "Traders Digest Fed Statement\n",
      "Evergrande Fears Continue to Bubble\n",
      "Dollar index edges up on upbeat data\n",
      "Stimulus Concerns weigh on Risk Sentiment\n"
     ]
    }
   ],
   "source": [
    "for r in results\n",
    "    if articles_copy[r[1]] ∉ df.Article\n",
    "        println(articles_copy[r[1]])\n",
    "    end\n",
    "end"
   ]
  },
  {
   "cell_type": "code",
   "execution_count": 364,
   "id": "285d3d48",
   "metadata": {
    "scrolled": true
   },
   "outputs": [
    {
     "data": {
      "text/html": [
       "<div class=\"data-frame\"><p>1,851 rows × 2 columns</p><table class=\"data-frame\"><thead><tr><th></th><th>Article</th><th>Currency move + reason</th></tr><tr><th></th><th title=\"String\">String</th><th title=\"Union{Missing, String}\">String?</th></tr></thead><tbody><tr><th>1</th><td>Dollar dips but shows biggest weekly gain in almost 3 months</td><td>n</td></tr><tr><th>2</th><td>EURJPY Price Penetrates $131 Level Downside, Targeting $130 Level</td><td>n</td></tr><tr><th>3</th><td>Far from debasement, dollar hits overdrive</td><td>n</td></tr><tr><th>4</th><td>Dollar Edges Lower</td><td>n</td></tr><tr><th>5</th><td>Remains Near 16-Month High</td><td>n</td></tr><tr><th>6</th><td>NZ dollar drops below 70 level</td><td>n</td></tr><tr><th>7</th><td>Dollar Near 16-Month High on Rates Hike Bets</td><td>y</td></tr><tr><th>8</th><td>Dollar climbs after hot US inflation</td><td>y</td></tr><tr><th>9</th><td>euro dips</td><td>n</td></tr><tr><th>10</th><td>US Dollar Continues to Gain Following Wednesday&apos;s Inflation Data </td><td>y</td></tr><tr><th>11</th><td>De-Banking Crypto Traders Is More Sinister And Anti-Competitive -Aussie Senator Bragg</td><td>n</td></tr><tr><th>12</th><td>Euro US Dollar (EUR/USD) Exchange Rate Hits Low as USD Soars</td><td>n</td></tr><tr><th>13</th><td>Dollar Climbs to 2021 Highs</td><td>n</td></tr><tr><th>14</th><td>US CPI Points to Early Fed Hikes</td><td>n</td></tr><tr><th>15</th><td>Aussie dips below 73 on soft jobs report</td><td>y</td></tr><tr><th>16</th><td>Dollar Up, Boosted by Highest US Inflation in a Generation</td><td>y</td></tr><tr><th>17</th><td>GBPUSD Price Penetrates $1.34 Level, Targeting Support Level of $1.32</td><td>n</td></tr><tr><th>18</th><td>E-commerce giant JD starts accepting China&apos;s digital currency on Singles Day for the first time</td><td>n</td></tr><tr><th>19</th><td>Dollar climbs as US inflation surge fuels rate hike speculation</td><td>y</td></tr><tr><th>20</th><td>EUR/USD – A major break lower</td><td>n</td></tr><tr><th>21</th><td>Nordea sees EUR/USD dropping to 1.08 by the end of next year</td><td>n</td></tr><tr><th>22</th><td>New Zealand dollar dips to 71</td><td>n</td></tr><tr><th>23</th><td>Hedge funds&apos; FX plays get crushed in red October</td><td>n</td></tr><tr><th>24</th><td>Dollar Pushes Higher</td><td>n</td></tr><tr><th>25</th><td>US CPI Release in Focus</td><td>n</td></tr><tr><th>26</th><td>Aussie extends losses on China concerns</td><td>y</td></tr><tr><th>27</th><td>Dollar Up, at One-Month Low Against Yen as Investors Await US Inflation Data</td><td>y</td></tr><tr><th>28</th><td>USDJPY Price Penetrates Support Level of $113 Downside, Bearish Trend May Commence</td><td>n</td></tr><tr><th>29</th><td>Dollar dips before US inflation data</td><td>y</td></tr><tr><th>30</th><td>Pound US Dollar Exchange Rate Struggles ahead of US Inflation</td><td>y</td></tr><tr><th>31</th><td>Business confidence shines but Aussie slips</td><td>n</td></tr><tr><th>32</th><td>PPI Data in Focus</td><td>n</td></tr><tr><th>33</th><td>Dollar Down, Inflation Data Looms as Next Test on Central Bank Interest Rate Hikes</td><td>n</td></tr><tr><th>34</th><td>USDCHF Price: Support Level of $0.909 Holds, Bullish Movement May Commence</td><td>n</td></tr><tr><th>35</th><td>Dollar slips from 15-month highs with Fed, inflation in focus</td><td>y</td></tr><tr><th>36</th><td>Pound to Put Squeeze on Bears as BoE Unlikely to Sit on Rate-Hike Fence</td><td>y</td></tr><tr><th>37</th><td>China Reached A Milestone Of 140M Digital Yuan Wallets – PBoC Official</td><td>n</td></tr><tr><th>38</th><td>Aussie climbs up ahead of confidence data</td><td>y</td></tr><tr><th>39</th><td>Hedge funds get smoked on sterling by BoE sizzler</td><td>y</td></tr><tr><th>40</th><td>Fedspeak and Inflation Data in Focus</td><td>n</td></tr><tr><th>41</th><td>Dollar Down as Investors Grapple With Recent Central Bank Policies</td><td>y</td></tr><tr><th>42</th><td>US dollar net longs slide to five-week low -CFTC, Reuters data</td><td>n</td></tr><tr><th>43</th><td>Dollar soars to more than 1-year high after jobs data, then pulls back</td><td>y</td></tr><tr><th>44</th><td>Dollar Consolidates After Strong Gains</td><td>y</td></tr><tr><th>45</th><td>Nonfarm Payrolls Due</td><td>n</td></tr><tr><th>46</th><td>Dollar Down, but Set for Weekly Gain as Investors Await US Jobs Report</td><td>y</td></tr><tr><th>47</th><td>Kaisa and Major Units Suspend Trading After Missed Payments</td><td>n</td></tr><tr><th>48</th><td>Dollar rebounds, sterling slumps, as market resets rate expectations</td><td>y</td></tr><tr><th>49</th><td>Dollar Rebounds After Fed Announces Tapering</td><td>y</td></tr><tr><th>50</th><td>Bank of England Meets</td><td>n</td></tr><tr><th>51</th><td>Dollar Up, Investor Digest Latest Fed Policy Decision</td><td>n</td></tr><tr><th>52</th><td>Dollar dips after Fed confirms beginning of taper</td><td>y</td></tr><tr><th>53</th><td>$9.5 billion spent using Chinese central bank&apos;s digital currency - official</td><td>n</td></tr><tr><th>54</th><td>Canadian dollar forecasts turn stronger as BoC signals earlier hikes - Reuters poll</td><td>n</td></tr><tr><th>55</th><td>Lebanese carry &apos;worthless&apos; stacks of cash after currency crash</td><td>n</td></tr><tr><th>56</th><td>Zloty seen leading gains as rate hikes support central European currencies - Reuters poll</td><td>y</td></tr><tr><th>57</th><td>Dollar Flat Ahead of Key Federal Reserve Meeting</td><td>y</td></tr><tr><th>58</th><td>Dollar Down, Investors Await Fed Policy Decision</td><td>n</td></tr><tr><th>59</th><td>More trouble ahead for erratic emerging market currencies - Reuters poll</td><td>n</td></tr><tr><th>60</th><td>Rate differentials set to gently jostle strong US dollar: Reuters poll</td><td>y</td></tr><tr><th>61</th><td>Dollar firms as Fed policy meeting gets underway</td><td>y</td></tr><tr><th>62</th><td>Taliban ban use of foreign currency in Afghanistan -spokesman</td><td>n</td></tr><tr><th>63</th><td>The Aussie Dollar Dives Following RBA&apos;s More Dovish Tone</td><td>y</td></tr><tr><th>64</th><td>Dollar ticks lower with Fed policy decision in focus</td><td>y</td></tr><tr><th>65</th><td>Dollar Drifts Ahead of Fed Meeting</td><td>y</td></tr><tr><th>66</th><td>Australian Dollar Slumps</td><td>n</td></tr><tr><th>67</th><td>Dollar Up, RBA Keeps Interest Rate Unchanged in Latest Policy Decision</td><td>n</td></tr><tr><th>68</th><td>Dollar Edges Higher</td><td>n</td></tr><tr><th>69</th><td>PCE Data Points to Early Fed Hike</td><td>n</td></tr><tr><th>70</th><td>Dollar Up, Yen Down Over Surprise Japan Election Result</td><td>y</td></tr><tr><th>71</th><td>Dollar climbs as inflation builds case for higher rates</td><td>y</td></tr><tr><th>72</th><td>China’s Mega Banks Extend Profit Gains on Easing Bad Loans</td><td>n</td></tr><tr><th>73</th><td>Euro Gains After ECB Meeting</td><td>y</td></tr><tr><th>74</th><td>Dollar Up, but Near One-Month Low After ECB Policy Decision Strengthens Euro</td><td>n</td></tr><tr><th>75</th><td>Euro Jumps to 1-Month High as ECB&apos;s Lagarde Fails to Calm Rate Hike Bets</td><td>y</td></tr><tr><th>76</th><td>Dollar holds losses to euro after ECB comments, economic data</td><td>y</td></tr><tr><th>77</th><td>US Posts Weakest Growth of Pandemic Recovery on Supply Woes</td><td>n</td></tr><tr><th>78</th><td>Dollar Up, Yen Down as Investors Focus on Central Bank Policy Decisions</td><td>y</td></tr><tr><th>79</th><td>The GBPUSD Rebounds Following Rishi Sunak Budget Speech</td><td>y</td></tr><tr><th>80</th><td>Sterling in Focus ahead of U.K. Budget</td><td>n</td></tr><tr><th>&vellip;</th><td>&vellip;</td><td>&vellip;</td></tr></tbody></table></div>"
      ],
      "text/latex": [
       "\\begin{tabular}{r|cc}\n",
       "\t& Article & Currency move + reason\\\\\n",
       "\t\\hline\n",
       "\t& String & String?\\\\\n",
       "\t\\hline\n",
       "\t1 & Dollar dips but shows biggest weekly gain in almost 3 months & n \\\\\n",
       "\t2 & EURJPY Price Penetrates \\$131 Level Downside, Targeting \\$130 Level & n \\\\\n",
       "\t3 & Far from debasement, dollar hits overdrive & n \\\\\n",
       "\t4 & Dollar Edges Lower & n \\\\\n",
       "\t5 & Remains Near 16-Month High & n \\\\\n",
       "\t6 & NZ dollar drops below 70 level & n \\\\\n",
       "\t7 & Dollar Near 16-Month High on Rates Hike Bets & y \\\\\n",
       "\t8 & Dollar climbs after hot US inflation & y \\\\\n",
       "\t9 & euro dips & n \\\\\n",
       "\t10 & US Dollar Continues to Gain Following Wednesday's Inflation Data  & y \\\\\n",
       "\t11 & De-Banking Crypto Traders Is More Sinister And Anti-Competitive -Aussie Senator Bragg & n \\\\\n",
       "\t12 & Euro US Dollar (EUR/USD) Exchange Rate Hits Low as USD Soars & n \\\\\n",
       "\t13 & Dollar Climbs to 2021 Highs & n \\\\\n",
       "\t14 & US CPI Points to Early Fed Hikes & n \\\\\n",
       "\t15 & Aussie dips below 73 on soft jobs report & y \\\\\n",
       "\t16 & Dollar Up, Boosted by Highest US Inflation in a Generation & y \\\\\n",
       "\t17 & GBPUSD Price Penetrates \\$1.34 Level, Targeting Support Level of \\$1.32 & n \\\\\n",
       "\t18 & E-commerce giant JD starts accepting China's digital currency on Singles Day for the first time & n \\\\\n",
       "\t19 & Dollar climbs as US inflation surge fuels rate hike speculation & y \\\\\n",
       "\t20 & EUR/USD – A major break lower & n \\\\\n",
       "\t21 & Nordea sees EUR/USD dropping to 1.08 by the end of next year & n \\\\\n",
       "\t22 & New Zealand dollar dips to 71 & n \\\\\n",
       "\t23 & Hedge funds' FX plays get crushed in red October & n \\\\\n",
       "\t24 & Dollar Pushes Higher & n \\\\\n",
       "\t25 & US CPI Release in Focus & n \\\\\n",
       "\t26 & Aussie extends losses on China concerns & y \\\\\n",
       "\t27 & Dollar Up, at One-Month Low Against Yen as Investors Await US Inflation Data & y \\\\\n",
       "\t28 & USDJPY Price Penetrates Support Level of \\$113 Downside, Bearish Trend May Commence & n \\\\\n",
       "\t29 & Dollar dips before US inflation data & y \\\\\n",
       "\t30 & Pound US Dollar Exchange Rate Struggles ahead of US Inflation & y \\\\\n",
       "\t31 & Business confidence shines but Aussie slips & n \\\\\n",
       "\t32 & PPI Data in Focus & n \\\\\n",
       "\t33 & Dollar Down, Inflation Data Looms as Next Test on Central Bank Interest Rate Hikes & n \\\\\n",
       "\t34 & USDCHF Price: Support Level of \\$0.909 Holds, Bullish Movement May Commence & n \\\\\n",
       "\t35 & Dollar slips from 15-month highs with Fed, inflation in focus & y \\\\\n",
       "\t36 & Pound to Put Squeeze on Bears as BoE Unlikely to Sit on Rate-Hike Fence & y \\\\\n",
       "\t37 & China Reached A Milestone Of 140M Digital Yuan Wallets – PBoC Official & n \\\\\n",
       "\t38 & Aussie climbs up ahead of confidence data & y \\\\\n",
       "\t39 & Hedge funds get smoked on sterling by BoE sizzler & y \\\\\n",
       "\t40 & Fedspeak and Inflation Data in Focus & n \\\\\n",
       "\t41 & Dollar Down as Investors Grapple With Recent Central Bank Policies & y \\\\\n",
       "\t42 & US dollar net longs slide to five-week low -CFTC, Reuters data & n \\\\\n",
       "\t43 & Dollar soars to more than 1-year high after jobs data, then pulls back & y \\\\\n",
       "\t44 & Dollar Consolidates After Strong Gains & y \\\\\n",
       "\t45 & Nonfarm Payrolls Due & n \\\\\n",
       "\t46 & Dollar Down, but Set for Weekly Gain as Investors Await US Jobs Report & y \\\\\n",
       "\t47 & Kaisa and Major Units Suspend Trading After Missed Payments & n \\\\\n",
       "\t48 & Dollar rebounds, sterling slumps, as market resets rate expectations & y \\\\\n",
       "\t49 & Dollar Rebounds After Fed Announces Tapering & y \\\\\n",
       "\t50 & Bank of England Meets & n \\\\\n",
       "\t51 & Dollar Up, Investor Digest Latest Fed Policy Decision & n \\\\\n",
       "\t52 & Dollar dips after Fed confirms beginning of taper & y \\\\\n",
       "\t53 & \\$9.5 billion spent using Chinese central bank's digital currency - official & n \\\\\n",
       "\t54 & Canadian dollar forecasts turn stronger as BoC signals earlier hikes - Reuters poll & n \\\\\n",
       "\t55 & Lebanese carry 'worthless' stacks of cash after currency crash & n \\\\\n",
       "\t56 & Zloty seen leading gains as rate hikes support central European currencies - Reuters poll & y \\\\\n",
       "\t57 & Dollar Flat Ahead of Key Federal Reserve Meeting & y \\\\\n",
       "\t58 & Dollar Down, Investors Await Fed Policy Decision & n \\\\\n",
       "\t59 & More trouble ahead for erratic emerging market currencies - Reuters poll & n \\\\\n",
       "\t60 & Rate differentials set to gently jostle strong US dollar: Reuters poll & y \\\\\n",
       "\t61 & Dollar firms as Fed policy meeting gets underway & y \\\\\n",
       "\t62 & Taliban ban use of foreign currency in Afghanistan -spokesman & n \\\\\n",
       "\t63 & The Aussie Dollar Dives Following RBA's More Dovish Tone & y \\\\\n",
       "\t64 & Dollar ticks lower with Fed policy decision in focus & y \\\\\n",
       "\t65 & Dollar Drifts Ahead of Fed Meeting & y \\\\\n",
       "\t66 & Australian Dollar Slumps & n \\\\\n",
       "\t67 & Dollar Up, RBA Keeps Interest Rate Unchanged in Latest Policy Decision & n \\\\\n",
       "\t68 & Dollar Edges Higher & n \\\\\n",
       "\t69 & PCE Data Points to Early Fed Hike & n \\\\\n",
       "\t70 & Dollar Up, Yen Down Over Surprise Japan Election Result & y \\\\\n",
       "\t71 & Dollar climbs as inflation builds case for higher rates & y \\\\\n",
       "\t72 & China’s Mega Banks Extend Profit Gains on Easing Bad Loans & n \\\\\n",
       "\t73 & Euro Gains After ECB Meeting & y \\\\\n",
       "\t74 & Dollar Up, but Near One-Month Low After ECB Policy Decision Strengthens Euro & n \\\\\n",
       "\t75 & Euro Jumps to 1-Month High as ECB's Lagarde Fails to Calm Rate Hike Bets & y \\\\\n",
       "\t76 & Dollar holds losses to euro after ECB comments, economic data & y \\\\\n",
       "\t77 & US Posts Weakest Growth of Pandemic Recovery on Supply Woes & n \\\\\n",
       "\t78 & Dollar Up, Yen Down as Investors Focus on Central Bank Policy Decisions & y \\\\\n",
       "\t79 & The GBPUSD Rebounds Following Rishi Sunak Budget Speech & y \\\\\n",
       "\t80 & Sterling in Focus ahead of U.K. Budget & n \\\\\n",
       "\t$\\dots$ & $\\dots$ & $\\dots$ \\\\\n",
       "\\end{tabular}\n"
      ],
      "text/plain": [
       "\u001b[1m1851×2 DataFrame\u001b[0m\n",
       "\u001b[1m  Row \u001b[0m│\u001b[1m Article                           \u001b[0m\u001b[1m Currency move + reason \u001b[0m\n",
       "\u001b[1m      \u001b[0m│\u001b[90m String                            \u001b[0m\u001b[90m Union{Missing, String} \u001b[0m\n",
       "──────┼───────────────────────────────────────────────────────────\n",
       "    1 │ Dollar dips but shows biggest we…  n\n",
       "    2 │ EURJPY Price Penetrates $131 Lev…  n\n",
       "    3 │ Far from debasement, dollar hits…  n\n",
       "    4 │ Dollar Edges Lower                 n\n",
       "    5 │ Remains Near 16-Month High         n\n",
       "    6 │ NZ dollar drops below 70 level     n\n",
       "    7 │ Dollar Near 16-Month High on Rat…  y\n",
       "    8 │ Dollar climbs after hot US infla…  y\n",
       "    9 │ euro dips                          n\n",
       "   10 │ US Dollar Continues to Gain Foll…  y\n",
       "   11 │ De-Banking Crypto Traders Is Mor…  n\n",
       "   12 │ Euro US Dollar (EUR/USD) Exchang…  n\n",
       "   13 │ Dollar Climbs to 2021 Highs        n\n",
       "   14 │ US CPI Points to Early Fed Hikes   n\n",
       "   15 │ Aussie dips below 73 on soft job…  y\n",
       "   16 │ Dollar Up, Boosted by Highest US…  y\n",
       "   17 │ GBPUSD Price Penetrates $1.34 Le…  n\n",
       "   18 │ E-commerce giant JD starts accep…  n\n",
       "   19 │ Dollar climbs as US inflation su…  y\n",
       "   20 │ EUR/USD – A major break lower      n\n",
       "   21 │ Nordea sees EUR/USD dropping to …  n\n",
       "   22 │ New Zealand dollar dips to 71      n\n",
       "   23 │ Hedge funds' FX plays get crushe…  n\n",
       "   24 │ Dollar Pushes Higher               n\n",
       "   25 │ US CPI Release in Focus            n\n",
       "   26 │ Aussie extends losses on China c…  y\n",
       "   27 │ Dollar Up, at One-Month Low Agai…  y\n",
       "   28 │ USDJPY Price Penetrates Support …  n\n",
       "   29 │ Dollar dips before US inflation …  y\n",
       "   30 │ Pound US Dollar Exchange Rate St…  y\n",
       "   31 │ Business confidence shines but A…  n\n",
       "   32 │ PPI Data in Focus                  n\n",
       "   33 │ Dollar Down, Inflation Data Loom…  n\n",
       "   34 │ USDCHF Price: Support Level of $…  n\n",
       "   35 │ Dollar slips from 15-month highs…  y\n",
       "   36 │ Pound to Put Squeeze on Bears as…  y\n",
       "  ⋮   │                 ⋮                            ⋮\n",
       " 1817 │ Dollar Is Losing Its Luster as I… \u001b[90m missing                \u001b[0m\n",
       " 1818 │ Dollar Continues Slide Over Dimm… \u001b[90m missing                \u001b[0m\n",
       " 1819 │ Yen up and dollar clinging on as… \u001b[90m missing                \u001b[0m\n",
       " 1820 │ Hedging Costs at Decade Low Lure… \u001b[90m missing                \u001b[0m\n",
       " 1821 │ Bubble Warnings Get Louder With … \u001b[90m missing                \u001b[0m\n",
       " 1822 │ Dollar Hovers Around 22-Month Lo… \u001b[90m missing                \u001b[0m\n",
       " 1823 │ Euro’s Strength May Just Be Prel… \u001b[90m missing                \u001b[0m\n",
       " 1824 │ Turkey Asks Banks to Hedge Curre… \u001b[90m missing                \u001b[0m\n",
       " 1825 │ Bullish bets on most Asian curre… \u001b[90m missing                \u001b[0m\n",
       " 1826 │ Dollar Weakens as German Confide… \u001b[90m missing                \u001b[0m\n",
       " 1827 │ Dollar Down Despite Rising US-Ch… \u001b[90m missing                \u001b[0m\n",
       " 1828 │ UN Calls for Basic Income to Cur… \u001b[90m missing                \u001b[0m\n",
       " 1829 │ Thailand has not intervened in b… \u001b[90m missing                \u001b[0m\n",
       " 1830 │ Dollar finds footing as Sino-US … \u001b[90m missing                \u001b[0m\n",
       " 1831 │ Battered US dollar 'hanging by a… \u001b[90m missing                \u001b[0m\n",
       " 1832 │ EUR/USD to $1.21 by Year End as … \u001b[90m missing                \u001b[0m\n",
       " 1833 │ Euro Climbs to Highest in Almost… \u001b[90m missing                \u001b[0m\n",
       " 1834 │ UBS Warns US Will Soon Label Swi… \u001b[90m missing                \u001b[0m\n",
       " 1835 │ Dollar Edges Higher, But Trend P… \u001b[90m missing                \u001b[0m\n",
       " 1836 │ Dollar Down, With US Bickering O… \u001b[90m missing                \u001b[0m\n",
       " 1837 │ Dollar licks wounds as investors… \u001b[90m missing                \u001b[0m\n",
       " 1838 │ Threat to Dollar’s Global Suprem… \u001b[90m missing                \u001b[0m\n",
       " 1839 │ Euro Rises to Nearly 19-Month Hi… \u001b[90m missing                \u001b[0m\n",
       " 1840 │ Euro Is Turning Into ‘Credible’ … \u001b[90m missing                \u001b[0m\n",
       " 1841 │ Dollar Drops                      \u001b[90m missing                \u001b[0m\n",
       " 1842 │ Euro, Sterling Gain on Summit Ag… \u001b[90m missing                \u001b[0m\n",
       " 1843 │ Negative Rates Lose Out to Zero … \u001b[90m missing                \u001b[0m\n",
       " 1844 │ EU progress and vaccine hopes ke… \u001b[90m missing                \u001b[0m\n",
       " 1845 │ Dollar Retreats Over Renewed Hop… \u001b[90m missing                \u001b[0m\n",
       " 1846 │ Euro Climbs on EU Recovery Fund … \u001b[90m missing                \u001b[0m\n",
       " 1847 │ Euro jumps to four-month peak on… \u001b[90m missing                \u001b[0m\n",
       " 1848 │ Dollar Up, With Investors Antici… \u001b[90m missing                \u001b[0m\n",
       " 1849 │ Iran's rial hits new low on unof… \u001b[90m missing                \u001b[0m\n",
       " 1850 │ virus, sanctions weigh            \u001b[90m missing                \u001b[0m\n",
       " 1851 │ Dollar Set for Fourth-Weekly Slu… \u001b[90m missing                \u001b[0m\n",
       "\u001b[36m                                                 1780 rows omitted\u001b[0m"
      ]
     },
     "execution_count": 364,
     "metadata": {},
     "output_type": "execute_result"
    }
   ],
   "source": [
    "data = DataFrame(CSV.File(\"data/articles_modified_analysis_short.csv\"))"
   ]
  },
  {
   "cell_type": "code",
   "execution_count": 365,
   "id": "5807bf63",
   "metadata": {},
   "outputs": [
    {
     "data": {
      "text/html": [
       "<div class=\"data-frame\"><p>1,851 rows × 2 columns</p><table class=\"data-frame\"><thead><tr><th></th><th>Article</th><th>Target</th></tr><tr><th></th><th title=\"String\">String</th><th title=\"Union{Missing, String}\">String?</th></tr></thead><tbody><tr><th>1</th><td>Dollar dips but shows biggest weekly gain in almost 3 months</td><td>n</td></tr><tr><th>2</th><td>EURJPY Price Penetrates $131 Level Downside, Targeting $130 Level</td><td>n</td></tr><tr><th>3</th><td>Far from debasement, dollar hits overdrive</td><td>n</td></tr><tr><th>4</th><td>Dollar Edges Lower</td><td>n</td></tr><tr><th>5</th><td>Remains Near 16-Month High</td><td>n</td></tr><tr><th>6</th><td>NZ dollar drops below 70 level</td><td>n</td></tr><tr><th>7</th><td>Dollar Near 16-Month High on Rates Hike Bets</td><td>y</td></tr><tr><th>8</th><td>Dollar climbs after hot US inflation</td><td>y</td></tr><tr><th>9</th><td>euro dips</td><td>n</td></tr><tr><th>10</th><td>US Dollar Continues to Gain Following Wednesday&apos;s Inflation Data </td><td>y</td></tr><tr><th>11</th><td>De-Banking Crypto Traders Is More Sinister And Anti-Competitive -Aussie Senator Bragg</td><td>n</td></tr><tr><th>12</th><td>Euro US Dollar (EUR/USD) Exchange Rate Hits Low as USD Soars</td><td>n</td></tr><tr><th>13</th><td>Dollar Climbs to 2021 Highs</td><td>n</td></tr><tr><th>14</th><td>US CPI Points to Early Fed Hikes</td><td>n</td></tr><tr><th>15</th><td>Aussie dips below 73 on soft jobs report</td><td>y</td></tr><tr><th>16</th><td>Dollar Up, Boosted by Highest US Inflation in a Generation</td><td>y</td></tr><tr><th>17</th><td>GBPUSD Price Penetrates $1.34 Level, Targeting Support Level of $1.32</td><td>n</td></tr><tr><th>18</th><td>E-commerce giant JD starts accepting China&apos;s digital currency on Singles Day for the first time</td><td>n</td></tr><tr><th>19</th><td>Dollar climbs as US inflation surge fuels rate hike speculation</td><td>y</td></tr><tr><th>20</th><td>EUR/USD – A major break lower</td><td>n</td></tr><tr><th>21</th><td>Nordea sees EUR/USD dropping to 1.08 by the end of next year</td><td>n</td></tr><tr><th>22</th><td>New Zealand dollar dips to 71</td><td>n</td></tr><tr><th>23</th><td>Hedge funds&apos; FX plays get crushed in red October</td><td>n</td></tr><tr><th>24</th><td>Dollar Pushes Higher</td><td>n</td></tr><tr><th>25</th><td>US CPI Release in Focus</td><td>n</td></tr><tr><th>26</th><td>Aussie extends losses on China concerns</td><td>y</td></tr><tr><th>27</th><td>Dollar Up, at One-Month Low Against Yen as Investors Await US Inflation Data</td><td>y</td></tr><tr><th>28</th><td>USDJPY Price Penetrates Support Level of $113 Downside, Bearish Trend May Commence</td><td>n</td></tr><tr><th>29</th><td>Dollar dips before US inflation data</td><td>y</td></tr><tr><th>30</th><td>Pound US Dollar Exchange Rate Struggles ahead of US Inflation</td><td>y</td></tr><tr><th>31</th><td>Business confidence shines but Aussie slips</td><td>n</td></tr><tr><th>32</th><td>PPI Data in Focus</td><td>n</td></tr><tr><th>33</th><td>Dollar Down, Inflation Data Looms as Next Test on Central Bank Interest Rate Hikes</td><td>n</td></tr><tr><th>34</th><td>USDCHF Price: Support Level of $0.909 Holds, Bullish Movement May Commence</td><td>n</td></tr><tr><th>35</th><td>Dollar slips from 15-month highs with Fed, inflation in focus</td><td>y</td></tr><tr><th>36</th><td>Pound to Put Squeeze on Bears as BoE Unlikely to Sit on Rate-Hike Fence</td><td>y</td></tr><tr><th>37</th><td>China Reached A Milestone Of 140M Digital Yuan Wallets – PBoC Official</td><td>n</td></tr><tr><th>38</th><td>Aussie climbs up ahead of confidence data</td><td>y</td></tr><tr><th>39</th><td>Hedge funds get smoked on sterling by BoE sizzler</td><td>y</td></tr><tr><th>40</th><td>Fedspeak and Inflation Data in Focus</td><td>n</td></tr><tr><th>41</th><td>Dollar Down as Investors Grapple With Recent Central Bank Policies</td><td>y</td></tr><tr><th>42</th><td>US dollar net longs slide to five-week low -CFTC, Reuters data</td><td>n</td></tr><tr><th>43</th><td>Dollar soars to more than 1-year high after jobs data, then pulls back</td><td>y</td></tr><tr><th>44</th><td>Dollar Consolidates After Strong Gains</td><td>y</td></tr><tr><th>45</th><td>Nonfarm Payrolls Due</td><td>n</td></tr><tr><th>46</th><td>Dollar Down, but Set for Weekly Gain as Investors Await US Jobs Report</td><td>y</td></tr><tr><th>47</th><td>Kaisa and Major Units Suspend Trading After Missed Payments</td><td>n</td></tr><tr><th>48</th><td>Dollar rebounds, sterling slumps, as market resets rate expectations</td><td>y</td></tr><tr><th>49</th><td>Dollar Rebounds After Fed Announces Tapering</td><td>y</td></tr><tr><th>50</th><td>Bank of England Meets</td><td>n</td></tr><tr><th>51</th><td>Dollar Up, Investor Digest Latest Fed Policy Decision</td><td>n</td></tr><tr><th>52</th><td>Dollar dips after Fed confirms beginning of taper</td><td>y</td></tr><tr><th>53</th><td>$9.5 billion spent using Chinese central bank&apos;s digital currency - official</td><td>n</td></tr><tr><th>54</th><td>Canadian dollar forecasts turn stronger as BoC signals earlier hikes - Reuters poll</td><td>n</td></tr><tr><th>55</th><td>Lebanese carry &apos;worthless&apos; stacks of cash after currency crash</td><td>n</td></tr><tr><th>56</th><td>Zloty seen leading gains as rate hikes support central European currencies - Reuters poll</td><td>y</td></tr><tr><th>57</th><td>Dollar Flat Ahead of Key Federal Reserve Meeting</td><td>y</td></tr><tr><th>58</th><td>Dollar Down, Investors Await Fed Policy Decision</td><td>n</td></tr><tr><th>59</th><td>More trouble ahead for erratic emerging market currencies - Reuters poll</td><td>n</td></tr><tr><th>60</th><td>Rate differentials set to gently jostle strong US dollar: Reuters poll</td><td>y</td></tr><tr><th>61</th><td>Dollar firms as Fed policy meeting gets underway</td><td>y</td></tr><tr><th>62</th><td>Taliban ban use of foreign currency in Afghanistan -spokesman</td><td>n</td></tr><tr><th>63</th><td>The Aussie Dollar Dives Following RBA&apos;s More Dovish Tone</td><td>y</td></tr><tr><th>64</th><td>Dollar ticks lower with Fed policy decision in focus</td><td>y</td></tr><tr><th>65</th><td>Dollar Drifts Ahead of Fed Meeting</td><td>y</td></tr><tr><th>66</th><td>Australian Dollar Slumps</td><td>n</td></tr><tr><th>67</th><td>Dollar Up, RBA Keeps Interest Rate Unchanged in Latest Policy Decision</td><td>n</td></tr><tr><th>68</th><td>Dollar Edges Higher</td><td>n</td></tr><tr><th>69</th><td>PCE Data Points to Early Fed Hike</td><td>n</td></tr><tr><th>70</th><td>Dollar Up, Yen Down Over Surprise Japan Election Result</td><td>y</td></tr><tr><th>71</th><td>Dollar climbs as inflation builds case for higher rates</td><td>y</td></tr><tr><th>72</th><td>China’s Mega Banks Extend Profit Gains on Easing Bad Loans</td><td>n</td></tr><tr><th>73</th><td>Euro Gains After ECB Meeting</td><td>y</td></tr><tr><th>74</th><td>Dollar Up, but Near One-Month Low After ECB Policy Decision Strengthens Euro</td><td>n</td></tr><tr><th>75</th><td>Euro Jumps to 1-Month High as ECB&apos;s Lagarde Fails to Calm Rate Hike Bets</td><td>y</td></tr><tr><th>76</th><td>Dollar holds losses to euro after ECB comments, economic data</td><td>y</td></tr><tr><th>77</th><td>US Posts Weakest Growth of Pandemic Recovery on Supply Woes</td><td>n</td></tr><tr><th>78</th><td>Dollar Up, Yen Down as Investors Focus on Central Bank Policy Decisions</td><td>y</td></tr><tr><th>79</th><td>The GBPUSD Rebounds Following Rishi Sunak Budget Speech</td><td>y</td></tr><tr><th>80</th><td>Sterling in Focus ahead of U.K. Budget</td><td>n</td></tr><tr><th>&vellip;</th><td>&vellip;</td><td>&vellip;</td></tr></tbody></table></div>"
      ],
      "text/latex": [
       "\\begin{tabular}{r|cc}\n",
       "\t& Article & Target\\\\\n",
       "\t\\hline\n",
       "\t& String & String?\\\\\n",
       "\t\\hline\n",
       "\t1 & Dollar dips but shows biggest weekly gain in almost 3 months & n \\\\\n",
       "\t2 & EURJPY Price Penetrates \\$131 Level Downside, Targeting \\$130 Level & n \\\\\n",
       "\t3 & Far from debasement, dollar hits overdrive & n \\\\\n",
       "\t4 & Dollar Edges Lower & n \\\\\n",
       "\t5 & Remains Near 16-Month High & n \\\\\n",
       "\t6 & NZ dollar drops below 70 level & n \\\\\n",
       "\t7 & Dollar Near 16-Month High on Rates Hike Bets & y \\\\\n",
       "\t8 & Dollar climbs after hot US inflation & y \\\\\n",
       "\t9 & euro dips & n \\\\\n",
       "\t10 & US Dollar Continues to Gain Following Wednesday's Inflation Data  & y \\\\\n",
       "\t11 & De-Banking Crypto Traders Is More Sinister And Anti-Competitive -Aussie Senator Bragg & n \\\\\n",
       "\t12 & Euro US Dollar (EUR/USD) Exchange Rate Hits Low as USD Soars & n \\\\\n",
       "\t13 & Dollar Climbs to 2021 Highs & n \\\\\n",
       "\t14 & US CPI Points to Early Fed Hikes & n \\\\\n",
       "\t15 & Aussie dips below 73 on soft jobs report & y \\\\\n",
       "\t16 & Dollar Up, Boosted by Highest US Inflation in a Generation & y \\\\\n",
       "\t17 & GBPUSD Price Penetrates \\$1.34 Level, Targeting Support Level of \\$1.32 & n \\\\\n",
       "\t18 & E-commerce giant JD starts accepting China's digital currency on Singles Day for the first time & n \\\\\n",
       "\t19 & Dollar climbs as US inflation surge fuels rate hike speculation & y \\\\\n",
       "\t20 & EUR/USD – A major break lower & n \\\\\n",
       "\t21 & Nordea sees EUR/USD dropping to 1.08 by the end of next year & n \\\\\n",
       "\t22 & New Zealand dollar dips to 71 & n \\\\\n",
       "\t23 & Hedge funds' FX plays get crushed in red October & n \\\\\n",
       "\t24 & Dollar Pushes Higher & n \\\\\n",
       "\t25 & US CPI Release in Focus & n \\\\\n",
       "\t26 & Aussie extends losses on China concerns & y \\\\\n",
       "\t27 & Dollar Up, at One-Month Low Against Yen as Investors Await US Inflation Data & y \\\\\n",
       "\t28 & USDJPY Price Penetrates Support Level of \\$113 Downside, Bearish Trend May Commence & n \\\\\n",
       "\t29 & Dollar dips before US inflation data & y \\\\\n",
       "\t30 & Pound US Dollar Exchange Rate Struggles ahead of US Inflation & y \\\\\n",
       "\t31 & Business confidence shines but Aussie slips & n \\\\\n",
       "\t32 & PPI Data in Focus & n \\\\\n",
       "\t33 & Dollar Down, Inflation Data Looms as Next Test on Central Bank Interest Rate Hikes & n \\\\\n",
       "\t34 & USDCHF Price: Support Level of \\$0.909 Holds, Bullish Movement May Commence & n \\\\\n",
       "\t35 & Dollar slips from 15-month highs with Fed, inflation in focus & y \\\\\n",
       "\t36 & Pound to Put Squeeze on Bears as BoE Unlikely to Sit on Rate-Hike Fence & y \\\\\n",
       "\t37 & China Reached A Milestone Of 140M Digital Yuan Wallets – PBoC Official & n \\\\\n",
       "\t38 & Aussie climbs up ahead of confidence data & y \\\\\n",
       "\t39 & Hedge funds get smoked on sterling by BoE sizzler & y \\\\\n",
       "\t40 & Fedspeak and Inflation Data in Focus & n \\\\\n",
       "\t41 & Dollar Down as Investors Grapple With Recent Central Bank Policies & y \\\\\n",
       "\t42 & US dollar net longs slide to five-week low -CFTC, Reuters data & n \\\\\n",
       "\t43 & Dollar soars to more than 1-year high after jobs data, then pulls back & y \\\\\n",
       "\t44 & Dollar Consolidates After Strong Gains & y \\\\\n",
       "\t45 & Nonfarm Payrolls Due & n \\\\\n",
       "\t46 & Dollar Down, but Set for Weekly Gain as Investors Await US Jobs Report & y \\\\\n",
       "\t47 & Kaisa and Major Units Suspend Trading After Missed Payments & n \\\\\n",
       "\t48 & Dollar rebounds, sterling slumps, as market resets rate expectations & y \\\\\n",
       "\t49 & Dollar Rebounds After Fed Announces Tapering & y \\\\\n",
       "\t50 & Bank of England Meets & n \\\\\n",
       "\t51 & Dollar Up, Investor Digest Latest Fed Policy Decision & n \\\\\n",
       "\t52 & Dollar dips after Fed confirms beginning of taper & y \\\\\n",
       "\t53 & \\$9.5 billion spent using Chinese central bank's digital currency - official & n \\\\\n",
       "\t54 & Canadian dollar forecasts turn stronger as BoC signals earlier hikes - Reuters poll & n \\\\\n",
       "\t55 & Lebanese carry 'worthless' stacks of cash after currency crash & n \\\\\n",
       "\t56 & Zloty seen leading gains as rate hikes support central European currencies - Reuters poll & y \\\\\n",
       "\t57 & Dollar Flat Ahead of Key Federal Reserve Meeting & y \\\\\n",
       "\t58 & Dollar Down, Investors Await Fed Policy Decision & n \\\\\n",
       "\t59 & More trouble ahead for erratic emerging market currencies - Reuters poll & n \\\\\n",
       "\t60 & Rate differentials set to gently jostle strong US dollar: Reuters poll & y \\\\\n",
       "\t61 & Dollar firms as Fed policy meeting gets underway & y \\\\\n",
       "\t62 & Taliban ban use of foreign currency in Afghanistan -spokesman & n \\\\\n",
       "\t63 & The Aussie Dollar Dives Following RBA's More Dovish Tone & y \\\\\n",
       "\t64 & Dollar ticks lower with Fed policy decision in focus & y \\\\\n",
       "\t65 & Dollar Drifts Ahead of Fed Meeting & y \\\\\n",
       "\t66 & Australian Dollar Slumps & n \\\\\n",
       "\t67 & Dollar Up, RBA Keeps Interest Rate Unchanged in Latest Policy Decision & n \\\\\n",
       "\t68 & Dollar Edges Higher & n \\\\\n",
       "\t69 & PCE Data Points to Early Fed Hike & n \\\\\n",
       "\t70 & Dollar Up, Yen Down Over Surprise Japan Election Result & y \\\\\n",
       "\t71 & Dollar climbs as inflation builds case for higher rates & y \\\\\n",
       "\t72 & China’s Mega Banks Extend Profit Gains on Easing Bad Loans & n \\\\\n",
       "\t73 & Euro Gains After ECB Meeting & y \\\\\n",
       "\t74 & Dollar Up, but Near One-Month Low After ECB Policy Decision Strengthens Euro & n \\\\\n",
       "\t75 & Euro Jumps to 1-Month High as ECB's Lagarde Fails to Calm Rate Hike Bets & y \\\\\n",
       "\t76 & Dollar holds losses to euro after ECB comments, economic data & y \\\\\n",
       "\t77 & US Posts Weakest Growth of Pandemic Recovery on Supply Woes & n \\\\\n",
       "\t78 & Dollar Up, Yen Down as Investors Focus on Central Bank Policy Decisions & y \\\\\n",
       "\t79 & The GBPUSD Rebounds Following Rishi Sunak Budget Speech & y \\\\\n",
       "\t80 & Sterling in Focus ahead of U.K. Budget & n \\\\\n",
       "\t$\\dots$ & $\\dots$ & $\\dots$ \\\\\n",
       "\\end{tabular}\n"
      ],
      "text/plain": [
       "\u001b[1m1851×2 DataFrame\u001b[0m\n",
       "\u001b[1m  Row \u001b[0m│\u001b[1m Article                           \u001b[0m\u001b[1m Target  \u001b[0m\n",
       "\u001b[1m      \u001b[0m│\u001b[90m String                            \u001b[0m\u001b[90m String? \u001b[0m\n",
       "──────┼────────────────────────────────────────────\n",
       "    1 │ Dollar dips but shows biggest we…  n\n",
       "    2 │ EURJPY Price Penetrates $131 Lev…  n\n",
       "    3 │ Far from debasement, dollar hits…  n\n",
       "    4 │ Dollar Edges Lower                 n\n",
       "    5 │ Remains Near 16-Month High         n\n",
       "    6 │ NZ dollar drops below 70 level     n\n",
       "    7 │ Dollar Near 16-Month High on Rat…  y\n",
       "    8 │ Dollar climbs after hot US infla…  y\n",
       "    9 │ euro dips                          n\n",
       "   10 │ US Dollar Continues to Gain Foll…  y\n",
       "   11 │ De-Banking Crypto Traders Is Mor…  n\n",
       "   12 │ Euro US Dollar (EUR/USD) Exchang…  n\n",
       "   13 │ Dollar Climbs to 2021 Highs        n\n",
       "   14 │ US CPI Points to Early Fed Hikes   n\n",
       "   15 │ Aussie dips below 73 on soft job…  y\n",
       "   16 │ Dollar Up, Boosted by Highest US…  y\n",
       "   17 │ GBPUSD Price Penetrates $1.34 Le…  n\n",
       "   18 │ E-commerce giant JD starts accep…  n\n",
       "   19 │ Dollar climbs as US inflation su…  y\n",
       "   20 │ EUR/USD – A major break lower      n\n",
       "   21 │ Nordea sees EUR/USD dropping to …  n\n",
       "   22 │ New Zealand dollar dips to 71      n\n",
       "   23 │ Hedge funds' FX plays get crushe…  n\n",
       "   24 │ Dollar Pushes Higher               n\n",
       "   25 │ US CPI Release in Focus            n\n",
       "   26 │ Aussie extends losses on China c…  y\n",
       "   27 │ Dollar Up, at One-Month Low Agai…  y\n",
       "   28 │ USDJPY Price Penetrates Support …  n\n",
       "   29 │ Dollar dips before US inflation …  y\n",
       "   30 │ Pound US Dollar Exchange Rate St…  y\n",
       "   31 │ Business confidence shines but A…  n\n",
       "   32 │ PPI Data in Focus                  n\n",
       "   33 │ Dollar Down, Inflation Data Loom…  n\n",
       "   34 │ USDCHF Price: Support Level of $…  n\n",
       "   35 │ Dollar slips from 15-month highs…  y\n",
       "   36 │ Pound to Put Squeeze on Bears as…  y\n",
       "  ⋮   │                 ⋮                     ⋮\n",
       " 1817 │ Dollar Is Losing Its Luster as I… \u001b[90m missing \u001b[0m\n",
       " 1818 │ Dollar Continues Slide Over Dimm… \u001b[90m missing \u001b[0m\n",
       " 1819 │ Yen up and dollar clinging on as… \u001b[90m missing \u001b[0m\n",
       " 1820 │ Hedging Costs at Decade Low Lure… \u001b[90m missing \u001b[0m\n",
       " 1821 │ Bubble Warnings Get Louder With … \u001b[90m missing \u001b[0m\n",
       " 1822 │ Dollar Hovers Around 22-Month Lo… \u001b[90m missing \u001b[0m\n",
       " 1823 │ Euro’s Strength May Just Be Prel… \u001b[90m missing \u001b[0m\n",
       " 1824 │ Turkey Asks Banks to Hedge Curre… \u001b[90m missing \u001b[0m\n",
       " 1825 │ Bullish bets on most Asian curre… \u001b[90m missing \u001b[0m\n",
       " 1826 │ Dollar Weakens as German Confide… \u001b[90m missing \u001b[0m\n",
       " 1827 │ Dollar Down Despite Rising US-Ch… \u001b[90m missing \u001b[0m\n",
       " 1828 │ UN Calls for Basic Income to Cur… \u001b[90m missing \u001b[0m\n",
       " 1829 │ Thailand has not intervened in b… \u001b[90m missing \u001b[0m\n",
       " 1830 │ Dollar finds footing as Sino-US … \u001b[90m missing \u001b[0m\n",
       " 1831 │ Battered US dollar 'hanging by a… \u001b[90m missing \u001b[0m\n",
       " 1832 │ EUR/USD to $1.21 by Year End as … \u001b[90m missing \u001b[0m\n",
       " 1833 │ Euro Climbs to Highest in Almost… \u001b[90m missing \u001b[0m\n",
       " 1834 │ UBS Warns US Will Soon Label Swi… \u001b[90m missing \u001b[0m\n",
       " 1835 │ Dollar Edges Higher, But Trend P… \u001b[90m missing \u001b[0m\n",
       " 1836 │ Dollar Down, With US Bickering O… \u001b[90m missing \u001b[0m\n",
       " 1837 │ Dollar licks wounds as investors… \u001b[90m missing \u001b[0m\n",
       " 1838 │ Threat to Dollar’s Global Suprem… \u001b[90m missing \u001b[0m\n",
       " 1839 │ Euro Rises to Nearly 19-Month Hi… \u001b[90m missing \u001b[0m\n",
       " 1840 │ Euro Is Turning Into ‘Credible’ … \u001b[90m missing \u001b[0m\n",
       " 1841 │ Dollar Drops                      \u001b[90m missing \u001b[0m\n",
       " 1842 │ Euro, Sterling Gain on Summit Ag… \u001b[90m missing \u001b[0m\n",
       " 1843 │ Negative Rates Lose Out to Zero … \u001b[90m missing \u001b[0m\n",
       " 1844 │ EU progress and vaccine hopes ke… \u001b[90m missing \u001b[0m\n",
       " 1845 │ Dollar Retreats Over Renewed Hop… \u001b[90m missing \u001b[0m\n",
       " 1846 │ Euro Climbs on EU Recovery Fund … \u001b[90m missing \u001b[0m\n",
       " 1847 │ Euro jumps to four-month peak on… \u001b[90m missing \u001b[0m\n",
       " 1848 │ Dollar Up, With Investors Antici… \u001b[90m missing \u001b[0m\n",
       " 1849 │ Iran's rial hits new low on unof… \u001b[90m missing \u001b[0m\n",
       " 1850 │ virus, sanctions weigh            \u001b[90m missing \u001b[0m\n",
       " 1851 │ Dollar Set for Fourth-Weekly Slu… \u001b[90m missing \u001b[0m\n",
       "\u001b[36m                                  1780 rows omitted\u001b[0m"
      ]
     },
     "execution_count": 365,
     "metadata": {},
     "output_type": "execute_result"
    }
   ],
   "source": [
    "rename!(data, [:Article, :Target])"
   ]
  },
  {
   "cell_type": "code",
   "execution_count": 366,
   "id": "30dbbaf6",
   "metadata": {},
   "outputs": [
    {
     "data": {
      "text/html": [
       "<div class=\"data-frame\"><p>399 rows × 2 columns</p><table class=\"data-frame\"><thead><tr><th></th><th>Article</th><th>Target</th></tr><tr><th></th><th title=\"String\">String</th><th title=\"Union{Missing, String}\">String?</th></tr></thead><tbody><tr><th>1</th><td>Dollar dips but shows biggest weekly gain in almost 3 months</td><td>n</td></tr><tr><th>2</th><td>EURJPY Price Penetrates $131 Level Downside, Targeting $130 Level</td><td>n</td></tr><tr><th>3</th><td>Far from debasement, dollar hits overdrive</td><td>n</td></tr><tr><th>4</th><td>Dollar Edges Lower</td><td>n</td></tr><tr><th>5</th><td>Remains Near 16-Month High</td><td>n</td></tr><tr><th>6</th><td>NZ dollar drops below 70 level</td><td>n</td></tr><tr><th>7</th><td>Dollar Near 16-Month High on Rates Hike Bets</td><td>y</td></tr><tr><th>8</th><td>Dollar climbs after hot US inflation</td><td>y</td></tr><tr><th>9</th><td>euro dips</td><td>n</td></tr><tr><th>10</th><td>US Dollar Continues to Gain Following Wednesday&apos;s Inflation Data </td><td>y</td></tr><tr><th>11</th><td>De-Banking Crypto Traders Is More Sinister And Anti-Competitive -Aussie Senator Bragg</td><td>n</td></tr><tr><th>12</th><td>Euro US Dollar (EUR/USD) Exchange Rate Hits Low as USD Soars</td><td>n</td></tr><tr><th>13</th><td>Dollar Climbs to 2021 Highs</td><td>n</td></tr><tr><th>14</th><td>US CPI Points to Early Fed Hikes</td><td>n</td></tr><tr><th>15</th><td>Aussie dips below 73 on soft jobs report</td><td>y</td></tr><tr><th>16</th><td>Dollar Up, Boosted by Highest US Inflation in a Generation</td><td>y</td></tr><tr><th>17</th><td>GBPUSD Price Penetrates $1.34 Level, Targeting Support Level of $1.32</td><td>n</td></tr><tr><th>18</th><td>E-commerce giant JD starts accepting China&apos;s digital currency on Singles Day for the first time</td><td>n</td></tr><tr><th>19</th><td>Dollar climbs as US inflation surge fuels rate hike speculation</td><td>y</td></tr><tr><th>20</th><td>EUR/USD – A major break lower</td><td>n</td></tr><tr><th>21</th><td>Nordea sees EUR/USD dropping to 1.08 by the end of next year</td><td>n</td></tr><tr><th>22</th><td>New Zealand dollar dips to 71</td><td>n</td></tr><tr><th>23</th><td>Hedge funds&apos; FX plays get crushed in red October</td><td>n</td></tr><tr><th>24</th><td>Dollar Pushes Higher</td><td>n</td></tr><tr><th>25</th><td>US CPI Release in Focus</td><td>n</td></tr><tr><th>26</th><td>Aussie extends losses on China concerns</td><td>y</td></tr><tr><th>27</th><td>Dollar Up, at One-Month Low Against Yen as Investors Await US Inflation Data</td><td>y</td></tr><tr><th>28</th><td>USDJPY Price Penetrates Support Level of $113 Downside, Bearish Trend May Commence</td><td>n</td></tr><tr><th>29</th><td>Dollar dips before US inflation data</td><td>y</td></tr><tr><th>30</th><td>Pound US Dollar Exchange Rate Struggles ahead of US Inflation</td><td>y</td></tr><tr><th>31</th><td>Business confidence shines but Aussie slips</td><td>n</td></tr><tr><th>32</th><td>PPI Data in Focus</td><td>n</td></tr><tr><th>33</th><td>Dollar Down, Inflation Data Looms as Next Test on Central Bank Interest Rate Hikes</td><td>n</td></tr><tr><th>34</th><td>USDCHF Price: Support Level of $0.909 Holds, Bullish Movement May Commence</td><td>n</td></tr><tr><th>35</th><td>Dollar slips from 15-month highs with Fed, inflation in focus</td><td>y</td></tr><tr><th>36</th><td>Pound to Put Squeeze on Bears as BoE Unlikely to Sit on Rate-Hike Fence</td><td>y</td></tr><tr><th>37</th><td>China Reached A Milestone Of 140M Digital Yuan Wallets – PBoC Official</td><td>n</td></tr><tr><th>38</th><td>Aussie climbs up ahead of confidence data</td><td>y</td></tr><tr><th>39</th><td>Hedge funds get smoked on sterling by BoE sizzler</td><td>y</td></tr><tr><th>40</th><td>Fedspeak and Inflation Data in Focus</td><td>n</td></tr><tr><th>41</th><td>Dollar Down as Investors Grapple With Recent Central Bank Policies</td><td>y</td></tr><tr><th>42</th><td>US dollar net longs slide to five-week low -CFTC, Reuters data</td><td>n</td></tr><tr><th>43</th><td>Dollar soars to more than 1-year high after jobs data, then pulls back</td><td>y</td></tr><tr><th>44</th><td>Dollar Consolidates After Strong Gains</td><td>y</td></tr><tr><th>45</th><td>Nonfarm Payrolls Due</td><td>n</td></tr><tr><th>46</th><td>Dollar Down, but Set for Weekly Gain as Investors Await US Jobs Report</td><td>y</td></tr><tr><th>47</th><td>Kaisa and Major Units Suspend Trading After Missed Payments</td><td>n</td></tr><tr><th>48</th><td>Dollar rebounds, sterling slumps, as market resets rate expectations</td><td>y</td></tr><tr><th>49</th><td>Dollar Rebounds After Fed Announces Tapering</td><td>y</td></tr><tr><th>50</th><td>Bank of England Meets</td><td>n</td></tr><tr><th>51</th><td>Dollar Up, Investor Digest Latest Fed Policy Decision</td><td>n</td></tr><tr><th>52</th><td>Dollar dips after Fed confirms beginning of taper</td><td>y</td></tr><tr><th>53</th><td>$9.5 billion spent using Chinese central bank&apos;s digital currency - official</td><td>n</td></tr><tr><th>54</th><td>Canadian dollar forecasts turn stronger as BoC signals earlier hikes - Reuters poll</td><td>n</td></tr><tr><th>55</th><td>Lebanese carry &apos;worthless&apos; stacks of cash after currency crash</td><td>n</td></tr><tr><th>56</th><td>Zloty seen leading gains as rate hikes support central European currencies - Reuters poll</td><td>y</td></tr><tr><th>57</th><td>Dollar Flat Ahead of Key Federal Reserve Meeting</td><td>y</td></tr><tr><th>58</th><td>Dollar Down, Investors Await Fed Policy Decision</td><td>n</td></tr><tr><th>59</th><td>More trouble ahead for erratic emerging market currencies - Reuters poll</td><td>n</td></tr><tr><th>60</th><td>Rate differentials set to gently jostle strong US dollar: Reuters poll</td><td>y</td></tr><tr><th>61</th><td>Dollar firms as Fed policy meeting gets underway</td><td>y</td></tr><tr><th>62</th><td>Taliban ban use of foreign currency in Afghanistan -spokesman</td><td>n</td></tr><tr><th>63</th><td>The Aussie Dollar Dives Following RBA&apos;s More Dovish Tone</td><td>y</td></tr><tr><th>64</th><td>Dollar ticks lower with Fed policy decision in focus</td><td>y</td></tr><tr><th>65</th><td>Dollar Drifts Ahead of Fed Meeting</td><td>y</td></tr><tr><th>66</th><td>Australian Dollar Slumps</td><td>n</td></tr><tr><th>67</th><td>Dollar Up, RBA Keeps Interest Rate Unchanged in Latest Policy Decision</td><td>n</td></tr><tr><th>68</th><td>Dollar Edges Higher</td><td>n</td></tr><tr><th>69</th><td>PCE Data Points to Early Fed Hike</td><td>n</td></tr><tr><th>70</th><td>Dollar Up, Yen Down Over Surprise Japan Election Result</td><td>y</td></tr><tr><th>71</th><td>Dollar climbs as inflation builds case for higher rates</td><td>y</td></tr><tr><th>72</th><td>China’s Mega Banks Extend Profit Gains on Easing Bad Loans</td><td>n</td></tr><tr><th>73</th><td>Euro Gains After ECB Meeting</td><td>y</td></tr><tr><th>74</th><td>Dollar Up, but Near One-Month Low After ECB Policy Decision Strengthens Euro</td><td>n</td></tr><tr><th>75</th><td>Euro Jumps to 1-Month High as ECB&apos;s Lagarde Fails to Calm Rate Hike Bets</td><td>y</td></tr><tr><th>76</th><td>Dollar holds losses to euro after ECB comments, economic data</td><td>y</td></tr><tr><th>77</th><td>US Posts Weakest Growth of Pandemic Recovery on Supply Woes</td><td>n</td></tr><tr><th>78</th><td>Dollar Up, Yen Down as Investors Focus on Central Bank Policy Decisions</td><td>y</td></tr><tr><th>79</th><td>The GBPUSD Rebounds Following Rishi Sunak Budget Speech</td><td>y</td></tr><tr><th>80</th><td>Sterling in Focus ahead of U.K. Budget</td><td>n</td></tr><tr><th>&vellip;</th><td>&vellip;</td><td>&vellip;</td></tr></tbody></table></div>"
      ],
      "text/latex": [
       "\\begin{tabular}{r|cc}\n",
       "\t& Article & Target\\\\\n",
       "\t\\hline\n",
       "\t& String & String?\\\\\n",
       "\t\\hline\n",
       "\t1 & Dollar dips but shows biggest weekly gain in almost 3 months & n \\\\\n",
       "\t2 & EURJPY Price Penetrates \\$131 Level Downside, Targeting \\$130 Level & n \\\\\n",
       "\t3 & Far from debasement, dollar hits overdrive & n \\\\\n",
       "\t4 & Dollar Edges Lower & n \\\\\n",
       "\t5 & Remains Near 16-Month High & n \\\\\n",
       "\t6 & NZ dollar drops below 70 level & n \\\\\n",
       "\t7 & Dollar Near 16-Month High on Rates Hike Bets & y \\\\\n",
       "\t8 & Dollar climbs after hot US inflation & y \\\\\n",
       "\t9 & euro dips & n \\\\\n",
       "\t10 & US Dollar Continues to Gain Following Wednesday's Inflation Data  & y \\\\\n",
       "\t11 & De-Banking Crypto Traders Is More Sinister And Anti-Competitive -Aussie Senator Bragg & n \\\\\n",
       "\t12 & Euro US Dollar (EUR/USD) Exchange Rate Hits Low as USD Soars & n \\\\\n",
       "\t13 & Dollar Climbs to 2021 Highs & n \\\\\n",
       "\t14 & US CPI Points to Early Fed Hikes & n \\\\\n",
       "\t15 & Aussie dips below 73 on soft jobs report & y \\\\\n",
       "\t16 & Dollar Up, Boosted by Highest US Inflation in a Generation & y \\\\\n",
       "\t17 & GBPUSD Price Penetrates \\$1.34 Level, Targeting Support Level of \\$1.32 & n \\\\\n",
       "\t18 & E-commerce giant JD starts accepting China's digital currency on Singles Day for the first time & n \\\\\n",
       "\t19 & Dollar climbs as US inflation surge fuels rate hike speculation & y \\\\\n",
       "\t20 & EUR/USD – A major break lower & n \\\\\n",
       "\t21 & Nordea sees EUR/USD dropping to 1.08 by the end of next year & n \\\\\n",
       "\t22 & New Zealand dollar dips to 71 & n \\\\\n",
       "\t23 & Hedge funds' FX plays get crushed in red October & n \\\\\n",
       "\t24 & Dollar Pushes Higher & n \\\\\n",
       "\t25 & US CPI Release in Focus & n \\\\\n",
       "\t26 & Aussie extends losses on China concerns & y \\\\\n",
       "\t27 & Dollar Up, at One-Month Low Against Yen as Investors Await US Inflation Data & y \\\\\n",
       "\t28 & USDJPY Price Penetrates Support Level of \\$113 Downside, Bearish Trend May Commence & n \\\\\n",
       "\t29 & Dollar dips before US inflation data & y \\\\\n",
       "\t30 & Pound US Dollar Exchange Rate Struggles ahead of US Inflation & y \\\\\n",
       "\t31 & Business confidence shines but Aussie slips & n \\\\\n",
       "\t32 & PPI Data in Focus & n \\\\\n",
       "\t33 & Dollar Down, Inflation Data Looms as Next Test on Central Bank Interest Rate Hikes & n \\\\\n",
       "\t34 & USDCHF Price: Support Level of \\$0.909 Holds, Bullish Movement May Commence & n \\\\\n",
       "\t35 & Dollar slips from 15-month highs with Fed, inflation in focus & y \\\\\n",
       "\t36 & Pound to Put Squeeze on Bears as BoE Unlikely to Sit on Rate-Hike Fence & y \\\\\n",
       "\t37 & China Reached A Milestone Of 140M Digital Yuan Wallets – PBoC Official & n \\\\\n",
       "\t38 & Aussie climbs up ahead of confidence data & y \\\\\n",
       "\t39 & Hedge funds get smoked on sterling by BoE sizzler & y \\\\\n",
       "\t40 & Fedspeak and Inflation Data in Focus & n \\\\\n",
       "\t41 & Dollar Down as Investors Grapple With Recent Central Bank Policies & y \\\\\n",
       "\t42 & US dollar net longs slide to five-week low -CFTC, Reuters data & n \\\\\n",
       "\t43 & Dollar soars to more than 1-year high after jobs data, then pulls back & y \\\\\n",
       "\t44 & Dollar Consolidates After Strong Gains & y \\\\\n",
       "\t45 & Nonfarm Payrolls Due & n \\\\\n",
       "\t46 & Dollar Down, but Set for Weekly Gain as Investors Await US Jobs Report & y \\\\\n",
       "\t47 & Kaisa and Major Units Suspend Trading After Missed Payments & n \\\\\n",
       "\t48 & Dollar rebounds, sterling slumps, as market resets rate expectations & y \\\\\n",
       "\t49 & Dollar Rebounds After Fed Announces Tapering & y \\\\\n",
       "\t50 & Bank of England Meets & n \\\\\n",
       "\t51 & Dollar Up, Investor Digest Latest Fed Policy Decision & n \\\\\n",
       "\t52 & Dollar dips after Fed confirms beginning of taper & y \\\\\n",
       "\t53 & \\$9.5 billion spent using Chinese central bank's digital currency - official & n \\\\\n",
       "\t54 & Canadian dollar forecasts turn stronger as BoC signals earlier hikes - Reuters poll & n \\\\\n",
       "\t55 & Lebanese carry 'worthless' stacks of cash after currency crash & n \\\\\n",
       "\t56 & Zloty seen leading gains as rate hikes support central European currencies - Reuters poll & y \\\\\n",
       "\t57 & Dollar Flat Ahead of Key Federal Reserve Meeting & y \\\\\n",
       "\t58 & Dollar Down, Investors Await Fed Policy Decision & n \\\\\n",
       "\t59 & More trouble ahead for erratic emerging market currencies - Reuters poll & n \\\\\n",
       "\t60 & Rate differentials set to gently jostle strong US dollar: Reuters poll & y \\\\\n",
       "\t61 & Dollar firms as Fed policy meeting gets underway & y \\\\\n",
       "\t62 & Taliban ban use of foreign currency in Afghanistan -spokesman & n \\\\\n",
       "\t63 & The Aussie Dollar Dives Following RBA's More Dovish Tone & y \\\\\n",
       "\t64 & Dollar ticks lower with Fed policy decision in focus & y \\\\\n",
       "\t65 & Dollar Drifts Ahead of Fed Meeting & y \\\\\n",
       "\t66 & Australian Dollar Slumps & n \\\\\n",
       "\t67 & Dollar Up, RBA Keeps Interest Rate Unchanged in Latest Policy Decision & n \\\\\n",
       "\t68 & Dollar Edges Higher & n \\\\\n",
       "\t69 & PCE Data Points to Early Fed Hike & n \\\\\n",
       "\t70 & Dollar Up, Yen Down Over Surprise Japan Election Result & y \\\\\n",
       "\t71 & Dollar climbs as inflation builds case for higher rates & y \\\\\n",
       "\t72 & China’s Mega Banks Extend Profit Gains on Easing Bad Loans & n \\\\\n",
       "\t73 & Euro Gains After ECB Meeting & y \\\\\n",
       "\t74 & Dollar Up, but Near One-Month Low After ECB Policy Decision Strengthens Euro & n \\\\\n",
       "\t75 & Euro Jumps to 1-Month High as ECB's Lagarde Fails to Calm Rate Hike Bets & y \\\\\n",
       "\t76 & Dollar holds losses to euro after ECB comments, economic data & y \\\\\n",
       "\t77 & US Posts Weakest Growth of Pandemic Recovery on Supply Woes & n \\\\\n",
       "\t78 & Dollar Up, Yen Down as Investors Focus on Central Bank Policy Decisions & y \\\\\n",
       "\t79 & The GBPUSD Rebounds Following Rishi Sunak Budget Speech & y \\\\\n",
       "\t80 & Sterling in Focus ahead of U.K. Budget & n \\\\\n",
       "\t$\\dots$ & $\\dots$ & $\\dots$ \\\\\n",
       "\\end{tabular}\n"
      ],
      "text/plain": [
       "\u001b[1m399×2 DataFrame\u001b[0m\n",
       "\u001b[1m Row \u001b[0m│\u001b[1m Article                           \u001b[0m\u001b[1m Target  \u001b[0m\n",
       "\u001b[1m     \u001b[0m│\u001b[90m String                            \u001b[0m\u001b[90m String? \u001b[0m\n",
       "─────┼────────────────────────────────────────────\n",
       "   1 │ Dollar dips but shows biggest we…  n\n",
       "   2 │ EURJPY Price Penetrates $131 Lev…  n\n",
       "   3 │ Far from debasement, dollar hits…  n\n",
       "   4 │ Dollar Edges Lower                 n\n",
       "   5 │ Remains Near 16-Month High         n\n",
       "   6 │ NZ dollar drops below 70 level     n\n",
       "   7 │ Dollar Near 16-Month High on Rat…  y\n",
       "   8 │ Dollar climbs after hot US infla…  y\n",
       "   9 │ euro dips                          n\n",
       "  10 │ US Dollar Continues to Gain Foll…  y\n",
       "  11 │ De-Banking Crypto Traders Is Mor…  n\n",
       "  12 │ Euro US Dollar (EUR/USD) Exchang…  n\n",
       "  13 │ Dollar Climbs to 2021 Highs        n\n",
       "  14 │ US CPI Points to Early Fed Hikes   n\n",
       "  15 │ Aussie dips below 73 on soft job…  y\n",
       "  16 │ Dollar Up, Boosted by Highest US…  y\n",
       "  17 │ GBPUSD Price Penetrates $1.34 Le…  n\n",
       "  18 │ E-commerce giant JD starts accep…  n\n",
       "  19 │ Dollar climbs as US inflation su…  y\n",
       "  20 │ EUR/USD – A major break lower      n\n",
       "  21 │ Nordea sees EUR/USD dropping to …  n\n",
       "  22 │ New Zealand dollar dips to 71      n\n",
       "  23 │ Hedge funds' FX plays get crushe…  n\n",
       "  24 │ Dollar Pushes Higher               n\n",
       "  25 │ US CPI Release in Focus            n\n",
       "  26 │ Aussie extends losses on China c…  y\n",
       "  27 │ Dollar Up, at One-Month Low Agai…  y\n",
       "  28 │ USDJPY Price Penetrates Support …  n\n",
       "  29 │ Dollar dips before US inflation …  y\n",
       "  30 │ Pound US Dollar Exchange Rate St…  y\n",
       "  31 │ Business confidence shines but A…  n\n",
       "  32 │ PPI Data in Focus                  n\n",
       "  33 │ Dollar Down, Inflation Data Loom…  n\n",
       "  34 │ USDCHF Price: Support Level of $…  n\n",
       "  35 │ Dollar slips from 15-month highs…  y\n",
       "  36 │ Pound to Put Squeeze on Bears as…  y\n",
       "  ⋮  │                 ⋮                     ⋮\n",
       " 365 │ Labor Data Eyed                    n\n",
       " 366 │ Dollar Up Over Fed Hints at Earl…  y\n",
       " 367 │ Roller coaster ride for EM curre…  n\n",
       " 368 │ Dollar adrift, but volatility to…  n\n",
       " 369 │ Dollar rebound holds as yields s…  y\n",
       " 370 │ JPMorgan Blames Turkey’s Volatil…  n\n",
       " 371 │ Employment Data Seen Key This We…  n\n",
       " 372 │ Dollar Down, Near Recent Lows Ah…  y\n",
       " 373 │ Dollar steadies as markets weigh…  y\n",
       " 374 │ US Economic Recovery Key           n\n",
       " 375 │ Dollar Down, Falls Against Yen O…  y\n",
       " 376 │ Dollar wavers on dovish Fed tone…  y\n",
       " 377 │ Dollar Flat, but Bullish Bets Co…  y\n",
       " 378 │ Dollar Weakens Ahead of Key Payr…  y\n",
       " 379 │ Dollar Down Near One-Month Low A…  y\n",
       " 380 │ Dollar rises but still set for b…  n\n",
       " 381 │ Weekly Losses Likely on Dovish F…  n\n",
       " 382 │ Dollar Up but Ends Week Near One…  y\n",
       " 383 │ Chinese yuan bears return after …  y\n",
       " 384 │ Dollar Slips After Powell's Dovi…  y\n",
       " 385 │ Dollar Down, Powell Comments Pre…  n\n",
       " 386 │ Dollar stands firm with Fed deci…  y\n",
       " 387 │ Dollar Edges Higher Ahead of Fed…  y\n",
       " 388 │ Dollar Up, Boosted by Plunge in …  y\n",
       " 389 │ Dollar Stabilizes Ahead of Feder…  y\n",
       " 390 │ Dollar stabilises near recent pe…  y\n",
       " 391 │ Dollar dips ahead of Fed meeting…  y\n",
       " 392 │ Fed Meeting, GDP Data Due This W…  n\n",
       " 393 │ Dollar Down but Remains Near Mul…  n\n",
       " 394 │ Dollar Bears on the Run as Bets …  n\n",
       " 395 │ US dollar on track for second we…  n\n",
       " 396 │ Fed meeting in focus               n\n",
       " 397 │ Fed Seen Speeding Taper of MBS i…  n\n",
       " 398 │ Fed in Focus After ECB Turns Mor…  n\n",
       " 399 │ Dollar Up, Ends Week Almost Back…  n\n",
       "\u001b[36m                                  328 rows omitted\u001b[0m"
      ]
     },
     "execution_count": 366,
     "metadata": {},
     "output_type": "execute_result"
    }
   ],
   "source": [
    "filter!(row -> !ismissing(row.Target), data)"
   ]
  },
  {
   "cell_type": "code",
   "execution_count": 367,
   "id": "1f955174",
   "metadata": {},
   "outputs": [
    {
     "data": {
      "text/plain": [
       "15-element Vector{String}:\n",
       " \"pound\"\n",
       " \"dollar\"\n",
       " \"sterling\"\n",
       " \"euro\"\n",
       " \"dollar\"\n",
       " \"lira\"\n",
       " \"aussie\"\n",
       " \"gbpusd\"\n",
       " \"gbp\"\n",
       " \"usdcad\"\n",
       " \"sterlin\"\n",
       " \"myanmar\"\n",
       " \"yuan\"\n",
       " \"zloty\"\n",
       " \"forint\""
      ]
     },
     "execution_count": 367,
     "metadata": {},
     "output_type": "execute_result"
    }
   ],
   "source": [
    "currencies = [\"pound\", \"dollar\", \"sterling\", \"euro\", \"dollar\", \"lira\", \"aussie\",\n",
    "              \"gbpusd\", \"gbp\", \"usdcad\", \"sterlin\", \"myanmar\", \"yuan\", \"zloty\", \"forint\"]"
   ]
  },
  {
   "cell_type": "code",
   "execution_count": 368,
   "id": "556672f1",
   "metadata": {},
   "outputs": [
    {
     "data": {
      "text/html": [
       "<div class=\"data-frame\"><p>399 rows × 5 columns</p><table class=\"data-frame\"><thead><tr><th></th><th>Article</th><th>Target</th><th>Model1</th><th>Model2</th><th>Model3</th></tr><tr><th></th><th title=\"String\">String</th><th title=\"Union{Missing, String}\">String?</th><th title=\"Int64\">Int64</th><th title=\"Int64\">Int64</th><th title=\"Int64\">Int64</th></tr></thead><tbody><tr><th>1</th><td>Dollar dips but shows biggest weekly gain in almost 3 months</td><td>n</td><td>0</td><td>0</td><td>0</td></tr><tr><th>2</th><td>EURJPY Price Penetrates $131 Level Downside, Targeting $130 Level</td><td>n</td><td>0</td><td>0</td><td>0</td></tr><tr><th>3</th><td>Far from debasement, dollar hits overdrive</td><td>n</td><td>0</td><td>0</td><td>0</td></tr><tr><th>4</th><td>Dollar Edges Lower</td><td>n</td><td>0</td><td>0</td><td>0</td></tr><tr><th>5</th><td>Remains Near 16-Month High</td><td>n</td><td>0</td><td>0</td><td>0</td></tr><tr><th>6</th><td>NZ dollar drops below 70 level</td><td>n</td><td>0</td><td>0</td><td>0</td></tr><tr><th>7</th><td>Dollar Near 16-Month High on Rates Hike Bets</td><td>y</td><td>0</td><td>0</td><td>0</td></tr><tr><th>8</th><td>Dollar climbs after hot US inflation</td><td>y</td><td>0</td><td>0</td><td>0</td></tr><tr><th>9</th><td>euro dips</td><td>n</td><td>0</td><td>0</td><td>0</td></tr><tr><th>10</th><td>US Dollar Continues to Gain Following Wednesday&apos;s Inflation Data </td><td>y</td><td>0</td><td>0</td><td>0</td></tr><tr><th>11</th><td>De-Banking Crypto Traders Is More Sinister And Anti-Competitive -Aussie Senator Bragg</td><td>n</td><td>0</td><td>0</td><td>0</td></tr><tr><th>12</th><td>Euro US Dollar (EUR/USD) Exchange Rate Hits Low as USD Soars</td><td>n</td><td>0</td><td>0</td><td>0</td></tr><tr><th>13</th><td>Dollar Climbs to 2021 Highs</td><td>n</td><td>0</td><td>0</td><td>0</td></tr><tr><th>14</th><td>US CPI Points to Early Fed Hikes</td><td>n</td><td>0</td><td>0</td><td>0</td></tr><tr><th>15</th><td>Aussie dips below 73 on soft jobs report</td><td>y</td><td>0</td><td>0</td><td>0</td></tr><tr><th>16</th><td>Dollar Up, Boosted by Highest US Inflation in a Generation</td><td>y</td><td>0</td><td>0</td><td>0</td></tr><tr><th>17</th><td>GBPUSD Price Penetrates $1.34 Level, Targeting Support Level of $1.32</td><td>n</td><td>0</td><td>0</td><td>0</td></tr><tr><th>18</th><td>E-commerce giant JD starts accepting China&apos;s digital currency on Singles Day for the first time</td><td>n</td><td>0</td><td>0</td><td>0</td></tr><tr><th>19</th><td>Dollar climbs as US inflation surge fuels rate hike speculation</td><td>y</td><td>0</td><td>0</td><td>0</td></tr><tr><th>20</th><td>EUR/USD – A major break lower</td><td>n</td><td>0</td><td>0</td><td>0</td></tr><tr><th>21</th><td>Nordea sees EUR/USD dropping to 1.08 by the end of next year</td><td>n</td><td>0</td><td>0</td><td>0</td></tr><tr><th>22</th><td>New Zealand dollar dips to 71</td><td>n</td><td>0</td><td>0</td><td>0</td></tr><tr><th>23</th><td>Hedge funds&apos; FX plays get crushed in red October</td><td>n</td><td>0</td><td>0</td><td>0</td></tr><tr><th>24</th><td>Dollar Pushes Higher</td><td>n</td><td>0</td><td>0</td><td>0</td></tr><tr><th>25</th><td>US CPI Release in Focus</td><td>n</td><td>0</td><td>0</td><td>0</td></tr><tr><th>26</th><td>Aussie extends losses on China concerns</td><td>y</td><td>0</td><td>0</td><td>0</td></tr><tr><th>27</th><td>Dollar Up, at One-Month Low Against Yen as Investors Await US Inflation Data</td><td>y</td><td>0</td><td>0</td><td>0</td></tr><tr><th>28</th><td>USDJPY Price Penetrates Support Level of $113 Downside, Bearish Trend May Commence</td><td>n</td><td>0</td><td>0</td><td>0</td></tr><tr><th>29</th><td>Dollar dips before US inflation data</td><td>y</td><td>0</td><td>0</td><td>0</td></tr><tr><th>30</th><td>Pound US Dollar Exchange Rate Struggles ahead of US Inflation</td><td>y</td><td>0</td><td>0</td><td>0</td></tr><tr><th>31</th><td>Business confidence shines but Aussie slips</td><td>n</td><td>0</td><td>0</td><td>0</td></tr><tr><th>32</th><td>PPI Data in Focus</td><td>n</td><td>0</td><td>0</td><td>0</td></tr><tr><th>33</th><td>Dollar Down, Inflation Data Looms as Next Test on Central Bank Interest Rate Hikes</td><td>n</td><td>0</td><td>0</td><td>0</td></tr><tr><th>34</th><td>USDCHF Price: Support Level of $0.909 Holds, Bullish Movement May Commence</td><td>n</td><td>0</td><td>0</td><td>0</td></tr><tr><th>35</th><td>Dollar slips from 15-month highs with Fed, inflation in focus</td><td>y</td><td>0</td><td>0</td><td>0</td></tr><tr><th>36</th><td>Pound to Put Squeeze on Bears as BoE Unlikely to Sit on Rate-Hike Fence</td><td>y</td><td>0</td><td>0</td><td>0</td></tr><tr><th>37</th><td>China Reached A Milestone Of 140M Digital Yuan Wallets – PBoC Official</td><td>n</td><td>0</td><td>0</td><td>0</td></tr><tr><th>38</th><td>Aussie climbs up ahead of confidence data</td><td>y</td><td>0</td><td>0</td><td>0</td></tr><tr><th>39</th><td>Hedge funds get smoked on sterling by BoE sizzler</td><td>y</td><td>0</td><td>0</td><td>0</td></tr><tr><th>40</th><td>Fedspeak and Inflation Data in Focus</td><td>n</td><td>0</td><td>0</td><td>0</td></tr><tr><th>41</th><td>Dollar Down as Investors Grapple With Recent Central Bank Policies</td><td>y</td><td>0</td><td>0</td><td>0</td></tr><tr><th>42</th><td>US dollar net longs slide to five-week low -CFTC, Reuters data</td><td>n</td><td>0</td><td>0</td><td>0</td></tr><tr><th>43</th><td>Dollar soars to more than 1-year high after jobs data, then pulls back</td><td>y</td><td>0</td><td>0</td><td>0</td></tr><tr><th>44</th><td>Dollar Consolidates After Strong Gains</td><td>y</td><td>0</td><td>0</td><td>0</td></tr><tr><th>45</th><td>Nonfarm Payrolls Due</td><td>n</td><td>0</td><td>0</td><td>0</td></tr><tr><th>46</th><td>Dollar Down, but Set for Weekly Gain as Investors Await US Jobs Report</td><td>y</td><td>0</td><td>0</td><td>0</td></tr><tr><th>47</th><td>Kaisa and Major Units Suspend Trading After Missed Payments</td><td>n</td><td>0</td><td>0</td><td>0</td></tr><tr><th>48</th><td>Dollar rebounds, sterling slumps, as market resets rate expectations</td><td>y</td><td>0</td><td>0</td><td>0</td></tr><tr><th>49</th><td>Dollar Rebounds After Fed Announces Tapering</td><td>y</td><td>0</td><td>0</td><td>0</td></tr><tr><th>50</th><td>Bank of England Meets</td><td>n</td><td>0</td><td>0</td><td>0</td></tr><tr><th>51</th><td>Dollar Up, Investor Digest Latest Fed Policy Decision</td><td>n</td><td>0</td><td>0</td><td>0</td></tr><tr><th>52</th><td>Dollar dips after Fed confirms beginning of taper</td><td>y</td><td>0</td><td>0</td><td>0</td></tr><tr><th>53</th><td>$9.5 billion spent using Chinese central bank&apos;s digital currency - official</td><td>n</td><td>0</td><td>0</td><td>0</td></tr><tr><th>54</th><td>Canadian dollar forecasts turn stronger as BoC signals earlier hikes - Reuters poll</td><td>n</td><td>0</td><td>0</td><td>0</td></tr><tr><th>55</th><td>Lebanese carry &apos;worthless&apos; stacks of cash after currency crash</td><td>n</td><td>0</td><td>0</td><td>0</td></tr><tr><th>56</th><td>Zloty seen leading gains as rate hikes support central European currencies - Reuters poll</td><td>y</td><td>0</td><td>0</td><td>0</td></tr><tr><th>57</th><td>Dollar Flat Ahead of Key Federal Reserve Meeting</td><td>y</td><td>0</td><td>0</td><td>0</td></tr><tr><th>58</th><td>Dollar Down, Investors Await Fed Policy Decision</td><td>n</td><td>0</td><td>0</td><td>0</td></tr><tr><th>59</th><td>More trouble ahead for erratic emerging market currencies - Reuters poll</td><td>n</td><td>0</td><td>0</td><td>0</td></tr><tr><th>60</th><td>Rate differentials set to gently jostle strong US dollar: Reuters poll</td><td>y</td><td>0</td><td>0</td><td>0</td></tr><tr><th>61</th><td>Dollar firms as Fed policy meeting gets underway</td><td>y</td><td>0</td><td>0</td><td>0</td></tr><tr><th>62</th><td>Taliban ban use of foreign currency in Afghanistan -spokesman</td><td>n</td><td>0</td><td>0</td><td>0</td></tr><tr><th>63</th><td>The Aussie Dollar Dives Following RBA&apos;s More Dovish Tone</td><td>y</td><td>0</td><td>0</td><td>0</td></tr><tr><th>64</th><td>Dollar ticks lower with Fed policy decision in focus</td><td>y</td><td>0</td><td>0</td><td>0</td></tr><tr><th>65</th><td>Dollar Drifts Ahead of Fed Meeting</td><td>y</td><td>0</td><td>0</td><td>0</td></tr><tr><th>66</th><td>Australian Dollar Slumps</td><td>n</td><td>0</td><td>0</td><td>0</td></tr><tr><th>67</th><td>Dollar Up, RBA Keeps Interest Rate Unchanged in Latest Policy Decision</td><td>n</td><td>0</td><td>0</td><td>0</td></tr><tr><th>68</th><td>Dollar Edges Higher</td><td>n</td><td>0</td><td>0</td><td>0</td></tr><tr><th>69</th><td>PCE Data Points to Early Fed Hike</td><td>n</td><td>0</td><td>0</td><td>0</td></tr><tr><th>70</th><td>Dollar Up, Yen Down Over Surprise Japan Election Result</td><td>y</td><td>0</td><td>0</td><td>0</td></tr><tr><th>71</th><td>Dollar climbs as inflation builds case for higher rates</td><td>y</td><td>0</td><td>0</td><td>0</td></tr><tr><th>72</th><td>China’s Mega Banks Extend Profit Gains on Easing Bad Loans</td><td>n</td><td>0</td><td>0</td><td>0</td></tr><tr><th>73</th><td>Euro Gains After ECB Meeting</td><td>y</td><td>0</td><td>0</td><td>0</td></tr><tr><th>74</th><td>Dollar Up, but Near One-Month Low After ECB Policy Decision Strengthens Euro</td><td>n</td><td>0</td><td>0</td><td>0</td></tr><tr><th>75</th><td>Euro Jumps to 1-Month High as ECB&apos;s Lagarde Fails to Calm Rate Hike Bets</td><td>y</td><td>0</td><td>0</td><td>0</td></tr><tr><th>76</th><td>Dollar holds losses to euro after ECB comments, economic data</td><td>y</td><td>0</td><td>0</td><td>0</td></tr><tr><th>77</th><td>US Posts Weakest Growth of Pandemic Recovery on Supply Woes</td><td>n</td><td>0</td><td>0</td><td>0</td></tr><tr><th>78</th><td>Dollar Up, Yen Down as Investors Focus on Central Bank Policy Decisions</td><td>y</td><td>0</td><td>0</td><td>0</td></tr><tr><th>79</th><td>The GBPUSD Rebounds Following Rishi Sunak Budget Speech</td><td>y</td><td>0</td><td>0</td><td>0</td></tr><tr><th>80</th><td>Sterling in Focus ahead of U.K. Budget</td><td>n</td><td>0</td><td>0</td><td>0</td></tr><tr><th>&vellip;</th><td>&vellip;</td><td>&vellip;</td><td>&vellip;</td><td>&vellip;</td><td>&vellip;</td></tr></tbody></table></div>"
      ],
      "text/latex": [
       "\\begin{tabular}{r|ccccc}\n",
       "\t& Article & Target & Model1 & Model2 & Model3\\\\\n",
       "\t\\hline\n",
       "\t& String & String? & Int64 & Int64 & Int64\\\\\n",
       "\t\\hline\n",
       "\t1 & Dollar dips but shows biggest weekly gain in almost 3 months & n & 0 & 0 & 0 \\\\\n",
       "\t2 & EURJPY Price Penetrates \\$131 Level Downside, Targeting \\$130 Level & n & 0 & 0 & 0 \\\\\n",
       "\t3 & Far from debasement, dollar hits overdrive & n & 0 & 0 & 0 \\\\\n",
       "\t4 & Dollar Edges Lower & n & 0 & 0 & 0 \\\\\n",
       "\t5 & Remains Near 16-Month High & n & 0 & 0 & 0 \\\\\n",
       "\t6 & NZ dollar drops below 70 level & n & 0 & 0 & 0 \\\\\n",
       "\t7 & Dollar Near 16-Month High on Rates Hike Bets & y & 0 & 0 & 0 \\\\\n",
       "\t8 & Dollar climbs after hot US inflation & y & 0 & 0 & 0 \\\\\n",
       "\t9 & euro dips & n & 0 & 0 & 0 \\\\\n",
       "\t10 & US Dollar Continues to Gain Following Wednesday's Inflation Data  & y & 0 & 0 & 0 \\\\\n",
       "\t11 & De-Banking Crypto Traders Is More Sinister And Anti-Competitive -Aussie Senator Bragg & n & 0 & 0 & 0 \\\\\n",
       "\t12 & Euro US Dollar (EUR/USD) Exchange Rate Hits Low as USD Soars & n & 0 & 0 & 0 \\\\\n",
       "\t13 & Dollar Climbs to 2021 Highs & n & 0 & 0 & 0 \\\\\n",
       "\t14 & US CPI Points to Early Fed Hikes & n & 0 & 0 & 0 \\\\\n",
       "\t15 & Aussie dips below 73 on soft jobs report & y & 0 & 0 & 0 \\\\\n",
       "\t16 & Dollar Up, Boosted by Highest US Inflation in a Generation & y & 0 & 0 & 0 \\\\\n",
       "\t17 & GBPUSD Price Penetrates \\$1.34 Level, Targeting Support Level of \\$1.32 & n & 0 & 0 & 0 \\\\\n",
       "\t18 & E-commerce giant JD starts accepting China's digital currency on Singles Day for the first time & n & 0 & 0 & 0 \\\\\n",
       "\t19 & Dollar climbs as US inflation surge fuels rate hike speculation & y & 0 & 0 & 0 \\\\\n",
       "\t20 & EUR/USD – A major break lower & n & 0 & 0 & 0 \\\\\n",
       "\t21 & Nordea sees EUR/USD dropping to 1.08 by the end of next year & n & 0 & 0 & 0 \\\\\n",
       "\t22 & New Zealand dollar dips to 71 & n & 0 & 0 & 0 \\\\\n",
       "\t23 & Hedge funds' FX plays get crushed in red October & n & 0 & 0 & 0 \\\\\n",
       "\t24 & Dollar Pushes Higher & n & 0 & 0 & 0 \\\\\n",
       "\t25 & US CPI Release in Focus & n & 0 & 0 & 0 \\\\\n",
       "\t26 & Aussie extends losses on China concerns & y & 0 & 0 & 0 \\\\\n",
       "\t27 & Dollar Up, at One-Month Low Against Yen as Investors Await US Inflation Data & y & 0 & 0 & 0 \\\\\n",
       "\t28 & USDJPY Price Penetrates Support Level of \\$113 Downside, Bearish Trend May Commence & n & 0 & 0 & 0 \\\\\n",
       "\t29 & Dollar dips before US inflation data & y & 0 & 0 & 0 \\\\\n",
       "\t30 & Pound US Dollar Exchange Rate Struggles ahead of US Inflation & y & 0 & 0 & 0 \\\\\n",
       "\t31 & Business confidence shines but Aussie slips & n & 0 & 0 & 0 \\\\\n",
       "\t32 & PPI Data in Focus & n & 0 & 0 & 0 \\\\\n",
       "\t33 & Dollar Down, Inflation Data Looms as Next Test on Central Bank Interest Rate Hikes & n & 0 & 0 & 0 \\\\\n",
       "\t34 & USDCHF Price: Support Level of \\$0.909 Holds, Bullish Movement May Commence & n & 0 & 0 & 0 \\\\\n",
       "\t35 & Dollar slips from 15-month highs with Fed, inflation in focus & y & 0 & 0 & 0 \\\\\n",
       "\t36 & Pound to Put Squeeze on Bears as BoE Unlikely to Sit on Rate-Hike Fence & y & 0 & 0 & 0 \\\\\n",
       "\t37 & China Reached A Milestone Of 140M Digital Yuan Wallets – PBoC Official & n & 0 & 0 & 0 \\\\\n",
       "\t38 & Aussie climbs up ahead of confidence data & y & 0 & 0 & 0 \\\\\n",
       "\t39 & Hedge funds get smoked on sterling by BoE sizzler & y & 0 & 0 & 0 \\\\\n",
       "\t40 & Fedspeak and Inflation Data in Focus & n & 0 & 0 & 0 \\\\\n",
       "\t41 & Dollar Down as Investors Grapple With Recent Central Bank Policies & y & 0 & 0 & 0 \\\\\n",
       "\t42 & US dollar net longs slide to five-week low -CFTC, Reuters data & n & 0 & 0 & 0 \\\\\n",
       "\t43 & Dollar soars to more than 1-year high after jobs data, then pulls back & y & 0 & 0 & 0 \\\\\n",
       "\t44 & Dollar Consolidates After Strong Gains & y & 0 & 0 & 0 \\\\\n",
       "\t45 & Nonfarm Payrolls Due & n & 0 & 0 & 0 \\\\\n",
       "\t46 & Dollar Down, but Set for Weekly Gain as Investors Await US Jobs Report & y & 0 & 0 & 0 \\\\\n",
       "\t47 & Kaisa and Major Units Suspend Trading After Missed Payments & n & 0 & 0 & 0 \\\\\n",
       "\t48 & Dollar rebounds, sterling slumps, as market resets rate expectations & y & 0 & 0 & 0 \\\\\n",
       "\t49 & Dollar Rebounds After Fed Announces Tapering & y & 0 & 0 & 0 \\\\\n",
       "\t50 & Bank of England Meets & n & 0 & 0 & 0 \\\\\n",
       "\t51 & Dollar Up, Investor Digest Latest Fed Policy Decision & n & 0 & 0 & 0 \\\\\n",
       "\t52 & Dollar dips after Fed confirms beginning of taper & y & 0 & 0 & 0 \\\\\n",
       "\t53 & \\$9.5 billion spent using Chinese central bank's digital currency - official & n & 0 & 0 & 0 \\\\\n",
       "\t54 & Canadian dollar forecasts turn stronger as BoC signals earlier hikes - Reuters poll & n & 0 & 0 & 0 \\\\\n",
       "\t55 & Lebanese carry 'worthless' stacks of cash after currency crash & n & 0 & 0 & 0 \\\\\n",
       "\t56 & Zloty seen leading gains as rate hikes support central European currencies - Reuters poll & y & 0 & 0 & 0 \\\\\n",
       "\t57 & Dollar Flat Ahead of Key Federal Reserve Meeting & y & 0 & 0 & 0 \\\\\n",
       "\t58 & Dollar Down, Investors Await Fed Policy Decision & n & 0 & 0 & 0 \\\\\n",
       "\t59 & More trouble ahead for erratic emerging market currencies - Reuters poll & n & 0 & 0 & 0 \\\\\n",
       "\t60 & Rate differentials set to gently jostle strong US dollar: Reuters poll & y & 0 & 0 & 0 \\\\\n",
       "\t61 & Dollar firms as Fed policy meeting gets underway & y & 0 & 0 & 0 \\\\\n",
       "\t62 & Taliban ban use of foreign currency in Afghanistan -spokesman & n & 0 & 0 & 0 \\\\\n",
       "\t63 & The Aussie Dollar Dives Following RBA's More Dovish Tone & y & 0 & 0 & 0 \\\\\n",
       "\t64 & Dollar ticks lower with Fed policy decision in focus & y & 0 & 0 & 0 \\\\\n",
       "\t65 & Dollar Drifts Ahead of Fed Meeting & y & 0 & 0 & 0 \\\\\n",
       "\t66 & Australian Dollar Slumps & n & 0 & 0 & 0 \\\\\n",
       "\t67 & Dollar Up, RBA Keeps Interest Rate Unchanged in Latest Policy Decision & n & 0 & 0 & 0 \\\\\n",
       "\t68 & Dollar Edges Higher & n & 0 & 0 & 0 \\\\\n",
       "\t69 & PCE Data Points to Early Fed Hike & n & 0 & 0 & 0 \\\\\n",
       "\t70 & Dollar Up, Yen Down Over Surprise Japan Election Result & y & 0 & 0 & 0 \\\\\n",
       "\t71 & Dollar climbs as inflation builds case for higher rates & y & 0 & 0 & 0 \\\\\n",
       "\t72 & China’s Mega Banks Extend Profit Gains on Easing Bad Loans & n & 0 & 0 & 0 \\\\\n",
       "\t73 & Euro Gains After ECB Meeting & y & 0 & 0 & 0 \\\\\n",
       "\t74 & Dollar Up, but Near One-Month Low After ECB Policy Decision Strengthens Euro & n & 0 & 0 & 0 \\\\\n",
       "\t75 & Euro Jumps to 1-Month High as ECB's Lagarde Fails to Calm Rate Hike Bets & y & 0 & 0 & 0 \\\\\n",
       "\t76 & Dollar holds losses to euro after ECB comments, economic data & y & 0 & 0 & 0 \\\\\n",
       "\t77 & US Posts Weakest Growth of Pandemic Recovery on Supply Woes & n & 0 & 0 & 0 \\\\\n",
       "\t78 & Dollar Up, Yen Down as Investors Focus on Central Bank Policy Decisions & y & 0 & 0 & 0 \\\\\n",
       "\t79 & The GBPUSD Rebounds Following Rishi Sunak Budget Speech & y & 0 & 0 & 0 \\\\\n",
       "\t80 & Sterling in Focus ahead of U.K. Budget & n & 0 & 0 & 0 \\\\\n",
       "\t$\\dots$ & $\\dots$ & $\\dots$ & $\\dots$ & $\\dots$ & $\\dots$ \\\\\n",
       "\\end{tabular}\n"
      ],
      "text/plain": [
       "\u001b[1m399×5 DataFrame\u001b[0m\n",
       "\u001b[1m Row \u001b[0m│\u001b[1m Article                           \u001b[0m\u001b[1m Target  \u001b[0m\u001b[1m Model1 \u001b[0m\u001b[1m Model2 \u001b[0m\u001b[1m Model3 \u001b[0m\n",
       "\u001b[1m     \u001b[0m│\u001b[90m String                            \u001b[0m\u001b[90m String? \u001b[0m\u001b[90m Int64  \u001b[0m\u001b[90m Int64  \u001b[0m\u001b[90m Int64  \u001b[0m\n",
       "─────┼────────────────────────────────────────────────────────────────────\n",
       "   1 │ Dollar dips but shows biggest we…  n             0       0       0\n",
       "   2 │ EURJPY Price Penetrates $131 Lev…  n             0       0       0\n",
       "   3 │ Far from debasement, dollar hits…  n             0       0       0\n",
       "   4 │ Dollar Edges Lower                 n             0       0       0\n",
       "   5 │ Remains Near 16-Month High         n             0       0       0\n",
       "   6 │ NZ dollar drops below 70 level     n             0       0       0\n",
       "   7 │ Dollar Near 16-Month High on Rat…  y             0       0       0\n",
       "   8 │ Dollar climbs after hot US infla…  y             0       0       0\n",
       "   9 │ euro dips                          n             0       0       0\n",
       "  10 │ US Dollar Continues to Gain Foll…  y             0       0       0\n",
       "  11 │ De-Banking Crypto Traders Is Mor…  n             0       0       0\n",
       "  12 │ Euro US Dollar (EUR/USD) Exchang…  n             0       0       0\n",
       "  13 │ Dollar Climbs to 2021 Highs        n             0       0       0\n",
       "  14 │ US CPI Points to Early Fed Hikes   n             0       0       0\n",
       "  15 │ Aussie dips below 73 on soft job…  y             0       0       0\n",
       "  16 │ Dollar Up, Boosted by Highest US…  y             0       0       0\n",
       "  17 │ GBPUSD Price Penetrates $1.34 Le…  n             0       0       0\n",
       "  18 │ E-commerce giant JD starts accep…  n             0       0       0\n",
       "  19 │ Dollar climbs as US inflation su…  y             0       0       0\n",
       "  20 │ EUR/USD – A major break lower      n             0       0       0\n",
       "  21 │ Nordea sees EUR/USD dropping to …  n             0       0       0\n",
       "  22 │ New Zealand dollar dips to 71      n             0       0       0\n",
       "  23 │ Hedge funds' FX plays get crushe…  n             0       0       0\n",
       "  24 │ Dollar Pushes Higher               n             0       0       0\n",
       "  25 │ US CPI Release in Focus            n             0       0       0\n",
       "  26 │ Aussie extends losses on China c…  y             0       0       0\n",
       "  27 │ Dollar Up, at One-Month Low Agai…  y             0       0       0\n",
       "  28 │ USDJPY Price Penetrates Support …  n             0       0       0\n",
       "  29 │ Dollar dips before US inflation …  y             0       0       0\n",
       "  30 │ Pound US Dollar Exchange Rate St…  y             0       0       0\n",
       "  31 │ Business confidence shines but A…  n             0       0       0\n",
       "  32 │ PPI Data in Focus                  n             0       0       0\n",
       "  33 │ Dollar Down, Inflation Data Loom…  n             0       0       0\n",
       "  34 │ USDCHF Price: Support Level of $…  n             0       0       0\n",
       "  35 │ Dollar slips from 15-month highs…  y             0       0       0\n",
       "  36 │ Pound to Put Squeeze on Bears as…  y             0       0       0\n",
       "  ⋮  │                 ⋮                     ⋮       ⋮       ⋮       ⋮\n",
       " 365 │ Labor Data Eyed                    n             0       0       0\n",
       " 366 │ Dollar Up Over Fed Hints at Earl…  y             0       0       0\n",
       " 367 │ Roller coaster ride for EM curre…  n             0       0       0\n",
       " 368 │ Dollar adrift, but volatility to…  n             0       0       0\n",
       " 369 │ Dollar rebound holds as yields s…  y             0       0       0\n",
       " 370 │ JPMorgan Blames Turkey’s Volatil…  n             0       0       0\n",
       " 371 │ Employment Data Seen Key This We…  n             0       0       0\n",
       " 372 │ Dollar Down, Near Recent Lows Ah…  y             0       0       0\n",
       " 373 │ Dollar steadies as markets weigh…  y             0       0       0\n",
       " 374 │ US Economic Recovery Key           n             0       0       0\n",
       " 375 │ Dollar Down, Falls Against Yen O…  y             0       0       0\n",
       " 376 │ Dollar wavers on dovish Fed tone…  y             0       0       0\n",
       " 377 │ Dollar Flat, but Bullish Bets Co…  y             0       0       0\n",
       " 378 │ Dollar Weakens Ahead of Key Payr…  y             0       0       0\n",
       " 379 │ Dollar Down Near One-Month Low A…  y             0       0       0\n",
       " 380 │ Dollar rises but still set for b…  n             0       0       0\n",
       " 381 │ Weekly Losses Likely on Dovish F…  n             0       0       0\n",
       " 382 │ Dollar Up but Ends Week Near One…  y             0       0       0\n",
       " 383 │ Chinese yuan bears return after …  y             0       0       0\n",
       " 384 │ Dollar Slips After Powell's Dovi…  y             0       0       0\n",
       " 385 │ Dollar Down, Powell Comments Pre…  n             0       0       0\n",
       " 386 │ Dollar stands firm with Fed deci…  y             0       0       0\n",
       " 387 │ Dollar Edges Higher Ahead of Fed…  y             0       0       0\n",
       " 388 │ Dollar Up, Boosted by Plunge in …  y             0       0       0\n",
       " 389 │ Dollar Stabilizes Ahead of Feder…  y             0       0       0\n",
       " 390 │ Dollar stabilises near recent pe…  y             0       0       0\n",
       " 391 │ Dollar dips ahead of Fed meeting…  y             0       0       0\n",
       " 392 │ Fed Meeting, GDP Data Due This W…  n             0       0       0\n",
       " 393 │ Dollar Down but Remains Near Mul…  n             0       0       0\n",
       " 394 │ Dollar Bears on the Run as Bets …  n             0       0       0\n",
       " 395 │ US dollar on track for second we…  n             0       0       0\n",
       " 396 │ Fed meeting in focus               n             0       0       0\n",
       " 397 │ Fed Seen Speeding Taper of MBS i…  n             0       0       0\n",
       " 398 │ Fed in Focus After ECB Turns Mor…  n             0       0       0\n",
       " 399 │ Dollar Up, Ends Week Almost Back…  n             0       0       0\n",
       "\u001b[36m                                                          328 rows omitted\u001b[0m"
      ]
     },
     "execution_count": 368,
     "metadata": {},
     "output_type": "execute_result"
    }
   ],
   "source": [
    "insertcols!(data, 3, :Model1 => 0, :Model2 => 0, :Model3 => 0)"
   ]
  },
  {
   "cell_type": "code",
   "execution_count": 369,
   "id": "62b3e41d",
   "metadata": {},
   "outputs": [
    {
     "data": {
      "text/plain": [
       "model_1 (generic function with 1 method)"
      ]
     },
     "execution_count": 369,
     "metadata": {},
     "output_type": "execute_result"
    }
   ],
   "source": [
    "function model_1(currencies_list, article)\n",
    "    if any(y -> occursin(y, lowercase(article)), currencies_list)\n",
    "        return 1\n",
    "    else\n",
    "        return 0\n",
    "    end\n",
    "end     "
   ]
  },
  {
   "cell_type": "code",
   "execution_count": 370,
   "id": "6eb89f07",
   "metadata": {},
   "outputs": [
    {
     "data": {
      "text/plain": [
       "model_2 (generic function with 1 method)"
      ]
     },
     "execution_count": 370,
     "metadata": {},
     "output_type": "execute_result"
    }
   ],
   "source": [
    "function model_2(currencies_list, article)\n",
    "    output = 0\n",
    "    currencies_indexes = []\n",
    "    doc = nlp(article)\n",
    "    for (i, token) in enumerate(doc)\n",
    "        if lowercase(token.text) in currencies_list\n",
    "            append!(currencies_indexes, i)\n",
    "        end\n",
    "    end\n",
    "    for i in currencies_indexes\n",
    "        if length(doc) > i\n",
    "            if doc[i+1].pos_ == \"VERB\"\n",
    "                output = 1\n",
    "            end\n",
    "        end\n",
    "    end\n",
    "    return output\n",
    "end   "
   ]
  },
  {
   "cell_type": "code",
   "execution_count": 371,
   "id": "49c04f38",
   "metadata": {},
   "outputs": [
    {
     "data": {
      "text/plain": [
       "check_curr (generic function with 1 method)"
      ]
     },
     "execution_count": 371,
     "metadata": {},
     "output_type": "execute_result"
    }
   ],
   "source": [
    "function check_curr(part, currencies_list)\n",
    "    curr_check = false\n",
    "    try\n",
    "        for token in part\n",
    "            curr_check = lowercase(token.text) in currencies_list\n",
    "            if curr_check\n",
    "                break\n",
    "            end\n",
    "        end\n",
    "    catch e\n",
    "    end\n",
    "    try\n",
    "        curr_check = lowercase(part.text) in currencies_list\n",
    "    catch e\n",
    "    end\n",
    "    return curr_check\n",
    "end "
   ]
  },
  {
   "cell_type": "code",
   "execution_count": 372,
   "id": "1409c15b",
   "metadata": {},
   "outputs": [
    {
     "data": {
      "text/plain": [
       "conn_curr (generic function with 1 method)"
      ]
     },
     "execution_count": 372,
     "metadata": {},
     "output_type": "execute_result"
    }
   ],
   "source": [
    "function conn_curr(part, invalid)\n",
    "    curr_check = false\n",
    "    try\n",
    "        for token in part\n",
    "            curr_check = !(lowercase(token.text) in invalid)\n",
    "            if curr_check\n",
    "                break\n",
    "            end\n",
    "        end\n",
    "    catch e\n",
    "    end\n",
    "    try\n",
    "        curr_check = !(lowercase(part.text) in invalid)\n",
    "    catch e\n",
    "    end\n",
    "    return curr_check\n",
    "end "
   ]
  },
  {
   "cell_type": "code",
   "execution_count": 389,
   "id": "fd33b032",
   "metadata": {},
   "outputs": [
    {
     "data": {
      "text/plain": [
       "model_3 (generic function with 2 methods)"
      ]
     },
     "execution_count": 389,
     "metadata": {},
     "output_type": "execute_result"
    }
   ],
   "source": [
    "function model_3(article, currencies_list, predicates)\n",
    "    output = 0\n",
    "    out = get_hg_tokens(article, currencies_list, predicates)\n",
    "#     if (!(out == nothing) & (any(y -> occursin(y, lowercase(article)), currencies_list)))\n",
    "    if !(out == nothing)\n",
    "#         if any(y->y in keys(out[2]), pat)\n",
    "#             output = 1\n",
    "#         end\n",
    "#     end\n",
    "#     return output\n",
    "        patterns = [[\"C\", \"P\", \"S\"], [\"C\", \"M\", \"S\"], [\"C\", \"P\", \"C\", \"S\"]]\n",
    "        art_pat = keys(out[2])\n",
    "        for pat in patterns\n",
    "            for edge in art_pat\n",
    "                j = length(pat)\n",
    "                if length(edge) >= j\n",
    "                    for i in 1:length(edge)-length(pat)+1\n",
    "                        possible = edge[i:j]\n",
    "                        part = out[2][edge][i:j][1]\n",
    "                        curr_check = check_curr(part, currencies_list)\n",
    "                        if (pat == possible) & (curr_check)\n",
    "                            output = 1\n",
    "                            return output\n",
    "                        end\n",
    "                        j += 1\n",
    "                    end\n",
    "                end\n",
    "            end\n",
    "        end\n",
    "        patterns = [[\"C\", \"P\", \"T\"], [\"C\", \"M\", \"T\"]]\n",
    "        invalid = [\"to\", \"for\"]\n",
    "        for pat in patterns\n",
    "            for edge in art_pat\n",
    "                j = length(pat)\n",
    "                if length(edge) >= j\n",
    "                    for i in 1:length(edge)-length(pat)+1\n",
    "                        possible = edge[i:j]\n",
    "                        part = out[2][edge][i:j]\n",
    "                        curr_check = check_curr(part[1], currencies_list)\n",
    "                        connector_chec = conn_curr(part[3], invalid)\n",
    "                        if (pat == possible) & (curr_check) & (connector_chec)\n",
    "                            output = 1\n",
    "                            return output\n",
    "                        end\n",
    "                        j += 1\n",
    "                    end\n",
    "                end\n",
    "            end\n",
    "        end\n",
    "    end\n",
    "    return 0\n",
    "end"
   ]
  },
  {
   "cell_type": "code",
   "execution_count": 390,
   "id": "b3640fe7",
   "metadata": {},
   "outputs": [],
   "source": [
    "# pat = [[\"P\", \"M\", \"S\"], [\"C\", \"P\", \"C\"], [\"C\", \"P\", \"S\"], [\"C\", \"M\", \"S\"]]\n",
    "predicates = [\"dips\", \"rebounds\", \"firms\"]\n",
    "for row in eachrow(data)\n",
    "    row.Model1 = model_1(currencies, row.Article)\n",
    "    row.Model2 = model_2(currencies, row.Article)\n",
    "    row.Model3 = model_3(row.Article, currencies, predicates)\n",
    "end"
   ]
  },
  {
   "cell_type": "code",
   "execution_count": 391,
   "id": "b115a93c",
   "metadata": {},
   "outputs": [
    {
     "data": {
      "text/plain": [
       "recall (generic function with 1 method)"
      ]
     },
     "execution_count": 391,
     "metadata": {},
     "output_type": "execute_result"
    }
   ],
   "source": [
    "function recall(target, model)\n",
    "    p1 = filter(row -> (row[model] == 1) & (row[target] == \"y\"), data)\n",
    "    p2 = filter(row -> row[target] == \"y\", data)\n",
    "    return nrow(p1)/nrow(p2)\n",
    "end"
   ]
  },
  {
   "cell_type": "code",
   "execution_count": 392,
   "id": "3620f417",
   "metadata": {},
   "outputs": [
    {
     "data": {
      "text/plain": [
       "precision (generic function with 1 method)"
      ]
     },
     "execution_count": 392,
     "metadata": {},
     "output_type": "execute_result"
    }
   ],
   "source": [
    "function precision(target, model)\n",
    "    p1 = filter(row -> (row[model] == 1) & (row[target] == \"y\"), data)\n",
    "    p2 = filter(row -> (row[model] == 1) & (row[target] == \"n\"), data)\n",
    "    return nrow(p1)/(nrow(p2) + nrow(p1))\n",
    "end"
   ]
  },
  {
   "cell_type": "code",
   "execution_count": 393,
   "id": "42bd69d2",
   "metadata": {},
   "outputs": [
    {
     "data": {
      "text/plain": [
       "0.7128378378378378"
      ]
     },
     "execution_count": 393,
     "metadata": {},
     "output_type": "execute_result"
    }
   ],
   "source": [
    "precision(\"Target\", \"Model1\")"
   ]
  },
  {
   "cell_type": "code",
   "execution_count": 394,
   "id": "43236dff",
   "metadata": {},
   "outputs": [
    {
     "data": {
      "text/plain": [
       "0.9952830188679245"
      ]
     },
     "execution_count": 394,
     "metadata": {},
     "output_type": "execute_result"
    }
   ],
   "source": [
    "recall(\"Target\", \"Model1\")"
   ]
  },
  {
   "cell_type": "code",
   "execution_count": 395,
   "id": "eb7c4c0b",
   "metadata": {},
   "outputs": [
    {
     "data": {
      "text/plain": [
       "0.7731958762886598"
      ]
     },
     "execution_count": 395,
     "metadata": {},
     "output_type": "execute_result"
    }
   ],
   "source": [
    "precision(\"Target\", \"Model2\")"
   ]
  },
  {
   "cell_type": "code",
   "execution_count": 396,
   "id": "95b363df",
   "metadata": {},
   "outputs": [
    {
     "data": {
      "text/plain": [
       "0.35377358490566035"
      ]
     },
     "execution_count": 396,
     "metadata": {},
     "output_type": "execute_result"
    }
   ],
   "source": [
    "recall(\"Target\", \"Model2\")"
   ]
  },
  {
   "cell_type": "code",
   "execution_count": 397,
   "id": "5a19060c",
   "metadata": {},
   "outputs": [
    {
     "data": {
      "text/plain": [
       "0.9090909090909091"
      ]
     },
     "execution_count": 397,
     "metadata": {},
     "output_type": "execute_result"
    }
   ],
   "source": [
    "precision(\"Target\", \"Model3\")"
   ]
  },
  {
   "cell_type": "code",
   "execution_count": 398,
   "id": "e7fae089",
   "metadata": {},
   "outputs": [
    {
     "data": {
      "text/plain": [
       "0.5188679245283019"
      ]
     },
     "execution_count": 398,
     "metadata": {},
     "output_type": "execute_result"
    }
   ],
   "source": [
    "recall(\"Target\", \"Model3\")"
   ]
  },
  {
   "cell_type": "code",
   "execution_count": 399,
   "id": "f4d4c073",
   "metadata": {},
   "outputs": [
    {
     "data": {
      "text/html": [
       "<div class=\"data-frame\"><p>102 rows × 5 columns</p><table class=\"data-frame\"><thead><tr><th></th><th>Article</th><th>Target</th><th>Model1</th><th>Model2</th><th>Model3</th></tr><tr><th></th><th title=\"String\">String</th><th title=\"Union{Missing, String}\">String?</th><th title=\"Int64\">Int64</th><th title=\"Int64\">Int64</th><th title=\"Int64\">Int64</th></tr></thead><tbody><tr><th>1</th><td>Dollar Near 16-Month High on Rates Hike Bets</td><td>y</td><td>1</td><td>0</td><td>0</td></tr><tr><th>2</th><td>US Dollar Continues to Gain Following Wednesday&apos;s Inflation Data </td><td>y</td><td>1</td><td>1</td><td>0</td></tr><tr><th>3</th><td>Aussie dips below 73 on soft jobs report</td><td>y</td><td>1</td><td>0</td><td>0</td></tr><tr><th>4</th><td>Dollar Up, at One-Month Low Against Yen as Investors Await US Inflation Data</td><td>y</td><td>1</td><td>0</td><td>0</td></tr><tr><th>5</th><td>Pound US Dollar Exchange Rate Struggles ahead of US Inflation</td><td>y</td><td>1</td><td>0</td><td>0</td></tr><tr><th>6</th><td>Pound to Put Squeeze on Bears as BoE Unlikely to Sit on Rate-Hike Fence</td><td>y</td><td>1</td><td>0</td><td>0</td></tr><tr><th>7</th><td>Hedge funds get smoked on sterling by BoE sizzler</td><td>y</td><td>1</td><td>0</td><td>0</td></tr><tr><th>8</th><td>Dollar soars to more than 1-year high after jobs data, then pulls back</td><td>y</td><td>1</td><td>1</td><td>0</td></tr><tr><th>9</th><td>Dollar rebounds, sterling slumps, as market resets rate expectations</td><td>y</td><td>1</td><td>0</td><td>0</td></tr><tr><th>10</th><td>Zloty seen leading gains as rate hikes support central European currencies - Reuters poll</td><td>y</td><td>1</td><td>1</td><td>0</td></tr><tr><th>11</th><td>Rate differentials set to gently jostle strong US dollar: Reuters poll</td><td>y</td><td>1</td><td>0</td><td>0</td></tr><tr><th>12</th><td>The Aussie Dollar Dives Following RBA&apos;s More Dovish Tone</td><td>y</td><td>1</td><td>1</td><td>0</td></tr><tr><th>13</th><td>Dollar Up, Yen Down Over Surprise Japan Election Result</td><td>y</td><td>1</td><td>0</td><td>0</td></tr><tr><th>14</th><td>Euro Gains After ECB Meeting</td><td>y</td><td>1</td><td>0</td><td>0</td></tr><tr><th>15</th><td>Euro Jumps to 1-Month High as ECB&apos;s Lagarde Fails to Calm Rate Hike Bets</td><td>y</td><td>1</td><td>1</td><td>0</td></tr><tr><th>16</th><td>Dollar holds losses to euro after ECB comments, economic data</td><td>y</td><td>1</td><td>1</td><td>0</td></tr><tr><th>17</th><td>The GBPUSD Rebounds Following Rishi Sunak Budget Speech</td><td>y</td><td>1</td><td>0</td><td>0</td></tr><tr><th>18</th><td>Dollar steadies after bounce off of one-month low</td><td>y</td><td>1</td><td>1</td><td>0</td></tr><tr><th>19</th><td>Lira Slumps After Surprise Rate Cut</td><td>y</td><td>1</td><td>0</td><td>0</td></tr><tr><th>20</th><td>Dollar Down, Steadies as Investors Gauge Interest Rate Hike Pace</td><td>y</td><td>1</td><td>0</td><td>0</td></tr><tr><th>21</th><td>GBP Slides Following Brexit Trade Deal Worries</td><td>y</td><td>1</td><td>0</td><td>0</td></tr><tr><th>22</th><td>Dollar Down, Set for Second Week of Declines Despite Positive US Data</td><td>y</td><td>1</td><td>0</td><td>0</td></tr><tr><th>23</th><td>Dollar Steady After Weak Data Trim Rate Hike Expectations</td><td>y</td><td>1</td><td>0</td><td>0</td></tr><tr><th>24</th><td>Bailey Speech Supports GBP</td><td>y</td><td>1</td><td>0</td><td>0</td></tr><tr><th>25</th><td>Dollar&apos;s five-week winning streak ends as risk sentiment rebounds</td><td>y</td><td>1</td><td>0</td><td>0</td></tr><tr><th>26</th><td>Dollar Down, Set to Break Upward Trend as Risk Appetite Returns</td><td>y</td><td>1</td><td>0</td><td>0</td></tr><tr><th>27</th><td>Dollar Down, but Near Year High as Investors Await Fed’s Next Taper Move</td><td>y</td><td>1</td><td>0</td><td>0</td></tr><tr><th>28</th><td>Dollar hits one-year high as US yields rise, inflation data on tap</td><td>y</td><td>1</td><td>1</td><td>0</td></tr><tr><th>29</th><td>Lira Falls to Record Low as Erdogan Signals New Syria Offensive</td><td>y</td><td>1</td><td>0</td><td>0</td></tr><tr><th>30</th><td>Lira Slumps, U.K. Data Leaves GBP Cold</td><td>y</td><td>1</td><td>0</td><td>0</td></tr><tr><th>31</th><td>Dollar Up, Yen down to Three-Year Low Over Soaring Energy Costs</td><td>y</td><td>1</td><td>0</td><td>0</td></tr><tr><th>32</th><td>BoE Talk Lifts Sterlin</td><td>y</td><td>1</td><td>0</td><td>0</td></tr><tr><th>33</th><td>Dollar Up, but Below One-Year High, AUD gains as Riak Sentiment Improves</td><td>y</td><td>1</td><td>0</td><td>0</td></tr><tr><th>34</th><td>Dollar Down, but Near 14-Month High Against Euro over ‘deafening’ Nat Gas Talk</td><td>y</td><td>1</td><td>0</td><td>0</td></tr><tr><th>35</th><td>Dollar advances on inflation worries</td><td>y</td><td>1</td><td>0</td><td>0</td></tr><tr><th>36</th><td>Dollar Down, But Near Previous Week’s Highs Over Evergrande Fears</td><td>y</td><td>1</td><td>0</td><td>0</td></tr><tr><th>37</th><td>Dollar to End Month Near One-Year Highs as Yields Flourish in September</td><td>y</td><td>1</td><td>0</td><td>0</td></tr><tr><th>38</th><td>Dollar Down, but Near One-Year High as Fed Preps for Asset Tapering</td><td>y</td><td>1</td><td>0</td><td>0</td></tr><tr><th>39</th><td>Myanmar currency drops 60% in weeks as economy tanks since February coup</td><td>y</td><td>1</td><td>0</td><td>0</td></tr><tr><th>40</th><td>Dollar Down, But Losses Capped as Markets Enter “Twilight Zone”</td><td>y</td><td>1</td><td>0</td><td>0</td></tr><tr><th>41</th><td>Dollar rises to 10-1/2-month peak, lifted by Treasury yield surge</td><td>y</td><td>1</td><td>1</td><td>0</td></tr><tr><th>42</th><td>Dollar Higher, Yen Under Pressure as US Yields Rise</td><td>y</td><td>1</td><td>0</td><td>0</td></tr><tr><th>43</th><td>Dollar, Yen Up as US Bond Yields Hit Three-Month High</td><td>y</td><td>1</td><td>0</td><td>0</td></tr><tr><th>44</th><td>Euro Flat as Tight German Election Promises Slow Progress on Forming New Govt</td><td>y</td><td>1</td><td>0</td><td>0</td></tr><tr><th>45</th><td>Dollar, Yen Down as China Evergrande Fears Slowly Recede</td><td>y</td><td>1</td><td>0</td><td>0</td></tr><tr><th>46</th><td>Dollar Up, but Remains Near Week Low Even as Risk Sentiment Slowly Improves</td><td>y</td><td>1</td><td>0</td><td>0</td></tr><tr><th>47</th><td>Dollar slumps as risk appetite rebounds</td><td>y</td><td>1</td><td>0</td><td>0</td></tr><tr><th>48</th><td>Dollar Up, Hits One-Month High as Fed Hints at Earlier-Than-Expected Rate Hike</td><td>y</td><td>1</td><td>0</td><td>0</td></tr><tr><th>49</th><td>Dollar Flat as Experts Suggest Fed Tightening Unlikely to Provide Boost</td><td>y</td><td>1</td><td>0</td><td>0</td></tr><tr><th>50</th><td>Dollar eases from near 1-month high as Fed, Evergrande eyed</td><td>y</td><td>1</td><td>1</td><td>0</td></tr><tr><th>51</th><td>Evergrande nerves weigh on offshore yuan, dollar edges up on safety bid</td><td>y</td><td>1</td><td>1</td><td>0</td></tr><tr><th>52</th><td>Dollar Climbs to Month-High on Safety Flows Ahead of Fed Meeting</td><td>y</td><td>1</td><td>1</td><td>0</td></tr><tr><th>53</th><td>Dollar touches three-week high, lifted by recent data, Fed taper view</td><td>y</td><td>1</td><td>1</td><td>0</td></tr><tr><th>54</th><td>Dollar Down, But Near Three Week High After &quot;Surprisingly Stong” US Retail Data</td><td>y</td><td>1</td><td>0</td><td>0</td></tr><tr><th>55</th><td>Dollar skids as soft US inflation weighs</td><td>y</td><td>1</td><td>0</td><td>0</td></tr><tr><th>56</th><td>Dollar Down, Moves Remain Small Ahead of US Inflation Data</td><td>y</td><td>1</td><td>0</td><td>0</td></tr><tr><th>57</th><td>Dollar Strengthens Ahead of Inflation Data, Fed Meeting</td><td>y</td><td>1</td><td>1</td><td>0</td></tr><tr><th>58</th><td>Dollar Up, Continues Upward Trend as Fed Taper Remains in Question</td><td>y</td><td>1</td><td>0</td><td>0</td></tr><tr><th>59</th><td>Dollar gains with yields as Fed policy in focus</td><td>y</td><td>1</td><td>0</td><td>0</td></tr><tr><th>60</th><td>Euro Struggles For ECB Boost</td><td>y</td><td>1</td><td>0</td><td>0</td></tr><tr><th>61</th><td>Dollar Up, But Moves Small as Focus Remains on Fed Tapering Timeline</td><td>y</td><td>1</td><td>0</td><td>0</td></tr><tr><th>62</th><td>Dollar Up, Euro Awaits Latest ECB Policy Decision</td><td>y</td><td>1</td><td>0</td><td>0</td></tr><tr><th>63</th><td>Dollar Up, Remains Near One-Week High Ahead of ECB Policy Decision</td><td>y</td><td>1</td><td>0</td><td>0</td></tr><tr><th>64</th><td>Euro May Hit Ceiling as ECB Decision Approaches</td><td>y</td><td>1</td><td>0</td><td>0</td></tr><tr><th>65</th><td>Dollar brushes aside jobs report losses</td><td>y</td><td>1</td><td>0</td><td>0</td></tr><tr><th>66</th><td>Dollar Edges Higher, But still Near One-Month Low After Payrolls</td><td>y</td><td>1</td><td>0</td><td>0</td></tr><tr><th>67</th><td>Dollar Up but Near One-Month Low Over Fed Tapering Expectations Delay</td><td>y</td><td>1</td><td>0</td><td>0</td></tr><tr><th>68</th><td>Canadian dollar forecasts turn less bullish as economy stumbles</td><td>y</td><td>1</td><td>0</td><td>0</td></tr><tr><th>69</th><td>Brazil FX helped by solid trade surplus as domestic tensions intensify</td><td>y</td><td>0</td><td>0</td><td>0</td></tr><tr><th>70</th><td>Zloty set to pace FX gains with rate hike back in sight- Reuters poll</td><td>y</td><td>1</td><td>1</td><td>0</td></tr><tr><th>71</th><td>Dollar Down, Near One-Month Low Ahead of US Jobs Report</td><td>y</td><td>1</td><td>0</td><td>0</td></tr><tr><th>72</th><td>Dollar falls to more than 3-week low with payrolls in focus</td><td>y</td><td>1</td><td>1</td><td>0</td></tr><tr><th>73</th><td>Dollar Up, but Near Two-Week Lows as Fed Taper Uncertainty Continues</td><td>y</td><td>1</td><td>0</td><td>0</td></tr><tr><th>74</th><td>Dollar Flat in Europe After Powell&apos;s Dovish Tapering Speech</td><td>y</td><td>1</td><td>0</td><td>0</td></tr><tr><th>75</th><td>Dollar Set to Run Out of Steam as Fed Tightening Priced In</td><td>y</td><td>1</td><td>0</td><td>0</td></tr><tr><th>76</th><td>Dollar Up, But Near One-Week Low as COVID-19 Concerns Ease</td><td>y</td><td>1</td><td>0</td><td>0</td></tr><tr><th>77</th><td>Dollar Flat Amid Easing Expectations for Big Reveal at Jackson Hole</td><td>y</td><td>1</td><td>0</td><td>0</td></tr><tr><th>78</th><td>Dollar Up, but Near One-Week Low Over Receding COVID-19 Fears</td><td>y</td><td>1</td><td>0</td><td>0</td></tr><tr><th>79</th><td>Dollar Up, but Moves Small as Focus Firmly on Jackson Hole</td><td>y</td><td>1</td><td>0</td><td>0</td></tr><tr><th>80</th><td>Dollar Up, Remains Near Almost-Ten Month Highs Due to Risk Aversion</td><td>y</td><td>1</td><td>0</td><td>0</td></tr><tr><th>&vellip;</th><td>&vellip;</td><td>&vellip;</td><td>&vellip;</td><td>&vellip;</td><td>&vellip;</td></tr></tbody></table></div>"
      ],
      "text/latex": [
       "\\begin{tabular}{r|ccccc}\n",
       "\t& Article & Target & Model1 & Model2 & Model3\\\\\n",
       "\t\\hline\n",
       "\t& String & String? & Int64 & Int64 & Int64\\\\\n",
       "\t\\hline\n",
       "\t1 & Dollar Near 16-Month High on Rates Hike Bets & y & 1 & 0 & 0 \\\\\n",
       "\t2 & US Dollar Continues to Gain Following Wednesday's Inflation Data  & y & 1 & 1 & 0 \\\\\n",
       "\t3 & Aussie dips below 73 on soft jobs report & y & 1 & 0 & 0 \\\\\n",
       "\t4 & Dollar Up, at One-Month Low Against Yen as Investors Await US Inflation Data & y & 1 & 0 & 0 \\\\\n",
       "\t5 & Pound US Dollar Exchange Rate Struggles ahead of US Inflation & y & 1 & 0 & 0 \\\\\n",
       "\t6 & Pound to Put Squeeze on Bears as BoE Unlikely to Sit on Rate-Hike Fence & y & 1 & 0 & 0 \\\\\n",
       "\t7 & Hedge funds get smoked on sterling by BoE sizzler & y & 1 & 0 & 0 \\\\\n",
       "\t8 & Dollar soars to more than 1-year high after jobs data, then pulls back & y & 1 & 1 & 0 \\\\\n",
       "\t9 & Dollar rebounds, sterling slumps, as market resets rate expectations & y & 1 & 0 & 0 \\\\\n",
       "\t10 & Zloty seen leading gains as rate hikes support central European currencies - Reuters poll & y & 1 & 1 & 0 \\\\\n",
       "\t11 & Rate differentials set to gently jostle strong US dollar: Reuters poll & y & 1 & 0 & 0 \\\\\n",
       "\t12 & The Aussie Dollar Dives Following RBA's More Dovish Tone & y & 1 & 1 & 0 \\\\\n",
       "\t13 & Dollar Up, Yen Down Over Surprise Japan Election Result & y & 1 & 0 & 0 \\\\\n",
       "\t14 & Euro Gains After ECB Meeting & y & 1 & 0 & 0 \\\\\n",
       "\t15 & Euro Jumps to 1-Month High as ECB's Lagarde Fails to Calm Rate Hike Bets & y & 1 & 1 & 0 \\\\\n",
       "\t16 & Dollar holds losses to euro after ECB comments, economic data & y & 1 & 1 & 0 \\\\\n",
       "\t17 & The GBPUSD Rebounds Following Rishi Sunak Budget Speech & y & 1 & 0 & 0 \\\\\n",
       "\t18 & Dollar steadies after bounce off of one-month low & y & 1 & 1 & 0 \\\\\n",
       "\t19 & Lira Slumps After Surprise Rate Cut & y & 1 & 0 & 0 \\\\\n",
       "\t20 & Dollar Down, Steadies as Investors Gauge Interest Rate Hike Pace & y & 1 & 0 & 0 \\\\\n",
       "\t21 & GBP Slides Following Brexit Trade Deal Worries & y & 1 & 0 & 0 \\\\\n",
       "\t22 & Dollar Down, Set for Second Week of Declines Despite Positive US Data & y & 1 & 0 & 0 \\\\\n",
       "\t23 & Dollar Steady After Weak Data Trim Rate Hike Expectations & y & 1 & 0 & 0 \\\\\n",
       "\t24 & Bailey Speech Supports GBP & y & 1 & 0 & 0 \\\\\n",
       "\t25 & Dollar's five-week winning streak ends as risk sentiment rebounds & y & 1 & 0 & 0 \\\\\n",
       "\t26 & Dollar Down, Set to Break Upward Trend as Risk Appetite Returns & y & 1 & 0 & 0 \\\\\n",
       "\t27 & Dollar Down, but Near Year High as Investors Await Fed’s Next Taper Move & y & 1 & 0 & 0 \\\\\n",
       "\t28 & Dollar hits one-year high as US yields rise, inflation data on tap & y & 1 & 1 & 0 \\\\\n",
       "\t29 & Lira Falls to Record Low as Erdogan Signals New Syria Offensive & y & 1 & 0 & 0 \\\\\n",
       "\t30 & Lira Slumps, U.K. Data Leaves GBP Cold & y & 1 & 0 & 0 \\\\\n",
       "\t31 & Dollar Up, Yen down to Three-Year Low Over Soaring Energy Costs & y & 1 & 0 & 0 \\\\\n",
       "\t32 & BoE Talk Lifts Sterlin & y & 1 & 0 & 0 \\\\\n",
       "\t33 & Dollar Up, but Below One-Year High, AUD gains as Riak Sentiment Improves & y & 1 & 0 & 0 \\\\\n",
       "\t34 & Dollar Down, but Near 14-Month High Against Euro over ‘deafening’ Nat Gas Talk & y & 1 & 0 & 0 \\\\\n",
       "\t35 & Dollar advances on inflation worries & y & 1 & 0 & 0 \\\\\n",
       "\t36 & Dollar Down, But Near Previous Week’s Highs Over Evergrande Fears & y & 1 & 0 & 0 \\\\\n",
       "\t37 & Dollar to End Month Near One-Year Highs as Yields Flourish in September & y & 1 & 0 & 0 \\\\\n",
       "\t38 & Dollar Down, but Near One-Year High as Fed Preps for Asset Tapering & y & 1 & 0 & 0 \\\\\n",
       "\t39 & Myanmar currency drops 60\\% in weeks as economy tanks since February coup & y & 1 & 0 & 0 \\\\\n",
       "\t40 & Dollar Down, But Losses Capped as Markets Enter “Twilight Zone” & y & 1 & 0 & 0 \\\\\n",
       "\t41 & Dollar rises to 10-1/2-month peak, lifted by Treasury yield surge & y & 1 & 1 & 0 \\\\\n",
       "\t42 & Dollar Higher, Yen Under Pressure as US Yields Rise & y & 1 & 0 & 0 \\\\\n",
       "\t43 & Dollar, Yen Up as US Bond Yields Hit Three-Month High & y & 1 & 0 & 0 \\\\\n",
       "\t44 & Euro Flat as Tight German Election Promises Slow Progress on Forming New Govt & y & 1 & 0 & 0 \\\\\n",
       "\t45 & Dollar, Yen Down as China Evergrande Fears Slowly Recede & y & 1 & 0 & 0 \\\\\n",
       "\t46 & Dollar Up, but Remains Near Week Low Even as Risk Sentiment Slowly Improves & y & 1 & 0 & 0 \\\\\n",
       "\t47 & Dollar slumps as risk appetite rebounds & y & 1 & 0 & 0 \\\\\n",
       "\t48 & Dollar Up, Hits One-Month High as Fed Hints at Earlier-Than-Expected Rate Hike & y & 1 & 0 & 0 \\\\\n",
       "\t49 & Dollar Flat as Experts Suggest Fed Tightening Unlikely to Provide Boost & y & 1 & 0 & 0 \\\\\n",
       "\t50 & Dollar eases from near 1-month high as Fed, Evergrande eyed & y & 1 & 1 & 0 \\\\\n",
       "\t51 & Evergrande nerves weigh on offshore yuan, dollar edges up on safety bid & y & 1 & 1 & 0 \\\\\n",
       "\t52 & Dollar Climbs to Month-High on Safety Flows Ahead of Fed Meeting & y & 1 & 1 & 0 \\\\\n",
       "\t53 & Dollar touches three-week high, lifted by recent data, Fed taper view & y & 1 & 1 & 0 \\\\\n",
       "\t54 & Dollar Down, But Near Three Week High After \"Surprisingly Stong” US Retail Data & y & 1 & 0 & 0 \\\\\n",
       "\t55 & Dollar skids as soft US inflation weighs & y & 1 & 0 & 0 \\\\\n",
       "\t56 & Dollar Down, Moves Remain Small Ahead of US Inflation Data & y & 1 & 0 & 0 \\\\\n",
       "\t57 & Dollar Strengthens Ahead of Inflation Data, Fed Meeting & y & 1 & 1 & 0 \\\\\n",
       "\t58 & Dollar Up, Continues Upward Trend as Fed Taper Remains in Question & y & 1 & 0 & 0 \\\\\n",
       "\t59 & Dollar gains with yields as Fed policy in focus & y & 1 & 0 & 0 \\\\\n",
       "\t60 & Euro Struggles For ECB Boost & y & 1 & 0 & 0 \\\\\n",
       "\t61 & Dollar Up, But Moves Small as Focus Remains on Fed Tapering Timeline & y & 1 & 0 & 0 \\\\\n",
       "\t62 & Dollar Up, Euro Awaits Latest ECB Policy Decision & y & 1 & 0 & 0 \\\\\n",
       "\t63 & Dollar Up, Remains Near One-Week High Ahead of ECB Policy Decision & y & 1 & 0 & 0 \\\\\n",
       "\t64 & Euro May Hit Ceiling as ECB Decision Approaches & y & 1 & 0 & 0 \\\\\n",
       "\t65 & Dollar brushes aside jobs report losses & y & 1 & 0 & 0 \\\\\n",
       "\t66 & Dollar Edges Higher, But still Near One-Month Low After Payrolls & y & 1 & 0 & 0 \\\\\n",
       "\t67 & Dollar Up but Near One-Month Low Over Fed Tapering Expectations Delay & y & 1 & 0 & 0 \\\\\n",
       "\t68 & Canadian dollar forecasts turn less bullish as economy stumbles & y & 1 & 0 & 0 \\\\\n",
       "\t69 & Brazil FX helped by solid trade surplus as domestic tensions intensify & y & 0 & 0 & 0 \\\\\n",
       "\t70 & Zloty set to pace FX gains with rate hike back in sight- Reuters poll & y & 1 & 1 & 0 \\\\\n",
       "\t71 & Dollar Down, Near One-Month Low Ahead of US Jobs Report & y & 1 & 0 & 0 \\\\\n",
       "\t72 & Dollar falls to more than 3-week low with payrolls in focus & y & 1 & 1 & 0 \\\\\n",
       "\t73 & Dollar Up, but Near Two-Week Lows as Fed Taper Uncertainty Continues & y & 1 & 0 & 0 \\\\\n",
       "\t74 & Dollar Flat in Europe After Powell's Dovish Tapering Speech & y & 1 & 0 & 0 \\\\\n",
       "\t75 & Dollar Set to Run Out of Steam as Fed Tightening Priced In & y & 1 & 0 & 0 \\\\\n",
       "\t76 & Dollar Up, But Near One-Week Low as COVID-19 Concerns Ease & y & 1 & 0 & 0 \\\\\n",
       "\t77 & Dollar Flat Amid Easing Expectations for Big Reveal at Jackson Hole & y & 1 & 0 & 0 \\\\\n",
       "\t78 & Dollar Up, but Near One-Week Low Over Receding COVID-19 Fears & y & 1 & 0 & 0 \\\\\n",
       "\t79 & Dollar Up, but Moves Small as Focus Firmly on Jackson Hole & y & 1 & 0 & 0 \\\\\n",
       "\t80 & Dollar Up, Remains Near Almost-Ten Month Highs Due to Risk Aversion & y & 1 & 0 & 0 \\\\\n",
       "\t$\\dots$ & $\\dots$ & $\\dots$ & $\\dots$ & $\\dots$ & $\\dots$ \\\\\n",
       "\\end{tabular}\n"
      ],
      "text/plain": [
       "\u001b[1m102×5 DataFrame\u001b[0m\n",
       "\u001b[1m Row \u001b[0m│\u001b[1m Article                           \u001b[0m\u001b[1m Target  \u001b[0m\u001b[1m Model1 \u001b[0m\u001b[1m Model2 \u001b[0m\u001b[1m Model3 \u001b[0m\n",
       "\u001b[1m     \u001b[0m│\u001b[90m String                            \u001b[0m\u001b[90m String? \u001b[0m\u001b[90m Int64  \u001b[0m\u001b[90m Int64  \u001b[0m\u001b[90m Int64  \u001b[0m\n",
       "─────┼────────────────────────────────────────────────────────────────────\n",
       "   1 │ Dollar Near 16-Month High on Rat…  y             1       0       0\n",
       "   2 │ US Dollar Continues to Gain Foll…  y             1       1       0\n",
       "   3 │ Aussie dips below 73 on soft job…  y             1       0       0\n",
       "   4 │ Dollar Up, at One-Month Low Agai…  y             1       0       0\n",
       "   5 │ Pound US Dollar Exchange Rate St…  y             1       0       0\n",
       "   6 │ Pound to Put Squeeze on Bears as…  y             1       0       0\n",
       "   7 │ Hedge funds get smoked on sterli…  y             1       0       0\n",
       "   8 │ Dollar soars to more than 1-year…  y             1       1       0\n",
       "   9 │ Dollar rebounds, sterling slumps…  y             1       0       0\n",
       "  10 │ Zloty seen leading gains as rate…  y             1       1       0\n",
       "  11 │ Rate differentials set to gently…  y             1       0       0\n",
       "  12 │ The Aussie Dollar Dives Followin…  y             1       1       0\n",
       "  13 │ Dollar Up, Yen Down Over Surpris…  y             1       0       0\n",
       "  14 │ Euro Gains After ECB Meeting       y             1       0       0\n",
       "  15 │ Euro Jumps to 1-Month High as EC…  y             1       1       0\n",
       "  16 │ Dollar holds losses to euro afte…  y             1       1       0\n",
       "  17 │ The GBPUSD Rebounds Following Ri…  y             1       0       0\n",
       "  18 │ Dollar steadies after bounce off…  y             1       1       0\n",
       "  19 │ Lira Slumps After Surprise Rate …  y             1       0       0\n",
       "  20 │ Dollar Down, Steadies as Investo…  y             1       0       0\n",
       "  21 │ GBP Slides Following Brexit Trad…  y             1       0       0\n",
       "  22 │ Dollar Down, Set for Second Week…  y             1       0       0\n",
       "  23 │ Dollar Steady After Weak Data Tr…  y             1       0       0\n",
       "  24 │ Bailey Speech Supports GBP         y             1       0       0\n",
       "  25 │ Dollar's five-week winning strea…  y             1       0       0\n",
       "  26 │ Dollar Down, Set to Break Upward…  y             1       0       0\n",
       "  27 │ Dollar Down, but Near Year High …  y             1       0       0\n",
       "  28 │ Dollar hits one-year high as US …  y             1       1       0\n",
       "  29 │ Lira Falls to Record Low as Erdo…  y             1       0       0\n",
       "  30 │ Lira Slumps, U.K. Data Leaves GB…  y             1       0       0\n",
       "  31 │ Dollar Up, Yen down to Three-Yea…  y             1       0       0\n",
       "  32 │ BoE Talk Lifts Sterlin             y             1       0       0\n",
       "  33 │ Dollar Up, but Below One-Year Hi…  y             1       0       0\n",
       "  34 │ Dollar Down, but Near 14-Month H…  y             1       0       0\n",
       "  35 │ Dollar advances on inflation wor…  y             1       0       0\n",
       "  36 │ Dollar Down, But Near Previous W…  y             1       0       0\n",
       "  ⋮  │                 ⋮                     ⋮       ⋮       ⋮       ⋮\n",
       "  68 │ Canadian dollar forecasts turn l…  y             1       0       0\n",
       "  69 │ Brazil FX helped by solid trade …  y             0       0       0\n",
       "  70 │ Zloty set to pace FX gains with …  y             1       1       0\n",
       "  71 │ Dollar Down, Near One-Month Low …  y             1       0       0\n",
       "  72 │ Dollar falls to more than 3-week…  y             1       1       0\n",
       "  73 │ Dollar Up, but Near Two-Week Low…  y             1       0       0\n",
       "  74 │ Dollar Flat in Europe After Powe…  y             1       0       0\n",
       "  75 │ Dollar Set to Run Out of Steam a…  y             1       0       0\n",
       "  76 │ Dollar Up, But Near One-Week Low…  y             1       0       0\n",
       "  77 │ Dollar Flat Amid Easing Expectat…  y             1       0       0\n",
       "  78 │ Dollar Up, but Near One-Week Low…  y             1       0       0\n",
       "  79 │ Dollar Up, but Moves Small as Fo…  y             1       0       0\n",
       "  80 │ Dollar Up, Remains Near Almost-T…  y             1       0       0\n",
       "  81 │ US dollar scales 9-month peak on…  y             1       1       0\n",
       "  82 │ Dollar Up to Nine-Month High Ove…  y             1       0       0\n",
       "  83 │ Dollar Edges Off Highs Ahead of …  y             1       0       0\n",
       "  84 │ Dollar Down, but NZD Up as RBNZ …  y             1       0       0\n",
       "  85 │ Dollar gains for second day on A…  y             1       0       0\n",
       "  86 │ Dollar Gains on Risk Aversion      y             1       0       0\n",
       "  87 │ Kiwi Dollar Slumps on Covid Case   y             1       0       0\n",
       "  88 │ Dollar, Safe-Haven Currencies Up…  y             1       0       0\n",
       "  89 │ US dollar, yen rise after soft C…  y             1       0       0\n",
       "  90 │ Dollar retreats as consumer sent…  y             1       0       0\n",
       "  91 │ Dollar Down, but Near Four-Month…  y             1       0       0\n",
       "  92 │ Dollar Up, Extends Gains as Fed …  y             1       0       0\n",
       "  93 │ Dollar in Demand as Bets on Earl…  y             1       0       0\n",
       "  94 │ Dollar Gains as Early Tapering E…  y             1       0       0\n",
       "  95 │ Dollar Rallies as Strong Jobs Re…  y             1       0       0\n",
       "  96 │ Pound Gains Against Dollar as Bo…  y             1       0       0\n",
       "  97 │ Crown, forint expected to firm a…  y             1       1       0\n",
       "  98 │ Dollar Down, Near Recent Lows Ah…  y             1       0       0\n",
       "  99 │ Dollar Down, Falls Against Yen O…  y             1       0       0\n",
       " 100 │ Dollar Flat, but Bullish Bets Co…  y             1       0       0\n",
       " 101 │ Dollar Down Near One-Month Low A…  y             1       0       0\n",
       " 102 │ Dollar Up but Ends Week Near One…  y             1       0       0\n",
       "\u001b[36m                                                           31 rows omitted\u001b[0m"
      ]
     },
     "execution_count": 399,
     "metadata": {},
     "output_type": "execute_result"
    }
   ],
   "source": [
    "filter(row -> (row[\"Target\"] == \"y\") & (row[\"Model3\"] == 0), data)"
   ]
  },
  {
   "cell_type": "code",
   "execution_count": 388,
   "id": "6cb5df48",
   "metadata": {},
   "outputs": [
    {
     "data": {
      "text/plain": [
       "(Union{Nothing, Float64}[nothing nothing 1.0; nothing nothing 1.0; … ; 1.0 1.0 1.0; 1.0 1.0 1.0], Dict{Vector{String}, Vector{PyObject}}([\"C\", \"P\", \"C\", \"T\", \"C\", \"C\"] => [PyObject Dollar, PyObject Retains, PyObject Strength, PyObject on, PyObject Rising, PyObject Yields], [\"C\", \"P\", \"C\", \"S\"] => [PyObject Dollar, PyObject Retains, PyObject Strength, PyObject [on, [Rising, Yields]]], [\"R\"] => [PyObject [Dollar, Retains, Strength, [on, [Rising, Yields]]]], [\"C\", \"P\", \"C\", \"T\", \"C\"] => [PyObject Dollar, PyObject Retains, PyObject Strength, PyObject on, PyObject [Rising, Yields]]))"
      ]
     },
     "execution_count": 388,
     "metadata": {},
     "output_type": "execute_result"
    }
   ],
   "source": [
    "get_hg_tokens(\"Dollar Retains Strength on Rising Yields\", currencies, predicates)"
   ]
  },
  {
   "cell_type": "code",
   "execution_count": 303,
   "id": "0641cd11",
   "metadata": {},
   "outputs": [
    {
     "data": {
      "text/plain": [
       "PyObject <spacy.lang.en.English object at 0x7f968eb48910>"
      ]
     },
     "execution_count": 303,
     "metadata": {},
     "output_type": "execute_result"
    }
   ],
   "source": [
    "nlp = spacy.load(\"en_core_web_lg\")"
   ]
  },
  {
   "cell_type": "code",
   "execution_count": 249,
   "id": "eb0121ab",
   "metadata": {},
   "outputs": [
    {
     "data": {
      "text/plain": [
       "PyObject Dollar climbs as US inflation surge fuels rate hike speculation"
      ]
     },
     "execution_count": 249,
     "metadata": {},
     "output_type": "execute_result"
    }
   ],
   "source": [
    "doc = nlp(\"Dollar climbs as US inflation surge fuels rate hike speculation\")"
   ]
  },
  {
   "cell_type": "code",
   "execution_count": null,
   "id": "b907f59f",
   "metadata": {},
   "outputs": [],
   "source": [
    "doc[7].pos_"
   ]
  },
  {
   "cell_type": "code",
   "execution_count": null,
   "id": "84952cd1",
   "metadata": {},
   "outputs": [],
   "source": []
  },
  {
   "cell_type": "code",
   "execution_count": null,
   "id": "f9dff243",
   "metadata": {},
   "outputs": [],
   "source": [
    "graphbrain = pyimport(\"graphbrain.parsers\")"
   ]
  },
  {
   "cell_type": "code",
   "execution_count": null,
   "id": "efbd480e",
   "metadata": {},
   "outputs": [],
   "source": [
    "parser = graphbrain.create_parser(lang=\"en\")"
   ]
  },
  {
   "cell_type": "code",
   "execution_count": null,
   "id": "8806543c",
   "metadata": {},
   "outputs": [],
   "source": [
    "text = \"Dollar climbs as inflation builds case for higher rates\""
   ]
  },
  {
   "cell_type": "code",
   "execution_count": null,
   "id": "59e74be9",
   "metadata": {},
   "outputs": [],
   "source": [
    "parses = parser.parse(text)\n",
    "for parse in parses\n",
    "    println(parse)\n",
    "    edge = parse[\"main_edge\"]\n",
    "    print(edge)\n",
    "    print(edge.to_str())\n",
    "end"
   ]
  }
 ],
 "metadata": {
  "kernelspec": {
   "display_name": "Julia 1.6.1",
   "language": "julia",
   "name": "julia-1.6"
  },
  "language_info": {
   "file_extension": ".jl",
   "mimetype": "application/julia",
   "name": "julia",
   "version": "1.6.1"
  }
 },
 "nbformat": 4,
 "nbformat_minor": 5
}
